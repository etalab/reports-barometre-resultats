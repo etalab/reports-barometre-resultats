{
 "cells": [
  {
   "cell_type": "markdown",
   "id": "settled-serial",
   "metadata": {
    "papermill": {
     "duration": 0.028123,
     "end_time": "2022-01-01T01:06:51.963765",
     "exception": false,
     "start_time": "2022-01-01T01:06:51.935642",
     "status": "completed"
    },
    "tags": []
   },
   "source": [
    "# Baromètre des résultats - PDF reports"
   ]
  },
  {
   "cell_type": "markdown",
   "id": "dedicated-brunswick",
   "metadata": {
    "papermill": {
     "duration": 0.025878,
     "end_time": "2022-01-01T01:06:52.016722",
     "exception": false,
     "start_time": "2022-01-01T01:06:51.990844",
     "status": "completed"
    },
    "tags": []
   },
   "source": [
    "## Imports"
   ]
  },
  {
   "cell_type": "code",
   "execution_count": 1,
   "id": "third-browser",
   "metadata": {
    "execution": {
     "iopub.execute_input": "2022-01-01T01:06:52.077002Z",
     "iopub.status.busy": "2022-01-01T01:06:52.076525Z",
     "iopub.status.idle": "2022-01-01T01:06:52.432448Z",
     "shell.execute_reply": "2022-01-01T01:06:52.431832Z"
    },
    "papermill": {
     "duration": 0.389655,
     "end_time": "2022-01-01T01:06:52.432603",
     "exception": false,
     "start_time": "2022-01-01T01:06:52.042948",
     "status": "completed"
    },
    "tags": []
   },
   "outputs": [],
   "source": [
    "import json\n",
    "import os\n",
    "import datetime\n",
    "import re\n",
    "\n",
    "import requests\n",
    "import pandas as pd\n",
    "\n",
    "import plotly.graph_objects as go\n",
    "import plotly.express as px\n",
    "\n",
    "from fpdf import FPDF"
   ]
  },
  {
   "cell_type": "markdown",
   "id": "vertical-township",
   "metadata": {
    "papermill": {
     "duration": 0.026646,
     "end_time": "2022-01-01T01:06:52.486647",
     "exception": false,
     "start_time": "2022-01-01T01:06:52.460001",
     "status": "completed"
    },
    "tags": []
   },
   "source": [
    "## Parameters"
   ]
  },
  {
   "cell_type": "code",
   "execution_count": 2,
   "id": "grand-seller",
   "metadata": {
    "execution": {
     "iopub.execute_input": "2022-01-01T01:06:52.545660Z",
     "iopub.status.busy": "2022-01-01T01:06:52.545140Z",
     "iopub.status.idle": "2022-01-01T01:06:52.547202Z",
     "shell.execute_reply": "2022-01-01T01:06:52.546811Z"
    },
    "papermill": {
     "duration": 0.034465,
     "end_time": "2022-01-01T01:06:52.547309",
     "exception": false,
     "start_time": "2022-01-01T01:06:52.512844",
     "status": "completed"
    },
    "tags": []
   },
   "outputs": [],
   "source": [
    "base_folder_path = 'https://raw.githubusercontent.com/etalab/barometre-resultats/master/frontend/static/'\n",
    "\n",
    "ovq_data_folder_path = os.path.join(base_folder_path, 'datasets', 'ovq-data')\n",
    "\n",
    "ovq_synthese_data_path = os.path.join(ovq_data_folder_path, 'prod', 'par_territoire', 'territoire-departemental-global-light.json')\n",
    "ovq_detail_data_folder_path = os.path.join(ovq_data_folder_path, 'prod', 'par_thematique')\n",
    "ovq_structure_cible_path = os.path.join(ovq_data_folder_path, 'prod', 'structure', 'structure-cible.json')\n",
    "ovq_structure_families_path = os.path.join(ovq_data_folder_path, 'prod', 'structure', 'structure-families.json')\n",
    "\n",
    "dep_taxo_url = os.path.join(base_folder_path, 'datasets', 'prod', 'taxonomies', 'departements.json')\n",
    "reg_taxo_url = os.path.join(base_folder_path, 'datasets', 'prod', 'taxonomies', 'regions.json')\n",
    "\n",
    "img_dir_path = './img/'\n",
    "reports_dir_path = './reports/'"
   ]
  },
  {
   "cell_type": "markdown",
   "id": "joint-virtue",
   "metadata": {
    "papermill": {
     "duration": 0.026153,
     "end_time": "2022-01-01T01:06:52.600826",
     "exception": false,
     "start_time": "2022-01-01T01:06:52.574673",
     "status": "completed"
    },
    "tags": []
   },
   "source": [
    "## Functions"
   ]
  },
  {
   "cell_type": "code",
   "execution_count": 3,
   "id": "premier-fleet",
   "metadata": {
    "execution": {
     "iopub.execute_input": "2022-01-01T01:06:52.657404Z",
     "iopub.status.busy": "2022-01-01T01:06:52.656904Z",
     "iopub.status.idle": "2022-01-01T01:06:52.658906Z",
     "shell.execute_reply": "2022-01-01T01:06:52.658500Z"
    },
    "papermill": {
     "duration": 0.032022,
     "end_time": "2022-01-01T01:06:52.659007",
     "exception": false,
     "start_time": "2022-01-01T01:06:52.626985",
     "status": "completed"
    },
    "tags": []
   },
   "outputs": [],
   "source": [
    "def mkdir_ifnotexist(path) :\n",
    "    if not os.path.isdir(path) :\n",
    "        os.mkdir(path)"
   ]
  },
  {
   "cell_type": "code",
   "execution_count": 4,
   "id": "effective-combination",
   "metadata": {
    "execution": {
     "iopub.execute_input": "2022-01-01T01:06:52.717641Z",
     "iopub.status.busy": "2022-01-01T01:06:52.717137Z",
     "iopub.status.idle": "2022-01-01T01:06:52.946525Z",
     "shell.execute_reply": "2022-01-01T01:06:52.946091Z"
    },
    "papermill": {
     "duration": 0.261469,
     "end_time": "2022-01-01T01:06:52.946652",
     "exception": false,
     "start_time": "2022-01-01T01:06:52.685183",
     "status": "completed"
    },
    "tags": []
   },
   "outputs": [],
   "source": [
    "#Importing taxonomies data to make a function to get all infos on a given department\n",
    "r = requests.get(dep_taxo_url)\n",
    "dep_dict_list = json.loads(r.content)\n",
    "\n",
    "r = requests.get(reg_taxo_url)\n",
    "reg_dict_list = json.loads(r.content)\n",
    "\n",
    "def get_dep_infos(dep, dep_dict_list=dep_dict_list, reg_dict_list=reg_dict_list) :\n",
    "        \n",
    "    dep_dict = [dict_ for dict_ in dep_dict_list if dict_['dep'] == dep][0]\n",
    "    dep_name = dep_dict['libelle']\n",
    "    reg = dep_dict['reg']\n",
    "    \n",
    "    reg_dict = [dict_ for dict_ in reg_dict_list if dict_['reg'] == reg][0]\n",
    "    reg_name = reg_dict['libelle']\n",
    "    \n",
    "    res = dict(dep=dep,\n",
    "               dep_name=dep_name,\n",
    "               reg=reg,\n",
    "               reg_name=reg_name\n",
    "              )\n",
    "    \n",
    "    return res"
   ]
  },
  {
   "cell_type": "code",
   "execution_count": 5,
   "id": "minimal-gravity",
   "metadata": {
    "execution": {
     "iopub.execute_input": "2022-01-01T01:06:53.003585Z",
     "iopub.status.busy": "2022-01-01T01:06:53.003112Z",
     "iopub.status.idle": "2022-01-01T01:06:53.005363Z",
     "shell.execute_reply": "2022-01-01T01:06:53.004965Z"
    },
    "papermill": {
     "duration": 0.032162,
     "end_time": "2022-01-01T01:06:53.005466",
     "exception": false,
     "start_time": "2022-01-01T01:06:52.973304",
     "status": "completed"
    },
    "tags": []
   },
   "outputs": [],
   "source": [
    "def get_dep_synthese_data(dep, ovq_synthese_data) :\n",
    "    for dep_dict in ovq_synthese_data :\n",
    "        if dep_dict['dep'] == dep :\n",
    "            res = dep_dict\n",
    "            break\n",
    "    return res"
   ]
  },
  {
   "cell_type": "code",
   "execution_count": 6,
   "id": "peaceful-motor",
   "metadata": {
    "execution": {
     "iopub.execute_input": "2022-01-01T01:06:53.061702Z",
     "iopub.status.busy": "2022-01-01T01:06:53.061207Z",
     "iopub.status.idle": "2022-01-01T01:06:53.063563Z",
     "shell.execute_reply": "2022-01-01T01:06:53.063188Z"
    },
    "papermill": {
     "duration": 0.032095,
     "end_time": "2022-01-01T01:06:53.063662",
     "exception": false,
     "start_time": "2022-01-01T01:06:53.031567",
     "status": "completed"
    },
    "tags": []
   },
   "outputs": [],
   "source": [
    "def get_dep_indicateur_synthese_data(dep, id_indicateur, ovq_synthese_data) :\n",
    "    dep_dict = get_dep_synthese_data(dep, ovq_synthese_data)\n",
    "    \n",
    "    for ovq_dict in dep_dict['ovq'] :\n",
    "        for ind_dict in ovq_dict['indicateurs'] :\n",
    "            if id_indicateur in ind_dict.keys() :\n",
    "                res = ind_dict[id_indicateur][0]\n",
    "                break\n",
    "    return res"
   ]
  },
  {
   "cell_type": "code",
   "execution_count": 7,
   "id": "criminal-margin",
   "metadata": {
    "execution": {
     "iopub.execute_input": "2022-01-01T01:06:53.119727Z",
     "iopub.status.busy": "2022-01-01T01:06:53.119261Z",
     "iopub.status.idle": "2022-01-01T01:06:53.121222Z",
     "shell.execute_reply": "2022-01-01T01:06:53.120823Z"
    },
    "papermill": {
     "duration": 0.031764,
     "end_time": "2022-01-01T01:06:53.121342",
     "exception": false,
     "start_time": "2022-01-01T01:06:53.089578",
     "status": "completed"
    },
    "tags": []
   },
   "outputs": [],
   "source": [
    "def get_indicateur_structure_cible(id_indicateur, structure_cible_data) :\n",
    "    for ovq_dict in structure_cible_data :\n",
    "        for ind_dict in ovq_dict['indicateurs'] :\n",
    "            if ind_dict['id_indicateur_fr'] == id_indicateur :\n",
    "                res = ind_dict\n",
    "                break\n",
    "    return res"
   ]
  },
  {
   "cell_type": "code",
   "execution_count": 8,
   "id": "found-directory",
   "metadata": {
    "execution": {
     "iopub.execute_input": "2022-01-01T01:06:53.177889Z",
     "iopub.status.busy": "2022-01-01T01:06:53.177409Z",
     "iopub.status.idle": "2022-01-01T01:06:53.179709Z",
     "shell.execute_reply": "2022-01-01T01:06:53.179332Z"
    },
    "papermill": {
     "duration": 0.032382,
     "end_time": "2022-01-01T01:06:53.179811",
     "exception": false,
     "start_time": "2022-01-01T01:06:53.147429",
     "status": "completed"
    },
    "tags": []
   },
   "outputs": [],
   "source": [
    "def get_id_ovq_from_id_indicateur(id_indicateur, structure_cible_data) :\n",
    "    for ovq_dict in structure_cible_data :\n",
    "        for ind_dict in ovq_dict['indicateurs'] :\n",
    "            if ind_dict['id_indicateur_fr'] == id_indicateur :\n",
    "                id_ovq = ovq_dict['id_ovq']\n",
    "                break\n",
    "    return id_ovq"
   ]
  },
  {
   "cell_type": "code",
   "execution_count": 9,
   "id": "detailed-theme",
   "metadata": {
    "execution": {
     "iopub.execute_input": "2022-01-01T01:06:53.235867Z",
     "iopub.status.busy": "2022-01-01T01:06:53.235404Z",
     "iopub.status.idle": "2022-01-01T01:06:53.237000Z",
     "shell.execute_reply": "2022-01-01T01:06:53.237457Z"
    },
    "papermill": {
     "duration": 0.031841,
     "end_time": "2022-01-01T01:06:53.237578",
     "exception": false,
     "start_time": "2022-01-01T01:06:53.205737",
     "status": "completed"
    },
    "tags": []
   },
   "outputs": [],
   "source": [
    "def get_ovq_structure_cible(id_ovq, structure_cible_data) :\n",
    "    for ovq_dict in structure_cible_data :\n",
    "        if ovq_dict['id_ovq'] == id_ovq :\n",
    "            res = ovq_dict\n",
    "            break\n",
    "    return res"
   ]
  },
  {
   "cell_type": "code",
   "execution_count": 10,
   "id": "contemporary-professor",
   "metadata": {
    "execution": {
     "iopub.execute_input": "2022-01-01T01:06:53.296325Z",
     "iopub.status.busy": "2022-01-01T01:06:53.295843Z",
     "iopub.status.idle": "2022-01-01T01:06:53.297478Z",
     "shell.execute_reply": "2022-01-01T01:06:53.297881Z"
    },
    "papermill": {
     "duration": 0.034408,
     "end_time": "2022-01-01T01:06:53.298002",
     "exception": false,
     "start_time": "2022-01-01T01:06:53.263594",
     "status": "completed"
    },
    "tags": []
   },
   "outputs": [],
   "source": [
    "def get_detail_data(id_indicateur, dep, level, structure_cible_data, base_folder_path) :\n",
    "    #level can be departemental, regional or national\n",
    "    \n",
    "    id_ovq = get_id_ovq_from_id_indicateur(id_indicateur, structure_cible_data)\n",
    "    ovq_struc = get_ovq_structure_cible(id_ovq, structure_cible_data)\n",
    "    \n",
    "    for source_dict in ovq_struc['odm_sources_ids'] :\n",
    "        if source_dict['odm_source_level'] == level :\n",
    "            source_url = source_dict['odm_source_file']\n",
    "            \n",
    "    full_source_url = os.path.join(base_folder_path, source_url[1:])\n",
    "    \n",
    "    r = requests.get(full_source_url)\n",
    "    data = json.loads(r.content)\n",
    "    \n",
    "    if level == 'departemental' :\n",
    "        for dep_dict in data :\n",
    "            if dep_dict['dep'] == dep :\n",
    "                res = dep_dict[id_indicateur]\n",
    "                break\n",
    "                \n",
    "    elif level == 'regional' :\n",
    "        reg = get_dep_infos(dep)['reg']\n",
    "        for reg_dict in data :\n",
    "            if reg_dict['reg'] == reg :\n",
    "                res = reg_dict[id_indicateur]\n",
    "                break\n",
    "                \n",
    "    elif level == 'national' :\n",
    "        res = data[0][id_indicateur]\n",
    "    \n",
    "    return res"
   ]
  },
  {
   "cell_type": "code",
   "execution_count": 11,
   "id": "instrumental-monaco",
   "metadata": {
    "execution": {
     "iopub.execute_input": "2022-01-01T01:06:53.357424Z",
     "iopub.status.busy": "2022-01-01T01:06:53.356921Z",
     "iopub.status.idle": "2022-01-01T01:06:53.358945Z",
     "shell.execute_reply": "2022-01-01T01:06:53.358560Z"
    },
    "papermill": {
     "duration": 0.035048,
     "end_time": "2022-01-01T01:06:53.359044",
     "exception": false,
     "start_time": "2022-01-01T01:06:53.323996",
     "status": "completed"
    },
    "tags": []
   },
   "outputs": [],
   "source": [
    "def make_pct_bullet_chart(pct, bar_color='#3D49A5', bg_color='#BBBFDF') :\n",
    "    \n",
    "    if pct < 0 : #To improve if inverted bullet chart is possible with plotly\n",
    "        bar_color = '#ED782F'\n",
    "        bg_color = '#ED782F'\n",
    "    \n",
    "    rounded_pct = round(pct)\n",
    "    \n",
    "    fig = go.Figure(go.Indicator(\n",
    "        mode = \"gauge\",\n",
    "        gauge = {'shape': \"bullet\", 'axis': {'visible':False, 'range': [0, 100]}, 'bgcolor':bg_color, 'bordercolor':'white', 'bar':{'thickness':1, 'color':bar_color}},\n",
    "        value = rounded_pct,\n",
    "        number = {'suffix':'%'},\n",
    "        domain = {'x': [0, 1], 'y': [0, 1]}))\n",
    "    \n",
    "    fig.update_layout(height = 400, width=2400, paper_bgcolor='rgba(0,0,0,0)', plot_bgcolor='rgba(0,0,0,0)')\n",
    "\n",
    "    fig.add_annotation(dict(font=dict(color='white',size=100),\n",
    "                                            x=0.05,\n",
    "                                            y=0.5,\n",
    "                                            showarrow=False,\n",
    "                                            text=str(rounded_pct)+'%',\n",
    "                                            textangle=0,\n",
    "                                            xanchor='left',\n",
    "                                            xref=\"paper\",\n",
    "                                            yref=\"paper\"))\n",
    "\n",
    "    return fig"
   ]
  },
  {
   "cell_type": "code",
   "execution_count": 12,
   "id": "fatal-uganda",
   "metadata": {
    "execution": {
     "iopub.execute_input": "2022-01-01T01:06:53.415716Z",
     "iopub.status.busy": "2022-01-01T01:06:53.415254Z",
     "iopub.status.idle": "2022-01-01T01:06:53.417173Z",
     "shell.execute_reply": "2022-01-01T01:06:53.417599Z"
    },
    "papermill": {
     "duration": 0.032678,
     "end_time": "2022-01-01T01:06:53.417718",
     "exception": false,
     "start_time": "2022-01-01T01:06:53.385040",
     "status": "completed"
    },
    "tags": []
   },
   "outputs": [],
   "source": [
    "months_fr_dict = {\n",
    "    '01':'janvier',\n",
    "    '02':'février',\n",
    "    '03':'mars',\n",
    "    '04':'avril',\n",
    "    '05':'mai',\n",
    "    '06':'juin',\n",
    "    '07':'juillet',\n",
    "    '08':'août',\n",
    "    '09':'septembre',\n",
    "    '10':'octobre',\n",
    "    '11':'novembre',\n",
    "    '12':'décembre'\n",
    "}\n",
    "\n",
    "# yearmonth should be in '2020-01' format\n",
    "\n",
    "def yearmonth_to_fr(yearmonth) :\n",
    "    month = yearmonth[-2:]\n",
    "    year = yearmonth[:4]\n",
    "    \n",
    "    return months_fr_dict[month] + ' ' + year"
   ]
  },
  {
   "cell_type": "code",
   "execution_count": 13,
   "id": "offensive-pasta",
   "metadata": {
    "execution": {
     "iopub.execute_input": "2022-01-01T01:06:53.472821Z",
     "iopub.status.busy": "2022-01-01T01:06:53.472366Z",
     "iopub.status.idle": "2022-01-01T01:06:53.474336Z",
     "shell.execute_reply": "2022-01-01T01:06:53.474699Z"
    },
    "papermill": {
     "duration": 0.03133,
     "end_time": "2022-01-01T01:06:53.474816",
     "exception": false,
     "start_time": "2022-01-01T01:06:53.443486",
     "status": "completed"
    },
    "tags": []
   },
   "outputs": [],
   "source": [
    "def reformat_number(number) :\n",
    "    return '{:,}'.format(number).replace(',',' ').replace('.',',')"
   ]
  },
  {
   "cell_type": "code",
   "execution_count": 14,
   "id": "historic-amazon",
   "metadata": {
    "execution": {
     "iopub.execute_input": "2022-01-01T01:06:53.529337Z",
     "iopub.status.busy": "2022-01-01T01:06:53.528832Z",
     "iopub.status.idle": "2022-01-01T01:06:53.538993Z",
     "shell.execute_reply": "2022-01-01T01:06:53.538614Z"
    },
    "papermill": {
     "duration": 0.038173,
     "end_time": "2022-01-01T01:06:53.539095",
     "exception": false,
     "start_time": "2022-01-01T01:06:53.500922",
     "status": "completed"
    },
    "tags": []
   },
   "outputs": [],
   "source": [
    "def make_detail_chart(df, chart_type) :\n",
    "    \n",
    "    text = ['' for i in range(len(df)-1)] + [reformat_number(list(df.sort_values('date')['value'])[-1])]\n",
    "    \n",
    "    if chart_type == 'histo' :\n",
    "        fig = px.bar(df, x='date', y='value',\n",
    "                         labels={'date':'', 'value':''}, \n",
    "                         height=400,\n",
    "                         width=900,\n",
    "                         color=None,\n",
    "                         orientation='v',\n",
    "                         text=text,\n",
    "                         title=None)\n",
    "        fig.update_layout(showlegend=False, uniformtext_minsize=8, uniformtext_mode='hide')\n",
    "        fig.layout['xaxis'].showgrid = False\n",
    "        fig.update_traces(marker_color='#00AC8C', textposition='outside', cliponaxis=False)\n",
    "        fig.update_xaxes(tickangle=-45,\n",
    "                         tickfont=dict(size=8),\n",
    "                         tickmode = 'array',\n",
    "                         tickvals = list(df['date']),\n",
    "                         ticktext= list(df['date_tick']))\n",
    "                        \n",
    "        return fig\n",
    "    \n",
    "    elif chart_type == 'line' :\n",
    "        fig = px.line(df, x='date', y='value',\n",
    "                         labels={'date':'', 'value':''}, \n",
    "                         height=400,\n",
    "                         width=750,\n",
    "                         color=None,\n",
    "                         orientation='v',\n",
    "                         text=text,\n",
    "                         title=None)\n",
    "        fig.update_layout(showlegend=False)\n",
    "        fig.layout['xaxis'].showgrid = False\n",
    "        fig.update_traces(marker=dict(size=12, line=dict(width=2, color='white')), marker_color='#00AC8C', line_color='#00AC8C', line_width=6, textposition='top center', cliponaxis=False)\n",
    "        fig.update_xaxes(tickangle=-45,\n",
    "                         tickfont=dict(size=8),\n",
    "                         tickmode = 'array',\n",
    "                         tickvals = list(df['date']),\n",
    "                         ticktext= list(df['date_tick']))\n",
    "        fig.data[0].update(mode='markers+lines+text')\n",
    "\n",
    "        return fig\n",
    "    \n",
    "    else :\n",
    "        print('Unknown chart type.')\n",
    "        return None"
   ]
  },
  {
   "cell_type": "code",
   "execution_count": 15,
   "id": "lyric-wright",
   "metadata": {
    "execution": {
     "iopub.execute_input": "2022-01-01T01:06:53.595047Z",
     "iopub.status.busy": "2022-01-01T01:06:53.594584Z",
     "iopub.status.idle": "2022-01-01T01:06:53.596157Z",
     "shell.execute_reply": "2022-01-01T01:06:53.596506Z"
    },
    "papermill": {
     "duration": 0.031549,
     "end_time": "2022-01-01T01:06:53.596629",
     "exception": false,
     "start_time": "2022-01-01T01:06:53.565080",
     "status": "completed"
    },
    "tags": []
   },
   "outputs": [],
   "source": [
    "def remove_html_tags(raw_html):\n",
    "    tag_regex = re.compile('<.*?>')\n",
    "    return re.sub(tag_regex, '', raw_html)"
   ]
  },
  {
   "cell_type": "code",
   "execution_count": 16,
   "id": "african-upper",
   "metadata": {
    "execution": {
     "iopub.execute_input": "2022-01-01T01:06:53.654964Z",
     "iopub.status.busy": "2022-01-01T01:06:53.654494Z",
     "iopub.status.idle": "2022-01-01T01:06:53.656006Z",
     "shell.execute_reply": "2022-01-01T01:06:53.656506Z"
    },
    "papermill": {
     "duration": 0.034007,
     "end_time": "2022-01-01T01:06:53.656620",
     "exception": false,
     "start_time": "2022-01-01T01:06:53.622613",
     "status": "completed"
    },
    "tags": []
   },
   "outputs": [],
   "source": [
    "def clean_description(text) :\n",
    "    \n",
    "    def drop_border_spaces(string) :\n",
    "        while string.startswith(' ') :\n",
    "            string = string[1:]\n",
    "        while string.endswith(' ') :\n",
    "            string = string[:-1]\n",
    "        return string\n",
    "    \n",
    "    text_lines = text.splitlines()\n",
    "    text_lines = [line.replace('<li>', '-') for line in text_lines]\n",
    "    text_lines = [remove_html_tags(line) for line in text_lines]\n",
    "    text_lines = [drop_border_spaces(line) for line in text_lines]\n",
    "    text_lines = [line for line in text_lines if line != '']\n",
    "    \n",
    "    #Managing lists\n",
    "    corr_text_lines = [text_lines[0]]\n",
    "    for i in range(1, len(text_lines)) :\n",
    "        if text_lines[i-1] == '-' :\n",
    "            new_line = '- ' + text_lines[i]\n",
    "        else :\n",
    "            new_line = text_lines[i]\n",
    "        corr_text_lines += [new_line]\n",
    "        \n",
    "    corr_text_lines = [line for line in corr_text_lines if line != '-']\n",
    "    \n",
    "    #Joining lines by linebreaks\n",
    "    corr_text = '\\n'.join(corr_text_lines)\n",
    "    \n",
    "    return corr_text"
   ]
  },
  {
   "cell_type": "code",
   "execution_count": 17,
   "id": "experimental-ivory",
   "metadata": {
    "execution": {
     "iopub.execute_input": "2022-01-01T01:06:53.712140Z",
     "iopub.status.busy": "2022-01-01T01:06:53.711681Z",
     "iopub.status.idle": "2022-01-01T01:06:53.713425Z",
     "shell.execute_reply": "2022-01-01T01:06:53.713823Z"
    },
    "papermill": {
     "duration": 0.03154,
     "end_time": "2022-01-01T01:06:53.713935",
     "exception": false,
     "start_time": "2022-01-01T01:06:53.682395",
     "status": "completed"
    },
    "tags": []
   },
   "outputs": [],
   "source": [
    "#Insert here any new character that would generate Encoding errors when exporting with FPDF\n",
    "def drop_encoding_issues(text) :\n",
    "    return text.replace('’', \"'\").replace('\\u20ac',' euros').replace('œ','oe').replace('…','...').replace('–','-')"
   ]
  },
  {
   "cell_type": "markdown",
   "id": "mature-variance",
   "metadata": {
    "papermill": {
     "duration": 0.026011,
     "end_time": "2022-01-01T01:06:53.766163",
     "exception": false,
     "start_time": "2022-01-01T01:06:53.740152",
     "status": "completed"
    },
    "tags": []
   },
   "source": [
    "## Get data and build parameters out of it"
   ]
  },
  {
   "cell_type": "code",
   "execution_count": 18,
   "id": "center-platform",
   "metadata": {
    "execution": {
     "iopub.execute_input": "2022-01-01T01:06:53.825076Z",
     "iopub.status.busy": "2022-01-01T01:06:53.824594Z",
     "iopub.status.idle": "2022-01-01T01:06:54.092092Z",
     "shell.execute_reply": "2022-01-01T01:06:54.092475Z"
    },
    "papermill": {
     "duration": 0.300343,
     "end_time": "2022-01-01T01:06:54.092639",
     "exception": false,
     "start_time": "2022-01-01T01:06:53.792296",
     "status": "completed"
    },
    "tags": []
   },
   "outputs": [],
   "source": [
    "#Loading OVQ synthese data\n",
    "r = requests.get(ovq_synthese_data_path)\n",
    "ovq_synthese_data = json.loads(r.content)"
   ]
  },
  {
   "cell_type": "code",
   "execution_count": 19,
   "id": "aboriginal-roman",
   "metadata": {
    "execution": {
     "iopub.execute_input": "2022-01-01T01:06:54.152325Z",
     "iopub.status.busy": "2022-01-01T01:06:54.151844Z",
     "iopub.status.idle": "2022-01-01T01:06:54.153534Z",
     "shell.execute_reply": "2022-01-01T01:06:54.153904Z"
    },
    "papermill": {
     "duration": 0.032976,
     "end_time": "2022-01-01T01:06:54.154036",
     "exception": false,
     "start_time": "2022-01-01T01:06:54.121060",
     "status": "completed"
    },
    "tags": []
   },
   "outputs": [
    {
     "name": "stdout",
     "output_type": "stream",
     "text": [
      "101\n"
     ]
    }
   ],
   "source": [
    "#Departements list\n",
    "dep_list = sorted(list(set([dep_dict['dep'] for dep_dict in ovq_synthese_data])))\n",
    "print(len(dep_list))"
   ]
  },
  {
   "cell_type": "code",
   "execution_count": 20,
   "id": "photographic-serial",
   "metadata": {
    "execution": {
     "iopub.execute_input": "2022-01-01T01:06:54.215222Z",
     "iopub.status.busy": "2022-01-01T01:06:54.214763Z",
     "iopub.status.idle": "2022-01-01T01:06:54.216283Z",
     "shell.execute_reply": "2022-01-01T01:06:54.216721Z"
    },
    "papermill": {
     "duration": 0.036234,
     "end_time": "2022-01-01T01:06:54.216840",
     "exception": false,
     "start_time": "2022-01-01T01:06:54.180606",
     "status": "completed"
    },
    "tags": []
   },
   "outputs": [
    {
     "name": "stdout",
     "output_type": "stream",
     "text": [
      "57\n"
     ]
    }
   ],
   "source": [
    "#Indicateurs list\n",
    "id_indicateur_list = []\n",
    "for dep_dict in ovq_synthese_data :\n",
    "    for ovq_dict in dep_dict['ovq'] :\n",
    "        for ind_dict in ovq_dict['indicateurs'] :\n",
    "            id_indicateur_list += list(ind_dict.keys())\n",
    "            \n",
    "id_indicateur_list = list(set(id_indicateur_list))\n",
    "print(len(id_indicateur_list))"
   ]
  },
  {
   "cell_type": "code",
   "execution_count": 21,
   "id": "joined-calibration",
   "metadata": {
    "execution": {
     "iopub.execute_input": "2022-01-01T01:06:54.276532Z",
     "iopub.status.busy": "2022-01-01T01:06:54.276079Z",
     "iopub.status.idle": "2022-01-01T01:06:54.511658Z",
     "shell.execute_reply": "2022-01-01T01:06:54.510682Z"
    },
    "papermill": {
     "duration": 0.268117,
     "end_time": "2022-01-01T01:06:54.511792",
     "exception": false,
     "start_time": "2022-01-01T01:06:54.243675",
     "status": "completed"
    },
    "tags": []
   },
   "outputs": [],
   "source": [
    "#Loading structure data\n",
    "\n",
    "r = requests.get(ovq_structure_cible_path)\n",
    "structure_cible_data = json.loads(r.content)\n",
    "\n",
    "r = requests.get(ovq_structure_families_path)\n",
    "structure_families_data = json.loads(r.content)"
   ]
  },
  {
   "cell_type": "markdown",
   "id": "worth-death",
   "metadata": {
    "papermill": {
     "duration": 0.026922,
     "end_time": "2022-01-01T01:06:54.565576",
     "exception": false,
     "start_time": "2022-01-01T01:06:54.538654",
     "status": "completed"
    },
    "tags": []
   },
   "source": [
    "## Making the graphs"
   ]
  },
  {
   "cell_type": "code",
   "execution_count": 22,
   "id": "opened-bidder",
   "metadata": {
    "execution": {
     "iopub.execute_input": "2022-01-01T01:06:54.623726Z",
     "iopub.status.busy": "2022-01-01T01:06:54.623245Z",
     "iopub.status.idle": "2022-01-01T01:06:54.624794Z",
     "shell.execute_reply": "2022-01-01T01:06:54.625235Z"
    },
    "papermill": {
     "duration": 0.032803,
     "end_time": "2022-01-01T01:06:54.625385",
     "exception": false,
     "start_time": "2022-01-01T01:06:54.592582",
     "status": "completed"
    },
    "tags": []
   },
   "outputs": [],
   "source": [
    "mkdir_ifnotexist(os.path.join(img_dir_path, 'graphs'))"
   ]
  },
  {
   "cell_type": "markdown",
   "id": "distinguished-antenna",
   "metadata": {
    "papermill": {
     "duration": 0.02651,
     "end_time": "2022-01-01T01:06:54.678408",
     "exception": false,
     "start_time": "2022-01-01T01:06:54.651898",
     "status": "completed"
    },
    "tags": []
   },
   "source": [
    "### Synthese gauges"
   ]
  },
  {
   "cell_type": "code",
   "execution_count": 23,
   "id": "crucial-trustee",
   "metadata": {
    "execution": {
     "iopub.execute_input": "2022-01-01T01:06:54.739423Z",
     "iopub.status.busy": "2022-01-01T01:06:54.738952Z",
     "iopub.status.idle": "2022-01-01T01:09:19.744519Z",
     "shell.execute_reply": "2022-01-01T01:09:19.744921Z"
    },
    "papermill": {
     "duration": 145.037547,
     "end_time": "2022-01-01T01:09:19.745068",
     "exception": false,
     "start_time": "2022-01-01T01:06:54.707521",
     "status": "completed"
    },
    "tags": []
   },
   "outputs": [
    {
     "name": "stdout",
     "output_type": "stream",
     "text": [
      "CPU times: user 35.7 s, sys: 1.5 s, total: 37.2 s\n",
      "Wall time: 2min 24s\n"
     ]
    }
   ],
   "source": [
    "%%time\n",
    "for dep in dep_list :\n",
    "    for id_indicateur in id_indicateur_list :\n",
    "        data = get_dep_indicateur_synthese_data(dep, id_indicateur, ovq_synthese_data)\n",
    "        pct = data['target_percentage']\n",
    "        \n",
    "        if pct is not None :\n",
    "            fig = make_pct_bullet_chart(pct)\n",
    "\n",
    "            if fig is not None :\n",
    "                img_path = os.path.join(img_dir_path, 'graphs', 'bullet_chart-synthese-target_percentage-{}-dep_{}.png'.format(id_indicateur, dep))\n",
    "                fig.write_image(img_path)"
   ]
  },
  {
   "cell_type": "markdown",
   "id": "romantic-prisoner",
   "metadata": {
    "papermill": {
     "duration": 0.027208,
     "end_time": "2022-01-01T01:09:19.799691",
     "exception": false,
     "start_time": "2022-01-01T01:09:19.772483",
     "status": "completed"
    },
    "tags": []
   },
   "source": [
    "### Detail graphs"
   ]
  },
  {
   "cell_type": "code",
   "execution_count": 24,
   "id": "pointed-harris",
   "metadata": {
    "execution": {
     "iopub.execute_input": "2022-01-01T01:09:19.865285Z",
     "iopub.status.busy": "2022-01-01T01:09:19.864766Z",
     "iopub.status.idle": "2022-01-01T01:24:21.887986Z",
     "shell.execute_reply": "2022-01-01T01:24:21.887574Z"
    },
    "papermill": {
     "duration": 902.061202,
     "end_time": "2022-01-01T01:24:21.888113",
     "exception": false,
     "start_time": "2022-01-01T01:09:19.826911",
     "status": "completed"
    },
    "tags": []
   },
   "outputs": [
    {
     "name": "stdout",
     "output_type": "stream",
     "text": [
      "2022-01-01 01:09:33.607293 - Dep 01 done.\n"
     ]
    },
    {
     "name": "stdout",
     "output_type": "stream",
     "text": [
      "2022-01-01 01:09:42.429538 - Dep 02 done.\n"
     ]
    },
    {
     "name": "stdout",
     "output_type": "stream",
     "text": [
      "2022-01-01 01:09:51.336217 - Dep 03 done.\n"
     ]
    },
    {
     "name": "stdout",
     "output_type": "stream",
     "text": [
      "2022-01-01 01:10:00.124065 - Dep 04 done.\n"
     ]
    },
    {
     "name": "stdout",
     "output_type": "stream",
     "text": [
      "2022-01-01 01:10:09.054402 - Dep 05 done.\n"
     ]
    },
    {
     "name": "stdout",
     "output_type": "stream",
     "text": [
      "2022-01-01 01:10:18.057297 - Dep 06 done.\n"
     ]
    },
    {
     "name": "stdout",
     "output_type": "stream",
     "text": [
      "2022-01-01 01:10:26.905222 - Dep 07 done.\n"
     ]
    },
    {
     "name": "stdout",
     "output_type": "stream",
     "text": [
      "2022-01-01 01:10:35.713165 - Dep 08 done.\n"
     ]
    },
    {
     "name": "stdout",
     "output_type": "stream",
     "text": [
      "2022-01-01 01:10:44.559435 - Dep 09 done.\n"
     ]
    },
    {
     "name": "stdout",
     "output_type": "stream",
     "text": [
      "2022-01-01 01:10:53.272591 - Dep 10 done.\n"
     ]
    },
    {
     "name": "stdout",
     "output_type": "stream",
     "text": [
      "2022-01-01 01:11:02.187338 - Dep 11 done.\n"
     ]
    },
    {
     "name": "stdout",
     "output_type": "stream",
     "text": [
      "2022-01-01 01:11:11.012234 - Dep 12 done.\n"
     ]
    },
    {
     "name": "stdout",
     "output_type": "stream",
     "text": [
      "2022-01-01 01:11:19.829891 - Dep 13 done.\n"
     ]
    },
    {
     "name": "stdout",
     "output_type": "stream",
     "text": [
      "2022-01-01 01:11:28.624824 - Dep 14 done.\n"
     ]
    },
    {
     "name": "stdout",
     "output_type": "stream",
     "text": [
      "2022-01-01 01:11:37.317954 - Dep 15 done.\n"
     ]
    },
    {
     "name": "stdout",
     "output_type": "stream",
     "text": [
      "2022-01-01 01:11:46.044150 - Dep 16 done.\n"
     ]
    },
    {
     "name": "stdout",
     "output_type": "stream",
     "text": [
      "2022-01-01 01:11:54.764312 - Dep 17 done.\n"
     ]
    },
    {
     "name": "stdout",
     "output_type": "stream",
     "text": [
      "2022-01-01 01:12:03.574690 - Dep 18 done.\n"
     ]
    },
    {
     "name": "stdout",
     "output_type": "stream",
     "text": [
      "2022-01-01 01:12:12.547064 - Dep 19 done.\n"
     ]
    },
    {
     "name": "stdout",
     "output_type": "stream",
     "text": [
      "2022-01-01 01:12:21.559456 - Dep 21 done.\n"
     ]
    },
    {
     "name": "stdout",
     "output_type": "stream",
     "text": [
      "2022-01-01 01:12:30.265703 - Dep 22 done.\n"
     ]
    },
    {
     "name": "stdout",
     "output_type": "stream",
     "text": [
      "2022-01-01 01:12:39.014213 - Dep 23 done.\n"
     ]
    },
    {
     "name": "stdout",
     "output_type": "stream",
     "text": [
      "2022-01-01 01:12:47.637672 - Dep 24 done.\n"
     ]
    },
    {
     "name": "stdout",
     "output_type": "stream",
     "text": [
      "2022-01-01 01:12:56.412338 - Dep 25 done.\n"
     ]
    },
    {
     "name": "stdout",
     "output_type": "stream",
     "text": [
      "2022-01-01 01:13:05.122809 - Dep 26 done.\n"
     ]
    },
    {
     "name": "stdout",
     "output_type": "stream",
     "text": [
      "2022-01-01 01:13:13.941547 - Dep 27 done.\n"
     ]
    },
    {
     "name": "stdout",
     "output_type": "stream",
     "text": [
      "2022-01-01 01:13:22.655738 - Dep 28 done.\n"
     ]
    },
    {
     "name": "stdout",
     "output_type": "stream",
     "text": [
      "2022-01-01 01:13:31.328360 - Dep 29 done.\n"
     ]
    },
    {
     "name": "stdout",
     "output_type": "stream",
     "text": [
      "2022-01-01 01:13:40.138831 - Dep 2A done.\n"
     ]
    },
    {
     "name": "stdout",
     "output_type": "stream",
     "text": [
      "2022-01-01 01:13:48.719951 - Dep 2B done.\n"
     ]
    },
    {
     "name": "stdout",
     "output_type": "stream",
     "text": [
      "2022-01-01 01:13:57.573101 - Dep 30 done.\n"
     ]
    },
    {
     "name": "stdout",
     "output_type": "stream",
     "text": [
      "2022-01-01 01:14:06.374803 - Dep 31 done.\n"
     ]
    },
    {
     "name": "stdout",
     "output_type": "stream",
     "text": [
      "2022-01-01 01:14:15.130801 - Dep 32 done.\n"
     ]
    },
    {
     "name": "stdout",
     "output_type": "stream",
     "text": [
      "2022-01-01 01:14:23.930120 - Dep 33 done.\n"
     ]
    },
    {
     "name": "stdout",
     "output_type": "stream",
     "text": [
      "2022-01-01 01:14:35.610599 - Dep 34 done.\n"
     ]
    },
    {
     "name": "stdout",
     "output_type": "stream",
     "text": [
      "2022-01-01 01:14:44.466949 - Dep 35 done.\n"
     ]
    },
    {
     "name": "stdout",
     "output_type": "stream",
     "text": [
      "2022-01-01 01:14:53.255844 - Dep 36 done.\n"
     ]
    },
    {
     "name": "stdout",
     "output_type": "stream",
     "text": [
      "2022-01-01 01:15:02.394806 - Dep 37 done.\n"
     ]
    },
    {
     "name": "stdout",
     "output_type": "stream",
     "text": [
      "2022-01-01 01:15:11.500529 - Dep 38 done.\n"
     ]
    },
    {
     "name": "stdout",
     "output_type": "stream",
     "text": [
      "2022-01-01 01:15:20.226655 - Dep 39 done.\n"
     ]
    },
    {
     "name": "stdout",
     "output_type": "stream",
     "text": [
      "2022-01-01 01:15:29.125300 - Dep 40 done.\n"
     ]
    },
    {
     "name": "stdout",
     "output_type": "stream",
     "text": [
      "2022-01-01 01:15:37.773543 - Dep 41 done.\n"
     ]
    },
    {
     "name": "stdout",
     "output_type": "stream",
     "text": [
      "2022-01-01 01:15:46.627083 - Dep 42 done.\n"
     ]
    },
    {
     "name": "stdout",
     "output_type": "stream",
     "text": [
      "2022-01-01 01:15:55.396235 - Dep 43 done.\n"
     ]
    },
    {
     "name": "stdout",
     "output_type": "stream",
     "text": [
      "2022-01-01 01:16:04.137099 - Dep 44 done.\n"
     ]
    },
    {
     "name": "stdout",
     "output_type": "stream",
     "text": [
      "2022-01-01 01:16:12.957535 - Dep 45 done.\n"
     ]
    },
    {
     "name": "stdout",
     "output_type": "stream",
     "text": [
      "2022-01-01 01:16:21.626864 - Dep 46 done.\n"
     ]
    },
    {
     "name": "stdout",
     "output_type": "stream",
     "text": [
      "2022-01-01 01:16:30.358182 - Dep 47 done.\n"
     ]
    },
    {
     "name": "stdout",
     "output_type": "stream",
     "text": [
      "2022-01-01 01:16:39.043708 - Dep 48 done.\n"
     ]
    },
    {
     "name": "stdout",
     "output_type": "stream",
     "text": [
      "2022-01-01 01:16:47.819101 - Dep 49 done.\n"
     ]
    },
    {
     "name": "stdout",
     "output_type": "stream",
     "text": [
      "2022-01-01 01:16:56.522226 - Dep 50 done.\n"
     ]
    },
    {
     "name": "stdout",
     "output_type": "stream",
     "text": [
      "2022-01-01 01:17:05.333903 - Dep 51 done.\n"
     ]
    },
    {
     "name": "stdout",
     "output_type": "stream",
     "text": [
      "2022-01-01 01:17:13.993014 - Dep 52 done.\n"
     ]
    },
    {
     "name": "stdout",
     "output_type": "stream",
     "text": [
      "2022-01-01 01:17:22.808311 - Dep 53 done.\n"
     ]
    },
    {
     "name": "stdout",
     "output_type": "stream",
     "text": [
      "2022-01-01 01:17:31.508173 - Dep 54 done.\n"
     ]
    },
    {
     "name": "stdout",
     "output_type": "stream",
     "text": [
      "2022-01-01 01:17:40.192809 - Dep 55 done.\n"
     ]
    },
    {
     "name": "stdout",
     "output_type": "stream",
     "text": [
      "2022-01-01 01:17:49.086715 - Dep 56 done.\n"
     ]
    },
    {
     "name": "stdout",
     "output_type": "stream",
     "text": [
      "2022-01-01 01:17:58.465805 - Dep 57 done.\n"
     ]
    },
    {
     "name": "stdout",
     "output_type": "stream",
     "text": [
      "2022-01-01 01:18:07.321976 - Dep 58 done.\n"
     ]
    },
    {
     "name": "stdout",
     "output_type": "stream",
     "text": [
      "2022-01-01 01:18:16.250727 - Dep 59 done.\n"
     ]
    },
    {
     "name": "stdout",
     "output_type": "stream",
     "text": [
      "2022-01-01 01:18:25.033137 - Dep 60 done.\n"
     ]
    },
    {
     "name": "stdout",
     "output_type": "stream",
     "text": [
      "2022-01-01 01:18:33.687332 - Dep 61 done.\n"
     ]
    },
    {
     "name": "stdout",
     "output_type": "stream",
     "text": [
      "2022-01-01 01:18:42.459972 - Dep 62 done.\n"
     ]
    },
    {
     "name": "stdout",
     "output_type": "stream",
     "text": [
      "2022-01-01 01:18:51.237764 - Dep 63 done.\n"
     ]
    },
    {
     "name": "stdout",
     "output_type": "stream",
     "text": [
      "2022-01-01 01:19:00.018607 - Dep 64 done.\n"
     ]
    },
    {
     "name": "stdout",
     "output_type": "stream",
     "text": [
      "2022-01-01 01:19:08.915321 - Dep 65 done.\n"
     ]
    },
    {
     "name": "stdout",
     "output_type": "stream",
     "text": [
      "2022-01-01 01:19:17.504475 - Dep 66 done.\n"
     ]
    },
    {
     "name": "stdout",
     "output_type": "stream",
     "text": [
      "2022-01-01 01:19:26.444731 - Dep 67 done.\n"
     ]
    },
    {
     "name": "stdout",
     "output_type": "stream",
     "text": [
      "2022-01-01 01:19:38.181633 - Dep 68 done.\n"
     ]
    },
    {
     "name": "stdout",
     "output_type": "stream",
     "text": [
      "2022-01-01 01:19:47.092042 - Dep 69 done.\n"
     ]
    },
    {
     "name": "stdout",
     "output_type": "stream",
     "text": [
      "2022-01-01 01:19:55.973159 - Dep 70 done.\n"
     ]
    },
    {
     "name": "stdout",
     "output_type": "stream",
     "text": [
      "2022-01-01 01:20:04.837554 - Dep 71 done.\n"
     ]
    },
    {
     "name": "stdout",
     "output_type": "stream",
     "text": [
      "2022-01-01 01:20:13.709754 - Dep 72 done.\n"
     ]
    },
    {
     "name": "stdout",
     "output_type": "stream",
     "text": [
      "2022-01-01 01:20:22.566725 - Dep 73 done.\n"
     ]
    },
    {
     "name": "stdout",
     "output_type": "stream",
     "text": [
      "2022-01-01 01:20:31.305108 - Dep 74 done.\n"
     ]
    },
    {
     "name": "stdout",
     "output_type": "stream",
     "text": [
      "2022-01-01 01:20:40.943859 - Dep 75 done.\n"
     ]
    },
    {
     "name": "stdout",
     "output_type": "stream",
     "text": [
      "2022-01-01 01:20:49.983947 - Dep 76 done.\n"
     ]
    },
    {
     "name": "stdout",
     "output_type": "stream",
     "text": [
      "2022-01-01 01:20:58.828025 - Dep 77 done.\n"
     ]
    },
    {
     "name": "stdout",
     "output_type": "stream",
     "text": [
      "2022-01-01 01:21:07.832111 - Dep 78 done.\n"
     ]
    },
    {
     "name": "stdout",
     "output_type": "stream",
     "text": [
      "2022-01-01 01:21:16.536724 - Dep 79 done.\n"
     ]
    },
    {
     "name": "stdout",
     "output_type": "stream",
     "text": [
      "2022-01-01 01:21:25.403355 - Dep 80 done.\n"
     ]
    },
    {
     "name": "stdout",
     "output_type": "stream",
     "text": [
      "2022-01-01 01:21:34.145893 - Dep 81 done.\n"
     ]
    },
    {
     "name": "stdout",
     "output_type": "stream",
     "text": [
      "2022-01-01 01:21:42.971107 - Dep 82 done.\n"
     ]
    },
    {
     "name": "stdout",
     "output_type": "stream",
     "text": [
      "2022-01-01 01:21:51.762663 - Dep 83 done.\n"
     ]
    },
    {
     "name": "stdout",
     "output_type": "stream",
     "text": [
      "2022-01-01 01:22:00.578381 - Dep 84 done.\n"
     ]
    },
    {
     "name": "stdout",
     "output_type": "stream",
     "text": [
      "2022-01-01 01:22:09.247483 - Dep 85 done.\n"
     ]
    },
    {
     "name": "stdout",
     "output_type": "stream",
     "text": [
      "2022-01-01 01:22:17.978153 - Dep 86 done.\n"
     ]
    },
    {
     "name": "stdout",
     "output_type": "stream",
     "text": [
      "2022-01-01 01:22:26.663524 - Dep 87 done.\n"
     ]
    },
    {
     "name": "stdout",
     "output_type": "stream",
     "text": [
      "2022-01-01 01:22:35.341331 - Dep 88 done.\n"
     ]
    },
    {
     "name": "stdout",
     "output_type": "stream",
     "text": [
      "2022-01-01 01:22:44.101841 - Dep 89 done.\n"
     ]
    },
    {
     "name": "stdout",
     "output_type": "stream",
     "text": [
      "2022-01-01 01:22:52.777159 - Dep 90 done.\n"
     ]
    },
    {
     "name": "stdout",
     "output_type": "stream",
     "text": [
      "2022-01-01 01:23:01.573709 - Dep 91 done.\n"
     ]
    },
    {
     "name": "stdout",
     "output_type": "stream",
     "text": [
      "2022-01-01 01:23:10.522801 - Dep 92 done.\n"
     ]
    },
    {
     "name": "stdout",
     "output_type": "stream",
     "text": [
      "2022-01-01 01:23:19.835181 - Dep 93 done.\n"
     ]
    },
    {
     "name": "stdout",
     "output_type": "stream",
     "text": [
      "2022-01-01 01:23:28.922347 - Dep 94 done.\n"
     ]
    },
    {
     "name": "stdout",
     "output_type": "stream",
     "text": [
      "2022-01-01 01:23:37.895985 - Dep 95 done.\n"
     ]
    },
    {
     "name": "stdout",
     "output_type": "stream",
     "text": [
      "2022-01-01 01:23:46.822632 - Dep 971 done.\n"
     ]
    },
    {
     "name": "stdout",
     "output_type": "stream",
     "text": [
      "2022-01-01 01:23:55.690869 - Dep 972 done.\n"
     ]
    },
    {
     "name": "stdout",
     "output_type": "stream",
     "text": [
      "2022-01-01 01:24:04.438679 - Dep 973 done.\n"
     ]
    },
    {
     "name": "stdout",
     "output_type": "stream",
     "text": [
      "2022-01-01 01:24:13.223775 - Dep 974 done.\n"
     ]
    },
    {
     "name": "stdout",
     "output_type": "stream",
     "text": [
      "2022-01-01 01:24:21.883335 - Dep 976 done.\n",
      "CPU times: user 6min 31s, sys: 5.56 s, total: 6min 37s\n",
      "Wall time: 15min 2s\n"
     ]
    }
   ],
   "source": [
    "%%time\n",
    "short_level_dict = {\n",
    "    'dep':'departemental',\n",
    "    'reg':'regional',\n",
    "    'nat':'national'\n",
    "}\n",
    "\n",
    "for dep in dep_list :\n",
    "    for id_indicateur in id_indicateur_list :\n",
    "        \n",
    "        #Get information to know what level of data to use\n",
    "        synthese_data = get_dep_indicateur_synthese_data(dep, id_indicateur, ovq_synthese_data)\n",
    "        level = short_level_dict[synthese_data['from_level']]\n",
    "        \n",
    "        #Get chart type for indicateur\n",
    "        chart_type = get_indicateur_structure_cible(id_indicateur, structure_cible_data)['odm_chart_type']\n",
    "        \n",
    "        #Get data\n",
    "        detail_data = get_detail_data(id_indicateur, dep, level, structure_cible_data, base_folder_path)\n",
    "        df = pd.DataFrame(detail_data)\n",
    "        df = df.sort_values('date')\n",
    "        df['date_tick'] = df['date'].apply(lambda x : yearmonth_to_fr(x[:7]))\n",
    "        \n",
    "        #Making graphs\n",
    "        fig = make_detail_chart(df, chart_type)\n",
    "        img_path = os.path.join(img_dir_path, 'graphs', 'graph-detail-{}-dep_{}.png'.format(id_indicateur, dep))\n",
    "\n",
    "        if fig is not None :\n",
    "            fig.write_image(img_path)\n",
    "\n",
    "    print('{} - Dep {} done.'.format(datetime.datetime.today(), dep))"
   ]
  },
  {
   "cell_type": "markdown",
   "id": "complex-water",
   "metadata": {
    "papermill": {
     "duration": 0.054886,
     "end_time": "2022-01-01T01:24:21.998227",
     "exception": false,
     "start_time": "2022-01-01T01:24:21.943341",
     "status": "completed"
    },
    "tags": []
   },
   "source": [
    "## Building the reports"
   ]
  },
  {
   "cell_type": "code",
   "execution_count": 25,
   "id": "approximate-retrieval",
   "metadata": {
    "execution": {
     "iopub.execute_input": "2022-01-01T01:24:22.113365Z",
     "iopub.status.busy": "2022-01-01T01:24:22.112861Z",
     "iopub.status.idle": "2022-01-01T01:24:22.115912Z",
     "shell.execute_reply": "2022-01-01T01:24:22.115496Z"
    },
    "papermill": {
     "duration": 0.06218,
     "end_time": "2022-01-01T01:24:22.116021",
     "exception": false,
     "start_time": "2022-01-01T01:24:22.053841",
     "status": "completed"
    },
    "tags": []
   },
   "outputs": [],
   "source": [
    "mkdir_ifnotexist(reports_dir_path)"
   ]
  },
  {
   "cell_type": "code",
   "execution_count": 26,
   "id": "large-provision",
   "metadata": {
    "execution": {
     "iopub.execute_input": "2022-01-01T01:24:22.230056Z",
     "iopub.status.busy": "2022-01-01T01:24:22.229570Z",
     "iopub.status.idle": "2022-01-01T01:24:22.233973Z",
     "shell.execute_reply": "2022-01-01T01:24:22.233562Z"
    },
    "papermill": {
     "duration": 0.063053,
     "end_time": "2022-01-01T01:24:22.234078",
     "exception": false,
     "start_time": "2022-01-01T01:24:22.171025",
     "status": "completed"
    },
    "tags": []
   },
   "outputs": [],
   "source": [
    "global title_header\n",
    "title_header = ''"
   ]
  },
  {
   "cell_type": "code",
   "execution_count": 27,
   "id": "serial-rogers",
   "metadata": {
    "execution": {
     "iopub.execute_input": "2022-01-01T01:24:22.351694Z",
     "iopub.status.busy": "2022-01-01T01:24:22.351115Z",
     "iopub.status.idle": "2022-01-01T01:24:22.352460Z",
     "shell.execute_reply": "2022-01-01T01:24:22.352886Z"
    },
    "papermill": {
     "duration": 0.063904,
     "end_time": "2022-01-01T01:24:22.353038",
     "exception": false,
     "start_time": "2022-01-01T01:24:22.289134",
     "status": "completed"
    },
    "tags": []
   },
   "outputs": [],
   "source": [
    "class PDF(FPDF):\n",
    "    def header(self):\n",
    "        if (self.page_no() != 1 ):\n",
    "            # Logo\n",
    "            self.image(os.path.join(img_dir_path, 'gouv.png'), 10, 8, 45)\n",
    "            # Arial bold 15\n",
    "            self.cell(50)\n",
    "            self.set_font('Arial', 'B', 16)\n",
    "            self.cell(80, 15, title_header, 0, 1, 'A')\n",
    "\n",
    "            # Move to the right\n",
    "            # Title\n",
    "            self.set_font('Arial', 'I', 9)\n",
    "            self.cell(50)\n",
    "            #self.cell(50, 10, subtitle_header+' - aides-entreprises.data.gouv.fr', 0, 1, 'A', link='https://aides-entreprises.data.gouv.fr/')\n",
    "            self.cell(50, 10, 'www.gouvernement.fr/les-actions-du-gouvernement', 0, 1, 'A', link='https://www.gouvernement.fr/les-actions-du-gouvernement')\n",
    "            # Line break  \n",
    "            pdf.line(40, 38, 170, 38)\n",
    "            self.ln(7)\n",
    "        \n",
    "    # Page footer\n",
    "    def footer(self):\n",
    "        if (self.page_no() != 1 ):\n",
    "            # Position at 1.5 cm from bottom\n",
    "            self.set_y(-15)\n",
    "            # Arial italic 8\n",
    "            self.set_font('Arial', 'I', 8)\n",
    "            # Page number\n",
    "            \n",
    "            self.cell(0, 10, 'Direction Interministérielle du Numérique (DINUM) - Page ' + str(self.page_no()) + '/{nb}', 0, 0, 'C')"
   ]
  },
  {
   "cell_type": "code",
   "execution_count": 28,
   "id": "boxed-story",
   "metadata": {
    "execution": {
     "iopub.execute_input": "2022-01-01T01:24:22.472959Z",
     "iopub.status.busy": "2022-01-01T01:24:22.472387Z",
     "iopub.status.idle": "2022-01-01T01:24:22.494689Z",
     "shell.execute_reply": "2022-01-01T01:24:22.495104Z"
    },
    "papermill": {
     "duration": 0.085973,
     "end_time": "2022-01-01T01:24:22.495266",
     "exception": false,
     "start_time": "2022-01-01T01:24:22.409293",
     "status": "completed"
    },
    "tags": []
   },
   "outputs": [],
   "source": [
    "def insert_indicateur(pdf, dep, ind_data, ind_struc) :\n",
    "    \n",
    "    #Getting relevant information in data\n",
    "    initial_value = ind_data['initial_value']\n",
    "    initial_value_date = ind_data['initial_value_date']\n",
    "    latest_value = ind_data['latest_value']\n",
    "    latest_value_date = ind_data['latest_value_date']\n",
    "    target_value = ind_data['target']\n",
    "    target_percentage = ind_data['target_percentage']\n",
    "    target_value_date = ind_data['target_date']\n",
    "    progression_percentage = ind_data['progression_percentage']\n",
    "    from_level = ind_data['from_level']\n",
    "    \n",
    "    #Getting relevant information in structure\n",
    "    id_indicateur = ind_struc['id_indicateur_fr']\n",
    "    nom_indicateur = drop_encoding_issues(ind_struc['nom_indicateur'])\n",
    "    ind_text_url = drop_encoding_issues(ind_struc['odm_text'])\n",
    "    kpi_format = ind_struc['odm_kpi_format']\n",
    "    kpi_unit = drop_encoding_issues(ind_struc['odm_kpi_unit'])\n",
    "    chart_unit = drop_encoding_issues(ind_struc['odm_chart_unit'])\n",
    "    to_round = ind_struc['toRound']\n",
    "    \n",
    "    #Numbers formating\n",
    "    if to_round is not None :\n",
    "        if initial_value is not None :\n",
    "            initial_value = round(initial_value, to_round)\n",
    "            initial_value = reformat_number(initial_value)\n",
    "        if latest_value is not None :\n",
    "            latest_value = round(latest_value, to_round)\n",
    "            latest_value = reformat_number(latest_value)\n",
    "        if target_value is not None :\n",
    "            target_value = round(target_value, to_round)\n",
    "            target_value = reformat_number(target_value)\n",
    "            \n",
    "    if progression_percentage is not None :\n",
    "        if progression_percentage < 0 :\n",
    "            progression_percentage_str = '- '+str(-progression_percentage).replace('.',',')+' %'\n",
    "        else :\n",
    "            progression_percentage_str = '+ '+str(progression_percentage).replace('.',',')+' %'\n",
    "    else :\n",
    "        progression_percentage_str = ''\n",
    "    \n",
    "    if kpi_unit.startswith('%') :\n",
    "        if initial_value is not None :\n",
    "            initial_value += ' %'\n",
    "        if latest_value is not None :\n",
    "            latest_value += ' %'\n",
    "        if target_value is not None :\n",
    "            target_value += ' %'\n",
    "        kpi_unit = kpi_unit.replace('% ','').replace('%','')\n",
    "    \n",
    "    #Initializing blocks parameters\n",
    "    nb_blocks = 1\n",
    "    ini_block = False\n",
    "    tar_block = False\n",
    "    \n",
    "    #Current value (always present)\n",
    "    latest_value_date_str = yearmonth_to_fr(latest_value_date[:7])\n",
    "    latest_value_str = str(latest_value).replace('.',',')\n",
    "    \n",
    "    #Insert initial block if init value exists\n",
    "    if initial_value is not None :\n",
    "        if float(initial_value.replace(',','.').replace(' ','').replace('%','')) > 0 :\n",
    "            initial_value_date_str = yearmonth_to_fr(initial_value_date[:7])\n",
    "            initial_value_str = str(initial_value).replace('.',',')\n",
    "            nb_blocks += 1\n",
    "            ini_block = True\n",
    "        \n",
    "    #Insert target block if target value exists\n",
    "    if target_value is not None :\n",
    "        target_value_date_str = yearmonth_to_fr(target_value_date[:7])\n",
    "        target_value_str = str(target_value).replace('.',',')\n",
    "        nb_blocks += 1\n",
    "        tar_block = True\n",
    "        \n",
    "    #Blocks settings depending on existing data\n",
    "    block_spacing = 5\n",
    "    block_width = (182 - (nb_blocks-1)*block_spacing)/nb_blocks\n",
    "    \n",
    "    #INDICATOR DISPLAY\n",
    "    \n",
    "    #Indicator title\n",
    "    pdf.set_text_color(0,0,0)\n",
    "    pdf.set_font('Arial', 'B', 12)\n",
    "    pdf.multi_cell(182, 5, 'Indicateur : '+ nom_indicateur, align='L')\n",
    "    pdf.ln(3)\n",
    "    \n",
    "    #Indicator description\n",
    "    full_ind_text_url = os.path.join(base_folder_path, ind_text_url[1:])\n",
    "    r = requests.get(full_ind_text_url)\n",
    "    ind_text = drop_encoding_issues(r.text)\n",
    "    ind_text = clean_description(ind_text)\n",
    "    \n",
    "    pdf.set_font('Arial', '', 10)\n",
    "    pdf.multi_cell(182, 5, ind_text, align='J')\n",
    "    pdf.ln(3)\n",
    "    \n",
    "    #Data geo level indication\n",
    "    if from_level == 'dep' :\n",
    "        from_level_str = \"Les résultats pour le département : \" + get_dep_infos(dep)['dep_name']\n",
    "    elif from_level == 'reg' :\n",
    "        from_level_str = \"Données uniquement disponibles pour la région : \" + get_dep_infos(dep)['reg_name']\n",
    "    elif from_level == 'nat' :\n",
    "        from_level_str = \"Données uniquement disponibles pour la France\"\n",
    "    \n",
    "    pdf.set_text_color(0,0,0)\n",
    "    pdf.set_font('Arial', '', 10)\n",
    "    pdf.set_fill_color(245,245,245);\n",
    "    pdf.cell(182, 8, from_level_str, 0, 2, 'L', fill=True)\n",
    "    pdf.ln(3)\n",
    "    \n",
    "    #Indicator blocks\n",
    "    \n",
    "    y_blocks_top = pdf.get_y()\n",
    "    x_blocks_left = pdf.get_x()\n",
    "    \n",
    "    #Initial value block\n",
    "    if ini_block == True :\n",
    "        pdf.set_fill_color(253, 244, 242)\n",
    "        pdf.set_font('Arial', '', 8)\n",
    "        pdf.cell(block_width, 8, 'En {}'.format(initial_value_date_str), 0, 1, 'L', fill=True)\n",
    "        pdf.set_fill_color(254, 249, 248)\n",
    "        pdf.set_font('Arial', 'B', 20)\n",
    "        pdf.cell(block_width, 10, initial_value_str, 0, 1, 'L', fill=True)\n",
    "        pdf.set_font('Arial', '', 10)\n",
    "        pdf.cell(block_width, 3, kpi_unit, 0, 1, 'L', fill=True)\n",
    "        block_left_x = pdf.get_x()\n",
    "        block_bottom_y = pdf.get_y()\n",
    "        y_blocks_top = block_bottom_y - (8+10+3) #Just in case there is an auto page break that puts blocks in different y\n",
    "        pdf.cell(block_width, 10, '', 0, 1, 'L', fill=True)\n",
    "    \n",
    "    #Current value block (always here)\n",
    "    if ini_block == True :\n",
    "        pdf.set_xy(block_width + pdf.l_margin + block_spacing, y_blocks_top)\n",
    "    pdf.set_fill_color(234, 244, 239)\n",
    "    pdf.set_font('Arial', '', 8)\n",
    "    pdf.cell(block_width, 8, 'En {}'.format(latest_value_date_str), 0, 2, 'L', fill=True)\n",
    "    pdf.set_fill_color(244, 250, 247)\n",
    "    pdf.set_font('Arial', 'B', 20)\n",
    "    pdf.cell(block_width, 10, latest_value_str, 0, 2, 'L', fill=True)\n",
    "    pdf.set_font('Arial', '', 10)\n",
    "    pdf.cell(block_width, 3, kpi_unit, 0, 2, 'L', fill=True)\n",
    "    block_left_x = pdf.get_x()\n",
    "    block_bottom_y = pdf.get_y()\n",
    "    y_blocks_top = block_bottom_y - (8+10+3) #Just in case there is an auto page break that puts blocks in different y\n",
    "    pdf.cell(block_width, 10, progression_percentage_str, 0, 2, 'L', fill=True)\n",
    "    \n",
    "    #Target value block\n",
    "    if tar_block == True :\n",
    "        if nb_blocks == 2 :\n",
    "            pdf.set_xy(block_width + pdf.l_margin + block_spacing, y_blocks_top)\n",
    "        elif nb_blocks == 3 :\n",
    "            pdf.set_xy(2*block_width + pdf.l_margin + 2*block_spacing, y_blocks_top)\n",
    "            \n",
    "        pdf.set_fill_color(229, 229, 243)\n",
    "        pdf.set_font('Arial', '', 8)\n",
    "        pdf.cell(block_width, 8, 'Cible {}'.format(target_value_date_str), 0, 2, 'L', fill=True)\n",
    "        pdf.set_fill_color(242, 242, 248)\n",
    "        pdf.set_font('Arial', 'B', 20)\n",
    "        pdf.cell(block_width, 10, target_value_str, 0, 2, 'L', fill=True)\n",
    "        pdf.set_font('Arial', '', 10)\n",
    "        pdf.cell(block_width, 3, kpi_unit, 0, 2, 'L', fill=True)\n",
    "        \n",
    "        #Inserting bullet chart (prog %) if exists\n",
    "        block_left_x = pdf.get_x()\n",
    "        block_bottom_y = pdf.get_y()\n",
    "        pdf.cell(block_width, 10, '', 0, 2, 'L', fill=True)\n",
    "        bullet_chart_width = 55\n",
    "        pdf.set_xy(block_left_x + block_width/2 - bullet_chart_width/2, block_bottom_y)\n",
    "        try :\n",
    "            prog_img_path = os.path.join(img_dir_path, 'graphs', 'bullet_chart-synthese-target_percentage-{}-dep_{}.png'.format(id_indicateur, dep))\n",
    "            pdf.image(prog_img_path, w=bullet_chart_width)\n",
    "        except :\n",
    "            pass\n",
    "    \n",
    "    #To go properly on next line (under blocks)\n",
    "    pdf.set_xy(block_left_x, block_bottom_y)\n",
    "    pdf.cell(0, 10, '', 0, 1) #Just to go to next line\n",
    "    \n",
    "    #CHART DISPLAY\n",
    "    try :\n",
    "        chart_width = 140\n",
    "        chart_img_path = os.path.join(img_dir_path, 'graphs', 'graph-detail-{}-dep_{}.png'.format(id_indicateur, dep))\n",
    "        pdf.set_x(x_blocks_left + 182/2 - chart_width/2)\n",
    "        pdf.image(chart_img_path, w=chart_width)\n",
    "\n",
    "        pdf.set_x(x_blocks_left)\n",
    "        pdf.set_font('Arial', 'I', 8)\n",
    "        pdf.cell(182, 8, 'Unité : {}'.format(chart_unit), 0, 2, 'C')\n",
    "    except :\n",
    "        print('No chart found for {}'.format(id_indicateur))\n",
    "\n",
    "    return pdf"
   ]
  },
  {
   "cell_type": "code",
   "execution_count": 29,
   "id": "sorted-contract",
   "metadata": {
    "execution": {
     "iopub.execute_input": "2022-01-01T01:24:22.619388Z",
     "iopub.status.busy": "2022-01-01T01:24:22.618835Z",
     "iopub.status.idle": "2022-01-01T02:56:57.788839Z",
     "shell.execute_reply": "2022-01-01T02:56:57.789268Z"
    },
    "papermill": {
     "duration": 5555.237994,
     "end_time": "2022-01-01T02:56:57.789424",
     "exception": false,
     "start_time": "2022-01-01T01:24:22.551430",
     "status": "completed"
    },
    "tags": []
   },
   "outputs": [
    {
     "name": "stdout",
     "output_type": "stream",
     "text": [
      "2022-01-01 01:25:26.797621 - 01-Ain done.\n"
     ]
    },
    {
     "name": "stdout",
     "output_type": "stream",
     "text": [
      "2022-01-01 01:26:22.231204 - 02-Aisne done.\n"
     ]
    },
    {
     "name": "stdout",
     "output_type": "stream",
     "text": [
      "2022-01-01 01:27:17.717035 - 03-Allier done.\n"
     ]
    },
    {
     "name": "stdout",
     "output_type": "stream",
     "text": [
      "2022-01-01 01:28:12.920133 - 04-Alpes-de-Haute-Provence done.\n"
     ]
    },
    {
     "name": "stdout",
     "output_type": "stream",
     "text": [
      "2022-01-01 01:29:08.469598 - 05-Hautes-Alpes done.\n"
     ]
    },
    {
     "name": "stdout",
     "output_type": "stream",
     "text": [
      "2022-01-01 01:30:03.831281 - 06-Alpes-Maritimes done.\n"
     ]
    },
    {
     "name": "stdout",
     "output_type": "stream",
     "text": [
      "2022-01-01 01:31:04.778696 - 07-Ardèche done.\n"
     ]
    },
    {
     "name": "stdout",
     "output_type": "stream",
     "text": [
      "2022-01-01 01:31:58.787951 - 08-Ardennes done.\n"
     ]
    },
    {
     "name": "stdout",
     "output_type": "stream",
     "text": [
      "2022-01-01 01:32:51.796312 - 09-Ariège done.\n"
     ]
    },
    {
     "name": "stdout",
     "output_type": "stream",
     "text": [
      "2022-01-01 01:33:45.576965 - 10-Aube done.\n"
     ]
    },
    {
     "name": "stdout",
     "output_type": "stream",
     "text": [
      "2022-01-01 01:34:40.030348 - 11-Aude done.\n"
     ]
    },
    {
     "name": "stdout",
     "output_type": "stream",
     "text": [
      "2022-01-01 01:35:35.384056 - 12-Aveyron done.\n"
     ]
    },
    {
     "name": "stdout",
     "output_type": "stream",
     "text": [
      "2022-01-01 01:36:37.825359 - 13-Bouches-du-Rhône done.\n"
     ]
    },
    {
     "name": "stdout",
     "output_type": "stream",
     "text": [
      "2022-01-01 01:37:32.380611 - 14-Calvados done.\n"
     ]
    },
    {
     "name": "stdout",
     "output_type": "stream",
     "text": [
      "2022-01-01 01:38:25.275500 - 15-Cantal done.\n"
     ]
    },
    {
     "name": "stdout",
     "output_type": "stream",
     "text": [
      "2022-01-01 01:39:19.393385 - 16-Charente done.\n"
     ]
    },
    {
     "name": "stdout",
     "output_type": "stream",
     "text": [
      "2022-01-01 01:40:13.322402 - 17-Charente-Maritime done.\n"
     ]
    },
    {
     "name": "stdout",
     "output_type": "stream",
     "text": [
      "2022-01-01 01:41:08.883953 - 18-Cher done.\n"
     ]
    },
    {
     "name": "stdout",
     "output_type": "stream",
     "text": [
      "2022-01-01 01:42:07.352699 - 19-Corrèze done.\n"
     ]
    },
    {
     "name": "stdout",
     "output_type": "stream",
     "text": [
      "2022-01-01 01:43:00.346388 - 21-Côte-d'Or done.\n"
     ]
    },
    {
     "name": "stdout",
     "output_type": "stream",
     "text": [
      "2022-01-01 01:43:55.027888 - 22-Côtes-d'Armor done.\n"
     ]
    },
    {
     "name": "stdout",
     "output_type": "stream",
     "text": [
      "2022-01-01 01:44:48.533412 - 23-Creuse done.\n"
     ]
    },
    {
     "name": "stdout",
     "output_type": "stream",
     "text": [
      "2022-01-01 01:45:43.043260 - 24-Dordogne done.\n"
     ]
    },
    {
     "name": "stdout",
     "output_type": "stream",
     "text": [
      "2022-01-01 01:46:37.368535 - 25-Doubs done.\n"
     ]
    },
    {
     "name": "stdout",
     "output_type": "stream",
     "text": [
      "2022-01-01 01:47:38.597801 - 26-Drôme done.\n"
     ]
    },
    {
     "name": "stdout",
     "output_type": "stream",
     "text": [
      "2022-01-01 01:48:32.370447 - 27-Eure done.\n"
     ]
    },
    {
     "name": "stdout",
     "output_type": "stream",
     "text": [
      "2022-01-01 01:49:27.209198 - 28-Eure-et-Loir done.\n"
     ]
    },
    {
     "name": "stdout",
     "output_type": "stream",
     "text": [
      "2022-01-01 01:50:20.348123 - 29-Finistère done.\n"
     ]
    },
    {
     "name": "stdout",
     "output_type": "stream",
     "text": [
      "2022-01-01 01:51:12.831295 - 2A-Corse-du-Sud done.\n"
     ]
    },
    {
     "name": "stdout",
     "output_type": "stream",
     "text": [
      "2022-01-01 01:52:05.424327 - 2B-Haute-Corse done.\n"
     ]
    },
    {
     "name": "stdout",
     "output_type": "stream",
     "text": [
      "2022-01-01 01:53:06.368399 - 30-Gard done.\n"
     ]
    },
    {
     "name": "stdout",
     "output_type": "stream",
     "text": [
      "2022-01-01 01:54:01.506406 - 31-Haute-Garonne done.\n"
     ]
    },
    {
     "name": "stdout",
     "output_type": "stream",
     "text": [
      "2022-01-01 01:54:53.295582 - 32-Gers done.\n"
     ]
    },
    {
     "name": "stdout",
     "output_type": "stream",
     "text": [
      "2022-01-01 01:55:47.826208 - 33-Gironde done.\n"
     ]
    },
    {
     "name": "stdout",
     "output_type": "stream",
     "text": [
      "2022-01-01 01:56:41.537815 - 34-Hérault done.\n"
     ]
    },
    {
     "name": "stdout",
     "output_type": "stream",
     "text": [
      "2022-01-01 01:57:36.069114 - 35-Ille-et-Vilaine done.\n"
     ]
    },
    {
     "name": "stdout",
     "output_type": "stream",
     "text": [
      "2022-01-01 01:58:35.164753 - 36-Indre done.\n"
     ]
    },
    {
     "name": "stdout",
     "output_type": "stream",
     "text": [
      "2022-01-01 01:59:29.227075 - 37-Indre-et-Loire done.\n"
     ]
    },
    {
     "name": "stdout",
     "output_type": "stream",
     "text": [
      "2022-01-01 02:00:24.429313 - 38-Isère done.\n"
     ]
    },
    {
     "name": "stdout",
     "output_type": "stream",
     "text": [
      "2022-01-01 02:01:17.155204 - 39-Jura done.\n"
     ]
    },
    {
     "name": "stdout",
     "output_type": "stream",
     "text": [
      "2022-01-01 02:02:12.104299 - 40-Landes done.\n"
     ]
    },
    {
     "name": "stdout",
     "output_type": "stream",
     "text": [
      "2022-01-01 02:03:04.773678 - 41-Loir-et-Cher done.\n"
     ]
    },
    {
     "name": "stdout",
     "output_type": "stream",
     "text": [
      "2022-01-01 02:04:05.644586 - 42-Loire done.\n"
     ]
    },
    {
     "name": "stdout",
     "output_type": "stream",
     "text": [
      "2022-01-01 02:04:58.520144 - 43-Haute-Loire done.\n"
     ]
    },
    {
     "name": "stdout",
     "output_type": "stream",
     "text": [
      "2022-01-01 02:05:52.274723 - 44-Loire-Atlantique done.\n"
     ]
    },
    {
     "name": "stdout",
     "output_type": "stream",
     "text": [
      "2022-01-01 02:06:46.507384 - 45-Loiret done.\n"
     ]
    },
    {
     "name": "stdout",
     "output_type": "stream",
     "text": [
      "2022-01-01 02:07:38.181872 - 46-Lot done.\n"
     ]
    },
    {
     "name": "stdout",
     "output_type": "stream",
     "text": [
      "2022-01-01 02:08:33.018057 - 47-Lot-et-Garonne done.\n"
     ]
    },
    {
     "name": "stdout",
     "output_type": "stream",
     "text": [
      "2022-01-01 02:09:32.190276 - 48-Lozère done.\n"
     ]
    },
    {
     "name": "stdout",
     "output_type": "stream",
     "text": [
      "2022-01-01 02:10:26.983727 - 49-Maine-et-Loire done.\n"
     ]
    },
    {
     "name": "stdout",
     "output_type": "stream",
     "text": [
      "2022-01-01 02:11:21.277236 - 50-Manche done.\n"
     ]
    },
    {
     "name": "stdout",
     "output_type": "stream",
     "text": [
      "2022-01-01 02:12:15.575049 - 51-Marne done.\n"
     ]
    },
    {
     "name": "stdout",
     "output_type": "stream",
     "text": [
      "2022-01-01 02:13:09.812583 - 52-Haute-Marne done.\n"
     ]
    },
    {
     "name": "stdout",
     "output_type": "stream",
     "text": [
      "2022-01-01 02:14:02.743103 - 53-Mayenne done.\n"
     ]
    },
    {
     "name": "stdout",
     "output_type": "stream",
     "text": [
      "2022-01-01 02:15:03.685322 - 54-Meurthe-et-Moselle done.\n"
     ]
    },
    {
     "name": "stdout",
     "output_type": "stream",
     "text": [
      "2022-01-01 02:15:56.546068 - 55-Meuse done.\n"
     ]
    },
    {
     "name": "stdout",
     "output_type": "stream",
     "text": [
      "2022-01-01 02:16:51.147389 - 56-Morbihan done.\n"
     ]
    },
    {
     "name": "stdout",
     "output_type": "stream",
     "text": [
      "2022-01-01 02:17:45.410211 - 57-Moselle done.\n"
     ]
    },
    {
     "name": "stdout",
     "output_type": "stream",
     "text": [
      "2022-01-01 02:18:38.923216 - 58-Nièvre done.\n"
     ]
    },
    {
     "name": "stdout",
     "output_type": "stream",
     "text": [
      "2022-01-01 02:19:34.720412 - 59-Nord done.\n"
     ]
    },
    {
     "name": "stdout",
     "output_type": "stream",
     "text": [
      "2022-01-01 02:20:38.067774 - 60-Oise done.\n"
     ]
    },
    {
     "name": "stdout",
     "output_type": "stream",
     "text": [
      "2022-01-01 02:21:31.445332 - 61-Orne done.\n"
     ]
    },
    {
     "name": "stdout",
     "output_type": "stream",
     "text": [
      "2022-01-01 02:22:25.650171 - 62-Pas-de-Calais done.\n"
     ]
    },
    {
     "name": "stdout",
     "output_type": "stream",
     "text": [
      "2022-01-01 02:23:19.971010 - 63-Puy-de-Dôme done.\n"
     ]
    },
    {
     "name": "stdout",
     "output_type": "stream",
     "text": [
      "2022-01-01 02:24:13.329179 - 64-Pyrénées-Atlantiques done.\n"
     ]
    },
    {
     "name": "stdout",
     "output_type": "stream",
     "text": [
      "2022-01-01 02:25:06.326343 - 65-Hautes-Pyrénées done.\n"
     ]
    },
    {
     "name": "stdout",
     "output_type": "stream",
     "text": [
      "2022-01-01 02:26:04.403472 - 66-Pyrénées-Orientales done.\n"
     ]
    },
    {
     "name": "stdout",
     "output_type": "stream",
     "text": [
      "2022-01-01 02:26:59.407074 - 67-Bas-Rhin done.\n"
     ]
    },
    {
     "name": "stdout",
     "output_type": "stream",
     "text": [
      "2022-01-01 02:27:53.729291 - 68-Haut-Rhin done.\n"
     ]
    },
    {
     "name": "stdout",
     "output_type": "stream",
     "text": [
      "2022-01-01 02:28:47.723928 - 69-Rhône done.\n"
     ]
    },
    {
     "name": "stdout",
     "output_type": "stream",
     "text": [
      "2022-01-01 02:29:40.525488 - 70-Haute-Saône done.\n"
     ]
    },
    {
     "name": "stdout",
     "output_type": "stream",
     "text": [
      "2022-01-01 02:30:34.610687 - 71-Saône-et-Loire done.\n"
     ]
    },
    {
     "name": "stdout",
     "output_type": "stream",
     "text": [
      "2022-01-01 02:31:36.296762 - 72-Sarthe done.\n"
     ]
    },
    {
     "name": "stdout",
     "output_type": "stream",
     "text": [
      "2022-01-01 02:32:30.383823 - 73-Savoie done.\n"
     ]
    },
    {
     "name": "stdout",
     "output_type": "stream",
     "text": [
      "2022-01-01 02:33:23.099233 - 74-Haute-Savoie done.\n"
     ]
    },
    {
     "name": "stdout",
     "output_type": "stream",
     "text": [
      "2022-01-01 02:34:15.260221 - 75-Paris done.\n"
     ]
    },
    {
     "name": "stdout",
     "output_type": "stream",
     "text": [
      "2022-01-01 02:35:10.938615 - 76-Seine-Maritime done.\n"
     ]
    },
    {
     "name": "stdout",
     "output_type": "stream",
     "text": [
      "2022-01-01 02:36:06.537421 - 77-Seine-et-Marne done.\n"
     ]
    },
    {
     "name": "stdout",
     "output_type": "stream",
     "text": [
      "2022-01-01 02:37:07.578406 - 78-Yvelines done.\n"
     ]
    },
    {
     "name": "stdout",
     "output_type": "stream",
     "text": [
      "2022-01-01 02:38:00.472912 - 79-Deux-Sèvres done.\n"
     ]
    },
    {
     "name": "stdout",
     "output_type": "stream",
     "text": [
      "2022-01-01 02:38:55.412028 - 80-Somme done.\n"
     ]
    },
    {
     "name": "stdout",
     "output_type": "stream",
     "text": [
      "2022-01-01 02:39:48.553828 - 81-Tarn done.\n"
     ]
    },
    {
     "name": "stdout",
     "output_type": "stream",
     "text": [
      "2022-01-01 02:40:42.215118 - 82-Tarn-et-Garonne done.\n"
     ]
    },
    {
     "name": "stdout",
     "output_type": "stream",
     "text": [
      "2022-01-01 02:41:36.828764 - 83-Var done.\n"
     ]
    },
    {
     "name": "stdout",
     "output_type": "stream",
     "text": [
      "2022-01-01 02:42:38.336077 - 84-Vaucluse done.\n"
     ]
    },
    {
     "name": "stdout",
     "output_type": "stream",
     "text": [
      "2022-01-01 02:43:33.012787 - 85-Vendée done.\n"
     ]
    },
    {
     "name": "stdout",
     "output_type": "stream",
     "text": [
      "2022-01-01 02:44:25.802729 - 86-Vienne done.\n"
     ]
    },
    {
     "name": "stdout",
     "output_type": "stream",
     "text": [
      "2022-01-01 02:45:18.916673 - 87-Haute-Vienne done.\n"
     ]
    },
    {
     "name": "stdout",
     "output_type": "stream",
     "text": [
      "2022-01-01 02:46:12.983845 - 88-Vosges done.\n"
     ]
    },
    {
     "name": "stdout",
     "output_type": "stream",
     "text": [
      "2022-01-01 02:47:07.619270 - 89-Yonne done.\n"
     ]
    },
    {
     "name": "stdout",
     "output_type": "stream",
     "text": [
      "2022-01-01 02:48:06.031142 - 90-Territoire de Belfort done.\n"
     ]
    },
    {
     "name": "stdout",
     "output_type": "stream",
     "text": [
      "2022-01-01 02:49:00.723561 - 91-Essonne done.\n"
     ]
    },
    {
     "name": "stdout",
     "output_type": "stream",
     "text": [
      "2022-01-01 02:49:52.655281 - 92-Hauts-de-Seine done.\n"
     ]
    },
    {
     "name": "stdout",
     "output_type": "stream",
     "text": [
      "2022-01-01 02:50:44.623745 - 93-Seine-Saint-Denis done.\n"
     ]
    },
    {
     "name": "stdout",
     "output_type": "stream",
     "text": [
      "2022-01-01 02:51:36.493052 - 94-Val-de-Marne done.\n"
     ]
    },
    {
     "name": "stdout",
     "output_type": "stream",
     "text": [
      "2022-01-01 02:52:30.088175 - 95-Val-d'Oise done.\n"
     ]
    },
    {
     "name": "stdout",
     "output_type": "stream",
     "text": [
      "2022-01-01 02:53:30.017978 - 971-Guadeloupe done.\n"
     ]
    },
    {
     "name": "stdout",
     "output_type": "stream",
     "text": [
      "2022-01-01 02:54:23.459135 - 972-Martinique done.\n"
     ]
    },
    {
     "name": "stdout",
     "output_type": "stream",
     "text": [
      "2022-01-01 02:55:16.612507 - 973-Guyane done.\n"
     ]
    },
    {
     "name": "stdout",
     "output_type": "stream",
     "text": [
      "2022-01-01 02:56:09.951431 - 974-La Réunion done.\n"
     ]
    },
    {
     "name": "stdout",
     "output_type": "stream",
     "text": [
      "2022-01-01 02:56:57.704345 - 976-Mayotte done.\n",
      "CPU times: user 1h 25min 15s, sys: 1min 20s, total: 1h 26min 35s\n",
      "Wall time: 1h 32min 35s\n"
     ]
    }
   ],
   "source": [
    "%%time\n",
    "\n",
    "mkdir_ifnotexist(os.path.join(reports_dir_path, 'pdf'))\n",
    "mkdir_ifnotexist(os.path.join(reports_dir_path, 'pdf', 'par_departement'))\n",
    "\n",
    "for dep in dep_list :\n",
    "    \n",
    "    pdf = PDF()\n",
    "    pdf.alias_nb_pages()\n",
    "    pdf.add_page()\n",
    "\n",
    "    #Logos\n",
    "    pdf.image(os.path.join(img_dir_path, 'gouv.png'), 10, 8, 125)\n",
    "    \n",
    "    # Arial bold 15\n",
    "    pdf.set_font('Arial', 'B', 28)\n",
    "    # Move to the right\n",
    "    pdf.cell(50)\n",
    "    pdf.ln(100)\n",
    "    \n",
    "    # Title\n",
    "    pdf.cell(10)\n",
    "    pdf.cell(50, 10, 'BAROMÈTRE DES RÉSULTATS DE', 0, 1, 'A')\n",
    "    pdf.ln(10)\n",
    "    pdf.cell(10)\n",
    "    pdf.cell(50, 10, \"L'ACTION PUBLIQUE\", 0, 1, 'A')\n",
    "    pdf.ln(10)\n",
    "    pdf.cell(60)\n",
    "\n",
    "    pdf.set_font('Arial', 'I', 20)\n",
    "    pdf.ln(10)\n",
    "    pdf.cell(10)\n",
    "    pdf.cell(50, 10, 'Présentation des résultats pour le département :', 0, 1, 'A')\n",
    "    pdf.ln(10)\n",
    "    pdf.cell(10)\n",
    "    pdf.cell(50, 10, dep + ' - ' + get_dep_infos(dep)['dep_name'], 0, 1, 'A')\n",
    "    pdf.ln(70)\n",
    "\n",
    "    pdf.set_font('Arial', 'I', 8)\n",
    "\n",
    "    pdf.cell(10)\n",
    "    pdf.cell(50, 10, \"Données issues du baromètre des résultats consultable sur https://www.gouvernement.fr/les-actions-du-gouvernement\", 0, 1, 'A')\n",
    "    \n",
    "    #Indicateurs\n",
    "    \n",
    "    pdf.set_left_margin(14)\n",
    "    pdf.set_right_margin(14)\n",
    "    \n",
    "    for thematique_dict in structure_families_data :\n",
    "    \n",
    "        thematique = thematique_dict['nom_ovq']\n",
    "        \n",
    "        #Downloading thematique image\n",
    "        thematique_img_url = os.path.join(base_folder_path, thematique_dict['odm_image'][1:])\n",
    "        thematique_img_local_path = './img/' + thematique_img_url.split('/')[-1]\n",
    "        r = requests.get(thematique_img_url)\n",
    "        with open(thematique_img_local_path, 'wb') as f:\n",
    "            f.write(r.content)\n",
    "        \n",
    "        #Section page\n",
    "        title_header = ''\n",
    "        pdf.add_page()\n",
    "        pdf.image(thematique_img_local_path, x=0, y=70, w=210)\n",
    "        pdf.ln(190)\n",
    "        pdf.set_font('Arial', 'B', 25)\n",
    "        pdf.cell(182, 6, thematique.upper())\n",
    "        \n",
    "        title_header = thematique.upper()\n",
    "\n",
    "        id_ovq_list = thematique_dict['id_ovq']\n",
    "        for id_ovq in id_ovq_list :\n",
    "\n",
    "            try :\n",
    "                ovq_dict = get_ovq_structure_cible(id_ovq, structure_cible_data)\n",
    "            except :\n",
    "                print('No structure cible for {}'.format(id_ovq))\n",
    "                ovq_dict = None\n",
    "            \n",
    "            if ovq_dict is not None :\n",
    "                pdf.add_page()\n",
    "                pdf.ln(3)\n",
    "                nom_ovq = drop_encoding_issues(ovq_dict['nom_ovq'])\n",
    "                ovq_text_url = os.path.join(base_folder_path, ovq_dict['odm_text'][1:])\n",
    "                r = requests.get(ovq_text_url)\n",
    "                ovq_text = drop_encoding_issues(r.text)\n",
    "                ovq_text = clean_description(ovq_text)\n",
    "                \n",
    "                #Display OVQ title\n",
    "                pdf.set_font('Arial', 'B', 16)\n",
    "                pdf.multi_cell(182, 6, nom_ovq, align='L')\n",
    "                pdf.ln(3)\n",
    "                #Display OVQ description\n",
    "                pdf.set_font('Arial', '', 10)\n",
    "                pdf.multi_cell(182, 5, ovq_text, align='J')\n",
    "                pdf.ln(3)\n",
    "\n",
    "                ovq_id_indicateur_list = [ind_dict['id_indicateur_fr'] for ind_dict in ovq_dict['indicateurs']]\n",
    "\n",
    "                add_page_for_ind = False\n",
    "                for id_indicateur in ovq_id_indicateur_list :\n",
    "                    if add_page_for_ind == True :\n",
    "                        pdf.add_page()\n",
    "                    ind_data = get_dep_indicateur_synthese_data(dep, id_indicateur, ovq_synthese_data)\n",
    "                    ind_struc = get_indicateur_structure_cible(id_indicateur, structure_cible_data)\n",
    "\n",
    "                    pdf = insert_indicateur(pdf, dep, ind_data, ind_struc)\n",
    "                    add_page_for_ind = True\n",
    "    \n",
    "    dep_name = get_dep_infos(dep)['dep_name']\n",
    "    pdf.output(os.path.join(reports_dir_path, 'pdf', 'par_departement', 'Baromètre_résultats_'+dep_name+'.pdf'), 'F')\n",
    "    \n",
    "    print(str(datetime.datetime.today()) + ' - ' + dep + '-' + dep_name + ' done.')"
   ]
  },
  {
   "cell_type": "markdown",
   "id": "unsigned-mandate",
   "metadata": {
    "papermill": {
     "duration": 0.080777,
     "end_time": "2022-01-01T02:56:57.951228",
     "exception": false,
     "start_time": "2022-01-01T02:56:57.870451",
     "status": "completed"
    },
    "tags": []
   },
   "source": [
    "## Compress to ZIP"
   ]
  },
  {
   "cell_type": "raw",
   "id": "olympic-corporation",
   "metadata": {
    "papermill": {
     "duration": 0.081331,
     "end_time": "2022-01-01T02:56:58.114228",
     "exception": false,
     "start_time": "2022-01-01T02:56:58.032897",
     "status": "completed"
    },
    "tags": []
   },
   "source": [
    "from zipfile import ZipFile"
   ]
  },
  {
   "cell_type": "raw",
   "id": "major-grounds",
   "metadata": {
    "papermill": {
     "duration": 0.081558,
     "end_time": "2022-01-01T02:56:58.277726",
     "exception": false,
     "start_time": "2022-01-01T02:56:58.196168",
     "status": "completed"
    },
    "tags": []
   },
   "source": [
    "today_date = str(datetime.datetime.today())[:10]\n",
    "today_date"
   ]
  },
  {
   "cell_type": "raw",
   "id": "united-missile",
   "metadata": {
    "papermill": {
     "duration": 0.080913,
     "end_time": "2022-01-01T02:56:58.439741",
     "exception": false,
     "start_time": "2022-01-01T02:56:58.358828",
     "status": "completed"
    },
    "tags": []
   },
   "source": [
    "my_zip_date = ZipFile(os.path.join(reports_dir_path, 'Baromètre_résultats_{}.zip'.format(today_date)), 'w')\n",
    "my_zip_latest = ZipFile(os.path.join(reports_dir_path, 'Baromètre_résultats_latest.zip'), 'w')\n",
    "\n",
    "for filename in os.listdir(os.path.join(reports_dir_path, 'pdf')) :\n",
    "    if filename.endswith('.pdf') :\n",
    "        my_zip_date.write(os.path.join(reports_dir_path, 'pdf', filename))\n",
    "        my_zip_latest.write(os.path.join(reports_dir_path, 'pdf', filename))\n",
    "        \n",
    "my_zip_date.close()\n",
    "my_zip_latest.close()"
   ]
  }
 ],
 "metadata": {
  "kernelspec": {
   "display_name": "Python 3",
   "language": "python",
   "name": "python3"
  },
  "language_info": {
   "codemirror_mode": {
    "name": "ipython",
    "version": 3
   },
   "file_extension": ".py",
   "mimetype": "text/x-python",
   "name": "python",
   "nbconvert_exporter": "python",
   "pygments_lexer": "ipython3",
   "version": "3.8.7"
  },
  "papermill": {
   "default_parameters": {},
   "duration": 6608.235426,
   "end_time": "2022-01-01T02:56:58.843466",
   "environment_variables": {},
   "exception": null,
   "input_path": "report-pdf-dep.ipynb",
   "output_path": "report-pdf-dep.ipynb",
   "parameters": {},
   "start_time": "2022-01-01T01:06:50.608040",
   "version": "2.3.2"
  }
 },
 "nbformat": 4,
 "nbformat_minor": 5
}