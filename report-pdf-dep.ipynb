{
 "cells": [
  {
   "cell_type": "markdown",
   "id": "settled-serial",
   "metadata": {
    "papermill": {
     "duration": 0.009077,
     "end_time": "2023-04-17T11:37:35.668834",
     "exception": false,
     "start_time": "2023-04-17T11:37:35.659757",
     "status": "completed"
    },
    "tags": []
   },
   "source": [
    "# Baromètre des résultats - PDF reports"
   ]
  },
  {
   "cell_type": "markdown",
   "id": "dedicated-brunswick",
   "metadata": {
    "papermill": {
     "duration": 0.006033,
     "end_time": "2023-04-17T11:37:35.681429",
     "exception": false,
     "start_time": "2023-04-17T11:37:35.675396",
     "status": "completed"
    },
    "tags": []
   },
   "source": [
    "## Imports"
   ]
  },
  {
   "cell_type": "code",
   "execution_count": 1,
   "id": "third-browser",
   "metadata": {
    "execution": {
     "iopub.execute_input": "2023-04-17T11:37:35.696344Z",
     "iopub.status.busy": "2023-04-17T11:37:35.695700Z",
     "iopub.status.idle": "2023-04-17T11:37:36.055815Z",
     "shell.execute_reply": "2023-04-17T11:37:36.055074Z"
    },
    "papermill": {
     "duration": 0.37022,
     "end_time": "2023-04-17T11:37:36.057724",
     "exception": false,
     "start_time": "2023-04-17T11:37:35.687504",
     "status": "completed"
    },
    "tags": []
   },
   "outputs": [],
   "source": [
    "import json\n",
    "import os\n",
    "import datetime\n",
    "import re\n",
    "\n",
    "import requests\n",
    "import pandas as pd\n",
    "\n",
    "import plotly.graph_objects as go\n",
    "import plotly.express as px\n",
    "\n",
    "from fpdf import FPDF"
   ]
  },
  {
   "cell_type": "markdown",
   "id": "vertical-township",
   "metadata": {
    "papermill": {
     "duration": 0.006981,
     "end_time": "2023-04-17T11:37:36.102202",
     "exception": false,
     "start_time": "2023-04-17T11:37:36.095221",
     "status": "completed"
    },
    "tags": []
   },
   "source": [
    "## Parameters"
   ]
  },
  {
   "cell_type": "code",
   "execution_count": 2,
   "id": "grand-seller",
   "metadata": {
    "execution": {
     "iopub.execute_input": "2023-04-17T11:37:36.116207Z",
     "iopub.status.busy": "2023-04-17T11:37:36.115502Z",
     "iopub.status.idle": "2023-04-17T11:37:36.120625Z",
     "shell.execute_reply": "2023-04-17T11:37:36.119997Z"
    },
    "papermill": {
     "duration": 0.013521,
     "end_time": "2023-04-17T11:37:36.121835",
     "exception": false,
     "start_time": "2023-04-17T11:37:36.108314",
     "status": "completed"
    },
    "tags": []
   },
   "outputs": [],
   "source": [
    "base_folder_path = 'https://raw.githubusercontent.com/etalab/barometre-resultats/master/frontend/static/'\n",
    "\n",
    "ovq_data_folder_path = os.path.join(base_folder_path, 'datasets', 'ovq-data')\n",
    "\n",
    "ovq_synthese_data_path = os.path.join(ovq_data_folder_path, 'prod', 'par_territoire', 'territoire-departemental-global-light.json')\n",
    "ovq_detail_data_folder_path = os.path.join(ovq_data_folder_path, 'prod', 'par_thematique')\n",
    "ovq_structure_cible_path = os.path.join(ovq_data_folder_path, 'prod', 'structure', 'structure-cible.json')\n",
    "ovq_structure_families_path = os.path.join(ovq_data_folder_path, 'prod', 'structure', 'structure-families.json')\n",
    "\n",
    "dep_taxo_url = os.path.join(base_folder_path, 'datasets', 'prod', 'taxonomies', 'departements.json')\n",
    "reg_taxo_url = os.path.join(base_folder_path, 'datasets', 'prod', 'taxonomies', 'regions.json')\n",
    "\n",
    "img_dir_path = './img/'\n",
    "reports_dir_path = './reports/'"
   ]
  },
  {
   "cell_type": "markdown",
   "id": "joint-virtue",
   "metadata": {
    "papermill": {
     "duration": 0.006052,
     "end_time": "2023-04-17T11:37:36.133933",
     "exception": false,
     "start_time": "2023-04-17T11:37:36.127881",
     "status": "completed"
    },
    "tags": []
   },
   "source": [
    "## Functions"
   ]
  },
  {
   "cell_type": "code",
   "execution_count": 3,
   "id": "premier-fleet",
   "metadata": {
    "execution": {
     "iopub.execute_input": "2023-04-17T11:37:36.147615Z",
     "iopub.status.busy": "2023-04-17T11:37:36.146959Z",
     "iopub.status.idle": "2023-04-17T11:37:36.150350Z",
     "shell.execute_reply": "2023-04-17T11:37:36.149850Z"
    },
    "papermill": {
     "duration": 0.011506,
     "end_time": "2023-04-17T11:37:36.151498",
     "exception": false,
     "start_time": "2023-04-17T11:37:36.139992",
     "status": "completed"
    },
    "tags": []
   },
   "outputs": [],
   "source": [
    "def mkdir_ifnotexist(path) :\n",
    "    if not os.path.isdir(path) :\n",
    "        os.mkdir(path)"
   ]
  },
  {
   "cell_type": "code",
   "execution_count": 4,
   "id": "effective-combination",
   "metadata": {
    "execution": {
     "iopub.execute_input": "2023-04-17T11:37:36.165031Z",
     "iopub.status.busy": "2023-04-17T11:37:36.164454Z",
     "iopub.status.idle": "2023-04-17T11:37:36.613348Z",
     "shell.execute_reply": "2023-04-17T11:37:36.612332Z"
    },
    "papermill": {
     "duration": 0.45756,
     "end_time": "2023-04-17T11:37:36.615089",
     "exception": false,
     "start_time": "2023-04-17T11:37:36.157529",
     "status": "completed"
    },
    "tags": []
   },
   "outputs": [],
   "source": [
    "#Importing taxonomies data to make a function to get all infos on a given department\n",
    "r = requests.get(dep_taxo_url)\n",
    "dep_dict_list = json.loads(r.content)\n",
    "\n",
    "r = requests.get(reg_taxo_url)\n",
    "reg_dict_list = json.loads(r.content)\n",
    "\n",
    "def get_dep_infos(dep, dep_dict_list=dep_dict_list, reg_dict_list=reg_dict_list) :\n",
    "        \n",
    "    dep_dict = [dict_ for dict_ in dep_dict_list if dict_['dep'] == dep][0]\n",
    "    dep_name = dep_dict['libelle']\n",
    "    reg = dep_dict['reg']\n",
    "    \n",
    "    reg_dict = [dict_ for dict_ in reg_dict_list if dict_['reg'] == reg][0]\n",
    "    reg_name = reg_dict['libelle']\n",
    "    \n",
    "    res = dict(dep=dep,\n",
    "               dep_name=dep_name,\n",
    "               reg=reg,\n",
    "               reg_name=reg_name\n",
    "              )\n",
    "    \n",
    "    return res"
   ]
  },
  {
   "cell_type": "code",
   "execution_count": 5,
   "id": "minimal-gravity",
   "metadata": {
    "execution": {
     "iopub.execute_input": "2023-04-17T11:37:36.630045Z",
     "iopub.status.busy": "2023-04-17T11:37:36.629638Z",
     "iopub.status.idle": "2023-04-17T11:37:36.633007Z",
     "shell.execute_reply": "2023-04-17T11:37:36.632436Z"
    },
    "papermill": {
     "duration": 0.011736,
     "end_time": "2023-04-17T11:37:36.634229",
     "exception": false,
     "start_time": "2023-04-17T11:37:36.622493",
     "status": "completed"
    },
    "tags": []
   },
   "outputs": [],
   "source": [
    "def get_dep_synthese_data(dep, ovq_synthese_data) :\n",
    "    for dep_dict in ovq_synthese_data :\n",
    "        if dep_dict['dep'] == dep :\n",
    "            res = dep_dict\n",
    "            break\n",
    "    return res"
   ]
  },
  {
   "cell_type": "code",
   "execution_count": 6,
   "id": "peaceful-motor",
   "metadata": {
    "execution": {
     "iopub.execute_input": "2023-04-17T11:37:36.647525Z",
     "iopub.status.busy": "2023-04-17T11:37:36.647153Z",
     "iopub.status.idle": "2023-04-17T11:37:36.650747Z",
     "shell.execute_reply": "2023-04-17T11:37:36.650195Z"
    },
    "papermill": {
     "duration": 0.011658,
     "end_time": "2023-04-17T11:37:36.651956",
     "exception": false,
     "start_time": "2023-04-17T11:37:36.640298",
     "status": "completed"
    },
    "tags": []
   },
   "outputs": [],
   "source": [
    "def get_dep_indicateur_synthese_data(dep, id_indicateur, ovq_synthese_data) :\n",
    "    dep_dict = get_dep_synthese_data(dep, ovq_synthese_data)\n",
    "    \n",
    "    for ovq_dict in dep_dict['ovq'] :\n",
    "        for ind_dict in ovq_dict['indicateurs'] :\n",
    "            if id_indicateur in ind_dict.keys() :\n",
    "                res = ind_dict[id_indicateur][0]\n",
    "                break\n",
    "    return res"
   ]
  },
  {
   "cell_type": "code",
   "execution_count": 7,
   "id": "criminal-margin",
   "metadata": {
    "execution": {
     "iopub.execute_input": "2023-04-17T11:37:36.665309Z",
     "iopub.status.busy": "2023-04-17T11:37:36.664795Z",
     "iopub.status.idle": "2023-04-17T11:37:36.668230Z",
     "shell.execute_reply": "2023-04-17T11:37:36.667639Z"
    },
    "papermill": {
     "duration": 0.011448,
     "end_time": "2023-04-17T11:37:36.669469",
     "exception": false,
     "start_time": "2023-04-17T11:37:36.658021",
     "status": "completed"
    },
    "tags": []
   },
   "outputs": [],
   "source": [
    "def get_indicateur_structure_cible(id_indicateur, structure_cible_data) :\n",
    "    for ovq_dict in structure_cible_data :\n",
    "        for ind_dict in ovq_dict['indicateurs'] :\n",
    "            if ind_dict['id_indicateur_fr'] == id_indicateur :\n",
    "                res = ind_dict\n",
    "                break\n",
    "    return res"
   ]
  },
  {
   "cell_type": "code",
   "execution_count": 8,
   "id": "found-directory",
   "metadata": {
    "execution": {
     "iopub.execute_input": "2023-04-17T11:37:36.683319Z",
     "iopub.status.busy": "2023-04-17T11:37:36.682833Z",
     "iopub.status.idle": "2023-04-17T11:37:36.686216Z",
     "shell.execute_reply": "2023-04-17T11:37:36.685680Z"
    },
    "papermill": {
     "duration": 0.011365,
     "end_time": "2023-04-17T11:37:36.687408",
     "exception": false,
     "start_time": "2023-04-17T11:37:36.676043",
     "status": "completed"
    },
    "tags": []
   },
   "outputs": [],
   "source": [
    "def get_id_ovq_from_id_indicateur(id_indicateur, structure_cible_data) :\n",
    "    for ovq_dict in structure_cible_data :\n",
    "        for ind_dict in ovq_dict['indicateurs'] :\n",
    "            if ind_dict['id_indicateur_fr'] == id_indicateur :\n",
    "                id_ovq = ovq_dict['id_ovq']\n",
    "                break\n",
    "    return id_ovq"
   ]
  },
  {
   "cell_type": "code",
   "execution_count": 9,
   "id": "detailed-theme",
   "metadata": {
    "execution": {
     "iopub.execute_input": "2023-04-17T11:37:36.701037Z",
     "iopub.status.busy": "2023-04-17T11:37:36.700681Z",
     "iopub.status.idle": "2023-04-17T11:37:36.703885Z",
     "shell.execute_reply": "2023-04-17T11:37:36.703292Z"
    },
    "papermill": {
     "duration": 0.011211,
     "end_time": "2023-04-17T11:37:36.705073",
     "exception": false,
     "start_time": "2023-04-17T11:37:36.693862",
     "status": "completed"
    },
    "tags": []
   },
   "outputs": [],
   "source": [
    "def get_ovq_structure_cible(id_ovq, structure_cible_data) :\n",
    "    for ovq_dict in structure_cible_data :\n",
    "        if ovq_dict['id_ovq'] == id_ovq :\n",
    "            res = ovq_dict\n",
    "            break\n",
    "    return res"
   ]
  },
  {
   "cell_type": "code",
   "execution_count": 10,
   "id": "contemporary-professor",
   "metadata": {
    "execution": {
     "iopub.execute_input": "2023-04-17T11:37:36.718680Z",
     "iopub.status.busy": "2023-04-17T11:37:36.718307Z",
     "iopub.status.idle": "2023-04-17T11:37:36.723452Z",
     "shell.execute_reply": "2023-04-17T11:37:36.722894Z"
    },
    "papermill": {
     "duration": 0.013188,
     "end_time": "2023-04-17T11:37:36.724623",
     "exception": false,
     "start_time": "2023-04-17T11:37:36.711435",
     "status": "completed"
    },
    "tags": []
   },
   "outputs": [],
   "source": [
    "def get_detail_data(id_indicateur, dep, level, structure_cible_data, base_folder_path) :\n",
    "    #level can be departemental, regional or national\n",
    "    \n",
    "    id_ovq = get_id_ovq_from_id_indicateur(id_indicateur, structure_cible_data)\n",
    "    ovq_struc = get_ovq_structure_cible(id_ovq, structure_cible_data)\n",
    "    \n",
    "    for source_dict in ovq_struc['odm_sources_ids'] :\n",
    "        if source_dict['odm_source_level'] == level :\n",
    "            source_url = source_dict['odm_source_file']\n",
    "            \n",
    "    full_source_url = os.path.join(base_folder_path, source_url[1:])\n",
    "    \n",
    "    r = requests.get(full_source_url)\n",
    "    data = json.loads(r.content)\n",
    "    \n",
    "    if level == 'departemental' :\n",
    "        for dep_dict in data :\n",
    "            if dep_dict['dep'] == dep :\n",
    "                res = dep_dict[id_indicateur]\n",
    "                break\n",
    "                \n",
    "    elif level == 'regional' :\n",
    "        reg = get_dep_infos(dep)['reg']\n",
    "        for reg_dict in data :\n",
    "            if reg_dict['reg'] == reg :\n",
    "                res = reg_dict[id_indicateur]\n",
    "                break\n",
    "                \n",
    "    elif level == 'national' :\n",
    "        res = data[0][id_indicateur]\n",
    "    \n",
    "    return res"
   ]
  },
  {
   "cell_type": "code",
   "execution_count": 11,
   "id": "instrumental-monaco",
   "metadata": {
    "execution": {
     "iopub.execute_input": "2023-04-17T11:37:36.737851Z",
     "iopub.status.busy": "2023-04-17T11:37:36.737491Z",
     "iopub.status.idle": "2023-04-17T11:37:36.742683Z",
     "shell.execute_reply": "2023-04-17T11:37:36.742133Z"
    },
    "papermill": {
     "duration": 0.013061,
     "end_time": "2023-04-17T11:37:36.743862",
     "exception": false,
     "start_time": "2023-04-17T11:37:36.730801",
     "status": "completed"
    },
    "tags": []
   },
   "outputs": [],
   "source": [
    "def make_pct_bullet_chart(pct, bar_color='#3D49A5', bg_color='#BBBFDF') :\n",
    "    \n",
    "    if pct < 0 : #To improve if inverted bullet chart is possible with plotly\n",
    "        bar_color = '#ED782F'\n",
    "        bg_color = '#ED782F'\n",
    "    \n",
    "    rounded_pct = round(pct)\n",
    "    \n",
    "    fig = go.Figure(go.Indicator(\n",
    "        mode = \"gauge\",\n",
    "        gauge = {'shape': \"bullet\", 'axis': {'visible':False, 'range': [0, 100]}, 'bgcolor':bg_color, 'bordercolor':'white', 'bar':{'thickness':1, 'color':bar_color}},\n",
    "        value = rounded_pct,\n",
    "        number = {'suffix':'%'},\n",
    "        domain = {'x': [0, 1], 'y': [0, 1]}))\n",
    "    \n",
    "    fig.update_layout(height = 400, width=2400, paper_bgcolor='rgba(0,0,0,0)', plot_bgcolor='rgba(0,0,0,0)')\n",
    "\n",
    "    fig.add_annotation(dict(font=dict(color='white',size=100),\n",
    "                                            x=0.05,\n",
    "                                            y=0.5,\n",
    "                                            showarrow=False,\n",
    "                                            text=str(rounded_pct)+'%',\n",
    "                                            textangle=0,\n",
    "                                            xanchor='left',\n",
    "                                            xref=\"paper\",\n",
    "                                            yref=\"paper\"))\n",
    "\n",
    "    return fig"
   ]
  },
  {
   "cell_type": "code",
   "execution_count": 12,
   "id": "fatal-uganda",
   "metadata": {
    "execution": {
     "iopub.execute_input": "2023-04-17T11:37:36.757119Z",
     "iopub.status.busy": "2023-04-17T11:37:36.756613Z",
     "iopub.status.idle": "2023-04-17T11:37:36.760642Z",
     "shell.execute_reply": "2023-04-17T11:37:36.760047Z"
    },
    "papermill": {
     "duration": 0.011888,
     "end_time": "2023-04-17T11:37:36.761783",
     "exception": false,
     "start_time": "2023-04-17T11:37:36.749895",
     "status": "completed"
    },
    "tags": []
   },
   "outputs": [],
   "source": [
    "months_fr_dict = {\n",
    "    '01':'janvier',\n",
    "    '02':'février',\n",
    "    '03':'mars',\n",
    "    '04':'avril',\n",
    "    '05':'mai',\n",
    "    '06':'juin',\n",
    "    '07':'juillet',\n",
    "    '08':'août',\n",
    "    '09':'septembre',\n",
    "    '10':'octobre',\n",
    "    '11':'novembre',\n",
    "    '12':'décembre'\n",
    "}\n",
    "\n",
    "# yearmonth should be in '2020-01' format\n",
    "\n",
    "def yearmonth_to_fr(yearmonth) :\n",
    "    month = yearmonth[-2:]\n",
    "    year = yearmonth[:4]\n",
    "    \n",
    "    return months_fr_dict[month] + ' ' + year"
   ]
  },
  {
   "cell_type": "code",
   "execution_count": 13,
   "id": "offensive-pasta",
   "metadata": {
    "execution": {
     "iopub.execute_input": "2023-04-17T11:37:36.775104Z",
     "iopub.status.busy": "2023-04-17T11:37:36.774608Z",
     "iopub.status.idle": "2023-04-17T11:37:36.777593Z",
     "shell.execute_reply": "2023-04-17T11:37:36.777023Z"
    },
    "papermill": {
     "duration": 0.010965,
     "end_time": "2023-04-17T11:37:36.778817",
     "exception": false,
     "start_time": "2023-04-17T11:37:36.767852",
     "status": "completed"
    },
    "tags": []
   },
   "outputs": [],
   "source": [
    "def reformat_number(number) :\n",
    "    return '{:,}'.format(number).replace(',',' ').replace('.',',')"
   ]
  },
  {
   "cell_type": "code",
   "execution_count": 14,
   "id": "historic-amazon",
   "metadata": {
    "execution": {
     "iopub.execute_input": "2023-04-17T11:37:36.791970Z",
     "iopub.status.busy": "2023-04-17T11:37:36.791783Z",
     "iopub.status.idle": "2023-04-17T11:37:36.799490Z",
     "shell.execute_reply": "2023-04-17T11:37:36.798589Z"
    },
    "papermill": {
     "duration": 0.015709,
     "end_time": "2023-04-17T11:37:36.800613",
     "exception": false,
     "start_time": "2023-04-17T11:37:36.784904",
     "status": "completed"
    },
    "tags": []
   },
   "outputs": [],
   "source": [
    "def make_detail_chart(df, chart_type) :\n",
    "    \n",
    "    text = ['' for i in range(len(df)-1)] + [reformat_number(list(df.sort_values('date')['value'])[-1])]\n",
    "    \n",
    "    if chart_type == 'histo' :\n",
    "        fig = px.bar(df, x='date', y='value',\n",
    "                         labels={'date':'', 'value':''}, \n",
    "                         height=400,\n",
    "                         width=900,\n",
    "                         color=None,\n",
    "                         orientation='v',\n",
    "                         text=text,\n",
    "                         title=None)\n",
    "        fig.update_layout(showlegend=False, uniformtext_minsize=8, uniformtext_mode='hide')\n",
    "        fig.layout['xaxis'].showgrid = False\n",
    "        fig.update_traces(marker_color='#00AC8C', textposition='outside', cliponaxis=False)\n",
    "        fig.update_xaxes(tickangle=-45,\n",
    "                         tickfont=dict(size=8),\n",
    "                         tickmode = 'array',\n",
    "                         tickvals = list(df['date']),\n",
    "                         ticktext= list(df['date_tick']))\n",
    "                        \n",
    "        return fig\n",
    "    \n",
    "    elif chart_type == 'line' :\n",
    "        fig = px.line(df, x='date', y='value',\n",
    "                         labels={'date':'', 'value':''}, \n",
    "                         height=400,\n",
    "                         width=750,\n",
    "                         color=None,\n",
    "                         orientation='v',\n",
    "                         text=text,\n",
    "                         title=None)\n",
    "        fig.update_layout(showlegend=False)\n",
    "        fig.layout['xaxis'].showgrid = False\n",
    "        fig.update_traces(marker=dict(size=12, line=dict(width=2, color='white')), marker_color='#00AC8C', line_color='#00AC8C', line_width=6, textposition='top center', cliponaxis=False)\n",
    "        fig.update_xaxes(tickangle=-45,\n",
    "                         tickfont=dict(size=8),\n",
    "                         tickmode = 'array',\n",
    "                         tickvals = list(df['date']),\n",
    "                         ticktext= list(df['date_tick']))\n",
    "        fig.data[0].update(mode='markers+lines+text')\n",
    "\n",
    "        return fig\n",
    "    \n",
    "    else :\n",
    "        print('Unknown chart type.')\n",
    "        return None"
   ]
  },
  {
   "cell_type": "code",
   "execution_count": 15,
   "id": "lyric-wright",
   "metadata": {
    "execution": {
     "iopub.execute_input": "2023-04-17T11:37:36.813917Z",
     "iopub.status.busy": "2023-04-17T11:37:36.813399Z",
     "iopub.status.idle": "2023-04-17T11:37:36.816398Z",
     "shell.execute_reply": "2023-04-17T11:37:36.815865Z"
    },
    "papermill": {
     "duration": 0.010893,
     "end_time": "2023-04-17T11:37:36.817580",
     "exception": false,
     "start_time": "2023-04-17T11:37:36.806687",
     "status": "completed"
    },
    "tags": []
   },
   "outputs": [],
   "source": [
    "def remove_html_tags(raw_html):\n",
    "    tag_regex = re.compile('<.*?>')\n",
    "    return re.sub(tag_regex, '', raw_html)"
   ]
  },
  {
   "cell_type": "code",
   "execution_count": 16,
   "id": "african-upper",
   "metadata": {
    "execution": {
     "iopub.execute_input": "2023-04-17T11:37:36.830844Z",
     "iopub.status.busy": "2023-04-17T11:37:36.830366Z",
     "iopub.status.idle": "2023-04-17T11:37:36.835808Z",
     "shell.execute_reply": "2023-04-17T11:37:36.835322Z"
    },
    "papermill": {
     "duration": 0.013272,
     "end_time": "2023-04-17T11:37:36.836932",
     "exception": false,
     "start_time": "2023-04-17T11:37:36.823660",
     "status": "completed"
    },
    "tags": []
   },
   "outputs": [],
   "source": [
    "def clean_description(text) :\n",
    "    \n",
    "    def drop_border_spaces(string) :\n",
    "        while string.startswith(' ') :\n",
    "            string = string[1:]\n",
    "        while string.endswith(' ') :\n",
    "            string = string[:-1]\n",
    "        return string\n",
    "    \n",
    "    text_lines = text.splitlines()\n",
    "    text_lines = [line.replace('<li>', '-') for line in text_lines]\n",
    "    text_lines = [remove_html_tags(line) for line in text_lines]\n",
    "    text_lines = [drop_border_spaces(line) for line in text_lines]\n",
    "    text_lines = [line for line in text_lines if line != '']\n",
    "    \n",
    "    #Managing lists\n",
    "    corr_text_lines = [text_lines[0]]\n",
    "    for i in range(1, len(text_lines)) :\n",
    "        if text_lines[i-1] == '-' :\n",
    "            new_line = '- ' + text_lines[i]\n",
    "        else :\n",
    "            new_line = text_lines[i]\n",
    "        corr_text_lines += [new_line]\n",
    "        \n",
    "    corr_text_lines = [line for line in corr_text_lines if line != '-']\n",
    "    \n",
    "    #Joining lines by linebreaks\n",
    "    corr_text = '\\n'.join(corr_text_lines)\n",
    "    \n",
    "    return corr_text"
   ]
  },
  {
   "cell_type": "code",
   "execution_count": 17,
   "id": "experimental-ivory",
   "metadata": {
    "execution": {
     "iopub.execute_input": "2023-04-17T11:37:36.850492Z",
     "iopub.status.busy": "2023-04-17T11:37:36.850041Z",
     "iopub.status.idle": "2023-04-17T11:37:36.853237Z",
     "shell.execute_reply": "2023-04-17T11:37:36.852673Z"
    },
    "papermill": {
     "duration": 0.011328,
     "end_time": "2023-04-17T11:37:36.854467",
     "exception": false,
     "start_time": "2023-04-17T11:37:36.843139",
     "status": "completed"
    },
    "tags": []
   },
   "outputs": [],
   "source": [
    "#Insert here any new character that would generate Encoding errors when exporting with FPDF\n",
    "def drop_encoding_issues(text) :\n",
    "    return text.replace('’', \"'\").replace('\\u20ac',' euros').replace('œ','oe').replace('…','...').replace('–','-')"
   ]
  },
  {
   "cell_type": "markdown",
   "id": "mature-variance",
   "metadata": {
    "papermill": {
     "duration": 0.006022,
     "end_time": "2023-04-17T11:37:36.866595",
     "exception": false,
     "start_time": "2023-04-17T11:37:36.860573",
     "status": "completed"
    },
    "tags": []
   },
   "source": [
    "## Get data and build parameters out of it"
   ]
  },
  {
   "cell_type": "code",
   "execution_count": 18,
   "id": "center-platform",
   "metadata": {
    "execution": {
     "iopub.execute_input": "2023-04-17T11:37:36.879952Z",
     "iopub.status.busy": "2023-04-17T11:37:36.879455Z",
     "iopub.status.idle": "2023-04-17T11:37:37.364744Z",
     "shell.execute_reply": "2023-04-17T11:37:37.363602Z"
    },
    "papermill": {
     "duration": 0.493667,
     "end_time": "2023-04-17T11:37:37.366377",
     "exception": false,
     "start_time": "2023-04-17T11:37:36.872710",
     "status": "completed"
    },
    "tags": []
   },
   "outputs": [],
   "source": [
    "#Loading OVQ synthese data\n",
    "r = requests.get(ovq_synthese_data_path)\n",
    "ovq_synthese_data = json.loads(r.content)"
   ]
  },
  {
   "cell_type": "code",
   "execution_count": 19,
   "id": "aboriginal-roman",
   "metadata": {
    "execution": {
     "iopub.execute_input": "2023-04-17T11:37:37.380451Z",
     "iopub.status.busy": "2023-04-17T11:37:37.380043Z",
     "iopub.status.idle": "2023-04-17T11:37:37.384013Z",
     "shell.execute_reply": "2023-04-17T11:37:37.383408Z"
    },
    "papermill": {
     "duration": 0.013318,
     "end_time": "2023-04-17T11:37:37.386314",
     "exception": false,
     "start_time": "2023-04-17T11:37:37.372996",
     "status": "completed"
    },
    "tags": []
   },
   "outputs": [
    {
     "name": "stdout",
     "output_type": "stream",
     "text": [
      "101\n"
     ]
    }
   ],
   "source": [
    "#Departements list\n",
    "dep_list = sorted(list(set([dep_dict['dep'] for dep_dict in ovq_synthese_data])))\n",
    "print(len(dep_list))"
   ]
  },
  {
   "cell_type": "code",
   "execution_count": 20,
   "id": "photographic-serial",
   "metadata": {
    "execution": {
     "iopub.execute_input": "2023-04-17T11:37:37.400150Z",
     "iopub.status.busy": "2023-04-17T11:37:37.399784Z",
     "iopub.status.idle": "2023-04-17T11:37:37.405989Z",
     "shell.execute_reply": "2023-04-17T11:37:37.405543Z"
    },
    "papermill": {
     "duration": 0.014606,
     "end_time": "2023-04-17T11:37:37.407248",
     "exception": false,
     "start_time": "2023-04-17T11:37:37.392642",
     "status": "completed"
    },
    "tags": []
   },
   "outputs": [
    {
     "name": "stdout",
     "output_type": "stream",
     "text": [
      "57\n"
     ]
    }
   ],
   "source": [
    "#Indicateurs list\n",
    "id_indicateur_list = []\n",
    "for dep_dict in ovq_synthese_data :\n",
    "    for ovq_dict in dep_dict['ovq'] :\n",
    "        for ind_dict in ovq_dict['indicateurs'] :\n",
    "            id_indicateur_list += list(ind_dict.keys())\n",
    "            \n",
    "id_indicateur_list = list(set(id_indicateur_list))\n",
    "print(len(id_indicateur_list))"
   ]
  },
  {
   "cell_type": "code",
   "execution_count": 21,
   "id": "joined-calibration",
   "metadata": {
    "execution": {
     "iopub.execute_input": "2023-04-17T11:37:37.420826Z",
     "iopub.status.busy": "2023-04-17T11:37:37.420376Z",
     "iopub.status.idle": "2023-04-17T11:37:37.952045Z",
     "shell.execute_reply": "2023-04-17T11:37:37.950908Z"
    },
    "papermill": {
     "duration": 0.540724,
     "end_time": "2023-04-17T11:37:37.954213",
     "exception": false,
     "start_time": "2023-04-17T11:37:37.413489",
     "status": "completed"
    },
    "tags": []
   },
   "outputs": [],
   "source": [
    "#Loading structure data\n",
    "\n",
    "r = requests.get(ovq_structure_cible_path)\n",
    "structure_cible_data = json.loads(r.content)\n",
    "\n",
    "r = requests.get(ovq_structure_families_path)\n",
    "structure_families_data = json.loads(r.content)"
   ]
  },
  {
   "cell_type": "markdown",
   "id": "worth-death",
   "metadata": {
    "papermill": {
     "duration": 0.006451,
     "end_time": "2023-04-17T11:37:37.967532",
     "exception": false,
     "start_time": "2023-04-17T11:37:37.961081",
     "status": "completed"
    },
    "tags": []
   },
   "source": [
    "## Making the graphs"
   ]
  },
  {
   "cell_type": "code",
   "execution_count": 22,
   "id": "opened-bidder",
   "metadata": {
    "execution": {
     "iopub.execute_input": "2023-04-17T11:37:37.981701Z",
     "iopub.status.busy": "2023-04-17T11:37:37.981251Z",
     "iopub.status.idle": "2023-04-17T11:37:37.984556Z",
     "shell.execute_reply": "2023-04-17T11:37:37.983977Z"
    },
    "papermill": {
     "duration": 0.011679,
     "end_time": "2023-04-17T11:37:37.985717",
     "exception": false,
     "start_time": "2023-04-17T11:37:37.974038",
     "status": "completed"
    },
    "tags": []
   },
   "outputs": [],
   "source": [
    "mkdir_ifnotexist(os.path.join(img_dir_path, 'graphs'))"
   ]
  },
  {
   "cell_type": "markdown",
   "id": "distinguished-antenna",
   "metadata": {
    "papermill": {
     "duration": 0.006147,
     "end_time": "2023-04-17T11:37:37.998119",
     "exception": false,
     "start_time": "2023-04-17T11:37:37.991972",
     "status": "completed"
    },
    "tags": []
   },
   "source": [
    "### Synthese gauges"
   ]
  },
  {
   "cell_type": "code",
   "execution_count": 23,
   "id": "crucial-trustee",
   "metadata": {
    "execution": {
     "iopub.execute_input": "2023-04-17T11:37:38.011937Z",
     "iopub.status.busy": "2023-04-17T11:37:38.011417Z",
     "iopub.status.idle": "2023-04-17T11:39:56.451687Z",
     "shell.execute_reply": "2023-04-17T11:39:56.451124Z"
    },
    "papermill": {
     "duration": 138.453892,
     "end_time": "2023-04-17T11:39:56.458258",
     "exception": false,
     "start_time": "2023-04-17T11:37:38.004366",
     "status": "completed"
    },
    "tags": []
   },
   "outputs": [
    {
     "name": "stdout",
     "output_type": "stream",
     "text": [
      "CPU times: user 27.2 s, sys: 1.35 s, total: 28.5 s\n",
      "Wall time: 2min 18s\n"
     ]
    }
   ],
   "source": [
    "%%time\n",
    "for dep in dep_list :\n",
    "    for id_indicateur in id_indicateur_list :\n",
    "        data = get_dep_indicateur_synthese_data(dep, id_indicateur, ovq_synthese_data)\n",
    "        pct = data['target_percentage']\n",
    "        \n",
    "        if pct is not None :\n",
    "            fig = make_pct_bullet_chart(pct)\n",
    "\n",
    "            if fig is not None :\n",
    "                img_path = os.path.join(img_dir_path, 'graphs', 'bullet_chart-synthese-target_percentage-{}-dep_{}.png'.format(id_indicateur, dep))\n",
    "                fig.write_image(img_path)"
   ]
  },
  {
   "cell_type": "markdown",
   "id": "romantic-prisoner",
   "metadata": {
    "papermill": {
     "duration": 0.006338,
     "end_time": "2023-04-17T11:39:56.471047",
     "exception": false,
     "start_time": "2023-04-17T11:39:56.464709",
     "status": "completed"
    },
    "tags": []
   },
   "source": [
    "### Detail graphs"
   ]
  },
  {
   "cell_type": "code",
   "execution_count": 24,
   "id": "pointed-harris",
   "metadata": {
    "execution": {
     "iopub.execute_input": "2023-04-17T11:39:56.485200Z",
     "iopub.status.busy": "2023-04-17T11:39:56.484715Z",
     "iopub.status.idle": "2023-04-17T12:04:26.713657Z",
     "shell.execute_reply": "2023-04-17T12:04:26.713003Z"
    },
    "papermill": {
     "duration": 1470.23812,
     "end_time": "2023-04-17T12:04:26.715429",
     "exception": false,
     "start_time": "2023-04-17T11:39:56.477309",
     "status": "completed"
    },
    "tags": []
   },
   "outputs": [
    {
     "name": "stdout",
     "output_type": "stream",
     "text": [
      "2023-04-17 11:40:20.380436 - Dep 01 done.\n"
     ]
    },
    {
     "name": "stdout",
     "output_type": "stream",
     "text": [
      "2023-04-17 11:40:34.896082 - Dep 02 done.\n"
     ]
    },
    {
     "name": "stdout",
     "output_type": "stream",
     "text": [
      "2023-04-17 11:40:49.113283 - Dep 03 done.\n"
     ]
    },
    {
     "name": "stdout",
     "output_type": "stream",
     "text": [
      "2023-04-17 11:41:03.102127 - Dep 04 done.\n"
     ]
    },
    {
     "name": "stdout",
     "output_type": "stream",
     "text": [
      "2023-04-17 11:41:17.000018 - Dep 05 done.\n"
     ]
    },
    {
     "name": "stdout",
     "output_type": "stream",
     "text": [
      "2023-04-17 11:41:31.327710 - Dep 06 done.\n"
     ]
    },
    {
     "name": "stdout",
     "output_type": "stream",
     "text": [
      "2023-04-17 11:41:45.475787 - Dep 07 done.\n"
     ]
    },
    {
     "name": "stdout",
     "output_type": "stream",
     "text": [
      "2023-04-17 11:41:59.542126 - Dep 08 done.\n"
     ]
    },
    {
     "name": "stdout",
     "output_type": "stream",
     "text": [
      "2023-04-17 11:42:13.570635 - Dep 09 done.\n"
     ]
    },
    {
     "name": "stdout",
     "output_type": "stream",
     "text": [
      "2023-04-17 11:42:27.528126 - Dep 10 done.\n"
     ]
    },
    {
     "name": "stdout",
     "output_type": "stream",
     "text": [
      "2023-04-17 11:42:41.619714 - Dep 11 done.\n"
     ]
    },
    {
     "name": "stdout",
     "output_type": "stream",
     "text": [
      "2023-04-17 11:42:55.595668 - Dep 12 done.\n"
     ]
    },
    {
     "name": "stdout",
     "output_type": "stream",
     "text": [
      "2023-04-17 11:43:09.786796 - Dep 13 done.\n"
     ]
    },
    {
     "name": "stdout",
     "output_type": "stream",
     "text": [
      "2023-04-17 11:43:23.839932 - Dep 14 done.\n"
     ]
    },
    {
     "name": "stdout",
     "output_type": "stream",
     "text": [
      "2023-04-17 11:43:37.924918 - Dep 15 done.\n"
     ]
    },
    {
     "name": "stdout",
     "output_type": "stream",
     "text": [
      "2023-04-17 11:43:52.725255 - Dep 16 done.\n"
     ]
    },
    {
     "name": "stdout",
     "output_type": "stream",
     "text": [
      "2023-04-17 11:44:06.869735 - Dep 17 done.\n"
     ]
    },
    {
     "name": "stdout",
     "output_type": "stream",
     "text": [
      "2023-04-17 11:44:20.853889 - Dep 18 done.\n"
     ]
    },
    {
     "name": "stdout",
     "output_type": "stream",
     "text": [
      "2023-04-17 11:44:34.870124 - Dep 19 done.\n"
     ]
    },
    {
     "name": "stdout",
     "output_type": "stream",
     "text": [
      "2023-04-17 11:44:49.094663 - Dep 21 done.\n"
     ]
    },
    {
     "name": "stdout",
     "output_type": "stream",
     "text": [
      "2023-04-17 11:45:03.210539 - Dep 22 done.\n"
     ]
    },
    {
     "name": "stdout",
     "output_type": "stream",
     "text": [
      "2023-04-17 11:45:23.668267 - Dep 23 done.\n"
     ]
    },
    {
     "name": "stdout",
     "output_type": "stream",
     "text": [
      "2023-04-17 11:45:37.811834 - Dep 24 done.\n"
     ]
    },
    {
     "name": "stdout",
     "output_type": "stream",
     "text": [
      "2023-04-17 11:45:52.355947 - Dep 25 done.\n"
     ]
    },
    {
     "name": "stdout",
     "output_type": "stream",
     "text": [
      "2023-04-17 11:46:06.573062 - Dep 26 done.\n"
     ]
    },
    {
     "name": "stdout",
     "output_type": "stream",
     "text": [
      "2023-04-17 11:46:20.722164 - Dep 27 done.\n"
     ]
    },
    {
     "name": "stdout",
     "output_type": "stream",
     "text": [
      "2023-04-17 11:46:34.873294 - Dep 28 done.\n"
     ]
    },
    {
     "name": "stdout",
     "output_type": "stream",
     "text": [
      "2023-04-17 11:46:48.945088 - Dep 29 done.\n"
     ]
    },
    {
     "name": "stdout",
     "output_type": "stream",
     "text": [
      "2023-04-17 11:47:03.207578 - Dep 2A done.\n"
     ]
    },
    {
     "name": "stdout",
     "output_type": "stream",
     "text": [
      "2023-04-17 11:47:17.105239 - Dep 2B done.\n"
     ]
    },
    {
     "name": "stdout",
     "output_type": "stream",
     "text": [
      "2023-04-17 11:47:31.239303 - Dep 30 done.\n"
     ]
    },
    {
     "name": "stdout",
     "output_type": "stream",
     "text": [
      "2023-04-17 11:47:46.272085 - Dep 31 done.\n"
     ]
    },
    {
     "name": "stdout",
     "output_type": "stream",
     "text": [
      "2023-04-17 11:48:00.440157 - Dep 32 done.\n"
     ]
    },
    {
     "name": "stdout",
     "output_type": "stream",
     "text": [
      "2023-04-17 11:48:14.650910 - Dep 33 done.\n"
     ]
    },
    {
     "name": "stdout",
     "output_type": "stream",
     "text": [
      "2023-04-17 11:48:28.824365 - Dep 34 done.\n"
     ]
    },
    {
     "name": "stdout",
     "output_type": "stream",
     "text": [
      "2023-04-17 11:48:43.582003 - Dep 35 done.\n"
     ]
    },
    {
     "name": "stdout",
     "output_type": "stream",
     "text": [
      "2023-04-17 11:48:57.703556 - Dep 36 done.\n"
     ]
    },
    {
     "name": "stdout",
     "output_type": "stream",
     "text": [
      "2023-04-17 11:49:12.057252 - Dep 37 done.\n"
     ]
    },
    {
     "name": "stdout",
     "output_type": "stream",
     "text": [
      "2023-04-17 11:49:26.134709 - Dep 38 done.\n"
     ]
    },
    {
     "name": "stdout",
     "output_type": "stream",
     "text": [
      "2023-04-17 11:49:40.447174 - Dep 39 done.\n"
     ]
    },
    {
     "name": "stdout",
     "output_type": "stream",
     "text": [
      "2023-04-17 11:49:54.435413 - Dep 40 done.\n"
     ]
    },
    {
     "name": "stdout",
     "output_type": "stream",
     "text": [
      "2023-04-17 11:50:08.531113 - Dep 41 done.\n"
     ]
    },
    {
     "name": "stdout",
     "output_type": "stream",
     "text": [
      "2023-04-17 11:50:28.292594 - Dep 42 done.\n"
     ]
    },
    {
     "name": "stdout",
     "output_type": "stream",
     "text": [
      "2023-04-17 11:50:42.548907 - Dep 43 done.\n"
     ]
    },
    {
     "name": "stdout",
     "output_type": "stream",
     "text": [
      "2023-04-17 11:50:56.884649 - Dep 44 done.\n"
     ]
    },
    {
     "name": "stdout",
     "output_type": "stream",
     "text": [
      "2023-04-17 11:51:11.032174 - Dep 45 done.\n"
     ]
    },
    {
     "name": "stdout",
     "output_type": "stream",
     "text": [
      "2023-04-17 11:51:25.984784 - Dep 46 done.\n"
     ]
    },
    {
     "name": "stdout",
     "output_type": "stream",
     "text": [
      "2023-04-17 11:51:40.225368 - Dep 47 done.\n"
     ]
    },
    {
     "name": "stdout",
     "output_type": "stream",
     "text": [
      "2023-04-17 11:51:54.171211 - Dep 48 done.\n"
     ]
    },
    {
     "name": "stdout",
     "output_type": "stream",
     "text": [
      "2023-04-17 11:52:08.309680 - Dep 49 done.\n"
     ]
    },
    {
     "name": "stdout",
     "output_type": "stream",
     "text": [
      "2023-04-17 11:52:22.450894 - Dep 50 done.\n"
     ]
    },
    {
     "name": "stdout",
     "output_type": "stream",
     "text": [
      "2023-04-17 11:52:36.733742 - Dep 51 done.\n"
     ]
    },
    {
     "name": "stdout",
     "output_type": "stream",
     "text": [
      "2023-04-17 11:52:50.795453 - Dep 52 done.\n"
     ]
    },
    {
     "name": "stdout",
     "output_type": "stream",
     "text": [
      "2023-04-17 11:53:04.831553 - Dep 53 done.\n"
     ]
    },
    {
     "name": "stdout",
     "output_type": "stream",
     "text": [
      "2023-04-17 11:53:18.950232 - Dep 54 done.\n"
     ]
    },
    {
     "name": "stdout",
     "output_type": "stream",
     "text": [
      "2023-04-17 11:53:33.160515 - Dep 55 done.\n"
     ]
    },
    {
     "name": "stdout",
     "output_type": "stream",
     "text": [
      "2023-04-17 11:53:47.409544 - Dep 56 done.\n"
     ]
    },
    {
     "name": "stdout",
     "output_type": "stream",
     "text": [
      "2023-04-17 11:54:01.442585 - Dep 57 done.\n"
     ]
    },
    {
     "name": "stdout",
     "output_type": "stream",
     "text": [
      "2023-04-17 11:54:15.691057 - Dep 58 done.\n"
     ]
    },
    {
     "name": "stdout",
     "output_type": "stream",
     "text": [
      "2023-04-17 11:54:29.920457 - Dep 59 done.\n"
     ]
    },
    {
     "name": "stdout",
     "output_type": "stream",
     "text": [
      "2023-04-17 11:54:44.220829 - Dep 60 done.\n"
     ]
    },
    {
     "name": "stdout",
     "output_type": "stream",
     "text": [
      "2023-04-17 11:54:58.297405 - Dep 61 done.\n"
     ]
    },
    {
     "name": "stdout",
     "output_type": "stream",
     "text": [
      "2023-04-17 11:55:13.023604 - Dep 62 done.\n"
     ]
    },
    {
     "name": "stdout",
     "output_type": "stream",
     "text": [
      "2023-04-17 11:55:31.680322 - Dep 63 done.\n"
     ]
    },
    {
     "name": "stdout",
     "output_type": "stream",
     "text": [
      "2023-04-17 11:55:45.967335 - Dep 64 done.\n"
     ]
    },
    {
     "name": "stdout",
     "output_type": "stream",
     "text": [
      "2023-04-17 11:56:00.171082 - Dep 65 done.\n"
     ]
    },
    {
     "name": "stdout",
     "output_type": "stream",
     "text": [
      "2023-04-17 11:56:14.282668 - Dep 66 done.\n"
     ]
    },
    {
     "name": "stdout",
     "output_type": "stream",
     "text": [
      "2023-04-17 11:56:28.855889 - Dep 67 done.\n"
     ]
    },
    {
     "name": "stdout",
     "output_type": "stream",
     "text": [
      "2023-04-17 11:56:43.176652 - Dep 68 done.\n"
     ]
    },
    {
     "name": "stdout",
     "output_type": "stream",
     "text": [
      "2023-04-17 11:56:57.500005 - Dep 69 done.\n"
     ]
    },
    {
     "name": "stdout",
     "output_type": "stream",
     "text": [
      "2023-04-17 11:57:11.738446 - Dep 70 done.\n"
     ]
    },
    {
     "name": "stdout",
     "output_type": "stream",
     "text": [
      "2023-04-17 11:57:25.856023 - Dep 71 done.\n"
     ]
    },
    {
     "name": "stdout",
     "output_type": "stream",
     "text": [
      "2023-04-17 11:57:40.048255 - Dep 72 done.\n"
     ]
    },
    {
     "name": "stdout",
     "output_type": "stream",
     "text": [
      "2023-04-17 11:57:54.007951 - Dep 73 done.\n"
     ]
    },
    {
     "name": "stdout",
     "output_type": "stream",
     "text": [
      "2023-04-17 11:58:08.356171 - Dep 74 done.\n"
     ]
    },
    {
     "name": "stdout",
     "output_type": "stream",
     "text": [
      "2023-04-17 11:58:23.212168 - Dep 75 done.\n"
     ]
    },
    {
     "name": "stdout",
     "output_type": "stream",
     "text": [
      "2023-04-17 11:58:37.596561 - Dep 76 done.\n"
     ]
    },
    {
     "name": "stdout",
     "output_type": "stream",
     "text": [
      "2023-04-17 11:58:52.339410 - Dep 77 done.\n"
     ]
    },
    {
     "name": "stdout",
     "output_type": "stream",
     "text": [
      "2023-04-17 11:59:06.659693 - Dep 78 done.\n"
     ]
    },
    {
     "name": "stdout",
     "output_type": "stream",
     "text": [
      "2023-04-17 11:59:20.895984 - Dep 79 done.\n"
     ]
    },
    {
     "name": "stdout",
     "output_type": "stream",
     "text": [
      "2023-04-17 11:59:35.051452 - Dep 80 done.\n"
     ]
    },
    {
     "name": "stdout",
     "output_type": "stream",
     "text": [
      "2023-04-17 11:59:49.270015 - Dep 81 done.\n"
     ]
    },
    {
     "name": "stdout",
     "output_type": "stream",
     "text": [
      "2023-04-17 12:00:03.372352 - Dep 82 done.\n"
     ]
    },
    {
     "name": "stdout",
     "output_type": "stream",
     "text": [
      "2023-04-17 12:00:17.651952 - Dep 83 done.\n"
     ]
    },
    {
     "name": "stdout",
     "output_type": "stream",
     "text": [
      "2023-04-17 12:00:37.458788 - Dep 84 done.\n"
     ]
    },
    {
     "name": "stdout",
     "output_type": "stream",
     "text": [
      "2023-04-17 12:00:51.676664 - Dep 85 done.\n"
     ]
    },
    {
     "name": "stdout",
     "output_type": "stream",
     "text": [
      "2023-04-17 12:01:05.917730 - Dep 86 done.\n"
     ]
    },
    {
     "name": "stdout",
     "output_type": "stream",
     "text": [
      "2023-04-17 12:01:20.368554 - Dep 87 done.\n"
     ]
    },
    {
     "name": "stdout",
     "output_type": "stream",
     "text": [
      "2023-04-17 12:01:34.719217 - Dep 88 done.\n"
     ]
    },
    {
     "name": "stdout",
     "output_type": "stream",
     "text": [
      "2023-04-17 12:01:49.344615 - Dep 89 done.\n"
     ]
    },
    {
     "name": "stdout",
     "output_type": "stream",
     "text": [
      "2023-04-17 12:02:03.493360 - Dep 90 done.\n"
     ]
    },
    {
     "name": "stdout",
     "output_type": "stream",
     "text": [
      "2023-04-17 12:02:17.780762 - Dep 91 done.\n"
     ]
    },
    {
     "name": "stdout",
     "output_type": "stream",
     "text": [
      "2023-04-17 12:02:32.538961 - Dep 92 done.\n"
     ]
    },
    {
     "name": "stdout",
     "output_type": "stream",
     "text": [
      "2023-04-17 12:02:47.233063 - Dep 93 done.\n"
     ]
    },
    {
     "name": "stdout",
     "output_type": "stream",
     "text": [
      "2023-04-17 12:03:01.439724 - Dep 94 done.\n"
     ]
    },
    {
     "name": "stdout",
     "output_type": "stream",
     "text": [
      "2023-04-17 12:03:15.544127 - Dep 95 done.\n"
     ]
    },
    {
     "name": "stdout",
     "output_type": "stream",
     "text": [
      "2023-04-17 12:03:30.173600 - Dep 971 done.\n"
     ]
    },
    {
     "name": "stdout",
     "output_type": "stream",
     "text": [
      "2023-04-17 12:03:44.321088 - Dep 972 done.\n"
     ]
    },
    {
     "name": "stdout",
     "output_type": "stream",
     "text": [
      "2023-04-17 12:03:58.403993 - Dep 973 done.\n"
     ]
    },
    {
     "name": "stdout",
     "output_type": "stream",
     "text": [
      "2023-04-17 12:04:12.683217 - Dep 974 done.\n"
     ]
    },
    {
     "name": "stdout",
     "output_type": "stream",
     "text": [
      "2023-04-17 12:04:26.709641 - Dep 976 done.\n",
      "CPU times: user 11min 24s, sys: 6.25 s, total: 11min 31s\n",
      "Wall time: 24min 30s\n"
     ]
    }
   ],
   "source": [
    "%%time\n",
    "short_level_dict = {\n",
    "    'dep':'departemental',\n",
    "    'reg':'regional',\n",
    "    'nat':'national'\n",
    "}\n",
    "\n",
    "for dep in dep_list :\n",
    "    for id_indicateur in id_indicateur_list :\n",
    "        \n",
    "        #Get information to know what level of data to use\n",
    "        synthese_data = get_dep_indicateur_synthese_data(dep, id_indicateur, ovq_synthese_data)\n",
    "        level = short_level_dict[synthese_data['from_level']]\n",
    "        \n",
    "        #Get chart type for indicateur\n",
    "        chart_type = get_indicateur_structure_cible(id_indicateur, structure_cible_data)['odm_chart_type']\n",
    "        \n",
    "        #Get data\n",
    "        detail_data = get_detail_data(id_indicateur, dep, level, structure_cible_data, base_folder_path)\n",
    "        df = pd.DataFrame(detail_data)\n",
    "        df = df.sort_values('date')\n",
    "        df['date_tick'] = df['date'].apply(lambda x : yearmonth_to_fr(x[:7]))\n",
    "        \n",
    "        #Making graphs\n",
    "        fig = make_detail_chart(df, chart_type)\n",
    "        img_path = os.path.join(img_dir_path, 'graphs', 'graph-detail-{}-dep_{}.png'.format(id_indicateur, dep))\n",
    "\n",
    "        if fig is not None :\n",
    "            fig.write_image(img_path)\n",
    "\n",
    "    print('{} - Dep {} done.'.format(datetime.datetime.today(), dep))"
   ]
  },
  {
   "cell_type": "markdown",
   "id": "complex-water",
   "metadata": {
    "papermill": {
     "duration": 0.011489,
     "end_time": "2023-04-17T12:04:26.738648",
     "exception": false,
     "start_time": "2023-04-17T12:04:26.727159",
     "status": "completed"
    },
    "tags": []
   },
   "source": [
    "## Building the reports"
   ]
  },
  {
   "cell_type": "code",
   "execution_count": 25,
   "id": "approximate-retrieval",
   "metadata": {
    "execution": {
     "iopub.execute_input": "2023-04-17T12:04:26.762529Z",
     "iopub.status.busy": "2023-04-17T12:04:26.762053Z",
     "iopub.status.idle": "2023-04-17T12:04:26.765382Z",
     "shell.execute_reply": "2023-04-17T12:04:26.764732Z"
    },
    "papermill": {
     "duration": 0.01681,
     "end_time": "2023-04-17T12:04:26.766721",
     "exception": false,
     "start_time": "2023-04-17T12:04:26.749911",
     "status": "completed"
    },
    "tags": []
   },
   "outputs": [],
   "source": [
    "mkdir_ifnotexist(reports_dir_path)"
   ]
  },
  {
   "cell_type": "code",
   "execution_count": 26,
   "id": "large-provision",
   "metadata": {
    "execution": {
     "iopub.execute_input": "2023-04-17T12:04:26.790177Z",
     "iopub.status.busy": "2023-04-17T12:04:26.789964Z",
     "iopub.status.idle": "2023-04-17T12:04:26.792895Z",
     "shell.execute_reply": "2023-04-17T12:04:26.792301Z"
    },
    "papermill": {
     "duration": 0.016265,
     "end_time": "2023-04-17T12:04:26.794210",
     "exception": false,
     "start_time": "2023-04-17T12:04:26.777945",
     "status": "completed"
    },
    "tags": []
   },
   "outputs": [],
   "source": [
    "global title_header\n",
    "title_header = ''"
   ]
  },
  {
   "cell_type": "code",
   "execution_count": 27,
   "id": "serial-rogers",
   "metadata": {
    "execution": {
     "iopub.execute_input": "2023-04-17T12:04:26.817797Z",
     "iopub.status.busy": "2023-04-17T12:04:26.817572Z",
     "iopub.status.idle": "2023-04-17T12:04:26.824199Z",
     "shell.execute_reply": "2023-04-17T12:04:26.823592Z"
    },
    "papermill": {
     "duration": 0.020135,
     "end_time": "2023-04-17T12:04:26.825538",
     "exception": false,
     "start_time": "2023-04-17T12:04:26.805403",
     "status": "completed"
    },
    "tags": []
   },
   "outputs": [],
   "source": [
    "class PDF(FPDF):\n",
    "    def header(self):\n",
    "        if (self.page_no() != 1 ):\n",
    "            # Logo\n",
    "            self.image(os.path.join(img_dir_path, 'gouv.png'), 10, 8, 45)\n",
    "            # Arial bold 15\n",
    "            self.cell(50)\n",
    "            self.set_font('Arial', 'B', 16)\n",
    "            self.cell(80, 15, title_header, 0, 1, 'A')\n",
    "\n",
    "            # Move to the right\n",
    "            # Title\n",
    "            self.set_font('Arial', 'I', 9)\n",
    "            self.cell(50)\n",
    "            #self.cell(50, 10, subtitle_header+' - aides-entreprises.data.gouv.fr', 0, 1, 'A', link='https://aides-entreprises.data.gouv.fr/')\n",
    "            self.cell(50, 10, 'www.gouvernement.fr/les-actions-du-gouvernement', 0, 1, 'A', link='https://www.gouvernement.fr/les-actions-du-gouvernement')\n",
    "            # Line break  \n",
    "            pdf.line(40, 38, 170, 38)\n",
    "            self.ln(7)\n",
    "        \n",
    "    # Page footer\n",
    "    def footer(self):\n",
    "        if (self.page_no() != 1 ):\n",
    "            # Position at 1.5 cm from bottom\n",
    "            self.set_y(-15)\n",
    "            # Arial italic 8\n",
    "            self.set_font('Arial', 'I', 8)\n",
    "            # Page number\n",
    "            \n",
    "            self.cell(0, 10, 'Direction Interministérielle du Numérique (DINUM) - Page ' + str(self.page_no()) + '/{nb}', 0, 0, 'C')"
   ]
  },
  {
   "cell_type": "code",
   "execution_count": 28,
   "id": "boxed-story",
   "metadata": {
    "execution": {
     "iopub.execute_input": "2023-04-17T12:04:26.849645Z",
     "iopub.status.busy": "2023-04-17T12:04:26.849356Z",
     "iopub.status.idle": "2023-04-17T12:04:26.874897Z",
     "shell.execute_reply": "2023-04-17T12:04:26.874425Z"
    },
    "papermill": {
     "duration": 0.038912,
     "end_time": "2023-04-17T12:04:26.876025",
     "exception": false,
     "start_time": "2023-04-17T12:04:26.837113",
     "status": "completed"
    },
    "tags": []
   },
   "outputs": [],
   "source": [
    "def insert_indicateur(pdf, dep, ind_data, ind_struc) :\n",
    "    \n",
    "    #Getting relevant information in data\n",
    "    initial_value = ind_data['initial_value']\n",
    "    initial_value_date = ind_data['initial_value_date']\n",
    "    latest_value = ind_data['latest_value']\n",
    "    latest_value_date = ind_data['latest_value_date']\n",
    "    target_value = ind_data['target']\n",
    "    target_percentage = ind_data['target_percentage']\n",
    "    target_value_date = ind_data['target_date']\n",
    "    progression_percentage = ind_data['progression_percentage']\n",
    "    from_level = ind_data['from_level']\n",
    "    \n",
    "    #Getting relevant information in structure\n",
    "    id_indicateur = ind_struc['id_indicateur_fr']\n",
    "    nom_indicateur = drop_encoding_issues(ind_struc['nom_indicateur'])\n",
    "    ind_text_url = drop_encoding_issues(ind_struc['odm_text'])\n",
    "    kpi_format = ind_struc['odm_kpi_format']\n",
    "    kpi_unit = drop_encoding_issues(ind_struc['odm_kpi_unit'])\n",
    "    chart_unit = drop_encoding_issues(ind_struc['odm_chart_unit'])\n",
    "    to_round = ind_struc['toRound']\n",
    "    \n",
    "    #Numbers formating\n",
    "    if to_round is not None :\n",
    "        if initial_value is not None :\n",
    "            initial_value = round(initial_value, to_round)\n",
    "            initial_value = reformat_number(initial_value)\n",
    "        if latest_value is not None :\n",
    "            latest_value = round(latest_value, to_round)\n",
    "            latest_value = reformat_number(latest_value)\n",
    "        if target_value is not None :\n",
    "            target_value = round(target_value, to_round)\n",
    "            target_value = reformat_number(target_value)\n",
    "            \n",
    "    if progression_percentage is not None :\n",
    "        if progression_percentage < 0 :\n",
    "            progression_percentage_str = '- '+str(-progression_percentage).replace('.',',')+' %'\n",
    "        else :\n",
    "            progression_percentage_str = '+ '+str(progression_percentage).replace('.',',')+' %'\n",
    "    else :\n",
    "        progression_percentage_str = ''\n",
    "    \n",
    "    if kpi_unit.startswith('%') :\n",
    "        if initial_value is not None :\n",
    "            initial_value += ' %'\n",
    "        if latest_value is not None :\n",
    "            latest_value += ' %'\n",
    "        if target_value is not None :\n",
    "            target_value += ' %'\n",
    "        kpi_unit = kpi_unit.replace('% ','').replace('%','')\n",
    "    \n",
    "    #Initializing blocks parameters\n",
    "    nb_blocks = 1\n",
    "    ini_block = False\n",
    "    tar_block = False\n",
    "    \n",
    "    #Current value (always present)\n",
    "    latest_value_date_str = yearmonth_to_fr(latest_value_date[:7])\n",
    "    latest_value_str = str(latest_value).replace('.',',')\n",
    "    \n",
    "    #Insert initial block if init value exists\n",
    "    if initial_value is not None :\n",
    "        if float(initial_value.replace(',','.').replace(' ','').replace('%','')) > 0 :\n",
    "            initial_value_date_str = yearmonth_to_fr(initial_value_date[:7])\n",
    "            initial_value_str = str(initial_value).replace('.',',')\n",
    "            nb_blocks += 1\n",
    "            ini_block = True\n",
    "        \n",
    "    #Insert target block if target value exists\n",
    "    if target_value is not None :\n",
    "        target_value_date_str = yearmonth_to_fr(target_value_date[:7])\n",
    "        target_value_str = str(target_value).replace('.',',')\n",
    "        nb_blocks += 1\n",
    "        tar_block = True\n",
    "        \n",
    "    #Blocks settings depending on existing data\n",
    "    block_spacing = 5\n",
    "    block_width = (182 - (nb_blocks-1)*block_spacing)/nb_blocks\n",
    "    \n",
    "    #INDICATOR DISPLAY\n",
    "    \n",
    "    #Indicator title\n",
    "    pdf.set_text_color(0,0,0)\n",
    "    pdf.set_font('Arial', 'B', 12)\n",
    "    pdf.multi_cell(182, 5, 'Indicateur : '+ nom_indicateur, align='L')\n",
    "    pdf.ln(3)\n",
    "    \n",
    "    #Indicator description\n",
    "    full_ind_text_url = os.path.join(base_folder_path, ind_text_url[1:])\n",
    "    r = requests.get(full_ind_text_url)\n",
    "    ind_text = drop_encoding_issues(r.text)\n",
    "    ind_text = clean_description(ind_text)\n",
    "    \n",
    "    pdf.set_font('Arial', '', 10)\n",
    "    pdf.multi_cell(182, 5, ind_text, align='J')\n",
    "    pdf.ln(3)\n",
    "    \n",
    "    #Data geo level indication\n",
    "    if from_level == 'dep' :\n",
    "        from_level_str = \"Les résultats pour le département : \" + get_dep_infos(dep)['dep_name']\n",
    "    elif from_level == 'reg' :\n",
    "        from_level_str = \"Données uniquement disponibles pour la région : \" + get_dep_infos(dep)['reg_name']\n",
    "    elif from_level == 'nat' :\n",
    "        from_level_str = \"Données uniquement disponibles pour la France\"\n",
    "    \n",
    "    pdf.set_text_color(0,0,0)\n",
    "    pdf.set_font('Arial', '', 10)\n",
    "    pdf.set_fill_color(245,245,245);\n",
    "    pdf.cell(182, 8, from_level_str, 0, 2, 'L', fill=True)\n",
    "    pdf.ln(3)\n",
    "    \n",
    "    #Indicator blocks\n",
    "    \n",
    "    y_blocks_top = pdf.get_y()\n",
    "    x_blocks_left = pdf.get_x()\n",
    "    \n",
    "    #Initial value block\n",
    "    if ini_block == True :\n",
    "        pdf.set_fill_color(253, 244, 242)\n",
    "        pdf.set_font('Arial', '', 8)\n",
    "        pdf.cell(block_width, 8, 'En {}'.format(initial_value_date_str), 0, 1, 'L', fill=True)\n",
    "        pdf.set_fill_color(254, 249, 248)\n",
    "        pdf.set_font('Arial', 'B', 20)\n",
    "        pdf.cell(block_width, 10, initial_value_str, 0, 1, 'L', fill=True)\n",
    "        pdf.set_font('Arial', '', 10)\n",
    "        pdf.cell(block_width, 3, kpi_unit, 0, 1, 'L', fill=True)\n",
    "        block_left_x = pdf.get_x()\n",
    "        block_bottom_y = pdf.get_y()\n",
    "        y_blocks_top = block_bottom_y - (8+10+3) #Just in case there is an auto page break that puts blocks in different y\n",
    "        pdf.cell(block_width, 10, '', 0, 1, 'L', fill=True)\n",
    "    \n",
    "    #Current value block (always here)\n",
    "    if ini_block == True :\n",
    "        pdf.set_xy(block_width + pdf.l_margin + block_spacing, y_blocks_top)\n",
    "    pdf.set_fill_color(234, 244, 239)\n",
    "    pdf.set_font('Arial', '', 8)\n",
    "    pdf.cell(block_width, 8, 'En {}'.format(latest_value_date_str), 0, 2, 'L', fill=True)\n",
    "    pdf.set_fill_color(244, 250, 247)\n",
    "    pdf.set_font('Arial', 'B', 20)\n",
    "    pdf.cell(block_width, 10, latest_value_str, 0, 2, 'L', fill=True)\n",
    "    pdf.set_font('Arial', '', 10)\n",
    "    pdf.cell(block_width, 3, kpi_unit, 0, 2, 'L', fill=True)\n",
    "    block_left_x = pdf.get_x()\n",
    "    block_bottom_y = pdf.get_y()\n",
    "    y_blocks_top = block_bottom_y - (8+10+3) #Just in case there is an auto page break that puts blocks in different y\n",
    "    pdf.cell(block_width, 10, progression_percentage_str, 0, 2, 'L', fill=True)\n",
    "    \n",
    "    #Target value block\n",
    "    if tar_block == True :\n",
    "        if nb_blocks == 2 :\n",
    "            pdf.set_xy(block_width + pdf.l_margin + block_spacing, y_blocks_top)\n",
    "        elif nb_blocks == 3 :\n",
    "            pdf.set_xy(2*block_width + pdf.l_margin + 2*block_spacing, y_blocks_top)\n",
    "            \n",
    "        pdf.set_fill_color(229, 229, 243)\n",
    "        pdf.set_font('Arial', '', 8)\n",
    "        pdf.cell(block_width, 8, 'Cible {}'.format(target_value_date_str), 0, 2, 'L', fill=True)\n",
    "        pdf.set_fill_color(242, 242, 248)\n",
    "        pdf.set_font('Arial', 'B', 20)\n",
    "        pdf.cell(block_width, 10, target_value_str, 0, 2, 'L', fill=True)\n",
    "        pdf.set_font('Arial', '', 10)\n",
    "        pdf.cell(block_width, 3, kpi_unit, 0, 2, 'L', fill=True)\n",
    "        \n",
    "        #Inserting bullet chart (prog %) if exists\n",
    "        block_left_x = pdf.get_x()\n",
    "        block_bottom_y = pdf.get_y()\n",
    "        pdf.cell(block_width, 10, '', 0, 2, 'L', fill=True)\n",
    "        bullet_chart_width = 55\n",
    "        pdf.set_xy(block_left_x + block_width/2 - bullet_chart_width/2, block_bottom_y)\n",
    "        try :\n",
    "            prog_img_path = os.path.join(img_dir_path, 'graphs', 'bullet_chart-synthese-target_percentage-{}-dep_{}.png'.format(id_indicateur, dep))\n",
    "            pdf.image(prog_img_path, w=bullet_chart_width)\n",
    "        except :\n",
    "            pass\n",
    "    \n",
    "    #To go properly on next line (under blocks)\n",
    "    pdf.set_xy(block_left_x, block_bottom_y)\n",
    "    pdf.cell(0, 10, '', 0, 1) #Just to go to next line\n",
    "    \n",
    "    #CHART DISPLAY\n",
    "    try :\n",
    "        chart_width = 140\n",
    "        chart_img_path = os.path.join(img_dir_path, 'graphs', 'graph-detail-{}-dep_{}.png'.format(id_indicateur, dep))\n",
    "        pdf.set_x(x_blocks_left + 182/2 - chart_width/2)\n",
    "        pdf.image(chart_img_path, w=chart_width)\n",
    "\n",
    "        pdf.set_x(x_blocks_left)\n",
    "        pdf.set_font('Arial', 'I', 8)\n",
    "        pdf.cell(182, 8, 'Unité : {}'.format(chart_unit), 0, 2, 'C')\n",
    "    except :\n",
    "        print('No chart found for {}'.format(id_indicateur))\n",
    "\n",
    "    return pdf"
   ]
  },
  {
   "cell_type": "code",
   "execution_count": 29,
   "id": "sorted-contract",
   "metadata": {
    "execution": {
     "iopub.execute_input": "2023-04-17T12:04:26.899759Z",
     "iopub.status.busy": "2023-04-17T12:04:26.899576Z",
     "iopub.status.idle": "2023-04-17T13:50:55.422779Z",
     "shell.execute_reply": "2023-04-17T13:50:55.422235Z"
    },
    "papermill": {
     "duration": 6388.549656,
     "end_time": "2023-04-17T13:50:55.437239",
     "exception": false,
     "start_time": "2023-04-17T12:04:26.887583",
     "status": "completed"
    },
    "tags": []
   },
   "outputs": [
    {
     "name": "stdout",
     "output_type": "stream",
     "text": [
      "2023-04-17 12:05:48.196120 - 01-Ain done.\n"
     ]
    },
    {
     "name": "stdout",
     "output_type": "stream",
     "text": [
      "2023-04-17 12:06:48.374286 - 02-Aisne done.\n"
     ]
    },
    {
     "name": "stdout",
     "output_type": "stream",
     "text": [
      "2023-04-17 12:07:48.935195 - 03-Allier done.\n"
     ]
    },
    {
     "name": "stdout",
     "output_type": "stream",
     "text": [
      "2023-04-17 12:08:49.763991 - 04-Alpes-de-Haute-Provence done.\n"
     ]
    },
    {
     "name": "stdout",
     "output_type": "stream",
     "text": [
      "2023-04-17 12:09:51.159872 - 05-Hautes-Alpes done.\n"
     ]
    },
    {
     "name": "stdout",
     "output_type": "stream",
     "text": [
      "2023-04-17 12:11:09.140233 - 06-Alpes-Maritimes done.\n"
     ]
    },
    {
     "name": "stdout",
     "output_type": "stream",
     "text": [
      "2023-04-17 12:12:11.857136 - 07-Ardèche done.\n"
     ]
    },
    {
     "name": "stdout",
     "output_type": "stream",
     "text": [
      "2023-04-17 12:13:10.400292 - 08-Ardennes done.\n"
     ]
    },
    {
     "name": "stdout",
     "output_type": "stream",
     "text": [
      "2023-04-17 12:14:09.315968 - 09-Ariège done.\n"
     ]
    },
    {
     "name": "stdout",
     "output_type": "stream",
     "text": [
      "2023-04-17 12:15:08.761832 - 10-Aube done.\n"
     ]
    },
    {
     "name": "stdout",
     "output_type": "stream",
     "text": [
      "2023-04-17 12:16:23.084078 - 11-Aude done.\n"
     ]
    },
    {
     "name": "stdout",
     "output_type": "stream",
     "text": [
      "2023-04-17 12:17:25.686480 - 12-Aveyron done.\n"
     ]
    },
    {
     "name": "stdout",
     "output_type": "stream",
     "text": [
      "2023-04-17 12:18:28.591398 - 13-Bouches-du-Rhône done.\n"
     ]
    },
    {
     "name": "stdout",
     "output_type": "stream",
     "text": [
      "2023-04-17 12:19:28.302676 - 14-Calvados done.\n"
     ]
    },
    {
     "name": "stdout",
     "output_type": "stream",
     "text": [
      "2023-04-17 12:20:28.166374 - 15-Cantal done.\n"
     ]
    },
    {
     "name": "stdout",
     "output_type": "stream",
     "text": [
      "2023-04-17 12:21:42.314982 - 16-Charente done.\n"
     ]
    },
    {
     "name": "stdout",
     "output_type": "stream",
     "text": [
      "2023-04-17 12:22:42.272831 - 17-Charente-Maritime done.\n"
     ]
    },
    {
     "name": "stdout",
     "output_type": "stream",
     "text": [
      "2023-04-17 12:23:44.817561 - 18-Cher done.\n"
     ]
    },
    {
     "name": "stdout",
     "output_type": "stream",
     "text": [
      "2023-04-17 12:24:43.016172 - 19-Corrèze done.\n"
     ]
    },
    {
     "name": "stdout",
     "output_type": "stream",
     "text": [
      "2023-04-17 12:25:43.271838 - 21-Côte-d'Or done.\n"
     ]
    },
    {
     "name": "stdout",
     "output_type": "stream",
     "text": [
      "2023-04-17 12:26:58.325946 - 22-Côtes-d'Armor done.\n"
     ]
    },
    {
     "name": "stdout",
     "output_type": "stream",
     "text": [
      "2023-04-17 12:27:57.618008 - 23-Creuse done.\n"
     ]
    },
    {
     "name": "stdout",
     "output_type": "stream",
     "text": [
      "2023-04-17 12:28:59.927348 - 24-Dordogne done.\n"
     ]
    },
    {
     "name": "stdout",
     "output_type": "stream",
     "text": [
      "2023-04-17 12:30:00.152849 - 25-Doubs done.\n"
     ]
    },
    {
     "name": "stdout",
     "output_type": "stream",
     "text": [
      "2023-04-17 12:31:01.331493 - 26-Drôme done.\n"
     ]
    },
    {
     "name": "stdout",
     "output_type": "stream",
     "text": [
      "2023-04-17 12:32:13.416975 - 27-Eure done.\n"
     ]
    },
    {
     "name": "stdout",
     "output_type": "stream",
     "text": [
      "2023-04-17 12:33:15.753078 - 28-Eure-et-Loir done.\n"
     ]
    },
    {
     "name": "stdout",
     "output_type": "stream",
     "text": [
      "2023-04-17 12:34:15.409401 - 29-Finistère done.\n"
     ]
    },
    {
     "name": "stdout",
     "output_type": "stream",
     "text": [
      "2023-04-17 12:35:11.866311 - 2A-Corse-du-Sud done.\n"
     ]
    },
    {
     "name": "stdout",
     "output_type": "stream",
     "text": [
      "2023-04-17 12:36:08.906701 - 2B-Haute-Corse done.\n"
     ]
    },
    {
     "name": "stdout",
     "output_type": "stream",
     "text": [
      "2023-04-17 12:37:22.979031 - 30-Gard done.\n"
     ]
    },
    {
     "name": "stdout",
     "output_type": "stream",
     "text": [
      "2023-04-17 12:38:25.484950 - 31-Haute-Garonne done.\n"
     ]
    },
    {
     "name": "stdout",
     "output_type": "stream",
     "text": [
      "2023-04-17 12:39:23.826604 - 32-Gers done.\n"
     ]
    },
    {
     "name": "stdout",
     "output_type": "stream",
     "text": [
      "2023-04-17 12:40:25.663451 - 33-Gironde done.\n"
     ]
    },
    {
     "name": "stdout",
     "output_type": "stream",
     "text": [
      "2023-04-17 12:41:25.562481 - 34-Hérault done.\n"
     ]
    },
    {
     "name": "stdout",
     "output_type": "stream",
     "text": [
      "2023-04-17 12:42:41.057232 - 35-Ille-et-Vilaine done.\n"
     ]
    },
    {
     "name": "stdout",
     "output_type": "stream",
     "text": [
      "2023-04-17 12:43:39.615565 - 36-Indre done.\n"
     ]
    },
    {
     "name": "stdout",
     "output_type": "stream",
     "text": [
      "2023-04-17 12:44:39.148676 - 37-Indre-et-Loire done.\n"
     ]
    },
    {
     "name": "stdout",
     "output_type": "stream",
     "text": [
      "2023-04-17 12:45:40.943442 - 38-Isère done.\n"
     ]
    },
    {
     "name": "stdout",
     "output_type": "stream",
     "text": [
      "2023-04-17 12:46:40.152149 - 39-Jura done.\n"
     ]
    },
    {
     "name": "stdout",
     "output_type": "stream",
     "text": [
      "2023-04-17 12:47:53.435192 - 40-Landes done.\n"
     ]
    },
    {
     "name": "stdout",
     "output_type": "stream",
     "text": [
      "2023-04-17 12:48:52.974554 - 41-Loir-et-Cher done.\n"
     ]
    },
    {
     "name": "stdout",
     "output_type": "stream",
     "text": [
      "2023-04-17 12:49:55.819749 - 42-Loire done.\n"
     ]
    },
    {
     "name": "stdout",
     "output_type": "stream",
     "text": [
      "2023-04-17 12:50:55.869254 - 43-Haute-Loire done.\n"
     ]
    },
    {
     "name": "stdout",
     "output_type": "stream",
     "text": [
      "2023-04-17 12:51:57.673221 - 44-Loire-Atlantique done.\n"
     ]
    },
    {
     "name": "stdout",
     "output_type": "stream",
     "text": [
      "2023-04-17 12:53:10.679257 - 45-Loiret done.\n"
     ]
    },
    {
     "name": "stdout",
     "output_type": "stream",
     "text": [
      "2023-04-17 12:54:09.459140 - 46-Lot done.\n"
     ]
    },
    {
     "name": "stdout",
     "output_type": "stream",
     "text": [
      "2023-04-17 12:55:08.634206 - 47-Lot-et-Garonne done.\n"
     ]
    },
    {
     "name": "stdout",
     "output_type": "stream",
     "text": [
      "2023-04-17 12:56:07.298821 - 48-Lozère done.\n"
     ]
    },
    {
     "name": "stdout",
     "output_type": "stream",
     "text": [
      "2023-04-17 12:57:09.931423 - 49-Maine-et-Loire done.\n"
     ]
    },
    {
     "name": "stdout",
     "output_type": "stream",
     "text": [
      "2023-04-17 12:58:23.807394 - 50-Manche done.\n"
     ]
    },
    {
     "name": "stdout",
     "output_type": "stream",
     "text": [
      "2023-04-17 12:59:23.503595 - 51-Marne done.\n"
     ]
    },
    {
     "name": "stdout",
     "output_type": "stream",
     "text": [
      "2023-04-17 13:00:22.153893 - 52-Haute-Marne done.\n"
     ]
    },
    {
     "name": "stdout",
     "output_type": "stream",
     "text": [
      "2023-04-17 13:01:20.664629 - 53-Mayenne done.\n"
     ]
    },
    {
     "name": "stdout",
     "output_type": "stream",
     "text": [
      "2023-04-17 13:02:21.571626 - 54-Meurthe-et-Moselle done.\n"
     ]
    },
    {
     "name": "stdout",
     "output_type": "stream",
     "text": [
      "2023-04-17 13:03:32.057264 - 55-Meuse done.\n"
     ]
    },
    {
     "name": "stdout",
     "output_type": "stream",
     "text": [
      "2023-04-17 13:04:34.515064 - 56-Morbihan done.\n"
     ]
    },
    {
     "name": "stdout",
     "output_type": "stream",
     "text": [
      "2023-04-17 13:05:37.946766 - 57-Moselle done.\n"
     ]
    },
    {
     "name": "stdout",
     "output_type": "stream",
     "text": [
      "2023-04-17 13:06:38.797631 - 58-Nièvre done.\n"
     ]
    },
    {
     "name": "stdout",
     "output_type": "stream",
     "text": [
      "2023-04-17 13:07:41.021507 - 59-Nord done.\n"
     ]
    },
    {
     "name": "stdout",
     "output_type": "stream",
     "text": [
      "2023-04-17 13:08:54.900019 - 60-Oise done.\n"
     ]
    },
    {
     "name": "stdout",
     "output_type": "stream",
     "text": [
      "2023-04-17 13:09:54.409528 - 61-Orne done.\n"
     ]
    },
    {
     "name": "stdout",
     "output_type": "stream",
     "text": [
      "2023-04-17 13:10:54.617102 - 62-Pas-de-Calais done.\n"
     ]
    },
    {
     "name": "stdout",
     "output_type": "stream",
     "text": [
      "2023-04-17 13:11:54.954512 - 63-Puy-de-Dôme done.\n"
     ]
    },
    {
     "name": "stdout",
     "output_type": "stream",
     "text": [
      "2023-04-17 13:12:55.355453 - 64-Pyrénées-Atlantiques done.\n"
     ]
    },
    {
     "name": "stdout",
     "output_type": "stream",
     "text": [
      "2023-04-17 13:14:06.654471 - 65-Hautes-Pyrénées done.\n"
     ]
    },
    {
     "name": "stdout",
     "output_type": "stream",
     "text": [
      "2023-04-17 13:15:05.961237 - 66-Pyrénées-Orientales done.\n"
     ]
    },
    {
     "name": "stdout",
     "output_type": "stream",
     "text": [
      "2023-04-17 13:16:08.060129 - 67-Bas-Rhin done.\n"
     ]
    },
    {
     "name": "stdout",
     "output_type": "stream",
     "text": [
      "2023-04-17 13:17:08.224676 - 68-Haut-Rhin done.\n"
     ]
    },
    {
     "name": "stdout",
     "output_type": "stream",
     "text": [
      "2023-04-17 13:18:07.881654 - 69-Rhône done.\n"
     ]
    },
    {
     "name": "stdout",
     "output_type": "stream",
     "text": [
      "2023-04-17 13:19:21.535161 - 70-Haute-Saône done.\n"
     ]
    },
    {
     "name": "stdout",
     "output_type": "stream",
     "text": [
      "2023-04-17 13:20:21.351881 - 71-Saône-et-Loire done.\n"
     ]
    },
    {
     "name": "stdout",
     "output_type": "stream",
     "text": [
      "2023-04-17 13:21:21.843974 - 72-Sarthe done.\n"
     ]
    },
    {
     "name": "stdout",
     "output_type": "stream",
     "text": [
      "2023-04-17 13:22:22.401630 - 73-Savoie done.\n"
     ]
    },
    {
     "name": "stdout",
     "output_type": "stream",
     "text": [
      "2023-04-17 13:23:21.683589 - 74-Haute-Savoie done.\n"
     ]
    },
    {
     "name": "stdout",
     "output_type": "stream",
     "text": [
      "2023-04-17 13:24:34.897428 - 75-Paris done.\n"
     ]
    },
    {
     "name": "stdout",
     "output_type": "stream",
     "text": [
      "2023-04-17 13:25:36.755073 - 76-Seine-Maritime done.\n"
     ]
    },
    {
     "name": "stdout",
     "output_type": "stream",
     "text": [
      "2023-04-17 13:26:37.287867 - 77-Seine-et-Marne done.\n"
     ]
    },
    {
     "name": "stdout",
     "output_type": "stream",
     "text": [
      "2023-04-17 13:27:37.867299 - 78-Yvelines done.\n"
     ]
    },
    {
     "name": "stdout",
     "output_type": "stream",
     "text": [
      "2023-04-17 13:28:37.598894 - 79-Deux-Sèvres done.\n"
     ]
    },
    {
     "name": "stdout",
     "output_type": "stream",
     "text": [
      "2023-04-17 13:29:51.000930 - 80-Somme done.\n"
     ]
    },
    {
     "name": "stdout",
     "output_type": "stream",
     "text": [
      "2023-04-17 13:30:51.321567 - 81-Tarn done.\n"
     ]
    },
    {
     "name": "stdout",
     "output_type": "stream",
     "text": [
      "2023-04-17 13:31:51.526189 - 82-Tarn-et-Garonne done.\n"
     ]
    },
    {
     "name": "stdout",
     "output_type": "stream",
     "text": [
      "2023-04-17 13:32:52.800930 - 83-Var done.\n"
     ]
    },
    {
     "name": "stdout",
     "output_type": "stream",
     "text": [
      "2023-04-17 13:33:52.672017 - 84-Vaucluse done.\n"
     ]
    },
    {
     "name": "stdout",
     "output_type": "stream",
     "text": [
      "2023-04-17 13:35:05.670905 - 85-Vendée done.\n"
     ]
    },
    {
     "name": "stdout",
     "output_type": "stream",
     "text": [
      "2023-04-17 13:36:05.280671 - 86-Vienne done.\n"
     ]
    },
    {
     "name": "stdout",
     "output_type": "stream",
     "text": [
      "2023-04-17 13:37:05.354419 - 87-Haute-Vienne done.\n"
     ]
    },
    {
     "name": "stdout",
     "output_type": "stream",
     "text": [
      "2023-04-17 13:38:04.885707 - 88-Vosges done.\n"
     ]
    },
    {
     "name": "stdout",
     "output_type": "stream",
     "text": [
      "2023-04-17 13:39:05.673019 - 89-Yonne done.\n"
     ]
    },
    {
     "name": "stdout",
     "output_type": "stream",
     "text": [
      "2023-04-17 13:40:16.400911 - 90-Territoire de Belfort done.\n"
     ]
    },
    {
     "name": "stdout",
     "output_type": "stream",
     "text": [
      "2023-04-17 13:41:16.747813 - 91-Essonne done.\n"
     ]
    },
    {
     "name": "stdout",
     "output_type": "stream",
     "text": [
      "2023-04-17 13:42:17.029402 - 92-Hauts-de-Seine done.\n"
     ]
    },
    {
     "name": "stdout",
     "output_type": "stream",
     "text": [
      "2023-04-17 13:43:17.514995 - 93-Seine-Saint-Denis done.\n"
     ]
    },
    {
     "name": "stdout",
     "output_type": "stream",
     "text": [
      "2023-04-17 13:44:17.607457 - 94-Val-de-Marne done.\n"
     ]
    },
    {
     "name": "stdout",
     "output_type": "stream",
     "text": [
      "2023-04-17 13:45:47.774931 - 95-Val-d'Oise done.\n"
     ]
    },
    {
     "name": "stdout",
     "output_type": "stream",
     "text": [
      "2023-04-17 13:46:47.799512 - 971-Guadeloupe done.\n"
     ]
    },
    {
     "name": "stdout",
     "output_type": "stream",
     "text": [
      "2023-04-17 13:47:47.953232 - 972-Martinique done.\n"
     ]
    },
    {
     "name": "stdout",
     "output_type": "stream",
     "text": [
      "2023-04-17 13:48:47.317194 - 973-Guyane done.\n"
     ]
    },
    {
     "name": "stdout",
     "output_type": "stream",
     "text": [
      "2023-04-17 13:49:46.512738 - 974-La Réunion done.\n"
     ]
    },
    {
     "name": "stdout",
     "output_type": "stream",
     "text": [
      "2023-04-17 13:50:55.415051 - 976-Mayotte done.\n",
      "CPU times: user 1h 30min 52s, sys: 54.5 s, total: 1h 31min 46s\n",
      "Wall time: 1h 46min 28s\n"
     ]
    }
   ],
   "source": [
    "%%time\n",
    "\n",
    "mkdir_ifnotexist(os.path.join(reports_dir_path, 'pdf'))\n",
    "mkdir_ifnotexist(os.path.join(reports_dir_path, 'pdf', 'par_departement'))\n",
    "\n",
    "for dep in dep_list :\n",
    "    \n",
    "    pdf = PDF()\n",
    "    pdf.alias_nb_pages()\n",
    "    pdf.add_page()\n",
    "\n",
    "    #Logos\n",
    "    pdf.image(os.path.join(img_dir_path, 'gouv.png'), 10, 8, 125)\n",
    "    \n",
    "    # Arial bold 15\n",
    "    pdf.set_font('Arial', 'B', 28)\n",
    "    # Move to the right\n",
    "    pdf.cell(50)\n",
    "    pdf.ln(100)\n",
    "    \n",
    "    # Title\n",
    "    pdf.cell(10)\n",
    "    pdf.cell(50, 10, 'BAROMÈTRE DES RÉSULTATS DE', 0, 1, 'A')\n",
    "    pdf.ln(10)\n",
    "    pdf.cell(10)\n",
    "    pdf.cell(50, 10, \"L'ACTION PUBLIQUE\", 0, 1, 'A')\n",
    "    pdf.ln(10)\n",
    "    pdf.cell(60)\n",
    "\n",
    "    pdf.set_font('Arial', 'I', 20)\n",
    "    pdf.ln(10)\n",
    "    pdf.cell(10)\n",
    "    pdf.cell(50, 10, 'Présentation des résultats pour le département :', 0, 1, 'A')\n",
    "    pdf.ln(10)\n",
    "    pdf.cell(10)\n",
    "    pdf.cell(50, 10, dep + ' - ' + get_dep_infos(dep)['dep_name'], 0, 1, 'A')\n",
    "    pdf.ln(70)\n",
    "\n",
    "    pdf.set_font('Arial', 'I', 8)\n",
    "\n",
    "    pdf.cell(10)\n",
    "    pdf.cell(50, 10, \"Données issues du baromètre des résultats consultable sur https://www.gouvernement.fr/les-actions-du-gouvernement\", 0, 1, 'A')\n",
    "    \n",
    "    #Indicateurs\n",
    "    \n",
    "    pdf.set_left_margin(14)\n",
    "    pdf.set_right_margin(14)\n",
    "    \n",
    "    for thematique_dict in structure_families_data :\n",
    "    \n",
    "        thematique = thematique_dict['nom_ovq']\n",
    "        \n",
    "        #Downloading thematique image\n",
    "        thematique_img_url = os.path.join(base_folder_path, thematique_dict['odm_image'][1:])\n",
    "        thematique_img_local_path = './img/' + thematique_img_url.split('/')[-1]\n",
    "        r = requests.get(thematique_img_url)\n",
    "        with open(thematique_img_local_path, 'wb') as f:\n",
    "            f.write(r.content)\n",
    "        \n",
    "        #Section page\n",
    "        title_header = ''\n",
    "        pdf.add_page()\n",
    "        pdf.image(thematique_img_local_path, x=0, y=70, w=210)\n",
    "        pdf.ln(190)\n",
    "        pdf.set_font('Arial', 'B', 25)\n",
    "        pdf.cell(182, 6, thematique.upper())\n",
    "        \n",
    "        title_header = thematique.upper()\n",
    "\n",
    "        id_ovq_list = thematique_dict['id_ovq']\n",
    "        for id_ovq in id_ovq_list :\n",
    "\n",
    "            try :\n",
    "                ovq_dict = get_ovq_structure_cible(id_ovq, structure_cible_data)\n",
    "            except :\n",
    "                print('No structure cible for {}'.format(id_ovq))\n",
    "                ovq_dict = None\n",
    "            \n",
    "            if ovq_dict is not None :\n",
    "                pdf.add_page()\n",
    "                pdf.ln(3)\n",
    "                nom_ovq = drop_encoding_issues(ovq_dict['nom_ovq'])\n",
    "                ovq_text_url = os.path.join(base_folder_path, ovq_dict['odm_text'][1:])\n",
    "                r = requests.get(ovq_text_url)\n",
    "                ovq_text = drop_encoding_issues(r.text)\n",
    "                ovq_text = clean_description(ovq_text)\n",
    "                \n",
    "                #Display OVQ title\n",
    "                pdf.set_font('Arial', 'B', 16)\n",
    "                pdf.multi_cell(182, 6, nom_ovq, align='L')\n",
    "                pdf.ln(3)\n",
    "                #Display OVQ description\n",
    "                pdf.set_font('Arial', '', 10)\n",
    "                pdf.multi_cell(182, 5, ovq_text, align='J')\n",
    "                pdf.ln(3)\n",
    "\n",
    "                ovq_id_indicateur_list = [ind_dict['id_indicateur_fr'] for ind_dict in ovq_dict['indicateurs']]\n",
    "\n",
    "                add_page_for_ind = False\n",
    "                for id_indicateur in ovq_id_indicateur_list :\n",
    "                    if add_page_for_ind == True :\n",
    "                        pdf.add_page()\n",
    "                    ind_data = get_dep_indicateur_synthese_data(dep, id_indicateur, ovq_synthese_data)\n",
    "                    ind_struc = get_indicateur_structure_cible(id_indicateur, structure_cible_data)\n",
    "\n",
    "                    pdf = insert_indicateur(pdf, dep, ind_data, ind_struc)\n",
    "                    add_page_for_ind = True\n",
    "    \n",
    "    dep_name = get_dep_infos(dep)['dep_name']\n",
    "    pdf.output(os.path.join(reports_dir_path, 'pdf', 'par_departement', 'Baromètre_résultats_'+dep_name+'.pdf'), 'F')\n",
    "    \n",
    "    print(str(datetime.datetime.today()) + ' - ' + dep + '-' + dep_name + ' done.')"
   ]
  },
  {
   "cell_type": "markdown",
   "id": "unsigned-mandate",
   "metadata": {
    "papermill": {
     "duration": 0.016036,
     "end_time": "2023-04-17T13:50:55.469515",
     "exception": false,
     "start_time": "2023-04-17T13:50:55.453479",
     "status": "completed"
    },
    "tags": []
   },
   "source": [
    "## Compress to ZIP"
   ]
  },
  {
   "cell_type": "raw",
   "id": "olympic-corporation",
   "metadata": {
    "papermill": {
     "duration": 0.016027,
     "end_time": "2023-04-17T13:50:55.501503",
     "exception": false,
     "start_time": "2023-04-17T13:50:55.485476",
     "status": "completed"
    },
    "tags": []
   },
   "source": [
    "from zipfile import ZipFile"
   ]
  },
  {
   "cell_type": "raw",
   "id": "major-grounds",
   "metadata": {
    "papermill": {
     "duration": 0.01596,
     "end_time": "2023-04-17T13:50:55.533606",
     "exception": false,
     "start_time": "2023-04-17T13:50:55.517646",
     "status": "completed"
    },
    "tags": []
   },
   "source": [
    "today_date = str(datetime.datetime.today())[:10]\n",
    "today_date"
   ]
  },
  {
   "cell_type": "raw",
   "id": "united-missile",
   "metadata": {
    "papermill": {
     "duration": 0.016137,
     "end_time": "2023-04-17T13:50:55.565652",
     "exception": false,
     "start_time": "2023-04-17T13:50:55.549515",
     "status": "completed"
    },
    "tags": []
   },
   "source": [
    "my_zip_date = ZipFile(os.path.join(reports_dir_path, 'Baromètre_résultats_{}.zip'.format(today_date)), 'w')\n",
    "my_zip_latest = ZipFile(os.path.join(reports_dir_path, 'Baromètre_résultats_latest.zip'), 'w')\n",
    "\n",
    "for filename in os.listdir(os.path.join(reports_dir_path, 'pdf')) :\n",
    "    if filename.endswith('.pdf') :\n",
    "        my_zip_date.write(os.path.join(reports_dir_path, 'pdf', filename))\n",
    "        my_zip_latest.write(os.path.join(reports_dir_path, 'pdf', filename))\n",
    "        \n",
    "my_zip_date.close()\n",
    "my_zip_latest.close()"
   ]
  }
 ],
 "metadata": {
  "kernelspec": {
   "display_name": "Python 3",
   "language": "python",
   "name": "python3"
  },
  "language_info": {
   "codemirror_mode": {
    "name": "ipython",
    "version": 3
   },
   "file_extension": ".py",
   "mimetype": "text/x-python",
   "name": "python",
   "nbconvert_exporter": "python",
   "pygments_lexer": "ipython3",
   "version": "3.11.1"
  },
  "papermill": {
   "default_parameters": {},
   "duration": 8003.906742,
   "end_time": "2023-04-17T13:50:58.256466",
   "environment_variables": {},
   "exception": null,
   "input_path": "report-pdf-dep.ipynb",
   "output_path": "report-pdf-dep.ipynb",
   "parameters": {},
   "start_time": "2023-04-17T11:37:34.349724",
   "version": "2.3.2"
  }
 },
 "nbformat": 4,
 "nbformat_minor": 5
}