{
 "cells": [
  {
   "cell_type": "markdown",
   "id": "underlying-eligibility",
   "metadata": {
    "papermill": {
     "duration": 0.021968,
     "end_time": "2021-02-23T09:33:22.110905",
     "exception": false,
     "start_time": "2021-02-23T09:33:22.088937",
     "status": "completed"
    },
    "tags": []
   },
   "source": [
    "# Baromètre des résultats - PDF reports"
   ]
  },
  {
   "cell_type": "markdown",
   "id": "early-packet",
   "metadata": {
    "papermill": {
     "duration": 0.020291,
     "end_time": "2021-02-23T09:33:22.152428",
     "exception": false,
     "start_time": "2021-02-23T09:33:22.132137",
     "status": "completed"
    },
    "tags": []
   },
   "source": [
    "## Imports"
   ]
  },
  {
   "cell_type": "code",
   "execution_count": 1,
   "id": "worthy-chapter",
   "metadata": {
    "execution": {
     "iopub.execute_input": "2021-02-23T09:33:22.207342Z",
     "iopub.status.busy": "2021-02-23T09:33:22.206779Z",
     "iopub.status.idle": "2021-02-23T09:33:22.650668Z",
     "shell.execute_reply": "2021-02-23T09:33:22.649611Z"
    },
    "papermill": {
     "duration": 0.475317,
     "end_time": "2021-02-23T09:33:22.650807",
     "exception": false,
     "start_time": "2021-02-23T09:33:22.175490",
     "status": "completed"
    },
    "tags": []
   },
   "outputs": [],
   "source": [
    "import json\n",
    "import os\n",
    "import datetime\n",
    "import re\n",
    "\n",
    "import requests\n",
    "import pandas as pd\n",
    "\n",
    "import plotly.graph_objects as go\n",
    "import plotly.express as px\n",
    "\n",
    "from fpdf import FPDF"
   ]
  },
  {
   "cell_type": "markdown",
   "id": "stylish-arthur",
   "metadata": {
    "papermill": {
     "duration": 0.020769,
     "end_time": "2021-02-23T09:33:22.692741",
     "exception": false,
     "start_time": "2021-02-23T09:33:22.671972",
     "status": "completed"
    },
    "tags": []
   },
   "source": [
    "## Parameters"
   ]
  },
  {
   "cell_type": "code",
   "execution_count": 2,
   "id": "elegant-spell",
   "metadata": {
    "execution": {
     "iopub.execute_input": "2021-02-23T09:33:22.742554Z",
     "iopub.status.busy": "2021-02-23T09:33:22.741234Z",
     "iopub.status.idle": "2021-02-23T09:33:22.743194Z",
     "shell.execute_reply": "2021-02-23T09:33:22.743730Z"
    },
    "papermill": {
     "duration": 0.030264,
     "end_time": "2021-02-23T09:33:22.743985",
     "exception": false,
     "start_time": "2021-02-23T09:33:22.713721",
     "status": "completed"
    },
    "tags": []
   },
   "outputs": [],
   "source": [
    "base_folder_path = 'https://raw.githubusercontent.com/etalab/barometre-resultats/master/frontend/static/'\n",
    "\n",
    "ovq_data_folder_path = os.path.join(base_folder_path, 'datasets', 'ovq-data')\n",
    "\n",
    "ovq_synthese_data_path = os.path.join(ovq_data_folder_path, 'prod', 'par_territoire', 'territoire-departemental-global-light.json')\n",
    "ovq_detail_data_folder_path = os.path.join(ovq_data_folder_path, 'prod', 'par_thematique')\n",
    "ovq_structure_cible_path = os.path.join(ovq_data_folder_path, 'prod', 'structure', 'structure-cible.json')\n",
    "ovq_structure_families_path = os.path.join(ovq_data_folder_path, 'prod', 'structure', 'structure-families.json')\n",
    "\n",
    "dep_taxo_url = os.path.join(base_folder_path, 'datasets', 'prod', 'taxonomies', 'departements.json')\n",
    "reg_taxo_url = os.path.join(base_folder_path, 'datasets', 'prod', 'taxonomies', 'regions.json')\n",
    "\n",
    "img_dir_path = './img/'\n",
    "reports_dir_path = './reports/'"
   ]
  },
  {
   "cell_type": "markdown",
   "id": "irish-vietnam",
   "metadata": {
    "papermill": {
     "duration": 0.021266,
     "end_time": "2021-02-23T09:33:22.787768",
     "exception": false,
     "start_time": "2021-02-23T09:33:22.766502",
     "status": "completed"
    },
    "tags": []
   },
   "source": [
    "## Functions"
   ]
  },
  {
   "cell_type": "code",
   "execution_count": 3,
   "id": "suspended-diana",
   "metadata": {
    "execution": {
     "iopub.execute_input": "2021-02-23T09:33:22.835216Z",
     "iopub.status.busy": "2021-02-23T09:33:22.834611Z",
     "iopub.status.idle": "2021-02-23T09:33:22.838164Z",
     "shell.execute_reply": "2021-02-23T09:33:22.838599Z"
    },
    "papermill": {
     "duration": 0.028291,
     "end_time": "2021-02-23T09:33:22.838728",
     "exception": false,
     "start_time": "2021-02-23T09:33:22.810437",
     "status": "completed"
    },
    "tags": []
   },
   "outputs": [],
   "source": [
    "def mkdir_ifnotexist(path) :\n",
    "    if not os.path.isdir(path) :\n",
    "        os.mkdir(path)"
   ]
  },
  {
   "cell_type": "code",
   "execution_count": 4,
   "id": "convinced-authentication",
   "metadata": {
    "execution": {
     "iopub.execute_input": "2021-02-23T09:33:22.890596Z",
     "iopub.status.busy": "2021-02-23T09:33:22.890029Z",
     "iopub.status.idle": "2021-02-23T09:33:23.141290Z",
     "shell.execute_reply": "2021-02-23T09:33:23.141771Z"
    },
    "papermill": {
     "duration": 0.280827,
     "end_time": "2021-02-23T09:33:23.141930",
     "exception": false,
     "start_time": "2021-02-23T09:33:22.861103",
     "status": "completed"
    },
    "tags": []
   },
   "outputs": [],
   "source": [
    "#Importing taxonomies data to make a function to get all infos on a given department\n",
    "r = requests.get(dep_taxo_url)\n",
    "dep_dict_list = json.loads(r.content)\n",
    "\n",
    "r = requests.get(reg_taxo_url)\n",
    "reg_dict_list = json.loads(r.content)\n",
    "\n",
    "def get_dep_infos(dep, dep_dict_list=dep_dict_list, reg_dict_list=reg_dict_list) :\n",
    "        \n",
    "    dep_dict = [dict_ for dict_ in dep_dict_list if dict_['dep'] == dep][0]\n",
    "    dep_name = dep_dict['libelle']\n",
    "    reg = dep_dict['reg']\n",
    "    \n",
    "    reg_dict = [dict_ for dict_ in reg_dict_list if dict_['reg'] == reg][0]\n",
    "    reg_name = reg_dict['libelle']\n",
    "    \n",
    "    res = dict(dep=dep,\n",
    "               dep_name=dep_name,\n",
    "               reg=reg,\n",
    "               reg_name=reg_name\n",
    "              )\n",
    "    \n",
    "    return res"
   ]
  },
  {
   "cell_type": "code",
   "execution_count": 5,
   "id": "automotive-cathedral",
   "metadata": {
    "execution": {
     "iopub.execute_input": "2021-02-23T09:33:23.189426Z",
     "iopub.status.busy": "2021-02-23T09:33:23.188634Z",
     "iopub.status.idle": "2021-02-23T09:33:23.193336Z",
     "shell.execute_reply": "2021-02-23T09:33:23.192796Z"
    },
    "papermill": {
     "duration": 0.030108,
     "end_time": "2021-02-23T09:33:23.193490",
     "exception": false,
     "start_time": "2021-02-23T09:33:23.163382",
     "status": "completed"
    },
    "tags": []
   },
   "outputs": [],
   "source": [
    "def get_dep_synthese_data(dep, ovq_synthese_data) :\n",
    "    for dep_dict in ovq_synthese_data :\n",
    "        if dep_dict['dep'] == dep :\n",
    "            res = dep_dict\n",
    "            break\n",
    "    return res"
   ]
  },
  {
   "cell_type": "code",
   "execution_count": 6,
   "id": "proof-monthly",
   "metadata": {
    "execution": {
     "iopub.execute_input": "2021-02-23T09:33:23.243520Z",
     "iopub.status.busy": "2021-02-23T09:33:23.242742Z",
     "iopub.status.idle": "2021-02-23T09:33:23.246689Z",
     "shell.execute_reply": "2021-02-23T09:33:23.246171Z"
    },
    "papermill": {
     "duration": 0.030147,
     "end_time": "2021-02-23T09:33:23.246815",
     "exception": false,
     "start_time": "2021-02-23T09:33:23.216668",
     "status": "completed"
    },
    "tags": []
   },
   "outputs": [],
   "source": [
    "def get_dep_indicateur_synthese_data(dep, id_indicateur, ovq_synthese_data) :\n",
    "    dep_dict = get_dep_synthese_data(dep, ovq_synthese_data)\n",
    "    \n",
    "    for ovq_dict in dep_dict['ovq'] :\n",
    "        for ind_dict in ovq_dict['indicateurs'] :\n",
    "            if id_indicateur in ind_dict.keys() :\n",
    "                res = ind_dict[id_indicateur][0]\n",
    "                break\n",
    "    return res"
   ]
  },
  {
   "cell_type": "code",
   "execution_count": 7,
   "id": "defined-mother",
   "metadata": {
    "execution": {
     "iopub.execute_input": "2021-02-23T09:33:23.300872Z",
     "iopub.status.busy": "2021-02-23T09:33:23.300316Z",
     "iopub.status.idle": "2021-02-23T09:33:23.304328Z",
     "shell.execute_reply": "2021-02-23T09:33:23.303814Z"
    },
    "papermill": {
     "duration": 0.032908,
     "end_time": "2021-02-23T09:33:23.304436",
     "exception": false,
     "start_time": "2021-02-23T09:33:23.271528",
     "status": "completed"
    },
    "tags": []
   },
   "outputs": [],
   "source": [
    "def get_indicateur_structure_cible(id_indicateur, structure_cible_data) :\n",
    "    for ovq_dict in structure_cible_data :\n",
    "        for ind_dict in ovq_dict['indicateurs'] :\n",
    "            if ind_dict['id_indicateur_fr'] == id_indicateur :\n",
    "                res = ind_dict\n",
    "                break\n",
    "    return res"
   ]
  },
  {
   "cell_type": "code",
   "execution_count": 8,
   "id": "possible-quilt",
   "metadata": {
    "execution": {
     "iopub.execute_input": "2021-02-23T09:33:23.353159Z",
     "iopub.status.busy": "2021-02-23T09:33:23.352605Z",
     "iopub.status.idle": "2021-02-23T09:33:23.355022Z",
     "shell.execute_reply": "2021-02-23T09:33:23.354558Z"
    },
    "papermill": {
     "duration": 0.028372,
     "end_time": "2021-02-23T09:33:23.355126",
     "exception": false,
     "start_time": "2021-02-23T09:33:23.326754",
     "status": "completed"
    },
    "tags": []
   },
   "outputs": [],
   "source": [
    "def get_id_ovq_from_id_indicateur(id_indicateur, structure_cible_data) :\n",
    "    for ovq_dict in structure_cible_data :\n",
    "        for ind_dict in ovq_dict['indicateurs'] :\n",
    "            if ind_dict['id_indicateur_fr'] == id_indicateur :\n",
    "                id_ovq = ovq_dict['id_ovq']\n",
    "                break\n",
    "    return id_ovq"
   ]
  },
  {
   "cell_type": "code",
   "execution_count": 9,
   "id": "pacific-parliament",
   "metadata": {
    "execution": {
     "iopub.execute_input": "2021-02-23T09:33:23.405363Z",
     "iopub.status.busy": "2021-02-23T09:33:23.404761Z",
     "iopub.status.idle": "2021-02-23T09:33:23.407104Z",
     "shell.execute_reply": "2021-02-23T09:33:23.406651Z"
    },
    "papermill": {
     "duration": 0.029419,
     "end_time": "2021-02-23T09:33:23.407215",
     "exception": false,
     "start_time": "2021-02-23T09:33:23.377796",
     "status": "completed"
    },
    "tags": []
   },
   "outputs": [],
   "source": [
    "def get_ovq_structure_cible(id_ovq, structure_cible_data) :\n",
    "    for ovq_dict in structure_cible_data :\n",
    "        if ovq_dict['id_ovq'] == id_ovq :\n",
    "            res = ovq_dict\n",
    "            break\n",
    "    return res"
   ]
  },
  {
   "cell_type": "code",
   "execution_count": 10,
   "id": "understood-welding",
   "metadata": {
    "execution": {
     "iopub.execute_input": "2021-02-23T09:33:23.457273Z",
     "iopub.status.busy": "2021-02-23T09:33:23.456729Z",
     "iopub.status.idle": "2021-02-23T09:33:23.459042Z",
     "shell.execute_reply": "2021-02-23T09:33:23.458604Z"
    },
    "papermill": {
     "duration": 0.030175,
     "end_time": "2021-02-23T09:33:23.459142",
     "exception": false,
     "start_time": "2021-02-23T09:33:23.428967",
     "status": "completed"
    },
    "tags": []
   },
   "outputs": [],
   "source": [
    "def get_detail_data(id_indicateur, dep, level, structure_cible_data, base_folder_path) :\n",
    "    #level can be departemental, regional or national\n",
    "    \n",
    "    id_ovq = get_id_ovq_from_id_indicateur(id_indicateur, structure_cible_data)\n",
    "    ovq_struc = get_ovq_structure_cible(id_ovq, structure_cible_data)\n",
    "    \n",
    "    for source_dict in ovq_struc['odm_sources_ids'] :\n",
    "        if source_dict['odm_source_level'] == level :\n",
    "            source_url = source_dict['odm_source_file']\n",
    "            \n",
    "    full_source_url = os.path.join(base_folder_path, source_url[1:])\n",
    "    \n",
    "    r = requests.get(full_source_url)\n",
    "    data = json.loads(r.content)\n",
    "    \n",
    "    if level == 'departemental' :\n",
    "        for dep_dict in data :\n",
    "            if dep_dict['dep'] == dep :\n",
    "                res = dep_dict[id_indicateur]\n",
    "                break\n",
    "                \n",
    "    elif level == 'regional' :\n",
    "        reg = get_dep_infos(dep)['reg']\n",
    "        for reg_dict in data :\n",
    "            if reg_dict['reg'] == reg :\n",
    "                res = reg_dict[id_indicateur]\n",
    "                break\n",
    "                \n",
    "    elif level == 'national' :\n",
    "        res = data[0][id_indicateur]\n",
    "    \n",
    "    return res"
   ]
  },
  {
   "cell_type": "code",
   "execution_count": 11,
   "id": "toxic-discipline",
   "metadata": {
    "execution": {
     "iopub.execute_input": "2021-02-23T09:33:23.517462Z",
     "iopub.status.busy": "2021-02-23T09:33:23.516887Z",
     "iopub.status.idle": "2021-02-23T09:33:23.519330Z",
     "shell.execute_reply": "2021-02-23T09:33:23.518804Z"
    },
    "papermill": {
     "duration": 0.034198,
     "end_time": "2021-02-23T09:33:23.519476",
     "exception": false,
     "start_time": "2021-02-23T09:33:23.485278",
     "status": "completed"
    },
    "tags": []
   },
   "outputs": [],
   "source": [
    "def make_pct_bullet_chart(pct, bar_color='#3D49A5', bg_color='#BBBFDF') :\n",
    "    \n",
    "    if pct < 0 : #To improve if inverted bullet chart is possible with plotly\n",
    "        bar_color = '#ED782F'\n",
    "        bg_color = '#ED782F'\n",
    "    \n",
    "    rounded_pct = round(pct)\n",
    "    \n",
    "    fig = go.Figure(go.Indicator(\n",
    "        mode = \"gauge\",\n",
    "        gauge = {'shape': \"bullet\", 'axis': {'visible':False, 'range': [0, 100]}, 'bgcolor':bg_color, 'bordercolor':'white', 'bar':{'thickness':1, 'color':bar_color}},\n",
    "        value = rounded_pct,\n",
    "        number = {'suffix':'%'},\n",
    "        domain = {'x': [0, 1], 'y': [0, 1]}))\n",
    "    \n",
    "    fig.update_layout(height = 400, width=2400, paper_bgcolor='rgba(0,0,0,0)', plot_bgcolor='rgba(0,0,0,0)')\n",
    "\n",
    "    fig.add_annotation(dict(font=dict(color='white',size=100),\n",
    "                                            x=0.05,\n",
    "                                            y=0.5,\n",
    "                                            showarrow=False,\n",
    "                                            text=str(rounded_pct)+'%',\n",
    "                                            textangle=0,\n",
    "                                            xanchor='left',\n",
    "                                            xref=\"paper\",\n",
    "                                            yref=\"paper\"))\n",
    "\n",
    "    return fig"
   ]
  },
  {
   "cell_type": "code",
   "execution_count": 12,
   "id": "collected-doubt",
   "metadata": {
    "execution": {
     "iopub.execute_input": "2021-02-23T09:33:23.569064Z",
     "iopub.status.busy": "2021-02-23T09:33:23.568422Z",
     "iopub.status.idle": "2021-02-23T09:33:23.572330Z",
     "shell.execute_reply": "2021-02-23T09:33:23.571707Z"
    },
    "papermill": {
     "duration": 0.030007,
     "end_time": "2021-02-23T09:33:23.572488",
     "exception": false,
     "start_time": "2021-02-23T09:33:23.542481",
     "status": "completed"
    },
    "tags": []
   },
   "outputs": [],
   "source": [
    "months_fr_dict = {\n",
    "    '01':'janvier',\n",
    "    '02':'février',\n",
    "    '03':'mars',\n",
    "    '04':'avril',\n",
    "    '05':'mai',\n",
    "    '06':'juin',\n",
    "    '07':'juillet',\n",
    "    '08':'août',\n",
    "    '09':'septembre',\n",
    "    '10':'octobre',\n",
    "    '11':'novembre',\n",
    "    '12':'décembre'\n",
    "}\n",
    "\n",
    "# yearmonth should be in '2020-01' format\n",
    "\n",
    "def yearmonth_to_fr(yearmonth) :\n",
    "    month = yearmonth[-2:]\n",
    "    year = yearmonth[:4]\n",
    "    \n",
    "    return months_fr_dict[month] + ' ' + year"
   ]
  },
  {
   "cell_type": "code",
   "execution_count": 13,
   "id": "younger-capture",
   "metadata": {
    "execution": {
     "iopub.execute_input": "2021-02-23T09:33:23.624225Z",
     "iopub.status.busy": "2021-02-23T09:33:23.623555Z",
     "iopub.status.idle": "2021-02-23T09:33:23.626107Z",
     "shell.execute_reply": "2021-02-23T09:33:23.625607Z"
    },
    "papermill": {
     "duration": 0.030856,
     "end_time": "2021-02-23T09:33:23.626228",
     "exception": false,
     "start_time": "2021-02-23T09:33:23.595372",
     "status": "completed"
    },
    "tags": []
   },
   "outputs": [],
   "source": [
    "def reformat_number(number) :\n",
    "    return '{:,}'.format(number).replace(',',' ').replace('.',',')"
   ]
  },
  {
   "cell_type": "code",
   "execution_count": 14,
   "id": "million-amino",
   "metadata": {
    "execution": {
     "iopub.execute_input": "2021-02-23T09:33:23.683209Z",
     "iopub.status.busy": "2021-02-23T09:33:23.680458Z",
     "iopub.status.idle": "2021-02-23T09:33:23.685592Z",
     "shell.execute_reply": "2021-02-23T09:33:23.685116Z"
    },
    "papermill": {
     "duration": 0.036072,
     "end_time": "2021-02-23T09:33:23.685715",
     "exception": false,
     "start_time": "2021-02-23T09:33:23.649643",
     "status": "completed"
    },
    "tags": []
   },
   "outputs": [],
   "source": [
    "def make_detail_chart(df, chart_type) :\n",
    "    \n",
    "    text = ['' for i in range(len(df)-1)] + [reformat_number(list(df.sort_values('date')['value'])[-1])]\n",
    "    \n",
    "    if chart_type == 'histo' :\n",
    "        fig = px.bar(df, x='date', y='value',\n",
    "                         labels={'date':'', 'value':''}, \n",
    "                         height=400,\n",
    "                         width=900,\n",
    "                         color=None,\n",
    "                         orientation='v',\n",
    "                         text=text,\n",
    "                         title=None)\n",
    "        fig.update_layout(showlegend=False, uniformtext_minsize=8, uniformtext_mode='hide')\n",
    "        fig.layout['xaxis'].showgrid = False\n",
    "        fig.update_traces(marker_color='#00AC8C', textposition='outside', cliponaxis=False)\n",
    "        fig.update_xaxes(tickangle=-45,\n",
    "                         tickfont=dict(size=8),\n",
    "                         tickmode = 'array',\n",
    "                         tickvals = list(df['date']),\n",
    "                         ticktext= list(df['date_tick']))\n",
    "                        \n",
    "        return fig\n",
    "    \n",
    "    elif chart_type == 'line' :\n",
    "        fig = px.line(df, x='date', y='value',\n",
    "                         labels={'date':'', 'value':''}, \n",
    "                         height=400,\n",
    "                         width=750,\n",
    "                         color=None,\n",
    "                         orientation='v',\n",
    "                         text=text,\n",
    "                         title=None)\n",
    "        fig.update_layout(showlegend=False)\n",
    "        fig.layout['xaxis'].showgrid = False\n",
    "        fig.update_traces(marker=dict(size=12, line=dict(width=2, color='white')), marker_color='#00AC8C', line_color='#00AC8C', line_width=6, textposition='top center', cliponaxis=False)\n",
    "        fig.update_xaxes(tickangle=-45,\n",
    "                         tickfont=dict(size=8),\n",
    "                         tickmode = 'array',\n",
    "                         tickvals = list(df['date']),\n",
    "                         ticktext= list(df['date_tick']))\n",
    "        fig.data[0].update(mode='markers+lines+text')\n",
    "\n",
    "        return fig\n",
    "    \n",
    "    else :\n",
    "        print('Unknown chart type.')\n",
    "        return None"
   ]
  },
  {
   "cell_type": "code",
   "execution_count": 15,
   "id": "major-bacon",
   "metadata": {
    "execution": {
     "iopub.execute_input": "2021-02-23T09:33:23.736135Z",
     "iopub.status.busy": "2021-02-23T09:33:23.735149Z",
     "iopub.status.idle": "2021-02-23T09:33:23.737006Z",
     "shell.execute_reply": "2021-02-23T09:33:23.737424Z"
    },
    "papermill": {
     "duration": 0.02918,
     "end_time": "2021-02-23T09:33:23.737540",
     "exception": false,
     "start_time": "2021-02-23T09:33:23.708360",
     "status": "completed"
    },
    "tags": []
   },
   "outputs": [],
   "source": [
    "def remove_html_tags(raw_html):\n",
    "    tag_regex = re.compile('<.*?>')\n",
    "    return re.sub(tag_regex, '', raw_html)"
   ]
  },
  {
   "cell_type": "code",
   "execution_count": 16,
   "id": "remarkable-nation",
   "metadata": {
    "execution": {
     "iopub.execute_input": "2021-02-23T09:33:23.792032Z",
     "iopub.status.busy": "2021-02-23T09:33:23.791403Z",
     "iopub.status.idle": "2021-02-23T09:33:23.795282Z",
     "shell.execute_reply": "2021-02-23T09:33:23.794291Z"
    },
    "papermill": {
     "duration": 0.033639,
     "end_time": "2021-02-23T09:33:23.795409",
     "exception": false,
     "start_time": "2021-02-23T09:33:23.761770",
     "status": "completed"
    },
    "tags": []
   },
   "outputs": [],
   "source": [
    "def clean_description(text) :\n",
    "    \n",
    "    def drop_border_spaces(string) :\n",
    "        while string.startswith(' ') :\n",
    "            string = string[1:]\n",
    "        while string.endswith(' ') :\n",
    "            string = string[:-1]\n",
    "        return string\n",
    "    \n",
    "    text_lines = text.splitlines()\n",
    "    text_lines = [line.replace('<li>', '-') for line in text_lines]\n",
    "    text_lines = [remove_html_tags(line) for line in text_lines]\n",
    "    text_lines = [drop_border_spaces(line) for line in text_lines]\n",
    "    text_lines = [line for line in text_lines if line != '']\n",
    "    \n",
    "    #Managing lists\n",
    "    corr_text_lines = [text_lines[0]]\n",
    "    for i in range(1, len(text_lines)) :\n",
    "        if text_lines[i-1] == '-' :\n",
    "            new_line = '- ' + text_lines[i]\n",
    "        else :\n",
    "            new_line = text_lines[i]\n",
    "        corr_text_lines += [new_line]\n",
    "        \n",
    "    corr_text_lines = [line for line in corr_text_lines if line != '-']\n",
    "    \n",
    "    #Joining lines by linebreaks\n",
    "    corr_text = '\\n'.join(corr_text_lines)\n",
    "    \n",
    "    return corr_text"
   ]
  },
  {
   "cell_type": "markdown",
   "id": "sustained-sister",
   "metadata": {
    "papermill": {
     "duration": 0.02439,
     "end_time": "2021-02-23T09:33:23.850372",
     "exception": false,
     "start_time": "2021-02-23T09:33:23.825982",
     "status": "completed"
    },
    "tags": []
   },
   "source": [
    "## Get data and build parameters out of it"
   ]
  },
  {
   "cell_type": "code",
   "execution_count": 17,
   "id": "specific-observer",
   "metadata": {
    "execution": {
     "iopub.execute_input": "2021-02-23T09:33:23.900698Z",
     "iopub.status.busy": "2021-02-23T09:33:23.899964Z",
     "iopub.status.idle": "2021-02-23T09:33:24.113715Z",
     "shell.execute_reply": "2021-02-23T09:33:24.113230Z"
    },
    "papermill": {
     "duration": 0.23967,
     "end_time": "2021-02-23T09:33:24.113840",
     "exception": false,
     "start_time": "2021-02-23T09:33:23.874170",
     "status": "completed"
    },
    "tags": []
   },
   "outputs": [],
   "source": [
    "#Loading OVQ synthese data\n",
    "r = requests.get(ovq_synthese_data_path)\n",
    "ovq_synthese_data = json.loads(r.content)"
   ]
  },
  {
   "cell_type": "code",
   "execution_count": 18,
   "id": "flexible-empire",
   "metadata": {
    "execution": {
     "iopub.execute_input": "2021-02-23T09:33:24.169637Z",
     "iopub.status.busy": "2021-02-23T09:33:24.168494Z",
     "iopub.status.idle": "2021-02-23T09:33:24.171439Z",
     "shell.execute_reply": "2021-02-23T09:33:24.170995Z"
    },
    "papermill": {
     "duration": 0.03588,
     "end_time": "2021-02-23T09:33:24.171572",
     "exception": false,
     "start_time": "2021-02-23T09:33:24.135692",
     "status": "completed"
    },
    "tags": []
   },
   "outputs": [
    {
     "name": "stdout",
     "output_type": "stream",
     "text": [
      "101\n"
     ]
    }
   ],
   "source": [
    "#Departements list\n",
    "dep_list = sorted(list(set([dep_dict['dep'] for dep_dict in ovq_synthese_data])))\n",
    "print(len(dep_list))"
   ]
  },
  {
   "cell_type": "code",
   "execution_count": 19,
   "id": "comic-possible",
   "metadata": {
    "execution": {
     "iopub.execute_input": "2021-02-23T09:33:24.225132Z",
     "iopub.status.busy": "2021-02-23T09:33:24.224610Z",
     "iopub.status.idle": "2021-02-23T09:33:24.227074Z",
     "shell.execute_reply": "2021-02-23T09:33:24.227859Z"
    },
    "papermill": {
     "duration": 0.034291,
     "end_time": "2021-02-23T09:33:24.227998",
     "exception": false,
     "start_time": "2021-02-23T09:33:24.193707",
     "status": "completed"
    },
    "tags": []
   },
   "outputs": [
    {
     "name": "stdout",
     "output_type": "stream",
     "text": [
      "30\n"
     ]
    }
   ],
   "source": [
    "#Indicateurs list\n",
    "id_indicateur_list = []\n",
    "for dep_dict in ovq_synthese_data :\n",
    "    for ovq_dict in dep_dict['ovq'] :\n",
    "        for ind_dict in ovq_dict['indicateurs'] :\n",
    "            id_indicateur_list += list(ind_dict.keys())\n",
    "            \n",
    "id_indicateur_list = list(set(id_indicateur_list))\n",
    "print(len(id_indicateur_list))"
   ]
  },
  {
   "cell_type": "code",
   "execution_count": 20,
   "id": "perceived-microwave",
   "metadata": {
    "execution": {
     "iopub.execute_input": "2021-02-23T09:33:24.286834Z",
     "iopub.status.busy": "2021-02-23T09:33:24.286244Z",
     "iopub.status.idle": "2021-02-23T09:33:24.514868Z",
     "shell.execute_reply": "2021-02-23T09:33:24.514196Z"
    },
    "papermill": {
     "duration": 0.260586,
     "end_time": "2021-02-23T09:33:24.515029",
     "exception": false,
     "start_time": "2021-02-23T09:33:24.254443",
     "status": "completed"
    },
    "tags": []
   },
   "outputs": [],
   "source": [
    "#Loading structure data\n",
    "\n",
    "r = requests.get(ovq_structure_cible_path)\n",
    "structure_cible_data = json.loads(r.content)\n",
    "\n",
    "r = requests.get(ovq_structure_families_path)\n",
    "structure_families_data = json.loads(r.content)"
   ]
  },
  {
   "cell_type": "markdown",
   "id": "mighty-testimony",
   "metadata": {
    "papermill": {
     "duration": 0.024651,
     "end_time": "2021-02-23T09:33:24.566497",
     "exception": false,
     "start_time": "2021-02-23T09:33:24.541846",
     "status": "completed"
    },
    "tags": []
   },
   "source": [
    "## Making the graphs"
   ]
  },
  {
   "cell_type": "code",
   "execution_count": 21,
   "id": "middle-excuse",
   "metadata": {
    "execution": {
     "iopub.execute_input": "2021-02-23T09:33:24.620438Z",
     "iopub.status.busy": "2021-02-23T09:33:24.619837Z",
     "iopub.status.idle": "2021-02-23T09:33:24.621535Z",
     "shell.execute_reply": "2021-02-23T09:33:24.621998Z"
    },
    "papermill": {
     "duration": 0.031656,
     "end_time": "2021-02-23T09:33:24.622132",
     "exception": false,
     "start_time": "2021-02-23T09:33:24.590476",
     "status": "completed"
    },
    "tags": []
   },
   "outputs": [],
   "source": [
    "mkdir_ifnotexist(os.path.join(img_dir_path, 'graphs'))"
   ]
  },
  {
   "cell_type": "markdown",
   "id": "senior-eclipse",
   "metadata": {
    "papermill": {
     "duration": 0.024642,
     "end_time": "2021-02-23T09:33:24.669716",
     "exception": false,
     "start_time": "2021-02-23T09:33:24.645074",
     "status": "completed"
    },
    "tags": []
   },
   "source": [
    "### Synthese gauges"
   ]
  },
  {
   "cell_type": "code",
   "execution_count": 22,
   "id": "sonic-april",
   "metadata": {
    "execution": {
     "iopub.execute_input": "2021-02-23T09:33:24.728917Z",
     "iopub.status.busy": "2021-02-23T09:33:24.728253Z",
     "iopub.status.idle": "2021-02-23T09:34:19.896995Z",
     "shell.execute_reply": "2021-02-23T09:34:19.897555Z"
    },
    "papermill": {
     "duration": 55.204266,
     "end_time": "2021-02-23T09:34:19.897712",
     "exception": false,
     "start_time": "2021-02-23T09:33:24.693446",
     "status": "completed"
    },
    "tags": []
   },
   "outputs": [
    {
     "name": "stdout",
     "output_type": "stream",
     "text": [
      "CPU times: user 9.01 s, sys: 757 ms, total: 9.76 s\n",
      "Wall time: 35.4 s\n"
     ]
    }
   ],
   "source": [
    "%%time\n",
    "for dep in dep_list :\n",
    "    for id_indicateur in id_indicateur_list :\n",
    "        data = get_dep_indicateur_synthese_data(dep, id_indicateur, ovq_synthese_data)\n",
    "        pct = data['target_percentage']\n",
    "        \n",
    "        if pct is not None :\n",
    "            fig = make_pct_bullet_chart(pct)\n",
    "\n",
    "            if fig is not None :\n",
    "                img_path = os.path.join(img_dir_path, 'graphs', 'bullet_chart-synthese-target_percentage-{}-dep_{}.png'.format(id_indicateur, dep))\n",
    "                fig.write_image(img_path)"
   ]
  },
  {
   "cell_type": "markdown",
   "id": "empirical-survey",
   "metadata": {
    "papermill": {
     "duration": 0.023063,
     "end_time": "2021-02-23T09:34:19.944435",
     "exception": false,
     "start_time": "2021-02-23T09:34:19.921372",
     "status": "completed"
    },
    "tags": []
   },
   "source": [
    "### Detail graphs"
   ]
  },
  {
   "cell_type": "code",
   "execution_count": 23,
   "id": "missing-aside",
   "metadata": {
    "execution": {
     "iopub.execute_input": "2021-02-23T09:34:20.001791Z",
     "iopub.status.busy": "2021-02-23T09:34:20.001205Z",
     "iopub.status.idle": "2021-02-23T09:42:07.265771Z",
     "shell.execute_reply": "2021-02-23T09:42:07.266271Z"
    },
    "papermill": {
     "duration": 467.296988,
     "end_time": "2021-02-23T09:42:07.266431",
     "exception": false,
     "start_time": "2021-02-23T09:34:19.969443",
     "status": "completed"
    },
    "tags": []
   },
   "outputs": [
    {
     "name": "stdout",
     "output_type": "stream",
     "text": [
      "2021-02-23 15:08:13.215146 - Dep 01 done.\n",
      "2021-02-23 15:08:16.665934 - Dep 02 done.\n",
      "2021-02-23 15:08:20.053065 - Dep 03 done.\n",
      "2021-02-23 15:08:23.467871 - Dep 04 done.\n",
      "2021-02-23 15:08:26.839582 - Dep 05 done.\n",
      "2021-02-23 15:08:30.401456 - Dep 06 done.\n",
      "2021-02-23 15:08:33.731004 - Dep 07 done.\n",
      "2021-02-23 15:08:37.232751 - Dep 08 done.\n",
      "2021-02-23 15:08:40.562770 - Dep 09 done.\n",
      "2021-02-23 15:08:43.910027 - Dep 10 done.\n",
      "2021-02-23 15:08:47.491574 - Dep 11 done.\n",
      "2021-02-23 15:08:50.882907 - Dep 12 done.\n",
      "2021-02-23 15:08:54.302051 - Dep 13 done.\n",
      "2021-02-23 15:08:57.708607 - Dep 14 done.\n",
      "2021-02-23 15:09:01.069431 - Dep 15 done.\n",
      "2021-02-23 15:09:04.728776 - Dep 16 done.\n",
      "2021-02-23 15:09:08.140347 - Dep 17 done.\n",
      "2021-02-23 15:09:11.617550 - Dep 18 done.\n",
      "2021-02-23 15:09:15.135484 - Dep 19 done.\n",
      "2021-02-23 15:09:18.656687 - Dep 21 done.\n",
      "2021-02-23 15:09:22.081023 - Dep 22 done.\n",
      "2021-02-23 15:09:25.503238 - Dep 23 done.\n",
      "2021-02-23 15:09:28.922623 - Dep 24 done.\n",
      "2021-02-23 15:09:32.442295 - Dep 25 done.\n",
      "2021-02-23 15:09:36.032092 - Dep 26 done.\n",
      "2021-02-23 15:09:39.530682 - Dep 27 done.\n",
      "2021-02-23 15:09:43.529739 - Dep 28 done.\n",
      "2021-02-23 15:09:46.954712 - Dep 29 done.\n",
      "2021-02-23 15:09:50.392408 - Dep 2A done.\n",
      "2021-02-23 15:09:53.684198 - Dep 2B done.\n",
      "2021-02-23 15:09:56.988661 - Dep 30 done.\n",
      "2021-02-23 15:10:00.653282 - Dep 31 done.\n",
      "2021-02-23 15:10:04.067865 - Dep 32 done.\n",
      "2021-02-23 15:10:07.353728 - Dep 33 done.\n",
      "2021-02-23 15:10:11.134604 - Dep 34 done.\n",
      "2021-02-23 15:10:14.790890 - Dep 35 done.\n",
      "2021-02-23 15:10:18.667482 - Dep 36 done.\n",
      "2021-02-23 15:10:22.042220 - Dep 37 done.\n",
      "2021-02-23 15:10:25.660290 - Dep 38 done.\n",
      "2021-02-23 15:10:28.998300 - Dep 39 done.\n",
      "2021-02-23 15:10:32.313391 - Dep 40 done.\n",
      "2021-02-23 15:10:35.796498 - Dep 41 done.\n",
      "2021-02-23 15:10:39.186273 - Dep 42 done.\n",
      "2021-02-23 15:10:42.444166 - Dep 43 done.\n",
      "2021-02-23 15:10:45.788916 - Dep 44 done.\n",
      "2021-02-23 15:10:49.506268 - Dep 45 done.\n",
      "2021-02-23 15:10:53.019564 - Dep 46 done.\n",
      "2021-02-23 15:10:56.345542 - Dep 47 done.\n",
      "2021-02-23 15:10:59.601465 - Dep 48 done.\n",
      "2021-02-23 15:11:02.948489 - Dep 49 done.\n",
      "2021-02-23 15:11:06.375033 - Dep 50 done.\n",
      "2021-02-23 15:11:10.076970 - Dep 51 done.\n",
      "2021-02-23 15:11:13.374808 - Dep 52 done.\n",
      "2021-02-23 15:11:16.661031 - Dep 53 done.\n",
      "2021-02-23 15:11:20.152096 - Dep 54 done.\n",
      "2021-02-23 15:11:23.489674 - Dep 55 done.\n",
      "2021-02-23 15:11:27.116669 - Dep 56 done.\n",
      "2021-02-23 15:11:30.553911 - Dep 57 done.\n",
      "2021-02-23 15:11:33.956347 - Dep 58 done.\n",
      "2021-02-23 15:11:37.342726 - Dep 59 done.\n",
      "2021-02-23 15:11:40.698503 - Dep 60 done.\n",
      "2021-02-23 15:11:43.997825 - Dep 61 done.\n",
      "2021-02-23 15:11:47.326309 - Dep 62 done.\n",
      "2021-02-23 15:11:50.688286 - Dep 63 done.\n",
      "2021-02-23 15:11:54.088877 - Dep 64 done.\n",
      "2021-02-23 15:11:57.757478 - Dep 65 done.\n",
      "2021-02-23 15:12:01.135731 - Dep 66 done.\n",
      "2021-02-23 15:12:05.864786 - Dep 67 done.\n",
      "2021-02-23 15:12:09.151284 - Dep 68 done.\n",
      "2021-02-23 15:12:12.558727 - Dep 69 done.\n",
      "2021-02-23 15:12:15.784407 - Dep 70 done.\n",
      "2021-02-23 15:12:19.201455 - Dep 71 done.\n",
      "2021-02-23 15:12:22.779485 - Dep 72 done.\n",
      "2021-02-23 15:12:26.113618 - Dep 73 done.\n",
      "2021-02-23 15:12:29.427899 - Dep 74 done.\n",
      "2021-02-23 15:12:32.765481 - Dep 75 done.\n",
      "2021-02-23 15:12:36.078914 - Dep 76 done.\n",
      "2021-02-23 15:12:39.398287 - Dep 77 done.\n",
      "2021-02-23 15:12:42.672276 - Dep 78 done.\n",
      "2021-02-23 15:12:45.980507 - Dep 79 done.\n",
      "2021-02-23 15:12:49.295020 - Dep 80 done.\n",
      "2021-02-23 15:12:52.936009 - Dep 81 done.\n",
      "2021-02-23 15:12:56.764986 - Dep 82 done.\n",
      "2021-02-23 15:13:00.854840 - Dep 83 done.\n",
      "2021-02-23 15:13:04.102743 - Dep 84 done.\n",
      "2021-02-23 15:13:08.120185 - Dep 85 done.\n",
      "2021-02-23 15:13:14.403438 - Dep 86 done.\n",
      "2021-02-23 15:13:18.050897 - Dep 87 done.\n",
      "2021-02-23 15:13:21.690289 - Dep 88 done.\n",
      "2021-02-23 15:13:25.017579 - Dep 89 done.\n",
      "2021-02-23 15:13:28.501638 - Dep 90 done.\n",
      "2021-02-23 15:13:31.887412 - Dep 91 done.\n",
      "2021-02-23 15:13:35.382190 - Dep 92 done.\n",
      "2021-02-23 15:13:38.904941 - Dep 93 done.\n",
      "2021-02-23 15:13:42.234438 - Dep 94 done.\n",
      "2021-02-23 15:13:45.773467 - Dep 95 done.\n",
      "2021-02-23 15:13:49.361879 - Dep 971 done.\n",
      "2021-02-23 15:13:52.760636 - Dep 972 done.\n",
      "2021-02-23 15:13:56.205467 - Dep 973 done.\n",
      "2021-02-23 15:13:59.586380 - Dep 974 done.\n",
      "2021-02-23 15:14:03.300962 - Dep 976 done.\n",
      "CPU times: user 3min 5s, sys: 4.42 s, total: 3min 9s\n",
      "Wall time: 5min 57s\n"
     ]
    }
   ],
   "source": [
    "%%time\n",
    "short_level_dict = {\n",
    "    'dep':'departemental',\n",
    "    'reg':'regional',\n",
    "    'nat':'national'\n",
    "}\n",
    "\n",
    "for dep in dep_list :\n",
    "    for id_indicateur in id_indicateur_list :\n",
    "        \n",
    "        #Get information to know what level of data to use\n",
    "        synthese_data = get_dep_indicateur_synthese_data(dep, id_indicateur, ovq_synthese_data)\n",
    "        level = short_level_dict[synthese_data['from_level']]\n",
    "        \n",
    "        #Get chart type for indicateur\n",
    "        chart_type = get_indicateur_structure_cible(id_indicateur, structure_cible_data)['odm_chart_type']\n",
    "        \n",
    "        #Get data\n",
    "        detail_data = get_detail_data(id_indicateur, dep, level, structure_cible_data, base_folder_path)\n",
    "        df = pd.DataFrame(detail_data)\n",
    "        df = df.sort_values('date')\n",
    "        df['date_tick'] = df['date'].apply(lambda x : yearmonth_to_fr(x[:7]))\n",
    "        \n",
    "        #Making graphs\n",
    "        fig = make_detail_chart(df, chart_type)\n",
    "        img_path = os.path.join(img_dir_path, 'graphs', 'graph-detail-{}-dep_{}.png'.format(id_indicateur, dep))\n",
    "\n",
    "        if fig is not None :\n",
    "            fig.write_image(img_path)\n",
    "\n",
    "    print('{} - Dep {} done.'.format(datetime.datetime.today(), dep))"
   ]
  },
  {
   "cell_type": "markdown",
   "id": "tracked-mortgage",
   "metadata": {
    "papermill": {
     "duration": 0.054236,
     "end_time": "2021-02-23T09:42:07.373585",
     "exception": false,
     "start_time": "2021-02-23T09:42:07.319349",
     "status": "completed"
    },
    "tags": []
   },
   "source": [
    "## Building the reports"
   ]
  },
  {
   "cell_type": "code",
   "execution_count": 24,
   "id": "alert-configuration",
   "metadata": {
    "execution": {
     "iopub.execute_input": "2021-02-23T09:42:07.487175Z",
     "iopub.status.busy": "2021-02-23T09:42:07.486607Z",
     "iopub.status.idle": "2021-02-23T09:42:07.490880Z",
     "shell.execute_reply": "2021-02-23T09:42:07.490346Z"
    },
    "papermill": {
     "duration": 0.063245,
     "end_time": "2021-02-23T09:42:07.491005",
     "exception": false,
     "start_time": "2021-02-23T09:42:07.427760",
     "status": "completed"
    },
    "tags": []
   },
   "outputs": [],
   "source": [
    "mkdir_ifnotexist(reports_dir_path)"
   ]
  },
  {
   "cell_type": "code",
   "execution_count": 25,
   "id": "convertible-hughes",
   "metadata": {
    "execution": {
     "iopub.execute_input": "2021-02-23T09:42:07.608196Z",
     "iopub.status.busy": "2021-02-23T09:42:07.607619Z",
     "iopub.status.idle": "2021-02-23T09:42:07.609345Z",
     "shell.execute_reply": "2021-02-23T09:42:07.609807Z"
    },
    "papermill": {
     "duration": 0.058676,
     "end_time": "2021-02-23T09:42:07.609961",
     "exception": false,
     "start_time": "2021-02-23T09:42:07.551285",
     "status": "completed"
    },
    "tags": []
   },
   "outputs": [],
   "source": [
    "global title_header\n",
    "title_header = ''"
   ]
  },
  {
   "cell_type": "code",
   "execution_count": 26,
   "id": "optional-consistency",
   "metadata": {
    "execution": {
     "iopub.execute_input": "2021-02-23T09:42:07.723952Z",
     "iopub.status.busy": "2021-02-23T09:42:07.723333Z",
     "iopub.status.idle": "2021-02-23T09:42:07.726762Z",
     "shell.execute_reply": "2021-02-23T09:42:07.727262Z"
    },
    "papermill": {
     "duration": 0.065614,
     "end_time": "2021-02-23T09:42:07.727470",
     "exception": false,
     "start_time": "2021-02-23T09:42:07.661856",
     "status": "completed"
    },
    "tags": []
   },
   "outputs": [],
   "source": [
    "class PDF(FPDF):\n",
    "    def header(self):\n",
    "        if (self.page_no() != 1 ):\n",
    "            # Logo\n",
    "            self.image(os.path.join(img_dir_path, 'gouv.png'), 10, 8, 45)\n",
    "            # Arial bold 15\n",
    "            self.cell(50)\n",
    "            self.set_font('Arial', 'B', 16)\n",
    "            self.cell(80, 15, title_header, 0, 1, 'A')\n",
    "\n",
    "            # Move to the right\n",
    "            # Title\n",
    "            self.set_font('Arial', 'I', 9)\n",
    "            self.cell(50)\n",
    "            #self.cell(50, 10, subtitle_header+' - aides-entreprises.data.gouv.fr', 0, 1, 'A', link='https://aides-entreprises.data.gouv.fr/')\n",
    "            self.cell(50, 10, 'www.gouvernement.fr/les-actions-du-gouvernement', 0, 1, 'A', link='https://www.gouvernement.fr/les-actions-du-gouvernement')\n",
    "            # Line break  \n",
    "            pdf.line(40, 38, 170, 38)\n",
    "            self.ln(7)\n",
    "        \n",
    "    # Page footer\n",
    "    def footer(self):\n",
    "        if (self.page_no() != 1 ):\n",
    "            # Position at 1.5 cm from bottom\n",
    "            self.set_y(-15)\n",
    "            # Arial italic 8\n",
    "            self.set_font('Arial', 'I', 8)\n",
    "            # Page number\n",
    "            \n",
    "            self.cell(0, 10, 'Direction Interministérielle du Numérique (DINUM) - Page ' + str(self.page_no()) + '/{nb}', 0, 0, 'C')"
   ]
  },
  {
   "cell_type": "code",
   "execution_count": 27,
   "id": "thousand-egypt",
   "metadata": {
    "execution": {
     "iopub.execute_input": "2021-02-23T09:42:07.861130Z",
     "iopub.status.busy": "2021-02-23T09:42:07.844340Z",
     "iopub.status.idle": "2021-02-23T09:42:07.867207Z",
     "shell.execute_reply": "2021-02-23T09:42:07.866696Z"
    },
    "papermill": {
     "duration": 0.087037,
     "end_time": "2021-02-23T09:42:07.867344",
     "exception": false,
     "start_time": "2021-02-23T09:42:07.780307",
     "status": "completed"
    },
    "tags": []
   },
   "outputs": [],
   "source": [
    "def insert_indicateur(pdf, dep, ind_data, ind_struc) :\n",
    "    \n",
    "    #Getting relevant information in data\n",
    "    initial_value = ind_data['initial_value']\n",
    "    initial_value_date = ind_data['initial_value_date']\n",
    "    latest_value = ind_data['latest_value']\n",
    "    latest_value_date = ind_data['latest_value_date']\n",
    "    target_value = ind_data['target']\n",
    "    target_percentage = ind_data['target_percentage']\n",
    "    target_value_date = ind_data['target_date']\n",
    "    progression_percentage = ind_data['progression_percentage']\n",
    "    from_level = ind_data['from_level']\n",
    "    \n",
    "    #Getting relevant information in structure\n",
    "    id_indicateur = ind_struc['id_indicateur_fr']\n",
    "    nom_indicateur = ind_struc['nom_indicateur'].replace('’', \"'\")\n",
    "    ind_text_url = ind_struc['odm_text']\n",
    "    kpi_format = ind_struc['odm_kpi_format']\n",
    "    kpi_unit = ind_struc['odm_kpi_unit']\n",
    "    chart_unit = ind_struc['odm_chart_unit']\n",
    "    to_round = ind_struc['toRound']\n",
    "    \n",
    "    #Numbers formating\n",
    "    if to_round is not None :\n",
    "        if initial_value is not None :\n",
    "            initial_value = round(initial_value, to_round)\n",
    "            initial_value = reformat_number(initial_value)\n",
    "        if latest_value is not None :\n",
    "            latest_value = round(latest_value, to_round)\n",
    "            latest_value = reformat_number(latest_value)\n",
    "        if target_value is not None :\n",
    "            target_value = round(target_value, to_round)\n",
    "            target_value = reformat_number(target_value)\n",
    "            \n",
    "    if progression_percentage is not None :\n",
    "        if progression_percentage < 0 :\n",
    "            progression_percentage_str = '- '+str(-progression_percentage).replace('.',',')+' %'\n",
    "        else :\n",
    "            progression_percentage_str = '+ '+str(progression_percentage).replace('.',',')+' %'\n",
    "    else :\n",
    "        progression_percentage_str = ''\n",
    "    \n",
    "    if kpi_unit.startswith('%') :\n",
    "        if initial_value is not None :\n",
    "            initial_value += ' %'\n",
    "        if latest_value is not None :\n",
    "            latest_value += ' %'\n",
    "        if target_value is not None :\n",
    "            target_value += ' %'\n",
    "        kpi_unit = kpi_unit.replace('% ','').replace('%','')\n",
    "    \n",
    "    #Initializing blocks parameters\n",
    "    nb_blocks = 1\n",
    "    ini_block = False\n",
    "    tar_block = False\n",
    "    \n",
    "    #Current value (always present)\n",
    "    latest_value_date_str = yearmonth_to_fr(latest_value_date[:7])\n",
    "    latest_value_str = str(latest_value).replace('.',',')\n",
    "    \n",
    "    #Insert initial block if init value exists\n",
    "    if initial_value is not None :\n",
    "        initial_value_date_str = yearmonth_to_fr(initial_value_date[:7])\n",
    "        initial_value_str = str(initial_value).replace('.',',')\n",
    "        nb_blocks += 1\n",
    "        ini_block = True\n",
    "        \n",
    "    #Insert target block if target value exists\n",
    "    if target_value is not None :\n",
    "        target_value_date_str = yearmonth_to_fr(target_value_date[:7])\n",
    "        target_value_str = str(target_value).replace('.',',')\n",
    "        nb_blocks += 1\n",
    "        tar_block = True\n",
    "        \n",
    "    #Blocks settings depending on existing data\n",
    "    block_spacing = 5\n",
    "    block_width = (182 - (nb_blocks-1)*block_spacing)/nb_blocks\n",
    "    \n",
    "    #INDICATOR DISPLAY\n",
    "    \n",
    "    #Indicator title\n",
    "    pdf.set_text_color(0,0,0)\n",
    "    pdf.set_font('Arial', 'B', 12)\n",
    "    pdf.multi_cell(182, 5, 'Indicateur : '+ nom_indicateur, align='L')\n",
    "    pdf.ln(3)\n",
    "    \n",
    "    #Indicator description\n",
    "    full_ind_text_url = os.path.join(base_folder_path, ind_text_url[1:])\n",
    "    r = requests.get(full_ind_text_url)\n",
    "    ind_text = r.text.replace('’', \"'\").replace('œ','oe').replace('…','...').replace('–','-')\n",
    "    ind_text = clean_description(ind_text)\n",
    "    \n",
    "    pdf.set_font('Arial', '', 10)\n",
    "    pdf.multi_cell(182, 5, ind_text, align='J')\n",
    "    pdf.ln(3)\n",
    "    \n",
    "    #Data geo level indication\n",
    "    if from_level == 'dep' :\n",
    "        from_level_str = \"Les résultats pour le département : \" + get_dep_infos(dep)['dep_name']\n",
    "    elif from_level == 'reg' :\n",
    "        from_level_str = \"Données uniquement disponibles pour la région : \" + get_dep_infos(dep)['reg_name']\n",
    "    elif from_level == 'nat' :\n",
    "        from_level_str = \"Données uniquement disponibles pour la France\"\n",
    "    \n",
    "    pdf.set_text_color(0,0,0)\n",
    "    pdf.set_font('Arial', '', 10)\n",
    "    pdf.set_fill_color(245,245,245);\n",
    "    pdf.cell(182, 8, from_level_str, 0, 2, 'L', fill=True)\n",
    "    pdf.ln(3)\n",
    "    \n",
    "    #Indicator blocks\n",
    "    \n",
    "    y_blocks_top = pdf.get_y()\n",
    "    x_blocks_left = pdf.get_x()\n",
    "    \n",
    "    #Initial value block\n",
    "    if ini_block == True :\n",
    "        pdf.set_fill_color(253, 244, 242)\n",
    "        pdf.set_font('Arial', '', 8)\n",
    "        pdf.cell(block_width, 8, 'En {}'.format(initial_value_date_str), 0, 1, 'L', fill=True)\n",
    "        pdf.set_fill_color(254, 249, 248)\n",
    "        pdf.set_font('Arial', 'B', 20)\n",
    "        pdf.cell(block_width, 10, initial_value_str, 0, 1, 'L', fill=True)\n",
    "        pdf.set_font('Arial', '', 10)\n",
    "        pdf.cell(block_width, 3, kpi_unit, 0, 1, 'L', fill=True)\n",
    "        block_left_x = pdf.get_x()\n",
    "        block_bottom_y = pdf.get_y()\n",
    "        pdf.cell(block_width, 10, '', 0, 1, 'L', fill=True)\n",
    "    \n",
    "    #Current value block (always here)\n",
    "    if ini_block == True :\n",
    "        pdf.set_xy(block_width + pdf.l_margin + block_spacing, y_blocks_top)\n",
    "    pdf.set_fill_color(234, 244, 239)\n",
    "    pdf.set_font('Arial', '', 8)\n",
    "    pdf.cell(block_width, 8, 'En {}'.format(latest_value_date_str), 0, 2, 'L', fill=True)\n",
    "    pdf.set_fill_color(244, 250, 247)\n",
    "    pdf.set_font('Arial', 'B', 20)\n",
    "    pdf.cell(block_width, 10, latest_value_str, 0, 2, 'L', fill=True)\n",
    "    pdf.set_font('Arial', '', 10)\n",
    "    pdf.cell(block_width, 3, kpi_unit, 0, 2, 'L', fill=True)\n",
    "    block_left_x = pdf.get_x()\n",
    "    block_bottom_y = pdf.get_y()\n",
    "    pdf.cell(block_width, 10, progression_percentage_str, 0, 2, 'L', fill=True)\n",
    "    \n",
    "    #Target value block\n",
    "    if tar_block == True :\n",
    "        if nb_blocks == 2 :\n",
    "            pdf.set_xy(block_width + pdf.l_margin + block_spacing, y_blocks_top)\n",
    "        elif nb_blocks == 3 :\n",
    "            pdf.set_xy(2*block_width + pdf.l_margin + 2*block_spacing, y_blocks_top)\n",
    "            \n",
    "        pdf.set_fill_color(229, 229, 243)\n",
    "        pdf.set_font('Arial', '', 8)\n",
    "        pdf.cell(block_width, 8, 'Cible {}'.format(target_value_date_str), 0, 2, 'L', fill=True)\n",
    "        pdf.set_fill_color(242, 242, 248)\n",
    "        pdf.set_font('Arial', 'B', 20)\n",
    "        pdf.cell(block_width, 10, target_value_str, 0, 2, 'L', fill=True)\n",
    "        pdf.set_font('Arial', '', 10)\n",
    "        pdf.cell(block_width, 3, kpi_unit, 0, 2, 'L', fill=True)\n",
    "        \n",
    "        #Inserting bullet chart (prog %) if exists\n",
    "        block_left_x = pdf.get_x()\n",
    "        block_bottom_y = pdf.get_y()\n",
    "        pdf.cell(block_width, 10, '', 0, 2, 'L', fill=True)\n",
    "        bullet_chart_width = 55\n",
    "        pdf.set_xy(block_left_x + block_width/2 - bullet_chart_width/2, block_bottom_y)\n",
    "        try :\n",
    "            prog_img_path = os.path.join(img_dir_path, 'graphs', 'bullet_chart-synthese-target_percentage-{}-dep_{}.png'.format(id_indicateur, dep))\n",
    "            pdf.image(prog_img_path, w=bullet_chart_width)\n",
    "        except :\n",
    "            pass\n",
    "    \n",
    "    #To go properly on next line (under blocks)\n",
    "    pdf.set_xy(block_left_x, block_bottom_y)\n",
    "    pdf.cell(0, 10, '', 0, 1) #Just to go to next line\n",
    "    \n",
    "    #CHART DISPLAY\n",
    "    try :\n",
    "        pdf.set_x(x_blocks_left)\n",
    "        chart_width = 140\n",
    "        chart_img_path = os.path.join(img_dir_path, 'graphs', 'graph-detail-{}-dep_{}.png'.format(id_indicateur, dep))\n",
    "        pdf.image(chart_img_path, w=chart_width, x=x_blocks_left + 182/2 - chart_width/2)\n",
    "\n",
    "        pdf.set_font('Arial', 'I', 8)\n",
    "        pdf.cell(182, 8, 'Unité : {}'.format(chart_unit), 0, 2, 'C')\n",
    "    except :\n",
    "        print('No chart found for {}'.format(id_indicateur))\n",
    "\n",
    "    return pdf"
   ]
  },
  {
   "cell_type": "code",
   "execution_count": 28,
   "id": "detailed-entrance",
   "metadata": {
    "execution": {
     "iopub.execute_input": "2021-02-23T09:42:07.987106Z",
     "iopub.status.busy": "2021-02-23T09:42:07.979711Z",
     "iopub.status.idle": "2021-02-23T10:28:35.836846Z",
     "shell.execute_reply": "2021-02-23T10:28:35.835870Z"
    },
    "papermill": {
     "duration": 2787.91544,
     "end_time": "2021-02-23T10:28:35.837085",
     "exception": false,
     "start_time": "2021-02-23T09:42:07.921645",
     "status": "completed"
    },
    "tags": []
   },
   "outputs": [
    {
     "name": "stdout",
     "output_type": "stream",
     "text": [
      "No structure cible for OVQ-EAC\n",
      "No structure cible for OVQ-REL\n",
      "2021-02-23 09:42:42.012701 - 01 done.\n",
      "No structure cible for OVQ-EAC\n",
      "No structure cible for OVQ-REL\n",
      "2021-02-23 09:43:10.427898 - 02 done.\n",
      "No structure cible for OVQ-EAC\n",
      "No structure cible for OVQ-REL\n",
      "2021-02-23 09:43:37.972266 - 03 done.\n",
      "No structure cible for OVQ-EAC\n",
      "No structure cible for OVQ-REL\n",
      "2021-02-23 09:44:03.774000 - 04 done.\n",
      "No structure cible for OVQ-EAC\n",
      "No structure cible for OVQ-REL\n",
      "2021-02-23 09:44:31.021382 - 05 done.\n",
      "No structure cible for OVQ-EAC\n",
      "No structure cible for OVQ-REL\n",
      "2021-02-23 09:44:58.584052 - 06 done.\n",
      "No structure cible for OVQ-EAC\n",
      "No structure cible for OVQ-REL\n",
      "2021-02-23 09:45:26.023598 - 07 done.\n",
      "No structure cible for OVQ-EAC\n",
      "No structure cible for OVQ-REL\n",
      "2021-02-23 09:45:52.632035 - 08 done.\n",
      "No structure cible for OVQ-EAC\n",
      "No structure cible for OVQ-REL\n",
      "2021-02-23 09:46:19.893311 - 09 done.\n",
      "No structure cible for OVQ-EAC\n",
      "No structure cible for OVQ-REL\n",
      "2021-02-23 09:46:46.089197 - 10 done.\n",
      "No structure cible for OVQ-EAC\n",
      "No structure cible for OVQ-REL\n",
      "2021-02-23 09:47:13.840430 - 11 done.\n",
      "No structure cible for OVQ-EAC\n",
      "No structure cible for OVQ-REL\n",
      "2021-02-23 09:47:46.139514 - 12 done.\n",
      "No structure cible for OVQ-EAC\n",
      "No structure cible for OVQ-REL\n",
      "2021-02-23 09:48:13.530377 - 13 done.\n",
      "No structure cible for OVQ-EAC\n",
      "No structure cible for OVQ-REL\n",
      "2021-02-23 09:48:42.346344 - 14 done.\n",
      "No structure cible for OVQ-EAC\n",
      "No structure cible for OVQ-REL\n",
      "2021-02-23 09:49:07.445185 - 15 done.\n",
      "No structure cible for OVQ-EAC\n",
      "No structure cible for OVQ-REL\n",
      "2021-02-23 09:49:34.083677 - 16 done.\n",
      "No structure cible for OVQ-EAC\n",
      "No structure cible for OVQ-REL\n",
      "2021-02-23 09:50:03.055896 - 17 done.\n",
      "No structure cible for OVQ-EAC\n",
      "No structure cible for OVQ-REL\n",
      "2021-02-23 09:50:30.488894 - 18 done.\n",
      "No structure cible for OVQ-EAC\n",
      "No structure cible for OVQ-REL\n",
      "2021-02-23 09:50:58.099295 - 19 done.\n",
      "No structure cible for OVQ-EAC\n",
      "No structure cible for OVQ-REL\n",
      "2021-02-23 09:51:25.396002 - 21 done.\n",
      "No structure cible for OVQ-EAC\n",
      "No structure cible for OVQ-REL\n",
      "2021-02-23 09:51:52.446031 - 22 done.\n",
      "No structure cible for OVQ-EAC\n",
      "No structure cible for OVQ-REL\n",
      "2021-02-23 09:52:19.446172 - 23 done.\n",
      "No structure cible for OVQ-EAC\n",
      "No structure cible for OVQ-REL\n",
      "2021-02-23 09:52:52.163743 - 24 done.\n",
      "No structure cible for OVQ-EAC\n",
      "No structure cible for OVQ-REL\n",
      "2021-02-23 09:53:19.315649 - 25 done.\n",
      "No structure cible for OVQ-EAC\n",
      "No structure cible for OVQ-REL\n",
      "2021-02-23 09:53:46.402417 - 26 done.\n",
      "No structure cible for OVQ-EAC\n",
      "No structure cible for OVQ-REL\n",
      "2021-02-23 09:54:13.794341 - 27 done.\n",
      "No structure cible for OVQ-EAC\n",
      "No structure cible for OVQ-REL\n",
      "2021-02-23 09:54:40.777868 - 28 done.\n",
      "No structure cible for OVQ-EAC\n",
      "No structure cible for OVQ-REL\n",
      "2021-02-23 09:55:08.249603 - 29 done.\n",
      "No structure cible for OVQ-EAC\n",
      "No structure cible for OVQ-REL\n",
      "2021-02-23 09:55:33.547181 - 2A done.\n",
      "No structure cible for OVQ-EAC\n",
      "No structure cible for OVQ-REL\n",
      "2021-02-23 09:56:00.855969 - 2B done.\n",
      "No structure cible for OVQ-EAC\n",
      "No structure cible for OVQ-REL\n",
      "2021-02-23 09:56:26.391734 - 30 done.\n",
      "No structure cible for OVQ-EAC\n",
      "No structure cible for OVQ-REL\n",
      "2021-02-23 09:56:53.457126 - 31 done.\n",
      "No structure cible for OVQ-EAC\n",
      "No structure cible for OVQ-REL\n",
      "2021-02-23 09:57:19.095643 - 32 done.\n",
      "No structure cible for OVQ-EAC\n",
      "No structure cible for OVQ-REL\n",
      "2021-02-23 09:57:47.506583 - 33 done.\n",
      "No structure cible for OVQ-EAC\n",
      "No structure cible for OVQ-REL\n",
      "2021-02-23 09:58:19.161661 - 34 done.\n",
      "No structure cible for OVQ-EAC\n",
      "No structure cible for OVQ-REL\n",
      "2021-02-23 09:58:46.867996 - 35 done.\n",
      "No structure cible for OVQ-EAC\n",
      "No structure cible for OVQ-REL\n",
      "2021-02-23 09:59:15.556304 - 36 done.\n",
      "No structure cible for OVQ-EAC\n",
      "No structure cible for OVQ-REL\n",
      "2021-02-23 09:59:44.120131 - 37 done.\n",
      "No structure cible for OVQ-EAC\n",
      "No structure cible for OVQ-REL\n",
      "2021-02-23 10:00:12.015202 - 38 done.\n",
      "No structure cible for OVQ-EAC\n",
      "No structure cible for OVQ-REL\n",
      "2021-02-23 10:00:36.965764 - 39 done.\n",
      "No structure cible for OVQ-EAC\n",
      "No structure cible for OVQ-REL\n",
      "2021-02-23 10:01:05.373130 - 40 done.\n",
      "No structure cible for OVQ-EAC\n",
      "No structure cible for OVQ-REL\n",
      "2021-02-23 10:01:33.811867 - 41 done.\n",
      "No structure cible for OVQ-EAC\n",
      "No structure cible for OVQ-REL\n",
      "2021-02-23 10:02:01.672188 - 42 done.\n",
      "No structure cible for OVQ-EAC\n",
      "No structure cible for OVQ-REL\n",
      "2021-02-23 10:02:27.923230 - 43 done.\n",
      "No structure cible for OVQ-EAC\n",
      "No structure cible for OVQ-REL\n",
      "2021-02-23 10:02:56.471022 - 44 done.\n",
      "No structure cible for OVQ-EAC\n",
      "No structure cible for OVQ-REL\n",
      "2021-02-23 10:03:29.519464 - 45 done.\n",
      "No structure cible for OVQ-EAC\n",
      "No structure cible for OVQ-REL\n",
      "2021-02-23 10:03:52.848841 - 46 done.\n",
      "No structure cible for OVQ-EAC\n",
      "No structure cible for OVQ-REL\n",
      "2021-02-23 10:04:21.147928 - 47 done.\n",
      "No structure cible for OVQ-EAC\n",
      "No structure cible for OVQ-REL\n",
      "2021-02-23 10:04:45.015708 - 48 done.\n",
      "No structure cible for OVQ-EAC\n",
      "No structure cible for OVQ-REL\n",
      "2021-02-23 10:05:13.773650 - 49 done.\n",
      "No structure cible for OVQ-EAC\n",
      "No structure cible for OVQ-REL\n",
      "2021-02-23 10:05:41.228133 - 50 done.\n",
      "No structure cible for OVQ-EAC\n",
      "No structure cible for OVQ-REL\n",
      "2021-02-23 10:06:07.776249 - 51 done.\n",
      "No structure cible for OVQ-EAC\n",
      "No structure cible for OVQ-REL\n",
      "2021-02-23 10:06:33.820170 - 52 done.\n",
      "No structure cible for OVQ-EAC\n",
      "No structure cible for OVQ-REL\n",
      "2021-02-23 10:07:02.028132 - 53 done.\n",
      "No structure cible for OVQ-EAC\n",
      "No structure cible for OVQ-REL\n",
      "2021-02-23 10:07:29.326146 - 54 done.\n",
      "No structure cible for OVQ-EAC\n",
      "No structure cible for OVQ-REL\n",
      "2021-02-23 10:07:55.582280 - 55 done.\n",
      "No structure cible for OVQ-EAC\n",
      "No structure cible for OVQ-REL\n",
      "2021-02-23 10:08:22.234753 - 56 done.\n",
      "No structure cible for OVQ-EAC\n",
      "No structure cible for OVQ-REL\n",
      "2021-02-23 10:08:52.282645 - 57 done.\n",
      "No structure cible for OVQ-EAC\n",
      "No structure cible for OVQ-REL\n",
      "2021-02-23 10:09:17.647412 - 58 done.\n",
      "No structure cible for OVQ-EAC\n",
      "No structure cible for OVQ-REL\n",
      "2021-02-23 10:09:44.989465 - 59 done.\n",
      "No structure cible for OVQ-EAC\n",
      "No structure cible for OVQ-REL\n",
      "2021-02-23 10:10:12.238779 - 60 done.\n",
      "No structure cible for OVQ-EAC\n",
      "No structure cible for OVQ-REL\n",
      "2021-02-23 10:10:39.693076 - 61 done.\n",
      "No structure cible for OVQ-EAC\n",
      "No structure cible for OVQ-REL\n",
      "2021-02-23 10:11:07.741033 - 62 done.\n",
      "No structure cible for OVQ-EAC\n",
      "No structure cible for OVQ-REL\n",
      "2021-02-23 10:11:35.289089 - 63 done.\n",
      "No structure cible for OVQ-EAC\n",
      "No structure cible for OVQ-REL\n",
      "2021-02-23 10:12:03.790204 - 64 done.\n",
      "No structure cible for OVQ-EAC\n",
      "No structure cible for OVQ-REL\n",
      "2021-02-23 10:12:30.987687 - 65 done.\n",
      "No structure cible for OVQ-EAC\n",
      "No structure cible for OVQ-REL\n",
      "2021-02-23 10:12:55.839124 - 66 done.\n",
      "No structure cible for OVQ-EAC\n",
      "No structure cible for OVQ-REL\n",
      "2021-02-23 10:13:22.949498 - 67 done.\n",
      "No structure cible for OVQ-EAC\n",
      "No structure cible for OVQ-REL\n",
      "2021-02-23 10:13:54.341827 - 68 done.\n",
      "No structure cible for OVQ-EAC\n",
      "No structure cible for OVQ-REL\n",
      "2021-02-23 10:14:20.452727 - 69 done.\n",
      "No structure cible for OVQ-EAC\n",
      "No structure cible for OVQ-REL\n",
      "2021-02-23 10:14:45.703022 - 70 done.\n",
      "No structure cible for OVQ-EAC\n",
      "No structure cible for OVQ-REL\n",
      "2021-02-23 10:15:13.335734 - 71 done.\n",
      "No structure cible for OVQ-EAC\n",
      "No structure cible for OVQ-REL\n",
      "2021-02-23 10:15:43.252835 - 72 done.\n",
      "No structure cible for OVQ-EAC\n",
      "No structure cible for OVQ-REL\n",
      "2021-02-23 10:16:11.409454 - 73 done.\n",
      "No structure cible for OVQ-EAC\n",
      "No structure cible for OVQ-REL\n",
      "2021-02-23 10:16:39.410570 - 74 done.\n",
      "No structure cible for OVQ-EAC\n",
      "No structure cible for OVQ-REL\n",
      "2021-02-23 10:17:05.708808 - 75 done.\n",
      "No structure cible for OVQ-EAC\n",
      "No structure cible for OVQ-REL\n",
      "2021-02-23 10:17:34.303338 - 76 done.\n",
      "No structure cible for OVQ-EAC\n",
      "No structure cible for OVQ-REL\n",
      "2021-02-23 10:18:00.601258 - 77 done.\n",
      "No structure cible for OVQ-EAC\n",
      "No structure cible for OVQ-REL\n",
      "2021-02-23 10:18:27.407762 - 78 done.\n",
      "No structure cible for OVQ-EAC\n",
      "No structure cible for OVQ-REL\n",
      "2021-02-23 10:19:00.213226 - 79 done.\n",
      "No structure cible for OVQ-EAC\n",
      "No structure cible for OVQ-REL\n",
      "2021-02-23 10:19:29.104968 - 80 done.\n",
      "No structure cible for OVQ-EAC\n",
      "No structure cible for OVQ-REL\n",
      "2021-02-23 10:19:55.059192 - 81 done.\n",
      "No structure cible for OVQ-EAC\n",
      "No structure cible for OVQ-REL\n",
      "2021-02-23 10:20:22.358923 - 82 done.\n",
      "No structure cible for OVQ-EAC\n",
      "No structure cible for OVQ-REL\n",
      "2021-02-23 10:20:49.358436 - 83 done.\n",
      "No structure cible for OVQ-EAC\n",
      "No structure cible for OVQ-REL\n",
      "2021-02-23 10:21:16.515288 - 84 done.\n",
      "No structure cible for OVQ-EAC\n",
      "No structure cible for OVQ-REL\n",
      "2021-02-23 10:21:44.766330 - 85 done.\n",
      "No structure cible for OVQ-EAC\n",
      "No structure cible for OVQ-REL\n",
      "2021-02-23 10:22:13.287710 - 86 done.\n",
      "No structure cible for OVQ-EAC\n",
      "No structure cible for OVQ-REL\n",
      "2021-02-23 10:22:41.423706 - 87 done.\n",
      "No structure cible for OVQ-EAC\n",
      "No structure cible for OVQ-REL\n",
      "2021-02-23 10:23:08.723554 - 88 done.\n",
      "No structure cible for OVQ-EAC\n",
      "No structure cible for OVQ-REL\n",
      "2021-02-23 10:23:35.987940 - 89 done.\n",
      "No structure cible for OVQ-EAC\n",
      "No structure cible for OVQ-REL\n",
      "2021-02-23 10:24:07.521825 - 90 done.\n",
      "No structure cible for OVQ-EAC\n",
      "No structure cible for OVQ-REL\n",
      "2021-02-23 10:24:33.523265 - 91 done.\n",
      "No structure cible for OVQ-EAC\n",
      "No structure cible for OVQ-REL\n",
      "2021-02-23 10:24:59.574084 - 92 done.\n",
      "No structure cible for OVQ-EAC\n",
      "No structure cible for OVQ-REL\n",
      "2021-02-23 10:25:25.025017 - 93 done.\n",
      "No structure cible for OVQ-EAC\n",
      "No structure cible for OVQ-REL\n",
      "2021-02-23 10:25:50.479596 - 94 done.\n",
      "No structure cible for OVQ-EAC\n",
      "No structure cible for OVQ-REL\n",
      "2021-02-23 10:26:16.727885 - 95 done.\n",
      "No structure cible for OVQ-EAC\n",
      "No structure cible for OVQ-REL\n",
      "2021-02-23 10:26:44.481166 - 971 done.\n",
      "No structure cible for OVQ-EAC\n",
      "No structure cible for OVQ-REL\n",
      "2021-02-23 10:27:13.326188 - 972 done.\n",
      "No structure cible for OVQ-EAC\n",
      "No structure cible for OVQ-REL\n",
      "2021-02-23 10:27:40.983377 - 973 done.\n",
      "No structure cible for OVQ-EAC\n",
      "No structure cible for OVQ-REL\n",
      "2021-02-23 10:28:09.687422 - 974 done.\n",
      "No structure cible for OVQ-EAC\n",
      "No structure cible for OVQ-REL\n",
      "2021-02-23 10:28:35.829055 - 976 done.\n",
      "CPU times: user 42min 2s, sys: 36.5 s, total: 42min 38s\n",
      "Wall time: 46min 27s\n"
     ]
    }
   ],
   "source": [
    "%%time\n",
    "\n",
    "mkdir_ifnotexist(os.path.join(reports_dir_path, 'pdf'))\n",
    "mkdir_ifnotexist(os.path.join(reports_dir_path, 'pdf', 'par_departement'))\n",
    "\n",
    "for dep in dep_list :\n",
    "    \n",
    "    pdf = PDF()\n",
    "    pdf.alias_nb_pages()\n",
    "    pdf.add_page()\n",
    "\n",
    "    #Logos\n",
    "    pdf.image(os.path.join(img_dir_path, 'gouv.png'), 10, 8, 125)\n",
    "    \n",
    "    # Arial bold 15\n",
    "    pdf.set_font('Arial', 'B', 28)\n",
    "    # Move to the right\n",
    "    pdf.cell(50)\n",
    "    pdf.ln(100)\n",
    "    \n",
    "    # Title\n",
    "    pdf.cell(10)\n",
    "    pdf.cell(50, 10, 'BAROMÈTRE DES RÉSULTATS DE', 0, 1, 'A')\n",
    "    pdf.ln(10)\n",
    "    pdf.cell(10)\n",
    "    pdf.cell(50, 10, \"L'ACTION PUBLIQUE\", 0, 1, 'A')\n",
    "    pdf.ln(10)\n",
    "    pdf.cell(60)\n",
    "\n",
    "    pdf.set_font('Arial', 'I', 20)\n",
    "    pdf.ln(10)\n",
    "    pdf.cell(10)\n",
    "    pdf.cell(50, 10, 'Présentation des résultats pour le département :', 0, 1, 'A')\n",
    "    pdf.ln(10)\n",
    "    pdf.cell(10)\n",
    "    pdf.cell(50, 10, dep + ' - ' + get_dep_infos(dep)['dep_name'], 0, 1, 'A')\n",
    "    pdf.ln(70)\n",
    "\n",
    "    pdf.set_font('Arial', 'I', 8)\n",
    "\n",
    "    pdf.cell(10)\n",
    "    pdf.cell(50, 10, \"Données issues du baromètre des résultats consultable sur https://www.gouvernement.fr/les-actions-du-gouvernement\", 0, 1, 'A')\n",
    "    \n",
    "    #Indicateurs\n",
    "    \n",
    "    pdf.set_left_margin(14)\n",
    "    pdf.set_right_margin(14)\n",
    "    \n",
    "    #subtitle_header = find_last_update('aides')\n",
    "    \n",
    "    for thematique_dict in structure_families_data :\n",
    "    \n",
    "        thematique = thematique_dict['nom_ovq']\n",
    "        \n",
    "        #Downloading thematique image\n",
    "        thematique_img_url = os.path.join(base_folder_path, thematique_dict['odm_image'][1:])\n",
    "        thematique_img_local_path = './img/' + thematique_img_url.split('/')[-1]\n",
    "        r = requests.get(thematique_img_url)\n",
    "        with open(thematique_img_local_path, 'wb') as f:\n",
    "            f.write(r.content)\n",
    "        \n",
    "        #Section page\n",
    "        title_header = ''\n",
    "        pdf.add_page()\n",
    "        pdf.image(thematique_img_local_path, x=0, y=70, w=210)\n",
    "        pdf.ln(190)\n",
    "        pdf.set_font('Arial', 'B', 25)\n",
    "        pdf.cell(182, 6, thematique.upper())\n",
    "        \n",
    "        title_header = thematique.upper()\n",
    "\n",
    "        id_ovq_list = thematique_dict['id_ovq']\n",
    "        for id_ovq in id_ovq_list :\n",
    "\n",
    "            try :\n",
    "                ovq_dict = get_ovq_structure_cible(id_ovq, structure_cible_data)\n",
    "            except :\n",
    "                print('No structure cible for {}'.format(id_ovq))\n",
    "                ovq_dict = None\n",
    "            \n",
    "            if ovq_dict is not None :\n",
    "                pdf.add_page()\n",
    "                pdf.ln(3)\n",
    "                nom_ovq = ovq_dict['nom_ovq'].replace('’', \"'\").replace('œ','oe')\n",
    "                ovq_text_url = os.path.join(base_folder_path, ovq_dict['odm_text'][1:])\n",
    "                r = requests.get(ovq_text_url)\n",
    "                ovq_text = r.text.replace('’', \"'\").replace('œ','oe').replace('…','...').replace('–','-')\n",
    "                ovq_text = clean_description(ovq_text)\n",
    "                \n",
    "                #Display OVQ title\n",
    "                pdf.set_font('Arial', 'B', 16)\n",
    "                pdf.multi_cell(182, 6, nom_ovq, align='L')\n",
    "                pdf.ln(3)\n",
    "                #Display OVQ description\n",
    "                pdf.set_font('Arial', '', 10)\n",
    "                pdf.multi_cell(182, 5, ovq_text, align='J')\n",
    "                pdf.ln(3)\n",
    "\n",
    "                ovq_id_indicateur_list = [ind_dict['id_indicateur_fr'] for ind_dict in ovq_dict['indicateurs']]\n",
    "\n",
    "                add_page_for_ind = False\n",
    "                for id_indicateur in ovq_id_indicateur_list :\n",
    "                    if add_page_for_ind == True :\n",
    "                        pdf.add_page()\n",
    "                    ind_data = get_dep_indicateur_synthese_data(dep, id_indicateur, ovq_synthese_data)\n",
    "                    ind_struc = get_indicateur_structure_cible(id_indicateur, structure_cible_data)\n",
    "\n",
    "                    pdf = insert_indicateur(pdf, dep, ind_data, ind_struc)\n",
    "                    add_page_for_ind = True\n",
    "    \n",
    "    dep_name = get_dep_infos(dep)['dep_name']\n",
    "    pdf.output(os.path.join(reports_dir_path, 'pdf', 'par_departement', 'Baromètre_résultats_'+dep_name+'.pdf'), 'F')\n",
    "    \n",
    "    print(str(datetime.datetime.today()) + ' - ' + dep + '-' + dep_name + ' done.')"
   ]
  },
  {
   "cell_type": "markdown",
   "id": "arabic-leadership",
   "metadata": {
    "papermill": {
     "duration": 0.135073,
     "end_time": "2021-02-23T10:28:36.138807",
     "exception": false,
     "start_time": "2021-02-23T10:28:36.003734",
     "status": "completed"
    },
    "tags": []
   },
   "source": [
    "## Compress to ZIP"
   ]
  },
  {
   "cell_type": "raw",
   "id": "inclusive-formula",
   "metadata": {
    "papermill": {
     "duration": 0.143449,
     "end_time": "2021-02-23T10:28:36.419823",
     "exception": false,
     "start_time": "2021-02-23T10:28:36.276374",
     "status": "completed"
    },
    "tags": []
   },
   "source": [
    "from zipfile import ZipFile"
   ]
  },
  {
   "cell_type": "raw",
   "id": "appointed-consumption",
   "metadata": {
    "papermill": {
     "duration": 0.143571,
     "end_time": "2021-02-23T10:28:36.711881",
     "exception": false,
     "start_time": "2021-02-23T10:28:36.568310",
     "status": "completed"
    },
    "tags": []
   },
   "source": [
    "today_date = str(datetime.datetime.today())[:10]\n",
    "today_date"
   ]
  },
  {
   "cell_type": "raw",
   "id": "broke-bulgaria",
   "metadata": {
    "papermill": {
     "duration": 0.14191,
     "end_time": "2021-02-23T10:28:36.994417",
     "exception": false,
     "start_time": "2021-02-23T10:28:36.852507",
     "status": "completed"
    },
    "tags": []
   },
   "source": [
    "my_zip_date = ZipFile(os.path.join(reports_dir_path, 'Baromètre_résultats_{}.zip'.format(today_date)), 'w')\n",
    "my_zip_latest = ZipFile(os.path.join(reports_dir_path, 'Baromètre_résultats_latest.zip'), 'w')\n",
    "\n",
    "for filename in os.listdir(os.path.join(reports_dir_path, 'pdf')) :\n",
    "    if filename.endswith('.pdf') :\n",
    "        my_zip_date.write(os.path.join(reports_dir_path, 'pdf', filename))\n",
    "        my_zip_latest.write(os.path.join(reports_dir_path, 'pdf', filename))\n",
    "        \n",
    "my_zip_date.close()\n",
    "my_zip_latest.close()"
   ]
  }
 ],
 "metadata": {
  "kernelspec": {
   "display_name": "Python 3",
   "language": "python",
   "name": "python3"
  },
  "language_info": {
   "codemirror_mode": {
    "name": "ipython",
    "version": 3
   },
   "file_extension": ".py",
   "mimetype": "text/x-python",
   "name": "python",
   "nbconvert_exporter": "python",
   "pygments_lexer": "ipython3",
   "version": "3.9.1"
  },
  "papermill": {
   "default_parameters": {},
   "duration": 3316.616398,
   "end_time": "2021-02-23T10:28:37.544624",
   "environment_variables": {},
   "exception": null,
   "input_path": "report-pdf.ipynb",
   "output_path": "report-pdf.ipynb",
   "parameters": {},
   "start_time": "2021-02-23T09:33:20.928226",
   "version": "2.3.2"
  }
 },
 "nbformat": 4,
 "nbformat_minor": 5
}
