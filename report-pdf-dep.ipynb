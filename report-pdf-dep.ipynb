{
 "cells": [
  {
   "cell_type": "markdown",
   "id": "settled-serial",
   "metadata": {
    "papermill": {
     "duration": 0.008197,
     "end_time": "2023-08-17T11:36:35.437368",
     "exception": false,
     "start_time": "2023-08-17T11:36:35.429171",
     "status": "completed"
    },
    "tags": []
   },
   "source": [
    "# Baromètre des résultats - PDF reports"
   ]
  },
  {
   "cell_type": "markdown",
   "id": "dedicated-brunswick",
   "metadata": {
    "papermill": {
     "duration": 0.040681,
     "end_time": "2023-08-17T11:36:35.486090",
     "exception": false,
     "start_time": "2023-08-17T11:36:35.445409",
     "status": "completed"
    },
    "tags": []
   },
   "source": [
    "## Imports"
   ]
  },
  {
   "cell_type": "code",
   "execution_count": 1,
   "id": "third-browser",
   "metadata": {
    "execution": {
     "iopub.execute_input": "2023-08-17T11:36:35.500666Z",
     "iopub.status.busy": "2023-08-17T11:36:35.500015Z",
     "iopub.status.idle": "2023-08-17T11:36:35.885830Z",
     "shell.execute_reply": "2023-08-17T11:36:35.884581Z"
    },
    "papermill": {
     "duration": 0.395488,
     "end_time": "2023-08-17T11:36:35.887996",
     "exception": false,
     "start_time": "2023-08-17T11:36:35.492508",
     "status": "completed"
    },
    "tags": []
   },
   "outputs": [],
   "source": [
    "import json\n",
    "import os\n",
    "import datetime\n",
    "import re\n",
    "\n",
    "import requests\n",
    "import pandas as pd\n",
    "\n",
    "import plotly.graph_objects as go\n",
    "import plotly.express as px\n",
    "\n",
    "from fpdf import FPDF"
   ]
  },
  {
   "cell_type": "markdown",
   "id": "vertical-township",
   "metadata": {
    "papermill": {
     "duration": 0.006578,
     "end_time": "2023-08-17T11:36:35.901395",
     "exception": false,
     "start_time": "2023-08-17T11:36:35.894817",
     "status": "completed"
    },
    "tags": []
   },
   "source": [
    "## Parameters"
   ]
  },
  {
   "cell_type": "code",
   "execution_count": 2,
   "id": "grand-seller",
   "metadata": {
    "execution": {
     "iopub.execute_input": "2023-08-17T11:36:35.915534Z",
     "iopub.status.busy": "2023-08-17T11:36:35.915077Z",
     "iopub.status.idle": "2023-08-17T11:36:35.920072Z",
     "shell.execute_reply": "2023-08-17T11:36:35.919428Z"
    },
    "papermill": {
     "duration": 0.013998,
     "end_time": "2023-08-17T11:36:35.921723",
     "exception": false,
     "start_time": "2023-08-17T11:36:35.907725",
     "status": "completed"
    },
    "tags": []
   },
   "outputs": [],
   "source": [
    "base_folder_path = 'https://raw.githubusercontent.com/etalab/barometre-resultats/master/frontend/static/'\n",
    "\n",
    "ovq_data_folder_path = os.path.join(base_folder_path, 'datasets', 'ovq-data')\n",
    "\n",
    "ovq_synthese_data_path = os.path.join(ovq_data_folder_path, 'prod', 'par_territoire', 'territoire-departemental-global-light.json')\n",
    "ovq_detail_data_folder_path = os.path.join(ovq_data_folder_path, 'prod', 'par_thematique')\n",
    "ovq_structure_cible_path = os.path.join(ovq_data_folder_path, 'prod', 'structure', 'structure-cible.json')\n",
    "ovq_structure_families_path = os.path.join(ovq_data_folder_path, 'prod', 'structure', 'structure-families.json')\n",
    "\n",
    "dep_taxo_url = os.path.join(base_folder_path, 'datasets', 'prod', 'taxonomies', 'departements.json')\n",
    "reg_taxo_url = os.path.join(base_folder_path, 'datasets', 'prod', 'taxonomies', 'regions.json')\n",
    "\n",
    "img_dir_path = './img/'\n",
    "reports_dir_path = './reports/'"
   ]
  },
  {
   "cell_type": "markdown",
   "id": "joint-virtue",
   "metadata": {
    "papermill": {
     "duration": 0.006372,
     "end_time": "2023-08-17T11:36:35.935099",
     "exception": false,
     "start_time": "2023-08-17T11:36:35.928727",
     "status": "completed"
    },
    "tags": []
   },
   "source": [
    "## Functions"
   ]
  },
  {
   "cell_type": "code",
   "execution_count": 3,
   "id": "premier-fleet",
   "metadata": {
    "execution": {
     "iopub.execute_input": "2023-08-17T11:36:35.949259Z",
     "iopub.status.busy": "2023-08-17T11:36:35.948675Z",
     "iopub.status.idle": "2023-08-17T11:36:35.952875Z",
     "shell.execute_reply": "2023-08-17T11:36:35.951555Z"
    },
    "papermill": {
     "duration": 0.012664,
     "end_time": "2023-08-17T11:36:35.954163",
     "exception": false,
     "start_time": "2023-08-17T11:36:35.941499",
     "status": "completed"
    },
    "tags": []
   },
   "outputs": [],
   "source": [
    "def mkdir_ifnotexist(path) :\n",
    "    if not os.path.isdir(path) :\n",
    "        os.mkdir(path)"
   ]
  },
  {
   "cell_type": "code",
   "execution_count": 4,
   "id": "effective-combination",
   "metadata": {
    "execution": {
     "iopub.execute_input": "2023-08-17T11:36:35.968148Z",
     "iopub.status.busy": "2023-08-17T11:36:35.967640Z",
     "iopub.status.idle": "2023-08-17T11:36:36.427179Z",
     "shell.execute_reply": "2023-08-17T11:36:36.426158Z"
    },
    "papermill": {
     "duration": 0.468484,
     "end_time": "2023-08-17T11:36:36.428969",
     "exception": false,
     "start_time": "2023-08-17T11:36:35.960485",
     "status": "completed"
    },
    "tags": []
   },
   "outputs": [],
   "source": [
    "#Importing taxonomies data to make a function to get all infos on a given department\n",
    "r = requests.get(dep_taxo_url)\n",
    "dep_dict_list = json.loads(r.content)\n",
    "\n",
    "r = requests.get(reg_taxo_url)\n",
    "reg_dict_list = json.loads(r.content)\n",
    "\n",
    "def get_dep_infos(dep, dep_dict_list=dep_dict_list, reg_dict_list=reg_dict_list) :\n",
    "        \n",
    "    dep_dict = [dict_ for dict_ in dep_dict_list if dict_['dep'] == dep][0]\n",
    "    dep_name = dep_dict['libelle']\n",
    "    reg = dep_dict['reg']\n",
    "    \n",
    "    reg_dict = [dict_ for dict_ in reg_dict_list if dict_['reg'] == reg][0]\n",
    "    reg_name = reg_dict['libelle']\n",
    "    \n",
    "    res = dict(dep=dep,\n",
    "               dep_name=dep_name,\n",
    "               reg=reg,\n",
    "               reg_name=reg_name\n",
    "              )\n",
    "    \n",
    "    return res"
   ]
  },
  {
   "cell_type": "code",
   "execution_count": 5,
   "id": "minimal-gravity",
   "metadata": {
    "execution": {
     "iopub.execute_input": "2023-08-17T11:36:36.444450Z",
     "iopub.status.busy": "2023-08-17T11:36:36.444047Z",
     "iopub.status.idle": "2023-08-17T11:36:36.447409Z",
     "shell.execute_reply": "2023-08-17T11:36:36.446861Z"
    },
    "papermill": {
     "duration": 0.012149,
     "end_time": "2023-08-17T11:36:36.448648",
     "exception": false,
     "start_time": "2023-08-17T11:36:36.436499",
     "status": "completed"
    },
    "tags": []
   },
   "outputs": [],
   "source": [
    "def get_dep_synthese_data(dep, ovq_synthese_data) :\n",
    "    for dep_dict in ovq_synthese_data :\n",
    "        if dep_dict['dep'] == dep :\n",
    "            res = dep_dict\n",
    "            break\n",
    "    return res"
   ]
  },
  {
   "cell_type": "code",
   "execution_count": 6,
   "id": "peaceful-motor",
   "metadata": {
    "execution": {
     "iopub.execute_input": "2023-08-17T11:36:36.462485Z",
     "iopub.status.busy": "2023-08-17T11:36:36.462109Z",
     "iopub.status.idle": "2023-08-17T11:36:36.465797Z",
     "shell.execute_reply": "2023-08-17T11:36:36.465242Z"
    },
    "papermill": {
     "duration": 0.012072,
     "end_time": "2023-08-17T11:36:36.467019",
     "exception": false,
     "start_time": "2023-08-17T11:36:36.454947",
     "status": "completed"
    },
    "tags": []
   },
   "outputs": [],
   "source": [
    "def get_dep_indicateur_synthese_data(dep, id_indicateur, ovq_synthese_data) :\n",
    "    dep_dict = get_dep_synthese_data(dep, ovq_synthese_data)\n",
    "    \n",
    "    for ovq_dict in dep_dict['ovq'] :\n",
    "        for ind_dict in ovq_dict['indicateurs'] :\n",
    "            if id_indicateur in ind_dict.keys() :\n",
    "                res = ind_dict[id_indicateur][0]\n",
    "                break\n",
    "    return res"
   ]
  },
  {
   "cell_type": "code",
   "execution_count": 7,
   "id": "criminal-margin",
   "metadata": {
    "execution": {
     "iopub.execute_input": "2023-08-17T11:36:36.480911Z",
     "iopub.status.busy": "2023-08-17T11:36:36.480409Z",
     "iopub.status.idle": "2023-08-17T11:36:36.483874Z",
     "shell.execute_reply": "2023-08-17T11:36:36.483316Z"
    },
    "papermill": {
     "duration": 0.011848,
     "end_time": "2023-08-17T11:36:36.485156",
     "exception": false,
     "start_time": "2023-08-17T11:36:36.473308",
     "status": "completed"
    },
    "tags": []
   },
   "outputs": [],
   "source": [
    "def get_indicateur_structure_cible(id_indicateur, structure_cible_data) :\n",
    "    for ovq_dict in structure_cible_data :\n",
    "        for ind_dict in ovq_dict['indicateurs'] :\n",
    "            if ind_dict['id_indicateur_fr'] == id_indicateur :\n",
    "                res = ind_dict\n",
    "                break\n",
    "    return res"
   ]
  },
  {
   "cell_type": "code",
   "execution_count": 8,
   "id": "found-directory",
   "metadata": {
    "execution": {
     "iopub.execute_input": "2023-08-17T11:36:36.499216Z",
     "iopub.status.busy": "2023-08-17T11:36:36.498744Z",
     "iopub.status.idle": "2023-08-17T11:36:36.502178Z",
     "shell.execute_reply": "2023-08-17T11:36:36.501616Z"
    },
    "papermill": {
     "duration": 0.011812,
     "end_time": "2023-08-17T11:36:36.503371",
     "exception": false,
     "start_time": "2023-08-17T11:36:36.491559",
     "status": "completed"
    },
    "tags": []
   },
   "outputs": [],
   "source": [
    "def get_id_ovq_from_id_indicateur(id_indicateur, structure_cible_data) :\n",
    "    for ovq_dict in structure_cible_data :\n",
    "        for ind_dict in ovq_dict['indicateurs'] :\n",
    "            if ind_dict['id_indicateur_fr'] == id_indicateur :\n",
    "                id_ovq = ovq_dict['id_ovq']\n",
    "                break\n",
    "    return id_ovq"
   ]
  },
  {
   "cell_type": "code",
   "execution_count": 9,
   "id": "detailed-theme",
   "metadata": {
    "execution": {
     "iopub.execute_input": "2023-08-17T11:36:36.517325Z",
     "iopub.status.busy": "2023-08-17T11:36:36.516833Z",
     "iopub.status.idle": "2023-08-17T11:36:36.520146Z",
     "shell.execute_reply": "2023-08-17T11:36:36.519549Z"
    },
    "papermill": {
     "duration": 0.011759,
     "end_time": "2023-08-17T11:36:36.521401",
     "exception": false,
     "start_time": "2023-08-17T11:36:36.509642",
     "status": "completed"
    },
    "tags": []
   },
   "outputs": [],
   "source": [
    "def get_ovq_structure_cible(id_ovq, structure_cible_data) :\n",
    "    for ovq_dict in structure_cible_data :\n",
    "        if ovq_dict['id_ovq'] == id_ovq :\n",
    "            res = ovq_dict\n",
    "            break\n",
    "    return res"
   ]
  },
  {
   "cell_type": "code",
   "execution_count": 10,
   "id": "contemporary-professor",
   "metadata": {
    "execution": {
     "iopub.execute_input": "2023-08-17T11:36:36.535311Z",
     "iopub.status.busy": "2023-08-17T11:36:36.534835Z",
     "iopub.status.idle": "2023-08-17T11:36:36.540518Z",
     "shell.execute_reply": "2023-08-17T11:36:36.539679Z"
    },
    "papermill": {
     "duration": 0.014054,
     "end_time": "2023-08-17T11:36:36.541739",
     "exception": false,
     "start_time": "2023-08-17T11:36:36.527685",
     "status": "completed"
    },
    "tags": []
   },
   "outputs": [],
   "source": [
    "def get_detail_data(id_indicateur, dep, level, structure_cible_data, base_folder_path) :\n",
    "    #level can be departemental, regional or national\n",
    "    \n",
    "    id_ovq = get_id_ovq_from_id_indicateur(id_indicateur, structure_cible_data)\n",
    "    ovq_struc = get_ovq_structure_cible(id_ovq, structure_cible_data)\n",
    "    \n",
    "    for source_dict in ovq_struc['odm_sources_ids'] :\n",
    "        if source_dict['odm_source_level'] == level :\n",
    "            source_url = source_dict['odm_source_file']\n",
    "            \n",
    "    full_source_url = os.path.join(base_folder_path, source_url[1:])\n",
    "    \n",
    "    r = requests.get(full_source_url)\n",
    "    data = json.loads(r.content)\n",
    "    \n",
    "    if level == 'departemental' :\n",
    "        for dep_dict in data :\n",
    "            if dep_dict['dep'] == dep :\n",
    "                res = dep_dict[id_indicateur]\n",
    "                break\n",
    "                \n",
    "    elif level == 'regional' :\n",
    "        reg = get_dep_infos(dep)['reg']\n",
    "        for reg_dict in data :\n",
    "            if reg_dict['reg'] == reg :\n",
    "                res = reg_dict[id_indicateur]\n",
    "                break\n",
    "                \n",
    "    elif level == 'national' :\n",
    "        res = data[0][id_indicateur]\n",
    "    \n",
    "    return res"
   ]
  },
  {
   "cell_type": "code",
   "execution_count": 11,
   "id": "instrumental-monaco",
   "metadata": {
    "execution": {
     "iopub.execute_input": "2023-08-17T11:36:36.555915Z",
     "iopub.status.busy": "2023-08-17T11:36:36.555558Z",
     "iopub.status.idle": "2023-08-17T11:36:36.560940Z",
     "shell.execute_reply": "2023-08-17T11:36:36.560378Z"
    },
    "papermill": {
     "duration": 0.013905,
     "end_time": "2023-08-17T11:36:36.562065",
     "exception": false,
     "start_time": "2023-08-17T11:36:36.548160",
     "status": "completed"
    },
    "tags": []
   },
   "outputs": [],
   "source": [
    "def make_pct_bullet_chart(pct, bar_color='#3D49A5', bg_color='#BBBFDF') :\n",
    "    \n",
    "    if pct < 0 : #To improve if inverted bullet chart is possible with plotly\n",
    "        bar_color = '#ED782F'\n",
    "        bg_color = '#ED782F'\n",
    "    \n",
    "    rounded_pct = round(pct)\n",
    "    \n",
    "    fig = go.Figure(go.Indicator(\n",
    "        mode = \"gauge\",\n",
    "        gauge = {'shape': \"bullet\", 'axis': {'visible':False, 'range': [0, 100]}, 'bgcolor':bg_color, 'bordercolor':'white', 'bar':{'thickness':1, 'color':bar_color}},\n",
    "        value = rounded_pct,\n",
    "        number = {'suffix':'%'},\n",
    "        domain = {'x': [0, 1], 'y': [0, 1]}))\n",
    "    \n",
    "    fig.update_layout(height = 400, width=2400, paper_bgcolor='rgba(0,0,0,0)', plot_bgcolor='rgba(0,0,0,0)')\n",
    "\n",
    "    fig.add_annotation(dict(font=dict(color='white',size=100),\n",
    "                                            x=0.05,\n",
    "                                            y=0.5,\n",
    "                                            showarrow=False,\n",
    "                                            text=str(rounded_pct)+'%',\n",
    "                                            textangle=0,\n",
    "                                            xanchor='left',\n",
    "                                            xref=\"paper\",\n",
    "                                            yref=\"paper\"))\n",
    "\n",
    "    return fig"
   ]
  },
  {
   "cell_type": "code",
   "execution_count": 12,
   "id": "fatal-uganda",
   "metadata": {
    "execution": {
     "iopub.execute_input": "2023-08-17T11:36:36.575797Z",
     "iopub.status.busy": "2023-08-17T11:36:36.575323Z",
     "iopub.status.idle": "2023-08-17T11:36:36.579546Z",
     "shell.execute_reply": "2023-08-17T11:36:36.578717Z"
    },
    "papermill": {
     "duration": 0.012348,
     "end_time": "2023-08-17T11:36:36.580682",
     "exception": false,
     "start_time": "2023-08-17T11:36:36.568334",
     "status": "completed"
    },
    "tags": []
   },
   "outputs": [],
   "source": [
    "months_fr_dict = {\n",
    "    '01':'janvier',\n",
    "    '02':'février',\n",
    "    '03':'mars',\n",
    "    '04':'avril',\n",
    "    '05':'mai',\n",
    "    '06':'juin',\n",
    "    '07':'juillet',\n",
    "    '08':'août',\n",
    "    '09':'septembre',\n",
    "    '10':'octobre',\n",
    "    '11':'novembre',\n",
    "    '12':'décembre'\n",
    "}\n",
    "\n",
    "# yearmonth should be in '2020-01' format\n",
    "\n",
    "def yearmonth_to_fr(yearmonth) :\n",
    "    month = yearmonth[-2:]\n",
    "    year = yearmonth[:4]\n",
    "    \n",
    "    return months_fr_dict[month] + ' ' + year"
   ]
  },
  {
   "cell_type": "code",
   "execution_count": 13,
   "id": "offensive-pasta",
   "metadata": {
    "execution": {
     "iopub.execute_input": "2023-08-17T11:36:36.594504Z",
     "iopub.status.busy": "2023-08-17T11:36:36.594050Z",
     "iopub.status.idle": "2023-08-17T11:36:36.597055Z",
     "shell.execute_reply": "2023-08-17T11:36:36.596488Z"
    },
    "papermill": {
     "duration": 0.011325,
     "end_time": "2023-08-17T11:36:36.598259",
     "exception": false,
     "start_time": "2023-08-17T11:36:36.586934",
     "status": "completed"
    },
    "tags": []
   },
   "outputs": [],
   "source": [
    "def reformat_number(number) :\n",
    "    return '{:,}'.format(number).replace(',',' ').replace('.',',')"
   ]
  },
  {
   "cell_type": "code",
   "execution_count": 14,
   "id": "historic-amazon",
   "metadata": {
    "execution": {
     "iopub.execute_input": "2023-08-17T11:36:36.612059Z",
     "iopub.status.busy": "2023-08-17T11:36:36.611867Z",
     "iopub.status.idle": "2023-08-17T11:36:36.619458Z",
     "shell.execute_reply": "2023-08-17T11:36:36.618914Z"
    },
    "papermill": {
     "duration": 0.016155,
     "end_time": "2023-08-17T11:36:36.620698",
     "exception": false,
     "start_time": "2023-08-17T11:36:36.604543",
     "status": "completed"
    },
    "tags": []
   },
   "outputs": [],
   "source": [
    "def make_detail_chart(df, chart_type) :\n",
    "    \n",
    "    text = ['' for i in range(len(df)-1)] + [reformat_number(list(df.sort_values('date')['value'])[-1])]\n",
    "    \n",
    "    if chart_type == 'histo' :\n",
    "        fig = px.bar(df, x='date', y='value',\n",
    "                         labels={'date':'', 'value':''}, \n",
    "                         height=400,\n",
    "                         width=900,\n",
    "                         color=None,\n",
    "                         orientation='v',\n",
    "                         text=text,\n",
    "                         title=None)\n",
    "        fig.update_layout(showlegend=False, uniformtext_minsize=8, uniformtext_mode='hide')\n",
    "        fig.layout['xaxis'].showgrid = False\n",
    "        fig.update_traces(marker_color='#00AC8C', textposition='outside', cliponaxis=False)\n",
    "        fig.update_xaxes(tickangle=-45,\n",
    "                         tickfont=dict(size=8),\n",
    "                         tickmode = 'array',\n",
    "                         tickvals = list(df['date']),\n",
    "                         ticktext= list(df['date_tick']))\n",
    "                        \n",
    "        return fig\n",
    "    \n",
    "    elif chart_type == 'line' :\n",
    "        fig = px.line(df, x='date', y='value',\n",
    "                         labels={'date':'', 'value':''}, \n",
    "                         height=400,\n",
    "                         width=750,\n",
    "                         color=None,\n",
    "                         orientation='v',\n",
    "                         text=text,\n",
    "                         title=None)\n",
    "        fig.update_layout(showlegend=False)\n",
    "        fig.layout['xaxis'].showgrid = False\n",
    "        fig.update_traces(marker=dict(size=12, line=dict(width=2, color='white')), marker_color='#00AC8C', line_color='#00AC8C', line_width=6, textposition='top center', cliponaxis=False)\n",
    "        fig.update_xaxes(tickangle=-45,\n",
    "                         tickfont=dict(size=8),\n",
    "                         tickmode = 'array',\n",
    "                         tickvals = list(df['date']),\n",
    "                         ticktext= list(df['date_tick']))\n",
    "        fig.data[0].update(mode='markers+lines+text')\n",
    "\n",
    "        return fig\n",
    "    \n",
    "    else :\n",
    "        print('Unknown chart type.')\n",
    "        return None"
   ]
  },
  {
   "cell_type": "code",
   "execution_count": 15,
   "id": "lyric-wright",
   "metadata": {
    "execution": {
     "iopub.execute_input": "2023-08-17T11:36:36.634453Z",
     "iopub.status.busy": "2023-08-17T11:36:36.633995Z",
     "iopub.status.idle": "2023-08-17T11:36:36.637011Z",
     "shell.execute_reply": "2023-08-17T11:36:36.636448Z"
    },
    "papermill": {
     "duration": 0.011334,
     "end_time": "2023-08-17T11:36:36.638294",
     "exception": false,
     "start_time": "2023-08-17T11:36:36.626960",
     "status": "completed"
    },
    "tags": []
   },
   "outputs": [],
   "source": [
    "def remove_html_tags(raw_html):\n",
    "    tag_regex = re.compile('<.*?>')\n",
    "    return re.sub(tag_regex, '', raw_html)"
   ]
  },
  {
   "cell_type": "code",
   "execution_count": 16,
   "id": "african-upper",
   "metadata": {
    "execution": {
     "iopub.execute_input": "2023-08-17T11:36:36.652271Z",
     "iopub.status.busy": "2023-08-17T11:36:36.651724Z",
     "iopub.status.idle": "2023-08-17T11:36:36.657520Z",
     "shell.execute_reply": "2023-08-17T11:36:36.656803Z"
    },
    "papermill": {
     "duration": 0.014134,
     "end_time": "2023-08-17T11:36:36.658711",
     "exception": false,
     "start_time": "2023-08-17T11:36:36.644577",
     "status": "completed"
    },
    "tags": []
   },
   "outputs": [],
   "source": [
    "def clean_description(text) :\n",
    "    \n",
    "    def drop_border_spaces(string) :\n",
    "        while string.startswith(' ') :\n",
    "            string = string[1:]\n",
    "        while string.endswith(' ') :\n",
    "            string = string[:-1]\n",
    "        return string\n",
    "    \n",
    "    text_lines = text.splitlines()\n",
    "    text_lines = [line.replace('<li>', '-') for line in text_lines]\n",
    "    text_lines = [remove_html_tags(line) for line in text_lines]\n",
    "    text_lines = [drop_border_spaces(line) for line in text_lines]\n",
    "    text_lines = [line for line in text_lines if line != '']\n",
    "    \n",
    "    #Managing lists\n",
    "    corr_text_lines = [text_lines[0]]\n",
    "    for i in range(1, len(text_lines)) :\n",
    "        if text_lines[i-1] == '-' :\n",
    "            new_line = '- ' + text_lines[i]\n",
    "        else :\n",
    "            new_line = text_lines[i]\n",
    "        corr_text_lines += [new_line]\n",
    "        \n",
    "    corr_text_lines = [line for line in corr_text_lines if line != '-']\n",
    "    \n",
    "    #Joining lines by linebreaks\n",
    "    corr_text = '\\n'.join(corr_text_lines)\n",
    "    \n",
    "    return corr_text"
   ]
  },
  {
   "cell_type": "code",
   "execution_count": 17,
   "id": "experimental-ivory",
   "metadata": {
    "execution": {
     "iopub.execute_input": "2023-08-17T11:36:36.672716Z",
     "iopub.status.busy": "2023-08-17T11:36:36.672239Z",
     "iopub.status.idle": "2023-08-17T11:36:36.675501Z",
     "shell.execute_reply": "2023-08-17T11:36:36.674942Z"
    },
    "papermill": {
     "duration": 0.011616,
     "end_time": "2023-08-17T11:36:36.676725",
     "exception": false,
     "start_time": "2023-08-17T11:36:36.665109",
     "status": "completed"
    },
    "tags": []
   },
   "outputs": [],
   "source": [
    "#Insert here any new character that would generate Encoding errors when exporting with FPDF\n",
    "def drop_encoding_issues(text) :\n",
    "    return text.replace('’', \"'\").replace('\\u20ac',' euros').replace('œ','oe').replace('…','...').replace('–','-')"
   ]
  },
  {
   "cell_type": "markdown",
   "id": "mature-variance",
   "metadata": {
    "papermill": {
     "duration": 0.006383,
     "end_time": "2023-08-17T11:36:36.689415",
     "exception": false,
     "start_time": "2023-08-17T11:36:36.683032",
     "status": "completed"
    },
    "tags": []
   },
   "source": [
    "## Get data and build parameters out of it"
   ]
  },
  {
   "cell_type": "code",
   "execution_count": 18,
   "id": "center-platform",
   "metadata": {
    "execution": {
     "iopub.execute_input": "2023-08-17T11:36:36.703360Z",
     "iopub.status.busy": "2023-08-17T11:36:36.702865Z",
     "iopub.status.idle": "2023-08-17T11:36:37.122938Z",
     "shell.execute_reply": "2023-08-17T11:36:37.121941Z"
    },
    "papermill": {
     "duration": 0.428899,
     "end_time": "2023-08-17T11:36:37.124599",
     "exception": false,
     "start_time": "2023-08-17T11:36:36.695700",
     "status": "completed"
    },
    "tags": []
   },
   "outputs": [],
   "source": [
    "#Loading OVQ synthese data\n",
    "r = requests.get(ovq_synthese_data_path)\n",
    "ovq_synthese_data = json.loads(r.content)"
   ]
  },
  {
   "cell_type": "code",
   "execution_count": 19,
   "id": "aboriginal-roman",
   "metadata": {
    "execution": {
     "iopub.execute_input": "2023-08-17T11:36:37.139254Z",
     "iopub.status.busy": "2023-08-17T11:36:37.138816Z",
     "iopub.status.idle": "2023-08-17T11:36:37.142989Z",
     "shell.execute_reply": "2023-08-17T11:36:37.142336Z"
    },
    "papermill": {
     "duration": 0.013675,
     "end_time": "2023-08-17T11:36:37.144962",
     "exception": false,
     "start_time": "2023-08-17T11:36:37.131287",
     "status": "completed"
    },
    "tags": []
   },
   "outputs": [
    {
     "name": "stdout",
     "output_type": "stream",
     "text": [
      "101\n"
     ]
    }
   ],
   "source": [
    "#Departements list\n",
    "dep_list = sorted(list(set([dep_dict['dep'] for dep_dict in ovq_synthese_data])))\n",
    "print(len(dep_list))"
   ]
  },
  {
   "cell_type": "code",
   "execution_count": 20,
   "id": "photographic-serial",
   "metadata": {
    "execution": {
     "iopub.execute_input": "2023-08-17T11:36:37.159182Z",
     "iopub.status.busy": "2023-08-17T11:36:37.158806Z",
     "iopub.status.idle": "2023-08-17T11:36:37.165314Z",
     "shell.execute_reply": "2023-08-17T11:36:37.164716Z"
    },
    "papermill": {
     "duration": 0.015655,
     "end_time": "2023-08-17T11:36:37.167137",
     "exception": false,
     "start_time": "2023-08-17T11:36:37.151482",
     "status": "completed"
    },
    "tags": []
   },
   "outputs": [
    {
     "name": "stdout",
     "output_type": "stream",
     "text": [
      "57\n"
     ]
    }
   ],
   "source": [
    "#Indicateurs list\n",
    "id_indicateur_list = []\n",
    "for dep_dict in ovq_synthese_data :\n",
    "    for ovq_dict in dep_dict['ovq'] :\n",
    "        for ind_dict in ovq_dict['indicateurs'] :\n",
    "            id_indicateur_list += list(ind_dict.keys())\n",
    "            \n",
    "id_indicateur_list = list(set(id_indicateur_list))\n",
    "print(len(id_indicateur_list))"
   ]
  },
  {
   "cell_type": "code",
   "execution_count": 21,
   "id": "joined-calibration",
   "metadata": {
    "execution": {
     "iopub.execute_input": "2023-08-17T11:36:37.181332Z",
     "iopub.status.busy": "2023-08-17T11:36:37.180846Z",
     "iopub.status.idle": "2023-08-17T11:36:37.634178Z",
     "shell.execute_reply": "2023-08-17T11:36:37.632995Z"
    },
    "papermill": {
     "duration": 0.462288,
     "end_time": "2023-08-17T11:36:37.635869",
     "exception": false,
     "start_time": "2023-08-17T11:36:37.173581",
     "status": "completed"
    },
    "tags": []
   },
   "outputs": [],
   "source": [
    "#Loading structure data\n",
    "\n",
    "r = requests.get(ovq_structure_cible_path)\n",
    "structure_cible_data = json.loads(r.content)\n",
    "\n",
    "r = requests.get(ovq_structure_families_path)\n",
    "structure_families_data = json.loads(r.content)"
   ]
  },
  {
   "cell_type": "markdown",
   "id": "worth-death",
   "metadata": {
    "papermill": {
     "duration": 0.006623,
     "end_time": "2023-08-17T11:36:37.650070",
     "exception": false,
     "start_time": "2023-08-17T11:36:37.643447",
     "status": "completed"
    },
    "tags": []
   },
   "source": [
    "## Making the graphs"
   ]
  },
  {
   "cell_type": "code",
   "execution_count": 22,
   "id": "opened-bidder",
   "metadata": {
    "execution": {
     "iopub.execute_input": "2023-08-17T11:36:37.664636Z",
     "iopub.status.busy": "2023-08-17T11:36:37.664095Z",
     "iopub.status.idle": "2023-08-17T11:36:37.668037Z",
     "shell.execute_reply": "2023-08-17T11:36:37.666858Z"
    },
    "papermill": {
     "duration": 0.012755,
     "end_time": "2023-08-17T11:36:37.669438",
     "exception": false,
     "start_time": "2023-08-17T11:36:37.656683",
     "status": "completed"
    },
    "tags": []
   },
   "outputs": [],
   "source": [
    "mkdir_ifnotexist(os.path.join(img_dir_path, 'graphs'))"
   ]
  },
  {
   "cell_type": "markdown",
   "id": "distinguished-antenna",
   "metadata": {
    "papermill": {
     "duration": 0.006548,
     "end_time": "2023-08-17T11:36:37.682882",
     "exception": false,
     "start_time": "2023-08-17T11:36:37.676334",
     "status": "completed"
    },
    "tags": []
   },
   "source": [
    "### Synthese gauges"
   ]
  },
  {
   "cell_type": "code",
   "execution_count": 23,
   "id": "crucial-trustee",
   "metadata": {
    "execution": {
     "iopub.execute_input": "2023-08-17T11:36:37.697230Z",
     "iopub.status.busy": "2023-08-17T11:36:37.696731Z",
     "iopub.status.idle": "2023-08-17T11:38:59.497125Z",
     "shell.execute_reply": "2023-08-17T11:38:59.496557Z"
    },
    "papermill": {
     "duration": 141.815657,
     "end_time": "2023-08-17T11:38:59.505040",
     "exception": false,
     "start_time": "2023-08-17T11:36:37.689383",
     "status": "completed"
    },
    "tags": []
   },
   "outputs": [
    {
     "name": "stdout",
     "output_type": "stream",
     "text": [
      "CPU times: user 28.5 s, sys: 1.52 s, total: 30 s\n",
      "Wall time: 2min 21s\n"
     ]
    }
   ],
   "source": [
    "%%time\n",
    "for dep in dep_list :\n",
    "    for id_indicateur in id_indicateur_list :\n",
    "        data = get_dep_indicateur_synthese_data(dep, id_indicateur, ovq_synthese_data)\n",
    "        pct = data['target_percentage']\n",
    "        \n",
    "        if pct is not None :\n",
    "            fig = make_pct_bullet_chart(pct)\n",
    "\n",
    "            if fig is not None :\n",
    "                img_path = os.path.join(img_dir_path, 'graphs', 'bullet_chart-synthese-target_percentage-{}-dep_{}.png'.format(id_indicateur, dep))\n",
    "                fig.write_image(img_path)"
   ]
  },
  {
   "cell_type": "markdown",
   "id": "romantic-prisoner",
   "metadata": {
    "papermill": {
     "duration": 0.006807,
     "end_time": "2023-08-17T11:38:59.518535",
     "exception": false,
     "start_time": "2023-08-17T11:38:59.511728",
     "status": "completed"
    },
    "tags": []
   },
   "source": [
    "### Detail graphs"
   ]
  },
  {
   "cell_type": "code",
   "execution_count": 24,
   "id": "pointed-harris",
   "metadata": {
    "execution": {
     "iopub.execute_input": "2023-08-17T11:38:59.533071Z",
     "iopub.status.busy": "2023-08-17T11:38:59.532625Z",
     "iopub.status.idle": "2023-08-17T12:00:28.386996Z",
     "shell.execute_reply": "2023-08-17T12:00:28.386389Z"
    },
    "papermill": {
     "duration": 1288.863483,
     "end_time": "2023-08-17T12:00:28.388596",
     "exception": false,
     "start_time": "2023-08-17T11:38:59.525113",
     "status": "completed"
    },
    "tags": []
   },
   "outputs": [
    {
     "name": "stdout",
     "output_type": "stream",
     "text": [
      "2023-08-17 11:39:18.071612 - Dep 01 done.\n"
     ]
    },
    {
     "name": "stdout",
     "output_type": "stream",
     "text": [
      "2023-08-17 11:39:30.599117 - Dep 02 done.\n"
     ]
    },
    {
     "name": "stdout",
     "output_type": "stream",
     "text": [
      "2023-08-17 11:39:43.073732 - Dep 03 done.\n"
     ]
    },
    {
     "name": "stdout",
     "output_type": "stream",
     "text": [
      "2023-08-17 11:39:55.587970 - Dep 04 done.\n"
     ]
    },
    {
     "name": "stdout",
     "output_type": "stream",
     "text": [
      "2023-08-17 11:40:08.200526 - Dep 05 done.\n"
     ]
    },
    {
     "name": "stdout",
     "output_type": "stream",
     "text": [
      "2023-08-17 11:40:20.877975 - Dep 06 done.\n"
     ]
    },
    {
     "name": "stdout",
     "output_type": "stream",
     "text": [
      "2023-08-17 11:40:33.334136 - Dep 07 done.\n"
     ]
    },
    {
     "name": "stdout",
     "output_type": "stream",
     "text": [
      "2023-08-17 11:40:45.697280 - Dep 08 done.\n"
     ]
    },
    {
     "name": "stdout",
     "output_type": "stream",
     "text": [
      "2023-08-17 11:40:58.318258 - Dep 09 done.\n"
     ]
    },
    {
     "name": "stdout",
     "output_type": "stream",
     "text": [
      "2023-08-17 11:41:10.760173 - Dep 10 done.\n"
     ]
    },
    {
     "name": "stdout",
     "output_type": "stream",
     "text": [
      "2023-08-17 11:41:23.280042 - Dep 11 done.\n"
     ]
    },
    {
     "name": "stdout",
     "output_type": "stream",
     "text": [
      "2023-08-17 11:41:35.622442 - Dep 12 done.\n"
     ]
    },
    {
     "name": "stdout",
     "output_type": "stream",
     "text": [
      "2023-08-17 11:41:48.031808 - Dep 13 done.\n"
     ]
    },
    {
     "name": "stdout",
     "output_type": "stream",
     "text": [
      "2023-08-17 11:42:00.544180 - Dep 14 done.\n"
     ]
    },
    {
     "name": "stdout",
     "output_type": "stream",
     "text": [
      "2023-08-17 11:42:12.982989 - Dep 15 done.\n"
     ]
    },
    {
     "name": "stdout",
     "output_type": "stream",
     "text": [
      "2023-08-17 11:42:26.005070 - Dep 16 done.\n"
     ]
    },
    {
     "name": "stdout",
     "output_type": "stream",
     "text": [
      "2023-08-17 11:42:38.542696 - Dep 17 done.\n"
     ]
    },
    {
     "name": "stdout",
     "output_type": "stream",
     "text": [
      "2023-08-17 11:42:50.972681 - Dep 18 done.\n"
     ]
    },
    {
     "name": "stdout",
     "output_type": "stream",
     "text": [
      "2023-08-17 11:43:03.384131 - Dep 19 done.\n"
     ]
    },
    {
     "name": "stdout",
     "output_type": "stream",
     "text": [
      "2023-08-17 11:43:15.884972 - Dep 21 done.\n"
     ]
    },
    {
     "name": "stdout",
     "output_type": "stream",
     "text": [
      "2023-08-17 11:43:28.253434 - Dep 22 done.\n"
     ]
    },
    {
     "name": "stdout",
     "output_type": "stream",
     "text": [
      "2023-08-17 11:43:40.664836 - Dep 23 done.\n"
     ]
    },
    {
     "name": "stdout",
     "output_type": "stream",
     "text": [
      "2023-08-17 11:43:52.940283 - Dep 24 done.\n"
     ]
    },
    {
     "name": "stdout",
     "output_type": "stream",
     "text": [
      "2023-08-17 11:44:05.557054 - Dep 25 done.\n"
     ]
    },
    {
     "name": "stdout",
     "output_type": "stream",
     "text": [
      "2023-08-17 11:44:21.109058 - Dep 26 done.\n"
     ]
    },
    {
     "name": "stdout",
     "output_type": "stream",
     "text": [
      "2023-08-17 11:44:33.611296 - Dep 27 done.\n"
     ]
    },
    {
     "name": "stdout",
     "output_type": "stream",
     "text": [
      "2023-08-17 11:44:46.091912 - Dep 28 done.\n"
     ]
    },
    {
     "name": "stdout",
     "output_type": "stream",
     "text": [
      "2023-08-17 11:44:58.659374 - Dep 29 done.\n"
     ]
    },
    {
     "name": "stdout",
     "output_type": "stream",
     "text": [
      "2023-08-17 11:45:11.243146 - Dep 2A done.\n"
     ]
    },
    {
     "name": "stdout",
     "output_type": "stream",
     "text": [
      "2023-08-17 11:45:23.412452 - Dep 2B done.\n"
     ]
    },
    {
     "name": "stdout",
     "output_type": "stream",
     "text": [
      "2023-08-17 11:45:35.774098 - Dep 30 done.\n"
     ]
    },
    {
     "name": "stdout",
     "output_type": "stream",
     "text": [
      "2023-08-17 11:45:49.137748 - Dep 31 done.\n"
     ]
    },
    {
     "name": "stdout",
     "output_type": "stream",
     "text": [
      "2023-08-17 11:46:01.754416 - Dep 32 done.\n"
     ]
    },
    {
     "name": "stdout",
     "output_type": "stream",
     "text": [
      "2023-08-17 11:46:14.241779 - Dep 33 done.\n"
     ]
    },
    {
     "name": "stdout",
     "output_type": "stream",
     "text": [
      "2023-08-17 11:46:26.787352 - Dep 34 done.\n"
     ]
    },
    {
     "name": "stdout",
     "output_type": "stream",
     "text": [
      "2023-08-17 11:46:39.246494 - Dep 35 done.\n"
     ]
    },
    {
     "name": "stdout",
     "output_type": "stream",
     "text": [
      "2023-08-17 11:46:51.730429 - Dep 36 done.\n"
     ]
    },
    {
     "name": "stdout",
     "output_type": "stream",
     "text": [
      "2023-08-17 11:47:04.097291 - Dep 37 done.\n"
     ]
    },
    {
     "name": "stdout",
     "output_type": "stream",
     "text": [
      "2023-08-17 11:47:16.682453 - Dep 38 done.\n"
     ]
    },
    {
     "name": "stdout",
     "output_type": "stream",
     "text": [
      "2023-08-17 11:47:29.105585 - Dep 39 done.\n"
     ]
    },
    {
     "name": "stdout",
     "output_type": "stream",
     "text": [
      "2023-08-17 11:47:41.585640 - Dep 40 done.\n"
     ]
    },
    {
     "name": "stdout",
     "output_type": "stream",
     "text": [
      "2023-08-17 11:47:54.085068 - Dep 41 done.\n"
     ]
    },
    {
     "name": "stdout",
     "output_type": "stream",
     "text": [
      "2023-08-17 11:48:06.542225 - Dep 42 done.\n"
     ]
    },
    {
     "name": "stdout",
     "output_type": "stream",
     "text": [
      "2023-08-17 11:48:19.185022 - Dep 43 done.\n"
     ]
    },
    {
     "name": "stdout",
     "output_type": "stream",
     "text": [
      "2023-08-17 11:48:31.623389 - Dep 44 done.\n"
     ]
    },
    {
     "name": "stdout",
     "output_type": "stream",
     "text": [
      "2023-08-17 11:48:44.069515 - Dep 45 done.\n"
     ]
    },
    {
     "name": "stdout",
     "output_type": "stream",
     "text": [
      "2023-08-17 11:48:56.961612 - Dep 46 done.\n"
     ]
    },
    {
     "name": "stdout",
     "output_type": "stream",
     "text": [
      "2023-08-17 11:49:09.826218 - Dep 47 done.\n"
     ]
    },
    {
     "name": "stdout",
     "output_type": "stream",
     "text": [
      "2023-08-17 11:49:25.749585 - Dep 48 done.\n"
     ]
    },
    {
     "name": "stdout",
     "output_type": "stream",
     "text": [
      "2023-08-17 11:49:38.434574 - Dep 49 done.\n"
     ]
    },
    {
     "name": "stdout",
     "output_type": "stream",
     "text": [
      "2023-08-17 11:49:50.821441 - Dep 50 done.\n"
     ]
    },
    {
     "name": "stdout",
     "output_type": "stream",
     "text": [
      "2023-08-17 11:50:03.360944 - Dep 51 done.\n"
     ]
    },
    {
     "name": "stdout",
     "output_type": "stream",
     "text": [
      "2023-08-17 11:50:15.780908 - Dep 52 done.\n"
     ]
    },
    {
     "name": "stdout",
     "output_type": "stream",
     "text": [
      "2023-08-17 11:50:28.321442 - Dep 53 done.\n"
     ]
    },
    {
     "name": "stdout",
     "output_type": "stream",
     "text": [
      "2023-08-17 11:50:40.737015 - Dep 54 done.\n"
     ]
    },
    {
     "name": "stdout",
     "output_type": "stream",
     "text": [
      "2023-08-17 11:50:53.141905 - Dep 55 done.\n"
     ]
    },
    {
     "name": "stdout",
     "output_type": "stream",
     "text": [
      "2023-08-17 11:51:05.669787 - Dep 56 done.\n"
     ]
    },
    {
     "name": "stdout",
     "output_type": "stream",
     "text": [
      "2023-08-17 11:51:18.049700 - Dep 57 done.\n"
     ]
    },
    {
     "name": "stdout",
     "output_type": "stream",
     "text": [
      "2023-08-17 11:51:30.483189 - Dep 58 done.\n"
     ]
    },
    {
     "name": "stdout",
     "output_type": "stream",
     "text": [
      "2023-08-17 11:51:43.265557 - Dep 59 done.\n"
     ]
    },
    {
     "name": "stdout",
     "output_type": "stream",
     "text": [
      "2023-08-17 11:51:55.869308 - Dep 60 done.\n"
     ]
    },
    {
     "name": "stdout",
     "output_type": "stream",
     "text": [
      "2023-08-17 11:52:08.324789 - Dep 61 done.\n"
     ]
    },
    {
     "name": "stdout",
     "output_type": "stream",
     "text": [
      "2023-08-17 11:52:21.397594 - Dep 62 done.\n"
     ]
    },
    {
     "name": "stdout",
     "output_type": "stream",
     "text": [
      "2023-08-17 11:52:33.753207 - Dep 63 done.\n"
     ]
    },
    {
     "name": "stdout",
     "output_type": "stream",
     "text": [
      "2023-08-17 11:52:46.270040 - Dep 64 done.\n"
     ]
    },
    {
     "name": "stdout",
     "output_type": "stream",
     "text": [
      "2023-08-17 11:52:58.847072 - Dep 65 done.\n"
     ]
    },
    {
     "name": "stdout",
     "output_type": "stream",
     "text": [
      "2023-08-17 11:53:11.133770 - Dep 66 done.\n"
     ]
    },
    {
     "name": "stdout",
     "output_type": "stream",
     "text": [
      "2023-08-17 11:53:23.800704 - Dep 67 done.\n"
     ]
    },
    {
     "name": "stdout",
     "output_type": "stream",
     "text": [
      "2023-08-17 11:53:36.389650 - Dep 68 done.\n"
     ]
    },
    {
     "name": "stdout",
     "output_type": "stream",
     "text": [
      "2023-08-17 11:53:48.946923 - Dep 69 done.\n"
     ]
    },
    {
     "name": "stdout",
     "output_type": "stream",
     "text": [
      "2023-08-17 11:54:01.520421 - Dep 70 done.\n"
     ]
    },
    {
     "name": "stdout",
     "output_type": "stream",
     "text": [
      "2023-08-17 11:54:13.937293 - Dep 71 done.\n"
     ]
    },
    {
     "name": "stdout",
     "output_type": "stream",
     "text": [
      "2023-08-17 11:54:30.130646 - Dep 72 done.\n"
     ]
    },
    {
     "name": "stdout",
     "output_type": "stream",
     "text": [
      "2023-08-17 11:54:42.692107 - Dep 73 done.\n"
     ]
    },
    {
     "name": "stdout",
     "output_type": "stream",
     "text": [
      "2023-08-17 11:54:55.078649 - Dep 74 done.\n"
     ]
    },
    {
     "name": "stdout",
     "output_type": "stream",
     "text": [
      "2023-08-17 11:55:08.028451 - Dep 75 done.\n"
     ]
    },
    {
     "name": "stdout",
     "output_type": "stream",
     "text": [
      "2023-08-17 11:55:20.760103 - Dep 76 done.\n"
     ]
    },
    {
     "name": "stdout",
     "output_type": "stream",
     "text": [
      "2023-08-17 11:55:33.955784 - Dep 77 done.\n"
     ]
    },
    {
     "name": "stdout",
     "output_type": "stream",
     "text": [
      "2023-08-17 11:55:46.474762 - Dep 78 done.\n"
     ]
    },
    {
     "name": "stdout",
     "output_type": "stream",
     "text": [
      "2023-08-17 11:55:59.062725 - Dep 79 done.\n"
     ]
    },
    {
     "name": "stdout",
     "output_type": "stream",
     "text": [
      "2023-08-17 11:56:11.508274 - Dep 80 done.\n"
     ]
    },
    {
     "name": "stdout",
     "output_type": "stream",
     "text": [
      "2023-08-17 11:56:24.001842 - Dep 81 done.\n"
     ]
    },
    {
     "name": "stdout",
     "output_type": "stream",
     "text": [
      "2023-08-17 11:56:36.311985 - Dep 82 done.\n"
     ]
    },
    {
     "name": "stdout",
     "output_type": "stream",
     "text": [
      "2023-08-17 11:56:48.638518 - Dep 83 done.\n"
     ]
    },
    {
     "name": "stdout",
     "output_type": "stream",
     "text": [
      "2023-08-17 11:57:01.150443 - Dep 84 done.\n"
     ]
    },
    {
     "name": "stdout",
     "output_type": "stream",
     "text": [
      "2023-08-17 11:57:13.653102 - Dep 85 done.\n"
     ]
    },
    {
     "name": "stdout",
     "output_type": "stream",
     "text": [
      "2023-08-17 11:57:26.137366 - Dep 86 done.\n"
     ]
    },
    {
     "name": "stdout",
     "output_type": "stream",
     "text": [
      "2023-08-17 11:57:38.559097 - Dep 87 done.\n"
     ]
    },
    {
     "name": "stdout",
     "output_type": "stream",
     "text": [
      "2023-08-17 11:57:51.035838 - Dep 88 done.\n"
     ]
    },
    {
     "name": "stdout",
     "output_type": "stream",
     "text": [
      "2023-08-17 11:58:03.535692 - Dep 89 done.\n"
     ]
    },
    {
     "name": "stdout",
     "output_type": "stream",
     "text": [
      "2023-08-17 11:58:15.933358 - Dep 90 done.\n"
     ]
    },
    {
     "name": "stdout",
     "output_type": "stream",
     "text": [
      "2023-08-17 11:58:28.386784 - Dep 91 done.\n"
     ]
    },
    {
     "name": "stdout",
     "output_type": "stream",
     "text": [
      "2023-08-17 11:58:42.216592 - Dep 92 done.\n"
     ]
    },
    {
     "name": "stdout",
     "output_type": "stream",
     "text": [
      "2023-08-17 11:58:55.222559 - Dep 93 done.\n"
     ]
    },
    {
     "name": "stdout",
     "output_type": "stream",
     "text": [
      "2023-08-17 11:59:07.771982 - Dep 94 done.\n"
     ]
    },
    {
     "name": "stdout",
     "output_type": "stream",
     "text": [
      "2023-08-17 11:59:20.429972 - Dep 95 done.\n"
     ]
    },
    {
     "name": "stdout",
     "output_type": "stream",
     "text": [
      "2023-08-17 11:59:38.363585 - Dep 971 done.\n"
     ]
    },
    {
     "name": "stdout",
     "output_type": "stream",
     "text": [
      "2023-08-17 11:59:50.877531 - Dep 972 done.\n"
     ]
    },
    {
     "name": "stdout",
     "output_type": "stream",
     "text": [
      "2023-08-17 12:00:03.522509 - Dep 973 done.\n"
     ]
    },
    {
     "name": "stdout",
     "output_type": "stream",
     "text": [
      "2023-08-17 12:00:16.045592 - Dep 974 done.\n"
     ]
    },
    {
     "name": "stdout",
     "output_type": "stream",
     "text": [
      "2023-08-17 12:00:28.382807 - Dep 976 done.\n",
      "CPU times: user 11min 44s, sys: 6.14 s, total: 11min 50s\n",
      "Wall time: 21min 28s\n"
     ]
    }
   ],
   "source": [
    "%%time\n",
    "short_level_dict = {\n",
    "    'dep':'departemental',\n",
    "    'reg':'regional',\n",
    "    'nat':'national'\n",
    "}\n",
    "\n",
    "for dep in dep_list :\n",
    "    for id_indicateur in id_indicateur_list :\n",
    "        \n",
    "        #Get information to know what level of data to use\n",
    "        synthese_data = get_dep_indicateur_synthese_data(dep, id_indicateur, ovq_synthese_data)\n",
    "        level = short_level_dict[synthese_data['from_level']]\n",
    "        \n",
    "        #Get chart type for indicateur\n",
    "        chart_type = get_indicateur_structure_cible(id_indicateur, structure_cible_data)['odm_chart_type']\n",
    "        \n",
    "        #Get data\n",
    "        detail_data = get_detail_data(id_indicateur, dep, level, structure_cible_data, base_folder_path)\n",
    "        df = pd.DataFrame(detail_data)\n",
    "        df = df.sort_values('date')\n",
    "        df['date_tick'] = df['date'].apply(lambda x : yearmonth_to_fr(x[:7]))\n",
    "        \n",
    "        #Making graphs\n",
    "        fig = make_detail_chart(df, chart_type)\n",
    "        img_path = os.path.join(img_dir_path, 'graphs', 'graph-detail-{}-dep_{}.png'.format(id_indicateur, dep))\n",
    "\n",
    "        if fig is not None :\n",
    "            fig.write_image(img_path)\n",
    "\n",
    "    print('{} - Dep {} done.'.format(datetime.datetime.today(), dep))"
   ]
  },
  {
   "cell_type": "markdown",
   "id": "complex-water",
   "metadata": {
    "papermill": {
     "duration": 0.01237,
     "end_time": "2023-08-17T12:00:28.413874",
     "exception": false,
     "start_time": "2023-08-17T12:00:28.401504",
     "status": "completed"
    },
    "tags": []
   },
   "source": [
    "## Building the reports"
   ]
  },
  {
   "cell_type": "code",
   "execution_count": 25,
   "id": "approximate-retrieval",
   "metadata": {
    "execution": {
     "iopub.execute_input": "2023-08-17T12:00:28.439402Z",
     "iopub.status.busy": "2023-08-17T12:00:28.439019Z",
     "iopub.status.idle": "2023-08-17T12:00:28.442537Z",
     "shell.execute_reply": "2023-08-17T12:00:28.441905Z"
    },
    "papermill": {
     "duration": 0.018016,
     "end_time": "2023-08-17T12:00:28.443987",
     "exception": false,
     "start_time": "2023-08-17T12:00:28.425971",
     "status": "completed"
    },
    "tags": []
   },
   "outputs": [],
   "source": [
    "mkdir_ifnotexist(reports_dir_path)"
   ]
  },
  {
   "cell_type": "code",
   "execution_count": 26,
   "id": "large-provision",
   "metadata": {
    "execution": {
     "iopub.execute_input": "2023-08-17T12:00:28.469990Z",
     "iopub.status.busy": "2023-08-17T12:00:28.469671Z",
     "iopub.status.idle": "2023-08-17T12:00:28.472636Z",
     "shell.execute_reply": "2023-08-17T12:00:28.471995Z"
    },
    "papermill": {
     "duration": 0.017217,
     "end_time": "2023-08-17T12:00:28.473979",
     "exception": false,
     "start_time": "2023-08-17T12:00:28.456762",
     "status": "completed"
    },
    "tags": []
   },
   "outputs": [],
   "source": [
    "global title_header\n",
    "title_header = ''"
   ]
  },
  {
   "cell_type": "code",
   "execution_count": 27,
   "id": "serial-rogers",
   "metadata": {
    "execution": {
     "iopub.execute_input": "2023-08-17T12:00:28.499187Z",
     "iopub.status.busy": "2023-08-17T12:00:28.498884Z",
     "iopub.status.idle": "2023-08-17T12:00:28.505495Z",
     "shell.execute_reply": "2023-08-17T12:00:28.504906Z"
    },
    "papermill": {
     "duration": 0.020728,
     "end_time": "2023-08-17T12:00:28.506754",
     "exception": false,
     "start_time": "2023-08-17T12:00:28.486026",
     "status": "completed"
    },
    "tags": []
   },
   "outputs": [],
   "source": [
    "class PDF(FPDF):\n",
    "    def header(self):\n",
    "        if (self.page_no() != 1 ):\n",
    "            # Logo\n",
    "            self.image(os.path.join(img_dir_path, 'gouv.png'), 10, 8, 45)\n",
    "            # Arial bold 15\n",
    "            self.cell(50)\n",
    "            self.set_font('Arial', 'B', 16)\n",
    "            self.cell(80, 15, title_header, 0, 1, 'A')\n",
    "\n",
    "            # Move to the right\n",
    "            # Title\n",
    "            self.set_font('Arial', 'I', 9)\n",
    "            self.cell(50)\n",
    "            #self.cell(50, 10, subtitle_header+' - aides-entreprises.data.gouv.fr', 0, 1, 'A', link='https://aides-entreprises.data.gouv.fr/')\n",
    "            self.cell(50, 10, 'www.gouvernement.fr/les-actions-du-gouvernement', 0, 1, 'A', link='https://www.gouvernement.fr/les-actions-du-gouvernement')\n",
    "            # Line break  \n",
    "            pdf.line(40, 38, 170, 38)\n",
    "            self.ln(7)\n",
    "        \n",
    "    # Page footer\n",
    "    def footer(self):\n",
    "        if (self.page_no() != 1 ):\n",
    "            # Position at 1.5 cm from bottom\n",
    "            self.set_y(-15)\n",
    "            # Arial italic 8\n",
    "            self.set_font('Arial', 'I', 8)\n",
    "            # Page number\n",
    "            \n",
    "            self.cell(0, 10, 'Direction Interministérielle du Numérique (DINUM) - Page ' + str(self.page_no()) + '/{nb}', 0, 0, 'C')"
   ]
  },
  {
   "cell_type": "code",
   "execution_count": 28,
   "id": "boxed-story",
   "metadata": {
    "execution": {
     "iopub.execute_input": "2023-08-17T12:00:28.533299Z",
     "iopub.status.busy": "2023-08-17T12:00:28.532958Z",
     "iopub.status.idle": "2023-08-17T12:00:28.556875Z",
     "shell.execute_reply": "2023-08-17T12:00:28.556272Z"
    },
    "papermill": {
     "duration": 0.038545,
     "end_time": "2023-08-17T12:00:28.558114",
     "exception": false,
     "start_time": "2023-08-17T12:00:28.519569",
     "status": "completed"
    },
    "tags": []
   },
   "outputs": [],
   "source": [
    "def insert_indicateur(pdf, dep, ind_data, ind_struc) :\n",
    "    \n",
    "    #Getting relevant information in data\n",
    "    initial_value = ind_data['initial_value']\n",
    "    initial_value_date = ind_data['initial_value_date']\n",
    "    latest_value = ind_data['latest_value']\n",
    "    latest_value_date = ind_data['latest_value_date']\n",
    "    target_value = ind_data['target']\n",
    "    target_percentage = ind_data['target_percentage']\n",
    "    target_value_date = ind_data['target_date']\n",
    "    progression_percentage = ind_data['progression_percentage']\n",
    "    from_level = ind_data['from_level']\n",
    "    \n",
    "    #Getting relevant information in structure\n",
    "    id_indicateur = ind_struc['id_indicateur_fr']\n",
    "    nom_indicateur = drop_encoding_issues(ind_struc['nom_indicateur'])\n",
    "    ind_text_url = drop_encoding_issues(ind_struc['odm_text'])\n",
    "    kpi_format = ind_struc['odm_kpi_format']\n",
    "    kpi_unit = drop_encoding_issues(ind_struc['odm_kpi_unit'])\n",
    "    chart_unit = drop_encoding_issues(ind_struc['odm_chart_unit'])\n",
    "    to_round = ind_struc['toRound']\n",
    "    \n",
    "    #Numbers formating\n",
    "    if to_round is not None :\n",
    "        if initial_value is not None :\n",
    "            initial_value = round(initial_value, to_round)\n",
    "            initial_value = reformat_number(initial_value)\n",
    "        if latest_value is not None :\n",
    "            latest_value = round(latest_value, to_round)\n",
    "            latest_value = reformat_number(latest_value)\n",
    "        if target_value is not None :\n",
    "            target_value = round(target_value, to_round)\n",
    "            target_value = reformat_number(target_value)\n",
    "            \n",
    "    if progression_percentage is not None :\n",
    "        if progression_percentage < 0 :\n",
    "            progression_percentage_str = '- '+str(-progression_percentage).replace('.',',')+' %'\n",
    "        else :\n",
    "            progression_percentage_str = '+ '+str(progression_percentage).replace('.',',')+' %'\n",
    "    else :\n",
    "        progression_percentage_str = ''\n",
    "    \n",
    "    if kpi_unit.startswith('%') :\n",
    "        if initial_value is not None :\n",
    "            initial_value += ' %'\n",
    "        if latest_value is not None :\n",
    "            latest_value += ' %'\n",
    "        if target_value is not None :\n",
    "            target_value += ' %'\n",
    "        kpi_unit = kpi_unit.replace('% ','').replace('%','')\n",
    "    \n",
    "    #Initializing blocks parameters\n",
    "    nb_blocks = 1\n",
    "    ini_block = False\n",
    "    tar_block = False\n",
    "    \n",
    "    #Current value (always present)\n",
    "    latest_value_date_str = yearmonth_to_fr(latest_value_date[:7])\n",
    "    latest_value_str = str(latest_value).replace('.',',')\n",
    "    \n",
    "    #Insert initial block if init value exists\n",
    "    if initial_value is not None :\n",
    "        if float(initial_value.replace(',','.').replace(' ','').replace('%','')) > 0 :\n",
    "            initial_value_date_str = yearmonth_to_fr(initial_value_date[:7])\n",
    "            initial_value_str = str(initial_value).replace('.',',')\n",
    "            nb_blocks += 1\n",
    "            ini_block = True\n",
    "        \n",
    "    #Insert target block if target value exists\n",
    "    if target_value is not None :\n",
    "        target_value_date_str = yearmonth_to_fr(target_value_date[:7])\n",
    "        target_value_str = str(target_value).replace('.',',')\n",
    "        nb_blocks += 1\n",
    "        tar_block = True\n",
    "        \n",
    "    #Blocks settings depending on existing data\n",
    "    block_spacing = 5\n",
    "    block_width = (182 - (nb_blocks-1)*block_spacing)/nb_blocks\n",
    "    \n",
    "    #INDICATOR DISPLAY\n",
    "    \n",
    "    #Indicator title\n",
    "    pdf.set_text_color(0,0,0)\n",
    "    pdf.set_font('Arial', 'B', 12)\n",
    "    pdf.multi_cell(182, 5, 'Indicateur : '+ nom_indicateur, align='L')\n",
    "    pdf.ln(3)\n",
    "    \n",
    "    #Indicator description\n",
    "    full_ind_text_url = os.path.join(base_folder_path, ind_text_url[1:])\n",
    "    r = requests.get(full_ind_text_url)\n",
    "    ind_text = drop_encoding_issues(r.text)\n",
    "    ind_text = clean_description(ind_text)\n",
    "    \n",
    "    pdf.set_font('Arial', '', 10)\n",
    "    pdf.multi_cell(182, 5, ind_text, align='J')\n",
    "    pdf.ln(3)\n",
    "    \n",
    "    #Data geo level indication\n",
    "    if from_level == 'dep' :\n",
    "        from_level_str = \"Les résultats pour le département : \" + get_dep_infos(dep)['dep_name']\n",
    "    elif from_level == 'reg' :\n",
    "        from_level_str = \"Données uniquement disponibles pour la région : \" + get_dep_infos(dep)['reg_name']\n",
    "    elif from_level == 'nat' :\n",
    "        from_level_str = \"Données uniquement disponibles pour la France\"\n",
    "    \n",
    "    pdf.set_text_color(0,0,0)\n",
    "    pdf.set_font('Arial', '', 10)\n",
    "    pdf.set_fill_color(245,245,245);\n",
    "    pdf.cell(182, 8, from_level_str, 0, 2, 'L', fill=True)\n",
    "    pdf.ln(3)\n",
    "    \n",
    "    #Indicator blocks\n",
    "    \n",
    "    y_blocks_top = pdf.get_y()\n",
    "    x_blocks_left = pdf.get_x()\n",
    "    \n",
    "    #Initial value block\n",
    "    if ini_block == True :\n",
    "        pdf.set_fill_color(253, 244, 242)\n",
    "        pdf.set_font('Arial', '', 8)\n",
    "        pdf.cell(block_width, 8, 'En {}'.format(initial_value_date_str), 0, 1, 'L', fill=True)\n",
    "        pdf.set_fill_color(254, 249, 248)\n",
    "        pdf.set_font('Arial', 'B', 20)\n",
    "        pdf.cell(block_width, 10, initial_value_str, 0, 1, 'L', fill=True)\n",
    "        pdf.set_font('Arial', '', 10)\n",
    "        pdf.cell(block_width, 3, kpi_unit, 0, 1, 'L', fill=True)\n",
    "        block_left_x = pdf.get_x()\n",
    "        block_bottom_y = pdf.get_y()\n",
    "        y_blocks_top = block_bottom_y - (8+10+3) #Just in case there is an auto page break that puts blocks in different y\n",
    "        pdf.cell(block_width, 10, '', 0, 1, 'L', fill=True)\n",
    "    \n",
    "    #Current value block (always here)\n",
    "    if ini_block == True :\n",
    "        pdf.set_xy(block_width + pdf.l_margin + block_spacing, y_blocks_top)\n",
    "    pdf.set_fill_color(234, 244, 239)\n",
    "    pdf.set_font('Arial', '', 8)\n",
    "    pdf.cell(block_width, 8, 'En {}'.format(latest_value_date_str), 0, 2, 'L', fill=True)\n",
    "    pdf.set_fill_color(244, 250, 247)\n",
    "    pdf.set_font('Arial', 'B', 20)\n",
    "    pdf.cell(block_width, 10, latest_value_str, 0, 2, 'L', fill=True)\n",
    "    pdf.set_font('Arial', '', 10)\n",
    "    pdf.cell(block_width, 3, kpi_unit, 0, 2, 'L', fill=True)\n",
    "    block_left_x = pdf.get_x()\n",
    "    block_bottom_y = pdf.get_y()\n",
    "    y_blocks_top = block_bottom_y - (8+10+3) #Just in case there is an auto page break that puts blocks in different y\n",
    "    pdf.cell(block_width, 10, progression_percentage_str, 0, 2, 'L', fill=True)\n",
    "    \n",
    "    #Target value block\n",
    "    if tar_block == True :\n",
    "        if nb_blocks == 2 :\n",
    "            pdf.set_xy(block_width + pdf.l_margin + block_spacing, y_blocks_top)\n",
    "        elif nb_blocks == 3 :\n",
    "            pdf.set_xy(2*block_width + pdf.l_margin + 2*block_spacing, y_blocks_top)\n",
    "            \n",
    "        pdf.set_fill_color(229, 229, 243)\n",
    "        pdf.set_font('Arial', '', 8)\n",
    "        pdf.cell(block_width, 8, 'Cible {}'.format(target_value_date_str), 0, 2, 'L', fill=True)\n",
    "        pdf.set_fill_color(242, 242, 248)\n",
    "        pdf.set_font('Arial', 'B', 20)\n",
    "        pdf.cell(block_width, 10, target_value_str, 0, 2, 'L', fill=True)\n",
    "        pdf.set_font('Arial', '', 10)\n",
    "        pdf.cell(block_width, 3, kpi_unit, 0, 2, 'L', fill=True)\n",
    "        \n",
    "        #Inserting bullet chart (prog %) if exists\n",
    "        block_left_x = pdf.get_x()\n",
    "        block_bottom_y = pdf.get_y()\n",
    "        pdf.cell(block_width, 10, '', 0, 2, 'L', fill=True)\n",
    "        bullet_chart_width = 55\n",
    "        pdf.set_xy(block_left_x + block_width/2 - bullet_chart_width/2, block_bottom_y)\n",
    "        try :\n",
    "            prog_img_path = os.path.join(img_dir_path, 'graphs', 'bullet_chart-synthese-target_percentage-{}-dep_{}.png'.format(id_indicateur, dep))\n",
    "            pdf.image(prog_img_path, w=bullet_chart_width)\n",
    "        except :\n",
    "            pass\n",
    "    \n",
    "    #To go properly on next line (under blocks)\n",
    "    pdf.set_xy(block_left_x, block_bottom_y)\n",
    "    pdf.cell(0, 10, '', 0, 1) #Just to go to next line\n",
    "    \n",
    "    #CHART DISPLAY\n",
    "    try :\n",
    "        chart_width = 140\n",
    "        chart_img_path = os.path.join(img_dir_path, 'graphs', 'graph-detail-{}-dep_{}.png'.format(id_indicateur, dep))\n",
    "        pdf.set_x(x_blocks_left + 182/2 - chart_width/2)\n",
    "        pdf.image(chart_img_path, w=chart_width)\n",
    "\n",
    "        pdf.set_x(x_blocks_left)\n",
    "        pdf.set_font('Arial', 'I', 8)\n",
    "        pdf.cell(182, 8, 'Unité : {}'.format(chart_unit), 0, 2, 'C')\n",
    "    except :\n",
    "        print('No chart found for {}'.format(id_indicateur))\n",
    "\n",
    "    return pdf"
   ]
  },
  {
   "cell_type": "code",
   "execution_count": 29,
   "id": "sorted-contract",
   "metadata": {
    "execution": {
     "iopub.execute_input": "2023-08-17T12:00:28.583689Z",
     "iopub.status.busy": "2023-08-17T12:00:28.583425Z",
     "iopub.status.idle": "2023-08-17T13:47:42.789941Z",
     "shell.execute_reply": "2023-08-17T13:47:42.789359Z"
    },
    "papermill": {
     "duration": 6434.237018,
     "end_time": "2023-08-17T13:47:42.807417",
     "exception": false,
     "start_time": "2023-08-17T12:00:28.570399",
     "status": "completed"
    },
    "tags": []
   },
   "outputs": [
    {
     "name": "stdout",
     "output_type": "stream",
     "text": [
      "2023-08-17 12:01:48.159365 - 01-Ain done.\n"
     ]
    },
    {
     "name": "stdout",
     "output_type": "stream",
     "text": [
      "2023-08-17 12:02:49.888446 - 02-Aisne done.\n"
     ]
    },
    {
     "name": "stdout",
     "output_type": "stream",
     "text": [
      "2023-08-17 12:03:54.468866 - 03-Allier done.\n"
     ]
    },
    {
     "name": "stdout",
     "output_type": "stream",
     "text": [
      "2023-08-17 12:04:56.737065 - 04-Alpes-de-Haute-Provence done.\n"
     ]
    },
    {
     "name": "stdout",
     "output_type": "stream",
     "text": [
      "2023-08-17 12:05:58.794145 - 05-Hautes-Alpes done.\n"
     ]
    },
    {
     "name": "stdout",
     "output_type": "stream",
     "text": [
      "2023-08-17 12:07:11.748193 - 06-Alpes-Maritimes done.\n"
     ]
    },
    {
     "name": "stdout",
     "output_type": "stream",
     "text": [
      "2023-08-17 12:08:13.109917 - 07-Ardèche done.\n"
     ]
    },
    {
     "name": "stdout",
     "output_type": "stream",
     "text": [
      "2023-08-17 12:09:13.009236 - 08-Ardennes done.\n"
     ]
    },
    {
     "name": "stdout",
     "output_type": "stream",
     "text": [
      "2023-08-17 12:10:13.425371 - 09-Ariège done.\n"
     ]
    },
    {
     "name": "stdout",
     "output_type": "stream",
     "text": [
      "2023-08-17 12:11:14.600668 - 10-Aube done.\n"
     ]
    },
    {
     "name": "stdout",
     "output_type": "stream",
     "text": [
      "2023-08-17 12:12:24.391908 - 11-Aude done.\n"
     ]
    },
    {
     "name": "stdout",
     "output_type": "stream",
     "text": [
      "2023-08-17 12:13:27.934955 - 12-Aveyron done.\n"
     ]
    },
    {
     "name": "stdout",
     "output_type": "stream",
     "text": [
      "2023-08-17 12:14:31.834155 - 13-Bouches-du-Rhône done.\n"
     ]
    },
    {
     "name": "stdout",
     "output_type": "stream",
     "text": [
      "2023-08-17 12:15:33.140319 - 14-Calvados done.\n"
     ]
    },
    {
     "name": "stdout",
     "output_type": "stream",
     "text": [
      "2023-08-17 12:16:33.876009 - 15-Cantal done.\n"
     ]
    },
    {
     "name": "stdout",
     "output_type": "stream",
     "text": [
      "2023-08-17 12:17:43.580732 - 16-Charente done.\n"
     ]
    },
    {
     "name": "stdout",
     "output_type": "stream",
     "text": [
      "2023-08-17 12:18:44.834074 - 17-Charente-Maritime done.\n"
     ]
    },
    {
     "name": "stdout",
     "output_type": "stream",
     "text": [
      "2023-08-17 12:19:46.924490 - 18-Cher done.\n"
     ]
    },
    {
     "name": "stdout",
     "output_type": "stream",
     "text": [
      "2023-08-17 12:20:46.094389 - 19-Corrèze done.\n"
     ]
    },
    {
     "name": "stdout",
     "output_type": "stream",
     "text": [
      "2023-08-17 12:21:47.547111 - 21-Côte-d'Or done.\n"
     ]
    },
    {
     "name": "stdout",
     "output_type": "stream",
     "text": [
      "2023-08-17 12:22:58.973105 - 22-Côtes-d'Armor done.\n"
     ]
    },
    {
     "name": "stdout",
     "output_type": "stream",
     "text": [
      "2023-08-17 12:23:59.971839 - 23-Creuse done.\n"
     ]
    },
    {
     "name": "stdout",
     "output_type": "stream",
     "text": [
      "2023-08-17 12:25:05.001493 - 24-Dordogne done.\n"
     ]
    },
    {
     "name": "stdout",
     "output_type": "stream",
     "text": [
      "2023-08-17 12:26:07.189394 - 25-Doubs done.\n"
     ]
    },
    {
     "name": "stdout",
     "output_type": "stream",
     "text": [
      "2023-08-17 12:27:09.547450 - 26-Drôme done.\n"
     ]
    },
    {
     "name": "stdout",
     "output_type": "stream",
     "text": [
      "2023-08-17 12:28:19.306340 - 27-Eure done.\n"
     ]
    },
    {
     "name": "stdout",
     "output_type": "stream",
     "text": [
      "2023-08-17 12:29:24.077690 - 28-Eure-et-Loir done.\n"
     ]
    },
    {
     "name": "stdout",
     "output_type": "stream",
     "text": [
      "2023-08-17 12:30:25.340986 - 29-Finistère done.\n"
     ]
    },
    {
     "name": "stdout",
     "output_type": "stream",
     "text": [
      "2023-08-17 12:31:23.035798 - 2A-Corse-du-Sud done.\n"
     ]
    },
    {
     "name": "stdout",
     "output_type": "stream",
     "text": [
      "2023-08-17 12:32:21.356988 - 2B-Haute-Corse done.\n"
     ]
    },
    {
     "name": "stdout",
     "output_type": "stream",
     "text": [
      "2023-08-17 12:33:30.341717 - 30-Gard done.\n"
     ]
    },
    {
     "name": "stdout",
     "output_type": "stream",
     "text": [
      "2023-08-17 12:34:35.234265 - 31-Haute-Garonne done.\n"
     ]
    },
    {
     "name": "stdout",
     "output_type": "stream",
     "text": [
      "2023-08-17 12:35:34.518341 - 32-Gers done.\n"
     ]
    },
    {
     "name": "stdout",
     "output_type": "stream",
     "text": [
      "2023-08-17 12:36:37.711235 - 33-Gironde done.\n"
     ]
    },
    {
     "name": "stdout",
     "output_type": "stream",
     "text": [
      "2023-08-17 12:37:38.955947 - 34-Hérault done.\n"
     ]
    },
    {
     "name": "stdout",
     "output_type": "stream",
     "text": [
      "2023-08-17 12:38:53.819699 - 35-Ille-et-Vilaine done.\n"
     ]
    },
    {
     "name": "stdout",
     "output_type": "stream",
     "text": [
      "2023-08-17 12:39:53.776652 - 36-Indre done.\n"
     ]
    },
    {
     "name": "stdout",
     "output_type": "stream",
     "text": [
      "2023-08-17 12:40:54.375328 - 37-Indre-et-Loire done.\n"
     ]
    },
    {
     "name": "stdout",
     "output_type": "stream",
     "text": [
      "2023-08-17 12:41:57.929628 - 38-Isère done.\n"
     ]
    },
    {
     "name": "stdout",
     "output_type": "stream",
     "text": [
      "2023-08-17 12:42:58.644053 - 39-Jura done.\n"
     ]
    },
    {
     "name": "stdout",
     "output_type": "stream",
     "text": [
      "2023-08-17 12:44:12.531602 - 40-Landes done.\n"
     ]
    },
    {
     "name": "stdout",
     "output_type": "stream",
     "text": [
      "2023-08-17 12:45:13.206968 - 41-Loir-et-Cher done.\n"
     ]
    },
    {
     "name": "stdout",
     "output_type": "stream",
     "text": [
      "2023-08-17 12:46:15.079663 - 42-Loire done.\n"
     ]
    },
    {
     "name": "stdout",
     "output_type": "stream",
     "text": [
      "2023-08-17 12:47:16.661267 - 43-Haute-Loire done.\n"
     ]
    },
    {
     "name": "stdout",
     "output_type": "stream",
     "text": [
      "2023-08-17 12:48:19.845400 - 44-Loire-Atlantique done.\n"
     ]
    },
    {
     "name": "stdout",
     "output_type": "stream",
     "text": [
      "2023-08-17 12:49:30.928153 - 45-Loiret done.\n"
     ]
    },
    {
     "name": "stdout",
     "output_type": "stream",
     "text": [
      "2023-08-17 12:50:31.079304 - 46-Lot done.\n"
     ]
    },
    {
     "name": "stdout",
     "output_type": "stream",
     "text": [
      "2023-08-17 12:51:31.711030 - 47-Lot-et-Garonne done.\n"
     ]
    },
    {
     "name": "stdout",
     "output_type": "stream",
     "text": [
      "2023-08-17 12:52:31.723167 - 48-Lozère done.\n"
     ]
    },
    {
     "name": "stdout",
     "output_type": "stream",
     "text": [
      "2023-08-17 12:53:35.995500 - 49-Maine-et-Loire done.\n"
     ]
    },
    {
     "name": "stdout",
     "output_type": "stream",
     "text": [
      "2023-08-17 12:54:45.471494 - 50-Manche done.\n"
     ]
    },
    {
     "name": "stdout",
     "output_type": "stream",
     "text": [
      "2023-08-17 12:55:46.850306 - 51-Marne done.\n"
     ]
    },
    {
     "name": "stdout",
     "output_type": "stream",
     "text": [
      "2023-08-17 12:56:46.889692 - 52-Haute-Marne done.\n"
     ]
    },
    {
     "name": "stdout",
     "output_type": "stream",
     "text": [
      "2023-08-17 12:57:46.712995 - 53-Mayenne done.\n"
     ]
    },
    {
     "name": "stdout",
     "output_type": "stream",
     "text": [
      "2023-08-17 12:58:48.580564 - 54-Meurthe-et-Moselle done.\n"
     ]
    },
    {
     "name": "stdout",
     "output_type": "stream",
     "text": [
      "2023-08-17 12:59:58.872568 - 55-Meuse done.\n"
     ]
    },
    {
     "name": "stdout",
     "output_type": "stream",
     "text": [
      "2023-08-17 13:01:02.376283 - 56-Morbihan done.\n"
     ]
    },
    {
     "name": "stdout",
     "output_type": "stream",
     "text": [
      "2023-08-17 13:02:05.432683 - 57-Moselle done.\n"
     ]
    },
    {
     "name": "stdout",
     "output_type": "stream",
     "text": [
      "2023-08-17 13:03:07.342044 - 58-Nièvre done.\n"
     ]
    },
    {
     "name": "stdout",
     "output_type": "stream",
     "text": [
      "2023-08-17 13:04:11.461412 - 59-Nord done.\n"
     ]
    },
    {
     "name": "stdout",
     "output_type": "stream",
     "text": [
      "2023-08-17 13:05:23.489897 - 60-Oise done.\n"
     ]
    },
    {
     "name": "stdout",
     "output_type": "stream",
     "text": [
      "2023-08-17 13:06:24.288373 - 61-Orne done.\n"
     ]
    },
    {
     "name": "stdout",
     "output_type": "stream",
     "text": [
      "2023-08-17 13:07:26.131951 - 62-Pas-de-Calais done.\n"
     ]
    },
    {
     "name": "stdout",
     "output_type": "stream",
     "text": [
      "2023-08-17 13:08:27.843110 - 63-Puy-de-Dôme done.\n"
     ]
    },
    {
     "name": "stdout",
     "output_type": "stream",
     "text": [
      "2023-08-17 13:09:30.012189 - 64-Pyrénées-Atlantiques done.\n"
     ]
    },
    {
     "name": "stdout",
     "output_type": "stream",
     "text": [
      "2023-08-17 13:10:40.245821 - 65-Hautes-Pyrénées done.\n"
     ]
    },
    {
     "name": "stdout",
     "output_type": "stream",
     "text": [
      "2023-08-17 13:11:41.104114 - 66-Pyrénées-Orientales done.\n"
     ]
    },
    {
     "name": "stdout",
     "output_type": "stream",
     "text": [
      "2023-08-17 13:12:44.318544 - 67-Bas-Rhin done.\n"
     ]
    },
    {
     "name": "stdout",
     "output_type": "stream",
     "text": [
      "2023-08-17 13:13:46.130826 - 68-Haut-Rhin done.\n"
     ]
    },
    {
     "name": "stdout",
     "output_type": "stream",
     "text": [
      "2023-08-17 13:14:47.413052 - 69-Rhône done.\n"
     ]
    },
    {
     "name": "stdout",
     "output_type": "stream",
     "text": [
      "2023-08-17 13:15:58.428645 - 70-Haute-Saône done.\n"
     ]
    },
    {
     "name": "stdout",
     "output_type": "stream",
     "text": [
      "2023-08-17 13:16:59.599779 - 71-Saône-et-Loire done.\n"
     ]
    },
    {
     "name": "stdout",
     "output_type": "stream",
     "text": [
      "2023-08-17 13:18:01.624542 - 72-Sarthe done.\n"
     ]
    },
    {
     "name": "stdout",
     "output_type": "stream",
     "text": [
      "2023-08-17 13:19:03.971649 - 73-Savoie done.\n"
     ]
    },
    {
     "name": "stdout",
     "output_type": "stream",
     "text": [
      "2023-08-17 13:20:05.418958 - 74-Haute-Savoie done.\n"
     ]
    },
    {
     "name": "stdout",
     "output_type": "stream",
     "text": [
      "2023-08-17 13:21:20.754145 - 75-Paris done.\n"
     ]
    },
    {
     "name": "stdout",
     "output_type": "stream",
     "text": [
      "2023-08-17 13:22:24.667825 - 76-Seine-Maritime done.\n"
     ]
    },
    {
     "name": "stdout",
     "output_type": "stream",
     "text": [
      "2023-08-17 13:23:26.754568 - 77-Seine-et-Marne done.\n"
     ]
    },
    {
     "name": "stdout",
     "output_type": "stream",
     "text": [
      "2023-08-17 13:24:28.627844 - 78-Yvelines done.\n"
     ]
    },
    {
     "name": "stdout",
     "output_type": "stream",
     "text": [
      "2023-08-17 13:25:29.172952 - 79-Deux-Sèvres done.\n"
     ]
    },
    {
     "name": "stdout",
     "output_type": "stream",
     "text": [
      "2023-08-17 13:26:42.315298 - 80-Somme done.\n"
     ]
    },
    {
     "name": "stdout",
     "output_type": "stream",
     "text": [
      "2023-08-17 13:27:44.276657 - 81-Tarn done.\n"
     ]
    },
    {
     "name": "stdout",
     "output_type": "stream",
     "text": [
      "2023-08-17 13:28:46.201727 - 82-Tarn-et-Garonne done.\n"
     ]
    },
    {
     "name": "stdout",
     "output_type": "stream",
     "text": [
      "2023-08-17 13:29:48.203625 - 83-Var done.\n"
     ]
    },
    {
     "name": "stdout",
     "output_type": "stream",
     "text": [
      "2023-08-17 13:30:49.106229 - 84-Vaucluse done.\n"
     ]
    },
    {
     "name": "stdout",
     "output_type": "stream",
     "text": [
      "2023-08-17 13:31:59.710540 - 85-Vendée done.\n"
     ]
    },
    {
     "name": "stdout",
     "output_type": "stream",
     "text": [
      "2023-08-17 13:33:00.840911 - 86-Vienne done.\n"
     ]
    },
    {
     "name": "stdout",
     "output_type": "stream",
     "text": [
      "2023-08-17 13:34:01.753294 - 87-Haute-Vienne done.\n"
     ]
    },
    {
     "name": "stdout",
     "output_type": "stream",
     "text": [
      "2023-08-17 13:35:02.377679 - 88-Vosges done.\n"
     ]
    },
    {
     "name": "stdout",
     "output_type": "stream",
     "text": [
      "2023-08-17 13:36:04.677500 - 89-Yonne done.\n"
     ]
    },
    {
     "name": "stdout",
     "output_type": "stream",
     "text": [
      "2023-08-17 13:37:15.075991 - 90-Territoire de Belfort done.\n"
     ]
    },
    {
     "name": "stdout",
     "output_type": "stream",
     "text": [
      "2023-08-17 13:38:17.039657 - 91-Essonne done.\n"
     ]
    },
    {
     "name": "stdout",
     "output_type": "stream",
     "text": [
      "2023-08-17 13:39:18.707107 - 92-Hauts-de-Seine done.\n"
     ]
    },
    {
     "name": "stdout",
     "output_type": "stream",
     "text": [
      "2023-08-17 13:40:20.752748 - 93-Seine-Saint-Denis done.\n"
     ]
    },
    {
     "name": "stdout",
     "output_type": "stream",
     "text": [
      "2023-08-17 13:41:22.728548 - 94-Val-de-Marne done.\n"
     ]
    },
    {
     "name": "stdout",
     "output_type": "stream",
     "text": [
      "2023-08-17 13:42:31.169367 - 95-Val-d'Oise done.\n"
     ]
    },
    {
     "name": "stdout",
     "output_type": "stream",
     "text": [
      "2023-08-17 13:43:32.888115 - 971-Guadeloupe done.\n"
     ]
    },
    {
     "name": "stdout",
     "output_type": "stream",
     "text": [
      "2023-08-17 13:44:34.387443 - 972-Martinique done.\n"
     ]
    },
    {
     "name": "stdout",
     "output_type": "stream",
     "text": [
      "2023-08-17 13:45:35.463394 - 973-Guyane done.\n"
     ]
    },
    {
     "name": "stdout",
     "output_type": "stream",
     "text": [
      "2023-08-17 13:46:36.157428 - 974-La Réunion done.\n"
     ]
    },
    {
     "name": "stdout",
     "output_type": "stream",
     "text": [
      "2023-08-17 13:47:42.783050 - 976-Mayotte done.\n",
      "CPU times: user 1h 40min 18s, sys: 45.1 s, total: 1h 41min 4s\n",
      "Wall time: 1h 47min 14s\n"
     ]
    }
   ],
   "source": [
    "%%time\n",
    "\n",
    "mkdir_ifnotexist(os.path.join(reports_dir_path, 'pdf'))\n",
    "mkdir_ifnotexist(os.path.join(reports_dir_path, 'pdf', 'par_departement'))\n",
    "\n",
    "for dep in dep_list :\n",
    "    \n",
    "    pdf = PDF()\n",
    "    pdf.alias_nb_pages()\n",
    "    pdf.add_page()\n",
    "\n",
    "    #Logos\n",
    "    pdf.image(os.path.join(img_dir_path, 'gouv.png'), 10, 8, 125)\n",
    "    \n",
    "    # Arial bold 15\n",
    "    pdf.set_font('Arial', 'B', 28)\n",
    "    # Move to the right\n",
    "    pdf.cell(50)\n",
    "    pdf.ln(100)\n",
    "    \n",
    "    # Title\n",
    "    pdf.cell(10)\n",
    "    pdf.cell(50, 10, 'BAROMÈTRE DES RÉSULTATS DE', 0, 1, 'A')\n",
    "    pdf.ln(10)\n",
    "    pdf.cell(10)\n",
    "    pdf.cell(50, 10, \"L'ACTION PUBLIQUE\", 0, 1, 'A')\n",
    "    pdf.ln(10)\n",
    "    pdf.cell(60)\n",
    "\n",
    "    pdf.set_font('Arial', 'I', 20)\n",
    "    pdf.ln(10)\n",
    "    pdf.cell(10)\n",
    "    pdf.cell(50, 10, 'Présentation des résultats pour le département :', 0, 1, 'A')\n",
    "    pdf.ln(10)\n",
    "    pdf.cell(10)\n",
    "    pdf.cell(50, 10, dep + ' - ' + get_dep_infos(dep)['dep_name'], 0, 1, 'A')\n",
    "    pdf.ln(70)\n",
    "\n",
    "    pdf.set_font('Arial', 'I', 8)\n",
    "\n",
    "    pdf.cell(10)\n",
    "    pdf.cell(50, 10, \"Données issues du baromètre des résultats consultable sur https://www.gouvernement.fr/les-actions-du-gouvernement\", 0, 1, 'A')\n",
    "    \n",
    "    #Indicateurs\n",
    "    \n",
    "    pdf.set_left_margin(14)\n",
    "    pdf.set_right_margin(14)\n",
    "    \n",
    "    for thematique_dict in structure_families_data :\n",
    "    \n",
    "        thematique = thematique_dict['nom_ovq']\n",
    "        \n",
    "        #Downloading thematique image\n",
    "        thematique_img_url = os.path.join(base_folder_path, thematique_dict['odm_image'][1:])\n",
    "        thematique_img_local_path = './img/' + thematique_img_url.split('/')[-1]\n",
    "        r = requests.get(thematique_img_url)\n",
    "        with open(thematique_img_local_path, 'wb') as f:\n",
    "            f.write(r.content)\n",
    "        \n",
    "        #Section page\n",
    "        title_header = ''\n",
    "        pdf.add_page()\n",
    "        pdf.image(thematique_img_local_path, x=0, y=70, w=210)\n",
    "        pdf.ln(190)\n",
    "        pdf.set_font('Arial', 'B', 25)\n",
    "        pdf.cell(182, 6, thematique.upper())\n",
    "        \n",
    "        title_header = thematique.upper()\n",
    "\n",
    "        id_ovq_list = thematique_dict['id_ovq']\n",
    "        for id_ovq in id_ovq_list :\n",
    "\n",
    "            try :\n",
    "                ovq_dict = get_ovq_structure_cible(id_ovq, structure_cible_data)\n",
    "            except :\n",
    "                print('No structure cible for {}'.format(id_ovq))\n",
    "                ovq_dict = None\n",
    "            \n",
    "            if ovq_dict is not None :\n",
    "                pdf.add_page()\n",
    "                pdf.ln(3)\n",
    "                nom_ovq = drop_encoding_issues(ovq_dict['nom_ovq'])\n",
    "                ovq_text_url = os.path.join(base_folder_path, ovq_dict['odm_text'][1:])\n",
    "                r = requests.get(ovq_text_url)\n",
    "                ovq_text = drop_encoding_issues(r.text)\n",
    "                ovq_text = clean_description(ovq_text)\n",
    "                \n",
    "                #Display OVQ title\n",
    "                pdf.set_font('Arial', 'B', 16)\n",
    "                pdf.multi_cell(182, 6, nom_ovq, align='L')\n",
    "                pdf.ln(3)\n",
    "                #Display OVQ description\n",
    "                pdf.set_font('Arial', '', 10)\n",
    "                pdf.multi_cell(182, 5, ovq_text, align='J')\n",
    "                pdf.ln(3)\n",
    "\n",
    "                ovq_id_indicateur_list = [ind_dict['id_indicateur_fr'] for ind_dict in ovq_dict['indicateurs']]\n",
    "\n",
    "                add_page_for_ind = False\n",
    "                for id_indicateur in ovq_id_indicateur_list :\n",
    "                    if add_page_for_ind == True :\n",
    "                        pdf.add_page()\n",
    "                    ind_data = get_dep_indicateur_synthese_data(dep, id_indicateur, ovq_synthese_data)\n",
    "                    ind_struc = get_indicateur_structure_cible(id_indicateur, structure_cible_data)\n",
    "\n",
    "                    pdf = insert_indicateur(pdf, dep, ind_data, ind_struc)\n",
    "                    add_page_for_ind = True\n",
    "    \n",
    "    dep_name = get_dep_infos(dep)['dep_name']\n",
    "    pdf.output(os.path.join(reports_dir_path, 'pdf', 'par_departement', 'Baromètre_résultats_'+dep_name+'.pdf'), 'F')\n",
    "    \n",
    "    print(str(datetime.datetime.today()) + ' - ' + dep + '-' + dep_name + ' done.')"
   ]
  },
  {
   "cell_type": "markdown",
   "id": "unsigned-mandate",
   "metadata": {
    "papermill": {
     "duration": 0.017486,
     "end_time": "2023-08-17T13:47:42.842643",
     "exception": false,
     "start_time": "2023-08-17T13:47:42.825157",
     "status": "completed"
    },
    "tags": []
   },
   "source": [
    "## Compress to ZIP"
   ]
  },
  {
   "cell_type": "raw",
   "id": "olympic-corporation",
   "metadata": {
    "papermill": {
     "duration": 0.01765,
     "end_time": "2023-08-17T13:47:42.877734",
     "exception": false,
     "start_time": "2023-08-17T13:47:42.860084",
     "status": "completed"
    },
    "tags": []
   },
   "source": [
    "from zipfile import ZipFile"
   ]
  },
  {
   "cell_type": "raw",
   "id": "major-grounds",
   "metadata": {
    "papermill": {
     "duration": 0.017615,
     "end_time": "2023-08-17T13:47:42.913033",
     "exception": false,
     "start_time": "2023-08-17T13:47:42.895418",
     "status": "completed"
    },
    "tags": []
   },
   "source": [
    "today_date = str(datetime.datetime.today())[:10]\n",
    "today_date"
   ]
  },
  {
   "cell_type": "raw",
   "id": "united-missile",
   "metadata": {
    "papermill": {
     "duration": 0.038382,
     "end_time": "2023-08-17T13:47:42.969457",
     "exception": false,
     "start_time": "2023-08-17T13:47:42.931075",
     "status": "completed"
    },
    "tags": []
   },
   "source": [
    "my_zip_date = ZipFile(os.path.join(reports_dir_path, 'Baromètre_résultats_{}.zip'.format(today_date)), 'w')\n",
    "my_zip_latest = ZipFile(os.path.join(reports_dir_path, 'Baromètre_résultats_latest.zip'), 'w')\n",
    "\n",
    "for filename in os.listdir(os.path.join(reports_dir_path, 'pdf')) :\n",
    "    if filename.endswith('.pdf') :\n",
    "        my_zip_date.write(os.path.join(reports_dir_path, 'pdf', filename))\n",
    "        my_zip_latest.write(os.path.join(reports_dir_path, 'pdf', filename))\n",
    "        \n",
    "my_zip_date.close()\n",
    "my_zip_latest.close()"
   ]
  }
 ],
 "metadata": {
  "kernelspec": {
   "display_name": "Python 3",
   "language": "python",
   "name": "python3"
  },
  "language_info": {
   "codemirror_mode": {
    "name": "ipython",
    "version": 3
   },
   "file_extension": ".py",
   "mimetype": "text/x-python",
   "name": "python",
   "nbconvert_exporter": "python",
   "pygments_lexer": "ipython3",
   "version": "3.11.1"
  },
  "papermill": {
   "default_parameters": {},
   "duration": 7871.515618,
   "end_time": "2023-08-17T13:47:45.622311",
   "environment_variables": {},
   "exception": null,
   "input_path": "report-pdf-dep.ipynb",
   "output_path": "report-pdf-dep.ipynb",
   "parameters": {},
   "start_time": "2023-08-17T11:36:34.106693",
   "version": "2.3.2"
  }
 },
 "nbformat": 4,
 "nbformat_minor": 5
}