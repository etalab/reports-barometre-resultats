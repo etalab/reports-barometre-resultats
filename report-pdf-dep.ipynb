{
 "cells": [
  {
   "cell_type": "markdown",
   "id": "canadian-victorian",
   "metadata": {
    "papermill": {
     "duration": 0.021968,
     "end_time": "2021-02-23T09:33:22.110905",
     "exception": false,
     "start_time": "2021-02-23T09:33:22.088937",
     "status": "completed"
    },
    "tags": []
   },
   "source": [
    "# Baromètre des résultats - PDF reports"
   ]
  },
  {
   "cell_type": "markdown",
   "id": "naked-warrior",
   "metadata": {
    "papermill": {
     "duration": 0.020291,
     "end_time": "2021-02-23T09:33:22.152428",
     "exception": false,
     "start_time": "2021-02-23T09:33:22.132137",
     "status": "completed"
    },
    "tags": []
   },
   "source": [
    "## Imports"
   ]
  },
  {
   "cell_type": "code",
   "execution_count": 1,
   "id": "native-footwear",
   "metadata": {
    "execution": {
     "iopub.execute_input": "2021-02-23T09:33:22.207342Z",
     "iopub.status.busy": "2021-02-23T09:33:22.206779Z",
     "iopub.status.idle": "2021-02-23T09:33:22.650668Z",
     "shell.execute_reply": "2021-02-23T09:33:22.649611Z"
    },
    "papermill": {
     "duration": 0.475317,
     "end_time": "2021-02-23T09:33:22.650807",
     "exception": false,
     "start_time": "2021-02-23T09:33:22.175490",
     "status": "completed"
    },
    "tags": []
   },
   "outputs": [],
   "source": [
    "import json\n",
    "import os\n",
    "import datetime\n",
    "import re\n",
    "\n",
    "import requests\n",
    "import pandas as pd\n",
    "\n",
    "import plotly.graph_objects as go\n",
    "import plotly.express as px\n",
    "\n",
    "from fpdf import FPDF"
   ]
  },
  {
   "cell_type": "markdown",
   "id": "flying-redhead",
   "metadata": {
    "papermill": {
     "duration": 0.020769,
     "end_time": "2021-02-23T09:33:22.692741",
     "exception": false,
     "start_time": "2021-02-23T09:33:22.671972",
     "status": "completed"
    },
    "tags": []
   },
   "source": [
    "## Parameters"
   ]
  },
  {
   "cell_type": "code",
   "execution_count": 2,
   "id": "driven-bracelet",
   "metadata": {
    "execution": {
     "iopub.execute_input": "2021-02-23T09:33:22.742554Z",
     "iopub.status.busy": "2021-02-23T09:33:22.741234Z",
     "iopub.status.idle": "2021-02-23T09:33:22.743194Z",
     "shell.execute_reply": "2021-02-23T09:33:22.743730Z"
    },
    "papermill": {
     "duration": 0.030264,
     "end_time": "2021-02-23T09:33:22.743985",
     "exception": false,
     "start_time": "2021-02-23T09:33:22.713721",
     "status": "completed"
    },
    "tags": []
   },
   "outputs": [],
   "source": [
    "base_folder_path = 'https://raw.githubusercontent.com/etalab/barometre-resultats/master/frontend/static/'\n",
    "\n",
    "ovq_data_folder_path = os.path.join(base_folder_path, 'datasets', 'ovq-data')\n",
    "\n",
    "ovq_synthese_data_path = os.path.join(ovq_data_folder_path, 'prod', 'par_territoire', 'territoire-departemental-global-light.json')\n",
    "ovq_detail_data_folder_path = os.path.join(ovq_data_folder_path, 'prod', 'par_thematique')\n",
    "ovq_structure_cible_path = os.path.join(ovq_data_folder_path, 'prod', 'structure', 'structure-cible.json')\n",
    "ovq_structure_families_path = os.path.join(ovq_data_folder_path, 'prod', 'structure', 'structure-families.json')\n",
    "\n",
    "dep_taxo_url = os.path.join(base_folder_path, 'datasets', 'prod', 'taxonomies', 'departements.json')\n",
    "reg_taxo_url = os.path.join(base_folder_path, 'datasets', 'prod', 'taxonomies', 'regions.json')\n",
    "\n",
    "img_dir_path = './img/'\n",
    "reports_dir_path = './reports/'"
   ]
  },
  {
   "cell_type": "markdown",
   "id": "higher-cholesterol",
   "metadata": {
    "papermill": {
     "duration": 0.021266,
     "end_time": "2021-02-23T09:33:22.787768",
     "exception": false,
     "start_time": "2021-02-23T09:33:22.766502",
     "status": "completed"
    },
    "tags": []
   },
   "source": [
    "## Functions"
   ]
  },
  {
   "cell_type": "code",
   "execution_count": 3,
   "id": "shaped-possible",
   "metadata": {
    "execution": {
     "iopub.execute_input": "2021-02-23T09:33:22.835216Z",
     "iopub.status.busy": "2021-02-23T09:33:22.834611Z",
     "iopub.status.idle": "2021-02-23T09:33:22.838164Z",
     "shell.execute_reply": "2021-02-23T09:33:22.838599Z"
    },
    "papermill": {
     "duration": 0.028291,
     "end_time": "2021-02-23T09:33:22.838728",
     "exception": false,
     "start_time": "2021-02-23T09:33:22.810437",
     "status": "completed"
    },
    "tags": []
   },
   "outputs": [],
   "source": [
    "def mkdir_ifnotexist(path) :\n",
    "    if not os.path.isdir(path) :\n",
    "        os.mkdir(path)"
   ]
  },
  {
   "cell_type": "code",
   "execution_count": 4,
   "id": "educational-sperm",
   "metadata": {
    "execution": {
     "iopub.execute_input": "2021-02-23T09:33:22.890596Z",
     "iopub.status.busy": "2021-02-23T09:33:22.890029Z",
     "iopub.status.idle": "2021-02-23T09:33:23.141290Z",
     "shell.execute_reply": "2021-02-23T09:33:23.141771Z"
    },
    "papermill": {
     "duration": 0.280827,
     "end_time": "2021-02-23T09:33:23.141930",
     "exception": false,
     "start_time": "2021-02-23T09:33:22.861103",
     "status": "completed"
    },
    "tags": []
   },
   "outputs": [],
   "source": [
    "#Importing taxonomies data to make a function to get all infos on a given department\n",
    "r = requests.get(dep_taxo_url)\n",
    "dep_dict_list = json.loads(r.content)\n",
    "\n",
    "r = requests.get(reg_taxo_url)\n",
    "reg_dict_list = json.loads(r.content)\n",
    "\n",
    "def get_dep_infos(dep, dep_dict_list=dep_dict_list, reg_dict_list=reg_dict_list) :\n",
    "        \n",
    "    dep_dict = [dict_ for dict_ in dep_dict_list if dict_['dep'] == dep][0]\n",
    "    dep_name = dep_dict['libelle']\n",
    "    reg = dep_dict['reg']\n",
    "    \n",
    "    reg_dict = [dict_ for dict_ in reg_dict_list if dict_['reg'] == reg][0]\n",
    "    reg_name = reg_dict['libelle']\n",
    "    \n",
    "    res = dict(dep=dep,\n",
    "               dep_name=dep_name,\n",
    "               reg=reg,\n",
    "               reg_name=reg_name\n",
    "              )\n",
    "    \n",
    "    return res"
   ]
  },
  {
   "cell_type": "code",
   "execution_count": 5,
   "id": "median-major",
   "metadata": {
    "execution": {
     "iopub.execute_input": "2021-02-23T09:33:23.189426Z",
     "iopub.status.busy": "2021-02-23T09:33:23.188634Z",
     "iopub.status.idle": "2021-02-23T09:33:23.193336Z",
     "shell.execute_reply": "2021-02-23T09:33:23.192796Z"
    },
    "papermill": {
     "duration": 0.030108,
     "end_time": "2021-02-23T09:33:23.193490",
     "exception": false,
     "start_time": "2021-02-23T09:33:23.163382",
     "status": "completed"
    },
    "tags": []
   },
   "outputs": [],
   "source": [
    "def get_dep_synthese_data(dep, ovq_synthese_data) :\n",
    "    for dep_dict in ovq_synthese_data :\n",
    "        if dep_dict['dep'] == dep :\n",
    "            res = dep_dict\n",
    "            break\n",
    "    return res"
   ]
  },
  {
   "cell_type": "code",
   "execution_count": 6,
   "id": "continent-partner",
   "metadata": {
    "execution": {
     "iopub.execute_input": "2021-02-23T09:33:23.243520Z",
     "iopub.status.busy": "2021-02-23T09:33:23.242742Z",
     "iopub.status.idle": "2021-02-23T09:33:23.246689Z",
     "shell.execute_reply": "2021-02-23T09:33:23.246171Z"
    },
    "papermill": {
     "duration": 0.030147,
     "end_time": "2021-02-23T09:33:23.246815",
     "exception": false,
     "start_time": "2021-02-23T09:33:23.216668",
     "status": "completed"
    },
    "tags": []
   },
   "outputs": [],
   "source": [
    "def get_dep_indicateur_synthese_data(dep, id_indicateur, ovq_synthese_data) :\n",
    "    dep_dict = get_dep_synthese_data(dep, ovq_synthese_data)\n",
    "    \n",
    "    for ovq_dict in dep_dict['ovq'] :\n",
    "        for ind_dict in ovq_dict['indicateurs'] :\n",
    "            if id_indicateur in ind_dict.keys() :\n",
    "                res = ind_dict[id_indicateur][0]\n",
    "                break\n",
    "    return res"
   ]
  },
  {
   "cell_type": "code",
   "execution_count": 7,
   "id": "combined-palmer",
   "metadata": {
    "execution": {
     "iopub.execute_input": "2021-02-23T09:33:23.300872Z",
     "iopub.status.busy": "2021-02-23T09:33:23.300316Z",
     "iopub.status.idle": "2021-02-23T09:33:23.304328Z",
     "shell.execute_reply": "2021-02-23T09:33:23.303814Z"
    },
    "papermill": {
     "duration": 0.032908,
     "end_time": "2021-02-23T09:33:23.304436",
     "exception": false,
     "start_time": "2021-02-23T09:33:23.271528",
     "status": "completed"
    },
    "tags": []
   },
   "outputs": [],
   "source": [
    "def get_indicateur_structure_cible(id_indicateur, structure_cible_data) :\n",
    "    for ovq_dict in structure_cible_data :\n",
    "        for ind_dict in ovq_dict['indicateurs'] :\n",
    "            if ind_dict['id_indicateur_fr'] == id_indicateur :\n",
    "                res = ind_dict\n",
    "                break\n",
    "    return res"
   ]
  },
  {
   "cell_type": "code",
   "execution_count": 8,
   "id": "knowing-general",
   "metadata": {
    "execution": {
     "iopub.execute_input": "2021-02-23T09:33:23.353159Z",
     "iopub.status.busy": "2021-02-23T09:33:23.352605Z",
     "iopub.status.idle": "2021-02-23T09:33:23.355022Z",
     "shell.execute_reply": "2021-02-23T09:33:23.354558Z"
    },
    "papermill": {
     "duration": 0.028372,
     "end_time": "2021-02-23T09:33:23.355126",
     "exception": false,
     "start_time": "2021-02-23T09:33:23.326754",
     "status": "completed"
    },
    "tags": []
   },
   "outputs": [],
   "source": [
    "def get_id_ovq_from_id_indicateur(id_indicateur, structure_cible_data) :\n",
    "    for ovq_dict in structure_cible_data :\n",
    "        for ind_dict in ovq_dict['indicateurs'] :\n",
    "            if ind_dict['id_indicateur_fr'] == id_indicateur :\n",
    "                id_ovq = ovq_dict['id_ovq']\n",
    "                break\n",
    "    return id_ovq"
   ]
  },
  {
   "cell_type": "code",
   "execution_count": 9,
   "id": "external-length",
   "metadata": {
    "execution": {
     "iopub.execute_input": "2021-02-23T09:33:23.405363Z",
     "iopub.status.busy": "2021-02-23T09:33:23.404761Z",
     "iopub.status.idle": "2021-02-23T09:33:23.407104Z",
     "shell.execute_reply": "2021-02-23T09:33:23.406651Z"
    },
    "papermill": {
     "duration": 0.029419,
     "end_time": "2021-02-23T09:33:23.407215",
     "exception": false,
     "start_time": "2021-02-23T09:33:23.377796",
     "status": "completed"
    },
    "tags": []
   },
   "outputs": [],
   "source": [
    "def get_ovq_structure_cible(id_ovq, structure_cible_data) :\n",
    "    for ovq_dict in structure_cible_data :\n",
    "        if ovq_dict['id_ovq'] == id_ovq :\n",
    "            res = ovq_dict\n",
    "            break\n",
    "    return res"
   ]
  },
  {
   "cell_type": "code",
   "execution_count": 10,
   "id": "bacterial-telling",
   "metadata": {
    "execution": {
     "iopub.execute_input": "2021-02-23T09:33:23.457273Z",
     "iopub.status.busy": "2021-02-23T09:33:23.456729Z",
     "iopub.status.idle": "2021-02-23T09:33:23.459042Z",
     "shell.execute_reply": "2021-02-23T09:33:23.458604Z"
    },
    "papermill": {
     "duration": 0.030175,
     "end_time": "2021-02-23T09:33:23.459142",
     "exception": false,
     "start_time": "2021-02-23T09:33:23.428967",
     "status": "completed"
    },
    "tags": []
   },
   "outputs": [],
   "source": [
    "def get_detail_data(id_indicateur, dep, level, structure_cible_data, base_folder_path) :\n",
    "    #level can be departemental, regional or national\n",
    "    \n",
    "    id_ovq = get_id_ovq_from_id_indicateur(id_indicateur, structure_cible_data)\n",
    "    ovq_struc = get_ovq_structure_cible(id_ovq, structure_cible_data)\n",
    "    \n",
    "    for source_dict in ovq_struc['odm_sources_ids'] :\n",
    "        if source_dict['odm_source_level'] == level :\n",
    "            source_url = source_dict['odm_source_file']\n",
    "            \n",
    "    full_source_url = os.path.join(base_folder_path, source_url[1:])\n",
    "    \n",
    "    r = requests.get(full_source_url)\n",
    "    data = json.loads(r.content)\n",
    "    \n",
    "    if level == 'departemental' :\n",
    "        for dep_dict in data :\n",
    "            if dep_dict['dep'] == dep :\n",
    "                res = dep_dict[id_indicateur]\n",
    "                break\n",
    "                \n",
    "    elif level == 'regional' :\n",
    "        reg = get_dep_infos(dep)['reg']\n",
    "        for reg_dict in data :\n",
    "            if reg_dict['reg'] == reg :\n",
    "                res = reg_dict[id_indicateur]\n",
    "                break\n",
    "                \n",
    "    elif level == 'national' :\n",
    "        res = data[0][id_indicateur]\n",
    "    \n",
    "    return res"
   ]
  },
  {
   "cell_type": "code",
   "execution_count": 11,
   "id": "multiple-tablet",
   "metadata": {
    "execution": {
     "iopub.execute_input": "2021-02-23T09:33:23.517462Z",
     "iopub.status.busy": "2021-02-23T09:33:23.516887Z",
     "iopub.status.idle": "2021-02-23T09:33:23.519330Z",
     "shell.execute_reply": "2021-02-23T09:33:23.518804Z"
    },
    "papermill": {
     "duration": 0.034198,
     "end_time": "2021-02-23T09:33:23.519476",
     "exception": false,
     "start_time": "2021-02-23T09:33:23.485278",
     "status": "completed"
    },
    "tags": []
   },
   "outputs": [],
   "source": [
    "def make_pct_bullet_chart(pct, bar_color='#3D49A5', bg_color='#BBBFDF') :\n",
    "    \n",
    "    if pct < 0 : #To improve if inverted bullet chart is possible with plotly\n",
    "        bar_color = '#ED782F'\n",
    "        bg_color = '#ED782F'\n",
    "    \n",
    "    rounded_pct = round(pct)\n",
    "    \n",
    "    fig = go.Figure(go.Indicator(\n",
    "        mode = \"gauge\",\n",
    "        gauge = {'shape': \"bullet\", 'axis': {'visible':False, 'range': [0, 100]}, 'bgcolor':bg_color, 'bordercolor':'white', 'bar':{'thickness':1, 'color':bar_color}},\n",
    "        value = rounded_pct,\n",
    "        number = {'suffix':'%'},\n",
    "        domain = {'x': [0, 1], 'y': [0, 1]}))\n",
    "    \n",
    "    fig.update_layout(height = 400, width=2400, paper_bgcolor='rgba(0,0,0,0)', plot_bgcolor='rgba(0,0,0,0)')\n",
    "\n",
    "    fig.add_annotation(dict(font=dict(color='white',size=100),\n",
    "                                            x=0.05,\n",
    "                                            y=0.5,\n",
    "                                            showarrow=False,\n",
    "                                            text=str(rounded_pct)+'%',\n",
    "                                            textangle=0,\n",
    "                                            xanchor='left',\n",
    "                                            xref=\"paper\",\n",
    "                                            yref=\"paper\"))\n",
    "\n",
    "    return fig"
   ]
  },
  {
   "cell_type": "code",
   "execution_count": 12,
   "id": "specified-voice",
   "metadata": {
    "execution": {
     "iopub.execute_input": "2021-02-23T09:33:23.569064Z",
     "iopub.status.busy": "2021-02-23T09:33:23.568422Z",
     "iopub.status.idle": "2021-02-23T09:33:23.572330Z",
     "shell.execute_reply": "2021-02-23T09:33:23.571707Z"
    },
    "papermill": {
     "duration": 0.030007,
     "end_time": "2021-02-23T09:33:23.572488",
     "exception": false,
     "start_time": "2021-02-23T09:33:23.542481",
     "status": "completed"
    },
    "tags": []
   },
   "outputs": [],
   "source": [
    "months_fr_dict = {\n",
    "    '01':'janvier',\n",
    "    '02':'février',\n",
    "    '03':'mars',\n",
    "    '04':'avril',\n",
    "    '05':'mai',\n",
    "    '06':'juin',\n",
    "    '07':'juillet',\n",
    "    '08':'août',\n",
    "    '09':'septembre',\n",
    "    '10':'octobre',\n",
    "    '11':'novembre',\n",
    "    '12':'décembre'\n",
    "}\n",
    "\n",
    "# yearmonth should be in '2020-01' format\n",
    "\n",
    "def yearmonth_to_fr(yearmonth) :\n",
    "    month = yearmonth[-2:]\n",
    "    year = yearmonth[:4]\n",
    "    \n",
    "    return months_fr_dict[month] + ' ' + year"
   ]
  },
  {
   "cell_type": "code",
   "execution_count": 13,
   "id": "accredited-jerusalem",
   "metadata": {
    "execution": {
     "iopub.execute_input": "2021-02-23T09:33:23.624225Z",
     "iopub.status.busy": "2021-02-23T09:33:23.623555Z",
     "iopub.status.idle": "2021-02-23T09:33:23.626107Z",
     "shell.execute_reply": "2021-02-23T09:33:23.625607Z"
    },
    "papermill": {
     "duration": 0.030856,
     "end_time": "2021-02-23T09:33:23.626228",
     "exception": false,
     "start_time": "2021-02-23T09:33:23.595372",
     "status": "completed"
    },
    "tags": []
   },
   "outputs": [],
   "source": [
    "def reformat_number(number) :\n",
    "    return '{:,}'.format(number).replace(',',' ').replace('.',',')"
   ]
  },
  {
   "cell_type": "code",
   "execution_count": 14,
   "id": "civic-cuisine",
   "metadata": {
    "execution": {
     "iopub.execute_input": "2021-02-23T09:33:23.683209Z",
     "iopub.status.busy": "2021-02-23T09:33:23.680458Z",
     "iopub.status.idle": "2021-02-23T09:33:23.685592Z",
     "shell.execute_reply": "2021-02-23T09:33:23.685116Z"
    },
    "papermill": {
     "duration": 0.036072,
     "end_time": "2021-02-23T09:33:23.685715",
     "exception": false,
     "start_time": "2021-02-23T09:33:23.649643",
     "status": "completed"
    },
    "tags": []
   },
   "outputs": [],
   "source": [
    "def make_detail_chart(df, chart_type) :\n",
    "    \n",
    "    text = ['' for i in range(len(df)-1)] + [reformat_number(list(df.sort_values('date')['value'])[-1])]\n",
    "    \n",
    "    if chart_type == 'histo' :\n",
    "        fig = px.bar(df, x='date', y='value',\n",
    "                         labels={'date':'', 'value':''}, \n",
    "                         height=400,\n",
    "                         width=900,\n",
    "                         color=None,\n",
    "                         orientation='v',\n",
    "                         text=text,\n",
    "                         title=None)\n",
    "        fig.update_layout(showlegend=False, uniformtext_minsize=8, uniformtext_mode='hide')\n",
    "        fig.layout['xaxis'].showgrid = False\n",
    "        fig.update_traces(marker_color='#00AC8C', textposition='outside', cliponaxis=False)\n",
    "        fig.update_xaxes(tickangle=-45,\n",
    "                         tickfont=dict(size=8),\n",
    "                         tickmode = 'array',\n",
    "                         tickvals = list(df['date']),\n",
    "                         ticktext= list(df['date_tick']))\n",
    "                        \n",
    "        return fig\n",
    "    \n",
    "    elif chart_type == 'line' :\n",
    "        fig = px.line(df, x='date', y='value',\n",
    "                         labels={'date':'', 'value':''}, \n",
    "                         height=400,\n",
    "                         width=750,\n",
    "                         color=None,\n",
    "                         orientation='v',\n",
    "                         text=text,\n",
    "                         title=None)\n",
    "        fig.update_layout(showlegend=False)\n",
    "        fig.layout['xaxis'].showgrid = False\n",
    "        fig.update_traces(marker=dict(size=12, line=dict(width=2, color='white')), marker_color='#00AC8C', line_color='#00AC8C', line_width=6, textposition='top center', cliponaxis=False)\n",
    "        fig.update_xaxes(tickangle=-45,\n",
    "                         tickfont=dict(size=8),\n",
    "                         tickmode = 'array',\n",
    "                         tickvals = list(df['date']),\n",
    "                         ticktext= list(df['date_tick']))\n",
    "        fig.data[0].update(mode='markers+lines+text')\n",
    "\n",
    "        return fig\n",
    "    \n",
    "    else :\n",
    "        print('Unknown chart type.')\n",
    "        return None"
   ]
  },
  {
   "cell_type": "code",
   "execution_count": 15,
   "id": "canadian-wrapping",
   "metadata": {
    "execution": {
     "iopub.execute_input": "2021-02-23T09:33:23.736135Z",
     "iopub.status.busy": "2021-02-23T09:33:23.735149Z",
     "iopub.status.idle": "2021-02-23T09:33:23.737006Z",
     "shell.execute_reply": "2021-02-23T09:33:23.737424Z"
    },
    "papermill": {
     "duration": 0.02918,
     "end_time": "2021-02-23T09:33:23.737540",
     "exception": false,
     "start_time": "2021-02-23T09:33:23.708360",
     "status": "completed"
    },
    "tags": []
   },
   "outputs": [],
   "source": [
    "def remove_html_tags(raw_html):\n",
    "    tag_regex = re.compile('<.*?>')\n",
    "    return re.sub(tag_regex, '', raw_html)"
   ]
  },
  {
   "cell_type": "code",
   "execution_count": 16,
   "id": "blind-attention",
   "metadata": {
    "execution": {
     "iopub.execute_input": "2021-02-23T09:33:23.792032Z",
     "iopub.status.busy": "2021-02-23T09:33:23.791403Z",
     "iopub.status.idle": "2021-02-23T09:33:23.795282Z",
     "shell.execute_reply": "2021-02-23T09:33:23.794291Z"
    },
    "papermill": {
     "duration": 0.033639,
     "end_time": "2021-02-23T09:33:23.795409",
     "exception": false,
     "start_time": "2021-02-23T09:33:23.761770",
     "status": "completed"
    },
    "tags": []
   },
   "outputs": [],
   "source": [
    "def clean_description(text) :\n",
    "    \n",
    "    def drop_border_spaces(string) :\n",
    "        while string.startswith(' ') :\n",
    "            string = string[1:]\n",
    "        while string.endswith(' ') :\n",
    "            string = string[:-1]\n",
    "        return string\n",
    "    \n",
    "    text_lines = text.splitlines()\n",
    "    text_lines = [line.replace('<li>', '-') for line in text_lines]\n",
    "    text_lines = [remove_html_tags(line) for line in text_lines]\n",
    "    text_lines = [drop_border_spaces(line) for line in text_lines]\n",
    "    text_lines = [line for line in text_lines if line != '']\n",
    "    \n",
    "    #Managing lists\n",
    "    corr_text_lines = [text_lines[0]]\n",
    "    for i in range(1, len(text_lines)) :\n",
    "        if text_lines[i-1] == '-' :\n",
    "            new_line = '- ' + text_lines[i]\n",
    "        else :\n",
    "            new_line = text_lines[i]\n",
    "        corr_text_lines += [new_line]\n",
    "        \n",
    "    corr_text_lines = [line for line in corr_text_lines if line != '-']\n",
    "    \n",
    "    #Joining lines by linebreaks\n",
    "    corr_text = '\\n'.join(corr_text_lines)\n",
    "    \n",
    "    return corr_text"
   ]
  },
  {
   "cell_type": "markdown",
   "id": "naughty-flavor",
   "metadata": {
    "papermill": {
     "duration": 0.02439,
     "end_time": "2021-02-23T09:33:23.850372",
     "exception": false,
     "start_time": "2021-02-23T09:33:23.825982",
     "status": "completed"
    },
    "tags": []
   },
   "source": [
    "## Get data and build parameters out of it"
   ]
  },
  {
   "cell_type": "code",
   "execution_count": 17,
   "id": "pharmaceutical-redhead",
   "metadata": {
    "execution": {
     "iopub.execute_input": "2021-02-23T09:33:23.900698Z",
     "iopub.status.busy": "2021-02-23T09:33:23.899964Z",
     "iopub.status.idle": "2021-02-23T09:33:24.113715Z",
     "shell.execute_reply": "2021-02-23T09:33:24.113230Z"
    },
    "papermill": {
     "duration": 0.23967,
     "end_time": "2021-02-23T09:33:24.113840",
     "exception": false,
     "start_time": "2021-02-23T09:33:23.874170",
     "status": "completed"
    },
    "tags": []
   },
   "outputs": [],
   "source": [
    "#Loading OVQ synthese data\n",
    "r = requests.get(ovq_synthese_data_path)\n",
    "ovq_synthese_data = json.loads(r.content)"
   ]
  },
  {
   "cell_type": "code",
   "execution_count": 18,
   "id": "requested-measure",
   "metadata": {
    "execution": {
     "iopub.execute_input": "2021-02-23T09:33:24.169637Z",
     "iopub.status.busy": "2021-02-23T09:33:24.168494Z",
     "iopub.status.idle": "2021-02-23T09:33:24.171439Z",
     "shell.execute_reply": "2021-02-23T09:33:24.170995Z"
    },
    "papermill": {
     "duration": 0.03588,
     "end_time": "2021-02-23T09:33:24.171572",
     "exception": false,
     "start_time": "2021-02-23T09:33:24.135692",
     "status": "completed"
    },
    "tags": []
   },
   "outputs": [
    {
     "name": "stdout",
     "output_type": "stream",
     "text": [
      "101\n"
     ]
    }
   ],
   "source": [
    "#Departements list\n",
    "dep_list = sorted(list(set([dep_dict['dep'] for dep_dict in ovq_synthese_data])))\n",
    "print(len(dep_list))"
   ]
  },
  {
   "cell_type": "code",
   "execution_count": 19,
   "id": "empty-flush",
   "metadata": {
    "execution": {
     "iopub.execute_input": "2021-02-23T09:33:24.225132Z",
     "iopub.status.busy": "2021-02-23T09:33:24.224610Z",
     "iopub.status.idle": "2021-02-23T09:33:24.227074Z",
     "shell.execute_reply": "2021-02-23T09:33:24.227859Z"
    },
    "papermill": {
     "duration": 0.034291,
     "end_time": "2021-02-23T09:33:24.227998",
     "exception": false,
     "start_time": "2021-02-23T09:33:24.193707",
     "status": "completed"
    },
    "tags": []
   },
   "outputs": [
    {
     "name": "stdout",
     "output_type": "stream",
     "text": [
      "30\n"
     ]
    }
   ],
   "source": [
    "#Indicateurs list\n",
    "id_indicateur_list = []\n",
    "for dep_dict in ovq_synthese_data :\n",
    "    for ovq_dict in dep_dict['ovq'] :\n",
    "        for ind_dict in ovq_dict['indicateurs'] :\n",
    "            id_indicateur_list += list(ind_dict.keys())\n",
    "            \n",
    "id_indicateur_list = list(set(id_indicateur_list))\n",
    "print(len(id_indicateur_list))"
   ]
  },
  {
   "cell_type": "code",
   "execution_count": 20,
   "id": "assigned-radio",
   "metadata": {
    "execution": {
     "iopub.execute_input": "2021-02-23T09:33:24.286834Z",
     "iopub.status.busy": "2021-02-23T09:33:24.286244Z",
     "iopub.status.idle": "2021-02-23T09:33:24.514868Z",
     "shell.execute_reply": "2021-02-23T09:33:24.514196Z"
    },
    "papermill": {
     "duration": 0.260586,
     "end_time": "2021-02-23T09:33:24.515029",
     "exception": false,
     "start_time": "2021-02-23T09:33:24.254443",
     "status": "completed"
    },
    "tags": []
   },
   "outputs": [],
   "source": [
    "#Loading structure data\n",
    "\n",
    "r = requests.get(ovq_structure_cible_path)\n",
    "structure_cible_data = json.loads(r.content)\n",
    "\n",
    "r = requests.get(ovq_structure_families_path)\n",
    "structure_families_data = json.loads(r.content)"
   ]
  },
  {
   "cell_type": "markdown",
   "id": "advanced-ozone",
   "metadata": {
    "papermill": {
     "duration": 0.024651,
     "end_time": "2021-02-23T09:33:24.566497",
     "exception": false,
     "start_time": "2021-02-23T09:33:24.541846",
     "status": "completed"
    },
    "tags": []
   },
   "source": [
    "## Making the graphs"
   ]
  },
  {
   "cell_type": "code",
   "execution_count": 21,
   "id": "inner-shadow",
   "metadata": {
    "execution": {
     "iopub.execute_input": "2021-02-23T09:33:24.620438Z",
     "iopub.status.busy": "2021-02-23T09:33:24.619837Z",
     "iopub.status.idle": "2021-02-23T09:33:24.621535Z",
     "shell.execute_reply": "2021-02-23T09:33:24.621998Z"
    },
    "papermill": {
     "duration": 0.031656,
     "end_time": "2021-02-23T09:33:24.622132",
     "exception": false,
     "start_time": "2021-02-23T09:33:24.590476",
     "status": "completed"
    },
    "tags": []
   },
   "outputs": [],
   "source": [
    "mkdir_ifnotexist(os.path.join(img_dir_path, 'graphs'))"
   ]
  },
  {
   "cell_type": "markdown",
   "id": "subjective-penny",
   "metadata": {
    "papermill": {
     "duration": 0.024642,
     "end_time": "2021-02-23T09:33:24.669716",
     "exception": false,
     "start_time": "2021-02-23T09:33:24.645074",
     "status": "completed"
    },
    "tags": []
   },
   "source": [
    "### Synthese gauges"
   ]
  },
  {
   "cell_type": "code",
   "execution_count": 22,
   "id": "gentle-threshold",
   "metadata": {
    "execution": {
     "iopub.execute_input": "2021-02-23T09:33:24.728917Z",
     "iopub.status.busy": "2021-02-23T09:33:24.728253Z",
     "iopub.status.idle": "2021-02-23T09:34:19.896995Z",
     "shell.execute_reply": "2021-02-23T09:34:19.897555Z"
    },
    "papermill": {
     "duration": 55.204266,
     "end_time": "2021-02-23T09:34:19.897712",
     "exception": false,
     "start_time": "2021-02-23T09:33:24.693446",
     "status": "completed"
    },
    "tags": []
   },
   "outputs": [
    {
     "name": "stdout",
     "output_type": "stream",
     "text": [
<<<<<<< HEAD:report-pdf-dep.ipynb
      "CPU times: user 9.01 s, sys: 757 ms, total: 9.76 s\n",
      "Wall time: 35.4 s\n"
=======
      "CPU times: user 12.1 s, sys: 487 ms, total: 12.6 s\n",
      "Wall time: 55.1 s\n"
>>>>>>> d9582f3598363b8a065ac678162f16ae66b3ac01:report-pdf.ipynb
     ]
    }
   ],
   "source": [
    "%%time\n",
    "for dep in dep_list :\n",
    "    for id_indicateur in id_indicateur_list :\n",
    "        data = get_dep_indicateur_synthese_data(dep, id_indicateur, ovq_synthese_data)\n",
    "        pct = data['target_percentage']\n",
    "        \n",
    "        if pct is not None :\n",
    "            fig = make_pct_bullet_chart(pct)\n",
    "\n",
    "            if fig is not None :\n",
    "                img_path = os.path.join(img_dir_path, 'graphs', 'bullet_chart-synthese-target_percentage-{}-dep_{}.png'.format(id_indicateur, dep))\n",
    "                fig.write_image(img_path)"
   ]
  },
  {
   "cell_type": "markdown",
   "id": "moral-contractor",
   "metadata": {
    "papermill": {
     "duration": 0.023063,
     "end_time": "2021-02-23T09:34:19.944435",
     "exception": false,
     "start_time": "2021-02-23T09:34:19.921372",
     "status": "completed"
    },
    "tags": []
   },
   "source": [
    "### Detail graphs"
   ]
  },
  {
   "cell_type": "code",
   "execution_count": 23,
   "id": "muslim-mistress",
   "metadata": {
    "execution": {
     "iopub.execute_input": "2021-02-23T09:34:20.001791Z",
     "iopub.status.busy": "2021-02-23T09:34:20.001205Z",
     "iopub.status.idle": "2021-02-23T09:42:07.265771Z",
     "shell.execute_reply": "2021-02-23T09:42:07.266271Z"
    },
    "papermill": {
     "duration": 467.296988,
     "end_time": "2021-02-23T09:42:07.266431",
     "exception": false,
     "start_time": "2021-02-23T09:34:19.969443",
     "status": "completed"
    },
    "tags": []
   },
   "outputs": [
    {
     "name": "stdout",
     "output_type": "stream",
     "text": [
<<<<<<< HEAD:report-pdf-dep.ipynb
      "2021-02-23 15:08:13.215146 - Dep 01 done.\n",
      "2021-02-23 15:08:16.665934 - Dep 02 done.\n",
      "2021-02-23 15:08:20.053065 - Dep 03 done.\n",
      "2021-02-23 15:08:23.467871 - Dep 04 done.\n",
      "2021-02-23 15:08:26.839582 - Dep 05 done.\n",
      "2021-02-23 15:08:30.401456 - Dep 06 done.\n",
      "2021-02-23 15:08:33.731004 - Dep 07 done.\n",
      "2021-02-23 15:08:37.232751 - Dep 08 done.\n",
      "2021-02-23 15:08:40.562770 - Dep 09 done.\n",
      "2021-02-23 15:08:43.910027 - Dep 10 done.\n",
      "2021-02-23 15:08:47.491574 - Dep 11 done.\n",
      "2021-02-23 15:08:50.882907 - Dep 12 done.\n",
      "2021-02-23 15:08:54.302051 - Dep 13 done.\n",
      "2021-02-23 15:08:57.708607 - Dep 14 done.\n",
      "2021-02-23 15:09:01.069431 - Dep 15 done.\n",
      "2021-02-23 15:09:04.728776 - Dep 16 done.\n",
      "2021-02-23 15:09:08.140347 - Dep 17 done.\n",
      "2021-02-23 15:09:11.617550 - Dep 18 done.\n",
      "2021-02-23 15:09:15.135484 - Dep 19 done.\n",
      "2021-02-23 15:09:18.656687 - Dep 21 done.\n",
      "2021-02-23 15:09:22.081023 - Dep 22 done.\n",
      "2021-02-23 15:09:25.503238 - Dep 23 done.\n",
      "2021-02-23 15:09:28.922623 - Dep 24 done.\n",
      "2021-02-23 15:09:32.442295 - Dep 25 done.\n",
      "2021-02-23 15:09:36.032092 - Dep 26 done.\n",
      "2021-02-23 15:09:39.530682 - Dep 27 done.\n",
      "2021-02-23 15:09:43.529739 - Dep 28 done.\n",
      "2021-02-23 15:09:46.954712 - Dep 29 done.\n",
      "2021-02-23 15:09:50.392408 - Dep 2A done.\n",
      "2021-02-23 15:09:53.684198 - Dep 2B done.\n",
      "2021-02-23 15:09:56.988661 - Dep 30 done.\n",
      "2021-02-23 15:10:00.653282 - Dep 31 done.\n",
      "2021-02-23 15:10:04.067865 - Dep 32 done.\n",
      "2021-02-23 15:10:07.353728 - Dep 33 done.\n",
      "2021-02-23 15:10:11.134604 - Dep 34 done.\n",
      "2021-02-23 15:10:14.790890 - Dep 35 done.\n",
      "2021-02-23 15:10:18.667482 - Dep 36 done.\n",
      "2021-02-23 15:10:22.042220 - Dep 37 done.\n",
      "2021-02-23 15:10:25.660290 - Dep 38 done.\n",
      "2021-02-23 15:10:28.998300 - Dep 39 done.\n",
      "2021-02-23 15:10:32.313391 - Dep 40 done.\n",
      "2021-02-23 15:10:35.796498 - Dep 41 done.\n",
      "2021-02-23 15:10:39.186273 - Dep 42 done.\n",
      "2021-02-23 15:10:42.444166 - Dep 43 done.\n",
      "2021-02-23 15:10:45.788916 - Dep 44 done.\n",
      "2021-02-23 15:10:49.506268 - Dep 45 done.\n",
      "2021-02-23 15:10:53.019564 - Dep 46 done.\n",
      "2021-02-23 15:10:56.345542 - Dep 47 done.\n",
      "2021-02-23 15:10:59.601465 - Dep 48 done.\n",
      "2021-02-23 15:11:02.948489 - Dep 49 done.\n",
      "2021-02-23 15:11:06.375033 - Dep 50 done.\n",
      "2021-02-23 15:11:10.076970 - Dep 51 done.\n",
      "2021-02-23 15:11:13.374808 - Dep 52 done.\n",
      "2021-02-23 15:11:16.661031 - Dep 53 done.\n",
      "2021-02-23 15:11:20.152096 - Dep 54 done.\n",
      "2021-02-23 15:11:23.489674 - Dep 55 done.\n",
      "2021-02-23 15:11:27.116669 - Dep 56 done.\n",
      "2021-02-23 15:11:30.553911 - Dep 57 done.\n",
      "2021-02-23 15:11:33.956347 - Dep 58 done.\n",
      "2021-02-23 15:11:37.342726 - Dep 59 done.\n",
      "2021-02-23 15:11:40.698503 - Dep 60 done.\n",
      "2021-02-23 15:11:43.997825 - Dep 61 done.\n",
      "2021-02-23 15:11:47.326309 - Dep 62 done.\n",
      "2021-02-23 15:11:50.688286 - Dep 63 done.\n",
      "2021-02-23 15:11:54.088877 - Dep 64 done.\n",
      "2021-02-23 15:11:57.757478 - Dep 65 done.\n",
      "2021-02-23 15:12:01.135731 - Dep 66 done.\n",
      "2021-02-23 15:12:05.864786 - Dep 67 done.\n",
      "2021-02-23 15:12:09.151284 - Dep 68 done.\n",
      "2021-02-23 15:12:12.558727 - Dep 69 done.\n",
      "2021-02-23 15:12:15.784407 - Dep 70 done.\n",
      "2021-02-23 15:12:19.201455 - Dep 71 done.\n",
      "2021-02-23 15:12:22.779485 - Dep 72 done.\n",
      "2021-02-23 15:12:26.113618 - Dep 73 done.\n",
      "2021-02-23 15:12:29.427899 - Dep 74 done.\n",
      "2021-02-23 15:12:32.765481 - Dep 75 done.\n",
      "2021-02-23 15:12:36.078914 - Dep 76 done.\n",
      "2021-02-23 15:12:39.398287 - Dep 77 done.\n",
      "2021-02-23 15:12:42.672276 - Dep 78 done.\n",
      "2021-02-23 15:12:45.980507 - Dep 79 done.\n",
      "2021-02-23 15:12:49.295020 - Dep 80 done.\n",
      "2021-02-23 15:12:52.936009 - Dep 81 done.\n",
      "2021-02-23 15:12:56.764986 - Dep 82 done.\n",
      "2021-02-23 15:13:00.854840 - Dep 83 done.\n",
      "2021-02-23 15:13:04.102743 - Dep 84 done.\n",
      "2021-02-23 15:13:08.120185 - Dep 85 done.\n",
      "2021-02-23 15:13:14.403438 - Dep 86 done.\n",
      "2021-02-23 15:13:18.050897 - Dep 87 done.\n",
      "2021-02-23 15:13:21.690289 - Dep 88 done.\n",
      "2021-02-23 15:13:25.017579 - Dep 89 done.\n",
      "2021-02-23 15:13:28.501638 - Dep 90 done.\n",
      "2021-02-23 15:13:31.887412 - Dep 91 done.\n",
      "2021-02-23 15:13:35.382190 - Dep 92 done.\n",
      "2021-02-23 15:13:38.904941 - Dep 93 done.\n",
      "2021-02-23 15:13:42.234438 - Dep 94 done.\n",
      "2021-02-23 15:13:45.773467 - Dep 95 done.\n",
      "2021-02-23 15:13:49.361879 - Dep 971 done.\n",
      "2021-02-23 15:13:52.760636 - Dep 972 done.\n",
      "2021-02-23 15:13:56.205467 - Dep 973 done.\n",
      "2021-02-23 15:13:59.586380 - Dep 974 done.\n",
      "2021-02-23 15:14:03.300962 - Dep 976 done.\n",
      "CPU times: user 3min 5s, sys: 4.42 s, total: 3min 9s\n",
      "Wall time: 5min 57s\n"
     ]
=======
      "2021-02-23 09:34:27.047962 - Dep 01 done.\n"
     ]
    },
    {
     "name": "stdout",
     "output_type": "stream",
     "text": [
      "2021-02-23 09:34:31.630633 - Dep 02 done.\n"
     ]
    },
    {
     "name": "stdout",
     "output_type": "stream",
     "text": [
      "2021-02-23 09:34:36.066998 - Dep 03 done.\n"
     ]
    },
    {
     "name": "stdout",
     "output_type": "stream",
     "text": [
      "2021-02-23 09:34:40.518078 - Dep 04 done.\n"
     ]
    },
    {
     "name": "stdout",
     "output_type": "stream",
     "text": [
      "2021-02-23 09:34:44.994879 - Dep 05 done.\n"
     ]
    },
    {
     "name": "stdout",
     "output_type": "stream",
     "text": [
      "2021-02-23 09:34:49.528028 - Dep 06 done.\n"
     ]
    },
    {
     "name": "stdout",
     "output_type": "stream",
     "text": [
      "2021-02-23 09:34:53.929516 - Dep 07 done.\n"
     ]
    },
    {
     "name": "stdout",
     "output_type": "stream",
     "text": [
      "2021-02-23 09:34:58.451835 - Dep 08 done.\n"
     ]
    },
    {
     "name": "stdout",
     "output_type": "stream",
     "text": [
      "2021-02-23 09:35:02.904319 - Dep 09 done.\n"
     ]
    },
    {
     "name": "stdout",
     "output_type": "stream",
     "text": [
      "2021-02-23 09:35:07.502116 - Dep 10 done.\n"
     ]
    },
    {
     "name": "stdout",
     "output_type": "stream",
     "text": [
      "2021-02-23 09:35:12.012932 - Dep 11 done.\n"
     ]
    },
    {
     "name": "stdout",
     "output_type": "stream",
     "text": [
      "2021-02-23 09:35:16.770387 - Dep 12 done.\n"
     ]
    },
    {
     "name": "stdout",
     "output_type": "stream",
     "text": [
      "2021-02-23 09:35:21.199773 - Dep 13 done.\n"
     ]
    },
    {
     "name": "stdout",
     "output_type": "stream",
     "text": [
      "2021-02-23 09:35:25.957156 - Dep 14 done.\n"
     ]
    },
    {
     "name": "stdout",
     "output_type": "stream",
     "text": [
      "2021-02-23 09:35:30.500806 - Dep 15 done.\n"
     ]
    },
    {
     "name": "stdout",
     "output_type": "stream",
     "text": [
      "2021-02-23 09:35:34.956429 - Dep 16 done.\n"
     ]
    },
    {
     "name": "stdout",
     "output_type": "stream",
     "text": [
      "2021-02-23 09:35:39.352070 - Dep 17 done.\n"
     ]
    },
    {
     "name": "stdout",
     "output_type": "stream",
     "text": [
      "2021-02-23 09:35:43.767412 - Dep 18 done.\n"
     ]
    },
    {
     "name": "stdout",
     "output_type": "stream",
     "text": [
      "2021-02-23 09:35:48.322315 - Dep 19 done.\n"
     ]
    },
    {
     "name": "stdout",
     "output_type": "stream",
     "text": [
      "2021-02-23 09:35:52.887017 - Dep 21 done.\n"
     ]
    },
    {
     "name": "stdout",
     "output_type": "stream",
     "text": [
      "2021-02-23 09:35:57.502264 - Dep 22 done.\n"
     ]
    },
    {
     "name": "stdout",
     "output_type": "stream",
     "text": [
      "2021-02-23 09:36:02.012165 - Dep 23 done.\n"
     ]
    },
    {
     "name": "stdout",
     "output_type": "stream",
     "text": [
      "2021-02-23 09:36:06.590946 - Dep 24 done.\n"
     ]
    },
    {
     "name": "stdout",
     "output_type": "stream",
     "text": [
      "2021-02-23 09:36:11.228894 - Dep 25 done.\n"
     ]
    },
    {
     "name": "stdout",
     "output_type": "stream",
     "text": [
      "2021-02-23 09:36:15.832149 - Dep 26 done.\n"
     ]
    },
    {
     "name": "stdout",
     "output_type": "stream",
     "text": [
      "2021-02-23 09:36:20.429460 - Dep 27 done.\n"
     ]
    },
    {
     "name": "stdout",
     "output_type": "stream",
     "text": [
      "2021-02-23 09:36:25.034997 - Dep 28 done.\n"
     ]
    },
    {
     "name": "stdout",
     "output_type": "stream",
     "text": [
      "2021-02-23 09:36:29.665845 - Dep 29 done.\n"
     ]
    },
    {
     "name": "stdout",
     "output_type": "stream",
     "text": [
      "2021-02-23 09:36:34.252385 - Dep 2A done.\n"
     ]
    },
    {
     "name": "stdout",
     "output_type": "stream",
     "text": [
      "2021-02-23 09:36:38.739562 - Dep 2B done.\n"
     ]
    },
    {
     "name": "stdout",
     "output_type": "stream",
     "text": [
      "2021-02-23 09:36:43.385346 - Dep 30 done.\n"
     ]
    },
    {
     "name": "stdout",
     "output_type": "stream",
     "text": [
      "2021-02-23 09:36:48.170100 - Dep 31 done.\n"
     ]
    },
    {
     "name": "stdout",
     "output_type": "stream",
     "text": [
      "2021-02-23 09:36:52.611712 - Dep 32 done.\n"
     ]
    },
    {
     "name": "stdout",
     "output_type": "stream",
     "text": [
      "2021-02-23 09:36:57.295504 - Dep 33 done.\n"
     ]
    },
    {
     "name": "stdout",
     "output_type": "stream",
     "text": [
      "2021-02-23 09:37:01.848850 - Dep 34 done.\n"
     ]
    },
    {
     "name": "stdout",
     "output_type": "stream",
     "text": [
      "2021-02-23 09:37:06.430494 - Dep 35 done.\n"
     ]
    },
    {
     "name": "stdout",
     "output_type": "stream",
     "text": [
      "2021-02-23 09:37:11.023046 - Dep 36 done.\n"
     ]
    },
    {
     "name": "stdout",
     "output_type": "stream",
     "text": [
      "2021-02-23 09:37:15.579939 - Dep 37 done.\n"
     ]
    },
    {
     "name": "stdout",
     "output_type": "stream",
     "text": [
      "2021-02-23 09:37:20.267158 - Dep 38 done.\n"
     ]
    },
    {
     "name": "stdout",
     "output_type": "stream",
     "text": [
      "2021-02-23 09:37:24.636384 - Dep 39 done.\n"
     ]
    },
    {
     "name": "stdout",
     "output_type": "stream",
     "text": [
      "2021-02-23 09:37:29.148238 - Dep 40 done.\n"
     ]
    },
    {
     "name": "stdout",
     "output_type": "stream",
     "text": [
      "2021-02-23 09:37:33.627591 - Dep 41 done.\n"
     ]
    },
    {
     "name": "stdout",
     "output_type": "stream",
     "text": [
      "2021-02-23 09:37:38.212459 - Dep 42 done.\n"
     ]
    },
    {
     "name": "stdout",
     "output_type": "stream",
     "text": [
      "2021-02-23 09:37:42.654115 - Dep 43 done.\n"
     ]
    },
    {
     "name": "stdout",
     "output_type": "stream",
     "text": [
      "2021-02-23 09:37:47.226138 - Dep 44 done.\n"
     ]
    },
    {
     "name": "stdout",
     "output_type": "stream",
     "text": [
      "2021-02-23 09:37:51.718922 - Dep 45 done.\n"
     ]
    },
    {
     "name": "stdout",
     "output_type": "stream",
     "text": [
      "2021-02-23 09:37:56.186234 - Dep 46 done.\n"
     ]
    },
    {
     "name": "stdout",
     "output_type": "stream",
     "text": [
      "2021-02-23 09:38:00.686743 - Dep 47 done.\n"
     ]
    },
    {
     "name": "stdout",
     "output_type": "stream",
     "text": [
      "2021-02-23 09:38:05.336163 - Dep 48 done.\n"
     ]
    },
    {
     "name": "stdout",
     "output_type": "stream",
     "text": [
      "2021-02-23 09:38:09.972054 - Dep 49 done.\n"
     ]
    },
    {
     "name": "stdout",
     "output_type": "stream",
     "text": [
      "2021-02-23 09:38:14.543969 - Dep 50 done.\n"
     ]
    },
    {
     "name": "stdout",
     "output_type": "stream",
     "text": [
      "2021-02-23 09:38:19.186068 - Dep 51 done.\n"
     ]
    },
    {
     "name": "stdout",
     "output_type": "stream",
     "text": [
      "2021-02-23 09:38:23.980953 - Dep 52 done.\n"
     ]
    },
    {
     "name": "stdout",
     "output_type": "stream",
     "text": [
      "2021-02-23 09:38:28.581133 - Dep 53 done.\n"
     ]
    },
    {
     "name": "stdout",
     "output_type": "stream",
     "text": [
      "2021-02-23 09:38:33.148712 - Dep 54 done.\n"
     ]
    },
    {
     "name": "stdout",
     "output_type": "stream",
     "text": [
      "2021-02-23 09:38:37.835715 - Dep 55 done.\n"
     ]
    },
    {
     "name": "stdout",
     "output_type": "stream",
     "text": [
      "2021-02-23 09:38:42.484231 - Dep 56 done.\n"
     ]
    },
    {
     "name": "stdout",
     "output_type": "stream",
     "text": [
      "2021-02-23 09:38:47.134558 - Dep 57 done.\n"
     ]
    },
    {
     "name": "stdout",
     "output_type": "stream",
     "text": [
      "2021-02-23 09:38:51.846670 - Dep 58 done.\n"
     ]
    },
    {
     "name": "stdout",
     "output_type": "stream",
     "text": [
      "2021-02-23 09:38:56.508369 - Dep 59 done.\n"
     ]
    },
    {
     "name": "stdout",
     "output_type": "stream",
     "text": [
      "2021-02-23 09:39:01.242784 - Dep 60 done.\n"
     ]
    },
    {
     "name": "stdout",
     "output_type": "stream",
     "text": [
      "2021-02-23 09:39:06.000928 - Dep 61 done.\n"
     ]
    },
    {
     "name": "stdout",
     "output_type": "stream",
     "text": [
      "2021-02-23 09:39:10.540367 - Dep 62 done.\n"
     ]
    },
    {
     "name": "stdout",
     "output_type": "stream",
     "text": [
      "2021-02-23 09:39:15.161669 - Dep 63 done.\n"
     ]
    },
    {
     "name": "stdout",
     "output_type": "stream",
     "text": [
      "2021-02-23 09:39:19.768460 - Dep 64 done.\n"
     ]
    },
    {
     "name": "stdout",
     "output_type": "stream",
     "text": [
      "2021-02-23 09:39:24.424381 - Dep 65 done.\n"
     ]
    },
    {
     "name": "stdout",
     "output_type": "stream",
     "text": [
      "2021-02-23 09:39:30.475590 - Dep 66 done.\n"
     ]
    },
    {
     "name": "stdout",
     "output_type": "stream",
     "text": [
      "2021-02-23 09:39:35.224065 - Dep 67 done.\n"
     ]
    },
    {
     "name": "stdout",
     "output_type": "stream",
     "text": [
      "2021-02-23 09:39:39.785103 - Dep 68 done.\n"
     ]
    },
    {
     "name": "stdout",
     "output_type": "stream",
     "text": [
      "2021-02-23 09:39:44.373999 - Dep 69 done.\n"
     ]
    },
    {
     "name": "stdout",
     "output_type": "stream",
     "text": [
      "2021-02-23 09:39:48.962404 - Dep 70 done.\n"
     ]
    },
    {
     "name": "stdout",
     "output_type": "stream",
     "text": [
      "2021-02-23 09:39:53.593631 - Dep 71 done.\n"
     ]
    },
    {
     "name": "stdout",
     "output_type": "stream",
     "text": [
      "2021-02-23 09:39:58.092422 - Dep 72 done.\n"
     ]
    },
    {
     "name": "stdout",
     "output_type": "stream",
     "text": [
      "2021-02-23 09:40:02.752263 - Dep 73 done.\n"
     ]
    },
    {
     "name": "stdout",
     "output_type": "stream",
     "text": [
      "2021-02-23 09:40:07.337118 - Dep 74 done.\n"
     ]
    },
    {
     "name": "stdout",
     "output_type": "stream",
     "text": [
      "2021-02-23 09:40:11.964104 - Dep 75 done.\n"
     ]
    },
    {
     "name": "stdout",
     "output_type": "stream",
     "text": [
      "2021-02-23 09:40:16.476048 - Dep 76 done.\n"
     ]
    },
    {
     "name": "stdout",
     "output_type": "stream",
     "text": [
      "2021-02-23 09:40:21.081853 - Dep 77 done.\n"
     ]
    },
    {
     "name": "stdout",
     "output_type": "stream",
     "text": [
      "2021-02-23 09:40:25.729111 - Dep 78 done.\n"
     ]
    },
    {
     "name": "stdout",
     "output_type": "stream",
     "text": [
      "2021-02-23 09:40:30.468384 - Dep 79 done.\n"
     ]
    },
    {
     "name": "stdout",
     "output_type": "stream",
     "text": [
      "2021-02-23 09:40:35.116281 - Dep 80 done.\n"
     ]
    },
    {
     "name": "stdout",
     "output_type": "stream",
     "text": [
      "2021-02-23 09:40:39.752317 - Dep 81 done.\n"
     ]
    },
    {
     "name": "stdout",
     "output_type": "stream",
     "text": [
      "2021-02-23 09:40:44.605382 - Dep 82 done.\n"
     ]
    },
    {
     "name": "stdout",
     "output_type": "stream",
     "text": [
      "2021-02-23 09:40:49.293784 - Dep 83 done.\n"
     ]
    },
    {
     "name": "stdout",
     "output_type": "stream",
     "text": [
      "2021-02-23 09:40:53.907305 - Dep 84 done.\n"
     ]
    },
    {
     "name": "stdout",
     "output_type": "stream",
     "text": [
      "2021-02-23 09:40:58.499753 - Dep 85 done.\n"
     ]
    },
    {
     "name": "stdout",
     "output_type": "stream",
     "text": [
      "2021-02-23 09:41:03.081954 - Dep 86 done.\n"
     ]
    },
    {
     "name": "stdout",
     "output_type": "stream",
     "text": [
      "2021-02-23 09:41:07.697799 - Dep 87 done.\n"
     ]
    },
    {
     "name": "stdout",
     "output_type": "stream",
     "text": [
      "2021-02-23 09:41:12.228419 - Dep 88 done.\n"
     ]
    },
    {
     "name": "stdout",
     "output_type": "stream",
     "text": [
      "2021-02-23 09:41:16.781229 - Dep 89 done.\n"
     ]
    },
    {
     "name": "stdout",
     "output_type": "stream",
     "text": [
      "2021-02-23 09:41:21.366699 - Dep 90 done.\n"
     ]
    },
    {
     "name": "stdout",
     "output_type": "stream",
     "text": [
      "2021-02-23 09:41:25.843413 - Dep 91 done.\n"
     ]
    },
    {
     "name": "stdout",
     "output_type": "stream",
     "text": [
      "2021-02-23 09:41:30.405573 - Dep 92 done.\n"
     ]
    },
    {
     "name": "stdout",
     "output_type": "stream",
     "text": [
      "2021-02-23 09:41:34.932218 - Dep 93 done.\n"
     ]
    },
    {
     "name": "stdout",
     "output_type": "stream",
     "text": [
      "2021-02-23 09:41:39.475137 - Dep 94 done.\n"
     ]
    },
    {
     "name": "stdout",
     "output_type": "stream",
     "text": [
      "2021-02-23 09:41:44.011004 - Dep 95 done.\n"
     ]
    },
    {
     "name": "stdout",
     "output_type": "stream",
     "text": [
      "2021-02-23 09:41:48.732173 - Dep 971 done.\n"
     ]
    },
    {
     "name": "stdout",
     "output_type": "stream",
     "text": [
      "2021-02-23 09:41:53.160991 - Dep 972 done.\n"
     ]
    },
    {
     "name": "stdout",
     "output_type": "stream",
     "text": [
      "2021-02-23 09:41:57.656908 - Dep 973 done.\n"
     ]
    },
    {
     "name": "stdout",
     "output_type": "stream",
     "text": [
      "2021-02-23 09:42:02.272648 - Dep 974 done.\n"
     ]
    },
    {
     "name": "stdout",
     "output_type": "stream",
     "text": [
      "2021-02-23 09:42:07.261372 - Dep 976 done.\n",
      "CPU times: user 4min 7s, sys: 3.21 s, total: 4min 11s\n",
      "Wall time: 7min 47s\n"
     ]
>>>>>>> d9582f3598363b8a065ac678162f16ae66b3ac01:report-pdf.ipynb
    }
   ],
   "source": [
    "%%time\n",
    "short_level_dict = {\n",
    "    'dep':'departemental',\n",
    "    'reg':'regional',\n",
    "    'nat':'national'\n",
    "}\n",
    "\n",
    "for dep in dep_list :\n",
    "    for id_indicateur in id_indicateur_list :\n",
    "        \n",
    "        #Get information to know what level of data to use\n",
    "        synthese_data = get_dep_indicateur_synthese_data(dep, id_indicateur, ovq_synthese_data)\n",
    "        level = short_level_dict[synthese_data['from_level']]\n",
    "        \n",
    "        #Get chart type for indicateur\n",
    "        chart_type = get_indicateur_structure_cible(id_indicateur, structure_cible_data)['odm_chart_type']\n",
    "        \n",
    "        #Get data\n",
    "        detail_data = get_detail_data(id_indicateur, dep, level, structure_cible_data, base_folder_path)\n",
    "        df = pd.DataFrame(detail_data)\n",
    "        df = df.sort_values('date')\n",
    "        df['date_tick'] = df['date'].apply(lambda x : yearmonth_to_fr(x[:7]))\n",
    "        \n",
    "        #Making graphs\n",
    "        fig = make_detail_chart(df, chart_type)\n",
    "        img_path = os.path.join(img_dir_path, 'graphs', 'graph-detail-{}-dep_{}.png'.format(id_indicateur, dep))\n",
    "\n",
    "        if fig is not None :\n",
    "            fig.write_image(img_path)\n",
    "\n",
    "    print('{} - Dep {} done.'.format(datetime.datetime.today(), dep))"
   ]
  },
  {
   "cell_type": "markdown",
<<<<<<< HEAD:report-pdf-dep.ipynb
   "metadata": {},
=======
   "id": "collect-conducting",
   "metadata": {
    "papermill": {
     "duration": 0.054236,
     "end_time": "2021-02-23T09:42:07.373585",
     "exception": false,
     "start_time": "2021-02-23T09:42:07.319349",
     "status": "completed"
    },
    "tags": []
   },
>>>>>>> d9582f3598363b8a065ac678162f16ae66b3ac01:report-pdf.ipynb
   "source": [
    "## Building the reports"
   ]
  },
  {
   "cell_type": "code",
   "execution_count": 24,
<<<<<<< HEAD:report-pdf-dep.ipynb
   "metadata": {},
=======
   "id": "actual-fisher",
   "metadata": {
    "execution": {
     "iopub.execute_input": "2021-02-23T09:42:07.487175Z",
     "iopub.status.busy": "2021-02-23T09:42:07.486607Z",
     "iopub.status.idle": "2021-02-23T09:42:07.490880Z",
     "shell.execute_reply": "2021-02-23T09:42:07.490346Z"
    },
    "papermill": {
     "duration": 0.063245,
     "end_time": "2021-02-23T09:42:07.491005",
     "exception": false,
     "start_time": "2021-02-23T09:42:07.427760",
     "status": "completed"
    },
    "tags": []
   },
>>>>>>> d9582f3598363b8a065ac678162f16ae66b3ac01:report-pdf.ipynb
   "outputs": [],
   "source": [
    "mkdir_ifnotexist(reports_dir_path)"
   ]
  },
  {
   "cell_type": "code",
   "execution_count": 25,
<<<<<<< HEAD:report-pdf-dep.ipynb
   "metadata": {},
=======
   "id": "invalid-concept",
   "metadata": {
    "execution": {
     "iopub.execute_input": "2021-02-23T09:42:07.608196Z",
     "iopub.status.busy": "2021-02-23T09:42:07.607619Z",
     "iopub.status.idle": "2021-02-23T09:42:07.609345Z",
     "shell.execute_reply": "2021-02-23T09:42:07.609807Z"
    },
    "papermill": {
     "duration": 0.058676,
     "end_time": "2021-02-23T09:42:07.609961",
     "exception": false,
     "start_time": "2021-02-23T09:42:07.551285",
     "status": "completed"
    },
    "tags": []
   },
>>>>>>> d9582f3598363b8a065ac678162f16ae66b3ac01:report-pdf.ipynb
   "outputs": [],
   "source": [
    "global title_header\n",
    "title_header = ''"
   ]
  },
  {
   "cell_type": "code",
   "execution_count": 26,
<<<<<<< HEAD:report-pdf-dep.ipynb
   "metadata": {},
=======
   "id": "under-wellington",
   "metadata": {
    "execution": {
     "iopub.execute_input": "2021-02-23T09:42:07.723952Z",
     "iopub.status.busy": "2021-02-23T09:42:07.723333Z",
     "iopub.status.idle": "2021-02-23T09:42:07.726762Z",
     "shell.execute_reply": "2021-02-23T09:42:07.727262Z"
    },
    "papermill": {
     "duration": 0.065614,
     "end_time": "2021-02-23T09:42:07.727470",
     "exception": false,
     "start_time": "2021-02-23T09:42:07.661856",
     "status": "completed"
    },
    "tags": []
   },
>>>>>>> d9582f3598363b8a065ac678162f16ae66b3ac01:report-pdf.ipynb
   "outputs": [],
   "source": [
    "class PDF(FPDF):\n",
    "    def header(self):\n",
    "        if (self.page_no() != 1 ):\n",
    "            # Logo\n",
    "            self.image(os.path.join(img_dir_path, 'gouv.png'), 10, 8, 45)\n",
    "            # Arial bold 15\n",
    "            self.cell(50)\n",
    "            self.set_font('Arial', 'B', 16)\n",
    "            self.cell(80, 15, title_header, 0, 1, 'A')\n",
    "\n",
    "            # Move to the right\n",
    "            # Title\n",
    "            self.set_font('Arial', 'I', 9)\n",
    "            self.cell(50)\n",
    "            #self.cell(50, 10, subtitle_header+' - aides-entreprises.data.gouv.fr', 0, 1, 'A', link='https://aides-entreprises.data.gouv.fr/')\n",
    "            self.cell(50, 10, 'www.gouvernement.fr/les-actions-du-gouvernement', 0, 1, 'A', link='https://www.gouvernement.fr/les-actions-du-gouvernement')\n",
    "            # Line break  \n",
    "            pdf.line(40, 38, 170, 38)\n",
    "            self.ln(7)\n",
    "        \n",
    "    # Page footer\n",
    "    def footer(self):\n",
    "        if (self.page_no() != 1 ):\n",
    "            # Position at 1.5 cm from bottom\n",
    "            self.set_y(-15)\n",
    "            # Arial italic 8\n",
    "            self.set_font('Arial', 'I', 8)\n",
    "            # Page number\n",
    "            \n",
    "            self.cell(0, 10, 'Direction Interministérielle du Numérique (DINUM) - Page ' + str(self.page_no()) + '/{nb}', 0, 0, 'C')"
   ]
  },
  {
   "cell_type": "code",
   "execution_count": 27,
<<<<<<< HEAD:report-pdf-dep.ipynb
   "metadata": {},
=======
   "id": "public-conditions",
   "metadata": {
    "execution": {
     "iopub.execute_input": "2021-02-23T09:42:07.861130Z",
     "iopub.status.busy": "2021-02-23T09:42:07.844340Z",
     "iopub.status.idle": "2021-02-23T09:42:07.867207Z",
     "shell.execute_reply": "2021-02-23T09:42:07.866696Z"
    },
    "papermill": {
     "duration": 0.087037,
     "end_time": "2021-02-23T09:42:07.867344",
     "exception": false,
     "start_time": "2021-02-23T09:42:07.780307",
     "status": "completed"
    },
    "tags": []
   },
>>>>>>> d9582f3598363b8a065ac678162f16ae66b3ac01:report-pdf.ipynb
   "outputs": [],
   "source": [
    "def insert_indicateur(pdf, dep, ind_data, ind_struc) :\n",
    "    \n",
    "    #Getting relevant information in data\n",
    "    initial_value = ind_data['initial_value']\n",
    "    initial_value_date = ind_data['initial_value_date']\n",
    "    latest_value = ind_data['latest_value']\n",
    "    latest_value_date = ind_data['latest_value_date']\n",
    "    target_value = ind_data['target']\n",
    "    target_percentage = ind_data['target_percentage']\n",
    "    target_value_date = ind_data['target_date']\n",
    "    progression_percentage = ind_data['progression_percentage']\n",
    "    from_level = ind_data['from_level']\n",
    "    \n",
    "    #Getting relevant information in structure\n",
    "    id_indicateur = ind_struc['id_indicateur_fr']\n",
    "    nom_indicateur = ind_struc['nom_indicateur'].replace('’', \"'\")\n",
    "    ind_text_url = ind_struc['odm_text']\n",
    "    kpi_format = ind_struc['odm_kpi_format']\n",
    "    kpi_unit = ind_struc['odm_kpi_unit']\n",
    "    chart_unit = ind_struc['odm_chart_unit']\n",
    "    to_round = ind_struc['toRound']\n",
    "    \n",
    "    #Numbers formating\n",
    "    if to_round is not None :\n",
    "        if initial_value is not None :\n",
    "            initial_value = round(initial_value, to_round)\n",
    "            initial_value = reformat_number(initial_value)\n",
    "        if latest_value is not None :\n",
    "            latest_value = round(latest_value, to_round)\n",
    "            latest_value = reformat_number(latest_value)\n",
    "        if target_value is not None :\n",
    "            target_value = round(target_value, to_round)\n",
    "            target_value = reformat_number(target_value)\n",
    "            \n",
    "    if progression_percentage is not None :\n",
    "        if progression_percentage < 0 :\n",
    "            progression_percentage_str = '- '+str(-progression_percentage).replace('.',',')+' %'\n",
    "        else :\n",
    "            progression_percentage_str = '+ '+str(progression_percentage).replace('.',',')+' %'\n",
    "    else :\n",
    "        progression_percentage_str = ''\n",
    "    \n",
    "    if kpi_unit.startswith('%') :\n",
    "        if initial_value is not None :\n",
    "            initial_value += ' %'\n",
    "        if latest_value is not None :\n",
    "            latest_value += ' %'\n",
    "        if target_value is not None :\n",
    "            target_value += ' %'\n",
    "        kpi_unit = kpi_unit.replace('% ','').replace('%','')\n",
    "    \n",
    "    #Initializing blocks parameters\n",
    "    nb_blocks = 1\n",
    "    ini_block = False\n",
    "    tar_block = False\n",
    "    \n",
    "    #Current value (always present)\n",
    "    latest_value_date_str = yearmonth_to_fr(latest_value_date[:7])\n",
    "    latest_value_str = str(latest_value).replace('.',',')\n",
    "    \n",
    "    #Insert initial block if init value exists\n",
    "    if initial_value is not None :\n",
    "        initial_value_date_str = yearmonth_to_fr(initial_value_date[:7])\n",
    "        initial_value_str = str(initial_value).replace('.',',')\n",
    "        nb_blocks += 1\n",
    "        ini_block = True\n",
    "        \n",
    "    #Insert target block if target value exists\n",
    "    if target_value is not None :\n",
    "        target_value_date_str = yearmonth_to_fr(target_value_date[:7])\n",
    "        target_value_str = str(target_value).replace('.',',')\n",
    "        nb_blocks += 1\n",
    "        tar_block = True\n",
    "        \n",
    "    #Blocks settings depending on existing data\n",
    "    block_spacing = 5\n",
    "    block_width = (182 - (nb_blocks-1)*block_spacing)/nb_blocks\n",
    "    \n",
    "    #INDICATOR DISPLAY\n",
    "    \n",
    "    #Indicator title\n",
    "    pdf.set_text_color(0,0,0)\n",
    "    pdf.set_font('Arial', 'B', 12)\n",
    "    pdf.multi_cell(182, 5, 'Indicateur : '+ nom_indicateur, align='L')\n",
    "    pdf.ln(3)\n",
    "    \n",
    "    #Indicator description\n",
    "    full_ind_text_url = os.path.join(base_folder_path, ind_text_url[1:])\n",
    "    r = requests.get(full_ind_text_url)\n",
    "    ind_text = r.text.replace('’', \"'\").replace('œ','oe').replace('…','...').replace('–','-')\n",
    "    ind_text = clean_description(ind_text)\n",
    "    \n",
    "    pdf.set_font('Arial', '', 10)\n",
    "    pdf.multi_cell(182, 5, ind_text, align='J')\n",
    "    pdf.ln(3)\n",
    "    \n",
    "    #Data geo level indication\n",
    "    if from_level == 'dep' :\n",
    "        from_level_str = \"Les résultats pour le département : \" + get_dep_infos(dep)['dep_name']\n",
    "    elif from_level == 'reg' :\n",
<<<<<<< HEAD:report-pdf-dep.ipynb
    "        from_level_str = \"Données uniquement disponibles pour la région : \" + get_dep_infos(dep)['reg_name']\n",
    "    elif from_level == 'nat' :\n",
    "        from_level_str = \"Données uniquement disponibles pour la France\"\n",
=======
    "        from_level_str = \"Les résultats pour la région : \" + get_dep_infos(dep)['reg_name']\n",
    "    elif from_level == 'nat' :\n",
    "        from_level_str = \"Les résultats pour la France\"\n",
>>>>>>> d9582f3598363b8a065ac678162f16ae66b3ac01:report-pdf.ipynb
    "    \n",
    "    pdf.set_text_color(0,0,0)\n",
    "    pdf.set_font('Arial', '', 10)\n",
    "    pdf.set_fill_color(245,245,245);\n",
    "    pdf.cell(182, 8, from_level_str, 0, 2, 'L', fill=True)\n",
    "    pdf.ln(3)\n",
    "    \n",
    "    #Indicator blocks\n",
    "    \n",
    "    y_blocks_top = pdf.get_y()\n",
    "    x_blocks_left = pdf.get_x()\n",
    "    \n",
    "    #Initial value block\n",
    "    if ini_block == True :\n",
    "        pdf.set_fill_color(253, 244, 242)\n",
    "        pdf.set_font('Arial', '', 8)\n",
    "        pdf.cell(block_width, 8, 'En {}'.format(initial_value_date_str), 0, 1, 'L', fill=True)\n",
    "        pdf.set_fill_color(254, 249, 248)\n",
    "        pdf.set_font('Arial', 'B', 20)\n",
    "        pdf.cell(block_width, 10, initial_value_str, 0, 1, 'L', fill=True)\n",
    "        pdf.set_font('Arial', '', 10)\n",
    "        pdf.cell(block_width, 3, kpi_unit, 0, 1, 'L', fill=True)\n",
    "        block_left_x = pdf.get_x()\n",
    "        block_bottom_y = pdf.get_y()\n",
    "        pdf.cell(block_width, 10, '', 0, 1, 'L', fill=True)\n",
    "    \n",
    "    #Current value block (always here)\n",
    "    if ini_block == True :\n",
    "        pdf.set_xy(block_width + pdf.l_margin + block_spacing, y_blocks_top)\n",
    "    pdf.set_fill_color(234, 244, 239)\n",
    "    pdf.set_font('Arial', '', 8)\n",
    "    pdf.cell(block_width, 8, 'En {}'.format(latest_value_date_str), 0, 2, 'L', fill=True)\n",
    "    pdf.set_fill_color(244, 250, 247)\n",
    "    pdf.set_font('Arial', 'B', 20)\n",
    "    pdf.cell(block_width, 10, latest_value_str, 0, 2, 'L', fill=True)\n",
    "    pdf.set_font('Arial', '', 10)\n",
    "    pdf.cell(block_width, 3, kpi_unit, 0, 2, 'L', fill=True)\n",
    "    block_left_x = pdf.get_x()\n",
    "    block_bottom_y = pdf.get_y()\n",
    "    pdf.cell(block_width, 10, progression_percentage_str, 0, 2, 'L', fill=True)\n",
    "    \n",
    "    #Target value block\n",
    "    if tar_block == True :\n",
    "        if nb_blocks == 2 :\n",
    "            pdf.set_xy(block_width + pdf.l_margin + block_spacing, y_blocks_top)\n",
    "        elif nb_blocks == 3 :\n",
    "            pdf.set_xy(2*block_width + pdf.l_margin + 2*block_spacing, y_blocks_top)\n",
    "            \n",
    "        pdf.set_fill_color(229, 229, 243)\n",
    "        pdf.set_font('Arial', '', 8)\n",
    "        pdf.cell(block_width, 8, 'Cible {}'.format(target_value_date_str), 0, 2, 'L', fill=True)\n",
    "        pdf.set_fill_color(242, 242, 248)\n",
    "        pdf.set_font('Arial', 'B', 20)\n",
    "        pdf.cell(block_width, 10, target_value_str, 0, 2, 'L', fill=True)\n",
    "        pdf.set_font('Arial', '', 10)\n",
    "        pdf.cell(block_width, 3, kpi_unit, 0, 2, 'L', fill=True)\n",
    "        \n",
    "        #Inserting bullet chart (prog %) if exists\n",
    "        block_left_x = pdf.get_x()\n",
    "        block_bottom_y = pdf.get_y()\n",
    "        pdf.cell(block_width, 10, '', 0, 2, 'L', fill=True)\n",
    "        bullet_chart_width = 55\n",
    "        pdf.set_xy(block_left_x + block_width/2 - bullet_chart_width/2, block_bottom_y)\n",
    "        try :\n",
    "            prog_img_path = os.path.join(img_dir_path, 'graphs', 'bullet_chart-synthese-target_percentage-{}-dep_{}.png'.format(id_indicateur, dep))\n",
    "            pdf.image(prog_img_path, w=bullet_chart_width)\n",
    "        except :\n",
    "            pass\n",
    "    \n",
    "    #To go properly on next line (under blocks)\n",
    "    pdf.set_xy(block_left_x, block_bottom_y)\n",
    "    pdf.cell(0, 10, '', 0, 1) #Just to go to next line\n",
    "    \n",
    "    #CHART DISPLAY\n",
    "    try :\n",
    "        pdf.set_x(x_blocks_left)\n",
    "        chart_width = 140\n",
    "        chart_img_path = os.path.join(img_dir_path, 'graphs', 'graph-detail-{}-dep_{}.png'.format(id_indicateur, dep))\n",
    "        pdf.image(chart_img_path, w=chart_width, x=x_blocks_left + 182/2 - chart_width/2)\n",
    "\n",
    "        pdf.set_font('Arial', 'I', 8)\n",
    "        pdf.cell(182, 8, 'Unité : {}'.format(chart_unit), 0, 2, 'C')\n",
    "    except :\n",
    "        print('No chart found for {}'.format(id_indicateur))\n",
    "\n",
    "    return pdf"
   ]
  },
  {
   "cell_type": "code",
   "execution_count": 28,
   "id": "thermal-killing",
   "metadata": {
    "execution": {
     "iopub.execute_input": "2021-02-23T09:42:07.987106Z",
     "iopub.status.busy": "2021-02-23T09:42:07.979711Z",
     "iopub.status.idle": "2021-02-23T10:28:35.836846Z",
     "shell.execute_reply": "2021-02-23T10:28:35.835870Z"
    },
    "papermill": {
     "duration": 2787.91544,
     "end_time": "2021-02-23T10:28:35.837085",
     "exception": false,
     "start_time": "2021-02-23T09:42:07.921645",
     "status": "completed"
    },
    "tags": []
   },
   "outputs": [
    {
     "name": "stdout",
     "output_type": "stream",
     "text": [
<<<<<<< HEAD:report-pdf-dep.ipynb
      "No structure cible for OVQ-EAC\n",
      "No structure cible for OVQ-REL\n",
      "2021-02-23 15:14:47.308527 - 01-Ain done.\n",
      "No structure cible for OVQ-EAC\n",
      "No structure cible for OVQ-REL\n",
      "2021-02-23 15:15:23.493295 - 02-Aisne done.\n",
      "No structure cible for OVQ-EAC\n",
      "No structure cible for OVQ-REL\n",
      "2021-02-23 15:15:59.692383 - 03-Allier done.\n",
      "No structure cible for OVQ-EAC\n",
      "No structure cible for OVQ-REL\n",
      "2021-02-23 15:16:34.548413 - 04-Alpes-de-Haute-Provence done.\n",
      "No structure cible for OVQ-EAC\n",
      "No structure cible for OVQ-REL\n",
      "2021-02-23 15:17:13.002447 - 05-Hautes-Alpes done.\n",
      "No structure cible for OVQ-EAC\n",
      "No structure cible for OVQ-REL\n",
      "2021-02-23 15:17:50.625779 - 06-Alpes-Maritimes done.\n",
      "No structure cible for OVQ-EAC\n",
      "No structure cible for OVQ-REL\n",
      "2021-02-23 15:18:26.279294 - 07-Ardèche done.\n",
      "No structure cible for OVQ-EAC\n",
      "No structure cible for OVQ-REL\n",
      "2021-02-23 15:18:59.193053 - 08-Ardennes done.\n",
      "No structure cible for OVQ-EAC\n",
      "No structure cible for OVQ-REL\n",
      "2021-02-23 15:19:33.884893 - 09-Ariège done.\n",
      "No structure cible for OVQ-EAC\n",
      "No structure cible for OVQ-REL\n",
      "2021-02-23 15:20:18.833991 - 10-Aube done.\n",
      "No structure cible for OVQ-EAC\n",
      "No structure cible for OVQ-REL\n",
      "2021-02-23 15:20:54.765225 - 11-Aude done.\n",
      "No structure cible for OVQ-EAC\n",
      "No structure cible for OVQ-REL\n",
      "2021-02-23 15:21:28.064321 - 12-Aveyron done.\n",
      "No structure cible for OVQ-EAC\n",
      "No structure cible for OVQ-REL\n",
      "2021-02-23 15:22:01.658698 - 13-Bouches-du-Rhône done.\n",
      "No structure cible for OVQ-EAC\n",
      "No structure cible for OVQ-REL\n",
      "2021-02-23 15:22:36.748849 - 14-Calvados done.\n",
      "No structure cible for OVQ-EAC\n",
      "No structure cible for OVQ-REL\n",
      "2021-02-23 15:23:07.231839 - 15-Cantal done.\n",
      "No structure cible for OVQ-EAC\n",
      "No structure cible for OVQ-REL\n",
      "2021-02-23 15:23:40.646704 - 16-Charente done.\n",
      "No structure cible for OVQ-EAC\n",
      "No structure cible for OVQ-REL\n",
      "2021-02-23 15:24:17.581332 - 17-Charente-Maritime done.\n",
      "No structure cible for OVQ-EAC\n",
      "No structure cible for OVQ-REL\n",
      "2021-02-23 15:24:51.354771 - 18-Cher done.\n",
      "No structure cible for OVQ-EAC\n",
      "No structure cible for OVQ-REL\n",
      "2021-02-23 15:25:35.614649 - 19-Corrèze done.\n",
      "No structure cible for OVQ-EAC\n",
      "No structure cible for OVQ-REL\n",
      "2021-02-23 15:26:10.872470 - 21-Côte-d'Or done.\n",
      "No structure cible for OVQ-EAC\n",
      "No structure cible for OVQ-REL\n",
      "2021-02-23 15:26:45.145780 - 22-Côtes-d'Armor done.\n",
      "No structure cible for OVQ-EAC\n",
      "No structure cible for OVQ-REL\n",
      "2021-02-23 15:27:20.553849 - 23-Creuse done.\n",
      "No structure cible for OVQ-EAC\n",
      "No structure cible for OVQ-REL\n",
      "2021-02-23 15:27:56.812052 - 24-Dordogne done.\n",
      "No structure cible for OVQ-EAC\n",
      "No structure cible for OVQ-REL\n",
      "2021-02-23 15:28:32.144352 - 25-Doubs done.\n",
      "No structure cible for OVQ-EAC\n",
      "No structure cible for OVQ-REL\n",
      "2021-02-23 15:29:06.358516 - 26-Drôme done.\n",
      "No structure cible for OVQ-EAC\n",
      "No structure cible for OVQ-REL\n",
      "2021-02-23 15:29:40.265838 - 27-Eure done.\n",
      "No structure cible for OVQ-EAC\n",
      "No structure cible for OVQ-REL\n",
      "2021-02-23 15:30:14.515060 - 28-Eure-et-Loir done.\n",
      "No structure cible for OVQ-EAC\n",
      "No structure cible for OVQ-REL\n",
      "2021-02-23 15:30:58.461964 - 29-Finistère done.\n",
      "No structure cible for OVQ-EAC\n",
      "No structure cible for OVQ-REL\n",
      "2021-02-23 15:31:29.719629 - 2A-Corse-du-Sud done.\n",
      "No structure cible for OVQ-EAC\n",
      "No structure cible for OVQ-REL\n",
      "2021-02-23 15:32:03.405937 - 2B-Haute-Corse done.\n",
      "No structure cible for OVQ-EAC\n",
      "No structure cible for OVQ-REL\n",
      "2021-02-23 15:32:36.546648 - 30-Gard done.\n",
      "No structure cible for OVQ-EAC\n",
      "No structure cible for OVQ-REL\n",
      "2021-02-23 15:33:09.887442 - 31-Haute-Garonne done.\n",
      "No structure cible for OVQ-EAC\n",
      "No structure cible for OVQ-REL\n",
      "2021-02-23 15:33:41.538132 - 32-Gers done.\n",
      "No structure cible for OVQ-EAC\n",
      "No structure cible for OVQ-REL\n",
      "2021-02-23 15:34:16.749509 - 33-Gironde done.\n",
      "No structure cible for OVQ-EAC\n",
      "No structure cible for OVQ-REL\n",
      "2021-02-23 15:34:50.353560 - 34-Hérault done.\n",
      "No structure cible for OVQ-EAC\n",
      "No structure cible for OVQ-REL\n",
      "2021-02-23 15:35:24.151135 - 35-Ille-et-Vilaine done.\n",
      "No structure cible for OVQ-EAC\n",
      "No structure cible for OVQ-REL\n",
      "2021-02-23 15:36:09.496347 - 36-Indre done.\n",
      "No structure cible for OVQ-EAC\n",
      "No structure cible for OVQ-REL\n",
      "2021-02-23 15:36:44.266208 - 37-Indre-et-Loire done.\n",
      "No structure cible for OVQ-EAC\n",
      "No structure cible for OVQ-REL\n",
      "2021-02-23 15:37:18.791608 - 38-Isère done.\n",
      "No structure cible for OVQ-EAC\n",
      "No structure cible for OVQ-REL\n",
      "2021-02-23 15:37:49.657774 - 39-Jura done.\n",
      "No structure cible for OVQ-EAC\n",
      "No structure cible for OVQ-REL\n",
      "2021-02-23 15:38:24.375698 - 40-Landes done.\n",
      "No structure cible for OVQ-EAC\n",
      "No structure cible for OVQ-REL\n",
      "2021-02-23 15:38:59.313508 - 41-Loir-et-Cher done.\n",
      "No structure cible for OVQ-EAC\n",
      "No structure cible for OVQ-REL\n",
      "2021-02-23 15:39:33.370444 - 42-Loire done.\n",
      "No structure cible for OVQ-EAC\n",
      "No structure cible for OVQ-REL\n",
      "2021-02-23 15:40:06.057525 - 43-Haute-Loire done.\n",
      "No structure cible for OVQ-EAC\n",
      "No structure cible for OVQ-REL\n",
      "2021-02-23 15:40:41.430280 - 44-Loire-Atlantique done.\n",
      "No structure cible for OVQ-EAC\n",
      "No structure cible for OVQ-REL\n",
      "2021-02-23 15:41:27.269711 - 45-Loiret done.\n",
      "No structure cible for OVQ-EAC\n",
      "No structure cible for OVQ-REL\n",
      "2021-02-23 15:41:56.772695 - 46-Lot done.\n",
      "No structure cible for OVQ-EAC\n",
      "No structure cible for OVQ-REL\n",
      "2021-02-23 15:42:34.613525 - 47-Lot-et-Garonne done.\n",
      "No structure cible for OVQ-EAC\n",
      "No structure cible for OVQ-REL\n",
      "2021-02-23 15:43:04.435693 - 48-Lozère done.\n",
      "No structure cible for OVQ-EAC\n",
      "No structure cible for OVQ-REL\n",
      "2021-02-23 15:43:39.791501 - 49-Maine-et-Loire done.\n",
      "No structure cible for OVQ-EAC\n",
      "No structure cible for OVQ-REL\n",
      "2021-02-23 15:44:14.807411 - 50-Manche done.\n",
      "No structure cible for OVQ-EAC\n",
      "No structure cible for OVQ-REL\n",
      "2021-02-23 15:44:51.452270 - 51-Marne done.\n",
      "No structure cible for OVQ-EAC\n",
      "No structure cible for OVQ-REL\n",
      "2021-02-23 15:45:26.770640 - 52-Haute-Marne done.\n",
      "No structure cible for OVQ-EAC\n",
      "No structure cible for OVQ-REL\n",
      "2021-02-23 15:46:03.325977 - 53-Mayenne done.\n",
      "No structure cible for OVQ-EAC\n",
      "No structure cible for OVQ-REL\n",
      "2021-02-23 15:46:50.281038 - 54-Meurthe-et-Moselle done.\n",
      "No structure cible for OVQ-EAC\n",
      "No structure cible for OVQ-REL\n",
      "2021-02-23 15:47:27.468937 - 55-Meuse done.\n",
      "No structure cible for OVQ-EAC\n",
      "No structure cible for OVQ-REL\n",
      "2021-02-23 15:48:03.193874 - 56-Morbihan done.\n",
      "No structure cible for OVQ-EAC\n",
      "No structure cible for OVQ-REL\n",
      "2021-02-23 15:48:40.264084 - 57-Moselle done.\n",
      "No structure cible for OVQ-EAC\n",
      "No structure cible for OVQ-REL\n",
      "2021-02-23 15:49:16.364560 - 58-Nièvre done.\n",
      "No structure cible for OVQ-EAC\n",
      "No structure cible for OVQ-REL\n",
      "2021-02-23 15:49:54.067785 - 59-Nord done.\n",
      "No structure cible for OVQ-EAC\n",
      "No structure cible for OVQ-REL\n",
      "2021-02-23 15:50:31.638560 - 60-Oise done.\n",
      "No structure cible for OVQ-EAC\n",
      "No structure cible for OVQ-REL\n",
      "2021-02-23 15:51:09.051756 - 61-Orne done.\n",
      "No structure cible for OVQ-EAC\n",
      "No structure cible for OVQ-REL\n",
      "2021-02-23 15:51:56.365673 - 62-Pas-de-Calais done.\n",
      "No structure cible for OVQ-EAC\n",
      "No structure cible for OVQ-REL\n",
      "2021-02-23 15:52:33.286005 - 63-Puy-de-Dôme done.\n",
      "No structure cible for OVQ-EAC\n",
      "No structure cible for OVQ-REL\n",
      "2021-02-23 15:53:09.729754 - 64-Pyrénées-Atlantiques done.\n",
      "No structure cible for OVQ-EAC\n",
      "No structure cible for OVQ-REL\n",
      "2021-02-23 15:53:44.639769 - 65-Hautes-Pyrénées done.\n",
      "No structure cible for OVQ-EAC\n",
      "No structure cible for OVQ-REL\n",
      "2021-02-23 15:54:16.166693 - 66-Pyrénées-Orientales done.\n",
      "No structure cible for OVQ-EAC\n",
      "No structure cible for OVQ-REL\n",
      "2021-02-23 15:54:51.855108 - 67-Bas-Rhin done.\n",
      "No structure cible for OVQ-EAC\n",
      "No structure cible for OVQ-REL\n",
      "2021-02-23 15:55:28.386337 - 68-Haut-Rhin done.\n",
      "No structure cible for OVQ-EAC\n",
      "No structure cible for OVQ-REL\n",
      "2021-02-23 15:56:02.536434 - 69-Rhône done.\n",
      "No structure cible for OVQ-EAC\n",
      "No structure cible for OVQ-REL\n",
      "2021-02-23 15:56:35.079584 - 70-Haute-Saône done.\n",
      "No structure cible for OVQ-EAC\n",
      "No structure cible for OVQ-REL\n",
      "2021-02-23 15:57:21.500008 - 71-Saône-et-Loire done.\n",
      "No structure cible for OVQ-EAC\n",
      "No structure cible for OVQ-REL\n",
      "2021-02-23 15:57:58.545053 - 72-Sarthe done.\n",
      "No structure cible for OVQ-EAC\n",
      "No structure cible for OVQ-REL\n",
      "2021-02-23 15:58:31.818137 - 73-Savoie done.\n",
      "No structure cible for OVQ-EAC\n",
      "No structure cible for OVQ-REL\n",
      "2021-02-23 15:59:05.923322 - 74-Haute-Savoie done.\n",
      "No structure cible for OVQ-EAC\n",
      "No structure cible for OVQ-REL\n",
      "2021-02-23 15:59:38.228047 - 75-Paris done.\n",
      "No structure cible for OVQ-EAC\n",
      "No structure cible for OVQ-REL\n",
      "2021-02-23 16:00:14.121454 - 76-Seine-Maritime done.\n",
      "No structure cible for OVQ-EAC\n",
      "No structure cible for OVQ-REL\n",
      "2021-02-23 16:00:48.374399 - 77-Seine-et-Marne done.\n",
      "No structure cible for OVQ-EAC\n",
      "No structure cible for OVQ-REL\n",
      "2021-02-23 16:01:22.339961 - 78-Yvelines done.\n",
      "No structure cible for OVQ-EAC\n",
      "No structure cible for OVQ-REL\n",
      "2021-02-23 16:01:57.293373 - 79-Deux-Sèvres done.\n",
      "No structure cible for OVQ-EAC\n",
      "No structure cible for OVQ-REL\n",
      "2021-02-23 16:02:43.150235 - 80-Somme done.\n",
      "No structure cible for OVQ-EAC\n",
      "No structure cible for OVQ-REL\n",
      "2021-02-23 16:03:15.687396 - 81-Tarn done.\n",
      "No structure cible for OVQ-EAC\n",
      "No structure cible for OVQ-REL\n",
      "2021-02-23 16:03:48.539726 - 82-Tarn-et-Garonne done.\n",
      "No structure cible for OVQ-EAC\n",
      "No structure cible for OVQ-REL\n",
      "2021-02-23 16:04:21.795931 - 83-Var done.\n",
      "No structure cible for OVQ-EAC\n",
      "No structure cible for OVQ-REL\n",
      "2021-02-23 16:04:59.613431 - 84-Vaucluse done.\n",
      "No structure cible for OVQ-EAC\n",
      "No structure cible for OVQ-REL\n",
      "2021-02-23 16:05:35.268512 - 85-Vendée done.\n",
      "No structure cible for OVQ-EAC\n",
      "No structure cible for OVQ-REL\n",
      "2021-02-23 16:06:11.607330 - 86-Vienne done.\n",
      "No structure cible for OVQ-EAC\n",
      "No structure cible for OVQ-REL\n",
      "2021-02-23 16:06:46.324144 - 87-Haute-Vienne done.\n",
      "No structure cible for OVQ-EAC\n",
      "No structure cible for OVQ-REL\n",
      "2021-02-23 16:07:20.935492 - 88-Vosges done.\n",
      "No structure cible for OVQ-EAC\n",
      "No structure cible for OVQ-REL\n",
      "2021-02-23 16:08:06.989095 - 89-Yonne done.\n",
      "No structure cible for OVQ-EAC\n",
      "No structure cible for OVQ-REL\n",
      "2021-02-23 16:08:41.487428 - 90-Territoire de Belfort done.\n",
      "No structure cible for OVQ-EAC\n",
      "No structure cible for OVQ-REL\n",
      "2021-02-23 16:09:13.900742 - 91-Essonne done.\n",
      "No structure cible for OVQ-EAC\n",
      "No structure cible for OVQ-REL\n",
      "2021-02-23 16:09:48.245961 - 92-Hauts-de-Seine done.\n",
      "No structure cible for OVQ-EAC\n",
      "No structure cible for OVQ-REL\n",
      "2021-02-23 16:10:20.067924 - 93-Seine-Saint-Denis done.\n",
      "No structure cible for OVQ-EAC\n",
      "No structure cible for OVQ-REL\n",
      "2021-02-23 16:10:52.193218 - 94-Val-de-Marne done.\n",
      "No structure cible for OVQ-EAC\n",
      "No structure cible for OVQ-REL\n",
      "2021-02-23 16:11:24.601284 - 95-Val-d'Oise done.\n",
      "No structure cible for OVQ-EAC\n",
      "No structure cible for OVQ-REL\n",
      "2021-02-23 16:11:57.714738 - 971-Guadeloupe done.\n",
      "No structure cible for OVQ-EAC\n",
      "No structure cible for OVQ-REL\n",
      "2021-02-23 16:12:34.061827 - 972-Martinique done.\n",
      "No structure cible for OVQ-EAC\n",
      "No structure cible for OVQ-REL\n",
      "2021-02-23 16:13:18.173015 - 973-Guyane done.\n",
      "No structure cible for OVQ-EAC\n",
      "No structure cible for OVQ-REL\n",
      "2021-02-23 16:13:52.972898 - 974-La Réunion done.\n",
      "No structure cible for OVQ-EAC\n",
      "No structure cible for OVQ-REL\n",
      "2021-02-23 16:14:26.123753 - 976-Mayotte done.\n",
      "CPU times: user 40min 24s, sys: 14min 9s, total: 54min 34s\n",
      "Wall time: 1h 22s\n"
=======
      "No structure cible for OVQ-EAC\n"
     ]
    },
    {
     "name": "stdout",
     "output_type": "stream",
     "text": [
      "No structure cible for OVQ-REL\n"
     ]
    },
    {
     "name": "stdout",
     "output_type": "stream",
     "text": [
      "2021-02-23 09:42:42.012701 - 01 done.\n"
     ]
    },
    {
     "name": "stdout",
     "output_type": "stream",
     "text": [
      "No structure cible for OVQ-EAC\n"
     ]
    },
    {
     "name": "stdout",
     "output_type": "stream",
     "text": [
      "No structure cible for OVQ-REL\n"
     ]
    },
    {
     "name": "stdout",
     "output_type": "stream",
     "text": [
      "2021-02-23 09:43:10.427898 - 02 done.\n"
     ]
    },
    {
     "name": "stdout",
     "output_type": "stream",
     "text": [
      "No structure cible for OVQ-EAC\n"
     ]
    },
    {
     "name": "stdout",
     "output_type": "stream",
     "text": [
      "No structure cible for OVQ-REL\n"
     ]
    },
    {
     "name": "stdout",
     "output_type": "stream",
     "text": [
      "2021-02-23 09:43:37.972266 - 03 done.\n"
     ]
    },
    {
     "name": "stdout",
     "output_type": "stream",
     "text": [
      "No structure cible for OVQ-EAC\n"
     ]
    },
    {
     "name": "stdout",
     "output_type": "stream",
     "text": [
      "No structure cible for OVQ-REL\n"
     ]
    },
    {
     "name": "stdout",
     "output_type": "stream",
     "text": [
      "2021-02-23 09:44:03.774000 - 04 done.\n"
     ]
    },
    {
     "name": "stdout",
     "output_type": "stream",
     "text": [
      "No structure cible for OVQ-EAC\n"
     ]
    },
    {
     "name": "stdout",
     "output_type": "stream",
     "text": [
      "No structure cible for OVQ-REL\n"
     ]
    },
    {
     "name": "stdout",
     "output_type": "stream",
     "text": [
      "2021-02-23 09:44:31.021382 - 05 done.\n"
     ]
    },
    {
     "name": "stdout",
     "output_type": "stream",
     "text": [
      "No structure cible for OVQ-EAC\n"
     ]
    },
    {
     "name": "stdout",
     "output_type": "stream",
     "text": [
      "No structure cible for OVQ-REL\n"
     ]
    },
    {
     "name": "stdout",
     "output_type": "stream",
     "text": [
      "2021-02-23 09:44:58.584052 - 06 done.\n"
     ]
    },
    {
     "name": "stdout",
     "output_type": "stream",
     "text": [
      "No structure cible for OVQ-EAC\n"
     ]
    },
    {
     "name": "stdout",
     "output_type": "stream",
     "text": [
      "No structure cible for OVQ-REL\n"
     ]
    },
    {
     "name": "stdout",
     "output_type": "stream",
     "text": [
      "2021-02-23 09:45:26.023598 - 07 done.\n"
     ]
    },
    {
     "name": "stdout",
     "output_type": "stream",
     "text": [
      "No structure cible for OVQ-EAC\n"
     ]
    },
    {
     "name": "stdout",
     "output_type": "stream",
     "text": [
      "No structure cible for OVQ-REL\n"
     ]
    },
    {
     "name": "stdout",
     "output_type": "stream",
     "text": [
      "2021-02-23 09:45:52.632035 - 08 done.\n"
     ]
    },
    {
     "name": "stdout",
     "output_type": "stream",
     "text": [
      "No structure cible for OVQ-EAC\n"
     ]
    },
    {
     "name": "stdout",
     "output_type": "stream",
     "text": [
      "No structure cible for OVQ-REL\n"
     ]
    },
    {
     "name": "stdout",
     "output_type": "stream",
     "text": [
      "2021-02-23 09:46:19.893311 - 09 done.\n"
     ]
    },
    {
     "name": "stdout",
     "output_type": "stream",
     "text": [
      "No structure cible for OVQ-EAC\n"
     ]
    },
    {
     "name": "stdout",
     "output_type": "stream",
     "text": [
      "No structure cible for OVQ-REL\n"
     ]
    },
    {
     "name": "stdout",
     "output_type": "stream",
     "text": [
      "2021-02-23 09:46:46.089197 - 10 done.\n"
     ]
    },
    {
     "name": "stdout",
     "output_type": "stream",
     "text": [
      "No structure cible for OVQ-EAC\n"
     ]
    },
    {
     "name": "stdout",
     "output_type": "stream",
     "text": [
      "No structure cible for OVQ-REL\n"
     ]
    },
    {
     "name": "stdout",
     "output_type": "stream",
     "text": [
      "2021-02-23 09:47:13.840430 - 11 done.\n"
     ]
    },
    {
     "name": "stdout",
     "output_type": "stream",
     "text": [
      "No structure cible for OVQ-EAC\n"
     ]
    },
    {
     "name": "stdout",
     "output_type": "stream",
     "text": [
      "No structure cible for OVQ-REL\n"
     ]
    },
    {
     "name": "stdout",
     "output_type": "stream",
     "text": [
      "2021-02-23 09:47:46.139514 - 12 done.\n"
     ]
    },
    {
     "name": "stdout",
     "output_type": "stream",
     "text": [
      "No structure cible for OVQ-EAC\n"
     ]
    },
    {
     "name": "stdout",
     "output_type": "stream",
     "text": [
      "No structure cible for OVQ-REL\n"
     ]
    },
    {
     "name": "stdout",
     "output_type": "stream",
     "text": [
      "2021-02-23 09:48:13.530377 - 13 done.\n"
     ]
    },
    {
     "name": "stdout",
     "output_type": "stream",
     "text": [
      "No structure cible for OVQ-EAC\n"
     ]
    },
    {
     "name": "stdout",
     "output_type": "stream",
     "text": [
      "No structure cible for OVQ-REL\n"
     ]
    },
    {
     "name": "stdout",
     "output_type": "stream",
     "text": [
      "2021-02-23 09:48:42.346344 - 14 done.\n"
     ]
    },
    {
     "name": "stdout",
     "output_type": "stream",
     "text": [
      "No structure cible for OVQ-EAC\n"
     ]
    },
    {
     "name": "stdout",
     "output_type": "stream",
     "text": [
      "No structure cible for OVQ-REL\n"
     ]
    },
    {
     "name": "stdout",
     "output_type": "stream",
     "text": [
      "2021-02-23 09:49:07.445185 - 15 done.\n"
     ]
    },
    {
     "name": "stdout",
     "output_type": "stream",
     "text": [
      "No structure cible for OVQ-EAC\n"
     ]
    },
    {
     "name": "stdout",
     "output_type": "stream",
     "text": [
      "No structure cible for OVQ-REL\n"
     ]
    },
    {
     "name": "stdout",
     "output_type": "stream",
     "text": [
      "2021-02-23 09:49:34.083677 - 16 done.\n"
     ]
    },
    {
     "name": "stdout",
     "output_type": "stream",
     "text": [
      "No structure cible for OVQ-EAC\n"
     ]
    },
    {
     "name": "stdout",
     "output_type": "stream",
     "text": [
      "No structure cible for OVQ-REL\n"
     ]
    },
    {
     "name": "stdout",
     "output_type": "stream",
     "text": [
      "2021-02-23 09:50:03.055896 - 17 done.\n"
     ]
    },
    {
     "name": "stdout",
     "output_type": "stream",
     "text": [
      "No structure cible for OVQ-EAC\n"
     ]
    },
    {
     "name": "stdout",
     "output_type": "stream",
     "text": [
      "No structure cible for OVQ-REL\n"
     ]
    },
    {
     "name": "stdout",
     "output_type": "stream",
     "text": [
      "2021-02-23 09:50:30.488894 - 18 done.\n"
     ]
    },
    {
     "name": "stdout",
     "output_type": "stream",
     "text": [
      "No structure cible for OVQ-EAC\n"
     ]
    },
    {
     "name": "stdout",
     "output_type": "stream",
     "text": [
      "No structure cible for OVQ-REL\n"
     ]
    },
    {
     "name": "stdout",
     "output_type": "stream",
     "text": [
      "2021-02-23 09:50:58.099295 - 19 done.\n"
     ]
    },
    {
     "name": "stdout",
     "output_type": "stream",
     "text": [
      "No structure cible for OVQ-EAC\n"
     ]
    },
    {
     "name": "stdout",
     "output_type": "stream",
     "text": [
      "No structure cible for OVQ-REL\n"
     ]
    },
    {
     "name": "stdout",
     "output_type": "stream",
     "text": [
      "2021-02-23 09:51:25.396002 - 21 done.\n"
     ]
    },
    {
     "name": "stdout",
     "output_type": "stream",
     "text": [
      "No structure cible for OVQ-EAC\n"
     ]
    },
    {
     "name": "stdout",
     "output_type": "stream",
     "text": [
      "No structure cible for OVQ-REL\n"
     ]
    },
    {
     "name": "stdout",
     "output_type": "stream",
     "text": [
      "2021-02-23 09:51:52.446031 - 22 done.\n"
     ]
    },
    {
     "name": "stdout",
     "output_type": "stream",
     "text": [
      "No structure cible for OVQ-EAC\n"
     ]
    },
    {
     "name": "stdout",
     "output_type": "stream",
     "text": [
      "No structure cible for OVQ-REL\n"
     ]
    },
    {
     "name": "stdout",
     "output_type": "stream",
     "text": [
      "2021-02-23 09:52:19.446172 - 23 done.\n"
     ]
    },
    {
     "name": "stdout",
     "output_type": "stream",
     "text": [
      "No structure cible for OVQ-EAC\n"
     ]
    },
    {
     "name": "stdout",
     "output_type": "stream",
     "text": [
      "No structure cible for OVQ-REL\n"
     ]
    },
    {
     "name": "stdout",
     "output_type": "stream",
     "text": [
      "2021-02-23 09:52:52.163743 - 24 done.\n"
     ]
    },
    {
     "name": "stdout",
     "output_type": "stream",
     "text": [
      "No structure cible for OVQ-EAC\n"
     ]
    },
    {
     "name": "stdout",
     "output_type": "stream",
     "text": [
      "No structure cible for OVQ-REL\n"
     ]
    },
    {
     "name": "stdout",
     "output_type": "stream",
     "text": [
      "2021-02-23 09:53:19.315649 - 25 done.\n"
     ]
    },
    {
     "name": "stdout",
     "output_type": "stream",
     "text": [
      "No structure cible for OVQ-EAC\n"
     ]
    },
    {
     "name": "stdout",
     "output_type": "stream",
     "text": [
      "No structure cible for OVQ-REL\n"
     ]
    },
    {
     "name": "stdout",
     "output_type": "stream",
     "text": [
      "2021-02-23 09:53:46.402417 - 26 done.\n"
     ]
    },
    {
     "name": "stdout",
     "output_type": "stream",
     "text": [
      "No structure cible for OVQ-EAC\n"
     ]
    },
    {
     "name": "stdout",
     "output_type": "stream",
     "text": [
      "No structure cible for OVQ-REL\n"
     ]
    },
    {
     "name": "stdout",
     "output_type": "stream",
     "text": [
      "2021-02-23 09:54:13.794341 - 27 done.\n"
     ]
    },
    {
     "name": "stdout",
     "output_type": "stream",
     "text": [
      "No structure cible for OVQ-EAC\n"
     ]
    },
    {
     "name": "stdout",
     "output_type": "stream",
     "text": [
      "No structure cible for OVQ-REL\n"
     ]
    },
    {
     "name": "stdout",
     "output_type": "stream",
     "text": [
      "2021-02-23 09:54:40.777868 - 28 done.\n"
     ]
    },
    {
     "name": "stdout",
     "output_type": "stream",
     "text": [
      "No structure cible for OVQ-EAC\n"
     ]
    },
    {
     "name": "stdout",
     "output_type": "stream",
     "text": [
      "No structure cible for OVQ-REL\n"
     ]
    },
    {
     "name": "stdout",
     "output_type": "stream",
     "text": [
      "2021-02-23 09:55:08.249603 - 29 done.\n"
     ]
    },
    {
     "name": "stdout",
     "output_type": "stream",
     "text": [
      "No structure cible for OVQ-EAC\n"
     ]
    },
    {
     "name": "stdout",
     "output_type": "stream",
     "text": [
      "No structure cible for OVQ-REL\n"
     ]
    },
    {
     "name": "stdout",
     "output_type": "stream",
     "text": [
      "2021-02-23 09:55:33.547181 - 2A done.\n"
     ]
    },
    {
     "name": "stdout",
     "output_type": "stream",
     "text": [
      "No structure cible for OVQ-EAC\n"
     ]
    },
    {
     "name": "stdout",
     "output_type": "stream",
     "text": [
      "No structure cible for OVQ-REL\n"
     ]
    },
    {
     "name": "stdout",
     "output_type": "stream",
     "text": [
      "2021-02-23 09:56:00.855969 - 2B done.\n"
     ]
    },
    {
     "name": "stdout",
     "output_type": "stream",
     "text": [
      "No structure cible for OVQ-EAC\n"
     ]
    },
    {
     "name": "stdout",
     "output_type": "stream",
     "text": [
      "No structure cible for OVQ-REL\n"
     ]
    },
    {
     "name": "stdout",
     "output_type": "stream",
     "text": [
      "2021-02-23 09:56:26.391734 - 30 done.\n"
     ]
    },
    {
     "name": "stdout",
     "output_type": "stream",
     "text": [
      "No structure cible for OVQ-EAC\n"
     ]
    },
    {
     "name": "stdout",
     "output_type": "stream",
     "text": [
      "No structure cible for OVQ-REL\n"
     ]
    },
    {
     "name": "stdout",
     "output_type": "stream",
     "text": [
      "2021-02-23 09:56:53.457126 - 31 done.\n"
     ]
    },
    {
     "name": "stdout",
     "output_type": "stream",
     "text": [
      "No structure cible for OVQ-EAC\n"
     ]
    },
    {
     "name": "stdout",
     "output_type": "stream",
     "text": [
      "No structure cible for OVQ-REL\n"
     ]
    },
    {
     "name": "stdout",
     "output_type": "stream",
     "text": [
      "2021-02-23 09:57:19.095643 - 32 done.\n"
     ]
    },
    {
     "name": "stdout",
     "output_type": "stream",
     "text": [
      "No structure cible for OVQ-EAC\n"
     ]
    },
    {
     "name": "stdout",
     "output_type": "stream",
     "text": [
      "No structure cible for OVQ-REL\n"
     ]
    },
    {
     "name": "stdout",
     "output_type": "stream",
     "text": [
      "2021-02-23 09:57:47.506583 - 33 done.\n"
     ]
    },
    {
     "name": "stdout",
     "output_type": "stream",
     "text": [
      "No structure cible for OVQ-EAC\n"
     ]
    },
    {
     "name": "stdout",
     "output_type": "stream",
     "text": [
      "No structure cible for OVQ-REL\n"
     ]
    },
    {
     "name": "stdout",
     "output_type": "stream",
     "text": [
      "2021-02-23 09:58:19.161661 - 34 done.\n"
     ]
    },
    {
     "name": "stdout",
     "output_type": "stream",
     "text": [
      "No structure cible for OVQ-EAC\n"
     ]
    },
    {
     "name": "stdout",
     "output_type": "stream",
     "text": [
      "No structure cible for OVQ-REL\n"
     ]
    },
    {
     "name": "stdout",
     "output_type": "stream",
     "text": [
      "2021-02-23 09:58:46.867996 - 35 done.\n"
     ]
    },
    {
     "name": "stdout",
     "output_type": "stream",
     "text": [
      "No structure cible for OVQ-EAC\n"
     ]
    },
    {
     "name": "stdout",
     "output_type": "stream",
     "text": [
      "No structure cible for OVQ-REL\n"
     ]
    },
    {
     "name": "stdout",
     "output_type": "stream",
     "text": [
      "2021-02-23 09:59:15.556304 - 36 done.\n"
     ]
    },
    {
     "name": "stdout",
     "output_type": "stream",
     "text": [
      "No structure cible for OVQ-EAC\n"
     ]
    },
    {
     "name": "stdout",
     "output_type": "stream",
     "text": [
      "No structure cible for OVQ-REL\n"
     ]
    },
    {
     "name": "stdout",
     "output_type": "stream",
     "text": [
      "2021-02-23 09:59:44.120131 - 37 done.\n"
     ]
    },
    {
     "name": "stdout",
     "output_type": "stream",
     "text": [
      "No structure cible for OVQ-EAC\n"
     ]
    },
    {
     "name": "stdout",
     "output_type": "stream",
     "text": [
      "No structure cible for OVQ-REL\n"
     ]
    },
    {
     "name": "stdout",
     "output_type": "stream",
     "text": [
      "2021-02-23 10:00:12.015202 - 38 done.\n"
     ]
    },
    {
     "name": "stdout",
     "output_type": "stream",
     "text": [
      "No structure cible for OVQ-EAC\n"
     ]
    },
    {
     "name": "stdout",
     "output_type": "stream",
     "text": [
      "No structure cible for OVQ-REL\n"
     ]
    },
    {
     "name": "stdout",
     "output_type": "stream",
     "text": [
      "2021-02-23 10:00:36.965764 - 39 done.\n"
     ]
    },
    {
     "name": "stdout",
     "output_type": "stream",
     "text": [
      "No structure cible for OVQ-EAC\n"
     ]
    },
    {
     "name": "stdout",
     "output_type": "stream",
     "text": [
      "No structure cible for OVQ-REL\n"
     ]
    },
    {
     "name": "stdout",
     "output_type": "stream",
     "text": [
      "2021-02-23 10:01:05.373130 - 40 done.\n"
     ]
    },
    {
     "name": "stdout",
     "output_type": "stream",
     "text": [
      "No structure cible for OVQ-EAC\n"
     ]
    },
    {
     "name": "stdout",
     "output_type": "stream",
     "text": [
      "No structure cible for OVQ-REL\n"
     ]
    },
    {
     "name": "stdout",
     "output_type": "stream",
     "text": [
      "2021-02-23 10:01:33.811867 - 41 done.\n"
     ]
    },
    {
     "name": "stdout",
     "output_type": "stream",
     "text": [
      "No structure cible for OVQ-EAC\n"
     ]
    },
    {
     "name": "stdout",
     "output_type": "stream",
     "text": [
      "No structure cible for OVQ-REL\n"
     ]
    },
    {
     "name": "stdout",
     "output_type": "stream",
     "text": [
      "2021-02-23 10:02:01.672188 - 42 done.\n"
     ]
    },
    {
     "name": "stdout",
     "output_type": "stream",
     "text": [
      "No structure cible for OVQ-EAC\n"
     ]
    },
    {
     "name": "stdout",
     "output_type": "stream",
     "text": [
      "No structure cible for OVQ-REL\n"
     ]
    },
    {
     "name": "stdout",
     "output_type": "stream",
     "text": [
      "2021-02-23 10:02:27.923230 - 43 done.\n"
     ]
    },
    {
     "name": "stdout",
     "output_type": "stream",
     "text": [
      "No structure cible for OVQ-EAC\n"
     ]
    },
    {
     "name": "stdout",
     "output_type": "stream",
     "text": [
      "No structure cible for OVQ-REL\n"
     ]
    },
    {
     "name": "stdout",
     "output_type": "stream",
     "text": [
      "2021-02-23 10:02:56.471022 - 44 done.\n"
     ]
    },
    {
     "name": "stdout",
     "output_type": "stream",
     "text": [
      "No structure cible for OVQ-EAC\n"
     ]
    },
    {
     "name": "stdout",
     "output_type": "stream",
     "text": [
      "No structure cible for OVQ-REL\n"
     ]
    },
    {
     "name": "stdout",
     "output_type": "stream",
     "text": [
      "2021-02-23 10:03:29.519464 - 45 done.\n"
     ]
    },
    {
     "name": "stdout",
     "output_type": "stream",
     "text": [
      "No structure cible for OVQ-EAC\n"
     ]
    },
    {
     "name": "stdout",
     "output_type": "stream",
     "text": [
      "No structure cible for OVQ-REL\n"
     ]
    },
    {
     "name": "stdout",
     "output_type": "stream",
     "text": [
      "2021-02-23 10:03:52.848841 - 46 done.\n"
     ]
    },
    {
     "name": "stdout",
     "output_type": "stream",
     "text": [
      "No structure cible for OVQ-EAC\n"
     ]
    },
    {
     "name": "stdout",
     "output_type": "stream",
     "text": [
      "No structure cible for OVQ-REL\n"
     ]
    },
    {
     "name": "stdout",
     "output_type": "stream",
     "text": [
      "2021-02-23 10:04:21.147928 - 47 done.\n"
     ]
    },
    {
     "name": "stdout",
     "output_type": "stream",
     "text": [
      "No structure cible for OVQ-EAC\n"
     ]
    },
    {
     "name": "stdout",
     "output_type": "stream",
     "text": [
      "No structure cible for OVQ-REL\n"
     ]
    },
    {
     "name": "stdout",
     "output_type": "stream",
     "text": [
      "2021-02-23 10:04:45.015708 - 48 done.\n"
     ]
    },
    {
     "name": "stdout",
     "output_type": "stream",
     "text": [
      "No structure cible for OVQ-EAC\n"
     ]
    },
    {
     "name": "stdout",
     "output_type": "stream",
     "text": [
      "No structure cible for OVQ-REL\n"
     ]
    },
    {
     "name": "stdout",
     "output_type": "stream",
     "text": [
      "2021-02-23 10:05:13.773650 - 49 done.\n"
     ]
    },
    {
     "name": "stdout",
     "output_type": "stream",
     "text": [
      "No structure cible for OVQ-EAC\n"
     ]
    },
    {
     "name": "stdout",
     "output_type": "stream",
     "text": [
      "No structure cible for OVQ-REL\n"
     ]
    },
    {
     "name": "stdout",
     "output_type": "stream",
     "text": [
      "2021-02-23 10:05:41.228133 - 50 done.\n"
     ]
    },
    {
     "name": "stdout",
     "output_type": "stream",
     "text": [
      "No structure cible for OVQ-EAC\n"
     ]
    },
    {
     "name": "stdout",
     "output_type": "stream",
     "text": [
      "No structure cible for OVQ-REL\n"
     ]
    },
    {
     "name": "stdout",
     "output_type": "stream",
     "text": [
      "2021-02-23 10:06:07.776249 - 51 done.\n"
     ]
    },
    {
     "name": "stdout",
     "output_type": "stream",
     "text": [
      "No structure cible for OVQ-EAC\n"
     ]
    },
    {
     "name": "stdout",
     "output_type": "stream",
     "text": [
      "No structure cible for OVQ-REL\n"
     ]
    },
    {
     "name": "stdout",
     "output_type": "stream",
     "text": [
      "2021-02-23 10:06:33.820170 - 52 done.\n"
     ]
    },
    {
     "name": "stdout",
     "output_type": "stream",
     "text": [
      "No structure cible for OVQ-EAC\n"
     ]
    },
    {
     "name": "stdout",
     "output_type": "stream",
     "text": [
      "No structure cible for OVQ-REL\n"
     ]
    },
    {
     "name": "stdout",
     "output_type": "stream",
     "text": [
      "2021-02-23 10:07:02.028132 - 53 done.\n"
     ]
    },
    {
     "name": "stdout",
     "output_type": "stream",
     "text": [
      "No structure cible for OVQ-EAC\n"
     ]
    },
    {
     "name": "stdout",
     "output_type": "stream",
     "text": [
      "No structure cible for OVQ-REL\n"
     ]
    },
    {
     "name": "stdout",
     "output_type": "stream",
     "text": [
      "2021-02-23 10:07:29.326146 - 54 done.\n"
     ]
    },
    {
     "name": "stdout",
     "output_type": "stream",
     "text": [
      "No structure cible for OVQ-EAC\n"
     ]
    },
    {
     "name": "stdout",
     "output_type": "stream",
     "text": [
      "No structure cible for OVQ-REL\n"
     ]
    },
    {
     "name": "stdout",
     "output_type": "stream",
     "text": [
      "2021-02-23 10:07:55.582280 - 55 done.\n"
     ]
    },
    {
     "name": "stdout",
     "output_type": "stream",
     "text": [
      "No structure cible for OVQ-EAC\n"
     ]
    },
    {
     "name": "stdout",
     "output_type": "stream",
     "text": [
      "No structure cible for OVQ-REL\n"
     ]
    },
    {
     "name": "stdout",
     "output_type": "stream",
     "text": [
      "2021-02-23 10:08:22.234753 - 56 done.\n"
     ]
    },
    {
     "name": "stdout",
     "output_type": "stream",
     "text": [
      "No structure cible for OVQ-EAC\n"
     ]
    },
    {
     "name": "stdout",
     "output_type": "stream",
     "text": [
      "No structure cible for OVQ-REL\n"
     ]
    },
    {
     "name": "stdout",
     "output_type": "stream",
     "text": [
      "2021-02-23 10:08:52.282645 - 57 done.\n"
     ]
    },
    {
     "name": "stdout",
     "output_type": "stream",
     "text": [
      "No structure cible for OVQ-EAC\n"
     ]
    },
    {
     "name": "stdout",
     "output_type": "stream",
     "text": [
      "No structure cible for OVQ-REL\n"
     ]
    },
    {
     "name": "stdout",
     "output_type": "stream",
     "text": [
      "2021-02-23 10:09:17.647412 - 58 done.\n"
     ]
    },
    {
     "name": "stdout",
     "output_type": "stream",
     "text": [
      "No structure cible for OVQ-EAC\n"
     ]
    },
    {
     "name": "stdout",
     "output_type": "stream",
     "text": [
      "No structure cible for OVQ-REL\n"
     ]
    },
    {
     "name": "stdout",
     "output_type": "stream",
     "text": [
      "2021-02-23 10:09:44.989465 - 59 done.\n"
     ]
    },
    {
     "name": "stdout",
     "output_type": "stream",
     "text": [
      "No structure cible for OVQ-EAC\n"
     ]
    },
    {
     "name": "stdout",
     "output_type": "stream",
     "text": [
      "No structure cible for OVQ-REL\n"
     ]
    },
    {
     "name": "stdout",
     "output_type": "stream",
     "text": [
      "2021-02-23 10:10:12.238779 - 60 done.\n"
     ]
    },
    {
     "name": "stdout",
     "output_type": "stream",
     "text": [
      "No structure cible for OVQ-EAC\n"
     ]
    },
    {
     "name": "stdout",
     "output_type": "stream",
     "text": [
      "No structure cible for OVQ-REL\n"
     ]
    },
    {
     "name": "stdout",
     "output_type": "stream",
     "text": [
      "2021-02-23 10:10:39.693076 - 61 done.\n"
     ]
    },
    {
     "name": "stdout",
     "output_type": "stream",
     "text": [
      "No structure cible for OVQ-EAC\n"
     ]
    },
    {
     "name": "stdout",
     "output_type": "stream",
     "text": [
      "No structure cible for OVQ-REL\n"
     ]
    },
    {
     "name": "stdout",
     "output_type": "stream",
     "text": [
      "2021-02-23 10:11:07.741033 - 62 done.\n"
     ]
    },
    {
     "name": "stdout",
     "output_type": "stream",
     "text": [
      "No structure cible for OVQ-EAC\n"
     ]
    },
    {
     "name": "stdout",
     "output_type": "stream",
     "text": [
      "No structure cible for OVQ-REL\n"
     ]
    },
    {
     "name": "stdout",
     "output_type": "stream",
     "text": [
      "2021-02-23 10:11:35.289089 - 63 done.\n"
     ]
    },
    {
     "name": "stdout",
     "output_type": "stream",
     "text": [
      "No structure cible for OVQ-EAC\n"
     ]
    },
    {
     "name": "stdout",
     "output_type": "stream",
     "text": [
      "No structure cible for OVQ-REL\n"
     ]
    },
    {
     "name": "stdout",
     "output_type": "stream",
     "text": [
      "2021-02-23 10:12:03.790204 - 64 done.\n"
     ]
    },
    {
     "name": "stdout",
     "output_type": "stream",
     "text": [
      "No structure cible for OVQ-EAC\n"
     ]
    },
    {
     "name": "stdout",
     "output_type": "stream",
     "text": [
      "No structure cible for OVQ-REL\n"
     ]
    },
    {
     "name": "stdout",
     "output_type": "stream",
     "text": [
      "2021-02-23 10:12:30.987687 - 65 done.\n"
     ]
    },
    {
     "name": "stdout",
     "output_type": "stream",
     "text": [
      "No structure cible for OVQ-EAC\n"
     ]
    },
    {
     "name": "stdout",
     "output_type": "stream",
     "text": [
      "No structure cible for OVQ-REL\n"
     ]
    },
    {
     "name": "stdout",
     "output_type": "stream",
     "text": [
      "2021-02-23 10:12:55.839124 - 66 done.\n"
     ]
    },
    {
     "name": "stdout",
     "output_type": "stream",
     "text": [
      "No structure cible for OVQ-EAC\n"
     ]
    },
    {
     "name": "stdout",
     "output_type": "stream",
     "text": [
      "No structure cible for OVQ-REL\n"
     ]
    },
    {
     "name": "stdout",
     "output_type": "stream",
     "text": [
      "2021-02-23 10:13:22.949498 - 67 done.\n"
     ]
    },
    {
     "name": "stdout",
     "output_type": "stream",
     "text": [
      "No structure cible for OVQ-EAC\n"
     ]
    },
    {
     "name": "stdout",
     "output_type": "stream",
     "text": [
      "No structure cible for OVQ-REL\n"
     ]
    },
    {
     "name": "stdout",
     "output_type": "stream",
     "text": [
      "2021-02-23 10:13:54.341827 - 68 done.\n"
     ]
    },
    {
     "name": "stdout",
     "output_type": "stream",
     "text": [
      "No structure cible for OVQ-EAC\n"
     ]
    },
    {
     "name": "stdout",
     "output_type": "stream",
     "text": [
      "No structure cible for OVQ-REL\n"
     ]
    },
    {
     "name": "stdout",
     "output_type": "stream",
     "text": [
      "2021-02-23 10:14:20.452727 - 69 done.\n"
     ]
    },
    {
     "name": "stdout",
     "output_type": "stream",
     "text": [
      "No structure cible for OVQ-EAC\n"
     ]
    },
    {
     "name": "stdout",
     "output_type": "stream",
     "text": [
      "No structure cible for OVQ-REL\n"
     ]
    },
    {
     "name": "stdout",
     "output_type": "stream",
     "text": [
      "2021-02-23 10:14:45.703022 - 70 done.\n"
     ]
    },
    {
     "name": "stdout",
     "output_type": "stream",
     "text": [
      "No structure cible for OVQ-EAC\n"
     ]
    },
    {
     "name": "stdout",
     "output_type": "stream",
     "text": [
      "No structure cible for OVQ-REL\n"
     ]
    },
    {
     "name": "stdout",
     "output_type": "stream",
     "text": [
      "2021-02-23 10:15:13.335734 - 71 done.\n"
     ]
    },
    {
     "name": "stdout",
     "output_type": "stream",
     "text": [
      "No structure cible for OVQ-EAC\n"
     ]
    },
    {
     "name": "stdout",
     "output_type": "stream",
     "text": [
      "No structure cible for OVQ-REL\n"
     ]
    },
    {
     "name": "stdout",
     "output_type": "stream",
     "text": [
      "2021-02-23 10:15:43.252835 - 72 done.\n"
     ]
    },
    {
     "name": "stdout",
     "output_type": "stream",
     "text": [
      "No structure cible for OVQ-EAC\n"
     ]
    },
    {
     "name": "stdout",
     "output_type": "stream",
     "text": [
      "No structure cible for OVQ-REL\n"
     ]
    },
    {
     "name": "stdout",
     "output_type": "stream",
     "text": [
      "2021-02-23 10:16:11.409454 - 73 done.\n"
     ]
    },
    {
     "name": "stdout",
     "output_type": "stream",
     "text": [
      "No structure cible for OVQ-EAC\n"
     ]
    },
    {
     "name": "stdout",
     "output_type": "stream",
     "text": [
      "No structure cible for OVQ-REL\n"
     ]
    },
    {
     "name": "stdout",
     "output_type": "stream",
     "text": [
      "2021-02-23 10:16:39.410570 - 74 done.\n"
     ]
    },
    {
     "name": "stdout",
     "output_type": "stream",
     "text": [
      "No structure cible for OVQ-EAC\n"
     ]
    },
    {
     "name": "stdout",
     "output_type": "stream",
     "text": [
      "No structure cible for OVQ-REL\n"
     ]
    },
    {
     "name": "stdout",
     "output_type": "stream",
     "text": [
      "2021-02-23 10:17:05.708808 - 75 done.\n"
     ]
    },
    {
     "name": "stdout",
     "output_type": "stream",
     "text": [
      "No structure cible for OVQ-EAC\n"
     ]
    },
    {
     "name": "stdout",
     "output_type": "stream",
     "text": [
      "No structure cible for OVQ-REL\n"
     ]
    },
    {
     "name": "stdout",
     "output_type": "stream",
     "text": [
      "2021-02-23 10:17:34.303338 - 76 done.\n"
     ]
    },
    {
     "name": "stdout",
     "output_type": "stream",
     "text": [
      "No structure cible for OVQ-EAC\n"
     ]
    },
    {
     "name": "stdout",
     "output_type": "stream",
     "text": [
      "No structure cible for OVQ-REL\n"
     ]
    },
    {
     "name": "stdout",
     "output_type": "stream",
     "text": [
      "2021-02-23 10:18:00.601258 - 77 done.\n"
     ]
    },
    {
     "name": "stdout",
     "output_type": "stream",
     "text": [
      "No structure cible for OVQ-EAC\n"
     ]
    },
    {
     "name": "stdout",
     "output_type": "stream",
     "text": [
      "No structure cible for OVQ-REL\n"
     ]
    },
    {
     "name": "stdout",
     "output_type": "stream",
     "text": [
      "2021-02-23 10:18:27.407762 - 78 done.\n"
     ]
    },
    {
     "name": "stdout",
     "output_type": "stream",
     "text": [
      "No structure cible for OVQ-EAC\n"
     ]
    },
    {
     "name": "stdout",
     "output_type": "stream",
     "text": [
      "No structure cible for OVQ-REL\n"
     ]
    },
    {
     "name": "stdout",
     "output_type": "stream",
     "text": [
      "2021-02-23 10:19:00.213226 - 79 done.\n"
     ]
    },
    {
     "name": "stdout",
     "output_type": "stream",
     "text": [
      "No structure cible for OVQ-EAC\n"
     ]
    },
    {
     "name": "stdout",
     "output_type": "stream",
     "text": [
      "No structure cible for OVQ-REL\n"
     ]
    },
    {
     "name": "stdout",
     "output_type": "stream",
     "text": [
      "2021-02-23 10:19:29.104968 - 80 done.\n"
     ]
    },
    {
     "name": "stdout",
     "output_type": "stream",
     "text": [
      "No structure cible for OVQ-EAC\n"
     ]
    },
    {
     "name": "stdout",
     "output_type": "stream",
     "text": [
      "No structure cible for OVQ-REL\n"
     ]
    },
    {
     "name": "stdout",
     "output_type": "stream",
     "text": [
      "2021-02-23 10:19:55.059192 - 81 done.\n"
     ]
    },
    {
     "name": "stdout",
     "output_type": "stream",
     "text": [
      "No structure cible for OVQ-EAC\n"
     ]
    },
    {
     "name": "stdout",
     "output_type": "stream",
     "text": [
      "No structure cible for OVQ-REL\n"
     ]
    },
    {
     "name": "stdout",
     "output_type": "stream",
     "text": [
      "2021-02-23 10:20:22.358923 - 82 done.\n"
     ]
    },
    {
     "name": "stdout",
     "output_type": "stream",
     "text": [
      "No structure cible for OVQ-EAC\n"
     ]
    },
    {
     "name": "stdout",
     "output_type": "stream",
     "text": [
      "No structure cible for OVQ-REL\n"
     ]
    },
    {
     "name": "stdout",
     "output_type": "stream",
     "text": [
      "2021-02-23 10:20:49.358436 - 83 done.\n"
     ]
    },
    {
     "name": "stdout",
     "output_type": "stream",
     "text": [
      "No structure cible for OVQ-EAC\n"
     ]
    },
    {
     "name": "stdout",
     "output_type": "stream",
     "text": [
      "No structure cible for OVQ-REL\n"
     ]
    },
    {
     "name": "stdout",
     "output_type": "stream",
     "text": [
      "2021-02-23 10:21:16.515288 - 84 done.\n"
     ]
    },
    {
     "name": "stdout",
     "output_type": "stream",
     "text": [
      "No structure cible for OVQ-EAC\n"
     ]
    },
    {
     "name": "stdout",
     "output_type": "stream",
     "text": [
      "No structure cible for OVQ-REL\n"
     ]
    },
    {
     "name": "stdout",
     "output_type": "stream",
     "text": [
      "2021-02-23 10:21:44.766330 - 85 done.\n"
     ]
    },
    {
     "name": "stdout",
     "output_type": "stream",
     "text": [
      "No structure cible for OVQ-EAC\n"
     ]
    },
    {
     "name": "stdout",
     "output_type": "stream",
     "text": [
      "No structure cible for OVQ-REL\n"
     ]
    },
    {
     "name": "stdout",
     "output_type": "stream",
     "text": [
      "2021-02-23 10:22:13.287710 - 86 done.\n"
     ]
    },
    {
     "name": "stdout",
     "output_type": "stream",
     "text": [
      "No structure cible for OVQ-EAC\n"
     ]
    },
    {
     "name": "stdout",
     "output_type": "stream",
     "text": [
      "No structure cible for OVQ-REL\n"
     ]
    },
    {
     "name": "stdout",
     "output_type": "stream",
     "text": [
      "2021-02-23 10:22:41.423706 - 87 done.\n"
     ]
    },
    {
     "name": "stdout",
     "output_type": "stream",
     "text": [
      "No structure cible for OVQ-EAC\n"
     ]
    },
    {
     "name": "stdout",
     "output_type": "stream",
     "text": [
      "No structure cible for OVQ-REL\n"
     ]
    },
    {
     "name": "stdout",
     "output_type": "stream",
     "text": [
      "2021-02-23 10:23:08.723554 - 88 done.\n"
     ]
    },
    {
     "name": "stdout",
     "output_type": "stream",
     "text": [
      "No structure cible for OVQ-EAC\n"
     ]
    },
    {
     "name": "stdout",
     "output_type": "stream",
     "text": [
      "No structure cible for OVQ-REL\n"
     ]
    },
    {
     "name": "stdout",
     "output_type": "stream",
     "text": [
      "2021-02-23 10:23:35.987940 - 89 done.\n"
     ]
    },
    {
     "name": "stdout",
     "output_type": "stream",
     "text": [
      "No structure cible for OVQ-EAC\n"
     ]
    },
    {
     "name": "stdout",
     "output_type": "stream",
     "text": [
      "No structure cible for OVQ-REL\n"
     ]
    },
    {
     "name": "stdout",
     "output_type": "stream",
     "text": [
      "2021-02-23 10:24:07.521825 - 90 done.\n"
     ]
    },
    {
     "name": "stdout",
     "output_type": "stream",
     "text": [
      "No structure cible for OVQ-EAC\n"
     ]
    },
    {
     "name": "stdout",
     "output_type": "stream",
     "text": [
      "No structure cible for OVQ-REL\n"
     ]
    },
    {
     "name": "stdout",
     "output_type": "stream",
     "text": [
      "2021-02-23 10:24:33.523265 - 91 done.\n"
     ]
    },
    {
     "name": "stdout",
     "output_type": "stream",
     "text": [
      "No structure cible for OVQ-EAC\n"
     ]
    },
    {
     "name": "stdout",
     "output_type": "stream",
     "text": [
      "No structure cible for OVQ-REL\n"
     ]
    },
    {
     "name": "stdout",
     "output_type": "stream",
     "text": [
      "2021-02-23 10:24:59.574084 - 92 done.\n"
     ]
    },
    {
     "name": "stdout",
     "output_type": "stream",
     "text": [
      "No structure cible for OVQ-EAC\n"
     ]
    },
    {
     "name": "stdout",
     "output_type": "stream",
     "text": [
      "No structure cible for OVQ-REL\n"
     ]
    },
    {
     "name": "stdout",
     "output_type": "stream",
     "text": [
      "2021-02-23 10:25:25.025017 - 93 done.\n"
     ]
    },
    {
     "name": "stdout",
     "output_type": "stream",
     "text": [
      "No structure cible for OVQ-EAC\n"
     ]
    },
    {
     "name": "stdout",
     "output_type": "stream",
     "text": [
      "No structure cible for OVQ-REL\n"
     ]
    },
    {
     "name": "stdout",
     "output_type": "stream",
     "text": [
      "2021-02-23 10:25:50.479596 - 94 done.\n"
     ]
    },
    {
     "name": "stdout",
     "output_type": "stream",
     "text": [
      "No structure cible for OVQ-EAC\n"
     ]
    },
    {
     "name": "stdout",
     "output_type": "stream",
     "text": [
      "No structure cible for OVQ-REL\n"
     ]
    },
    {
     "name": "stdout",
     "output_type": "stream",
     "text": [
      "2021-02-23 10:26:16.727885 - 95 done.\n"
     ]
    },
    {
     "name": "stdout",
     "output_type": "stream",
     "text": [
      "No structure cible for OVQ-EAC\n"
     ]
    },
    {
     "name": "stdout",
     "output_type": "stream",
     "text": [
      "No structure cible for OVQ-REL\n"
     ]
    },
    {
     "name": "stdout",
     "output_type": "stream",
     "text": [
      "2021-02-23 10:26:44.481166 - 971 done.\n"
     ]
    },
    {
     "name": "stdout",
     "output_type": "stream",
     "text": [
      "No structure cible for OVQ-EAC\n"
     ]
    },
    {
     "name": "stdout",
     "output_type": "stream",
     "text": [
      "No structure cible for OVQ-REL\n"
     ]
    },
    {
     "name": "stdout",
     "output_type": "stream",
     "text": [
      "2021-02-23 10:27:13.326188 - 972 done.\n"
     ]
    },
    {
     "name": "stdout",
     "output_type": "stream",
     "text": [
      "No structure cible for OVQ-EAC\n"
     ]
    },
    {
     "name": "stdout",
     "output_type": "stream",
     "text": [
      "No structure cible for OVQ-REL\n"
     ]
    },
    {
     "name": "stdout",
     "output_type": "stream",
     "text": [
      "2021-02-23 10:27:40.983377 - 973 done.\n"
     ]
    },
    {
     "name": "stdout",
     "output_type": "stream",
     "text": [
      "No structure cible for OVQ-EAC\n"
     ]
    },
    {
     "name": "stdout",
     "output_type": "stream",
     "text": [
      "No structure cible for OVQ-REL\n"
     ]
    },
    {
     "name": "stdout",
     "output_type": "stream",
     "text": [
      "2021-02-23 10:28:09.687422 - 974 done.\n"
     ]
    },
    {
     "name": "stdout",
     "output_type": "stream",
     "text": [
      "No structure cible for OVQ-EAC\n"
     ]
    },
    {
     "name": "stdout",
     "output_type": "stream",
     "text": [
      "No structure cible for OVQ-REL\n"
     ]
    },
    {
     "name": "stdout",
     "output_type": "stream",
     "text": [
      "2021-02-23 10:28:35.829055 - 976 done.\n",
      "CPU times: user 42min 2s, sys: 36.5 s, total: 42min 38s\n",
      "Wall time: 46min 27s\n"
>>>>>>> d9582f3598363b8a065ac678162f16ae66b3ac01:report-pdf.ipynb
     ]
    }
   ],
   "source": [
    "%%time\n",
    "\n",
    "mkdir_ifnotexist(os.path.join(reports_dir_path, 'pdf'))\n",
    "mkdir_ifnotexist(os.path.join(reports_dir_path, 'pdf', 'par_departement'))\n",
    "\n",
    "for dep in dep_list :\n",
    "    \n",
    "    pdf = PDF()\n",
    "    pdf.alias_nb_pages()\n",
    "    pdf.add_page()\n",
    "\n",
    "    #Logos\n",
    "    pdf.image(os.path.join(img_dir_path, 'gouv.png'), 10, 8, 125)\n",
    "    \n",
    "    # Arial bold 15\n",
    "    pdf.set_font('Arial', 'B', 28)\n",
    "    # Move to the right\n",
    "    pdf.cell(50)\n",
    "    pdf.ln(100)\n",
    "    \n",
    "    # Title\n",
    "    pdf.cell(10)\n",
    "    pdf.cell(50, 10, 'BAROMÈTRE DES RÉSULTATS DE', 0, 1, 'A')\n",
    "    pdf.ln(10)\n",
    "    pdf.cell(10)\n",
    "    pdf.cell(50, 10, \"L'ACTION PUBLIQUE\", 0, 1, 'A')\n",
    "    pdf.ln(10)\n",
    "    pdf.cell(60)\n",
    "\n",
    "    pdf.set_font('Arial', 'I', 20)\n",
    "    pdf.ln(10)\n",
    "    pdf.cell(10)\n",
    "    pdf.cell(50, 10, 'Présentation des résultats pour le département :', 0, 1, 'A')\n",
    "    pdf.ln(10)\n",
    "    pdf.cell(10)\n",
    "    pdf.cell(50, 10, dep + ' - ' + get_dep_infos(dep)['dep_name'], 0, 1, 'A')\n",
    "    pdf.ln(70)\n",
    "\n",
    "    pdf.set_font('Arial', 'I', 8)\n",
    "\n",
    "    pdf.cell(10)\n",
    "    pdf.cell(50, 10, \"Données issues du baromètre des résultats consultable sur https://www.gouvernement.fr/les-actions-du-gouvernement\", 0, 1, 'A')\n",
    "    \n",
    "    #Indicateurs\n",
    "    \n",
    "    pdf.set_left_margin(14)\n",
    "    pdf.set_right_margin(14)\n",
    "    \n",
    "    #subtitle_header = find_last_update('aides')\n",
    "    \n",
    "    for thematique_dict in structure_families_data :\n",
    "    \n",
    "        thematique = thematique_dict['nom_ovq']\n",
    "        \n",
    "        #Downloading thematique image\n",
    "        thematique_img_url = os.path.join(base_folder_path, thematique_dict['odm_image'][1:])\n",
    "        thematique_img_local_path = './img/' + thematique_img_url.split('/')[-1]\n",
    "        r = requests.get(thematique_img_url)\n",
    "        with open(thematique_img_local_path, 'wb') as f:\n",
    "            f.write(r.content)\n",
    "        \n",
    "        #Section page\n",
    "        title_header = ''\n",
    "        pdf.add_page()\n",
    "        pdf.image(thematique_img_local_path, x=0, y=70, w=210)\n",
    "        pdf.ln(190)\n",
    "        pdf.set_font('Arial', 'B', 25)\n",
    "        pdf.cell(182, 6, thematique.upper())\n",
    "        \n",
    "        title_header = thematique.upper()\n",
    "\n",
    "        id_ovq_list = thematique_dict['id_ovq']\n",
    "        for id_ovq in id_ovq_list :\n",
    "\n",
    "            try :\n",
    "                ovq_dict = get_ovq_structure_cible(id_ovq, structure_cible_data)\n",
    "            except :\n",
    "                print('No structure cible for {}'.format(id_ovq))\n",
    "                ovq_dict = None\n",
    "            \n",
    "            if ovq_dict is not None :\n",
    "                pdf.add_page()\n",
    "                pdf.ln(3)\n",
    "                nom_ovq = ovq_dict['nom_ovq'].replace('’', \"'\").replace('œ','oe')\n",
    "                ovq_text_url = os.path.join(base_folder_path, ovq_dict['odm_text'][1:])\n",
    "                r = requests.get(ovq_text_url)\n",
    "                ovq_text = r.text.replace('’', \"'\").replace('œ','oe').replace('…','...').replace('–','-')\n",
    "                ovq_text = clean_description(ovq_text)\n",
    "                \n",
    "                #Display OVQ title\n",
    "                pdf.set_font('Arial', 'B', 16)\n",
    "                pdf.multi_cell(182, 6, nom_ovq, align='L')\n",
    "                pdf.ln(3)\n",
    "                #Display OVQ description\n",
    "                pdf.set_font('Arial', '', 10)\n",
    "                pdf.multi_cell(182, 5, ovq_text, align='J')\n",
    "                pdf.ln(3)\n",
    "\n",
    "                ovq_id_indicateur_list = [ind_dict['id_indicateur_fr'] for ind_dict in ovq_dict['indicateurs']]\n",
    "\n",
    "                add_page_for_ind = False\n",
    "                for id_indicateur in ovq_id_indicateur_list :\n",
    "                    if add_page_for_ind == True :\n",
    "                        pdf.add_page()\n",
    "                    ind_data = get_dep_indicateur_synthese_data(dep, id_indicateur, ovq_synthese_data)\n",
    "                    ind_struc = get_indicateur_structure_cible(id_indicateur, structure_cible_data)\n",
    "\n",
    "                    pdf = insert_indicateur(pdf, dep, ind_data, ind_struc)\n",
    "                    add_page_for_ind = True\n",
    "    \n",
    "    dep_name = get_dep_infos(dep)['dep_name']\n",
    "    pdf.output(os.path.join(reports_dir_path, 'pdf', 'par_departement', 'Baromètre_résultats_'+dep_name+'.pdf'), 'F')\n",
    "    \n",
    "    print(str(datetime.datetime.today()) + ' - ' + dep + '-' + dep_name + ' done.')"
   ]
  },
  {
   "cell_type": "markdown",
   "id": "smaller-instruction",
   "metadata": {
    "papermill": {
     "duration": 0.135073,
     "end_time": "2021-02-23T10:28:36.138807",
     "exception": false,
     "start_time": "2021-02-23T10:28:36.003734",
     "status": "completed"
    },
    "tags": []
   },
   "source": [
    "## Compress to ZIP"
   ]
  },
  {
   "cell_type": "raw",
   "id": "opened-antenna",
   "metadata": {
    "papermill": {
     "duration": 0.143449,
     "end_time": "2021-02-23T10:28:36.419823",
     "exception": false,
     "start_time": "2021-02-23T10:28:36.276374",
     "status": "completed"
    },
    "tags": []
   },
   "source": [
    "from zipfile import ZipFile"
   ]
  },
  {
   "cell_type": "raw",
   "id": "strange-culture",
   "metadata": {
    "papermill": {
     "duration": 0.143571,
     "end_time": "2021-02-23T10:28:36.711881",
     "exception": false,
     "start_time": "2021-02-23T10:28:36.568310",
     "status": "completed"
    },
    "tags": []
   },
   "source": [
    "today_date = str(datetime.datetime.today())[:10]\n",
    "today_date"
   ]
  },
  {
   "cell_type": "raw",
   "id": "hollow-sweden",
   "metadata": {
    "papermill": {
     "duration": 0.14191,
     "end_time": "2021-02-23T10:28:36.994417",
     "exception": false,
     "start_time": "2021-02-23T10:28:36.852507",
     "status": "completed"
    },
    "tags": []
   },
   "source": [
    "my_zip_date = ZipFile(os.path.join(reports_dir_path, 'Baromètre_résultats_{}.zip'.format(today_date)), 'w')\n",
    "my_zip_latest = ZipFile(os.path.join(reports_dir_path, 'Baromètre_résultats_latest.zip'), 'w')\n",
    "\n",
    "for filename in os.listdir(os.path.join(reports_dir_path, 'pdf')) :\n",
    "    if filename.endswith('.pdf') :\n",
    "        my_zip_date.write(os.path.join(reports_dir_path, 'pdf', filename))\n",
    "        my_zip_latest.write(os.path.join(reports_dir_path, 'pdf', filename))\n",
    "        \n",
    "my_zip_date.close()\n",
    "my_zip_latest.close()"
   ]
  }
 ],
 "metadata": {
  "kernelspec": {
   "display_name": "Python 3",
   "language": "python",
   "name": "python3"
  },
  "language_info": {
   "codemirror_mode": {
    "name": "ipython",
    "version": 3
   },
   "file_extension": ".py",
   "mimetype": "text/x-python",
   "name": "python",
   "nbconvert_exporter": "python",
   "pygments_lexer": "ipython3",
   "version": "3.8.7"
  },
  "papermill": {
   "default_parameters": {},
   "duration": 3316.616398,
   "end_time": "2021-02-23T10:28:37.544624",
   "environment_variables": {},
   "exception": null,
   "input_path": "report-pdf.ipynb",
   "output_path": "report-pdf.ipynb",
   "parameters": {},
   "start_time": "2021-02-23T09:33:20.928226",
   "version": "2.3.2"
  }
 },
 "nbformat": 4,
 "nbformat_minor": 5
}