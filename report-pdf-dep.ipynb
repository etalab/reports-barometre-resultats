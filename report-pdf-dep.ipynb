{
 "cells": [
  {
   "cell_type": "markdown",
   "id": "settled-serial",
   "metadata": {
    "papermill": {
     "duration": 0.027196,
     "end_time": "2021-07-01T00:39:46.125644",
     "exception": false,
     "start_time": "2021-07-01T00:39:46.098448",
     "status": "completed"
    },
    "tags": []
   },
   "source": [
    "# Baromètre des résultats - PDF reports"
   ]
  },
  {
   "cell_type": "markdown",
   "id": "dedicated-brunswick",
   "metadata": {
    "papermill": {
     "duration": 0.02453,
     "end_time": "2021-07-01T00:39:46.177573",
     "exception": false,
     "start_time": "2021-07-01T00:39:46.153043",
     "status": "completed"
    },
    "tags": []
   },
   "source": [
    "## Imports"
   ]
  },
  {
   "cell_type": "code",
   "execution_count": 1,
   "id": "third-browser",
   "metadata": {
    "papermill": {
     "duration": 0.450179,
     "end_time": "2021-07-01T00:39:46.651599",
     "exception": false,
     "start_time": "2021-07-01T00:39:46.201420",
     "status": "completed"
    },
    "tags": []
   },
   "outputs": [],
   "source": [
    "import json\n",
    "import os\n",
    "import datetime\n",
    "import re\n",
    "\n",
    "import requests\n",
    "import pandas as pd\n",
    "\n",
    "import plotly.graph_objects as go\n",
    "import plotly.express as px\n",
    "\n",
    "from fpdf import FPDF"
   ]
  },
  {
   "cell_type": "markdown",
   "id": "vertical-township",
   "metadata": {
    "papermill": {
     "duration": 0.022815,
     "end_time": "2021-07-01T00:39:46.698173",
     "exception": false,
     "start_time": "2021-07-01T00:39:46.675358",
     "status": "completed"
    },
    "tags": []
   },
   "source": [
    "## Parameters"
   ]
  },
  {
   "cell_type": "code",
   "execution_count": 2,
   "id": "grand-seller",
   "metadata": {
    "papermill": {
     "duration": 0.031097,
     "end_time": "2021-07-01T00:39:46.751696",
     "exception": false,
     "start_time": "2021-07-01T00:39:46.720599",
     "status": "completed"
    },
    "tags": []
   },
   "outputs": [],
   "source": [
    "base_folder_path = 'https://raw.githubusercontent.com/etalab/barometre-resultats/master/frontend/static/'\n",
    "\n",
    "ovq_data_folder_path = os.path.join(base_folder_path, 'datasets', 'ovq-data')\n",
    "\n",
    "ovq_synthese_data_path = os.path.join(ovq_data_folder_path, 'prod', 'par_territoire', 'territoire-departemental-global-light.json')\n",
    "ovq_detail_data_folder_path = os.path.join(ovq_data_folder_path, 'prod', 'par_thematique')\n",
    "ovq_structure_cible_path = os.path.join(ovq_data_folder_path, 'prod', 'structure', 'structure-cible.json')\n",
    "ovq_structure_families_path = os.path.join(ovq_data_folder_path, 'prod', 'structure', 'structure-families.json')\n",
    "\n",
    "dep_taxo_url = os.path.join(base_folder_path, 'datasets', 'prod', 'taxonomies', 'departements.json')\n",
    "reg_taxo_url = os.path.join(base_folder_path, 'datasets', 'prod', 'taxonomies', 'regions.json')\n",
    "\n",
    "img_dir_path = './img/'\n",
    "reports_dir_path = './reports/'"
   ]
  },
  {
   "cell_type": "markdown",
   "id": "joint-virtue",
   "metadata": {
    "papermill": {
     "duration": 0.022176,
     "end_time": "2021-07-01T00:39:46.795930",
     "exception": false,
     "start_time": "2021-07-01T00:39:46.773754",
     "status": "completed"
    },
    "tags": []
   },
   "source": [
    "## Functions"
   ]
  },
  {
   "cell_type": "code",
   "execution_count": 3,
   "id": "premier-fleet",
   "metadata": {
    "papermill": {
     "duration": 0.028033,
     "end_time": "2021-07-01T00:39:46.846173",
     "exception": false,
     "start_time": "2021-07-01T00:39:46.818140",
     "status": "completed"
    },
    "tags": []
   },
   "outputs": [],
   "source": [
    "def mkdir_ifnotexist(path) :\n",
    "    if not os.path.isdir(path) :\n",
    "        os.mkdir(path)"
   ]
  },
  {
   "cell_type": "code",
   "execution_count": 4,
   "id": "effective-combination",
   "metadata": {
    "papermill": {
     "duration": 0.437853,
     "end_time": "2021-07-01T00:39:47.306816",
     "exception": false,
     "start_time": "2021-07-01T00:39:46.868963",
     "status": "completed"
    },
    "tags": []
   },
   "outputs": [],
   "source": [
    "#Importing taxonomies data to make a function to get all infos on a given department\n",
    "r = requests.get(dep_taxo_url)\n",
    "dep_dict_list = json.loads(r.content)\n",
    "\n",
    "r = requests.get(reg_taxo_url)\n",
    "reg_dict_list = json.loads(r.content)\n",
    "\n",
    "def get_dep_infos(dep, dep_dict_list=dep_dict_list, reg_dict_list=reg_dict_list) :\n",
    "        \n",
    "    dep_dict = [dict_ for dict_ in dep_dict_list if dict_['dep'] == dep][0]\n",
    "    dep_name = dep_dict['libelle']\n",
    "    reg = dep_dict['reg']\n",
    "    \n",
    "    reg_dict = [dict_ for dict_ in reg_dict_list if dict_['reg'] == reg][0]\n",
    "    reg_name = reg_dict['libelle']\n",
    "    \n",
    "    res = dict(dep=dep,\n",
    "               dep_name=dep_name,\n",
    "               reg=reg,\n",
    "               reg_name=reg_name\n",
    "              )\n",
    "    \n",
    "    return res"
   ]
  },
  {
   "cell_type": "code",
   "execution_count": 5,
   "id": "minimal-gravity",
   "metadata": {
    "papermill": {
     "duration": 0.033419,
     "end_time": "2021-07-01T00:39:47.366225",
     "exception": false,
     "start_time": "2021-07-01T00:39:47.332806",
     "status": "completed"
    },
    "tags": []
   },
   "outputs": [],
   "source": [
    "def get_dep_synthese_data(dep, ovq_synthese_data) :\n",
    "    for dep_dict in ovq_synthese_data :\n",
    "        if dep_dict['dep'] == dep :\n",
    "            res = dep_dict\n",
    "            break\n",
    "    return res"
   ]
  },
  {
   "cell_type": "code",
   "execution_count": 6,
   "id": "peaceful-motor",
   "metadata": {
    "papermill": {
     "duration": 0.030442,
     "end_time": "2021-07-01T00:39:47.420610",
     "exception": false,
     "start_time": "2021-07-01T00:39:47.390168",
     "status": "completed"
    },
    "tags": []
   },
   "outputs": [],
   "source": [
    "def get_dep_indicateur_synthese_data(dep, id_indicateur, ovq_synthese_data) :\n",
    "    dep_dict = get_dep_synthese_data(dep, ovq_synthese_data)\n",
    "    \n",
    "    for ovq_dict in dep_dict['ovq'] :\n",
    "        for ind_dict in ovq_dict['indicateurs'] :\n",
    "            if id_indicateur in ind_dict.keys() :\n",
    "                res = ind_dict[id_indicateur][0]\n",
    "                break\n",
    "    return res"
   ]
  },
  {
   "cell_type": "code",
   "execution_count": 7,
   "id": "criminal-margin",
   "metadata": {
    "papermill": {
     "duration": 0.029124,
     "end_time": "2021-07-01T00:39:47.472358",
     "exception": false,
     "start_time": "2021-07-01T00:39:47.443234",
     "status": "completed"
    },
    "tags": []
   },
   "outputs": [],
   "source": [
    "def get_indicateur_structure_cible(id_indicateur, structure_cible_data) :\n",
    "    for ovq_dict in structure_cible_data :\n",
    "        for ind_dict in ovq_dict['indicateurs'] :\n",
    "            if ind_dict['id_indicateur_fr'] == id_indicateur :\n",
    "                res = ind_dict\n",
    "                break\n",
    "    return res"
   ]
  },
  {
   "cell_type": "code",
   "execution_count": 8,
   "id": "found-directory",
   "metadata": {
    "papermill": {
     "duration": 0.028018,
     "end_time": "2021-07-01T00:39:47.522244",
     "exception": false,
     "start_time": "2021-07-01T00:39:47.494226",
     "status": "completed"
    },
    "tags": []
   },
   "outputs": [],
   "source": [
    "def get_id_ovq_from_id_indicateur(id_indicateur, structure_cible_data) :\n",
    "    for ovq_dict in structure_cible_data :\n",
    "        for ind_dict in ovq_dict['indicateurs'] :\n",
    "            if ind_dict['id_indicateur_fr'] == id_indicateur :\n",
    "                id_ovq = ovq_dict['id_ovq']\n",
    "                break\n",
    "    return id_ovq"
   ]
  },
  {
   "cell_type": "code",
   "execution_count": 9,
   "id": "detailed-theme",
   "metadata": {
    "papermill": {
     "duration": 0.02853,
     "end_time": "2021-07-01T00:39:47.572630",
     "exception": false,
     "start_time": "2021-07-01T00:39:47.544100",
     "status": "completed"
    },
    "tags": []
   },
   "outputs": [],
   "source": [
    "def get_ovq_structure_cible(id_ovq, structure_cible_data) :\n",
    "    for ovq_dict in structure_cible_data :\n",
    "        if ovq_dict['id_ovq'] == id_ovq :\n",
    "            res = ovq_dict\n",
    "            break\n",
    "    return res"
   ]
  },
  {
   "cell_type": "code",
   "execution_count": 10,
   "id": "contemporary-professor",
   "metadata": {
    "papermill": {
     "duration": 0.035266,
     "end_time": "2021-07-01T00:39:47.630188",
     "exception": false,
     "start_time": "2021-07-01T00:39:47.594922",
     "status": "completed"
    },
    "tags": []
   },
   "outputs": [],
   "source": [
    "def get_detail_data(id_indicateur, dep, level, structure_cible_data, base_folder_path) :\n",
    "    #level can be departemental, regional or national\n",
    "    \n",
    "    id_ovq = get_id_ovq_from_id_indicateur(id_indicateur, structure_cible_data)\n",
    "    ovq_struc = get_ovq_structure_cible(id_ovq, structure_cible_data)\n",
    "    \n",
    "    for source_dict in ovq_struc['odm_sources_ids'] :\n",
    "        if source_dict['odm_source_level'] == level :\n",
    "            source_url = source_dict['odm_source_file']\n",
    "            \n",
    "    full_source_url = os.path.join(base_folder_path, source_url[1:])\n",
    "    \n",
    "    r = requests.get(full_source_url)\n",
    "    data = json.loads(r.content)\n",
    "    \n",
    "    if level == 'departemental' :\n",
    "        for dep_dict in data :\n",
    "            if dep_dict['dep'] == dep :\n",
    "                res = dep_dict[id_indicateur]\n",
    "                break\n",
    "                \n",
    "    elif level == 'regional' :\n",
    "        reg = get_dep_infos(dep)['reg']\n",
    "        for reg_dict in data :\n",
    "            if reg_dict['reg'] == reg :\n",
    "                res = reg_dict[id_indicateur]\n",
    "                break\n",
    "                \n",
    "    elif level == 'national' :\n",
    "        res = data[0][id_indicateur]\n",
    "    \n",
    "    return res"
   ]
  },
  {
   "cell_type": "code",
   "execution_count": 11,
   "id": "instrumental-monaco",
   "metadata": {
    "papermill": {
     "duration": 0.031525,
     "end_time": "2021-07-01T00:39:47.684475",
     "exception": false,
     "start_time": "2021-07-01T00:39:47.652950",
     "status": "completed"
    },
    "tags": []
   },
   "outputs": [],
   "source": [
    "def make_pct_bullet_chart(pct, bar_color='#3D49A5', bg_color='#BBBFDF') :\n",
    "    \n",
    "    if pct < 0 : #To improve if inverted bullet chart is possible with plotly\n",
    "        bar_color = '#ED782F'\n",
    "        bg_color = '#ED782F'\n",
    "    \n",
    "    rounded_pct = round(pct)\n",
    "    \n",
    "    fig = go.Figure(go.Indicator(\n",
    "        mode = \"gauge\",\n",
    "        gauge = {'shape': \"bullet\", 'axis': {'visible':False, 'range': [0, 100]}, 'bgcolor':bg_color, 'bordercolor':'white', 'bar':{'thickness':1, 'color':bar_color}},\n",
    "        value = rounded_pct,\n",
    "        number = {'suffix':'%'},\n",
    "        domain = {'x': [0, 1], 'y': [0, 1]}))\n",
    "    \n",
    "    fig.update_layout(height = 400, width=2400, paper_bgcolor='rgba(0,0,0,0)', plot_bgcolor='rgba(0,0,0,0)')\n",
    "\n",
    "    fig.add_annotation(dict(font=dict(color='white',size=100),\n",
    "                                            x=0.05,\n",
    "                                            y=0.5,\n",
    "                                            showarrow=False,\n",
    "                                            text=str(rounded_pct)+'%',\n",
    "                                            textangle=0,\n",
    "                                            xanchor='left',\n",
    "                                            xref=\"paper\",\n",
    "                                            yref=\"paper\"))\n",
    "\n",
    "    return fig"
   ]
  },
  {
   "cell_type": "code",
   "execution_count": 12,
   "id": "fatal-uganda",
   "metadata": {
    "papermill": {
     "duration": 0.02972,
     "end_time": "2021-07-01T00:39:47.736181",
     "exception": false,
     "start_time": "2021-07-01T00:39:47.706461",
     "status": "completed"
    },
    "tags": []
   },
   "outputs": [],
   "source": [
    "months_fr_dict = {\n",
    "    '01':'janvier',\n",
    "    '02':'février',\n",
    "    '03':'mars',\n",
    "    '04':'avril',\n",
    "    '05':'mai',\n",
    "    '06':'juin',\n",
    "    '07':'juillet',\n",
    "    '08':'août',\n",
    "    '09':'septembre',\n",
    "    '10':'octobre',\n",
    "    '11':'novembre',\n",
    "    '12':'décembre'\n",
    "}\n",
    "\n",
    "# yearmonth should be in '2020-01' format\n",
    "\n",
    "def yearmonth_to_fr(yearmonth) :\n",
    "    month = yearmonth[-2:]\n",
    "    year = yearmonth[:4]\n",
    "    \n",
    "    return months_fr_dict[month] + ' ' + year"
   ]
  },
  {
   "cell_type": "code",
   "execution_count": 13,
   "id": "offensive-pasta",
   "metadata": {
    "papermill": {
     "duration": 0.029345,
     "end_time": "2021-07-01T00:39:47.787866",
     "exception": false,
     "start_time": "2021-07-01T00:39:47.758521",
     "status": "completed"
    },
    "tags": []
   },
   "outputs": [],
   "source": [
    "def reformat_number(number) :\n",
    "    return '{:,}'.format(number).replace(',',' ').replace('.',',')"
   ]
  },
  {
   "cell_type": "code",
   "execution_count": 14,
   "id": "historic-amazon",
   "metadata": {
    "papermill": {
     "duration": 0.034994,
     "end_time": "2021-07-01T00:39:47.844772",
     "exception": false,
     "start_time": "2021-07-01T00:39:47.809778",
     "status": "completed"
    },
    "tags": []
   },
   "outputs": [],
   "source": [
    "def make_detail_chart(df, chart_type) :\n",
    "    \n",
    "    text = ['' for i in range(len(df)-1)] + [reformat_number(list(df.sort_values('date')['value'])[-1])]\n",
    "    \n",
    "    if chart_type == 'histo' :\n",
    "        fig = px.bar(df, x='date', y='value',\n",
    "                         labels={'date':'', 'value':''}, \n",
    "                         height=400,\n",
    "                         width=900,\n",
    "                         color=None,\n",
    "                         orientation='v',\n",
    "                         text=text,\n",
    "                         title=None)\n",
    "        fig.update_layout(showlegend=False, uniformtext_minsize=8, uniformtext_mode='hide')\n",
    "        fig.layout['xaxis'].showgrid = False\n",
    "        fig.update_traces(marker_color='#00AC8C', textposition='outside', cliponaxis=False)\n",
    "        fig.update_xaxes(tickangle=-45,\n",
    "                         tickfont=dict(size=8),\n",
    "                         tickmode = 'array',\n",
    "                         tickvals = list(df['date']),\n",
    "                         ticktext= list(df['date_tick']))\n",
    "                        \n",
    "        return fig\n",
    "    \n",
    "    elif chart_type == 'line' :\n",
    "        fig = px.line(df, x='date', y='value',\n",
    "                         labels={'date':'', 'value':''}, \n",
    "                         height=400,\n",
    "                         width=750,\n",
    "                         color=None,\n",
    "                         orientation='v',\n",
    "                         text=text,\n",
    "                         title=None)\n",
    "        fig.update_layout(showlegend=False)\n",
    "        fig.layout['xaxis'].showgrid = False\n",
    "        fig.update_traces(marker=dict(size=12, line=dict(width=2, color='white')), marker_color='#00AC8C', line_color='#00AC8C', line_width=6, textposition='top center', cliponaxis=False)\n",
    "        fig.update_xaxes(tickangle=-45,\n",
    "                         tickfont=dict(size=8),\n",
    "                         tickmode = 'array',\n",
    "                         tickvals = list(df['date']),\n",
    "                         ticktext= list(df['date_tick']))\n",
    "        fig.data[0].update(mode='markers+lines+text')\n",
    "\n",
    "        return fig\n",
    "    \n",
    "    else :\n",
    "        print('Unknown chart type.')\n",
    "        return None"
   ]
  },
  {
   "cell_type": "code",
   "execution_count": 15,
   "id": "lyric-wright",
   "metadata": {
    "papermill": {
     "duration": 0.029631,
     "end_time": "2021-07-01T00:39:47.897191",
     "exception": false,
     "start_time": "2021-07-01T00:39:47.867560",
     "status": "completed"
    },
    "tags": []
   },
   "outputs": [],
   "source": [
    "def remove_html_tags(raw_html):\n",
    "    tag_regex = re.compile('<.*?>')\n",
    "    return re.sub(tag_regex, '', raw_html)"
   ]
  },
  {
   "cell_type": "code",
   "execution_count": 16,
   "id": "african-upper",
   "metadata": {
    "papermill": {
     "duration": 0.030659,
     "end_time": "2021-07-01T00:39:47.950076",
     "exception": false,
     "start_time": "2021-07-01T00:39:47.919417",
     "status": "completed"
    },
    "tags": []
   },
   "outputs": [],
   "source": [
    "def clean_description(text) :\n",
    "    \n",
    "    def drop_border_spaces(string) :\n",
    "        while string.startswith(' ') :\n",
    "            string = string[1:]\n",
    "        while string.endswith(' ') :\n",
    "            string = string[:-1]\n",
    "        return string\n",
    "    \n",
    "    text_lines = text.splitlines()\n",
    "    text_lines = [line.replace('<li>', '-') for line in text_lines]\n",
    "    text_lines = [remove_html_tags(line) for line in text_lines]\n",
    "    text_lines = [drop_border_spaces(line) for line in text_lines]\n",
    "    text_lines = [line for line in text_lines if line != '']\n",
    "    \n",
    "    #Managing lists\n",
    "    corr_text_lines = [text_lines[0]]\n",
    "    for i in range(1, len(text_lines)) :\n",
    "        if text_lines[i-1] == '-' :\n",
    "            new_line = '- ' + text_lines[i]\n",
    "        else :\n",
    "            new_line = text_lines[i]\n",
    "        corr_text_lines += [new_line]\n",
    "        \n",
    "    corr_text_lines = [line for line in corr_text_lines if line != '-']\n",
    "    \n",
    "    #Joining lines by linebreaks\n",
    "    corr_text = '\\n'.join(corr_text_lines)\n",
    "    \n",
    "    return corr_text"
   ]
  },
  {
   "cell_type": "code",
   "execution_count": 17,
   "id": "experimental-ivory",
   "metadata": {},
   "outputs": [],
   "source": [
    "#Insert here any new character that would generate Encoding errors when exporting with FPDF\n",
    "def drop_encoding_issues(text) :\n",
    "    return text.replace('’', \"'\").replace('\\u20ac',' euros').replace('œ','oe').replace('…','...').replace('–','-')"
   ]
  },
  {
   "cell_type": "markdown",
   "id": "mature-variance",
   "metadata": {
    "papermill": {
     "duration": 0.021973,
     "end_time": "2021-07-01T00:39:47.995480",
     "exception": false,
     "start_time": "2021-07-01T00:39:47.973507",
     "status": "completed"
    },
    "tags": []
   },
   "source": [
    "## Get data and build parameters out of it"
   ]
  },
  {
   "cell_type": "code",
   "execution_count": 18,
   "id": "center-platform",
   "metadata": {
    "papermill": {
     "duration": 0.312928,
     "end_time": "2021-07-01T00:39:48.330261",
     "exception": false,
     "start_time": "2021-07-01T00:39:48.017333",
     "status": "completed"
    },
    "tags": []
   },
   "outputs": [],
   "source": [
    "#Loading OVQ synthese data\n",
    "r = requests.get(ovq_synthese_data_path)\n",
    "ovq_synthese_data = json.loads(r.content)"
   ]
  },
  {
   "cell_type": "code",
   "execution_count": 19,
   "id": "aboriginal-roman",
   "metadata": {
    "papermill": {
     "duration": 0.029776,
     "end_time": "2021-07-01T00:39:48.383760",
     "exception": false,
     "start_time": "2021-07-01T00:39:48.353984",
     "status": "completed"
    },
    "tags": []
   },
   "outputs": [
    {
     "name": "stdout",
     "output_type": "stream",
     "text": [
      "101\n"
     ]
    }
   ],
   "source": [
    "#Departements list\n",
    "dep_list = sorted(list(set([dep_dict['dep'] for dep_dict in ovq_synthese_data])))\n",
    "print(len(dep_list))"
   ]
  },
  {
   "cell_type": "code",
   "execution_count": 20,
   "id": "photographic-serial",
   "metadata": {
    "papermill": {
     "duration": 0.031823,
     "end_time": "2021-07-01T00:39:48.437829",
     "exception": false,
     "start_time": "2021-07-01T00:39:48.406006",
     "status": "completed"
    },
    "tags": []
   },
   "outputs": [
    {
     "name": "stdout",
     "output_type": "stream",
     "text": [
      "57\n"
     ]
    }
   ],
   "source": [
    "#Indicateurs list\n",
    "id_indicateur_list = []\n",
    "for dep_dict in ovq_synthese_data :\n",
    "    for ovq_dict in dep_dict['ovq'] :\n",
    "        for ind_dict in ovq_dict['indicateurs'] :\n",
    "            id_indicateur_list += list(ind_dict.keys())\n",
    "            \n",
    "id_indicateur_list = list(set(id_indicateur_list))\n",
    "print(len(id_indicateur_list))"
   ]
  },
  {
   "cell_type": "code",
   "execution_count": 21,
   "id": "joined-calibration",
   "metadata": {
    "papermill": {
     "duration": 0.393169,
     "end_time": "2021-07-01T00:39:48.854140",
     "exception": false,
     "start_time": "2021-07-01T00:39:48.460971",
     "status": "completed"
    },
    "tags": []
   },
   "outputs": [],
   "source": [
    "#Loading structure data\n",
    "\n",
    "r = requests.get(ovq_structure_cible_path)\n",
    "structure_cible_data = json.loads(r.content)\n",
    "\n",
    "r = requests.get(ovq_structure_families_path)\n",
    "structure_families_data = json.loads(r.content)"
   ]
  },
  {
   "cell_type": "markdown",
   "id": "worth-death",
   "metadata": {
    "papermill": {
     "duration": 0.024494,
     "end_time": "2021-07-01T00:39:48.904014",
     "exception": false,
     "start_time": "2021-07-01T00:39:48.879520",
     "status": "completed"
    },
    "tags": []
   },
   "source": [
    "## Making the graphs"
   ]
  },
  {
   "cell_type": "code",
   "execution_count": 22,
   "id": "opened-bidder",
   "metadata": {
    "papermill": {
     "duration": 0.029848,
     "end_time": "2021-07-01T00:39:48.957354",
     "exception": false,
     "start_time": "2021-07-01T00:39:48.927506",
     "status": "completed"
    },
    "tags": []
   },
   "outputs": [],
   "source": [
    "mkdir_ifnotexist(os.path.join(img_dir_path, 'graphs'))"
   ]
  },
  {
   "cell_type": "markdown",
   "id": "distinguished-antenna",
   "metadata": {
    "papermill": {
     "duration": 0.022805,
     "end_time": "2021-07-01T00:39:49.004128",
     "exception": false,
     "start_time": "2021-07-01T00:39:48.981323",
     "status": "completed"
    },
    "tags": []
   },
   "source": [
    "### Synthese gauges"
   ]
  },
  {
   "cell_type": "code",
   "execution_count": 23,
   "id": "crucial-trustee",
   "metadata": {
    "papermill": {
     "duration": 106.841043,
     "end_time": "2021-07-01T00:41:35.867643",
     "exception": false,
     "start_time": "2021-07-01T00:39:49.026600",
     "status": "completed"
    },
    "tags": []
   },
   "outputs": [
    {
     "name": "stdout",
     "output_type": "stream",
     "text": [
      "CPU times: user 26.2 s, sys: 2.19 s, total: 28.4 s\n",
      "Wall time: 1min 39s\n"
     ]
    }
   ],
   "source": [
    "%%time\n",
    "for dep in dep_list :\n",
    "    for id_indicateur in id_indicateur_list :\n",
    "        data = get_dep_indicateur_synthese_data(dep, id_indicateur, ovq_synthese_data)\n",
    "        pct = data['target_percentage']\n",
    "        \n",
    "        if pct is not None :\n",
    "            fig = make_pct_bullet_chart(pct)\n",
    "\n",
    "            if fig is not None :\n",
    "                img_path = os.path.join(img_dir_path, 'graphs', 'bullet_chart-synthese-target_percentage-{}-dep_{}.png'.format(id_indicateur, dep))\n",
    "                fig.write_image(img_path)"
   ]
  },
  {
   "cell_type": "markdown",
   "id": "romantic-prisoner",
   "metadata": {
    "papermill": {
     "duration": 0.024405,
     "end_time": "2021-07-01T00:41:35.916134",
     "exception": false,
     "start_time": "2021-07-01T00:41:35.891729",
     "status": "completed"
    },
    "tags": []
   },
   "source": [
    "### Detail graphs"
   ]
  },
  {
   "cell_type": "code",
   "execution_count": 24,
   "id": "pointed-harris",
   "metadata": {
    "papermill": {
     "duration": 758.68812,
     "end_time": "2021-07-01T00:54:14.627796",
     "exception": false,
     "start_time": "2021-07-01T00:41:35.939676",
     "status": "completed"
    },
    "tags": []
   },
   "outputs": [
    {
     "name": "stdout",
     "output_type": "stream",
     "text": [
      "2021-07-26 12:50:11.644277 - Dep 01 done.\n",
      "2021-07-26 12:50:18.287865 - Dep 02 done.\n",
      "2021-07-26 12:50:24.486278 - Dep 03 done.\n",
      "2021-07-26 12:50:30.736012 - Dep 04 done.\n",
      "2021-07-26 12:50:36.768438 - Dep 05 done.\n",
      "2021-07-26 12:50:43.214348 - Dep 06 done.\n",
      "2021-07-26 12:50:49.436400 - Dep 07 done.\n",
      "2021-07-26 12:50:55.912716 - Dep 08 done.\n",
      "2021-07-26 12:51:02.035389 - Dep 09 done.\n",
      "2021-07-26 12:51:09.467138 - Dep 10 done.\n",
      "2021-07-26 12:51:15.754602 - Dep 11 done.\n",
      "2021-07-26 12:51:21.961306 - Dep 12 done.\n",
      "2021-07-26 12:51:28.262991 - Dep 13 done.\n",
      "2021-07-26 12:51:36.043960 - Dep 14 done.\n",
      "2021-07-26 12:51:42.414779 - Dep 15 done.\n",
      "2021-07-26 12:51:48.782202 - Dep 16 done.\n",
      "2021-07-26 12:51:54.962655 - Dep 17 done.\n",
      "2021-07-26 12:52:01.514040 - Dep 18 done.\n",
      "2021-07-26 12:52:07.575852 - Dep 19 done.\n",
      "2021-07-26 12:52:14.092017 - Dep 21 done.\n",
      "2021-07-26 12:52:20.538271 - Dep 22 done.\n",
      "2021-07-26 12:52:27.709137 - Dep 23 done.\n",
      "2021-07-26 12:52:33.969517 - Dep 24 done.\n",
      "2021-07-26 12:52:40.149767 - Dep 25 done.\n",
      "2021-07-26 12:52:46.321160 - Dep 26 done.\n",
      "2021-07-26 12:52:52.459778 - Dep 27 done.\n",
      "2021-07-26 12:52:58.892973 - Dep 28 done.\n",
      "2021-07-26 12:53:05.300472 - Dep 29 done.\n",
      "2021-07-26 12:53:13.553194 - Dep 2A done.\n",
      "2021-07-26 12:53:20.615536 - Dep 2B done.\n",
      "2021-07-26 12:53:27.349308 - Dep 30 done.\n",
      "2021-07-26 12:53:34.028443 - Dep 31 done.\n",
      "2021-07-26 12:53:40.653048 - Dep 32 done.\n",
      "2021-07-26 12:53:47.327048 - Dep 33 done.\n",
      "2021-07-26 12:53:54.854586 - Dep 34 done.\n",
      "2021-07-26 12:54:01.872141 - Dep 35 done.\n",
      "2021-07-26 12:54:08.273568 - Dep 36 done.\n",
      "2021-07-26 12:54:14.531607 - Dep 37 done.\n",
      "2021-07-26 12:54:21.599795 - Dep 38 done.\n",
      "2021-07-26 12:54:27.879326 - Dep 39 done.\n",
      "2021-07-26 12:54:34.260045 - Dep 40 done.\n",
      "2021-07-26 12:54:41.040863 - Dep 41 done.\n",
      "2021-07-26 12:54:47.376061 - Dep 42 done.\n",
      "2021-07-26 12:54:54.357445 - Dep 43 done.\n",
      "2021-07-26 12:55:03.810685 - Dep 44 done.\n",
      "2021-07-26 12:55:16.694189 - Dep 45 done.\n",
      "2021-07-26 12:55:23.853798 - Dep 46 done.\n",
      "2021-07-26 12:55:31.062519 - Dep 47 done.\n",
      "2021-07-26 12:55:38.652025 - Dep 48 done.\n",
      "2021-07-26 12:55:45.998956 - Dep 49 done.\n",
      "2021-07-26 12:55:53.394899 - Dep 50 done.\n",
      "2021-07-26 12:55:59.480639 - Dep 51 done.\n",
      "2021-07-26 12:56:05.678856 - Dep 52 done.\n",
      "2021-07-26 12:56:12.362925 - Dep 53 done.\n",
      "2021-07-26 12:56:18.868590 - Dep 54 done.\n",
      "2021-07-26 12:56:25.186935 - Dep 55 done.\n",
      "2021-07-26 12:56:34.535492 - Dep 56 done.\n",
      "2021-07-26 12:56:42.391562 - Dep 57 done.\n",
      "2021-07-26 12:56:48.810636 - Dep 58 done.\n",
      "2021-07-26 12:56:55.533145 - Dep 59 done.\n",
      "2021-07-26 12:57:02.109072 - Dep 60 done.\n",
      "2021-07-26 12:57:08.475968 - Dep 61 done.\n",
      "2021-07-26 12:57:15.899660 - Dep 62 done.\n",
      "2021-07-26 12:57:22.429225 - Dep 63 done.\n",
      "2021-07-26 12:57:28.828767 - Dep 64 done.\n",
      "2021-07-26 12:57:35.303281 - Dep 65 done.\n",
      "2021-07-26 12:57:41.770318 - Dep 66 done.\n",
      "2021-07-26 12:57:48.491652 - Dep 67 done.\n",
      "2021-07-26 12:57:55.184841 - Dep 68 done.\n",
      "2021-07-26 12:58:01.349982 - Dep 69 done.\n",
      "2021-07-26 12:58:07.487433 - Dep 70 done.\n",
      "2021-07-26 12:58:13.563332 - Dep 71 done.\n",
      "2021-07-26 12:58:19.895841 - Dep 72 done.\n",
      "2021-07-26 12:58:25.993191 - Dep 73 done.\n",
      "2021-07-26 12:58:32.851881 - Dep 74 done.\n",
      "2021-07-26 12:58:40.813803 - Dep 75 done.\n",
      "2021-07-26 12:58:46.931183 - Dep 76 done.\n",
      "2021-07-26 12:58:53.126599 - Dep 77 done.\n",
      "2021-07-26 12:58:59.471159 - Dep 78 done.\n",
      "2021-07-26 12:59:05.574023 - Dep 79 done.\n",
      "2021-07-26 12:59:11.650489 - Dep 80 done.\n",
      "2021-07-26 12:59:17.799239 - Dep 81 done.\n",
      "2021-07-26 12:59:23.957424 - Dep 82 done.\n",
      "2021-07-26 12:59:31.009641 - Dep 83 done.\n",
      "2021-07-26 12:59:37.852720 - Dep 84 done.\n",
      "2021-07-26 12:59:44.069444 - Dep 85 done.\n",
      "2021-07-26 12:59:50.289422 - Dep 86 done.\n",
      "2021-07-26 12:59:57.170437 - Dep 87 done.\n",
      "2021-07-26 13:00:05.340315 - Dep 88 done.\n",
      "2021-07-26 13:00:18.189247 - Dep 89 done.\n",
      "2021-07-26 13:00:24.607401 - Dep 90 done.\n",
      "2021-07-26 13:00:31.074205 - Dep 91 done.\n",
      "2021-07-26 13:00:37.289589 - Dep 92 done.\n",
      "2021-07-26 13:00:43.499914 - Dep 93 done.\n",
      "2021-07-26 13:00:49.799323 - Dep 94 done.\n",
      "2021-07-26 13:00:56.172484 - Dep 95 done.\n",
      "2021-07-26 13:01:02.969230 - Dep 971 done.\n",
      "2021-07-26 13:01:09.150891 - Dep 972 done.\n",
      "2021-07-26 13:01:15.299246 - Dep 973 done.\n",
      "2021-07-26 13:01:22.605377 - Dep 974 done.\n",
      "2021-07-26 13:01:29.944117 - Dep 976 done.\n",
      "CPU times: user 5min 54s, sys: 9.07 s, total: 6min 3s\n",
      "Wall time: 11min 36s\n"
     ]
    }
   ],
   "source": [
    "%%time\n",
    "short_level_dict = {\n",
    "    'dep':'departemental',\n",
    "    'reg':'regional',\n",
    "    'nat':'national'\n",
    "}\n",
    "\n",
    "for dep in dep_list :\n",
    "    for id_indicateur in id_indicateur_list :\n",
    "        \n",
    "        #Get information to know what level of data to use\n",
    "        synthese_data = get_dep_indicateur_synthese_data(dep, id_indicateur, ovq_synthese_data)\n",
    "        level = short_level_dict[synthese_data['from_level']]\n",
    "        \n",
    "        #Get chart type for indicateur\n",
    "        chart_type = get_indicateur_structure_cible(id_indicateur, structure_cible_data)['odm_chart_type']\n",
    "        \n",
    "        #Get data\n",
    "        detail_data = get_detail_data(id_indicateur, dep, level, structure_cible_data, base_folder_path)\n",
    "        df = pd.DataFrame(detail_data)\n",
    "        df = df.sort_values('date')\n",
    "        df['date_tick'] = df['date'].apply(lambda x : yearmonth_to_fr(x[:7]))\n",
    "        \n",
    "        #Making graphs\n",
    "        fig = make_detail_chart(df, chart_type)\n",
    "        img_path = os.path.join(img_dir_path, 'graphs', 'graph-detail-{}-dep_{}.png'.format(id_indicateur, dep))\n",
    "\n",
    "        if fig is not None :\n",
    "            fig.write_image(img_path)\n",
    "\n",
    "    print('{} - Dep {} done.'.format(datetime.datetime.today(), dep))"
   ]
  },
  {
   "cell_type": "markdown",
   "id": "complex-water",
   "metadata": {
    "papermill": {
     "duration": 0.047509,
     "end_time": "2021-07-01T00:54:14.722057",
     "exception": false,
     "start_time": "2021-07-01T00:54:14.674548",
     "status": "completed"
    },
    "tags": []
   },
   "source": [
    "## Building the reports"
   ]
  },
  {
   "cell_type": "code",
   "execution_count": 25,
   "id": "approximate-retrieval",
   "metadata": {
    "papermill": {
     "duration": 0.054042,
     "end_time": "2021-07-01T00:54:14.822530",
     "exception": false,
     "start_time": "2021-07-01T00:54:14.768488",
     "status": "completed"
    },
    "tags": []
   },
   "outputs": [],
   "source": [
    "mkdir_ifnotexist(reports_dir_path)"
   ]
  },
  {
   "cell_type": "code",
   "execution_count": 26,
   "id": "large-provision",
   "metadata": {
    "papermill": {
     "duration": 0.055728,
     "end_time": "2021-07-01T00:54:14.925049",
     "exception": false,
     "start_time": "2021-07-01T00:54:14.869321",
     "status": "completed"
    },
    "tags": []
   },
   "outputs": [],
   "source": [
    "global title_header\n",
    "title_header = ''"
   ]
  },
  {
   "cell_type": "code",
   "execution_count": 27,
   "id": "serial-rogers",
   "metadata": {
    "papermill": {
     "duration": 0.05818,
     "end_time": "2021-07-01T00:54:15.031308",
     "exception": false,
     "start_time": "2021-07-01T00:54:14.973128",
     "status": "completed"
    },
    "tags": []
   },
   "outputs": [],
   "source": [
    "class PDF(FPDF):\n",
    "    def header(self):\n",
    "        if (self.page_no() != 1 ):\n",
    "            # Logo\n",
    "            self.image(os.path.join(img_dir_path, 'gouv.png'), 10, 8, 45)\n",
    "            # Arial bold 15\n",
    "            self.cell(50)\n",
    "            self.set_font('Arial', 'B', 16)\n",
    "            self.cell(80, 15, title_header, 0, 1, 'A')\n",
    "\n",
    "            # Move to the right\n",
    "            # Title\n",
    "            self.set_font('Arial', 'I', 9)\n",
    "            self.cell(50)\n",
    "            #self.cell(50, 10, subtitle_header+' - aides-entreprises.data.gouv.fr', 0, 1, 'A', link='https://aides-entreprises.data.gouv.fr/')\n",
    "            self.cell(50, 10, 'www.gouvernement.fr/les-actions-du-gouvernement', 0, 1, 'A', link='https://www.gouvernement.fr/les-actions-du-gouvernement')\n",
    "            # Line break  \n",
    "            pdf.line(40, 38, 170, 38)\n",
    "            self.ln(7)\n",
    "        \n",
    "    # Page footer\n",
    "    def footer(self):\n",
    "        if (self.page_no() != 1 ):\n",
    "            # Position at 1.5 cm from bottom\n",
    "            self.set_y(-15)\n",
    "            # Arial italic 8\n",
    "            self.set_font('Arial', 'I', 8)\n",
    "            # Page number\n",
    "            \n",
    "            self.cell(0, 10, 'Direction Interministérielle du Numérique (DINUM) - Page ' + str(self.page_no()) + '/{nb}', 0, 0, 'C')"
   ]
  },
  {
   "cell_type": "code",
   "execution_count": 28,
   "id": "boxed-story",
   "metadata": {
    "papermill": {
     "duration": 0.081714,
     "end_time": "2021-07-01T00:54:15.161331",
     "exception": false,
     "start_time": "2021-07-01T00:54:15.079617",
     "status": "completed"
    },
    "tags": []
   },
   "outputs": [],
   "source": [
    "def insert_indicateur(pdf, dep, ind_data, ind_struc) :\n",
    "    \n",
    "    #Getting relevant information in data\n",
    "    initial_value = ind_data['initial_value']\n",
    "    initial_value_date = ind_data['initial_value_date']\n",
    "    latest_value = ind_data['latest_value']\n",
    "    latest_value_date = ind_data['latest_value_date']\n",
    "    target_value = ind_data['target']\n",
    "    target_percentage = ind_data['target_percentage']\n",
    "    target_value_date = ind_data['target_date']\n",
    "    progression_percentage = ind_data['progression_percentage']\n",
    "    from_level = ind_data['from_level']\n",
    "    \n",
    "    #Getting relevant information in structure\n",
    "    id_indicateur = ind_struc['id_indicateur_fr']\n",
    "    nom_indicateur = drop_encoding_issues(ind_struc['nom_indicateur'])\n",
    "    ind_text_url = drop_encoding_issues(ind_struc['odm_text'])\n",
    "    kpi_format = ind_struc['odm_kpi_format']\n",
    "    kpi_unit = drop_encoding_issues(ind_struc['odm_kpi_unit'])\n",
    "    chart_unit = drop_encoding_issues(ind_struc['odm_chart_unit'])\n",
    "    to_round = ind_struc['toRound']\n",
    "    \n",
    "    #Numbers formating\n",
    "    if to_round is not None :\n",
    "        if initial_value is not None :\n",
    "            initial_value = round(initial_value, to_round)\n",
    "            initial_value = reformat_number(initial_value)\n",
    "        if latest_value is not None :\n",
    "            latest_value = round(latest_value, to_round)\n",
    "            latest_value = reformat_number(latest_value)\n",
    "        if target_value is not None :\n",
    "            target_value = round(target_value, to_round)\n",
    "            target_value = reformat_number(target_value)\n",
    "            \n",
    "    if progression_percentage is not None :\n",
    "        if progression_percentage < 0 :\n",
    "            progression_percentage_str = '- '+str(-progression_percentage).replace('.',',')+' %'\n",
    "        else :\n",
    "            progression_percentage_str = '+ '+str(progression_percentage).replace('.',',')+' %'\n",
    "    else :\n",
    "        progression_percentage_str = ''\n",
    "    \n",
    "    if kpi_unit.startswith('%') :\n",
    "        if initial_value is not None :\n",
    "            initial_value += ' %'\n",
    "        if latest_value is not None :\n",
    "            latest_value += ' %'\n",
    "        if target_value is not None :\n",
    "            target_value += ' %'\n",
    "        kpi_unit = kpi_unit.replace('% ','').replace('%','')\n",
    "    \n",
    "    #Initializing blocks parameters\n",
    "    nb_blocks = 1\n",
    "    ini_block = False\n",
    "    tar_block = False\n",
    "    \n",
    "    #Current value (always present)\n",
    "    latest_value_date_str = yearmonth_to_fr(latest_value_date[:7])\n",
    "    latest_value_str = str(latest_value).replace('.',',')\n",
    "    \n",
    "    #Insert initial block if init value exists\n",
    "    if initial_value is not None :\n",
    "        if float(initial_value.replace(',','.').replace(' ','').replace('%','')) > 0 :\n",
    "            initial_value_date_str = yearmonth_to_fr(initial_value_date[:7])\n",
    "            initial_value_str = str(initial_value).replace('.',',')\n",
    "            nb_blocks += 1\n",
    "            ini_block = True\n",
    "        \n",
    "    #Insert target block if target value exists\n",
    "    if target_value is not None :\n",
    "        target_value_date_str = yearmonth_to_fr(target_value_date[:7])\n",
    "        target_value_str = str(target_value).replace('.',',')\n",
    "        nb_blocks += 1\n",
    "        tar_block = True\n",
    "        \n",
    "    #Blocks settings depending on existing data\n",
    "    block_spacing = 5\n",
    "    block_width = (182 - (nb_blocks-1)*block_spacing)/nb_blocks\n",
    "    \n",
    "    #INDICATOR DISPLAY\n",
    "    \n",
    "    #Indicator title\n",
    "    pdf.set_text_color(0,0,0)\n",
    "    pdf.set_font('Arial', 'B', 12)\n",
    "    pdf.multi_cell(182, 5, 'Indicateur : '+ nom_indicateur, align='L')\n",
    "    pdf.ln(3)\n",
    "    \n",
    "    #Indicator description\n",
    "    full_ind_text_url = os.path.join(base_folder_path, ind_text_url[1:])\n",
    "    r = requests.get(full_ind_text_url)\n",
    "    ind_text = drop_encoding_issues(r.text)\n",
    "    ind_text = clean_description(ind_text)\n",
    "    \n",
    "    pdf.set_font('Arial', '', 10)\n",
    "    pdf.multi_cell(182, 5, ind_text, align='J')\n",
    "    pdf.ln(3)\n",
    "    \n",
    "    #Data geo level indication\n",
    "    if from_level == 'dep' :\n",
    "        from_level_str = \"Les résultats pour le département : \" + get_dep_infos(dep)['dep_name']\n",
    "    elif from_level == 'reg' :\n",
    "        from_level_str = \"Données uniquement disponibles pour la région : \" + get_dep_infos(dep)['reg_name']\n",
    "    elif from_level == 'nat' :\n",
    "        from_level_str = \"Données uniquement disponibles pour la France\"\n",
    "    \n",
    "    pdf.set_text_color(0,0,0)\n",
    "    pdf.set_font('Arial', '', 10)\n",
    "    pdf.set_fill_color(245,245,245);\n",
    "    pdf.cell(182, 8, from_level_str, 0, 2, 'L', fill=True)\n",
    "    pdf.ln(3)\n",
    "    \n",
    "    #Indicator blocks\n",
    "    \n",
    "    y_blocks_top = pdf.get_y()\n",
    "    x_blocks_left = pdf.get_x()\n",
    "    \n",
    "    #Initial value block\n",
    "    if ini_block == True :\n",
    "        pdf.set_fill_color(253, 244, 242)\n",
    "        pdf.set_font('Arial', '', 8)\n",
    "        pdf.cell(block_width, 8, 'En {}'.format(initial_value_date_str), 0, 1, 'L', fill=True)\n",
    "        pdf.set_fill_color(254, 249, 248)\n",
    "        pdf.set_font('Arial', 'B', 20)\n",
    "        pdf.cell(block_width, 10, initial_value_str, 0, 1, 'L', fill=True)\n",
    "        pdf.set_font('Arial', '', 10)\n",
    "        pdf.cell(block_width, 3, kpi_unit, 0, 1, 'L', fill=True)\n",
    "        block_left_x = pdf.get_x()\n",
    "        block_bottom_y = pdf.get_y()\n",
    "        y_blocks_top = block_bottom_y - (8+10+3) #Just in case there is an auto page break that puts blocks in different y\n",
    "        pdf.cell(block_width, 10, '', 0, 1, 'L', fill=True)\n",
    "    \n",
    "    #Current value block (always here)\n",
    "    if ini_block == True :\n",
    "        pdf.set_xy(block_width + pdf.l_margin + block_spacing, y_blocks_top)\n",
    "    pdf.set_fill_color(234, 244, 239)\n",
    "    pdf.set_font('Arial', '', 8)\n",
    "    pdf.cell(block_width, 8, 'En {}'.format(latest_value_date_str), 0, 2, 'L', fill=True)\n",
    "    pdf.set_fill_color(244, 250, 247)\n",
    "    pdf.set_font('Arial', 'B', 20)\n",
    "    pdf.cell(block_width, 10, latest_value_str, 0, 2, 'L', fill=True)\n",
    "    pdf.set_font('Arial', '', 10)\n",
    "    pdf.cell(block_width, 3, kpi_unit, 0, 2, 'L', fill=True)\n",
    "    block_left_x = pdf.get_x()\n",
    "    block_bottom_y = pdf.get_y()\n",
    "    y_blocks_top = block_bottom_y - (8+10+3) #Just in case there is an auto page break that puts blocks in different y\n",
    "    pdf.cell(block_width, 10, progression_percentage_str, 0, 2, 'L', fill=True)\n",
    "    \n",
    "    #Target value block\n",
    "    if tar_block == True :\n",
    "        if nb_blocks == 2 :\n",
    "            pdf.set_xy(block_width + pdf.l_margin + block_spacing, y_blocks_top)\n",
    "        elif nb_blocks == 3 :\n",
    "            pdf.set_xy(2*block_width + pdf.l_margin + 2*block_spacing, y_blocks_top)\n",
    "            \n",
    "        pdf.set_fill_color(229, 229, 243)\n",
    "        pdf.set_font('Arial', '', 8)\n",
    "        pdf.cell(block_width, 8, 'Cible {}'.format(target_value_date_str), 0, 2, 'L', fill=True)\n",
    "        pdf.set_fill_color(242, 242, 248)\n",
    "        pdf.set_font('Arial', 'B', 20)\n",
    "        pdf.cell(block_width, 10, target_value_str, 0, 2, 'L', fill=True)\n",
    "        pdf.set_font('Arial', '', 10)\n",
    "        pdf.cell(block_width, 3, kpi_unit, 0, 2, 'L', fill=True)\n",
    "        \n",
    "        #Inserting bullet chart (prog %) if exists\n",
    "        block_left_x = pdf.get_x()\n",
    "        block_bottom_y = pdf.get_y()\n",
    "        pdf.cell(block_width, 10, '', 0, 2, 'L', fill=True)\n",
    "        bullet_chart_width = 55\n",
    "        pdf.set_xy(block_left_x + block_width/2 - bullet_chart_width/2, block_bottom_y)\n",
    "        try :\n",
    "            prog_img_path = os.path.join(img_dir_path, 'graphs', 'bullet_chart-synthese-target_percentage-{}-dep_{}.png'.format(id_indicateur, dep))\n",
    "            pdf.image(prog_img_path, w=bullet_chart_width)\n",
    "        except :\n",
    "            pass\n",
    "    \n",
    "    #To go properly on next line (under blocks)\n",
    "    pdf.set_xy(block_left_x, block_bottom_y)\n",
    "    pdf.cell(0, 10, '', 0, 1) #Just to go to next line\n",
    "    \n",
    "    #CHART DISPLAY\n",
    "    try :\n",
    "        chart_width = 140\n",
    "        chart_img_path = os.path.join(img_dir_path, 'graphs', 'graph-detail-{}-dep_{}.png'.format(id_indicateur, dep))\n",
    "        pdf.set_x(x_blocks_left + 182/2 - chart_width/2)\n",
    "        pdf.image(chart_img_path, w=chart_width)\n",
    "\n",
    "        pdf.set_x(x_blocks_left)\n",
    "        pdf.set_font('Arial', 'I', 8)\n",
    "        pdf.cell(182, 8, 'Unité : {}'.format(chart_unit), 0, 2, 'C')\n",
    "    except :\n",
    "        print('No chart found for {}'.format(id_indicateur))\n",
    "\n",
    "    return pdf"
   ]
  },
  {
   "cell_type": "code",
   "execution_count": 29,
   "id": "sorted-contract",
   "metadata": {
    "papermill": {
     "duration": 4268.070755,
     "end_time": "2021-07-01T02:05:23.279738",
     "exception": false,
     "start_time": "2021-07-01T00:54:15.208983",
     "status": "completed"
    },
    "tags": []
   },
   "outputs": [
    {
     "name": "stdout",
     "output_type": "stream",
     "text": [
      "2021-07-26 13:02:48.150518 - 01-Ain done.\n",
      "2021-07-26 13:04:09.519076 - 02-Aisne done.\n",
      "2021-07-26 13:05:29.070230 - 03-Allier done.\n",
      "2021-07-26 13:07:11.693738 - 04-Alpes-de-Haute-Provence done.\n",
      "2021-07-26 13:08:30.313173 - 05-Hautes-Alpes done.\n",
      "2021-07-26 13:09:45.646936 - 06-Alpes-Maritimes done.\n",
      "2021-07-26 13:10:58.985875 - 07-Ardèche done.\n",
      "2021-07-26 13:12:33.491587 - 08-Ardennes done.\n",
      "2021-07-26 13:13:45.734896 - 09-Ariège done.\n",
      "2021-07-26 13:14:59.363005 - 10-Aube done.\n",
      "2021-07-26 13:16:12.166730 - 11-Aude done.\n",
      "2021-07-26 13:17:49.111744 - 12-Aveyron done.\n",
      "2021-07-26 13:19:06.306819 - 13-Bouches-du-Rhône done.\n",
      "2021-07-26 13:20:23.478589 - 14-Calvados done.\n",
      "2021-07-26 13:21:36.853935 - 15-Cantal done.\n",
      "2021-07-26 13:23:13.733749 - 16-Charente done.\n",
      "2021-07-26 13:24:30.233702 - 17-Charente-Maritime done.\n",
      "2021-07-26 13:25:52.664078 - 18-Cher done.\n",
      "2021-07-26 13:27:09.367777 - 19-Corrèze done.\n",
      "2021-07-26 13:28:44.699455 - 21-Côte-d'Or done.\n",
      "2021-07-26 13:29:58.585060 - 22-Côtes-d'Armor done.\n",
      "2021-07-26 13:31:16.661970 - 23-Creuse done.\n",
      "2021-07-26 13:32:31.371415 - 24-Dordogne done.\n",
      "2021-07-26 13:34:06.144204 - 25-Doubs done.\n",
      "2021-07-26 13:35:26.137949 - 26-Drôme done.\n",
      "2021-07-26 13:36:39.938937 - 27-Eure done.\n",
      "2021-07-26 13:37:54.312956 - 28-Eure-et-Loir done.\n",
      "2021-07-26 13:39:28.082723 - 29-Finistère done.\n",
      "2021-07-26 13:40:43.290787 - 2A-Corse-du-Sud done.\n",
      "2021-07-26 13:42:00.336566 - 2B-Haute-Corse done.\n",
      "2021-07-26 13:43:16.955565 - 30-Gard done.\n",
      "2021-07-26 13:44:51.184965 - 31-Haute-Garonne done.\n",
      "2021-07-26 13:46:05.264449 - 32-Gers done.\n",
      "2021-07-26 13:47:22.306771 - 33-Gironde done.\n",
      "2021-07-26 13:48:36.085576 - 34-Hérault done.\n",
      "2021-07-26 13:50:14.856495 - 35-Ille-et-Vilaine done.\n",
      "2021-07-26 13:51:28.682436 - 36-Indre done.\n",
      "2021-07-26 13:52:43.087040 - 37-Indre-et-Loire done.\n",
      "2021-07-26 13:53:58.721375 - 38-Isère done.\n",
      "2021-07-26 13:55:39.016924 - 39-Jura done.\n",
      "2021-07-26 13:56:54.784608 - 40-Landes done.\n",
      "2021-07-26 13:58:08.932576 - 41-Loir-et-Cher done.\n",
      "2021-07-26 13:59:24.279988 - 42-Loire done.\n",
      "2021-07-26 14:01:02.000278 - 43-Haute-Loire done.\n",
      "2021-07-26 14:02:21.444280 - 44-Loire-Atlantique done.\n",
      "2021-07-26 14:03:48.720917 - 45-Loiret done.\n",
      "2021-07-26 14:05:10.528840 - 46-Lot done.\n",
      "2021-07-26 14:06:52.882275 - 47-Lot-et-Garonne done.\n",
      "2021-07-26 14:08:12.902392 - 48-Lozère done.\n",
      "2021-07-26 14:09:33.972924 - 49-Maine-et-Loire done.\n",
      "2021-07-26 14:10:54.525152 - 50-Manche done.\n",
      "2021-07-26 14:12:34.092648 - 51-Marne done.\n",
      "2021-07-26 14:13:57.621252 - 52-Haute-Marne done.\n",
      "2021-07-26 14:15:19.500216 - 53-Mayenne done.\n",
      "2021-07-26 14:16:39.150910 - 54-Meurthe-et-Moselle done.\n",
      "2021-07-26 14:18:17.879692 - 55-Meuse done.\n",
      "2021-07-26 14:19:39.442501 - 56-Morbihan done.\n",
      "2021-07-26 14:21:09.638420 - 57-Moselle done.\n",
      "2021-07-26 14:22:30.615503 - 58-Nièvre done.\n",
      "2021-07-26 14:24:12.705585 - 59-Nord done.\n",
      "2021-07-26 14:25:33.070665 - 60-Oise done.\n",
      "2021-07-26 14:26:54.419492 - 61-Orne done.\n",
      "2021-07-26 14:28:18.481116 - 62-Pas-de-Calais done.\n",
      "2021-07-26 14:29:58.446697 - 63-Puy-de-Dôme done.\n",
      "2021-07-26 14:31:19.100497 - 64-Pyrénées-Atlantiques done.\n",
      "2021-07-26 14:32:39.813182 - 65-Hautes-Pyrénées done.\n",
      "2021-07-26 14:33:59.430203 - 66-Pyrénées-Orientales done.\n",
      "2021-07-26 14:35:43.333881 - 67-Bas-Rhin done.\n",
      "2021-07-26 14:37:06.157742 - 68-Haut-Rhin done.\n",
      "2021-07-26 14:38:26.683580 - 69-Rhône done.\n",
      "2021-07-26 14:39:43.543189 - 70-Haute-Saône done.\n",
      "2021-07-26 14:41:21.301910 - 71-Saône-et-Loire done.\n",
      "2021-07-26 14:42:37.109383 - 72-Sarthe done.\n",
      "2021-07-26 14:43:52.272360 - 73-Savoie done.\n",
      "2021-07-26 14:45:06.200525 - 74-Haute-Savoie done.\n",
      "2021-07-26 14:46:40.637244 - 75-Paris done.\n",
      "2021-07-26 14:47:56.093815 - 76-Seine-Maritime done.\n",
      "2021-07-26 14:49:11.231249 - 77-Seine-et-Marne done.\n",
      "2021-07-26 14:50:27.127227 - 78-Yvelines done.\n",
      "2021-07-26 14:52:03.334731 - 79-Deux-Sèvres done.\n",
      "2021-07-26 14:53:19.110756 - 80-Somme done.\n",
      "2021-07-26 14:54:34.478685 - 81-Tarn done.\n",
      "2021-07-26 14:55:49.740304 - 82-Tarn-et-Garonne done.\n",
      "2021-07-26 14:57:27.272513 - 83-Var done.\n",
      "2021-07-26 14:58:45.939366 - 84-Vaucluse done.\n",
      "2021-07-26 15:00:07.179089 - 85-Vendée done.\n",
      "2021-07-26 15:01:22.080726 - 86-Vienne done.\n",
      "2021-07-26 15:03:01.184384 - 87-Haute-Vienne done.\n",
      "2021-07-26 15:04:20.614907 - 88-Vosges done.\n",
      "2021-07-26 15:05:42.598424 - 89-Yonne done.\n",
      "2021-07-26 15:06:59.830084 - 90-Territoire de Belfort done.\n",
      "2021-07-26 15:08:40.719697 - 91-Essonne done.\n",
      "2021-07-26 15:09:53.911882 - 92-Hauts-de-Seine done.\n",
      "2021-07-26 15:11:08.668111 - 93-Seine-Saint-Denis done.\n",
      "2021-07-26 15:12:23.443069 - 94-Val-de-Marne done.\n",
      "2021-07-26 15:14:05.342563 - 95-Val-d'Oise done.\n",
      "2021-07-26 15:15:28.850068 - 971-Guadeloupe done.\n",
      "2021-07-26 15:16:48.096101 - 972-Martinique done.\n",
      "2021-07-26 15:18:03.532475 - 973-Guyane done.\n",
      "2021-07-26 15:19:43.588727 - 974-La Réunion done.\n",
      "2021-07-26 15:21:04.379619 - 976-Mayotte done.\n",
      "CPU times: user 1h 33min 23s, sys: 30min 49s, total: 2h 4min 13s\n",
      "Wall time: 2h 19min 34s\n"
     ]
    }
   ],
   "source": [
    "%%time\n",
    "\n",
    "mkdir_ifnotexist(os.path.join(reports_dir_path, 'pdf'))\n",
    "mkdir_ifnotexist(os.path.join(reports_dir_path, 'pdf', 'par_departement'))\n",
    "\n",
    "for dep in dep_list :\n",
    "    \n",
    "    pdf = PDF()\n",
    "    pdf.alias_nb_pages()\n",
    "    pdf.add_page()\n",
    "\n",
    "    #Logos\n",
    "    pdf.image(os.path.join(img_dir_path, 'gouv.png'), 10, 8, 125)\n",
    "    \n",
    "    # Arial bold 15\n",
    "    pdf.set_font('Arial', 'B', 28)\n",
    "    # Move to the right\n",
    "    pdf.cell(50)\n",
    "    pdf.ln(100)\n",
    "    \n",
    "    # Title\n",
    "    pdf.cell(10)\n",
    "    pdf.cell(50, 10, 'BAROMÈTRE DES RÉSULTATS DE', 0, 1, 'A')\n",
    "    pdf.ln(10)\n",
    "    pdf.cell(10)\n",
    "    pdf.cell(50, 10, \"L'ACTION PUBLIQUE\", 0, 1, 'A')\n",
    "    pdf.ln(10)\n",
    "    pdf.cell(60)\n",
    "\n",
    "    pdf.set_font('Arial', 'I', 20)\n",
    "    pdf.ln(10)\n",
    "    pdf.cell(10)\n",
    "    pdf.cell(50, 10, 'Présentation des résultats pour le département :', 0, 1, 'A')\n",
    "    pdf.ln(10)\n",
    "    pdf.cell(10)\n",
    "    pdf.cell(50, 10, dep + ' - ' + get_dep_infos(dep)['dep_name'], 0, 1, 'A')\n",
    "    pdf.ln(70)\n",
    "\n",
    "    pdf.set_font('Arial', 'I', 8)\n",
    "\n",
    "    pdf.cell(10)\n",
    "    pdf.cell(50, 10, \"Données issues du baromètre des résultats consultable sur https://www.gouvernement.fr/les-actions-du-gouvernement\", 0, 1, 'A')\n",
    "    \n",
    "    #Indicateurs\n",
    "    \n",
    "    pdf.set_left_margin(14)\n",
    "    pdf.set_right_margin(14)\n",
    "    \n",
    "    for thematique_dict in structure_families_data :\n",
    "    \n",
    "        thematique = thematique_dict['nom_ovq']\n",
    "        \n",
    "        #Downloading thematique image\n",
    "        thematique_img_url = os.path.join(base_folder_path, thematique_dict['odm_image'][1:])\n",
    "        thematique_img_local_path = './img/' + thematique_img_url.split('/')[-1]\n",
    "        r = requests.get(thematique_img_url)\n",
    "        with open(thematique_img_local_path, 'wb') as f:\n",
    "            f.write(r.content)\n",
    "        \n",
    "        #Section page\n",
    "        title_header = ''\n",
    "        pdf.add_page()\n",
    "        pdf.image(thematique_img_local_path, x=0, y=70, w=210)\n",
    "        pdf.ln(190)\n",
    "        pdf.set_font('Arial', 'B', 25)\n",
    "        pdf.cell(182, 6, thematique.upper())\n",
    "        \n",
    "        title_header = thematique.upper()\n",
    "\n",
    "        id_ovq_list = thematique_dict['id_ovq']\n",
    "        for id_ovq in id_ovq_list :\n",
    "\n",
    "            try :\n",
    "                ovq_dict = get_ovq_structure_cible(id_ovq, structure_cible_data)\n",
    "            except :\n",
    "                print('No structure cible for {}'.format(id_ovq))\n",
    "                ovq_dict = None\n",
    "            \n",
    "            if ovq_dict is not None :\n",
    "                pdf.add_page()\n",
    "                pdf.ln(3)\n",
    "                nom_ovq = drop_encoding_issues(ovq_dict['nom_ovq'])\n",
    "                ovq_text_url = os.path.join(base_folder_path, ovq_dict['odm_text'][1:])\n",
    "                r = requests.get(ovq_text_url)\n",
    "                ovq_text = drop_encoding_issues(r.text)\n",
    "                ovq_text = clean_description(ovq_text)\n",
    "                \n",
    "                #Display OVQ title\n",
    "                pdf.set_font('Arial', 'B', 16)\n",
    "                pdf.multi_cell(182, 6, nom_ovq, align='L')\n",
    "                pdf.ln(3)\n",
    "                #Display OVQ description\n",
    "                pdf.set_font('Arial', '', 10)\n",
    "                pdf.multi_cell(182, 5, ovq_text, align='J')\n",
    "                pdf.ln(3)\n",
    "\n",
    "                ovq_id_indicateur_list = [ind_dict['id_indicateur_fr'] for ind_dict in ovq_dict['indicateurs']]\n",
    "\n",
    "                add_page_for_ind = False\n",
    "                for id_indicateur in ovq_id_indicateur_list :\n",
    "                    if add_page_for_ind == True :\n",
    "                        pdf.add_page()\n",
    "                    ind_data = get_dep_indicateur_synthese_data(dep, id_indicateur, ovq_synthese_data)\n",
    "                    ind_struc = get_indicateur_structure_cible(id_indicateur, structure_cible_data)\n",
    "\n",
    "                    pdf = insert_indicateur(pdf, dep, ind_data, ind_struc)\n",
    "                    add_page_for_ind = True\n",
    "    \n",
    "    dep_name = get_dep_infos(dep)['dep_name']\n",
    "    pdf.output(os.path.join(reports_dir_path, 'pdf', 'par_departement', 'Baromètre_résultats_'+dep_name+'.pdf'), 'F')\n",
    "    \n",
    "    print(str(datetime.datetime.today()) + ' - ' + dep + '-' + dep_name + ' done.')"
   ]
  },
  {
   "cell_type": "markdown",
   "id": "unsigned-mandate",
   "metadata": {
    "papermill": {
     "duration": 0.117803,
     "end_time": "2021-07-01T02:05:23.518036",
     "exception": false,
     "start_time": "2021-07-01T02:05:23.400233",
     "status": "completed"
    },
    "tags": []
   },
   "source": [
    "## Compress to ZIP"
   ]
  },
  {
   "cell_type": "raw",
   "id": "olympic-corporation",
   "metadata": {
    "papermill": {
     "duration": 0.119788,
     "end_time": "2021-07-01T02:05:23.761825",
     "exception": false,
     "start_time": "2021-07-01T02:05:23.642037",
     "status": "completed"
    },
    "tags": []
   },
   "source": [
    "from zipfile import ZipFile"
   ]
  },
  {
   "cell_type": "raw",
   "id": "major-grounds",
   "metadata": {
    "papermill": {
     "duration": 0.120743,
     "end_time": "2021-07-01T02:05:24.000945",
     "exception": false,
     "start_time": "2021-07-01T02:05:23.880202",
     "status": "completed"
    },
    "tags": []
   },
   "source": [
    "today_date = str(datetime.datetime.today())[:10]\n",
    "today_date"
   ]
  },
  {
   "cell_type": "raw",
   "id": "united-missile",
   "metadata": {
    "papermill": {
     "duration": 0.118513,
     "end_time": "2021-07-01T02:05:24.235983",
     "exception": false,
     "start_time": "2021-07-01T02:05:24.117470",
     "status": "completed"
    },
    "tags": []
   },
   "source": [
    "my_zip_date = ZipFile(os.path.join(reports_dir_path, 'Baromètre_résultats_{}.zip'.format(today_date)), 'w')\n",
    "my_zip_latest = ZipFile(os.path.join(reports_dir_path, 'Baromètre_résultats_latest.zip'), 'w')\n",
    "\n",
    "for filename in os.listdir(os.path.join(reports_dir_path, 'pdf')) :\n",
    "    if filename.endswith('.pdf') :\n",
    "        my_zip_date.write(os.path.join(reports_dir_path, 'pdf', filename))\n",
    "        my_zip_latest.write(os.path.join(reports_dir_path, 'pdf', filename))\n",
    "        \n",
    "my_zip_date.close()\n",
    "my_zip_latest.close()"
   ]
  }
 ],
 "metadata": {
  "kernelspec": {
   "display_name": "Python 3",
   "language": "python",
   "name": "python3"
  },
  "language_info": {
   "codemirror_mode": {
    "name": "ipython",
    "version": 3
   },
   "file_extension": ".py",
   "mimetype": "text/x-python",
   "name": "python",
   "nbconvert_exporter": "python",
   "pygments_lexer": "ipython3",
   "version": "3.9.1"
  },
  "papermill": {
   "default_parameters": {},
   "duration": 5140.516908,
   "end_time": "2021-07-01T02:05:25.542120",
   "environment_variables": {},
   "exception": null,
   "input_path": "report-pdf-dep.ipynb",
   "output_path": "report-pdf-dep.ipynb",
   "parameters": {},
   "start_time": "2021-07-01T00:39:45.025212",
   "version": "2.3.2"
  }
 },
 "nbformat": 4,
 "nbformat_minor": 5
}
