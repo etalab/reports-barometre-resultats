{
 "cells": [
  {
   "cell_type": "markdown",
   "id": "formal-plane",
   "metadata": {
    "papermill": {
     "duration": 0.00774,
     "end_time": "2023-06-17T11:11:46.752235",
     "exception": false,
     "start_time": "2023-06-17T11:11:46.744495",
     "status": "completed"
    },
    "tags": []
   },
   "source": [
    "# Baromètre des résultats - PDF reports"
   ]
  },
  {
   "cell_type": "markdown",
   "id": "speaking-investigation",
   "metadata": {
    "papermill": {
     "duration": 0.006547,
     "end_time": "2023-06-17T11:11:46.766422",
     "exception": false,
     "start_time": "2023-06-17T11:11:46.759875",
     "status": "completed"
    },
    "tags": []
   },
   "source": [
    "## Imports"
   ]
  },
  {
   "cell_type": "code",
   "execution_count": 1,
   "id": "graphic-makeup",
   "metadata": {
    "execution": {
     "iopub.execute_input": "2023-06-17T11:11:46.804588Z",
     "iopub.status.busy": "2023-06-17T11:11:46.804041Z",
     "iopub.status.idle": "2023-06-17T11:11:47.173039Z",
     "shell.execute_reply": "2023-06-17T11:11:47.172265Z"
    },
    "papermill": {
     "duration": 0.401689,
     "end_time": "2023-06-17T11:11:47.174793",
     "exception": false,
     "start_time": "2023-06-17T11:11:46.773104",
     "status": "completed"
    },
    "tags": []
   },
   "outputs": [],
   "source": [
    "import json\n",
    "import os\n",
    "import datetime\n",
    "import re\n",
    "\n",
    "import requests\n",
    "import pandas as pd\n",
    "\n",
    "import plotly.graph_objects as go\n",
    "import plotly.express as px\n",
    "\n",
    "from fpdf import FPDF"
   ]
  },
  {
   "cell_type": "markdown",
   "id": "absent-control",
   "metadata": {
    "papermill": {
     "duration": 0.006915,
     "end_time": "2023-06-17T11:11:47.188520",
     "exception": false,
     "start_time": "2023-06-17T11:11:47.181605",
     "status": "completed"
    },
    "tags": []
   },
   "source": [
    "## Parameters"
   ]
  },
  {
   "cell_type": "code",
   "execution_count": 2,
   "id": "broadband-series",
   "metadata": {
    "execution": {
     "iopub.execute_input": "2023-06-17T11:11:47.202428Z",
     "iopub.status.busy": "2023-06-17T11:11:47.202124Z",
     "iopub.status.idle": "2023-06-17T11:11:47.206606Z",
     "shell.execute_reply": "2023-06-17T11:11:47.205916Z"
    },
    "papermill": {
     "duration": 0.013745,
     "end_time": "2023-06-17T11:11:47.208131",
     "exception": false,
     "start_time": "2023-06-17T11:11:47.194386",
     "status": "completed"
    },
    "tags": []
   },
   "outputs": [],
   "source": [
    "base_folder_path = 'https://raw.githubusercontent.com/etalab/barometre-resultats/master/frontend/static/'\n",
    "\n",
    "ovq_data_folder_path = os.path.join(base_folder_path, 'datasets', 'ovq-data')\n",
    "\n",
    "ovq_synthese_data_path = os.path.join(ovq_data_folder_path, 'prod', 'par_territoire', 'territoire-regional-global-light.json')\n",
    "ovq_detail_data_folder_path = os.path.join(ovq_data_folder_path, 'prod', 'par_thematique')\n",
    "ovq_structure_cible_path = os.path.join(ovq_data_folder_path, 'prod', 'structure', 'structure-cible.json')\n",
    "ovq_structure_families_path = os.path.join(ovq_data_folder_path, 'prod', 'structure', 'structure-families.json')\n",
    "\n",
    "#dep_taxo_url = os.path.join(base_folder_path, 'datasets', 'prod', 'taxonomies', 'departements.json')\n",
    "reg_taxo_url = os.path.join(base_folder_path, 'datasets', 'prod', 'taxonomies', 'regions.json')\n",
    "\n",
    "img_dir_path = './img/'\n",
    "reports_dir_path = './reports/'"
   ]
  },
  {
   "cell_type": "markdown",
   "id": "numerical-destiny",
   "metadata": {
    "papermill": {
     "duration": 0.006339,
     "end_time": "2023-06-17T11:11:47.220136",
     "exception": false,
     "start_time": "2023-06-17T11:11:47.213797",
     "status": "completed"
    },
    "tags": []
   },
   "source": [
    "## Functions"
   ]
  },
  {
   "cell_type": "code",
   "execution_count": 3,
   "id": "logical-landscape",
   "metadata": {
    "execution": {
     "iopub.execute_input": "2023-06-17T11:11:47.233696Z",
     "iopub.status.busy": "2023-06-17T11:11:47.233036Z",
     "iopub.status.idle": "2023-06-17T11:11:47.236503Z",
     "shell.execute_reply": "2023-06-17T11:11:47.235902Z"
    },
    "papermill": {
     "duration": 0.01159,
     "end_time": "2023-06-17T11:11:47.237705",
     "exception": false,
     "start_time": "2023-06-17T11:11:47.226115",
     "status": "completed"
    },
    "tags": []
   },
   "outputs": [],
   "source": [
    "def mkdir_ifnotexist(path) :\n",
    "    if not os.path.isdir(path) :\n",
    "        os.mkdir(path)"
   ]
  },
  {
   "cell_type": "code",
   "execution_count": 4,
   "id": "crude-depth",
   "metadata": {
    "execution": {
     "iopub.execute_input": "2023-06-17T11:11:47.251201Z",
     "iopub.status.busy": "2023-06-17T11:11:47.250683Z",
     "iopub.status.idle": "2023-06-17T11:11:47.452940Z",
     "shell.execute_reply": "2023-06-17T11:11:47.452124Z"
    },
    "papermill": {
     "duration": 0.211314,
     "end_time": "2023-06-17T11:11:47.454772",
     "exception": false,
     "start_time": "2023-06-17T11:11:47.243458",
     "status": "completed"
    },
    "tags": []
   },
   "outputs": [],
   "source": [
    "#Importing taxonomies data to make a function to get all infos on a given region\n",
    "r = requests.get(reg_taxo_url)\n",
    "reg_dict_list = json.loads(r.content)\n",
    "\n",
    "def get_reg_infos(reg, reg_dict_list=reg_dict_list) :\n",
    "    \n",
    "    reg_dict = [dict_ for dict_ in reg_dict_list if dict_['reg'] == reg][0]\n",
    "    reg_name = reg_dict['libelle']\n",
    "    \n",
    "    res = dict(reg=reg,\n",
    "               reg_name=reg_name\n",
    "              )\n",
    "    \n",
    "    return res"
   ]
  },
  {
   "cell_type": "code",
   "execution_count": 5,
   "id": "falling-rover",
   "metadata": {
    "execution": {
     "iopub.execute_input": "2023-06-17T11:11:47.468232Z",
     "iopub.status.busy": "2023-06-17T11:11:47.467651Z",
     "iopub.status.idle": "2023-06-17T11:11:47.471216Z",
     "shell.execute_reply": "2023-06-17T11:11:47.470485Z"
    },
    "papermill": {
     "duration": 0.01173,
     "end_time": "2023-06-17T11:11:47.472508",
     "exception": false,
     "start_time": "2023-06-17T11:11:47.460778",
     "status": "completed"
    },
    "tags": []
   },
   "outputs": [],
   "source": [
    "def get_reg_synthese_data(reg, ovq_synthese_data) :\n",
    "    for reg_dict in ovq_synthese_data :\n",
    "        if reg_dict['reg'] == reg :\n",
    "            res = reg_dict\n",
    "            break\n",
    "    return res"
   ]
  },
  {
   "cell_type": "code",
   "execution_count": 6,
   "id": "appropriate-palmer",
   "metadata": {
    "execution": {
     "iopub.execute_input": "2023-06-17T11:11:47.485765Z",
     "iopub.status.busy": "2023-06-17T11:11:47.485214Z",
     "iopub.status.idle": "2023-06-17T11:11:47.489609Z",
     "shell.execute_reply": "2023-06-17T11:11:47.488958Z"
    },
    "papermill": {
     "duration": 0.013053,
     "end_time": "2023-06-17T11:11:47.491186",
     "exception": false,
     "start_time": "2023-06-17T11:11:47.478133",
     "status": "completed"
    },
    "tags": []
   },
   "outputs": [],
   "source": [
    "def get_reg_indicateur_synthese_data(reg, id_indicateur, ovq_synthese_data) :\n",
    "    reg_dict = get_reg_synthese_data(reg, ovq_synthese_data)\n",
    "    \n",
    "    for ovq_dict in reg_dict['ovq'] :\n",
    "        for ind_dict in ovq_dict['indicateurs'] :\n",
    "            if id_indicateur in ind_dict.keys() :\n",
    "                res = ind_dict[id_indicateur][0]\n",
    "                break\n",
    "    return res"
   ]
  },
  {
   "cell_type": "code",
   "execution_count": 7,
   "id": "scenic-cotton",
   "metadata": {
    "execution": {
     "iopub.execute_input": "2023-06-17T11:11:47.506915Z",
     "iopub.status.busy": "2023-06-17T11:11:47.506068Z",
     "iopub.status.idle": "2023-06-17T11:11:47.510601Z",
     "shell.execute_reply": "2023-06-17T11:11:47.509615Z"
    },
    "papermill": {
     "duration": 0.014267,
     "end_time": "2023-06-17T11:11:47.512077",
     "exception": false,
     "start_time": "2023-06-17T11:11:47.497810",
     "status": "completed"
    },
    "tags": []
   },
   "outputs": [],
   "source": [
    "def get_indicateur_structure_cible(id_indicateur, structure_cible_data) :\n",
    "    for ovq_dict in structure_cible_data :\n",
    "        for ind_dict in ovq_dict['indicateurs'] :\n",
    "            if ind_dict['id_indicateur_fr'] == id_indicateur :\n",
    "                res = ind_dict\n",
    "                break\n",
    "    return res"
   ]
  },
  {
   "cell_type": "code",
   "execution_count": 8,
   "id": "reserved-landscape",
   "metadata": {
    "execution": {
     "iopub.execute_input": "2023-06-17T11:11:47.525823Z",
     "iopub.status.busy": "2023-06-17T11:11:47.525320Z",
     "iopub.status.idle": "2023-06-17T11:11:47.529033Z",
     "shell.execute_reply": "2023-06-17T11:11:47.528368Z"
    },
    "papermill": {
     "duration": 0.011996,
     "end_time": "2023-06-17T11:11:47.530502",
     "exception": false,
     "start_time": "2023-06-17T11:11:47.518506",
     "status": "completed"
    },
    "tags": []
   },
   "outputs": [],
   "source": [
    "def get_id_ovq_from_id_indicateur(id_indicateur, structure_cible_data) :\n",
    "    for ovq_dict in structure_cible_data :\n",
    "        for ind_dict in ovq_dict['indicateurs'] :\n",
    "            if ind_dict['id_indicateur_fr'] == id_indicateur :\n",
    "                id_ovq = ovq_dict['id_ovq']\n",
    "                break\n",
    "    return id_ovq"
   ]
  },
  {
   "cell_type": "code",
   "execution_count": 9,
   "id": "contrary-consequence",
   "metadata": {
    "execution": {
     "iopub.execute_input": "2023-06-17T11:11:47.547259Z",
     "iopub.status.busy": "2023-06-17T11:11:47.546405Z",
     "iopub.status.idle": "2023-06-17T11:11:47.551347Z",
     "shell.execute_reply": "2023-06-17T11:11:47.550216Z"
    },
    "papermill": {
     "duration": 0.0147,
     "end_time": "2023-06-17T11:11:47.552993",
     "exception": false,
     "start_time": "2023-06-17T11:11:47.538293",
     "status": "completed"
    },
    "tags": []
   },
   "outputs": [],
   "source": [
    "def get_ovq_structure_cible(id_ovq, structure_cible_data) :\n",
    "    for ovq_dict in structure_cible_data :\n",
    "        if ovq_dict['id_ovq'] == id_ovq :\n",
    "            res = ovq_dict\n",
    "            break\n",
    "    return res"
   ]
  },
  {
   "cell_type": "code",
   "execution_count": 10,
   "id": "instructional-algebra",
   "metadata": {
    "execution": {
     "iopub.execute_input": "2023-06-17T11:11:47.567274Z",
     "iopub.status.busy": "2023-06-17T11:11:47.566650Z",
     "iopub.status.idle": "2023-06-17T11:11:47.571989Z",
     "shell.execute_reply": "2023-06-17T11:11:47.571373Z"
    },
    "papermill": {
     "duration": 0.013985,
     "end_time": "2023-06-17T11:11:47.573190",
     "exception": false,
     "start_time": "2023-06-17T11:11:47.559205",
     "status": "completed"
    },
    "tags": []
   },
   "outputs": [],
   "source": [
    "def get_detail_data(id_indicateur, reg, level, structure_cible_data, base_folder_path) :\n",
    "    #level can be departemental, regional or national\n",
    "    \n",
    "    id_ovq = get_id_ovq_from_id_indicateur(id_indicateur, structure_cible_data)\n",
    "    ovq_struc = get_ovq_structure_cible(id_ovq, structure_cible_data)\n",
    "    \n",
    "    for source_dict in ovq_struc['odm_sources_ids'] :\n",
    "        if source_dict['odm_source_level'] == level :\n",
    "            source_url = source_dict['odm_source_file']\n",
    "            \n",
    "    full_source_url = os.path.join(base_folder_path, source_url[1:])\n",
    "    \n",
    "    r = requests.get(full_source_url)\n",
    "    data = json.loads(r.content)\n",
    "                \n",
    "    if level == 'regional' :\n",
    "        for reg_dict in data :\n",
    "            if reg_dict['reg'] == reg :\n",
    "                res = reg_dict[id_indicateur]\n",
    "                break\n",
    "                \n",
    "    elif level == 'national' :\n",
    "        res = data[0][id_indicateur]\n",
    "    \n",
    "    return res"
   ]
  },
  {
   "cell_type": "code",
   "execution_count": 11,
   "id": "decent-alexandria",
   "metadata": {
    "execution": {
     "iopub.execute_input": "2023-06-17T11:11:47.587455Z",
     "iopub.status.busy": "2023-06-17T11:11:47.587126Z",
     "iopub.status.idle": "2023-06-17T11:11:47.593048Z",
     "shell.execute_reply": "2023-06-17T11:11:47.592296Z"
    },
    "papermill": {
     "duration": 0.015233,
     "end_time": "2023-06-17T11:11:47.594505",
     "exception": false,
     "start_time": "2023-06-17T11:11:47.579272",
     "status": "completed"
    },
    "tags": []
   },
   "outputs": [],
   "source": [
    "def make_pct_bullet_chart(pct, bar_color='#3D49A5', bg_color='#BBBFDF') :\n",
    "    \n",
    "    if pct < 0 : #To improve if inverted bullet chart is possible with plotly\n",
    "        bar_color = '#ED782F'\n",
    "        bg_color = '#ED782F'\n",
    "    \n",
    "    rounded_pct = round(pct)\n",
    "    \n",
    "    fig = go.Figure(go.Indicator(\n",
    "        mode = \"gauge\",\n",
    "        gauge = {'shape': \"bullet\", 'axis': {'visible':False, 'range': [0, 100]}, 'bgcolor':bg_color, 'bordercolor':'white', 'bar':{'thickness':1, 'color':bar_color}},\n",
    "        value = rounded_pct,\n",
    "        number = {'suffix':'%'},\n",
    "        domain = {'x': [0, 1], 'y': [0, 1]}))\n",
    "    \n",
    "    fig.update_layout(height = 400, width=2400, paper_bgcolor='rgba(0,0,0,0)', plot_bgcolor='rgba(0,0,0,0)')\n",
    "\n",
    "    fig.add_annotation(dict(font=dict(color='white',size=100),\n",
    "                                            x=0.05,\n",
    "                                            y=0.5,\n",
    "                                            showarrow=False,\n",
    "                                            text=str(rounded_pct)+'%',\n",
    "                                            textangle=0,\n",
    "                                            xanchor='left',\n",
    "                                            xref=\"paper\",\n",
    "                                            yref=\"paper\"))\n",
    "\n",
    "    return fig"
   ]
  },
  {
   "cell_type": "code",
   "execution_count": 12,
   "id": "rubber-threshold",
   "metadata": {
    "execution": {
     "iopub.execute_input": "2023-06-17T11:11:47.610085Z",
     "iopub.status.busy": "2023-06-17T11:11:47.609655Z",
     "iopub.status.idle": "2023-06-17T11:11:47.614149Z",
     "shell.execute_reply": "2023-06-17T11:11:47.613476Z"
    },
    "papermill": {
     "duration": 0.014001,
     "end_time": "2023-06-17T11:11:47.615614",
     "exception": false,
     "start_time": "2023-06-17T11:11:47.601613",
     "status": "completed"
    },
    "tags": []
   },
   "outputs": [],
   "source": [
    "months_fr_dict = {\n",
    "    '01':'janvier',\n",
    "    '02':'février',\n",
    "    '03':'mars',\n",
    "    '04':'avril',\n",
    "    '05':'mai',\n",
    "    '06':'juin',\n",
    "    '07':'juillet',\n",
    "    '08':'août',\n",
    "    '09':'septembre',\n",
    "    '10':'octobre',\n",
    "    '11':'novembre',\n",
    "    '12':'décembre'\n",
    "}\n",
    "\n",
    "# yearmonth should be in '2020-01' format\n",
    "\n",
    "def yearmonth_to_fr(yearmonth) :\n",
    "    month = yearmonth[-2:]\n",
    "    year = yearmonth[:4]\n",
    "    \n",
    "    return months_fr_dict[month] + ' ' + year"
   ]
  },
  {
   "cell_type": "code",
   "execution_count": 13,
   "id": "african-andorra",
   "metadata": {
    "execution": {
     "iopub.execute_input": "2023-06-17T11:11:47.630740Z",
     "iopub.status.busy": "2023-06-17T11:11:47.630438Z",
     "iopub.status.idle": "2023-06-17T11:11:47.634073Z",
     "shell.execute_reply": "2023-06-17T11:11:47.633386Z"
    },
    "papermill": {
     "duration": 0.013064,
     "end_time": "2023-06-17T11:11:47.635351",
     "exception": false,
     "start_time": "2023-06-17T11:11:47.622287",
     "status": "completed"
    },
    "tags": []
   },
   "outputs": [],
   "source": [
    "def reformat_number(number) :\n",
    "    return '{:,}'.format(number).replace(',',' ').replace('.',',')"
   ]
  },
  {
   "cell_type": "code",
   "execution_count": 14,
   "id": "northern-priest",
   "metadata": {
    "execution": {
     "iopub.execute_input": "2023-06-17T11:11:47.649637Z",
     "iopub.status.busy": "2023-06-17T11:11:47.649437Z",
     "iopub.status.idle": "2023-06-17T11:11:47.657410Z",
     "shell.execute_reply": "2023-06-17T11:11:47.656736Z"
    },
    "papermill": {
     "duration": 0.017408,
     "end_time": "2023-06-17T11:11:47.658731",
     "exception": false,
     "start_time": "2023-06-17T11:11:47.641323",
     "status": "completed"
    },
    "tags": []
   },
   "outputs": [],
   "source": [
    "def make_detail_chart(df, chart_type) :\n",
    "    \n",
    "    text = ['' for i in range(len(df)-1)] + [reformat_number(list(df.sort_values('date')['value'])[-1])]\n",
    "    \n",
    "    if chart_type == 'histo' :\n",
    "        fig = px.bar(df, x='date', y='value',\n",
    "                         labels={'date':'', 'value':''}, \n",
    "                         height=400,\n",
    "                         width=900,\n",
    "                         color=None,\n",
    "                         orientation='v',\n",
    "                         text=text,\n",
    "                         title=None)\n",
    "        fig.update_layout(showlegend=False, uniformtext_minsize=8, uniformtext_mode='hide')\n",
    "        fig.layout['xaxis'].showgrid = False\n",
    "        fig.update_traces(marker_color='#00AC8C', textposition='outside', cliponaxis=False)\n",
    "        fig.update_xaxes(tickangle=-45,\n",
    "                         tickfont=dict(size=8),\n",
    "                         tickmode = 'array',\n",
    "                         tickvals = list(df['date']),\n",
    "                         ticktext= list(df['date_tick']))\n",
    "                        \n",
    "        return fig\n",
    "    \n",
    "    elif chart_type == 'line' :\n",
    "        fig = px.line(df, x='date', y='value',\n",
    "                         labels={'date':'', 'value':''}, \n",
    "                         height=400,\n",
    "                         width=750,\n",
    "                         color=None,\n",
    "                         orientation='v',\n",
    "                         text=text,\n",
    "                         title=None)\n",
    "        fig.update_layout(showlegend=False)\n",
    "        fig.layout['xaxis'].showgrid = False\n",
    "        fig.update_traces(marker=dict(size=12, line=dict(width=2, color='white')), marker_color='#00AC8C', line_color='#00AC8C', line_width=6, textposition='top center', cliponaxis=False)\n",
    "        fig.update_xaxes(tickangle=-45,\n",
    "                         tickfont=dict(size=8),\n",
    "                         tickmode = 'array',\n",
    "                         tickvals = list(df['date']),\n",
    "                         ticktext= list(df['date_tick']))\n",
    "        fig.data[0].update(mode='markers+lines+text')\n",
    "\n",
    "        return fig\n",
    "    \n",
    "    else :\n",
    "        print('Unknown chart type.')\n",
    "        return None"
   ]
  },
  {
   "cell_type": "code",
   "execution_count": 15,
   "id": "wound-award",
   "metadata": {
    "execution": {
     "iopub.execute_input": "2023-06-17T11:11:47.673204Z",
     "iopub.status.busy": "2023-06-17T11:11:47.672462Z",
     "iopub.status.idle": "2023-06-17T11:11:47.676339Z",
     "shell.execute_reply": "2023-06-17T11:11:47.675772Z"
    },
    "papermill": {
     "duration": 0.012509,
     "end_time": "2023-06-17T11:11:47.677873",
     "exception": false,
     "start_time": "2023-06-17T11:11:47.665364",
     "status": "completed"
    },
    "tags": []
   },
   "outputs": [],
   "source": [
    "def remove_html_tags(raw_html):\n",
    "    tag_regex = re.compile('<.*?>')\n",
    "    return re.sub(tag_regex, '', raw_html)"
   ]
  },
  {
   "cell_type": "code",
   "execution_count": 16,
   "id": "cubic-editing",
   "metadata": {
    "execution": {
     "iopub.execute_input": "2023-06-17T11:11:47.695379Z",
     "iopub.status.busy": "2023-06-17T11:11:47.694699Z",
     "iopub.status.idle": "2023-06-17T11:11:47.700717Z",
     "shell.execute_reply": "2023-06-17T11:11:47.700094Z"
    },
    "papermill": {
     "duration": 0.017645,
     "end_time": "2023-06-17T11:11:47.701944",
     "exception": false,
     "start_time": "2023-06-17T11:11:47.684299",
     "status": "completed"
    },
    "tags": []
   },
   "outputs": [],
   "source": [
    "def clean_description(text) :\n",
    "    \n",
    "    def drop_border_spaces(string) :\n",
    "        while string.startswith(' ') :\n",
    "            string = string[1:]\n",
    "        while string.endswith(' ') :\n",
    "            string = string[:-1]\n",
    "        return string\n",
    "    \n",
    "    text_lines = text.splitlines()\n",
    "    text_lines = [line.replace('<li>', '-') for line in text_lines]\n",
    "    text_lines = [remove_html_tags(line) for line in text_lines]\n",
    "    text_lines = [drop_border_spaces(line) for line in text_lines]\n",
    "    text_lines = [line for line in text_lines if line != '']\n",
    "    \n",
    "    #Managing lists\n",
    "    corr_text_lines = [text_lines[0]]\n",
    "    for i in range(1, len(text_lines)) :\n",
    "        if text_lines[i-1] == '-' :\n",
    "            new_line = '- ' + text_lines[i]\n",
    "        else :\n",
    "            new_line = text_lines[i]\n",
    "        corr_text_lines += [new_line]\n",
    "        \n",
    "    corr_text_lines = [line for line in corr_text_lines if line != '-']\n",
    "    \n",
    "    #Joining lines by linebreaks\n",
    "    corr_text = '\\n'.join(corr_text_lines)\n",
    "    \n",
    "    return corr_text"
   ]
  },
  {
   "cell_type": "code",
   "execution_count": 17,
   "id": "encouraging-governor",
   "metadata": {
    "execution": {
     "iopub.execute_input": "2023-06-17T11:11:47.717026Z",
     "iopub.status.busy": "2023-06-17T11:11:47.716460Z",
     "iopub.status.idle": "2023-06-17T11:11:47.720230Z",
     "shell.execute_reply": "2023-06-17T11:11:47.719570Z"
    },
    "papermill": {
     "duration": 0.01409,
     "end_time": "2023-06-17T11:11:47.722112",
     "exception": false,
     "start_time": "2023-06-17T11:11:47.708022",
     "status": "completed"
    },
    "tags": []
   },
   "outputs": [],
   "source": [
    "#Insert here any new character that would generate Encoding errors when exporting with FPDF\n",
    "def drop_encoding_issues(text) :\n",
    "    return text.replace('’', \"'\").replace('\\u20ac',' euros').replace('œ','oe').replace('…','...').replace('–','-')"
   ]
  },
  {
   "cell_type": "markdown",
   "id": "boring-delaware",
   "metadata": {
    "papermill": {
     "duration": 0.006704,
     "end_time": "2023-06-17T11:11:47.735807",
     "exception": false,
     "start_time": "2023-06-17T11:11:47.729103",
     "status": "completed"
    },
    "tags": []
   },
   "source": [
    "## Get data and build parameters out of it"
   ]
  },
  {
   "cell_type": "code",
   "execution_count": 18,
   "id": "radio-inclusion",
   "metadata": {
    "execution": {
     "iopub.execute_input": "2023-06-17T11:11:47.750937Z",
     "iopub.status.busy": "2023-06-17T11:11:47.750336Z",
     "iopub.status.idle": "2023-06-17T11:11:48.012331Z",
     "shell.execute_reply": "2023-06-17T11:11:48.011583Z"
    },
    "papermill": {
     "duration": 0.271699,
     "end_time": "2023-06-17T11:11:48.014174",
     "exception": false,
     "start_time": "2023-06-17T11:11:47.742475",
     "status": "completed"
    },
    "tags": []
   },
   "outputs": [],
   "source": [
    "#Loading OVQ synthese data\n",
    "r = requests.get(ovq_synthese_data_path)\n",
    "ovq_synthese_data = json.loads(r.content)"
   ]
  },
  {
   "cell_type": "code",
   "execution_count": 19,
   "id": "million-expense",
   "metadata": {
    "execution": {
     "iopub.execute_input": "2023-06-17T11:11:48.028893Z",
     "iopub.status.busy": "2023-06-17T11:11:48.028672Z",
     "iopub.status.idle": "2023-06-17T11:11:48.032669Z",
     "shell.execute_reply": "2023-06-17T11:11:48.032085Z"
    },
    "papermill": {
     "duration": 0.013232,
     "end_time": "2023-06-17T11:11:48.034053",
     "exception": false,
     "start_time": "2023-06-17T11:11:48.020821",
     "status": "completed"
    },
    "tags": []
   },
   "outputs": [
    {
     "name": "stdout",
     "output_type": "stream",
     "text": [
      "18\n"
     ]
    }
   ],
   "source": [
    "#Regions list\n",
    "reg_list = sorted(list(set([reg_dict['reg'] for reg_dict in ovq_synthese_data])))\n",
    "print(len(reg_list))"
   ]
  },
  {
   "cell_type": "code",
   "execution_count": 20,
   "id": "outer-spoke",
   "metadata": {
    "execution": {
     "iopub.execute_input": "2023-06-17T11:11:48.047943Z",
     "iopub.status.busy": "2023-06-17T11:11:48.047650Z",
     "iopub.status.idle": "2023-06-17T11:11:48.051999Z",
     "shell.execute_reply": "2023-06-17T11:11:48.051341Z"
    },
    "papermill": {
     "duration": 0.013037,
     "end_time": "2023-06-17T11:11:48.053226",
     "exception": false,
     "start_time": "2023-06-17T11:11:48.040189",
     "status": "completed"
    },
    "tags": []
   },
   "outputs": [
    {
     "name": "stdout",
     "output_type": "stream",
     "text": [
      "57\n"
     ]
    }
   ],
   "source": [
    "#Indicateurs list\n",
    "id_indicateur_list = []\n",
    "for reg_dict in ovq_synthese_data :\n",
    "    for ovq_dict in reg_dict['ovq'] :\n",
    "        for ind_dict in ovq_dict['indicateurs'] :\n",
    "            id_indicateur_list += list(ind_dict.keys())\n",
    "            \n",
    "id_indicateur_list = list(set(id_indicateur_list))\n",
    "print(len(id_indicateur_list))"
   ]
  },
  {
   "cell_type": "code",
   "execution_count": 21,
   "id": "miniature-produce",
   "metadata": {
    "execution": {
     "iopub.execute_input": "2023-06-17T11:11:48.069011Z",
     "iopub.status.busy": "2023-06-17T11:11:48.068525Z",
     "iopub.status.idle": "2023-06-17T11:11:48.506270Z",
     "shell.execute_reply": "2023-06-17T11:11:48.505529Z"
    },
    "papermill": {
     "duration": 0.447969,
     "end_time": "2023-06-17T11:11:48.508044",
     "exception": false,
     "start_time": "2023-06-17T11:11:48.060075",
     "status": "completed"
    },
    "tags": []
   },
   "outputs": [],
   "source": [
    "#Loading structure data\n",
    "\n",
    "r = requests.get(ovq_structure_cible_path)\n",
    "structure_cible_data = json.loads(r.content)\n",
    "\n",
    "r = requests.get(ovq_structure_families_path)\n",
    "structure_families_data = json.loads(r.content)"
   ]
  },
  {
   "cell_type": "markdown",
   "id": "raised-skill",
   "metadata": {
    "papermill": {
     "duration": 0.00667,
     "end_time": "2023-06-17T11:11:48.522046",
     "exception": false,
     "start_time": "2023-06-17T11:11:48.515376",
     "status": "completed"
    },
    "tags": []
   },
   "source": [
    "## Making the graphs"
   ]
  },
  {
   "cell_type": "code",
   "execution_count": 22,
   "id": "hazardous-tuning",
   "metadata": {
    "execution": {
     "iopub.execute_input": "2023-06-17T11:11:48.537839Z",
     "iopub.status.busy": "2023-06-17T11:11:48.537383Z",
     "iopub.status.idle": "2023-06-17T11:11:48.541032Z",
     "shell.execute_reply": "2023-06-17T11:11:48.540335Z"
    },
    "papermill": {
     "duration": 0.012688,
     "end_time": "2023-06-17T11:11:48.542363",
     "exception": false,
     "start_time": "2023-06-17T11:11:48.529675",
     "status": "completed"
    },
    "tags": []
   },
   "outputs": [],
   "source": [
    "mkdir_ifnotexist(os.path.join(img_dir_path, 'graphs'))"
   ]
  },
  {
   "cell_type": "markdown",
   "id": "sustained-content",
   "metadata": {
    "papermill": {
     "duration": 0.006751,
     "end_time": "2023-06-17T11:11:48.555178",
     "exception": false,
     "start_time": "2023-06-17T11:11:48.548427",
     "status": "completed"
    },
    "tags": []
   },
   "source": [
    "### Synthese gauges"
   ]
  },
  {
   "cell_type": "code",
   "execution_count": 23,
   "id": "sporting-tribe",
   "metadata": {
    "execution": {
     "iopub.execute_input": "2023-06-17T11:11:48.570769Z",
     "iopub.status.busy": "2023-06-17T11:11:48.569921Z",
     "iopub.status.idle": "2023-06-17T11:12:24.016126Z",
     "shell.execute_reply": "2023-06-17T11:12:24.012091Z"
    },
    "papermill": {
     "duration": 35.459028,
     "end_time": "2023-06-17T11:12:24.021375",
     "exception": false,
     "start_time": "2023-06-17T11:11:48.562347",
     "status": "completed"
    },
    "tags": []
   },
   "outputs": [
    {
     "name": "stdout",
     "output_type": "stream",
     "text": [
      "CPU times: user 5.08 s, sys: 279 ms, total: 5.36 s\n",
      "Wall time: 35.4 s\n"
     ]
    }
   ],
   "source": [
    "%%time\n",
    "for reg in reg_list :\n",
    "    for id_indicateur in id_indicateur_list :\n",
    "        data = get_reg_indicateur_synthese_data(reg, id_indicateur, ovq_synthese_data)\n",
    "        pct = data['target_percentage']\n",
    "        \n",
    "        if pct is not None :\n",
    "            fig = make_pct_bullet_chart(pct)\n",
    "\n",
    "            if fig is not None :\n",
    "                img_path = os.path.join(img_dir_path, 'graphs', 'bullet_chart-synthese-target_percentage-{}-reg_{}.png'.format(id_indicateur, reg))\n",
    "                fig.write_image(img_path)"
   ]
  },
  {
   "cell_type": "markdown",
   "id": "solar-orchestra",
   "metadata": {
    "papermill": {
     "duration": 0.006438,
     "end_time": "2023-06-17T11:12:24.036137",
     "exception": false,
     "start_time": "2023-06-17T11:12:24.029699",
     "status": "completed"
    },
    "tags": []
   },
   "source": [
    "### Detail graphs"
   ]
  },
  {
   "cell_type": "code",
   "execution_count": 24,
   "id": "fitted-smooth",
   "metadata": {
    "execution": {
     "iopub.execute_input": "2023-06-17T11:12:24.050981Z",
     "iopub.status.busy": "2023-06-17T11:12:24.050469Z",
     "iopub.status.idle": "2023-06-17T11:16:26.490516Z",
     "shell.execute_reply": "2023-06-17T11:16:26.489737Z"
    },
    "papermill": {
     "duration": 242.449723,
     "end_time": "2023-06-17T11:16:26.492360",
     "exception": false,
     "start_time": "2023-06-17T11:12:24.042637",
     "status": "completed"
    },
    "tags": []
   },
   "outputs": [
    {
     "name": "stdout",
     "output_type": "stream",
     "text": [
      "2023-06-17 11:12:43.703020 - Reg 01 done.\n"
     ]
    },
    {
     "name": "stdout",
     "output_type": "stream",
     "text": [
      "2023-06-17 11:12:56.542911 - Reg 02 done.\n"
     ]
    },
    {
     "name": "stdout",
     "output_type": "stream",
     "text": [
      "2023-06-17 11:13:09.424479 - Reg 03 done.\n"
     ]
    },
    {
     "name": "stdout",
     "output_type": "stream",
     "text": [
      "2023-06-17 11:13:22.316079 - Reg 04 done.\n"
     ]
    },
    {
     "name": "stdout",
     "output_type": "stream",
     "text": [
      "2023-06-17 11:13:34.895544 - Reg 06 done.\n"
     ]
    },
    {
     "name": "stdout",
     "output_type": "stream",
     "text": [
      "2023-06-17 11:13:48.882994 - Reg 11 done.\n"
     ]
    },
    {
     "name": "stdout",
     "output_type": "stream",
     "text": [
      "2023-06-17 11:14:02.049417 - Reg 24 done.\n"
     ]
    },
    {
     "name": "stdout",
     "output_type": "stream",
     "text": [
      "2023-06-17 11:14:14.960222 - Reg 27 done.\n"
     ]
    },
    {
     "name": "stdout",
     "output_type": "stream",
     "text": [
      "2023-06-17 11:14:27.935797 - Reg 28 done.\n"
     ]
    },
    {
     "name": "stdout",
     "output_type": "stream",
     "text": [
      "2023-06-17 11:14:40.960489 - Reg 32 done.\n"
     ]
    },
    {
     "name": "stdout",
     "output_type": "stream",
     "text": [
      "2023-06-17 11:14:53.933069 - Reg 44 done.\n"
     ]
    },
    {
     "name": "stdout",
     "output_type": "stream",
     "text": [
      "2023-06-17 11:15:06.940689 - Reg 52 done.\n"
     ]
    },
    {
     "name": "stdout",
     "output_type": "stream",
     "text": [
      "2023-06-17 11:15:20.079629 - Reg 53 done.\n"
     ]
    },
    {
     "name": "stdout",
     "output_type": "stream",
     "text": [
      "2023-06-17 11:15:33.295190 - Reg 75 done.\n"
     ]
    },
    {
     "name": "stdout",
     "output_type": "stream",
     "text": [
      "2023-06-17 11:15:47.299962 - Reg 76 done.\n"
     ]
    },
    {
     "name": "stdout",
     "output_type": "stream",
     "text": [
      "2023-06-17 11:16:00.501343 - Reg 84 done.\n"
     ]
    },
    {
     "name": "stdout",
     "output_type": "stream",
     "text": [
      "2023-06-17 11:16:13.516676 - Reg 93 done.\n"
     ]
    },
    {
     "name": "stdout",
     "output_type": "stream",
     "text": [
      "2023-06-17 11:16:26.486146 - Reg 94 done.\n",
      "CPU times: user 2min 3s, sys: 1.26 s, total: 2min 4s\n",
      "Wall time: 4min 2s\n"
     ]
    }
   ],
   "source": [
    "%%time\n",
    "short_level_dict = {\n",
    "    'reg':'regional',\n",
    "    'nat':'national'\n",
    "}\n",
    "\n",
    "for reg in reg_list :\n",
    "    for id_indicateur in id_indicateur_list :\n",
    "        \n",
    "        #Get information to know what level of data to use\n",
    "        synthese_data = get_reg_indicateur_synthese_data(reg, id_indicateur, ovq_synthese_data)\n",
    "        level = short_level_dict[synthese_data['from_level']]\n",
    "        \n",
    "        #Get chart type for indicateur\n",
    "        chart_type = get_indicateur_structure_cible(id_indicateur, structure_cible_data)['odm_chart_type']\n",
    "        \n",
    "        #Get data\n",
    "        detail_data = get_detail_data(id_indicateur, reg, level, structure_cible_data, base_folder_path)\n",
    "        df = pd.DataFrame(detail_data)\n",
    "        df = df.sort_values('date')\n",
    "        df['date_tick'] = df['date'].apply(lambda x : yearmonth_to_fr(x[:7]))\n",
    "        \n",
    "        #Making graphs\n",
    "        fig = make_detail_chart(df, chart_type)\n",
    "        img_path = os.path.join(img_dir_path, 'graphs', 'graph-detail-{}-reg_{}.png'.format(id_indicateur, reg))\n",
    "\n",
    "        if fig is not None :\n",
    "            fig.write_image(img_path)\n",
    "\n",
    "    print('{} - Reg {} done.'.format(datetime.datetime.today(), reg))"
   ]
  },
  {
   "cell_type": "markdown",
   "id": "binding-fellow",
   "metadata": {
    "papermill": {
     "duration": 0.008224,
     "end_time": "2023-06-17T11:16:26.517931",
     "exception": false,
     "start_time": "2023-06-17T11:16:26.509707",
     "status": "completed"
    },
    "tags": []
   },
   "source": [
    "## Building the reports"
   ]
  },
  {
   "cell_type": "code",
   "execution_count": 25,
   "id": "constitutional-pacific",
   "metadata": {
    "execution": {
     "iopub.execute_input": "2023-06-17T11:16:26.534831Z",
     "iopub.status.busy": "2023-06-17T11:16:26.534187Z",
     "iopub.status.idle": "2023-06-17T11:16:26.537692Z",
     "shell.execute_reply": "2023-06-17T11:16:26.537142Z"
    },
    "papermill": {
     "duration": 0.013253,
     "end_time": "2023-06-17T11:16:26.539062",
     "exception": false,
     "start_time": "2023-06-17T11:16:26.525809",
     "status": "completed"
    },
    "tags": []
   },
   "outputs": [],
   "source": [
    "mkdir_ifnotexist(reports_dir_path)"
   ]
  },
  {
   "cell_type": "code",
   "execution_count": 26,
   "id": "departmental-jordan",
   "metadata": {
    "execution": {
     "iopub.execute_input": "2023-06-17T11:16:26.558425Z",
     "iopub.status.busy": "2023-06-17T11:16:26.557811Z",
     "iopub.status.idle": "2023-06-17T11:16:26.561112Z",
     "shell.execute_reply": "2023-06-17T11:16:26.560541Z"
    },
    "papermill": {
     "duration": 0.015785,
     "end_time": "2023-06-17T11:16:26.562348",
     "exception": false,
     "start_time": "2023-06-17T11:16:26.546563",
     "status": "completed"
    },
    "tags": []
   },
   "outputs": [],
   "source": [
    "global title_header\n",
    "title_header = ''"
   ]
  },
  {
   "cell_type": "code",
   "execution_count": 27,
   "id": "baking-virginia",
   "metadata": {
    "execution": {
     "iopub.execute_input": "2023-06-17T11:16:26.577995Z",
     "iopub.status.busy": "2023-06-17T11:16:26.577345Z",
     "iopub.status.idle": "2023-06-17T11:16:26.583617Z",
     "shell.execute_reply": "2023-06-17T11:16:26.582945Z"
    },
    "papermill": {
     "duration": 0.015412,
     "end_time": "2023-06-17T11:16:26.584874",
     "exception": false,
     "start_time": "2023-06-17T11:16:26.569462",
     "status": "completed"
    },
    "tags": []
   },
   "outputs": [],
   "source": [
    "class PDF(FPDF):\n",
    "    def header(self):\n",
    "        if (self.page_no() != 1 ):\n",
    "            # Logo\n",
    "            self.image(os.path.join(img_dir_path, 'gouv.png'), 10, 8, 45)\n",
    "            # Arial bold 15\n",
    "            self.cell(50)\n",
    "            self.set_font('Arial', 'B', 16)\n",
    "            self.cell(80, 15, title_header, 0, 1, 'A')\n",
    "\n",
    "            # Move to the right\n",
    "            # Title\n",
    "            self.set_font('Arial', 'I', 9)\n",
    "            self.cell(50)\n",
    "            #self.cell(50, 10, subtitle_header+' - aides-entreprises.data.gouv.fr', 0, 1, 'A', link='https://aides-entreprises.data.gouv.fr/')\n",
    "            self.cell(50, 10, 'www.gouvernement.fr/les-actions-du-gouvernement', 0, 1, 'A', link='https://www.gouvernement.fr/les-actions-du-gouvernement')\n",
    "            # Line break  \n",
    "            pdf.line(40, 38, 170, 38)\n",
    "            self.ln(7)\n",
    "        \n",
    "    # Page footer\n",
    "    def footer(self):\n",
    "        if (self.page_no() != 1 ):\n",
    "            # Position at 1.5 cm from bottom\n",
    "            self.set_y(-15)\n",
    "            # Arial italic 8\n",
    "            self.set_font('Arial', 'I', 8)\n",
    "            # Page number\n",
    "            \n",
    "            self.cell(0, 10, 'Direction Interministérielle du Numérique (DINUM) - Page ' + str(self.page_no()) + '/{nb}', 0, 0, 'C')"
   ]
  },
  {
   "cell_type": "code",
   "execution_count": 28,
   "id": "ceramic-suggestion",
   "metadata": {
    "execution": {
     "iopub.execute_input": "2023-06-17T11:16:26.602640Z",
     "iopub.status.busy": "2023-06-17T11:16:26.602440Z",
     "iopub.status.idle": "2023-06-17T11:16:26.632180Z",
     "shell.execute_reply": "2023-06-17T11:16:26.631602Z"
    },
    "papermill": {
     "duration": 0.039293,
     "end_time": "2023-06-17T11:16:26.633523",
     "exception": false,
     "start_time": "2023-06-17T11:16:26.594230",
     "status": "completed"
    },
    "tags": []
   },
   "outputs": [],
   "source": [
    "def insert_indicateur(pdf, reg, ind_data, ind_struc) :\n",
    "    \n",
    "    #Getting relevant information in data\n",
    "    initial_value = ind_data['initial_value']\n",
    "    initial_value_date = ind_data['initial_value_date']\n",
    "    latest_value = ind_data['latest_value']\n",
    "    latest_value_date = ind_data['latest_value_date']\n",
    "    target_value = ind_data['target']\n",
    "    target_percentage = ind_data['target_percentage']\n",
    "    target_value_date = ind_data['target_date']\n",
    "    progression_percentage = ind_data['progression_percentage']\n",
    "    from_level = ind_data['from_level']\n",
    "    \n",
    "    #Getting relevant information in structure\n",
    "    id_indicateur = ind_struc['id_indicateur_fr']\n",
    "    nom_indicateur = drop_encoding_issues(ind_struc['nom_indicateur'])\n",
    "    ind_text_url = drop_encoding_issues(ind_struc['odm_text'])\n",
    "    kpi_format = ind_struc['odm_kpi_format']\n",
    "    kpi_unit = drop_encoding_issues(ind_struc['odm_kpi_unit'])\n",
    "    chart_unit = drop_encoding_issues(ind_struc['odm_chart_unit'])\n",
    "    to_round = ind_struc['toRound']\n",
    "    \n",
    "    #Numbers formating\n",
    "    if to_round is not None :\n",
    "        if initial_value is not None :\n",
    "            initial_value = round(initial_value, to_round)\n",
    "            initial_value = reformat_number(initial_value)\n",
    "        if latest_value is not None :\n",
    "            latest_value = round(latest_value, to_round)\n",
    "            latest_value = reformat_number(latest_value)\n",
    "        if target_value is not None :\n",
    "            target_value = round(target_value, to_round)\n",
    "            target_value = reformat_number(target_value)\n",
    "            \n",
    "    if progression_percentage is not None :\n",
    "        if progression_percentage < 0 :\n",
    "            progression_percentage_str = '- '+str(-progression_percentage).replace('.',',')+' %'\n",
    "        else :\n",
    "            progression_percentage_str = '+ '+str(progression_percentage).replace('.',',')+' %'\n",
    "    else :\n",
    "        progression_percentage_str = ''\n",
    "    \n",
    "    if kpi_unit.startswith('%') :\n",
    "        if initial_value is not None :\n",
    "            initial_value += ' %'\n",
    "        if latest_value is not None :\n",
    "            latest_value += ' %'\n",
    "        if target_value is not None :\n",
    "            target_value += ' %'\n",
    "        kpi_unit = kpi_unit.replace('% ','').replace('%','')\n",
    "    \n",
    "    #Initializing blocks parameters\n",
    "    nb_blocks = 1\n",
    "    ini_block = False\n",
    "    tar_block = False\n",
    "    \n",
    "    #Current value (always present)\n",
    "    latest_value_date_str = yearmonth_to_fr(latest_value_date[:7])\n",
    "    latest_value_str = str(latest_value).replace('.',',')\n",
    "    \n",
    "    #Insert initial block if init value exists\n",
    "    if initial_value is not None :\n",
    "        if float(initial_value.replace(',','.').replace(' ','').replace('%','')) > 0 :\n",
    "            initial_value_date_str = yearmonth_to_fr(initial_value_date[:7])\n",
    "            initial_value_str = str(initial_value).replace('.',',')\n",
    "            nb_blocks += 1\n",
    "            ini_block = True\n",
    "        \n",
    "    #Insert target block if target value exists\n",
    "    if target_value is not None :\n",
    "        target_value_date_str = yearmonth_to_fr(target_value_date[:7])\n",
    "        target_value_str = str(target_value).replace('.',',')\n",
    "        nb_blocks += 1\n",
    "        tar_block = True\n",
    "        \n",
    "    #Blocks settings depending on existing data\n",
    "    block_spacing = 5\n",
    "    block_width = (182 - (nb_blocks-1)*block_spacing)/nb_blocks\n",
    "    \n",
    "    #INDICATOR DISPLAY\n",
    "    \n",
    "    #Indicator title\n",
    "    pdf.set_text_color(0,0,0)\n",
    "    pdf.set_font('Arial', 'B', 12)\n",
    "    pdf.multi_cell(182, 5, 'Indicateur : '+ nom_indicateur, align='L')\n",
    "    pdf.ln(3)\n",
    "    \n",
    "    #Indicator description\n",
    "    full_ind_text_url = os.path.join(base_folder_path, ind_text_url[1:])\n",
    "    r = requests.get(full_ind_text_url)\n",
    "    ind_text = drop_encoding_issues(r.text)\n",
    "    ind_text = clean_description(ind_text)\n",
    "    \n",
    "    pdf.set_font('Arial', '', 10)\n",
    "    pdf.multi_cell(182, 5, ind_text, align='J')\n",
    "    pdf.ln(3)\n",
    "    \n",
    "    #Data geo level indication\n",
    "    if from_level == 'reg' :\n",
    "        from_level_str = \"Les résultats pour la région : \" + get_reg_infos(reg)['reg_name']\n",
    "    elif from_level == 'nat' :\n",
    "        from_level_str = \"Données uniquement disponibles pour la France\"\n",
    "    \n",
    "    pdf.set_text_color(0,0,0)\n",
    "    pdf.set_font('Arial', '', 10)\n",
    "    pdf.set_fill_color(245,245,245);\n",
    "    pdf.cell(182, 8, from_level_str, 0, 2, 'L', fill=True)\n",
    "    pdf.ln(3)\n",
    "    \n",
    "    #Indicator blocks\n",
    "    \n",
    "    y_blocks_top = pdf.get_y()\n",
    "    x_blocks_left = pdf.get_x()\n",
    "    \n",
    "    #Initial value block\n",
    "    if ini_block == True :\n",
    "        pdf.set_fill_color(253, 244, 242)\n",
    "        pdf.set_font('Arial', '', 8)\n",
    "        pdf.cell(block_width, 8, 'En {}'.format(initial_value_date_str), 0, 1, 'L', fill=True)\n",
    "        pdf.set_fill_color(254, 249, 248)\n",
    "        pdf.set_font('Arial', 'B', 20)\n",
    "        pdf.cell(block_width, 10, initial_value_str, 0, 1, 'L', fill=True)\n",
    "        pdf.set_font('Arial', '', 10)\n",
    "        pdf.cell(block_width, 3, kpi_unit, 0, 1, 'L', fill=True)\n",
    "        block_left_x = pdf.get_x()\n",
    "        block_bottom_y = pdf.get_y()\n",
    "        y_blocks_top = block_bottom_y - (8+10+3) #Just in case there is an auto page break that puts blocks in different y\n",
    "        pdf.cell(block_width, 10, '', 0, 1, 'L', fill=True)\n",
    "    \n",
    "    #Current value block (always here)\n",
    "    if ini_block == True :\n",
    "        pdf.set_xy(block_width + pdf.l_margin + block_spacing, y_blocks_top)\n",
    "    pdf.set_fill_color(234, 244, 239)\n",
    "    pdf.set_font('Arial', '', 8)\n",
    "    pdf.cell(block_width, 8, 'En {}'.format(latest_value_date_str), 0, 2, 'L', fill=True)\n",
    "    pdf.set_fill_color(244, 250, 247)\n",
    "    pdf.set_font('Arial', 'B', 20)\n",
    "    pdf.cell(block_width, 10, latest_value_str, 0, 2, 'L', fill=True)\n",
    "    pdf.set_font('Arial', '', 10)\n",
    "    pdf.cell(block_width, 3, kpi_unit, 0, 2, 'L', fill=True)\n",
    "    block_left_x = pdf.get_x()\n",
    "    block_bottom_y = pdf.get_y()\n",
    "    y_blocks_top = block_bottom_y - (8+10+3) #Just in case there is an auto page break that puts blocks in different y\n",
    "    pdf.cell(block_width, 10, progression_percentage_str, 0, 2, 'L', fill=True)\n",
    "    \n",
    "    #Target value block\n",
    "    if tar_block == True :\n",
    "        if nb_blocks == 2 :\n",
    "            pdf.set_xy(block_width + pdf.l_margin + block_spacing, y_blocks_top)\n",
    "        elif nb_blocks == 3 :\n",
    "            pdf.set_xy(2*block_width + pdf.l_margin + 2*block_spacing, y_blocks_top)\n",
    "            \n",
    "        pdf.set_fill_color(229, 229, 243)\n",
    "        pdf.set_font('Arial', '', 8)\n",
    "        pdf.cell(block_width, 8, 'Cible {}'.format(target_value_date_str), 0, 2, 'L', fill=True)\n",
    "        pdf.set_fill_color(242, 242, 248)\n",
    "        pdf.set_font('Arial', 'B', 20)\n",
    "        pdf.cell(block_width, 10, target_value_str, 0, 2, 'L', fill=True)\n",
    "        pdf.set_font('Arial', '', 10)\n",
    "        pdf.cell(block_width, 3, kpi_unit, 0, 2, 'L', fill=True)\n",
    "        \n",
    "        #Inserting bullet chart (prog %) if exists\n",
    "        block_left_x = pdf.get_x()\n",
    "        block_bottom_y = pdf.get_y()\n",
    "        pdf.cell(block_width, 10, '', 0, 2, 'L', fill=True)\n",
    "        bullet_chart_width = 55\n",
    "        pdf.set_xy(block_left_x + block_width/2 - bullet_chart_width/2, block_bottom_y)\n",
    "        try :\n",
    "            prog_img_path = os.path.join(img_dir_path, 'graphs', 'bullet_chart-synthese-target_percentage-{}-reg_{}.png'.format(id_indicateur, reg))\n",
    "            pdf.image(prog_img_path, w=bullet_chart_width)\n",
    "        except :\n",
    "            pass\n",
    "    \n",
    "    #To go properly on next line (under blocks)\n",
    "    pdf.set_xy(block_left_x, block_bottom_y)\n",
    "    pdf.cell(0, 10, '', 0, 1) #Just to go to next line\n",
    "    \n",
    "    #CHART DISPLAY\n",
    "    try :\n",
    "        chart_width = 140\n",
    "        chart_img_path = os.path.join(img_dir_path, 'graphs', 'graph-detail-{}-reg_{}.png'.format(id_indicateur, reg))\n",
    "        pdf.set_x(x_blocks_left + 182/2 - chart_width/2)\n",
    "        pdf.image(chart_img_path, w=chart_width)\n",
    "        \n",
    "        pdf.set_x(x_blocks_left)\n",
    "        pdf.set_font('Arial', 'I', 8)\n",
    "        pdf.cell(182, 8, 'Unité : {}'.format(chart_unit), 0, 2, 'C')\n",
    "    except :\n",
    "        print('No chart found for {}'.format(id_indicateur))\n",
    "\n",
    "    return pdf"
   ]
  },
  {
   "cell_type": "code",
   "execution_count": 29,
   "id": "narrative-design",
   "metadata": {
    "execution": {
     "iopub.execute_input": "2023-06-17T11:16:26.649130Z",
     "iopub.status.busy": "2023-06-17T11:16:26.648899Z",
     "iopub.status.idle": "2023-06-17T11:35:36.437590Z",
     "shell.execute_reply": "2023-06-17T11:35:36.436790Z"
    },
    "papermill": {
     "duration": 1149.806624,
     "end_time": "2023-06-17T11:35:36.447719",
     "exception": false,
     "start_time": "2023-06-17T11:16:26.641095",
     "status": "completed"
    },
    "tags": []
   },
   "outputs": [
    {
     "name": "stdout",
     "output_type": "stream",
     "text": [
      "2023-06-17 11:17:45.925460 - Guadeloupe done.\n"
     ]
    },
    {
     "name": "stdout",
     "output_type": "stream",
     "text": [
      "2023-06-17 11:18:47.401064 - Martinique done.\n"
     ]
    },
    {
     "name": "stdout",
     "output_type": "stream",
     "text": [
      "2023-06-17 11:19:49.654057 - Guyane done.\n"
     ]
    },
    {
     "name": "stdout",
     "output_type": "stream",
     "text": [
      "2023-06-17 11:20:51.698495 - La Réunion done.\n"
     ]
    },
    {
     "name": "stdout",
     "output_type": "stream",
     "text": [
      "2023-06-17 11:21:44.737569 - Mayotte done.\n"
     ]
    },
    {
     "name": "stdout",
     "output_type": "stream",
     "text": [
      "2023-06-17 11:22:55.446568 - Île-de-France done.\n"
     ]
    },
    {
     "name": "stdout",
     "output_type": "stream",
     "text": [
      "2023-06-17 11:23:57.198696 - Centre-Val de Loire done.\n"
     ]
    },
    {
     "name": "stdout",
     "output_type": "stream",
     "text": [
      "2023-06-17 11:24:58.870424 - Bourgogne-Franche-Comté done.\n"
     ]
    },
    {
     "name": "stdout",
     "output_type": "stream",
     "text": [
      "2023-06-17 11:26:00.452307 - Normandie done.\n"
     ]
    },
    {
     "name": "stdout",
     "output_type": "stream",
     "text": [
      "2023-06-17 11:27:02.661126 - Hauts-de-France done.\n"
     ]
    },
    {
     "name": "stdout",
     "output_type": "stream",
     "text": [
      "2023-06-17 11:28:17.241545 - Grand Est done.\n"
     ]
    },
    {
     "name": "stdout",
     "output_type": "stream",
     "text": [
      "2023-06-17 11:29:18.373156 - Pays de la Loire done.\n"
     ]
    },
    {
     "name": "stdout",
     "output_type": "stream",
     "text": [
      "2023-06-17 11:30:19.667283 - Bretagne done.\n"
     ]
    },
    {
     "name": "stdout",
     "output_type": "stream",
     "text": [
      "2023-06-17 11:31:20.975842 - Nouvelle-Aquitaine done.\n"
     ]
    },
    {
     "name": "stdout",
     "output_type": "stream",
     "text": [
      "2023-06-17 11:32:22.009383 - Occitanie done.\n"
     ]
    },
    {
     "name": "stdout",
     "output_type": "stream",
     "text": [
      "2023-06-17 11:33:34.804712 - Auvergne-Rhône-Alpes done.\n"
     ]
    },
    {
     "name": "stdout",
     "output_type": "stream",
     "text": [
      "2023-06-17 11:34:36.699552 - Provence-Alpes-Côte d'Azur done.\n"
     ]
    },
    {
     "name": "stdout",
     "output_type": "stream",
     "text": [
      "2023-06-17 11:35:36.428639 - Corse done.\n",
      "CPU times: user 17min 18s, sys: 32.2 s, total: 17min 50s\n",
      "Wall time: 19min 9s\n"
     ]
    }
   ],
   "source": [
    "%%time\n",
    "\n",
    "mkdir_ifnotexist(os.path.join(reports_dir_path, 'pdf'))\n",
    "mkdir_ifnotexist(os.path.join(reports_dir_path, 'pdf', 'par_region'))\n",
    "\n",
    "for reg in reg_list :\n",
    "    \n",
    "    pdf = PDF()\n",
    "    pdf.alias_nb_pages()\n",
    "    pdf.add_page()\n",
    "\n",
    "    #Logos\n",
    "    pdf.image(os.path.join(img_dir_path, 'gouv.png'), 10, 8, 125)\n",
    "    \n",
    "    # Arial bold 15\n",
    "    pdf.set_font('Arial', 'B', 28)\n",
    "    # Move to the right\n",
    "    pdf.cell(50)\n",
    "    pdf.ln(100)\n",
    "    \n",
    "    # Title\n",
    "    pdf.cell(10)\n",
    "    pdf.cell(50, 10, 'BAROMÈTRE DES RÉSULTATS DE', 0, 1, 'A')\n",
    "    pdf.ln(10)\n",
    "    pdf.cell(10)\n",
    "    pdf.cell(50, 10, \"L'ACTION PUBLIQUE\", 0, 1, 'A')\n",
    "    pdf.ln(10)\n",
    "    pdf.cell(60)\n",
    "\n",
    "    pdf.set_font('Arial', 'I', 20)\n",
    "    pdf.ln(10)\n",
    "    pdf.cell(10)\n",
    "    pdf.cell(50, 10, 'Présentation des résultats pour la région :', 0, 1, 'A')\n",
    "    pdf.ln(10)\n",
    "    pdf.cell(10)\n",
    "    pdf.cell(50, 10, reg + ' - ' + get_reg_infos(reg)['reg_name'], 0, 1, 'A')\n",
    "    pdf.ln(70)\n",
    "\n",
    "    pdf.set_font('Arial', 'I', 8)\n",
    "\n",
    "    pdf.cell(10)\n",
    "    pdf.cell(50, 10, \"Données issues du baromètre des résultats consultable sur https://www.gouvernement.fr/les-actions-du-gouvernement\", 0, 1, 'A')\n",
    "    \n",
    "    #Indicateurs\n",
    "    \n",
    "    pdf.set_left_margin(14)\n",
    "    pdf.set_right_margin(14)\n",
    "    \n",
    "    for thematique_dict in structure_families_data :\n",
    "    \n",
    "        thematique = thematique_dict['nom_ovq']\n",
    "        \n",
    "        #Downloading thematique image\n",
    "        thematique_img_url = os.path.join(base_folder_path, thematique_dict['odm_image'][1:])\n",
    "        thematique_img_local_path = './img/' + thematique_img_url.split('/')[-1]\n",
    "        r = requests.get(thematique_img_url)\n",
    "        with open(thematique_img_local_path, 'wb') as f:\n",
    "            f.write(r.content)\n",
    "        \n",
    "        #Section page\n",
    "        title_header = ''\n",
    "        pdf.add_page()\n",
    "        pdf.image(thematique_img_local_path, x=0, y=70, w=210)\n",
    "        pdf.ln(190)\n",
    "        pdf.set_font('Arial', 'B', 25)\n",
    "        pdf.cell(182, 6, thematique.upper())\n",
    "        \n",
    "        title_header = thematique.upper()\n",
    "\n",
    "        id_ovq_list = thematique_dict['id_ovq']\n",
    "        for id_ovq in id_ovq_list :\n",
    "\n",
    "            try :\n",
    "                ovq_dict = get_ovq_structure_cible(id_ovq, structure_cible_data)\n",
    "            except :\n",
    "                print('No structure cible for {}'.format(id_ovq))\n",
    "                ovq_dict = None\n",
    "            \n",
    "            if ovq_dict is not None :\n",
    "                pdf.add_page()\n",
    "                pdf.ln(3)\n",
    "                nom_ovq = drop_encoding_issues(ovq_dict['nom_ovq'])\n",
    "                ovq_text_url = os.path.join(base_folder_path, ovq_dict['odm_text'][1:])\n",
    "                r = requests.get(ovq_text_url)\n",
    "                ovq_text = drop_encoding_issues(r.text)\n",
    "                ovq_text = clean_description(ovq_text)\n",
    "                \n",
    "                #Display OVQ title\n",
    "                pdf.set_font('Arial', 'B', 16)\n",
    "                pdf.multi_cell(182, 6, nom_ovq, align='L')\n",
    "                pdf.ln(3)\n",
    "                #Display OVQ description\n",
    "                pdf.set_font('Arial', '', 10)\n",
    "                pdf.multi_cell(182, 5, ovq_text, align='J')\n",
    "                pdf.ln(3)\n",
    "\n",
    "                ovq_id_indicateur_list = [ind_dict['id_indicateur_fr'] for ind_dict in ovq_dict['indicateurs']]\n",
    "\n",
    "                add_page_for_ind = False\n",
    "                for id_indicateur in ovq_id_indicateur_list :\n",
    "                    if add_page_for_ind == True :\n",
    "                        pdf.add_page()\n",
    "                    ind_data = get_reg_indicateur_synthese_data(reg, id_indicateur, ovq_synthese_data)\n",
    "                    ind_struc = get_indicateur_structure_cible(id_indicateur, structure_cible_data)\n",
    "\n",
    "                    pdf = insert_indicateur(pdf, reg, ind_data, ind_struc)\n",
    "                    add_page_for_ind = True\n",
    "    \n",
    "    reg_name = get_reg_infos(reg)['reg_name']\n",
    "    pdf.output(os.path.join(reports_dir_path, 'pdf', 'par_region', 'Baromètre_résultats_'+reg_name+'.pdf'), 'F')\n",
    "    \n",
    "    print(str(datetime.datetime.today()) + ' - ' + reg_name + ' done.')"
   ]
  },
  {
   "cell_type": "markdown",
   "id": "packed-information",
   "metadata": {
    "papermill": {
     "duration": 0.008515,
     "end_time": "2023-06-17T11:35:36.465369",
     "exception": false,
     "start_time": "2023-06-17T11:35:36.456854",
     "status": "completed"
    },
    "tags": []
   },
   "source": [
    "## Compress to ZIP"
   ]
  },
  {
   "cell_type": "raw",
   "id": "impaired-framing",
   "metadata": {
    "papermill": {
     "duration": 0.008394,
     "end_time": "2023-06-17T11:35:36.481716",
     "exception": false,
     "start_time": "2023-06-17T11:35:36.473322",
     "status": "completed"
    },
    "tags": []
   },
   "source": [
    "from zipfile import ZipFile"
   ]
  },
  {
   "cell_type": "raw",
   "id": "basic-sitting",
   "metadata": {
    "papermill": {
     "duration": 0.007951,
     "end_time": "2023-06-17T11:35:36.497467",
     "exception": false,
     "start_time": "2023-06-17T11:35:36.489516",
     "status": "completed"
    },
    "tags": []
   },
   "source": [
    "today_date = str(datetime.datetime.today())[:10]\n",
    "today_date"
   ]
  },
  {
   "cell_type": "raw",
   "id": "nutritional-remainder",
   "metadata": {
    "papermill": {
     "duration": 0.008183,
     "end_time": "2023-06-17T11:35:36.513400",
     "exception": false,
     "start_time": "2023-06-17T11:35:36.505217",
     "status": "completed"
    },
    "tags": []
   },
   "source": [
    "my_zip_date = ZipFile(os.path.join(reports_dir_path, 'Baromètre_résultats_{}.zip'.format(today_date)), 'w')\n",
    "my_zip_latest = ZipFile(os.path.join(reports_dir_path, 'Baromètre_résultats_latest.zip'), 'w')\n",
    "\n",
    "for filename in os.listdir(os.path.join(reports_dir_path, 'pdf')) :\n",
    "    if filename.endswith('.pdf') :\n",
    "        my_zip_date.write(os.path.join(reports_dir_path, 'pdf', filename))\n",
    "        my_zip_latest.write(os.path.join(reports_dir_path, 'pdf', filename))\n",
    "        \n",
    "my_zip_date.close()\n",
    "my_zip_latest.close()"
   ]
  },
  {
   "cell_type": "code",
   "execution_count": null,
   "id": "japanese-humidity",
   "metadata": {
    "papermill": {
     "duration": 0.008286,
     "end_time": "2023-06-17T11:35:36.531151",
     "exception": false,
     "start_time": "2023-06-17T11:35:36.522865",
     "status": "completed"
    },
    "tags": []
   },
   "outputs": [],
   "source": []
  }
 ],
 "metadata": {
  "kernelspec": {
   "display_name": "Python 3",
   "language": "python",
   "name": "python3"
  },
  "language_info": {
   "codemirror_mode": {
    "name": "ipython",
    "version": 3
   },
   "file_extension": ".py",
   "mimetype": "text/x-python",
   "name": "python",
   "nbconvert_exporter": "python",
   "pygments_lexer": "ipython3",
   "version": "3.11.1"
  },
  "papermill": {
   "default_parameters": {},
   "duration": 1433.962294,
   "end_time": "2023-06-17T11:35:39.162439",
   "environment_variables": {},
   "exception": null,
   "input_path": "report-pdf-reg.ipynb",
   "output_path": "report-pdf-reg.ipynb",
   "parameters": {},
   "start_time": "2023-06-17T11:11:45.200145",
   "version": "2.3.2"
  }
 },
 "nbformat": 4,
 "nbformat_minor": 5
}