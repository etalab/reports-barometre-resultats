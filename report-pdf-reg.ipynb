{
 "cells": [
  {
   "cell_type": "markdown",
   "id": "formal-plane",
   "metadata": {
    "papermill": {
     "duration": 0.007536,
     "end_time": "2023-04-17T11:12:58.976529",
     "exception": false,
     "start_time": "2023-04-17T11:12:58.968993",
     "status": "completed"
    },
    "tags": []
   },
   "source": [
    "# Baromètre des résultats - PDF reports"
   ]
  },
  {
   "cell_type": "markdown",
   "id": "speaking-investigation",
   "metadata": {
    "papermill": {
     "duration": 0.006283,
     "end_time": "2023-04-17T11:12:58.989412",
     "exception": false,
     "start_time": "2023-04-17T11:12:58.983129",
     "status": "completed"
    },
    "tags": []
   },
   "source": [
    "## Imports"
   ]
  },
  {
   "cell_type": "code",
   "execution_count": 1,
   "id": "graphic-makeup",
   "metadata": {
    "execution": {
     "iopub.execute_input": "2023-04-17T11:12:59.036248Z",
     "iopub.status.busy": "2023-04-17T11:12:59.035729Z",
     "iopub.status.idle": "2023-04-17T11:12:59.398497Z",
     "shell.execute_reply": "2023-04-17T11:12:59.397878Z"
    },
    "papermill": {
     "duration": 0.403925,
     "end_time": "2023-04-17T11:12:59.400524",
     "exception": false,
     "start_time": "2023-04-17T11:12:58.996599",
     "status": "completed"
    },
    "tags": []
   },
   "outputs": [],
   "source": [
    "import json\n",
    "import os\n",
    "import datetime\n",
    "import re\n",
    "\n",
    "import requests\n",
    "import pandas as pd\n",
    "\n",
    "import plotly.graph_objects as go\n",
    "import plotly.express as px\n",
    "\n",
    "from fpdf import FPDF"
   ]
  },
  {
   "cell_type": "markdown",
   "id": "absent-control",
   "metadata": {
    "papermill": {
     "duration": 0.00651,
     "end_time": "2023-04-17T11:12:59.414350",
     "exception": false,
     "start_time": "2023-04-17T11:12:59.407840",
     "status": "completed"
    },
    "tags": []
   },
   "source": [
    "## Parameters"
   ]
  },
  {
   "cell_type": "code",
   "execution_count": 2,
   "id": "broadband-series",
   "metadata": {
    "execution": {
     "iopub.execute_input": "2023-04-17T11:12:59.428279Z",
     "iopub.status.busy": "2023-04-17T11:12:59.427635Z",
     "iopub.status.idle": "2023-04-17T11:12:59.432643Z",
     "shell.execute_reply": "2023-04-17T11:12:59.432051Z"
    },
    "papermill": {
     "duration": 0.01395,
     "end_time": "2023-04-17T11:12:59.434492",
     "exception": false,
     "start_time": "2023-04-17T11:12:59.420542",
     "status": "completed"
    },
    "tags": []
   },
   "outputs": [],
   "source": [
    "base_folder_path = 'https://raw.githubusercontent.com/etalab/barometre-resultats/master/frontend/static/'\n",
    "\n",
    "ovq_data_folder_path = os.path.join(base_folder_path, 'datasets', 'ovq-data')\n",
    "\n",
    "ovq_synthese_data_path = os.path.join(ovq_data_folder_path, 'prod', 'par_territoire', 'territoire-regional-global-light.json')\n",
    "ovq_detail_data_folder_path = os.path.join(ovq_data_folder_path, 'prod', 'par_thematique')\n",
    "ovq_structure_cible_path = os.path.join(ovq_data_folder_path, 'prod', 'structure', 'structure-cible.json')\n",
    "ovq_structure_families_path = os.path.join(ovq_data_folder_path, 'prod', 'structure', 'structure-families.json')\n",
    "\n",
    "#dep_taxo_url = os.path.join(base_folder_path, 'datasets', 'prod', 'taxonomies', 'departements.json')\n",
    "reg_taxo_url = os.path.join(base_folder_path, 'datasets', 'prod', 'taxonomies', 'regions.json')\n",
    "\n",
    "img_dir_path = './img/'\n",
    "reports_dir_path = './reports/'"
   ]
  },
  {
   "cell_type": "markdown",
   "id": "numerical-destiny",
   "metadata": {
    "papermill": {
     "duration": 0.006467,
     "end_time": "2023-04-17T11:12:59.447096",
     "exception": false,
     "start_time": "2023-04-17T11:12:59.440629",
     "status": "completed"
    },
    "tags": []
   },
   "source": [
    "## Functions"
   ]
  },
  {
   "cell_type": "code",
   "execution_count": 3,
   "id": "logical-landscape",
   "metadata": {
    "execution": {
     "iopub.execute_input": "2023-04-17T11:12:59.460748Z",
     "iopub.status.busy": "2023-04-17T11:12:59.460227Z",
     "iopub.status.idle": "2023-04-17T11:12:59.463456Z",
     "shell.execute_reply": "2023-04-17T11:12:59.462836Z"
    },
    "papermill": {
     "duration": 0.011383,
     "end_time": "2023-04-17T11:12:59.464622",
     "exception": false,
     "start_time": "2023-04-17T11:12:59.453239",
     "status": "completed"
    },
    "tags": []
   },
   "outputs": [],
   "source": [
    "def mkdir_ifnotexist(path) :\n",
    "    if not os.path.isdir(path) :\n",
    "        os.mkdir(path)"
   ]
  },
  {
   "cell_type": "code",
   "execution_count": 4,
   "id": "crude-depth",
   "metadata": {
    "execution": {
     "iopub.execute_input": "2023-04-17T11:12:59.478146Z",
     "iopub.status.busy": "2023-04-17T11:12:59.477675Z",
     "iopub.status.idle": "2023-04-17T11:12:59.754425Z",
     "shell.execute_reply": "2023-04-17T11:12:59.753838Z"
    },
    "papermill": {
     "duration": 0.285692,
     "end_time": "2023-04-17T11:12:59.756442",
     "exception": false,
     "start_time": "2023-04-17T11:12:59.470750",
     "status": "completed"
    },
    "tags": []
   },
   "outputs": [],
   "source": [
    "#Importing taxonomies data to make a function to get all infos on a given region\n",
    "r = requests.get(reg_taxo_url)\n",
    "reg_dict_list = json.loads(r.content)\n",
    "\n",
    "def get_reg_infos(reg, reg_dict_list=reg_dict_list) :\n",
    "    \n",
    "    reg_dict = [dict_ for dict_ in reg_dict_list if dict_['reg'] == reg][0]\n",
    "    reg_name = reg_dict['libelle']\n",
    "    \n",
    "    res = dict(reg=reg,\n",
    "               reg_name=reg_name\n",
    "              )\n",
    "    \n",
    "    return res"
   ]
  },
  {
   "cell_type": "code",
   "execution_count": 5,
   "id": "falling-rover",
   "metadata": {
    "execution": {
     "iopub.execute_input": "2023-04-17T11:12:59.771356Z",
     "iopub.status.busy": "2023-04-17T11:12:59.770796Z",
     "iopub.status.idle": "2023-04-17T11:12:59.774324Z",
     "shell.execute_reply": "2023-04-17T11:12:59.773755Z"
    },
    "papermill": {
     "duration": 0.012472,
     "end_time": "2023-04-17T11:12:59.775555",
     "exception": false,
     "start_time": "2023-04-17T11:12:59.763083",
     "status": "completed"
    },
    "tags": []
   },
   "outputs": [],
   "source": [
    "def get_reg_synthese_data(reg, ovq_synthese_data) :\n",
    "    for reg_dict in ovq_synthese_data :\n",
    "        if reg_dict['reg'] == reg :\n",
    "            res = reg_dict\n",
    "            break\n",
    "    return res"
   ]
  },
  {
   "cell_type": "code",
   "execution_count": 6,
   "id": "appropriate-palmer",
   "metadata": {
    "execution": {
     "iopub.execute_input": "2023-04-17T11:12:59.789447Z",
     "iopub.status.busy": "2023-04-17T11:12:59.788946Z",
     "iopub.status.idle": "2023-04-17T11:12:59.792659Z",
     "shell.execute_reply": "2023-04-17T11:12:59.792099Z"
    },
    "papermill": {
     "duration": 0.01198,
     "end_time": "2023-04-17T11:12:59.793844",
     "exception": false,
     "start_time": "2023-04-17T11:12:59.781864",
     "status": "completed"
    },
    "tags": []
   },
   "outputs": [],
   "source": [
    "def get_reg_indicateur_synthese_data(reg, id_indicateur, ovq_synthese_data) :\n",
    "    reg_dict = get_reg_synthese_data(reg, ovq_synthese_data)\n",
    "    \n",
    "    for ovq_dict in reg_dict['ovq'] :\n",
    "        for ind_dict in ovq_dict['indicateurs'] :\n",
    "            if id_indicateur in ind_dict.keys() :\n",
    "                res = ind_dict[id_indicateur][0]\n",
    "                break\n",
    "    return res"
   ]
  },
  {
   "cell_type": "code",
   "execution_count": 7,
   "id": "scenic-cotton",
   "metadata": {
    "execution": {
     "iopub.execute_input": "2023-04-17T11:12:59.807269Z",
     "iopub.status.busy": "2023-04-17T11:12:59.806903Z",
     "iopub.status.idle": "2023-04-17T11:12:59.810145Z",
     "shell.execute_reply": "2023-04-17T11:12:59.809625Z"
    },
    "papermill": {
     "duration": 0.011384,
     "end_time": "2023-04-17T11:12:59.811351",
     "exception": false,
     "start_time": "2023-04-17T11:12:59.799967",
     "status": "completed"
    },
    "tags": []
   },
   "outputs": [],
   "source": [
    "def get_indicateur_structure_cible(id_indicateur, structure_cible_data) :\n",
    "    for ovq_dict in structure_cible_data :\n",
    "        for ind_dict in ovq_dict['indicateurs'] :\n",
    "            if ind_dict['id_indicateur_fr'] == id_indicateur :\n",
    "                res = ind_dict\n",
    "                break\n",
    "    return res"
   ]
  },
  {
   "cell_type": "code",
   "execution_count": 8,
   "id": "reserved-landscape",
   "metadata": {
    "execution": {
     "iopub.execute_input": "2023-04-17T11:12:59.824732Z",
     "iopub.status.busy": "2023-04-17T11:12:59.824189Z",
     "iopub.status.idle": "2023-04-17T11:12:59.827547Z",
     "shell.execute_reply": "2023-04-17T11:12:59.827091Z"
    },
    "papermill": {
     "duration": 0.011491,
     "end_time": "2023-04-17T11:12:59.828881",
     "exception": false,
     "start_time": "2023-04-17T11:12:59.817390",
     "status": "completed"
    },
    "tags": []
   },
   "outputs": [],
   "source": [
    "def get_id_ovq_from_id_indicateur(id_indicateur, structure_cible_data) :\n",
    "    for ovq_dict in structure_cible_data :\n",
    "        for ind_dict in ovq_dict['indicateurs'] :\n",
    "            if ind_dict['id_indicateur_fr'] == id_indicateur :\n",
    "                id_ovq = ovq_dict['id_ovq']\n",
    "                break\n",
    "    return id_ovq"
   ]
  },
  {
   "cell_type": "code",
   "execution_count": 9,
   "id": "contrary-consequence",
   "metadata": {
    "execution": {
     "iopub.execute_input": "2023-04-17T11:12:59.843086Z",
     "iopub.status.busy": "2023-04-17T11:12:59.842587Z",
     "iopub.status.idle": "2023-04-17T11:12:59.845728Z",
     "shell.execute_reply": "2023-04-17T11:12:59.845191Z"
    },
    "papermill": {
     "duration": 0.011254,
     "end_time": "2023-04-17T11:12:59.846947",
     "exception": false,
     "start_time": "2023-04-17T11:12:59.835693",
     "status": "completed"
    },
    "tags": []
   },
   "outputs": [],
   "source": [
    "def get_ovq_structure_cible(id_ovq, structure_cible_data) :\n",
    "    for ovq_dict in structure_cible_data :\n",
    "        if ovq_dict['id_ovq'] == id_ovq :\n",
    "            res = ovq_dict\n",
    "            break\n",
    "    return res"
   ]
  },
  {
   "cell_type": "code",
   "execution_count": 10,
   "id": "instructional-algebra",
   "metadata": {
    "execution": {
     "iopub.execute_input": "2023-04-17T11:12:59.860325Z",
     "iopub.status.busy": "2023-04-17T11:12:59.859972Z",
     "iopub.status.idle": "2023-04-17T11:12:59.864654Z",
     "shell.execute_reply": "2023-04-17T11:12:59.864119Z"
    },
    "papermill": {
     "duration": 0.012802,
     "end_time": "2023-04-17T11:12:59.865856",
     "exception": false,
     "start_time": "2023-04-17T11:12:59.853054",
     "status": "completed"
    },
    "tags": []
   },
   "outputs": [],
   "source": [
    "def get_detail_data(id_indicateur, reg, level, structure_cible_data, base_folder_path) :\n",
    "    #level can be departemental, regional or national\n",
    "    \n",
    "    id_ovq = get_id_ovq_from_id_indicateur(id_indicateur, structure_cible_data)\n",
    "    ovq_struc = get_ovq_structure_cible(id_ovq, structure_cible_data)\n",
    "    \n",
    "    for source_dict in ovq_struc['odm_sources_ids'] :\n",
    "        if source_dict['odm_source_level'] == level :\n",
    "            source_url = source_dict['odm_source_file']\n",
    "            \n",
    "    full_source_url = os.path.join(base_folder_path, source_url[1:])\n",
    "    \n",
    "    r = requests.get(full_source_url)\n",
    "    data = json.loads(r.content)\n",
    "                \n",
    "    if level == 'regional' :\n",
    "        for reg_dict in data :\n",
    "            if reg_dict['reg'] == reg :\n",
    "                res = reg_dict[id_indicateur]\n",
    "                break\n",
    "                \n",
    "    elif level == 'national' :\n",
    "        res = data[0][id_indicateur]\n",
    "    \n",
    "    return res"
   ]
  },
  {
   "cell_type": "code",
   "execution_count": 11,
   "id": "decent-alexandria",
   "metadata": {
    "execution": {
     "iopub.execute_input": "2023-04-17T11:12:59.879724Z",
     "iopub.status.busy": "2023-04-17T11:12:59.879256Z",
     "iopub.status.idle": "2023-04-17T11:12:59.884664Z",
     "shell.execute_reply": "2023-04-17T11:12:59.884097Z"
    },
    "papermill": {
     "duration": 0.013762,
     "end_time": "2023-04-17T11:12:59.885899",
     "exception": false,
     "start_time": "2023-04-17T11:12:59.872137",
     "status": "completed"
    },
    "tags": []
   },
   "outputs": [],
   "source": [
    "def make_pct_bullet_chart(pct, bar_color='#3D49A5', bg_color='#BBBFDF') :\n",
    "    \n",
    "    if pct < 0 : #To improve if inverted bullet chart is possible with plotly\n",
    "        bar_color = '#ED782F'\n",
    "        bg_color = '#ED782F'\n",
    "    \n",
    "    rounded_pct = round(pct)\n",
    "    \n",
    "    fig = go.Figure(go.Indicator(\n",
    "        mode = \"gauge\",\n",
    "        gauge = {'shape': \"bullet\", 'axis': {'visible':False, 'range': [0, 100]}, 'bgcolor':bg_color, 'bordercolor':'white', 'bar':{'thickness':1, 'color':bar_color}},\n",
    "        value = rounded_pct,\n",
    "        number = {'suffix':'%'},\n",
    "        domain = {'x': [0, 1], 'y': [0, 1]}))\n",
    "    \n",
    "    fig.update_layout(height = 400, width=2400, paper_bgcolor='rgba(0,0,0,0)', plot_bgcolor='rgba(0,0,0,0)')\n",
    "\n",
    "    fig.add_annotation(dict(font=dict(color='white',size=100),\n",
    "                                            x=0.05,\n",
    "                                            y=0.5,\n",
    "                                            showarrow=False,\n",
    "                                            text=str(rounded_pct)+'%',\n",
    "                                            textangle=0,\n",
    "                                            xanchor='left',\n",
    "                                            xref=\"paper\",\n",
    "                                            yref=\"paper\"))\n",
    "\n",
    "    return fig"
   ]
  },
  {
   "cell_type": "code",
   "execution_count": 12,
   "id": "rubber-threshold",
   "metadata": {
    "execution": {
     "iopub.execute_input": "2023-04-17T11:12:59.899412Z",
     "iopub.status.busy": "2023-04-17T11:12:59.898945Z",
     "iopub.status.idle": "2023-04-17T11:12:59.902757Z",
     "shell.execute_reply": "2023-04-17T11:12:59.902232Z"
    },
    "papermill": {
     "duration": 0.011947,
     "end_time": "2023-04-17T11:12:59.903947",
     "exception": false,
     "start_time": "2023-04-17T11:12:59.892000",
     "status": "completed"
    },
    "tags": []
   },
   "outputs": [],
   "source": [
    "months_fr_dict = {\n",
    "    '01':'janvier',\n",
    "    '02':'février',\n",
    "    '03':'mars',\n",
    "    '04':'avril',\n",
    "    '05':'mai',\n",
    "    '06':'juin',\n",
    "    '07':'juillet',\n",
    "    '08':'août',\n",
    "    '09':'septembre',\n",
    "    '10':'octobre',\n",
    "    '11':'novembre',\n",
    "    '12':'décembre'\n",
    "}\n",
    "\n",
    "# yearmonth should be in '2020-01' format\n",
    "\n",
    "def yearmonth_to_fr(yearmonth) :\n",
    "    month = yearmonth[-2:]\n",
    "    year = yearmonth[:4]\n",
    "    \n",
    "    return months_fr_dict[month] + ' ' + year"
   ]
  },
  {
   "cell_type": "code",
   "execution_count": 13,
   "id": "african-andorra",
   "metadata": {
    "execution": {
     "iopub.execute_input": "2023-04-17T11:12:59.917546Z",
     "iopub.status.busy": "2023-04-17T11:12:59.917040Z",
     "iopub.status.idle": "2023-04-17T11:12:59.920117Z",
     "shell.execute_reply": "2023-04-17T11:12:59.919561Z"
    },
    "papermill": {
     "duration": 0.011264,
     "end_time": "2023-04-17T11:12:59.921310",
     "exception": false,
     "start_time": "2023-04-17T11:12:59.910046",
     "status": "completed"
    },
    "tags": []
   },
   "outputs": [],
   "source": [
    "def reformat_number(number) :\n",
    "    return '{:,}'.format(number).replace(',',' ').replace('.',',')"
   ]
  },
  {
   "cell_type": "code",
   "execution_count": 14,
   "id": "northern-priest",
   "metadata": {
    "execution": {
     "iopub.execute_input": "2023-04-17T11:12:59.934981Z",
     "iopub.status.busy": "2023-04-17T11:12:59.934588Z",
     "iopub.status.idle": "2023-04-17T11:12:59.941908Z",
     "shell.execute_reply": "2023-04-17T11:12:59.941381Z"
    },
    "papermill": {
     "duration": 0.01562,
     "end_time": "2023-04-17T11:12:59.943043",
     "exception": false,
     "start_time": "2023-04-17T11:12:59.927423",
     "status": "completed"
    },
    "tags": []
   },
   "outputs": [],
   "source": [
    "def make_detail_chart(df, chart_type) :\n",
    "    \n",
    "    text = ['' for i in range(len(df)-1)] + [reformat_number(list(df.sort_values('date')['value'])[-1])]\n",
    "    \n",
    "    if chart_type == 'histo' :\n",
    "        fig = px.bar(df, x='date', y='value',\n",
    "                         labels={'date':'', 'value':''}, \n",
    "                         height=400,\n",
    "                         width=900,\n",
    "                         color=None,\n",
    "                         orientation='v',\n",
    "                         text=text,\n",
    "                         title=None)\n",
    "        fig.update_layout(showlegend=False, uniformtext_minsize=8, uniformtext_mode='hide')\n",
    "        fig.layout['xaxis'].showgrid = False\n",
    "        fig.update_traces(marker_color='#00AC8C', textposition='outside', cliponaxis=False)\n",
    "        fig.update_xaxes(tickangle=-45,\n",
    "                         tickfont=dict(size=8),\n",
    "                         tickmode = 'array',\n",
    "                         tickvals = list(df['date']),\n",
    "                         ticktext= list(df['date_tick']))\n",
    "                        \n",
    "        return fig\n",
    "    \n",
    "    elif chart_type == 'line' :\n",
    "        fig = px.line(df, x='date', y='value',\n",
    "                         labels={'date':'', 'value':''}, \n",
    "                         height=400,\n",
    "                         width=750,\n",
    "                         color=None,\n",
    "                         orientation='v',\n",
    "                         text=text,\n",
    "                         title=None)\n",
    "        fig.update_layout(showlegend=False)\n",
    "        fig.layout['xaxis'].showgrid = False\n",
    "        fig.update_traces(marker=dict(size=12, line=dict(width=2, color='white')), marker_color='#00AC8C', line_color='#00AC8C', line_width=6, textposition='top center', cliponaxis=False)\n",
    "        fig.update_xaxes(tickangle=-45,\n",
    "                         tickfont=dict(size=8),\n",
    "                         tickmode = 'array',\n",
    "                         tickvals = list(df['date']),\n",
    "                         ticktext= list(df['date_tick']))\n",
    "        fig.data[0].update(mode='markers+lines+text')\n",
    "\n",
    "        return fig\n",
    "    \n",
    "    else :\n",
    "        print('Unknown chart type.')\n",
    "        return None"
   ]
  },
  {
   "cell_type": "code",
   "execution_count": 15,
   "id": "wound-award",
   "metadata": {
    "execution": {
     "iopub.execute_input": "2023-04-17T11:12:59.956312Z",
     "iopub.status.busy": "2023-04-17T11:12:59.955964Z",
     "iopub.status.idle": "2023-04-17T11:12:59.958882Z",
     "shell.execute_reply": "2023-04-17T11:12:59.958339Z"
    },
    "papermill": {
     "duration": 0.010927,
     "end_time": "2023-04-17T11:12:59.960058",
     "exception": false,
     "start_time": "2023-04-17T11:12:59.949131",
     "status": "completed"
    },
    "tags": []
   },
   "outputs": [],
   "source": [
    "def remove_html_tags(raw_html):\n",
    "    tag_regex = re.compile('<.*?>')\n",
    "    return re.sub(tag_regex, '', raw_html)"
   ]
  },
  {
   "cell_type": "code",
   "execution_count": 16,
   "id": "cubic-editing",
   "metadata": {
    "execution": {
     "iopub.execute_input": "2023-04-17T11:12:59.973456Z",
     "iopub.status.busy": "2023-04-17T11:12:59.973114Z",
     "iopub.status.idle": "2023-04-17T11:12:59.978335Z",
     "shell.execute_reply": "2023-04-17T11:12:59.977801Z"
    },
    "papermill": {
     "duration": 0.013359,
     "end_time": "2023-04-17T11:12:59.979504",
     "exception": false,
     "start_time": "2023-04-17T11:12:59.966145",
     "status": "completed"
    },
    "tags": []
   },
   "outputs": [],
   "source": [
    "def clean_description(text) :\n",
    "    \n",
    "    def drop_border_spaces(string) :\n",
    "        while string.startswith(' ') :\n",
    "            string = string[1:]\n",
    "        while string.endswith(' ') :\n",
    "            string = string[:-1]\n",
    "        return string\n",
    "    \n",
    "    text_lines = text.splitlines()\n",
    "    text_lines = [line.replace('<li>', '-') for line in text_lines]\n",
    "    text_lines = [remove_html_tags(line) for line in text_lines]\n",
    "    text_lines = [drop_border_spaces(line) for line in text_lines]\n",
    "    text_lines = [line for line in text_lines if line != '']\n",
    "    \n",
    "    #Managing lists\n",
    "    corr_text_lines = [text_lines[0]]\n",
    "    for i in range(1, len(text_lines)) :\n",
    "        if text_lines[i-1] == '-' :\n",
    "            new_line = '- ' + text_lines[i]\n",
    "        else :\n",
    "            new_line = text_lines[i]\n",
    "        corr_text_lines += [new_line]\n",
    "        \n",
    "    corr_text_lines = [line for line in corr_text_lines if line != '-']\n",
    "    \n",
    "    #Joining lines by linebreaks\n",
    "    corr_text = '\\n'.join(corr_text_lines)\n",
    "    \n",
    "    return corr_text"
   ]
  },
  {
   "cell_type": "code",
   "execution_count": 17,
   "id": "encouraging-governor",
   "metadata": {
    "execution": {
     "iopub.execute_input": "2023-04-17T11:12:59.993224Z",
     "iopub.status.busy": "2023-04-17T11:12:59.992773Z",
     "iopub.status.idle": "2023-04-17T11:12:59.995919Z",
     "shell.execute_reply": "2023-04-17T11:12:59.995373Z"
    },
    "papermill": {
     "duration": 0.011432,
     "end_time": "2023-04-17T11:12:59.997137",
     "exception": false,
     "start_time": "2023-04-17T11:12:59.985705",
     "status": "completed"
    },
    "tags": []
   },
   "outputs": [],
   "source": [
    "#Insert here any new character that would generate Encoding errors when exporting with FPDF\n",
    "def drop_encoding_issues(text) :\n",
    "    return text.replace('’', \"'\").replace('\\u20ac',' euros').replace('œ','oe').replace('…','...').replace('–','-')"
   ]
  },
  {
   "cell_type": "markdown",
   "id": "boring-delaware",
   "metadata": {
    "papermill": {
     "duration": 0.00613,
     "end_time": "2023-04-17T11:13:00.009363",
     "exception": false,
     "start_time": "2023-04-17T11:13:00.003233",
     "status": "completed"
    },
    "tags": []
   },
   "source": [
    "## Get data and build parameters out of it"
   ]
  },
  {
   "cell_type": "code",
   "execution_count": 18,
   "id": "radio-inclusion",
   "metadata": {
    "execution": {
     "iopub.execute_input": "2023-04-17T11:13:00.023364Z",
     "iopub.status.busy": "2023-04-17T11:13:00.022802Z",
     "iopub.status.idle": "2023-04-17T11:13:00.327799Z",
     "shell.execute_reply": "2023-04-17T11:13:00.327199Z"
    },
    "papermill": {
     "duration": 0.3139,
     "end_time": "2023-04-17T11:13:00.329442",
     "exception": false,
     "start_time": "2023-04-17T11:13:00.015542",
     "status": "completed"
    },
    "tags": []
   },
   "outputs": [],
   "source": [
    "#Loading OVQ synthese data\n",
    "r = requests.get(ovq_synthese_data_path)\n",
    "ovq_synthese_data = json.loads(r.content)"
   ]
  },
  {
   "cell_type": "code",
   "execution_count": 19,
   "id": "million-expense",
   "metadata": {
    "execution": {
     "iopub.execute_input": "2023-04-17T11:13:00.343988Z",
     "iopub.status.busy": "2023-04-17T11:13:00.343562Z",
     "iopub.status.idle": "2023-04-17T11:13:00.347357Z",
     "shell.execute_reply": "2023-04-17T11:13:00.346886Z"
    },
    "papermill": {
     "duration": 0.012279,
     "end_time": "2023-04-17T11:13:00.348584",
     "exception": false,
     "start_time": "2023-04-17T11:13:00.336305",
     "status": "completed"
    },
    "tags": []
   },
   "outputs": [
    {
     "name": "stdout",
     "output_type": "stream",
     "text": [
      "18\n"
     ]
    }
   ],
   "source": [
    "#Regions list\n",
    "reg_list = sorted(list(set([reg_dict['reg'] for reg_dict in ovq_synthese_data])))\n",
    "print(len(reg_list))"
   ]
  },
  {
   "cell_type": "code",
   "execution_count": 20,
   "id": "outer-spoke",
   "metadata": {
    "execution": {
     "iopub.execute_input": "2023-04-17T11:13:00.362714Z",
     "iopub.status.busy": "2023-04-17T11:13:00.362347Z",
     "iopub.status.idle": "2023-04-17T11:13:00.366746Z",
     "shell.execute_reply": "2023-04-17T11:13:00.366297Z"
    },
    "papermill": {
     "duration": 0.013003,
     "end_time": "2023-04-17T11:13:00.367987",
     "exception": false,
     "start_time": "2023-04-17T11:13:00.354984",
     "status": "completed"
    },
    "tags": []
   },
   "outputs": [
    {
     "name": "stdout",
     "output_type": "stream",
     "text": [
      "57\n"
     ]
    }
   ],
   "source": [
    "#Indicateurs list\n",
    "id_indicateur_list = []\n",
    "for reg_dict in ovq_synthese_data :\n",
    "    for ovq_dict in reg_dict['ovq'] :\n",
    "        for ind_dict in ovq_dict['indicateurs'] :\n",
    "            id_indicateur_list += list(ind_dict.keys())\n",
    "            \n",
    "id_indicateur_list = list(set(id_indicateur_list))\n",
    "print(len(id_indicateur_list))"
   ]
  },
  {
   "cell_type": "code",
   "execution_count": 21,
   "id": "miniature-produce",
   "metadata": {
    "execution": {
     "iopub.execute_input": "2023-04-17T11:13:00.381717Z",
     "iopub.status.busy": "2023-04-17T11:13:00.381362Z",
     "iopub.status.idle": "2023-04-17T11:13:00.973855Z",
     "shell.execute_reply": "2023-04-17T11:13:00.973247Z"
    },
    "papermill": {
     "duration": 0.601408,
     "end_time": "2023-04-17T11:13:00.975632",
     "exception": false,
     "start_time": "2023-04-17T11:13:00.374224",
     "status": "completed"
    },
    "tags": []
   },
   "outputs": [],
   "source": [
    "#Loading structure data\n",
    "\n",
    "r = requests.get(ovq_structure_cible_path)\n",
    "structure_cible_data = json.loads(r.content)\n",
    "\n",
    "r = requests.get(ovq_structure_families_path)\n",
    "structure_families_data = json.loads(r.content)"
   ]
  },
  {
   "cell_type": "markdown",
   "id": "raised-skill",
   "metadata": {
    "papermill": {
     "duration": 0.006519,
     "end_time": "2023-04-17T11:13:00.989619",
     "exception": false,
     "start_time": "2023-04-17T11:13:00.983100",
     "status": "completed"
    },
    "tags": []
   },
   "source": [
    "## Making the graphs"
   ]
  },
  {
   "cell_type": "code",
   "execution_count": 22,
   "id": "hazardous-tuning",
   "metadata": {
    "execution": {
     "iopub.execute_input": "2023-04-17T11:13:01.003873Z",
     "iopub.status.busy": "2023-04-17T11:13:01.003324Z",
     "iopub.status.idle": "2023-04-17T11:13:01.006448Z",
     "shell.execute_reply": "2023-04-17T11:13:01.005913Z"
    },
    "papermill": {
     "duration": 0.011647,
     "end_time": "2023-04-17T11:13:01.007688",
     "exception": false,
     "start_time": "2023-04-17T11:13:00.996041",
     "status": "completed"
    },
    "tags": []
   },
   "outputs": [],
   "source": [
    "mkdir_ifnotexist(os.path.join(img_dir_path, 'graphs'))"
   ]
  },
  {
   "cell_type": "markdown",
   "id": "sustained-content",
   "metadata": {
    "papermill": {
     "duration": 0.006439,
     "end_time": "2023-04-17T11:13:01.020379",
     "exception": false,
     "start_time": "2023-04-17T11:13:01.013940",
     "status": "completed"
    },
    "tags": []
   },
   "source": [
    "### Synthese gauges"
   ]
  },
  {
   "cell_type": "code",
   "execution_count": 23,
   "id": "sporting-tribe",
   "metadata": {
    "execution": {
     "iopub.execute_input": "2023-04-17T11:13:01.034248Z",
     "iopub.status.busy": "2023-04-17T11:13:01.033844Z",
     "iopub.status.idle": "2023-04-17T11:13:33.075991Z",
     "shell.execute_reply": "2023-04-17T11:13:33.075479Z"
    },
    "papermill": {
     "duration": 32.050758,
     "end_time": "2023-04-17T11:13:33.077378",
     "exception": false,
     "start_time": "2023-04-17T11:13:01.026620",
     "status": "completed"
    },
    "tags": []
   },
   "outputs": [
    {
     "name": "stdout",
     "output_type": "stream",
     "text": [
      "CPU times: user 4.71 s, sys: 247 ms, total: 4.95 s\n",
      "Wall time: 32 s\n"
     ]
    }
   ],
   "source": [
    "%%time\n",
    "for reg in reg_list :\n",
    "    for id_indicateur in id_indicateur_list :\n",
    "        data = get_reg_indicateur_synthese_data(reg, id_indicateur, ovq_synthese_data)\n",
    "        pct = data['target_percentage']\n",
    "        \n",
    "        if pct is not None :\n",
    "            fig = make_pct_bullet_chart(pct)\n",
    "\n",
    "            if fig is not None :\n",
    "                img_path = os.path.join(img_dir_path, 'graphs', 'bullet_chart-synthese-target_percentage-{}-reg_{}.png'.format(id_indicateur, reg))\n",
    "                fig.write_image(img_path)"
   ]
  },
  {
   "cell_type": "markdown",
   "id": "solar-orchestra",
   "metadata": {
    "papermill": {
     "duration": 0.006547,
     "end_time": "2023-04-17T11:13:33.090478",
     "exception": false,
     "start_time": "2023-04-17T11:13:33.083931",
     "status": "completed"
    },
    "tags": []
   },
   "source": [
    "### Detail graphs"
   ]
  },
  {
   "cell_type": "code",
   "execution_count": 24,
   "id": "fitted-smooth",
   "metadata": {
    "execution": {
     "iopub.execute_input": "2023-04-17T11:13:33.104680Z",
     "iopub.status.busy": "2023-04-17T11:13:33.104131Z",
     "iopub.status.idle": "2023-04-17T11:17:47.718372Z",
     "shell.execute_reply": "2023-04-17T11:17:47.717481Z"
    },
    "papermill": {
     "duration": 254.622916,
     "end_time": "2023-04-17T11:17:47.719718",
     "exception": false,
     "start_time": "2023-04-17T11:13:33.096802",
     "status": "completed"
    },
    "tags": []
   },
   "outputs": [
    {
     "name": "stdout",
     "output_type": "stream",
     "text": [
      "2023-04-17 11:13:53.749828 - Reg 01 done.\n"
     ]
    },
    {
     "name": "stdout",
     "output_type": "stream",
     "text": [
      "2023-04-17 11:14:07.439007 - Reg 02 done.\n"
     ]
    },
    {
     "name": "stdout",
     "output_type": "stream",
     "text": [
      "2023-04-17 11:14:21.075036 - Reg 03 done.\n"
     ]
    },
    {
     "name": "stdout",
     "output_type": "stream",
     "text": [
      "2023-04-17 11:14:34.680917 - Reg 04 done.\n"
     ]
    },
    {
     "name": "stdout",
     "output_type": "stream",
     "text": [
      "2023-04-17 11:14:48.065059 - Reg 06 done.\n"
     ]
    },
    {
     "name": "stdout",
     "output_type": "stream",
     "text": [
      "2023-04-17 11:15:02.754487 - Reg 11 done.\n"
     ]
    },
    {
     "name": "stdout",
     "output_type": "stream",
     "text": [
      "2023-04-17 11:15:16.458526 - Reg 24 done.\n"
     ]
    },
    {
     "name": "stdout",
     "output_type": "stream",
     "text": [
      "2023-04-17 11:15:30.044432 - Reg 27 done.\n"
     ]
    },
    {
     "name": "stdout",
     "output_type": "stream",
     "text": [
      "2023-04-17 11:15:43.653724 - Reg 28 done.\n"
     ]
    },
    {
     "name": "stdout",
     "output_type": "stream",
     "text": [
      "2023-04-17 11:15:57.277619 - Reg 32 done.\n"
     ]
    },
    {
     "name": "stdout",
     "output_type": "stream",
     "text": [
      "2023-04-17 11:16:10.917176 - Reg 44 done.\n"
     ]
    },
    {
     "name": "stdout",
     "output_type": "stream",
     "text": [
      "2023-04-17 11:16:24.675391 - Reg 52 done.\n"
     ]
    },
    {
     "name": "stdout",
     "output_type": "stream",
     "text": [
      "2023-04-17 11:16:38.596109 - Reg 53 done.\n"
     ]
    },
    {
     "name": "stdout",
     "output_type": "stream",
     "text": [
      "2023-04-17 11:16:52.292722 - Reg 75 done.\n"
     ]
    },
    {
     "name": "stdout",
     "output_type": "stream",
     "text": [
      "2023-04-17 11:17:07.079776 - Reg 76 done.\n"
     ]
    },
    {
     "name": "stdout",
     "output_type": "stream",
     "text": [
      "2023-04-17 11:17:20.621913 - Reg 84 done.\n"
     ]
    },
    {
     "name": "stdout",
     "output_type": "stream",
     "text": [
      "2023-04-17 11:17:34.293812 - Reg 93 done.\n"
     ]
    },
    {
     "name": "stdout",
     "output_type": "stream",
     "text": [
      "2023-04-17 11:17:47.715120 - Reg 94 done.\n",
      "CPU times: user 1min 58s, sys: 1.23 s, total: 1min 59s\n",
      "Wall time: 4min 14s\n"
     ]
    }
   ],
   "source": [
    "%%time\n",
    "short_level_dict = {\n",
    "    'reg':'regional',\n",
    "    'nat':'national'\n",
    "}\n",
    "\n",
    "for reg in reg_list :\n",
    "    for id_indicateur in id_indicateur_list :\n",
    "        \n",
    "        #Get information to know what level of data to use\n",
    "        synthese_data = get_reg_indicateur_synthese_data(reg, id_indicateur, ovq_synthese_data)\n",
    "        level = short_level_dict[synthese_data['from_level']]\n",
    "        \n",
    "        #Get chart type for indicateur\n",
    "        chart_type = get_indicateur_structure_cible(id_indicateur, structure_cible_data)['odm_chart_type']\n",
    "        \n",
    "        #Get data\n",
    "        detail_data = get_detail_data(id_indicateur, reg, level, structure_cible_data, base_folder_path)\n",
    "        df = pd.DataFrame(detail_data)\n",
    "        df = df.sort_values('date')\n",
    "        df['date_tick'] = df['date'].apply(lambda x : yearmonth_to_fr(x[:7]))\n",
    "        \n",
    "        #Making graphs\n",
    "        fig = make_detail_chart(df, chart_type)\n",
    "        img_path = os.path.join(img_dir_path, 'graphs', 'graph-detail-{}-reg_{}.png'.format(id_indicateur, reg))\n",
    "\n",
    "        if fig is not None :\n",
    "            fig.write_image(img_path)\n",
    "\n",
    "    print('{} - Reg {} done.'.format(datetime.datetime.today(), reg))"
   ]
  },
  {
   "cell_type": "markdown",
   "id": "binding-fellow",
   "metadata": {
    "papermill": {
     "duration": 0.007205,
     "end_time": "2023-04-17T11:17:47.734759",
     "exception": false,
     "start_time": "2023-04-17T11:17:47.727554",
     "status": "completed"
    },
    "tags": []
   },
   "source": [
    "## Building the reports"
   ]
  },
  {
   "cell_type": "code",
   "execution_count": 25,
   "id": "constitutional-pacific",
   "metadata": {
    "execution": {
     "iopub.execute_input": "2023-04-17T11:17:47.750638Z",
     "iopub.status.busy": "2023-04-17T11:17:47.750090Z",
     "iopub.status.idle": "2023-04-17T11:17:47.753876Z",
     "shell.execute_reply": "2023-04-17T11:17:47.753350Z"
    },
    "papermill": {
     "duration": 0.013077,
     "end_time": "2023-04-17T11:17:47.755160",
     "exception": false,
     "start_time": "2023-04-17T11:17:47.742083",
     "status": "completed"
    },
    "tags": []
   },
   "outputs": [],
   "source": [
    "mkdir_ifnotexist(reports_dir_path)"
   ]
  },
  {
   "cell_type": "code",
   "execution_count": 26,
   "id": "departmental-jordan",
   "metadata": {
    "execution": {
     "iopub.execute_input": "2023-04-17T11:17:47.770760Z",
     "iopub.status.busy": "2023-04-17T11:17:47.770377Z",
     "iopub.status.idle": "2023-04-17T11:17:47.773272Z",
     "shell.execute_reply": "2023-04-17T11:17:47.772829Z"
    },
    "papermill": {
     "duration": 0.012256,
     "end_time": "2023-04-17T11:17:47.774673",
     "exception": false,
     "start_time": "2023-04-17T11:17:47.762417",
     "status": "completed"
    },
    "tags": []
   },
   "outputs": [],
   "source": [
    "global title_header\n",
    "title_header = ''"
   ]
  },
  {
   "cell_type": "code",
   "execution_count": 27,
   "id": "baking-virginia",
   "metadata": {
    "execution": {
     "iopub.execute_input": "2023-04-17T11:17:47.791221Z",
     "iopub.status.busy": "2023-04-17T11:17:47.790810Z",
     "iopub.status.idle": "2023-04-17T11:17:47.796938Z",
     "shell.execute_reply": "2023-04-17T11:17:47.796336Z"
    },
    "papermill": {
     "duration": 0.01533,
     "end_time": "2023-04-17T11:17:47.798173",
     "exception": false,
     "start_time": "2023-04-17T11:17:47.782843",
     "status": "completed"
    },
    "tags": []
   },
   "outputs": [],
   "source": [
    "class PDF(FPDF):\n",
    "    def header(self):\n",
    "        if (self.page_no() != 1 ):\n",
    "            # Logo\n",
    "            self.image(os.path.join(img_dir_path, 'gouv.png'), 10, 8, 45)\n",
    "            # Arial bold 15\n",
    "            self.cell(50)\n",
    "            self.set_font('Arial', 'B', 16)\n",
    "            self.cell(80, 15, title_header, 0, 1, 'A')\n",
    "\n",
    "            # Move to the right\n",
    "            # Title\n",
    "            self.set_font('Arial', 'I', 9)\n",
    "            self.cell(50)\n",
    "            #self.cell(50, 10, subtitle_header+' - aides-entreprises.data.gouv.fr', 0, 1, 'A', link='https://aides-entreprises.data.gouv.fr/')\n",
    "            self.cell(50, 10, 'www.gouvernement.fr/les-actions-du-gouvernement', 0, 1, 'A', link='https://www.gouvernement.fr/les-actions-du-gouvernement')\n",
    "            # Line break  \n",
    "            pdf.line(40, 38, 170, 38)\n",
    "            self.ln(7)\n",
    "        \n",
    "    # Page footer\n",
    "    def footer(self):\n",
    "        if (self.page_no() != 1 ):\n",
    "            # Position at 1.5 cm from bottom\n",
    "            self.set_y(-15)\n",
    "            # Arial italic 8\n",
    "            self.set_font('Arial', 'I', 8)\n",
    "            # Page number\n",
    "            \n",
    "            self.cell(0, 10, 'Direction Interministérielle du Numérique (DINUM) - Page ' + str(self.page_no()) + '/{nb}', 0, 0, 'C')"
   ]
  },
  {
   "cell_type": "code",
   "execution_count": 28,
   "id": "ceramic-suggestion",
   "metadata": {
    "execution": {
     "iopub.execute_input": "2023-04-17T11:17:47.813911Z",
     "iopub.status.busy": "2023-04-17T11:17:47.813689Z",
     "iopub.status.idle": "2023-04-17T11:17:47.834797Z",
     "shell.execute_reply": "2023-04-17T11:17:47.834254Z"
    },
    "papermill": {
     "duration": 0.030549,
     "end_time": "2023-04-17T11:17:47.836006",
     "exception": false,
     "start_time": "2023-04-17T11:17:47.805457",
     "status": "completed"
    },
    "tags": []
   },
   "outputs": [],
   "source": [
    "def insert_indicateur(pdf, reg, ind_data, ind_struc) :\n",
    "    \n",
    "    #Getting relevant information in data\n",
    "    initial_value = ind_data['initial_value']\n",
    "    initial_value_date = ind_data['initial_value_date']\n",
    "    latest_value = ind_data['latest_value']\n",
    "    latest_value_date = ind_data['latest_value_date']\n",
    "    target_value = ind_data['target']\n",
    "    target_percentage = ind_data['target_percentage']\n",
    "    target_value_date = ind_data['target_date']\n",
    "    progression_percentage = ind_data['progression_percentage']\n",
    "    from_level = ind_data['from_level']\n",
    "    \n",
    "    #Getting relevant information in structure\n",
    "    id_indicateur = ind_struc['id_indicateur_fr']\n",
    "    nom_indicateur = drop_encoding_issues(ind_struc['nom_indicateur'])\n",
    "    ind_text_url = drop_encoding_issues(ind_struc['odm_text'])\n",
    "    kpi_format = ind_struc['odm_kpi_format']\n",
    "    kpi_unit = drop_encoding_issues(ind_struc['odm_kpi_unit'])\n",
    "    chart_unit = drop_encoding_issues(ind_struc['odm_chart_unit'])\n",
    "    to_round = ind_struc['toRound']\n",
    "    \n",
    "    #Numbers formating\n",
    "    if to_round is not None :\n",
    "        if initial_value is not None :\n",
    "            initial_value = round(initial_value, to_round)\n",
    "            initial_value = reformat_number(initial_value)\n",
    "        if latest_value is not None :\n",
    "            latest_value = round(latest_value, to_round)\n",
    "            latest_value = reformat_number(latest_value)\n",
    "        if target_value is not None :\n",
    "            target_value = round(target_value, to_round)\n",
    "            target_value = reformat_number(target_value)\n",
    "            \n",
    "    if progression_percentage is not None :\n",
    "        if progression_percentage < 0 :\n",
    "            progression_percentage_str = '- '+str(-progression_percentage).replace('.',',')+' %'\n",
    "        else :\n",
    "            progression_percentage_str = '+ '+str(progression_percentage).replace('.',',')+' %'\n",
    "    else :\n",
    "        progression_percentage_str = ''\n",
    "    \n",
    "    if kpi_unit.startswith('%') :\n",
    "        if initial_value is not None :\n",
    "            initial_value += ' %'\n",
    "        if latest_value is not None :\n",
    "            latest_value += ' %'\n",
    "        if target_value is not None :\n",
    "            target_value += ' %'\n",
    "        kpi_unit = kpi_unit.replace('% ','').replace('%','')\n",
    "    \n",
    "    #Initializing blocks parameters\n",
    "    nb_blocks = 1\n",
    "    ini_block = False\n",
    "    tar_block = False\n",
    "    \n",
    "    #Current value (always present)\n",
    "    latest_value_date_str = yearmonth_to_fr(latest_value_date[:7])\n",
    "    latest_value_str = str(latest_value).replace('.',',')\n",
    "    \n",
    "    #Insert initial block if init value exists\n",
    "    if initial_value is not None :\n",
    "        if float(initial_value.replace(',','.').replace(' ','').replace('%','')) > 0 :\n",
    "            initial_value_date_str = yearmonth_to_fr(initial_value_date[:7])\n",
    "            initial_value_str = str(initial_value).replace('.',',')\n",
    "            nb_blocks += 1\n",
    "            ini_block = True\n",
    "        \n",
    "    #Insert target block if target value exists\n",
    "    if target_value is not None :\n",
    "        target_value_date_str = yearmonth_to_fr(target_value_date[:7])\n",
    "        target_value_str = str(target_value).replace('.',',')\n",
    "        nb_blocks += 1\n",
    "        tar_block = True\n",
    "        \n",
    "    #Blocks settings depending on existing data\n",
    "    block_spacing = 5\n",
    "    block_width = (182 - (nb_blocks-1)*block_spacing)/nb_blocks\n",
    "    \n",
    "    #INDICATOR DISPLAY\n",
    "    \n",
    "    #Indicator title\n",
    "    pdf.set_text_color(0,0,0)\n",
    "    pdf.set_font('Arial', 'B', 12)\n",
    "    pdf.multi_cell(182, 5, 'Indicateur : '+ nom_indicateur, align='L')\n",
    "    pdf.ln(3)\n",
    "    \n",
    "    #Indicator description\n",
    "    full_ind_text_url = os.path.join(base_folder_path, ind_text_url[1:])\n",
    "    r = requests.get(full_ind_text_url)\n",
    "    ind_text = drop_encoding_issues(r.text)\n",
    "    ind_text = clean_description(ind_text)\n",
    "    \n",
    "    pdf.set_font('Arial', '', 10)\n",
    "    pdf.multi_cell(182, 5, ind_text, align='J')\n",
    "    pdf.ln(3)\n",
    "    \n",
    "    #Data geo level indication\n",
    "    if from_level == 'reg' :\n",
    "        from_level_str = \"Les résultats pour la région : \" + get_reg_infos(reg)['reg_name']\n",
    "    elif from_level == 'nat' :\n",
    "        from_level_str = \"Données uniquement disponibles pour la France\"\n",
    "    \n",
    "    pdf.set_text_color(0,0,0)\n",
    "    pdf.set_font('Arial', '', 10)\n",
    "    pdf.set_fill_color(245,245,245);\n",
    "    pdf.cell(182, 8, from_level_str, 0, 2, 'L', fill=True)\n",
    "    pdf.ln(3)\n",
    "    \n",
    "    #Indicator blocks\n",
    "    \n",
    "    y_blocks_top = pdf.get_y()\n",
    "    x_blocks_left = pdf.get_x()\n",
    "    \n",
    "    #Initial value block\n",
    "    if ini_block == True :\n",
    "        pdf.set_fill_color(253, 244, 242)\n",
    "        pdf.set_font('Arial', '', 8)\n",
    "        pdf.cell(block_width, 8, 'En {}'.format(initial_value_date_str), 0, 1, 'L', fill=True)\n",
    "        pdf.set_fill_color(254, 249, 248)\n",
    "        pdf.set_font('Arial', 'B', 20)\n",
    "        pdf.cell(block_width, 10, initial_value_str, 0, 1, 'L', fill=True)\n",
    "        pdf.set_font('Arial', '', 10)\n",
    "        pdf.cell(block_width, 3, kpi_unit, 0, 1, 'L', fill=True)\n",
    "        block_left_x = pdf.get_x()\n",
    "        block_bottom_y = pdf.get_y()\n",
    "        y_blocks_top = block_bottom_y - (8+10+3) #Just in case there is an auto page break that puts blocks in different y\n",
    "        pdf.cell(block_width, 10, '', 0, 1, 'L', fill=True)\n",
    "    \n",
    "    #Current value block (always here)\n",
    "    if ini_block == True :\n",
    "        pdf.set_xy(block_width + pdf.l_margin + block_spacing, y_blocks_top)\n",
    "    pdf.set_fill_color(234, 244, 239)\n",
    "    pdf.set_font('Arial', '', 8)\n",
    "    pdf.cell(block_width, 8, 'En {}'.format(latest_value_date_str), 0, 2, 'L', fill=True)\n",
    "    pdf.set_fill_color(244, 250, 247)\n",
    "    pdf.set_font('Arial', 'B', 20)\n",
    "    pdf.cell(block_width, 10, latest_value_str, 0, 2, 'L', fill=True)\n",
    "    pdf.set_font('Arial', '', 10)\n",
    "    pdf.cell(block_width, 3, kpi_unit, 0, 2, 'L', fill=True)\n",
    "    block_left_x = pdf.get_x()\n",
    "    block_bottom_y = pdf.get_y()\n",
    "    y_blocks_top = block_bottom_y - (8+10+3) #Just in case there is an auto page break that puts blocks in different y\n",
    "    pdf.cell(block_width, 10, progression_percentage_str, 0, 2, 'L', fill=True)\n",
    "    \n",
    "    #Target value block\n",
    "    if tar_block == True :\n",
    "        if nb_blocks == 2 :\n",
    "            pdf.set_xy(block_width + pdf.l_margin + block_spacing, y_blocks_top)\n",
    "        elif nb_blocks == 3 :\n",
    "            pdf.set_xy(2*block_width + pdf.l_margin + 2*block_spacing, y_blocks_top)\n",
    "            \n",
    "        pdf.set_fill_color(229, 229, 243)\n",
    "        pdf.set_font('Arial', '', 8)\n",
    "        pdf.cell(block_width, 8, 'Cible {}'.format(target_value_date_str), 0, 2, 'L', fill=True)\n",
    "        pdf.set_fill_color(242, 242, 248)\n",
    "        pdf.set_font('Arial', 'B', 20)\n",
    "        pdf.cell(block_width, 10, target_value_str, 0, 2, 'L', fill=True)\n",
    "        pdf.set_font('Arial', '', 10)\n",
    "        pdf.cell(block_width, 3, kpi_unit, 0, 2, 'L', fill=True)\n",
    "        \n",
    "        #Inserting bullet chart (prog %) if exists\n",
    "        block_left_x = pdf.get_x()\n",
    "        block_bottom_y = pdf.get_y()\n",
    "        pdf.cell(block_width, 10, '', 0, 2, 'L', fill=True)\n",
    "        bullet_chart_width = 55\n",
    "        pdf.set_xy(block_left_x + block_width/2 - bullet_chart_width/2, block_bottom_y)\n",
    "        try :\n",
    "            prog_img_path = os.path.join(img_dir_path, 'graphs', 'bullet_chart-synthese-target_percentage-{}-reg_{}.png'.format(id_indicateur, reg))\n",
    "            pdf.image(prog_img_path, w=bullet_chart_width)\n",
    "        except :\n",
    "            pass\n",
    "    \n",
    "    #To go properly on next line (under blocks)\n",
    "    pdf.set_xy(block_left_x, block_bottom_y)\n",
    "    pdf.cell(0, 10, '', 0, 1) #Just to go to next line\n",
    "    \n",
    "    #CHART DISPLAY\n",
    "    try :\n",
    "        chart_width = 140\n",
    "        chart_img_path = os.path.join(img_dir_path, 'graphs', 'graph-detail-{}-reg_{}.png'.format(id_indicateur, reg))\n",
    "        pdf.set_x(x_blocks_left + 182/2 - chart_width/2)\n",
    "        pdf.image(chart_img_path, w=chart_width)\n",
    "        \n",
    "        pdf.set_x(x_blocks_left)\n",
    "        pdf.set_font('Arial', 'I', 8)\n",
    "        pdf.cell(182, 8, 'Unité : {}'.format(chart_unit), 0, 2, 'C')\n",
    "    except :\n",
    "        print('No chart found for {}'.format(id_indicateur))\n",
    "\n",
    "    return pdf"
   ]
  },
  {
   "cell_type": "code",
   "execution_count": 29,
   "id": "narrative-design",
   "metadata": {
    "execution": {
     "iopub.execute_input": "2023-04-17T11:17:47.851921Z",
     "iopub.status.busy": "2023-04-17T11:17:47.851707Z",
     "iopub.status.idle": "2023-04-17T11:37:30.977967Z",
     "shell.execute_reply": "2023-04-17T11:37:30.977407Z"
    },
    "papermill": {
     "duration": 1183.143724,
     "end_time": "2023-04-17T11:37:30.987294",
     "exception": false,
     "start_time": "2023-04-17T11:17:47.843570",
     "status": "completed"
    },
    "tags": []
   },
   "outputs": [
    {
     "name": "stdout",
     "output_type": "stream",
     "text": [
      "2023-04-17 11:19:10.184557 - Guadeloupe done.\n"
     ]
    },
    {
     "name": "stdout",
     "output_type": "stream",
     "text": [
      "2023-04-17 11:20:13.497949 - Martinique done.\n"
     ]
    },
    {
     "name": "stdout",
     "output_type": "stream",
     "text": [
      "2023-04-17 11:21:16.847985 - Guyane done.\n"
     ]
    },
    {
     "name": "stdout",
     "output_type": "stream",
     "text": [
      "2023-04-17 11:22:21.361780 - La Réunion done.\n"
     ]
    },
    {
     "name": "stdout",
     "output_type": "stream",
     "text": [
      "2023-04-17 11:23:15.927212 - Mayotte done.\n"
     ]
    },
    {
     "name": "stdout",
     "output_type": "stream",
     "text": [
      "2023-04-17 11:24:33.540066 - Île-de-France done.\n"
     ]
    },
    {
     "name": "stdout",
     "output_type": "stream",
     "text": [
      "2023-04-17 11:25:35.429107 - Centre-Val de Loire done.\n"
     ]
    },
    {
     "name": "stdout",
     "output_type": "stream",
     "text": [
      "2023-04-17 11:26:38.174242 - Bourgogne-Franche-Comté done.\n"
     ]
    },
    {
     "name": "stdout",
     "output_type": "stream",
     "text": [
      "2023-04-17 11:27:41.277862 - Normandie done.\n"
     ]
    },
    {
     "name": "stdout",
     "output_type": "stream",
     "text": [
      "2023-04-17 11:28:43.313623 - Hauts-de-France done.\n"
     ]
    },
    {
     "name": "stdout",
     "output_type": "stream",
     "text": [
      "2023-04-17 11:30:01.162431 - Grand Est done.\n"
     ]
    },
    {
     "name": "stdout",
     "output_type": "stream",
     "text": [
      "2023-04-17 11:31:04.098356 - Pays de la Loire done.\n"
     ]
    },
    {
     "name": "stdout",
     "output_type": "stream",
     "text": [
      "2023-04-17 11:32:06.949180 - Bretagne done.\n"
     ]
    },
    {
     "name": "stdout",
     "output_type": "stream",
     "text": [
      "2023-04-17 11:33:10.034810 - Nouvelle-Aquitaine done.\n"
     ]
    },
    {
     "name": "stdout",
     "output_type": "stream",
     "text": [
      "2023-04-17 11:34:13.311116 - Occitanie done.\n"
     ]
    },
    {
     "name": "stdout",
     "output_type": "stream",
     "text": [
      "2023-04-17 11:35:27.623406 - Auvergne-Rhône-Alpes done.\n"
     ]
    },
    {
     "name": "stdout",
     "output_type": "stream",
     "text": [
      "2023-04-17 11:36:30.851042 - Provence-Alpes-Côte d'Azur done.\n"
     ]
    },
    {
     "name": "stdout",
     "output_type": "stream",
     "text": [
      "2023-04-17 11:37:30.973077 - Corse done.\n",
      "CPU times: user 16min 22s, sys: 39 s, total: 17min 1s\n",
      "Wall time: 19min 43s\n"
     ]
    }
   ],
   "source": [
    "%%time\n",
    "\n",
    "mkdir_ifnotexist(os.path.join(reports_dir_path, 'pdf'))\n",
    "mkdir_ifnotexist(os.path.join(reports_dir_path, 'pdf', 'par_region'))\n",
    "\n",
    "for reg in reg_list :\n",
    "    \n",
    "    pdf = PDF()\n",
    "    pdf.alias_nb_pages()\n",
    "    pdf.add_page()\n",
    "\n",
    "    #Logos\n",
    "    pdf.image(os.path.join(img_dir_path, 'gouv.png'), 10, 8, 125)\n",
    "    \n",
    "    # Arial bold 15\n",
    "    pdf.set_font('Arial', 'B', 28)\n",
    "    # Move to the right\n",
    "    pdf.cell(50)\n",
    "    pdf.ln(100)\n",
    "    \n",
    "    # Title\n",
    "    pdf.cell(10)\n",
    "    pdf.cell(50, 10, 'BAROMÈTRE DES RÉSULTATS DE', 0, 1, 'A')\n",
    "    pdf.ln(10)\n",
    "    pdf.cell(10)\n",
    "    pdf.cell(50, 10, \"L'ACTION PUBLIQUE\", 0, 1, 'A')\n",
    "    pdf.ln(10)\n",
    "    pdf.cell(60)\n",
    "\n",
    "    pdf.set_font('Arial', 'I', 20)\n",
    "    pdf.ln(10)\n",
    "    pdf.cell(10)\n",
    "    pdf.cell(50, 10, 'Présentation des résultats pour la région :', 0, 1, 'A')\n",
    "    pdf.ln(10)\n",
    "    pdf.cell(10)\n",
    "    pdf.cell(50, 10, reg + ' - ' + get_reg_infos(reg)['reg_name'], 0, 1, 'A')\n",
    "    pdf.ln(70)\n",
    "\n",
    "    pdf.set_font('Arial', 'I', 8)\n",
    "\n",
    "    pdf.cell(10)\n",
    "    pdf.cell(50, 10, \"Données issues du baromètre des résultats consultable sur https://www.gouvernement.fr/les-actions-du-gouvernement\", 0, 1, 'A')\n",
    "    \n",
    "    #Indicateurs\n",
    "    \n",
    "    pdf.set_left_margin(14)\n",
    "    pdf.set_right_margin(14)\n",
    "    \n",
    "    for thematique_dict in structure_families_data :\n",
    "    \n",
    "        thematique = thematique_dict['nom_ovq']\n",
    "        \n",
    "        #Downloading thematique image\n",
    "        thematique_img_url = os.path.join(base_folder_path, thematique_dict['odm_image'][1:])\n",
    "        thematique_img_local_path = './img/' + thematique_img_url.split('/')[-1]\n",
    "        r = requests.get(thematique_img_url)\n",
    "        with open(thematique_img_local_path, 'wb') as f:\n",
    "            f.write(r.content)\n",
    "        \n",
    "        #Section page\n",
    "        title_header = ''\n",
    "        pdf.add_page()\n",
    "        pdf.image(thematique_img_local_path, x=0, y=70, w=210)\n",
    "        pdf.ln(190)\n",
    "        pdf.set_font('Arial', 'B', 25)\n",
    "        pdf.cell(182, 6, thematique.upper())\n",
    "        \n",
    "        title_header = thematique.upper()\n",
    "\n",
    "        id_ovq_list = thematique_dict['id_ovq']\n",
    "        for id_ovq in id_ovq_list :\n",
    "\n",
    "            try :\n",
    "                ovq_dict = get_ovq_structure_cible(id_ovq, structure_cible_data)\n",
    "            except :\n",
    "                print('No structure cible for {}'.format(id_ovq))\n",
    "                ovq_dict = None\n",
    "            \n",
    "            if ovq_dict is not None :\n",
    "                pdf.add_page()\n",
    "                pdf.ln(3)\n",
    "                nom_ovq = drop_encoding_issues(ovq_dict['nom_ovq'])\n",
    "                ovq_text_url = os.path.join(base_folder_path, ovq_dict['odm_text'][1:])\n",
    "                r = requests.get(ovq_text_url)\n",
    "                ovq_text = drop_encoding_issues(r.text)\n",
    "                ovq_text = clean_description(ovq_text)\n",
    "                \n",
    "                #Display OVQ title\n",
    "                pdf.set_font('Arial', 'B', 16)\n",
    "                pdf.multi_cell(182, 6, nom_ovq, align='L')\n",
    "                pdf.ln(3)\n",
    "                #Display OVQ description\n",
    "                pdf.set_font('Arial', '', 10)\n",
    "                pdf.multi_cell(182, 5, ovq_text, align='J')\n",
    "                pdf.ln(3)\n",
    "\n",
    "                ovq_id_indicateur_list = [ind_dict['id_indicateur_fr'] for ind_dict in ovq_dict['indicateurs']]\n",
    "\n",
    "                add_page_for_ind = False\n",
    "                for id_indicateur in ovq_id_indicateur_list :\n",
    "                    if add_page_for_ind == True :\n",
    "                        pdf.add_page()\n",
    "                    ind_data = get_reg_indicateur_synthese_data(reg, id_indicateur, ovq_synthese_data)\n",
    "                    ind_struc = get_indicateur_structure_cible(id_indicateur, structure_cible_data)\n",
    "\n",
    "                    pdf = insert_indicateur(pdf, reg, ind_data, ind_struc)\n",
    "                    add_page_for_ind = True\n",
    "    \n",
    "    reg_name = get_reg_infos(reg)['reg_name']\n",
    "    pdf.output(os.path.join(reports_dir_path, 'pdf', 'par_region', 'Baromètre_résultats_'+reg_name+'.pdf'), 'F')\n",
    "    \n",
    "    print(str(datetime.datetime.today()) + ' - ' + reg_name + ' done.')"
   ]
  },
  {
   "cell_type": "markdown",
   "id": "packed-information",
   "metadata": {
    "papermill": {
     "duration": 0.008116,
     "end_time": "2023-04-17T11:37:31.003776",
     "exception": false,
     "start_time": "2023-04-17T11:37:30.995660",
     "status": "completed"
    },
    "tags": []
   },
   "source": [
    "## Compress to ZIP"
   ]
  },
  {
   "cell_type": "raw",
   "id": "impaired-framing",
   "metadata": {
    "papermill": {
     "duration": 0.008121,
     "end_time": "2023-04-17T11:37:31.020076",
     "exception": false,
     "start_time": "2023-04-17T11:37:31.011955",
     "status": "completed"
    },
    "tags": []
   },
   "source": [
    "from zipfile import ZipFile"
   ]
  },
  {
   "cell_type": "raw",
   "id": "basic-sitting",
   "metadata": {
    "papermill": {
     "duration": 0.00807,
     "end_time": "2023-04-17T11:37:31.036511",
     "exception": false,
     "start_time": "2023-04-17T11:37:31.028441",
     "status": "completed"
    },
    "tags": []
   },
   "source": [
    "today_date = str(datetime.datetime.today())[:10]\n",
    "today_date"
   ]
  },
  {
   "cell_type": "raw",
   "id": "nutritional-remainder",
   "metadata": {
    "papermill": {
     "duration": 0.008094,
     "end_time": "2023-04-17T11:37:31.052755",
     "exception": false,
     "start_time": "2023-04-17T11:37:31.044661",
     "status": "completed"
    },
    "tags": []
   },
   "source": [
    "my_zip_date = ZipFile(os.path.join(reports_dir_path, 'Baromètre_résultats_{}.zip'.format(today_date)), 'w')\n",
    "my_zip_latest = ZipFile(os.path.join(reports_dir_path, 'Baromètre_résultats_latest.zip'), 'w')\n",
    "\n",
    "for filename in os.listdir(os.path.join(reports_dir_path, 'pdf')) :\n",
    "    if filename.endswith('.pdf') :\n",
    "        my_zip_date.write(os.path.join(reports_dir_path, 'pdf', filename))\n",
    "        my_zip_latest.write(os.path.join(reports_dir_path, 'pdf', filename))\n",
    "        \n",
    "my_zip_date.close()\n",
    "my_zip_latest.close()"
   ]
  },
  {
   "cell_type": "code",
   "execution_count": null,
   "id": "japanese-humidity",
   "metadata": {
    "papermill": {
     "duration": 0.008089,
     "end_time": "2023-04-17T11:37:31.068983",
     "exception": false,
     "start_time": "2023-04-17T11:37:31.060894",
     "status": "completed"
    },
    "tags": []
   },
   "outputs": [],
   "source": []
  }
 ],
 "metadata": {
  "kernelspec": {
   "display_name": "Python 3",
   "language": "python",
   "name": "python3"
  },
  "language_info": {
   "codemirror_mode": {
    "name": "ipython",
    "version": 3
   },
   "file_extension": ".py",
   "mimetype": "text/x-python",
   "name": "python",
   "nbconvert_exporter": "python",
   "pygments_lexer": "ipython3",
   "version": "3.11.1"
  },
  "papermill": {
   "default_parameters": {},
   "duration": 1476.263599,
   "end_time": "2023-04-17T11:37:33.696082",
   "environment_variables": {},
   "exception": null,
   "input_path": "report-pdf-reg.ipynb",
   "output_path": "report-pdf-reg.ipynb",
   "parameters": {},
   "start_time": "2023-04-17T11:12:57.432483",
   "version": "2.3.2"
  }
 },
 "nbformat": 4,
 "nbformat_minor": 5
}