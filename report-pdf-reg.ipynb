{
 "cells": [
  {
   "cell_type": "markdown",
   "id": "economic-soldier",
   "metadata": {
    "papermill": {
     "duration": 0.028549,
     "end_time": "2021-05-01T00:09:43.850642",
     "exception": false,
     "start_time": "2021-05-01T00:09:43.822093",
     "status": "completed"
    },
    "tags": []
   },
   "source": [
    "# Baromètre des résultats - PDF reports"
   ]
  },
  {
   "cell_type": "markdown",
   "id": "constant-teacher",
   "metadata": {
    "papermill": {
     "duration": 0.022819,
     "end_time": "2021-05-01T00:09:43.896241",
     "exception": false,
     "start_time": "2021-05-01T00:09:43.873422",
     "status": "completed"
    },
    "tags": []
   },
   "source": [
    "## Imports"
   ]
  },
  {
   "cell_type": "code",
   "execution_count": 1,
   "id": "settled-section",
   "metadata": {
    "papermill": {
     "duration": 0.459405,
     "end_time": "2021-05-01T00:09:44.377911",
     "exception": false,
     "start_time": "2021-05-01T00:09:43.918506",
     "status": "completed"
    },
    "tags": []
   },
   "outputs": [],
   "source": [
    "import json\n",
    "import os\n",
    "import datetime\n",
    "import re\n",
    "\n",
    "import requests\n",
    "import pandas as pd\n",
    "\n",
    "import plotly.graph_objects as go\n",
    "import plotly.express as px\n",
    "\n",
    "from fpdf import FPDF"
   ]
  },
  {
   "cell_type": "markdown",
   "id": "prostate-fifty",
   "metadata": {
    "papermill": {
     "duration": 0.022549,
     "end_time": "2021-05-01T00:09:44.423490",
     "exception": false,
     "start_time": "2021-05-01T00:09:44.400941",
     "status": "completed"
    },
    "tags": []
   },
   "source": [
    "## Parameters"
   ]
  },
  {
   "cell_type": "code",
   "execution_count": 2,
   "id": "explicit-joseph",
   "metadata": {
    "papermill": {
     "duration": 0.030717,
     "end_time": "2021-05-01T00:09:44.476330",
     "exception": false,
     "start_time": "2021-05-01T00:09:44.445613",
     "status": "completed"
    },
    "tags": []
   },
   "outputs": [],
   "source": [
    "base_folder_path = 'https://raw.githubusercontent.com/etalab/barometre-resultats/master/frontend/static/'\n",
    "\n",
    "ovq_data_folder_path = os.path.join(base_folder_path, 'datasets', 'ovq-data')\n",
    "\n",
    "ovq_synthese_data_path = os.path.join(ovq_data_folder_path, 'prod', 'par_territoire', 'territoire-regional-global-light.json')\n",
    "ovq_detail_data_folder_path = os.path.join(ovq_data_folder_path, 'prod', 'par_thematique')\n",
    "ovq_structure_cible_path = os.path.join(ovq_data_folder_path, 'prod', 'structure', 'structure-cible.json')\n",
    "ovq_structure_families_path = os.path.join(ovq_data_folder_path, 'prod', 'structure', 'structure-families.json')\n",
    "\n",
    "#dep_taxo_url = os.path.join(base_folder_path, 'datasets', 'prod', 'taxonomies', 'departements.json')\n",
    "reg_taxo_url = os.path.join(base_folder_path, 'datasets', 'prod', 'taxonomies', 'regions.json')\n",
    "\n",
    "img_dir_path = './img/'\n",
    "reports_dir_path = './reports/'"
   ]
  },
  {
   "cell_type": "markdown",
   "id": "scientific-budget",
   "metadata": {
    "papermill": {
     "duration": 0.022581,
     "end_time": "2021-05-01T00:09:44.521213",
     "exception": false,
     "start_time": "2021-05-01T00:09:44.498632",
     "status": "completed"
    },
    "tags": []
   },
   "source": [
    "## Functions"
   ]
  },
  {
   "cell_type": "code",
   "execution_count": 3,
   "id": "acknowledged-holiday",
   "metadata": {
    "papermill": {
     "duration": 0.027802,
     "end_time": "2021-05-01T00:09:44.571759",
     "exception": false,
     "start_time": "2021-05-01T00:09:44.543957",
     "status": "completed"
    },
    "tags": []
   },
   "outputs": [],
   "source": [
    "def mkdir_ifnotexist(path) :\n",
    "    if not os.path.isdir(path) :\n",
    "        os.mkdir(path)"
   ]
  },
  {
   "cell_type": "code",
   "execution_count": 4,
   "id": "aerial-survey",
   "metadata": {
    "papermill": {
     "duration": 0.142608,
     "end_time": "2021-05-01T00:09:44.737457",
     "exception": false,
     "start_time": "2021-05-01T00:09:44.594849",
     "status": "completed"
    },
    "tags": []
   },
   "outputs": [],
   "source": [
    "#Importing taxonomies data to make a function to get all infos on a given region\n",
    "r = requests.get(reg_taxo_url)\n",
    "reg_dict_list = json.loads(r.content)\n",
    "\n",
    "def get_reg_infos(reg, reg_dict_list=reg_dict_list) :\n",
    "    \n",
    "    reg_dict = [dict_ for dict_ in reg_dict_list if dict_['reg'] == reg][0]\n",
    "    reg_name = reg_dict['libelle']\n",
    "    \n",
    "    res = dict(reg=reg,\n",
    "               reg_name=reg_name\n",
    "              )\n",
    "    \n",
    "    return res"
   ]
  },
  {
   "cell_type": "code",
   "execution_count": 5,
   "id": "wooden-battery",
   "metadata": {
    "papermill": {
     "duration": 0.029724,
     "end_time": "2021-05-01T00:09:44.792026",
     "exception": false,
     "start_time": "2021-05-01T00:09:44.762302",
     "status": "completed"
    },
    "tags": []
   },
   "outputs": [],
   "source": [
    "def get_reg_synthese_data(reg, ovq_synthese_data) :\n",
    "    for reg_dict in ovq_synthese_data :\n",
    "        if reg_dict['reg'] == reg :\n",
    "            res = reg_dict\n",
    "            break\n",
    "    return res"
   ]
  },
  {
   "cell_type": "code",
   "execution_count": 6,
   "id": "respected-business",
   "metadata": {
    "papermill": {
     "duration": 0.0314,
     "end_time": "2021-05-01T00:09:44.846675",
     "exception": false,
     "start_time": "2021-05-01T00:09:44.815275",
     "status": "completed"
    },
    "tags": []
   },
   "outputs": [],
   "source": [
    "def get_reg_indicateur_synthese_data(reg, id_indicateur, ovq_synthese_data) :\n",
    "    reg_dict = get_reg_synthese_data(reg, ovq_synthese_data)\n",
    "    \n",
    "    for ovq_dict in reg_dict['ovq'] :\n",
    "        for ind_dict in ovq_dict['indicateurs'] :\n",
    "            if id_indicateur in ind_dict.keys() :\n",
    "                res = ind_dict[id_indicateur][0]\n",
    "                break\n",
    "    return res"
   ]
  },
  {
   "cell_type": "code",
   "execution_count": 7,
   "id": "sitting-marking",
   "metadata": {
    "papermill": {
     "duration": 0.029605,
     "end_time": "2021-05-01T00:09:44.899670",
     "exception": false,
     "start_time": "2021-05-01T00:09:44.870065",
     "status": "completed"
    },
    "tags": []
   },
   "outputs": [],
   "source": [
    "def get_indicateur_structure_cible(id_indicateur, structure_cible_data) :\n",
    "    for ovq_dict in structure_cible_data :\n",
    "        for ind_dict in ovq_dict['indicateurs'] :\n",
    "            if ind_dict['id_indicateur_fr'] == id_indicateur :\n",
    "                res = ind_dict\n",
    "                break\n",
    "    return res"
   ]
  },
  {
   "cell_type": "code",
   "execution_count": 8,
   "id": "noble-census",
   "metadata": {
    "papermill": {
     "duration": 0.029489,
     "end_time": "2021-05-01T00:09:44.951444",
     "exception": false,
     "start_time": "2021-05-01T00:09:44.921955",
     "status": "completed"
    },
    "tags": []
   },
   "outputs": [],
   "source": [
    "def get_id_ovq_from_id_indicateur(id_indicateur, structure_cible_data) :\n",
    "    for ovq_dict in structure_cible_data :\n",
    "        for ind_dict in ovq_dict['indicateurs'] :\n",
    "            if ind_dict['id_indicateur_fr'] == id_indicateur :\n",
    "                id_ovq = ovq_dict['id_ovq']\n",
    "                break\n",
    "    return id_ovq"
   ]
  },
  {
   "cell_type": "code",
   "execution_count": 9,
   "id": "primary-maria",
   "metadata": {
    "papermill": {
     "duration": 0.033048,
     "end_time": "2021-05-01T00:09:45.008588",
     "exception": false,
     "start_time": "2021-05-01T00:09:44.975540",
     "status": "completed"
    },
    "tags": []
   },
   "outputs": [],
   "source": [
    "def get_ovq_structure_cible(id_ovq, structure_cible_data) :\n",
    "    for ovq_dict in structure_cible_data :\n",
    "        if ovq_dict['id_ovq'] == id_ovq :\n",
    "            res = ovq_dict\n",
    "            break\n",
    "    return res"
   ]
  },
  {
   "cell_type": "code",
   "execution_count": 10,
   "id": "elementary-employee",
   "metadata": {
    "papermill": {
     "duration": 0.033591,
     "end_time": "2021-05-01T00:09:45.064968",
     "exception": false,
     "start_time": "2021-05-01T00:09:45.031377",
     "status": "completed"
    },
    "tags": []
   },
   "outputs": [],
   "source": [
    "def get_detail_data(id_indicateur, reg, level, structure_cible_data, base_folder_path) :\n",
    "    #level can be departemental, regional or national\n",
    "    \n",
    "    id_ovq = get_id_ovq_from_id_indicateur(id_indicateur, structure_cible_data)\n",
    "    ovq_struc = get_ovq_structure_cible(id_ovq, structure_cible_data)\n",
    "    \n",
    "    for source_dict in ovq_struc['odm_sources_ids'] :\n",
    "        if source_dict['odm_source_level'] == level :\n",
    "            source_url = source_dict['odm_source_file']\n",
    "            \n",
    "    full_source_url = os.path.join(base_folder_path, source_url[1:])\n",
    "    \n",
    "    r = requests.get(full_source_url)\n",
    "    data = json.loads(r.content)\n",
    "                \n",
    "    if level == 'regional' :\n",
    "        for reg_dict in data :\n",
    "            if reg_dict['reg'] == reg :\n",
    "                res = reg_dict[id_indicateur]\n",
    "                break\n",
    "                \n",
    "    elif level == 'national' :\n",
    "        res = data[0][id_indicateur]\n",
    "    \n",
    "    return res"
   ]
  },
  {
   "cell_type": "code",
   "execution_count": 11,
   "id": "seasonal-affiliate",
   "metadata": {
    "papermill": {
     "duration": 0.035649,
     "end_time": "2021-05-01T00:09:45.123436",
     "exception": false,
     "start_time": "2021-05-01T00:09:45.087787",
     "status": "completed"
    },
    "tags": []
   },
   "outputs": [],
   "source": [
    "def make_pct_bullet_chart(pct, bar_color='#3D49A5', bg_color='#BBBFDF') :\n",
    "    \n",
    "    if pct < 0 : #To improve if inverted bullet chart is possible with plotly\n",
    "        bar_color = '#ED782F'\n",
    "        bg_color = '#ED782F'\n",
    "    \n",
    "    rounded_pct = round(pct)\n",
    "    \n",
    "    fig = go.Figure(go.Indicator(\n",
    "        mode = \"gauge\",\n",
    "        gauge = {'shape': \"bullet\", 'axis': {'visible':False, 'range': [0, 100]}, 'bgcolor':bg_color, 'bordercolor':'white', 'bar':{'thickness':1, 'color':bar_color}},\n",
    "        value = rounded_pct,\n",
    "        number = {'suffix':'%'},\n",
    "        domain = {'x': [0, 1], 'y': [0, 1]}))\n",
    "    \n",
    "    fig.update_layout(height = 400, width=2400, paper_bgcolor='rgba(0,0,0,0)', plot_bgcolor='rgba(0,0,0,0)')\n",
    "\n",
    "    fig.add_annotation(dict(font=dict(color='white',size=100),\n",
    "                                            x=0.05,\n",
    "                                            y=0.5,\n",
    "                                            showarrow=False,\n",
    "                                            text=str(rounded_pct)+'%',\n",
    "                                            textangle=0,\n",
    "                                            xanchor='left',\n",
    "                                            xref=\"paper\",\n",
    "                                            yref=\"paper\"))\n",
    "\n",
    "    return fig"
   ]
  },
  {
   "cell_type": "code",
   "execution_count": 12,
   "id": "composed-liver",
   "metadata": {
    "papermill": {
     "duration": 0.03054,
     "end_time": "2021-05-01T00:09:45.176322",
     "exception": false,
     "start_time": "2021-05-01T00:09:45.145782",
     "status": "completed"
    },
    "tags": []
   },
   "outputs": [],
   "source": [
    "months_fr_dict = {\n",
    "    '01':'janvier',\n",
    "    '02':'février',\n",
    "    '03':'mars',\n",
    "    '04':'avril',\n",
    "    '05':'mai',\n",
    "    '06':'juin',\n",
    "    '07':'juillet',\n",
    "    '08':'août',\n",
    "    '09':'septembre',\n",
    "    '10':'octobre',\n",
    "    '11':'novembre',\n",
    "    '12':'décembre'\n",
    "}\n",
    "\n",
    "# yearmonth should be in '2020-01' format\n",
    "\n",
    "def yearmonth_to_fr(yearmonth) :\n",
    "    month = yearmonth[-2:]\n",
    "    year = yearmonth[:4]\n",
    "    \n",
    "    return months_fr_dict[month] + ' ' + year"
   ]
  },
  {
   "cell_type": "code",
   "execution_count": 13,
   "id": "expanded-career",
   "metadata": {
    "papermill": {
     "duration": 0.030947,
     "end_time": "2021-05-01T00:09:45.230522",
     "exception": false,
     "start_time": "2021-05-01T00:09:45.199575",
     "status": "completed"
    },
    "tags": []
   },
   "outputs": [],
   "source": [
    "def reformat_number(number) :\n",
    "    return '{:,}'.format(number).replace(',',' ').replace('.',',')"
   ]
  },
  {
   "cell_type": "code",
   "execution_count": 14,
   "id": "accessible-forum",
   "metadata": {
    "papermill": {
     "duration": 0.038388,
     "end_time": "2021-05-01T00:09:45.292376",
     "exception": false,
     "start_time": "2021-05-01T00:09:45.253988",
     "status": "completed"
    },
    "tags": []
   },
   "outputs": [],
   "source": [
    "def make_detail_chart(df, chart_type) :\n",
    "    \n",
    "    text = ['' for i in range(len(df)-1)] + [reformat_number(list(df.sort_values('date')['value'])[-1])]\n",
    "    \n",
    "    if chart_type == 'histo' :\n",
    "        fig = px.bar(df, x='date', y='value',\n",
    "                         labels={'date':'', 'value':''}, \n",
    "                         height=400,\n",
    "                         width=900,\n",
    "                         color=None,\n",
    "                         orientation='v',\n",
    "                         text=text,\n",
    "                         title=None)\n",
    "        fig.update_layout(showlegend=False, uniformtext_minsize=8, uniformtext_mode='hide')\n",
    "        fig.layout['xaxis'].showgrid = False\n",
    "        fig.update_traces(marker_color='#00AC8C', textposition='outside', cliponaxis=False)\n",
    "        fig.update_xaxes(tickangle=-45,\n",
    "                         tickfont=dict(size=8),\n",
    "                         tickmode = 'array',\n",
    "                         tickvals = list(df['date']),\n",
    "                         ticktext= list(df['date_tick']))\n",
    "                        \n",
    "        return fig\n",
    "    \n",
    "    elif chart_type == 'line' :\n",
    "        fig = px.line(df, x='date', y='value',\n",
    "                         labels={'date':'', 'value':''}, \n",
    "                         height=400,\n",
    "                         width=750,\n",
    "                         color=None,\n",
    "                         orientation='v',\n",
    "                         text=text,\n",
    "                         title=None)\n",
    "        fig.update_layout(showlegend=False)\n",
    "        fig.layout['xaxis'].showgrid = False\n",
    "        fig.update_traces(marker=dict(size=12, line=dict(width=2, color='white')), marker_color='#00AC8C', line_color='#00AC8C', line_width=6, textposition='top center', cliponaxis=False)\n",
    "        fig.update_xaxes(tickangle=-45,\n",
    "                         tickfont=dict(size=8),\n",
    "                         tickmode = 'array',\n",
    "                         tickvals = list(df['date']),\n",
    "                         ticktext= list(df['date_tick']))\n",
    "        fig.data[0].update(mode='markers+lines+text')\n",
    "\n",
    "        return fig\n",
    "    \n",
    "    else :\n",
    "        print('Unknown chart type.')\n",
    "        return None"
   ]
  },
  {
   "cell_type": "code",
   "execution_count": 15,
   "id": "christian-certification",
   "metadata": {
    "papermill": {
     "duration": 0.030849,
     "end_time": "2021-05-01T00:09:45.347588",
     "exception": false,
     "start_time": "2021-05-01T00:09:45.316739",
     "status": "completed"
    },
    "tags": []
   },
   "outputs": [],
   "source": [
    "def remove_html_tags(raw_html):\n",
    "    tag_regex = re.compile('<.*?>')\n",
    "    return re.sub(tag_regex, '', raw_html)"
   ]
  },
  {
   "cell_type": "code",
   "execution_count": 16,
   "id": "american-ideal",
   "metadata": {
    "papermill": {
     "duration": 0.031814,
     "end_time": "2021-05-01T00:09:45.402315",
     "exception": false,
     "start_time": "2021-05-01T00:09:45.370501",
     "status": "completed"
    },
    "tags": []
   },
   "outputs": [],
   "source": [
    "def clean_description(text) :\n",
    "    \n",
    "    def drop_border_spaces(string) :\n",
    "        while string.startswith(' ') :\n",
    "            string = string[1:]\n",
    "        while string.endswith(' ') :\n",
    "            string = string[:-1]\n",
    "        return string\n",
    "    \n",
    "    text_lines = text.splitlines()\n",
    "    text_lines = [line.replace('<li>', '-') for line in text_lines]\n",
    "    text_lines = [remove_html_tags(line) for line in text_lines]\n",
    "    text_lines = [drop_border_spaces(line) for line in text_lines]\n",
    "    text_lines = [line for line in text_lines if line != '']\n",
    "    \n",
    "    #Managing lists\n",
    "    corr_text_lines = [text_lines[0]]\n",
    "    for i in range(1, len(text_lines)) :\n",
    "        if text_lines[i-1] == '-' :\n",
    "            new_line = '- ' + text_lines[i]\n",
    "        else :\n",
    "            new_line = text_lines[i]\n",
    "        corr_text_lines += [new_line]\n",
    "        \n",
    "    corr_text_lines = [line for line in corr_text_lines if line != '-']\n",
    "    \n",
    "    #Joining lines by linebreaks\n",
    "    corr_text = '\\n'.join(corr_text_lines)\n",
    "    \n",
    "    return corr_text"
   ]
  },
  {
   "cell_type": "markdown",
   "id": "aware-prize",
   "metadata": {
    "papermill": {
     "duration": 0.022504,
     "end_time": "2021-05-01T00:09:45.447413",
     "exception": false,
     "start_time": "2021-05-01T00:09:45.424909",
     "status": "completed"
    },
    "tags": []
   },
   "source": [
    "## Get data and build parameters out of it"
   ]
  },
  {
   "cell_type": "code",
   "execution_count": 17,
   "id": "prospective-genome",
   "metadata": {
    "papermill": {
     "duration": 0.211774,
     "end_time": "2021-05-01T00:09:45.682655",
     "exception": false,
     "start_time": "2021-05-01T00:09:45.470881",
     "status": "completed"
    },
    "tags": []
   },
   "outputs": [],
   "source": [
    "#Loading OVQ synthese data\n",
    "r = requests.get(ovq_synthese_data_path)\n",
    "ovq_synthese_data = json.loads(r.content)"
   ]
  },
  {
   "cell_type": "code",
   "execution_count": 18,
   "id": "aggressive-genius",
   "metadata": {
    "papermill": {
     "duration": 0.031155,
     "end_time": "2021-05-01T00:09:45.738404",
     "exception": false,
     "start_time": "2021-05-01T00:09:45.707249",
     "status": "completed"
    },
    "tags": []
   },
   "outputs": [
    {
     "name": "stdout",
     "output_type": "stream",
     "text": [
      "18\n"
     ]
    }
   ],
   "source": [
    "#Regions list\n",
    "reg_list = sorted(list(set([reg_dict['reg'] for reg_dict in ovq_synthese_data])))\n",
    "print(len(reg_list))"
   ]
  },
  {
   "cell_type": "code",
   "execution_count": 19,
   "id": "medium-spirituality",
   "metadata": {
    "papermill": {
     "duration": 0.031096,
     "end_time": "2021-05-01T00:09:45.792270",
     "exception": false,
     "start_time": "2021-05-01T00:09:45.761174",
     "status": "completed"
    },
    "tags": []
   },
   "outputs": [
    {
     "name": "stdout",
     "output_type": "stream",
     "text": [
      "45\n"
     ]
    }
   ],
   "source": [
    "#Indicateurs list\n",
    "id_indicateur_list = []\n",
    "for reg_dict in ovq_synthese_data :\n",
    "    for ovq_dict in reg_dict['ovq'] :\n",
    "        for ind_dict in ovq_dict['indicateurs'] :\n",
    "            id_indicateur_list += list(ind_dict.keys())\n",
    "            \n",
    "id_indicateur_list = list(set(id_indicateur_list))\n",
    "print(len(id_indicateur_list))"
   ]
  },
  {
   "cell_type": "code",
   "execution_count": 20,
   "id": "visible-reduction",
   "metadata": {
    "papermill": {
     "duration": 0.271065,
     "end_time": "2021-05-01T00:09:46.087286",
     "exception": false,
     "start_time": "2021-05-01T00:09:45.816221",
     "status": "completed"
    },
    "tags": []
   },
   "outputs": [],
   "source": [
    "#Loading structure data\n",
    "\n",
    "r = requests.get(ovq_structure_cible_path)\n",
    "structure_cible_data = json.loads(r.content)\n",
    "\n",
    "r = requests.get(ovq_structure_families_path)\n",
    "structure_families_data = json.loads(r.content)"
   ]
  },
  {
   "cell_type": "markdown",
   "id": "engaging-upgrade",
   "metadata": {
    "papermill": {
     "duration": 0.023389,
     "end_time": "2021-05-01T00:09:46.134115",
     "exception": false,
     "start_time": "2021-05-01T00:09:46.110726",
     "status": "completed"
    },
    "tags": []
   },
   "source": [
    "## Making the graphs"
   ]
  },
  {
   "cell_type": "code",
   "execution_count": 21,
   "id": "hollow-accessory",
   "metadata": {
    "papermill": {
     "duration": 0.031979,
     "end_time": "2021-05-01T00:09:46.189695",
     "exception": false,
     "start_time": "2021-05-01T00:09:46.157716",
     "status": "completed"
    },
    "tags": []
   },
   "outputs": [],
   "source": [
    "mkdir_ifnotexist(os.path.join(img_dir_path, 'graphs'))"
   ]
  },
  {
   "cell_type": "markdown",
   "id": "proved-slide",
   "metadata": {
    "papermill": {
     "duration": 0.025635,
     "end_time": "2021-05-01T00:09:46.241095",
     "exception": false,
     "start_time": "2021-05-01T00:09:46.215460",
     "status": "completed"
    },
    "tags": []
   },
   "source": [
    "### Synthese gauges"
   ]
  },
  {
   "cell_type": "code",
   "execution_count": 22,
   "id": "undefined-outside",
   "metadata": {
    "papermill": {
     "duration": 13.934045,
     "end_time": "2021-05-01T00:10:00.203765",
     "exception": false,
     "start_time": "2021-05-01T00:09:46.269720",
     "status": "completed"
    },
    "tags": []
   },
   "outputs": [
    {
     "name": "stdout",
     "output_type": "stream",
     "text": [
      "CPU times: user 2.12 s, sys: 225 ms, total: 2.34 s\n",
      "Wall time: 11.4 s\n"
     ]
    }
   ],
   "source": [
    "%%time\n",
    "for reg in reg_list :\n",
    "    for id_indicateur in id_indicateur_list :\n",
    "        data = get_reg_indicateur_synthese_data(reg, id_indicateur, ovq_synthese_data)\n",
    "        pct = data['target_percentage']\n",
    "        \n",
    "        if pct is not None :\n",
    "            fig = make_pct_bullet_chart(pct)\n",
    "\n",
    "            if fig is not None :\n",
    "                img_path = os.path.join(img_dir_path, 'graphs', 'bullet_chart-synthese-target_percentage-{}-reg_{}.png'.format(id_indicateur, reg))\n",
    "                fig.write_image(img_path)"
   ]
  },
  {
   "cell_type": "markdown",
   "id": "official-belize",
   "metadata": {
    "papermill": {
     "duration": 0.024411,
     "end_time": "2021-05-01T00:10:00.252988",
     "exception": false,
     "start_time": "2021-05-01T00:10:00.228577",
     "status": "completed"
    },
    "tags": []
   },
   "source": [
    "### Detail graphs"
   ]
  },
  {
   "cell_type": "code",
   "execution_count": 23,
   "id": "western-simulation",
   "metadata": {
    "papermill": {
     "duration": 77.414577,
     "end_time": "2021-05-01T00:11:17.691439",
     "exception": false,
     "start_time": "2021-05-01T00:10:00.276862",
     "status": "completed"
    },
    "tags": []
   },
   "outputs": [
    {
     "name": "stdout",
     "output_type": "stream",
     "text": [
      "2021-05-11 12:06:41.154765 - Reg 01 done.\n",
      "2021-05-11 12:06:46.292086 - Reg 02 done.\n",
      "2021-05-11 12:06:51.487511 - Reg 03 done.\n",
      "2021-05-11 12:06:56.402848 - Reg 04 done.\n",
      "2021-05-11 12:07:01.913407 - Reg 06 done.\n",
      "2021-05-11 12:07:08.667621 - Reg 11 done.\n",
      "2021-05-11 12:07:13.965733 - Reg 24 done.\n",
      "2021-05-11 12:07:18.909681 - Reg 27 done.\n",
      "2021-05-11 12:07:23.818641 - Reg 28 done.\n",
      "2021-05-11 12:07:28.739383 - Reg 32 done.\n",
      "2021-05-11 12:07:33.676071 - Reg 44 done.\n",
      "2021-05-11 12:07:38.684319 - Reg 52 done.\n",
      "2021-05-11 12:07:43.592911 - Reg 53 done.\n",
      "2021-05-11 12:07:48.471973 - Reg 75 done.\n",
      "2021-05-11 12:07:53.404251 - Reg 76 done.\n",
      "2021-05-11 12:07:58.342023 - Reg 84 done.\n",
      "2021-05-11 12:08:03.591138 - Reg 93 done.\n",
      "2021-05-11 12:08:08.678699 - Reg 94 done.\n",
      "CPU times: user 51.4 s, sys: 1.24 s, total: 52.6 s\n",
      "Wall time: 1min 40s\n"
     ]
    }
   ],
   "source": [
    "%%time\n",
    "short_level_dict = {\n",
    "    'reg':'regional',\n",
    "    'nat':'national'\n",
    "}\n",
    "\n",
    "for reg in reg_list :\n",
    "    for id_indicateur in id_indicateur_list :\n",
    "        \n",
    "        #Get information to know what level of data to use\n",
    "        synthese_data = get_reg_indicateur_synthese_data(reg, id_indicateur, ovq_synthese_data)\n",
    "        level = short_level_dict[synthese_data['from_level']]\n",
    "        \n",
    "        #Get chart type for indicateur\n",
    "        chart_type = get_indicateur_structure_cible(id_indicateur, structure_cible_data)['odm_chart_type']\n",
    "        \n",
    "        #Get data\n",
    "        detail_data = get_detail_data(id_indicateur, reg, level, structure_cible_data, base_folder_path)\n",
    "        df = pd.DataFrame(detail_data)\n",
    "        df = df.sort_values('date')\n",
    "        df['date_tick'] = df['date'].apply(lambda x : yearmonth_to_fr(x[:7]))\n",
    "        \n",
    "        #Making graphs\n",
    "        fig = make_detail_chart(df, chart_type)\n",
    "        img_path = os.path.join(img_dir_path, 'graphs', 'graph-detail-{}-reg_{}.png'.format(id_indicateur, reg))\n",
    "\n",
    "        if fig is not None :\n",
    "            fig.write_image(img_path)\n",
    "\n",
    "    print('{} - Reg {} done.'.format(datetime.datetime.today(), reg))"
   ]
  },
  {
   "cell_type": "markdown",
   "id": "twenty-lighting",
   "metadata": {
    "papermill": {
     "duration": 0.027969,
     "end_time": "2021-05-01T00:11:17.748314",
     "exception": false,
     "start_time": "2021-05-01T00:11:17.720345",
     "status": "completed"
    },
    "tags": []
   },
   "source": [
    "## Building the reports"
   ]
  },
  {
   "cell_type": "code",
   "execution_count": 24,
   "id": "broken-portrait",
   "metadata": {
    "papermill": {
     "duration": 0.035226,
     "end_time": "2021-05-01T00:11:17.810689",
     "exception": false,
     "start_time": "2021-05-01T00:11:17.775463",
     "status": "completed"
    },
    "tags": []
   },
   "outputs": [],
   "source": [
    "mkdir_ifnotexist(reports_dir_path)"
   ]
  },
  {
   "cell_type": "code",
   "execution_count": 25,
   "id": "romance-frost",
   "metadata": {
    "papermill": {
     "duration": 0.034549,
     "end_time": "2021-05-01T00:11:17.873516",
     "exception": false,
     "start_time": "2021-05-01T00:11:17.838967",
     "status": "completed"
    },
    "tags": []
   },
   "outputs": [],
   "source": [
    "global title_header\n",
    "title_header = ''"
   ]
  },
  {
   "cell_type": "code",
   "execution_count": 26,
   "id": "affected-fisher",
   "metadata": {
    "papermill": {
     "duration": 0.039483,
     "end_time": "2021-05-01T00:11:17.940290",
     "exception": false,
     "start_time": "2021-05-01T00:11:17.900807",
     "status": "completed"
    },
    "tags": []
   },
   "outputs": [],
   "source": [
    "class PDF(FPDF):\n",
    "    def header(self):\n",
    "        if (self.page_no() != 1 ):\n",
    "            # Logo\n",
    "            self.image(os.path.join(img_dir_path, 'gouv.png'), 10, 8, 45)\n",
    "            # Arial bold 15\n",
    "            self.cell(50)\n",
    "            self.set_font('Arial', 'B', 16)\n",
    "            self.cell(80, 15, title_header, 0, 1, 'A')\n",
    "\n",
    "            # Move to the right\n",
    "            # Title\n",
    "            self.set_font('Arial', 'I', 9)\n",
    "            self.cell(50)\n",
    "            #self.cell(50, 10, subtitle_header+' - aides-entreprises.data.gouv.fr', 0, 1, 'A', link='https://aides-entreprises.data.gouv.fr/')\n",
    "            self.cell(50, 10, 'www.gouvernement.fr/les-actions-du-gouvernement', 0, 1, 'A', link='https://www.gouvernement.fr/les-actions-du-gouvernement')\n",
    "            # Line break  \n",
    "            pdf.line(40, 38, 170, 38)\n",
    "            self.ln(7)\n",
    "        \n",
    "    # Page footer\n",
    "    def footer(self):\n",
    "        if (self.page_no() != 1 ):\n",
    "            # Position at 1.5 cm from bottom\n",
    "            self.set_y(-15)\n",
    "            # Arial italic 8\n",
    "            self.set_font('Arial', 'I', 8)\n",
    "            # Page number\n",
    "            \n",
    "            self.cell(0, 10, 'Direction Interministérielle du Numérique (DINUM) - Page ' + str(self.page_no()) + '/{nb}', 0, 0, 'C')"
   ]
  },
  {
   "cell_type": "code",
   "execution_count": 83,
   "id": "radical-fancy",
   "metadata": {
    "papermill": {
     "duration": 0.061038,
     "end_time": "2021-05-01T00:11:18.028819",
     "exception": false,
     "start_time": "2021-05-01T00:11:17.967781",
     "status": "completed"
    },
    "tags": []
   },
   "outputs": [],
   "source": [
    "def insert_indicateur(pdf, reg, ind_data, ind_struc) :\n",
    "    \n",
    "    #Getting relevant information in data\n",
    "    initial_value = ind_data['initial_value']\n",
    "    initial_value_date = ind_data['initial_value_date']\n",
    "    latest_value = ind_data['latest_value']\n",
    "    latest_value_date = ind_data['latest_value_date']\n",
    "    target_value = ind_data['target']\n",
    "    target_percentage = ind_data['target_percentage']\n",
    "    target_value_date = ind_data['target_date']\n",
    "    progression_percentage = ind_data['progression_percentage']\n",
    "    from_level = ind_data['from_level']\n",
    "    \n",
    "    #Getting relevant information in structure\n",
    "    id_indicateur = ind_struc['id_indicateur_fr']\n",
    "    nom_indicateur = ind_struc['nom_indicateur'].replace('’', \"'\").replace('\\u20ac',' euros')\n",
    "    ind_text_url = ind_struc['odm_text'].replace('\\u20ac',' euros')\n",
    "    kpi_format = ind_struc['odm_kpi_format']\n",
    "    kpi_unit = ind_struc['odm_kpi_unit'].replace('\\u20ac',' euros')\n",
    "    chart_unit = ind_struc['odm_chart_unit'].replace('\\u20ac',' euros')\n",
    "    to_round = ind_struc['toRound']\n",
    "    \n",
    "    #Numbers formating\n",
    "    if to_round is not None :\n",
    "        if initial_value is not None :\n",
    "            initial_value = round(initial_value, to_round)\n",
    "            initial_value = reformat_number(initial_value)\n",
    "        if latest_value is not None :\n",
    "            latest_value = round(latest_value, to_round)\n",
    "            latest_value = reformat_number(latest_value)\n",
    "        if target_value is not None :\n",
    "            target_value = round(target_value, to_round)\n",
    "            target_value = reformat_number(target_value)\n",
    "            \n",
    "    if progression_percentage is not None :\n",
    "        if progression_percentage < 0 :\n",
    "            progression_percentage_str = '- '+str(-progression_percentage).replace('.',',')+' %'\n",
    "        else :\n",
    "            progression_percentage_str = '+ '+str(progression_percentage).replace('.',',')+' %'\n",
    "    else :\n",
    "        progression_percentage_str = ''\n",
    "    \n",
    "    if kpi_unit.startswith('%') :\n",
    "        if initial_value is not None :\n",
    "            initial_value += ' %'\n",
    "        if latest_value is not None :\n",
    "            latest_value += ' %'\n",
    "        if target_value is not None :\n",
    "            target_value += ' %'\n",
    "        kpi_unit = kpi_unit.replace('% ','').replace('%','')\n",
    "    \n",
    "    #Initializing blocks parameters\n",
    "    nb_blocks = 1\n",
    "    ini_block = False\n",
    "    tar_block = False\n",
    "    \n",
    "    #Current value (always present)\n",
    "    latest_value_date_str = yearmonth_to_fr(latest_value_date[:7])\n",
    "    latest_value_str = str(latest_value).replace('.',',')\n",
    "    \n",
    "    #Insert initial block if init value exists\n",
    "    if initial_value is not None :\n",
    "        if float(initial_value.replace(',','.').replace(' ','').replace('%','')) > 0 :\n",
    "            initial_value_date_str = yearmonth_to_fr(initial_value_date[:7])\n",
    "            initial_value_str = str(initial_value).replace('.',',')\n",
    "            nb_blocks += 1\n",
    "            ini_block = True\n",
    "        \n",
    "    #Insert target block if target value exists\n",
    "    if target_value is not None :\n",
    "        target_value_date_str = yearmonth_to_fr(target_value_date[:7])\n",
    "        target_value_str = str(target_value).replace('.',',')\n",
    "        nb_blocks += 1\n",
    "        tar_block = True\n",
    "        \n",
    "    #Blocks settings depending on existing data\n",
    "    block_spacing = 5\n",
    "    block_width = (182 - (nb_blocks-1)*block_spacing)/nb_blocks\n",
    "    \n",
    "    #INDICATOR DISPLAY\n",
    "    \n",
    "    #Indicator title\n",
    "    pdf.set_text_color(0,0,0)\n",
    "    pdf.set_font('Arial', 'B', 12)\n",
    "    pdf.multi_cell(182, 5, 'Indicateur : '+ nom_indicateur, align='L')\n",
    "    pdf.ln(3)\n",
    "    \n",
    "    #Indicator description\n",
    "    full_ind_text_url = os.path.join(base_folder_path, ind_text_url[1:])\n",
    "    r = requests.get(full_ind_text_url)\n",
    "    ind_text = r.text.replace('’', \"'\").replace('œ','oe').replace('…','...').replace('–','-').replace('\\u20ac',' euros')\n",
    "    ind_text = clean_description(ind_text)\n",
    "    \n",
    "    pdf.set_font('Arial', '', 10)\n",
    "    pdf.multi_cell(182, 5, ind_text, align='J')\n",
    "    pdf.ln(3)\n",
    "    \n",
    "    #Data geo level indication\n",
    "    if from_level == 'reg' :\n",
    "        from_level_str = \"Les résultats pour la région : \" + get_reg_infos(reg)['reg_name']\n",
    "    elif from_level == 'nat' :\n",
    "        from_level_str = \"Données uniquement disponibles pour la France\"\n",
    "    \n",
    "    pdf.set_text_color(0,0,0)\n",
    "    pdf.set_font('Arial', '', 10)\n",
    "    pdf.set_fill_color(245,245,245);\n",
    "    pdf.cell(182, 8, from_level_str, 0, 2, 'L', fill=True)\n",
    "    pdf.ln(3)\n",
    "    \n",
    "    #Indicator blocks\n",
    "    \n",
    "    y_blocks_top = pdf.get_y()\n",
    "    x_blocks_left = pdf.get_x()\n",
    "    \n",
    "    #Initial value block\n",
    "    if ini_block == True :\n",
    "        pdf.set_fill_color(253, 244, 242)\n",
    "        pdf.set_font('Arial', '', 8)\n",
    "        pdf.cell(block_width, 8, 'En {}'.format(initial_value_date_str), 0, 1, 'L', fill=True)\n",
    "        pdf.set_fill_color(254, 249, 248)\n",
    "        pdf.set_font('Arial', 'B', 20)\n",
    "        pdf.cell(block_width, 10, initial_value_str, 0, 1, 'L', fill=True)\n",
    "        pdf.set_font('Arial', '', 10)\n",
    "        pdf.cell(block_width, 3, kpi_unit, 0, 1, 'L', fill=True)\n",
    "        block_left_x = pdf.get_x()\n",
    "        block_bottom_y = pdf.get_y()\n",
    "        pdf.cell(block_width, 10, '', 0, 1, 'L', fill=True)\n",
    "    \n",
    "    #Current value block (always here)\n",
    "    if ini_block == True :\n",
    "        pdf.set_xy(block_width + pdf.l_margin + block_spacing, y_blocks_top)\n",
    "    pdf.set_fill_color(234, 244, 239)\n",
    "    pdf.set_font('Arial', '', 8)\n",
    "    pdf.cell(block_width, 8, 'En {}'.format(latest_value_date_str), 0, 2, 'L', fill=True)\n",
    "    pdf.set_fill_color(244, 250, 247)\n",
    "    pdf.set_font('Arial', 'B', 20)\n",
    "    pdf.cell(block_width, 10, latest_value_str, 0, 2, 'L', fill=True)\n",
    "    pdf.set_font('Arial', '', 10)\n",
    "    pdf.cell(block_width, 3, kpi_unit, 0, 2, 'L', fill=True)\n",
    "    block_left_x = pdf.get_x()\n",
    "    block_bottom_y = pdf.get_y()\n",
    "    pdf.cell(block_width, 10, progression_percentage_str, 0, 2, 'L', fill=True)\n",
    "    \n",
    "    #Target value block\n",
    "    if tar_block == True :\n",
    "        if nb_blocks == 2 :\n",
    "            pdf.set_xy(block_width + pdf.l_margin + block_spacing, y_blocks_top)\n",
    "        elif nb_blocks == 3 :\n",
    "            pdf.set_xy(2*block_width + pdf.l_margin + 2*block_spacing, y_blocks_top)\n",
    "            \n",
    "        pdf.set_fill_color(229, 229, 243)\n",
    "        pdf.set_font('Arial', '', 8)\n",
    "        pdf.cell(block_width, 8, 'Cible {}'.format(target_value_date_str), 0, 2, 'L', fill=True)\n",
    "        pdf.set_fill_color(242, 242, 248)\n",
    "        pdf.set_font('Arial', 'B', 20)\n",
    "        pdf.cell(block_width, 10, target_value_str, 0, 2, 'L', fill=True)\n",
    "        pdf.set_font('Arial', '', 10)\n",
    "        pdf.cell(block_width, 3, kpi_unit, 0, 2, 'L', fill=True)\n",
    "        \n",
    "        #Inserting bullet chart (prog %) if exists\n",
    "        block_left_x = pdf.get_x()\n",
    "        block_bottom_y = pdf.get_y()\n",
    "        pdf.cell(block_width, 10, '', 0, 2, 'L', fill=True)\n",
    "        bullet_chart_width = 55\n",
    "        pdf.set_xy(block_left_x + block_width/2 - bullet_chart_width/2, block_bottom_y)\n",
    "        try :\n",
    "            prog_img_path = os.path.join(img_dir_path, 'graphs', 'bullet_chart-synthese-target_percentage-{}-reg_{}.png'.format(id_indicateur, reg))\n",
    "            pdf.image(prog_img_path, w=bullet_chart_width)\n",
    "        except :\n",
    "            pass\n",
    "    \n",
    "    #To go properly on next line (under blocks)\n",
    "    pdf.set_xy(block_left_x, block_bottom_y)\n",
    "    pdf.cell(0, 10, '', 0, 1) #Just to go to next line\n",
    "    \n",
    "    #CHART DISPLAY\n",
    "    try :\n",
    "        pdf.set_x(x_blocks_left)\n",
    "        chart_width = 140\n",
    "        chart_img_path = os.path.join(img_dir_path, 'graphs', 'graph-detail-{}-reg_{}.png'.format(id_indicateur, reg))\n",
    "        pdf.image(chart_img_path, w=chart_width, x=x_blocks_left + 182/2 - chart_width/2)\n",
    "\n",
    "        pdf.set_font('Arial', 'I', 8)\n",
    "        pdf.cell(182, 8, 'Unité : {}'.format(chart_unit), 0, 2, 'C')\n",
    "    except :\n",
    "        print('No chart found for {}'.format(id_indicateur))\n",
    "\n",
    "    return pdf"
   ]
  },
  {
   "cell_type": "code",
   "execution_count": 84,
   "id": "italian-nowhere",
   "metadata": {
    "papermill": {
     "duration": 395.965711,
     "end_time": "2021-05-01T00:17:54.023474",
     "exception": false,
     "start_time": "2021-05-01T00:11:18.057763",
     "status": "completed"
    },
    "tags": []
   },
   "outputs": [
    {
     "name": "stdout",
     "output_type": "stream",
     "text": [
      "No structure cible for OVQ-SNU\n",
      "No structure cible for OVQ-EAC\n",
      "2021-05-11 13:03:34.706554 - Guadeloupe done.\n",
      "No structure cible for OVQ-SNU\n",
      "No structure cible for OVQ-EAC\n",
      "2021-05-11 13:04:19.783260 - Martinique done.\n",
      "No structure cible for OVQ-SNU\n",
      "No structure cible for OVQ-EAC\n",
      "2021-05-11 13:05:03.391202 - Guyane done.\n",
      "No structure cible for OVQ-SNU\n",
      "No structure cible for OVQ-EAC\n",
      "2021-05-11 13:05:48.502170 - La Réunion done.\n",
      "No structure cible for OVQ-SNU\n",
      "No structure cible for OVQ-EAC\n",
      "2021-05-11 13:06:32.509599 - Mayotte done.\n",
      "No structure cible for OVQ-SNU\n",
      "No structure cible for OVQ-EAC\n",
      "2021-05-11 13:07:09.119765 - Île-de-France done.\n",
      "No structure cible for OVQ-SNU\n",
      "No structure cible for OVQ-EAC\n",
      "2021-05-11 13:07:46.829377 - Centre-Val de Loire done.\n",
      "No structure cible for OVQ-SNU\n",
      "No structure cible for OVQ-EAC\n",
      "2021-05-11 13:08:38.639425 - Bourgogne-Franche-Comté done.\n",
      "No structure cible for OVQ-SNU\n",
      "No structure cible for OVQ-EAC\n",
      "2021-05-11 13:09:16.852091 - Normandie done.\n",
      "No structure cible for OVQ-SNU\n",
      "No structure cible for OVQ-EAC\n",
      "2021-05-11 13:09:55.899609 - Hauts-de-France done.\n",
      "No structure cible for OVQ-SNU\n",
      "No structure cible for OVQ-EAC\n",
      "2021-05-11 13:10:32.862076 - Grand Est done.\n",
      "No structure cible for OVQ-SNU\n",
      "No structure cible for OVQ-EAC\n",
      "2021-05-11 13:11:11.867738 - Pays de la Loire done.\n",
      "No structure cible for OVQ-SNU\n",
      "No structure cible for OVQ-EAC\n",
      "2021-05-11 13:11:49.126749 - Bretagne done.\n",
      "No structure cible for OVQ-SNU\n",
      "No structure cible for OVQ-EAC\n",
      "2021-05-11 13:12:27.469112 - Nouvelle-Aquitaine done.\n",
      "No structure cible for OVQ-SNU\n",
      "No structure cible for OVQ-EAC\n",
      "2021-05-11 13:13:04.977433 - Occitanie done.\n",
      "No structure cible for OVQ-SNU\n",
      "No structure cible for OVQ-EAC\n",
      "2021-05-11 13:13:58.709024 - Auvergne-Rhône-Alpes done.\n",
      "No structure cible for OVQ-SNU\n",
      "No structure cible for OVQ-EAC\n",
      "2021-05-11 13:14:35.831490 - Provence-Alpes-Côte d'Azur done.\n",
      "No structure cible for OVQ-SNU\n",
      "No structure cible for OVQ-EAC\n",
      "2021-05-11 13:15:16.543072 - Corse done.\n",
      "CPU times: user 8min 34s, sys: 2min 31s, total: 11min 6s\n",
      "Wall time: 12min 42s\n"
     ]
    }
   ],
   "source": [
    "%%time\n",
    "\n",
    "mkdir_ifnotexist(os.path.join(reports_dir_path, 'pdf'))\n",
    "mkdir_ifnotexist(os.path.join(reports_dir_path, 'pdf', 'par_region'))\n",
    "\n",
    "for reg in reg_list :\n",
    "    \n",
    "    pdf = PDF()\n",
    "    pdf.alias_nb_pages()\n",
    "    pdf.add_page()\n",
    "\n",
    "    #Logos\n",
    "    pdf.image(os.path.join(img_dir_path, 'gouv.png'), 10, 8, 125)\n",
    "    \n",
    "    # Arial bold 15\n",
    "    pdf.set_font('Arial', 'B', 28)\n",
    "    # Move to the right\n",
    "    pdf.cell(50)\n",
    "    pdf.ln(100)\n",
    "    \n",
    "    # Title\n",
    "    pdf.cell(10)\n",
    "    pdf.cell(50, 10, 'BAROMÈTRE DES RÉSULTATS DE', 0, 1, 'A')\n",
    "    pdf.ln(10)\n",
    "    pdf.cell(10)\n",
    "    pdf.cell(50, 10, \"L'ACTION PUBLIQUE\", 0, 1, 'A')\n",
    "    pdf.ln(10)\n",
    "    pdf.cell(60)\n",
    "\n",
    "    pdf.set_font('Arial', 'I', 20)\n",
    "    pdf.ln(10)\n",
    "    pdf.cell(10)\n",
    "    pdf.cell(50, 10, 'Présentation des résultats pour la région :', 0, 1, 'A')\n",
    "    pdf.ln(10)\n",
    "    pdf.cell(10)\n",
    "    pdf.cell(50, 10, reg + ' - ' + get_reg_infos(reg)['reg_name'], 0, 1, 'A')\n",
    "    pdf.ln(70)\n",
    "\n",
    "    pdf.set_font('Arial', 'I', 8)\n",
    "\n",
    "    pdf.cell(10)\n",
    "    pdf.cell(50, 10, \"Données issues du baromètre des résultats consultable sur https://www.gouvernement.fr/les-actions-du-gouvernement\", 0, 1, 'A')\n",
    "    \n",
    "    #Indicateurs\n",
    "    \n",
    "    pdf.set_left_margin(14)\n",
    "    pdf.set_right_margin(14)\n",
    "    \n",
    "    #subtitle_header = find_last_update('aides')\n",
    "    \n",
    "    for thematique_dict in structure_families_data :\n",
    "    \n",
    "        thematique = thematique_dict['nom_ovq']\n",
    "        \n",
    "        #Downloading thematique image\n",
    "        thematique_img_url = os.path.join(base_folder_path, thematique_dict['odm_image'][1:])\n",
    "        thematique_img_local_path = './img/' + thematique_img_url.split('/')[-1]\n",
    "        r = requests.get(thematique_img_url)\n",
    "        with open(thematique_img_local_path, 'wb') as f:\n",
    "            f.write(r.content)\n",
    "        \n",
    "        #Section page\n",
    "        title_header = ''\n",
    "        pdf.add_page()\n",
    "        pdf.image(thematique_img_local_path, x=0, y=70, w=210)\n",
    "        pdf.ln(190)\n",
    "        pdf.set_font('Arial', 'B', 25)\n",
    "        pdf.cell(182, 6, thematique.upper())\n",
    "        \n",
    "        title_header = thematique.upper()\n",
    "\n",
    "        id_ovq_list = thematique_dict['id_ovq']\n",
    "        for id_ovq in id_ovq_list :\n",
    "\n",
    "            try :\n",
    "                ovq_dict = get_ovq_structure_cible(id_ovq, structure_cible_data)\n",
    "            except :\n",
    "                print('No structure cible for {}'.format(id_ovq))\n",
    "                ovq_dict = None\n",
    "            \n",
    "            if ovq_dict is not None :\n",
    "                pdf.add_page()\n",
    "                pdf.ln(3)\n",
    "                nom_ovq = ovq_dict['nom_ovq'].replace('’', \"'\").replace('œ','oe').replace('\\u20ac',' euros')\n",
    "                ovq_text_url = os.path.join(base_folder_path, ovq_dict['odm_text'][1:])\n",
    "                r = requests.get(ovq_text_url)\n",
    "                ovq_text = r.text.replace('’', \"'\").replace('œ','oe').replace('…','...').replace('–','-').replace('\\u20ac',' euros')\n",
    "                ovq_text = clean_description(ovq_text)\n",
    "                \n",
    "                #Display OVQ title\n",
    "                pdf.set_font('Arial', 'B', 16)\n",
    "                pdf.multi_cell(182, 6, nom_ovq, align='L')\n",
    "                pdf.ln(3)\n",
    "                #Display OVQ description\n",
    "                pdf.set_font('Arial', '', 10)\n",
    "                pdf.multi_cell(182, 5, ovq_text, align='J')\n",
    "                pdf.ln(3)\n",
    "\n",
    "                ovq_id_indicateur_list = [ind_dict['id_indicateur_fr'] for ind_dict in ovq_dict['indicateurs']]\n",
    "\n",
    "                add_page_for_ind = False\n",
    "                for id_indicateur in ovq_id_indicateur_list :\n",
    "                    if add_page_for_ind == True :\n",
    "                        pdf.add_page()\n",
    "                    ind_data = get_reg_indicateur_synthese_data(reg, id_indicateur, ovq_synthese_data)\n",
    "                    ind_struc = get_indicateur_structure_cible(id_indicateur, structure_cible_data)\n",
    "\n",
    "                    pdf = insert_indicateur(pdf, reg, ind_data, ind_struc)\n",
    "                    add_page_for_ind = True\n",
    "    \n",
    "    reg_name = get_reg_infos(reg)['reg_name']\n",
    "    pdf.output(os.path.join(reports_dir_path, 'pdf', 'par_region', 'Baromètre_résultats_'+reg_name+'.pdf'), 'F')\n",
    "    \n",
    "    print(str(datetime.datetime.today()) + ' - ' + reg_name + ' done.')"
   ]
  },
  {
   "cell_type": "markdown",
   "id": "boolean-signature",
   "metadata": {
    "papermill": {
     "duration": 0.04168,
     "end_time": "2021-05-01T00:17:54.107953",
     "exception": false,
     "start_time": "2021-05-01T00:17:54.066273",
     "status": "completed"
    },
    "tags": []
   },
   "source": [
    "## Compress to ZIP"
   ]
  },
  {
   "cell_type": "raw",
   "id": "nasty-diagram",
   "metadata": {
    "papermill": {
     "duration": 0.042435,
     "end_time": "2021-05-01T00:17:54.192647",
     "exception": false,
     "start_time": "2021-05-01T00:17:54.150212",
     "status": "completed"
    },
    "tags": []
   },
   "source": [
    "from zipfile import ZipFile"
   ]
  },
  {
   "cell_type": "raw",
   "id": "comprehensive-ladder",
   "metadata": {
    "papermill": {
     "duration": 0.045798,
     "end_time": "2021-05-01T00:17:54.282436",
     "exception": false,
     "start_time": "2021-05-01T00:17:54.236638",
     "status": "completed"
    },
    "tags": []
   },
   "source": [
    "today_date = str(datetime.datetime.today())[:10]\n",
    "today_date"
   ]
  },
  {
   "cell_type": "raw",
   "id": "possible-cambodia",
   "metadata": {
    "papermill": {
     "duration": 0.043943,
     "end_time": "2021-05-01T00:17:54.370249",
     "exception": false,
     "start_time": "2021-05-01T00:17:54.326306",
     "status": "completed"
    },
    "tags": []
   },
   "source": [
    "my_zip_date = ZipFile(os.path.join(reports_dir_path, 'Baromètre_résultats_{}.zip'.format(today_date)), 'w')\n",
    "my_zip_latest = ZipFile(os.path.join(reports_dir_path, 'Baromètre_résultats_latest.zip'), 'w')\n",
    "\n",
    "for filename in os.listdir(os.path.join(reports_dir_path, 'pdf')) :\n",
    "    if filename.endswith('.pdf') :\n",
    "        my_zip_date.write(os.path.join(reports_dir_path, 'pdf', filename))\n",
    "        my_zip_latest.write(os.path.join(reports_dir_path, 'pdf', filename))\n",
    "        \n",
    "my_zip_date.close()\n",
    "my_zip_latest.close()"
   ]
  },
  {
   "cell_type": "code",
   "execution_count": null,
   "id": "interpreted-protocol",
   "metadata": {},
   "outputs": [],
   "source": []
  }
 ],
 "metadata": {
  "kernelspec": {
   "display_name": "Python 3",
   "language": "python",
   "name": "python3"
  },
  "language_info": {
   "codemirror_mode": {
    "name": "ipython",
    "version": 3
   },
   "file_extension": ".py",
   "mimetype": "text/x-python",
   "name": "python",
   "nbconvert_exporter": "python",
   "pygments_lexer": "ipython3",
   "version": "3.9.1"
  },
  "papermill": {
   "default_parameters": {},
   "duration": 492.014774,
   "end_time": "2021-05-01T00:17:54.721593",
   "environment_variables": {},
   "exception": null,
   "input_path": "report-pdf-reg.ipynb",
   "output_path": "report-pdf-reg.ipynb",
   "parameters": {},
   "start_time": "2021-05-01T00:09:42.706819",
   "version": "2.3.2"
  }
 },
 "nbformat": 4,
 "nbformat_minor": 5
}
