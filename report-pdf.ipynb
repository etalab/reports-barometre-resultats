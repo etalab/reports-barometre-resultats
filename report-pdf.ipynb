{
 "cells": [
  {
   "cell_type": "markdown",
   "metadata": {},
   "source": [
    "# Baromètre des résultats - PDF reports"
   ]
  },
  {
   "cell_type": "markdown",
   "metadata": {},
   "source": [
    "## Imports"
   ]
  },
  {
   "cell_type": "code",
   "execution_count": 1,
   "metadata": {},
   "outputs": [],
   "source": [
    "import json\n",
    "import os\n",
    "from os.path import join\n",
    "import datetime\n",
    "import random\n",
    "\n",
    "from urllib.request import urlopen\n",
    "import urllib\n",
    "\n",
    "import plotly.graph_objects as go\n",
    "import plotly.express as px\n",
    "\n",
    "import pandas as pd\n",
    "import numpy as np\n",
    "\n",
    "from fpdf import FPDF"
   ]
  },
  {
   "cell_type": "markdown",
   "metadata": {},
   "source": [
    "## Functions"
   ]
  },
  {
   "cell_type": "code",
   "execution_count": 2,
   "metadata": {},
   "outputs": [],
   "source": [
    "def mkdir_ifnotexist(path) :\n",
    "    if not os.path.isdir(path) :\n",
    "        os.mkdir(path)"
   ]
  },
  {
   "cell_type": "code",
   "execution_count": 3,
   "metadata": {},
   "outputs": [],
   "source": [
    "def get_dep_infos(dep, dep_taxo_path='./data/taxonomies/departements.json', reg_taxo_path='./data/taxonomies/regions.json') :\n",
    "    with open(dep_taxo_path, 'r') as f :\n",
    "        dep_dict_list = json.loads(f.read())\n",
    "    with open(reg_taxo_path, 'r') as f :\n",
    "        reg_dict_list = json.loads(f.read())\n",
    "        \n",
    "    dep_dict = [dict_ for dict_ in dep_dict_list if dict_['dep'] == dep][0]\n",
    "    dep_name = dep_dict['libelle']\n",
    "    reg = dep_dict['reg']\n",
    "    \n",
    "    reg_dict = [dict_ for dict_ in reg_dict_list if dict_['reg'] == reg][0]\n",
    "    reg_name = reg_dict['libelle']\n",
    "    \n",
    "    res = dict(dep=dep,\n",
    "               dep_name=dep_name,\n",
    "               reg=reg,\n",
    "               reg_name=reg_name\n",
    "              )\n",
    "    \n",
    "    return res"
   ]
  },
  {
   "cell_type": "code",
   "execution_count": 4,
   "metadata": {},
   "outputs": [],
   "source": [
    "def get_dep_synthese_data(dep, ovq_synthese_data) :\n",
    "    for dep_dict in ovq_synthese_data :\n",
    "        if dep_dict['dep'] == dep :\n",
    "            res = dep_dict\n",
    "            break\n",
    "    return res"
   ]
  },
  {
   "cell_type": "code",
   "execution_count": 5,
   "metadata": {},
   "outputs": [],
   "source": [
    "def get_dep_indicateur_synthese_data(dep, id_indicateur, ovq_synthese_data) :\n",
    "    dep_dict = get_dep_synthese_data(dep, ovq_synthese_data)\n",
    "    \n",
    "    for ovq_dict in dep_dict['ovq'] :\n",
    "        for ind_dict in ovq_dict['indicateurs'] :\n",
    "            if id_indicateur in ind_dict.keys() :\n",
    "                res = ind_dict[id_indicateur][0]\n",
    "                break\n",
    "    return res"
   ]
  },
  {
   "cell_type": "code",
   "execution_count": 6,
   "metadata": {},
   "outputs": [],
   "source": [
    "def get_indicateur_structure_cible(id_indicateur, structure_cible_data) :\n",
    "    for ovq_dict in structure_cible_data :\n",
    "        for ind_dict in ovq_dict['indicateurs'] :\n",
    "            if ind_dict['id_indicateur_fr'] == id_indicateur :\n",
    "                res = ind_dict\n",
    "                break\n",
    "    return res"
   ]
  },
  {
   "cell_type": "code",
   "execution_count": 7,
   "metadata": {},
   "outputs": [],
   "source": [
    "def get_ovq_structure_cible(id_ovq, structure_cible_data) :\n",
    "    for ovq_dict in structure_cible_data :\n",
    "        if ovq_dict['id_ovq'] == id_ovq :\n",
    "            res = ovq_dict\n",
    "            break\n",
    "    return res"
   ]
  },
  {
   "cell_type": "code",
   "execution_count": 8,
   "metadata": {},
   "outputs": [],
   "source": [
    "def make_pct_bullet_chart(pct, bar_color='#3D49A5', bg_color='#BBBFDF') :\n",
    "    \n",
    "    if pct < 0 : #To improve if inverted bullet chart is possible with plotly\n",
    "        bar_color = '#ED782F'\n",
    "        bg_color = '#ED782F'\n",
    "    \n",
    "    rounded_pct = round(pct)\n",
    "    \n",
    "    fig = go.Figure(go.Indicator(\n",
    "        mode = \"gauge\",\n",
    "        gauge = {'shape': \"bullet\", 'axis': {'visible':False, 'range': [0, 100]}, 'bgcolor':bg_color, 'bordercolor':'white', 'bar':{'thickness':1, 'color':bar_color}},\n",
    "        value = rounded_pct,\n",
    "        number = {'suffix':'%'},\n",
    "        domain = {'x': [0, 1], 'y': [0, 1]}))\n",
    "    \n",
    "    fig.update_layout(height = 400, width=2400, paper_bgcolor='rgba(0,0,0,0)', plot_bgcolor='rgba(0,0,0,0)')\n",
    "\n",
    "    fig.add_annotation(dict(font=dict(color='white',size=100),\n",
    "                                            x=0.05,\n",
    "                                            y=0.5,\n",
    "                                            showarrow=False,\n",
    "                                            text=str(rounded_pct)+'%',\n",
    "                                            textangle=0,\n",
    "                                            xanchor='left',\n",
    "                                            xref=\"paper\",\n",
    "                                            yref=\"paper\"))\n",
    "\n",
    "    return fig"
   ]
  },
  {
   "cell_type": "code",
   "execution_count": 9,
   "metadata": {},
   "outputs": [],
   "source": [
    "months_fr_dict = {\n",
    "    '01':'janvier',\n",
    "    '02':'février',\n",
    "    '03':'mars',\n",
    "    '04':'avril',\n",
    "    '05':'mai',\n",
    "    '06':'juin',\n",
    "    '07':'juillet',\n",
    "    '08':'août',\n",
    "    '09':'septembre',\n",
    "    '10':'octobre',\n",
    "    '11':'novembre',\n",
    "    '12':'décembre'\n",
    "}\n",
    "\n",
    "# yearmonth should be in '2020-01' format\n",
    "\n",
    "def yearmonth_to_fr(yearmonth) :\n",
    "    month = yearmonth[-2:]\n",
    "    year = yearmonth[:4]\n",
    "    \n",
    "    return months_fr_dict[month] + ' ' + year"
   ]
  },
  {
   "cell_type": "code",
   "execution_count": 10,
   "metadata": {},
   "outputs": [],
   "source": [
    "def make_detail_chart(df, chart_type) :\n",
    "    if chart_type == 'histo' :\n",
    "        fig = px.bar(df, x='date', y='value',\n",
    "                         labels={'date':'', 'value':''}, \n",
    "                         height=400,\n",
    "                         width=900,\n",
    "                         color=None,\n",
    "                         orientation='v',\n",
    "                         text=None,\n",
    "                         title=None)\n",
    "        fig.update_layout(showlegend=False)\n",
    "        fig.layout['xaxis'].showgrid = False\n",
    "        fig.update_traces(marker_color='#00AC8C')\n",
    "        fig.update_xaxes(tickangle=-45,\n",
    "                         tickfont=dict(size=8),\n",
    "                         tickmode = 'array',\n",
    "                         tickvals = list(df['date']),\n",
    "                         ticktext= list(df['date_tick']))\n",
    "                        \n",
    "        return fig\n",
    "    \n",
    "    elif chart_type == 'line' :\n",
    "        fig = px.line(df, x='date', y='value',\n",
    "                         labels={'date':'', 'value':''}, \n",
    "                         height=400,\n",
    "                         width=750,\n",
    "                         color=None,\n",
    "                         orientation='v',\n",
    "                         text=None,\n",
    "                         title=None)\n",
    "        fig.update_layout(showlegend=False)\n",
    "        fig.layout['xaxis'].showgrid = False\n",
    "        fig.update_traces(marker=dict(size=12, line=dict(width=2, color='white')), marker_color='#00AC8C', line_color='#00AC8C', line_width=6)\n",
    "        fig.update_xaxes(tickangle=-45,\n",
    "                         tickfont=dict(size=8),\n",
    "                         tickmode = 'array',\n",
    "                         tickvals = list(df['date']),\n",
    "                         ticktext= list(df['date_tick']))\n",
    "        fig.data[0].update(mode='markers+lines')\n",
    "\n",
    "        return fig\n",
    "    \n",
    "    else :\n",
    "        print('Unknown chart type.')\n",
    "        return None"
   ]
  },
  {
   "cell_type": "markdown",
   "metadata": {},
   "source": [
    "## Parameters"
   ]
  },
  {
   "cell_type": "code",
   "execution_count": 11,
   "metadata": {},
   "outputs": [],
   "source": [
    "ovq_data_folder_path = './ovq-data'\n",
    "\n",
    "ovq_synthese_data_path = os.path.join(ovq_data_folder_path, 'prod', 'par_territoire', 'territoire-departemental-global-light.json')\n",
    "ovq_structure_cible_path = os.path.join(ovq_data_folder_path, 'scripts', 'structure-cible.json')\n",
    "ovq_structure_families_path = os.path.join(ovq_data_folder_path, 'scripts', 'structure-families.json')\n",
    "\n",
    "img_dir_path = './img/'\n",
    "reports_dir_path = './reports/'"
   ]
  },
  {
   "cell_type": "code",
   "execution_count": 12,
   "metadata": {},
   "outputs": [],
   "source": [
    "cat_mesures_dict = {\n",
    "    'Transition écologique' : [\"Déployer le plan vélo\",\n",
    "                               \"Mettre en œuvre la sortie du plastique à usage unique et lutter contre le gaspillage\",\n",
    "                               \"Verdir le parc automobile\",\n",
    "                               \"Instaurer des zones à faibles émissions\"\n",
    "                              ],\n",
    "    'Économie - Emploi' : [\"Développer l’apprentissage\",\n",
    "                           \"Plan #1jeune1solution\",\n",
    "                           \"Supprimer la taxe d’habitation sur les résidences principales\",\n",
    "                          ],\n",
    "    'Santé - Famille - Handicap' : [\"Doubler le nombre de maisons de santé\",\n",
    "                                    \"Allonger le congé paternité pour un meilleur développement de l’enfant\",\n",
    "                                    \"Simplifier l’accès aux droits des personnes handicapées\",\n",
    "                                    \"Proposer une offre de lunettes, appareils auditifs et prothèses dentaires remboursée à 100%\"\n",
    "                                   ],\n",
    "    'Logement' : ['Offrir un logement aux sans-abris : Logement d’abord'],\n",
    "    'Éducation' : [\"Offrir une scolarisation inclusive à tous les enfants handicapés\",\n",
    "                   \"Déployer Parcoursup \",\n",
    "                   \"Limiter les classes à 24 en grande section, CP, CE1\",\n",
    "                   \"Dédoubler les classes en REP (grande section, CP, CE1)\"\n",
    "                  ],\n",
    "    'Sécurité' : [\"Lutter contre les stupéfiants\",\n",
    "                  \"Lutter contre les atteintes aux principes républicains\",\n",
    "                  \"Lutter contre les violences faites aux femmes\",\n",
    "                  \"Réduire la mortalité sur les routes\",\n",
    "                  \"Renforcer la sécurité du quotidien\"\n",
    "                 ],\n",
    "    'Culture' : [\"Déployer le Pass culture\"],\n",
    "    'Services publics et territoires' : [\"Assurer une bonne couverture en internet fixe et en téléphonie mobile pour tous les Français d'ici 2022\",\n",
    "                                         \"Déployer une offre France Services dans tous les territoires \",\n",
    "                                         \"Améliorer la qualité du service rendu à l’usager\"\n",
    "                                        ]\n",
    "}"
   ]
  },
  {
   "cell_type": "markdown",
   "metadata": {},
   "source": [
    "## Building parameters from data"
   ]
  },
  {
   "cell_type": "code",
   "execution_count": 13,
   "metadata": {},
   "outputs": [],
   "source": [
    "#Loading OVQ synthese data\n",
    "with open(ovq_synthese_data_path, 'r') as f :\n",
    "    ovq_synthese_data = json.loads(f.read())"
   ]
  },
  {
   "cell_type": "code",
   "execution_count": 14,
   "metadata": {},
   "outputs": [
    {
     "name": "stdout",
     "output_type": "stream",
     "text": [
      "101\n"
     ]
    }
   ],
   "source": [
    "#Departements list\n",
    "dep_list = sorted(list(set([dep_dict['dep'] for dep_dict in ovq_synthese_data])))\n",
    "print(len(dep_list))"
   ]
  },
  {
   "cell_type": "code",
   "execution_count": 15,
   "metadata": {},
   "outputs": [
    {
     "name": "stdout",
     "output_type": "stream",
     "text": [
      "30\n"
     ]
    }
   ],
   "source": [
    "#Indicateurs list\n",
    "id_indicateur_list = []\n",
    "for dep_dict in ovq_synthese_data :\n",
    "    for ovq_dict in dep_dict['ovq'] :\n",
    "        for ind_dict in ovq_dict['indicateurs'] :\n",
    "            id_indicateur_list += list(ind_dict.keys())\n",
    "            \n",
    "id_indicateur_list = list(set(id_indicateur_list))\n",
    "print(len(id_indicateur_list))"
   ]
  },
  {
   "cell_type": "code",
   "execution_count": 16,
   "metadata": {},
   "outputs": [],
   "source": [
    "#Loading structure data\n",
    "\n",
    "with open(ovq_structure_cible_path, 'r') as f :\n",
    "    structure_cible_data = json.loads(f.read())\n",
    "    \n",
    "with open(ovq_structure_families_path, 'r') as f :\n",
    "    structure_families_data = json.loads(f.read())"
   ]
  },
  {
   "cell_type": "markdown",
   "metadata": {},
   "source": [
    "## Making the graphs"
   ]
  },
  {
   "cell_type": "code",
   "execution_count": 17,
   "metadata": {},
   "outputs": [],
   "source": [
    "mkdir_ifnotexist(join(img_dir_path, 'graphs'))"
   ]
  },
  {
   "cell_type": "markdown",
   "metadata": {},
   "source": [
    "### Synthese gauges"
   ]
  },
  {
   "cell_type": "code",
   "execution_count": 18,
   "metadata": {},
   "outputs": [
    {
     "name": "stdout",
     "output_type": "stream",
     "text": [
      "CPU times: user 9.2 s, sys: 770 ms, total: 9.97 s\n",
      "Wall time: 34.9 s\n"
     ]
    }
   ],
   "source": [
    "%%time\n",
    "for dep in dep_list :\n",
    "    for id_indicateur in id_indicateur_list :\n",
    "        data = get_dep_indicateur_synthese_data(dep, id_indicateur, ovq_synthese_data)\n",
    "        pct = data['target_percentage']\n",
    "        \n",
    "        if pct is not None :\n",
    "            fig = make_pct_bullet_chart(pct)\n",
    "\n",
    "            if fig is not None :\n",
    "                img_path = join(img_dir_path, 'graphs', 'bullet_chart-synthese-target_percentage-{}-dep_{}.png'.format(id_indicateur, dep))\n",
    "                fig.write_image(img_path)"
   ]
  },
  {
   "cell_type": "markdown",
   "metadata": {},
   "source": [
    "### Detail graphs"
   ]
  },
  {
   "cell_type": "code",
   "execution_count": 39,
   "metadata": {},
   "outputs": [
    {
     "name": "stdout",
     "output_type": "stream",
     "text": [
      "2021-01-13 18:31:30.900546 - handicap done.\n",
      "2021-01-13 18:32:15.780092 - sante-famille done.\n",
      "2021-01-13 18:32:59.347703 - securite done.\n",
      "2021-01-13 18:33:19.242559 - relance-emploi-economie done.\n",
      "2021-01-13 18:33:39.864309 - education done.\n",
      "2021-01-13 18:34:00.936245 - services-publics-et-territoires done.\n",
      "2021-01-13 18:34:16.492159 - logement done.\n",
      "2021-01-13 18:34:44.947674 - transition-ecologique done.\n",
      "2021-01-13 18:34:51.754319 - jeunesse-culture-engagement done.\n",
      "2021-01-13 18:34:59.498648 - culture done.\n",
      "CPU times: user 2min 21s, sys: 2.46 s, total: 2min 24s\n",
      "Wall time: 3min 42s\n"
     ]
    }
   ],
   "source": [
    "%%time\n",
    "detail_data_folder = os.path.join(ovq_data_folder_path, 'prod', 'par_thematique')\n",
    "\n",
    "for thematique in os.listdir(detail_data_folder) :\n",
    "    if os.path.isdir(os.path.join(detail_data_folder, thematique)) :\n",
    "        for ovq in os.listdir(os.path.join(detail_data_folder, thematique)) :\n",
    "            json_files_list = os.listdir(os.path.join(detail_data_folder, thematique, ovq))\n",
    "\n",
    "            for dep in dep_list :\n",
    "                \n",
    "                #Following indicateur done or not\n",
    "                id_indicateur_done_list = []\n",
    "                \n",
    "                for level in ['departemental', 'regional', 'national'] :\n",
    "                    \n",
    "                    json_filename = [filename for filename in json_files_list if filename.endswith('-{}.json'.format(level))][0]\n",
    "                    json_file_path = os.path.join(detail_data_folder, thematique, ovq, json_filename)\n",
    "\n",
    "                    with open(json_file_path, 'r') as f :\n",
    "                        data = json.loads(f.read())\n",
    "\n",
    "                    if level == 'departemental' :\n",
    "                        for dict_ in data :\n",
    "                            if dict_['dep'] == dep :\n",
    "                                lvl_dict = dict_\n",
    "                                break\n",
    "                    \n",
    "                    elif level == 'regional' :\n",
    "                        reg = get_dep_infos(dep)['reg']\n",
    "                        for dict_ in data :\n",
    "                            if dict_['reg'] == reg :\n",
    "                                lvl_dict = dict_\n",
    "                                break\n",
    "                                \n",
    "                    elif level == 'national' :\n",
    "                        lvl_dict = data[0]\n",
    "\n",
    "                    ovq_indicateur_list = list(lvl_dict['values'].keys())\n",
    "                    \n",
    "                    for id_indicateur in ovq_indicateur_list :\n",
    "                        if (id_indicateur in id_indicateur_list) and (id_indicateur not in id_indicateur_done_list) :\n",
    "                            chart_type = get_indicateur_structure_cible(id_indicateur, structure_cible_data)['odm_chart_type']\n",
    "\n",
    "                            df_ind = pd.DataFrame(lvl_dict[id_indicateur])\n",
    "                            df_ind = df_ind.sort_values('date')\n",
    "                            df_ind['date_tick'] = df_ind['date'].apply(lambda x : yearmonth_to_fr(x[:7]))\n",
    "\n",
    "                            fig = make_detail_chart(df_ind, chart_type)\n",
    "                            img_path = join(img_dir_path, 'graphs', 'graph-detail-{}-dep_{}.png'.format(id_indicateur, dep))\n",
    "\n",
    "                            if fig is not None :\n",
    "                                fig.write_image(img_path)\n",
    "                                \n",
    "                            id_indicateur_done_list += [id_indicateur]\n",
    "\n",
    "        print('{} - {} done.'.format(datetime.datetime.today(), thematique))"
   ]
  },
  {
   "cell_type": "code",
   "execution_count": 36,
   "metadata": {},
   "outputs": [
    {
     "data": {
      "text/plain": [
       "'nb-beneficiaires-siae'"
      ]
     },
     "execution_count": 36,
     "metadata": {},
     "output_type": "execute_result"
    }
   ],
   "source": [
    "id_indicateur"
   ]
  },
  {
   "cell_type": "code",
   "execution_count": 38,
   "metadata": {},
   "outputs": [
    {
     "data": {
      "text/plain": [
       "30"
      ]
     },
     "execution_count": 38,
     "metadata": {},
     "output_type": "execute_result"
    }
   ],
   "source": [
    "len(id_indicateur_list)"
   ]
  },
  {
   "cell_type": "markdown",
   "metadata": {},
   "source": [
    "## Building the reports"
   ]
  },
  {
   "cell_type": "code",
   "execution_count": 40,
   "metadata": {},
   "outputs": [],
   "source": [
    "mkdir_ifnotexist(reports_dir_path)"
   ]
  },
  {
   "cell_type": "code",
   "execution_count": 41,
   "metadata": {},
   "outputs": [],
   "source": [
    "global title_header\n",
    "title_header = ''\n",
    "#global subtitle_header\n",
    "#subtitle_header = ''"
   ]
  },
  {
   "cell_type": "code",
   "execution_count": 42,
   "metadata": {},
   "outputs": [],
   "source": [
    "class PDF(FPDF):\n",
    "    def header(self):\n",
    "        if (self.page_no() != 1 ):\n",
    "            # Logo\n",
    "            self.image(os.path.join(img_dir_path, 'gouv.png'), 10, 8, 45)\n",
    "            # Arial bold 15\n",
    "            self.cell(50)\n",
    "            self.set_font('Arial', 'B', 16)\n",
    "            self.cell(80, 15, title_header, 0, 1, 'A')\n",
    "\n",
    "            # Move to the right\n",
    "            # Title\n",
    "            self.set_font('Arial', 'I', 9)\n",
    "            self.cell(50)\n",
    "            #self.cell(50, 10, subtitle_header+' - aides-entreprises.data.gouv.fr', 0, 1, 'A', link='https://aides-entreprises.data.gouv.fr/')\n",
    "            self.cell(50, 10, 'barometre-resultats.data.gouv.fr', 0, 1, 'A', link='https://barometre-resultats.data.gouv.fr/')\n",
    "            # Line break  \n",
    "            pdf.line(40, 38, 170, 38)\n",
    "            self.ln(7)\n",
    "        \n",
    "    # Page footer\n",
    "    def footer(self):\n",
    "        if (self.page_no() != 1 ):\n",
    "            # Position at 1.5 cm from bottom\n",
    "            self.set_y(-15)\n",
    "            # Arial italic 8\n",
    "            self.set_font('Arial', 'I', 8)\n",
    "            # Page number\n",
    "            \n",
    "            self.cell(0, 10, 'Direction Interministérielle du Numérique (DINUM) - Page ' + str(self.page_no()) + '/{nb}', 0, 0, 'C')\n",
    "            \n",
    "    def chapter_title(self, num, label):\n",
    "        # Arial 12\n",
    "        self.set_font('Arial', '', 12)\n",
    "        # Background color\n",
    "        self.set_fill_color(200, 220, 255)\n",
    "        # Title\n",
    "        self.cell(0, 6, 'Chapter %d : %s' % (num, label), 0, 1, 'L', 1)\n",
    "        # Line break\n",
    "        self.ln(4)\n",
    "    \n",
    "    def chapter_body(self, name):\n",
    "        # Read text file\n",
    "        with open(name, 'rb') as fh:\n",
    "            txt = fh.read().decode('latin-1')\n",
    "        # Times 12\n",
    "        self.set_font('Times', '', 12)\n",
    "        # Output justified text\n",
    "        self.multi_cell(0, 5, txt)\n",
    "        # Line break\n",
    "        self.ln()\n",
    "\n",
    "    def print_chapter(self, num, title, name):\n",
    "        self.add_page()\n",
    "        self.chapter_title(num, title)\n",
    "        self.chapter_body(name)"
   ]
  },
  {
   "cell_type": "code",
   "execution_count": 43,
   "metadata": {},
   "outputs": [],
   "source": [
    "def format_val(val,add):\n",
    "    return '{:,}'.format(int(float(val))).replace(',', ' ')+add"
   ]
  },
  {
   "cell_type": "code",
   "execution_count": 44,
   "metadata": {},
   "outputs": [],
   "source": [
    "def insert_indicateur(pdf, dep, ind_data, ind_struc) :\n",
    "    \n",
    "    #Getting relevant information in data\n",
    "    initial_value = ind_data['initial_value']\n",
    "    initial_value_date = ind_data['initial_value_date']\n",
    "    latest_value = ind_data['latest_value']\n",
    "    latest_value_date = ind_data['latest_value_date']\n",
    "    target_value = ind_data['target']\n",
    "    target_percentage = ind_data['target_percentage']\n",
    "    target_value_date = ind_data['target_date']\n",
    "    progression_percentage = ind_data['progression_percentage']\n",
    "    from_level = ind_data['from_level']\n",
    "    \n",
    "    #Getting relevant information in structure\n",
    "    id_indicateur = ind_struc['id_indicateur_fr']\n",
    "    nom_indicateur = ind_struc['nom_indicateur'].replace('’', \"'\")\n",
    "    odm_text = ind_struc['odm_text']\n",
    "    kpi_format = ind_struc['odm_kpi_format']\n",
    "    kpi_unit = ind_struc['odm_kpi_unit']\n",
    "    chart_unit = ind_struc['odm_chart_unit']\n",
    "    to_round = ind_struc['toRound']\n",
    "    \n",
    "    if to_round is not None :\n",
    "        if initial_value is not None :\n",
    "            initial_value = round(initial_value, to_round)\n",
    "        if latest_value is not None :\n",
    "            latest_value = round(latest_value, to_round)\n",
    "        if target_value is not None :\n",
    "            target_value = round(target_value, to_round)\n",
    "    \n",
    "    #Initializing blocks parameters\n",
    "    nb_blocks = 1\n",
    "    ini_block = False\n",
    "    tar_block = False\n",
    "    \n",
    "    #Current value (always present)\n",
    "    latest_value_date_str = yearmonth_to_fr(latest_value_date[:7])\n",
    "    latest_value_str = str(latest_value).replace('.',',')\n",
    "    \n",
    "    #Insert initial block if init value exists\n",
    "    if initial_value is not None :\n",
    "        initial_value_date_str = yearmonth_to_fr(initial_value_date[:7])\n",
    "        initial_value_str = str(initial_value).replace('.',',')\n",
    "        nb_blocks += 1\n",
    "        ini_block = True\n",
    "        \n",
    "    #Insert target block if target value exists\n",
    "    if target_value is not None :\n",
    "        target_value_date_str = yearmonth_to_fr(target_value_date[:7])\n",
    "        target_value_str = str(target_value).replace('.',',')\n",
    "        nb_blocks += 1\n",
    "        tar_block = True\n",
    "        \n",
    "    #Blocks settings depending on existing data\n",
    "    block_spacing = 5\n",
    "    block_width = (190 - (nb_blocks-1)*block_spacing)/nb_blocks\n",
    "    \n",
    "    #INDICATOR DISPLAY\n",
    "    \n",
    "    #Indicator title\n",
    "    pdf.set_text_color(0,0,0)\n",
    "    pdf.set_font('Arial', 'B', 12)\n",
    "    pdf.multi_cell(190, 8, 'Indicateur : '+ nom_indicateur, align='L')\n",
    "    pdf.ln(5)\n",
    "    \n",
    "    #Information section\n",
    "    y_info_top = pdf.get_y()\n",
    "    info_img_size = 7\n",
    "    \n",
    "    pdf.set_fill_color(83,101,125)\n",
    "    pdf.rect(20,y_info_top,180,14,'F')\n",
    "    pdf.image(os.path.join(img_dir_path, 'information.png'), x=10, y=y_info_top+info_img_size/2, w=info_img_size)\n",
    "    pdf.set_font('Arial', 'I', 7)\n",
    "    pdf.set_text_color(255,255,255)\n",
    "    pdf.cell(10)\n",
    "    pdf.multi_cell(100, 5, txt=\"INFO\")\n",
    "    pdf.ln(12)\n",
    "    \n",
    "    #Data geo level indication\n",
    "    if from_level == 'dep' :\n",
    "        from_level_str = \"Les résultats pour le département : \" + get_dep_infos(dep)['dep_name']\n",
    "    elif from_level == 'reg' :\n",
    "        from_level_str = \"Les résultats pour la région : \" + get_dep_infos(dep)['reg_name']\n",
    "    elif from_level == 'nat' :\n",
    "        from_level_str = \"Les résultats pour la France\"\n",
    "    \n",
    "    pdf.set_text_color(0,0,0)\n",
    "    pdf.set_font('Arial', '', 10)\n",
    "    pdf.set_fill_color(245,245,245);\n",
    "    pdf.cell(190, 8, from_level_str, 0, 2, 'L', fill=True)\n",
    "    pdf.ln(3)\n",
    "    \n",
    "    #Indicator blocks\n",
    "    \n",
    "    y_blocks_top = pdf.get_y()\n",
    "    x_blocks_left = pdf.get_x()\n",
    "    \n",
    "    #Initial value block\n",
    "    if ini_block == True :\n",
    "        pdf.set_fill_color(253, 244, 242)\n",
    "        pdf.set_font('Arial', '', 8)\n",
    "        pdf.cell(block_width, 8, 'En {}'.format(initial_value_date_str), 0, 1, 'L', fill=True)\n",
    "        pdf.set_fill_color(254, 249, 248)\n",
    "        pdf.set_font('Arial', 'B', 20)\n",
    "        pdf.cell(block_width, 10, initial_value_str, 0, 1, 'L', fill=True)\n",
    "        pdf.set_font('Arial', '', 10)\n",
    "        pdf.cell(block_width, 3, kpi_unit, 0, 1, 'L', fill=True)\n",
    "        pdf.cell(block_width, 10, '', 0, 1, 'L', fill=True)\n",
    "    \n",
    "    #Current value block (always here)\n",
    "    if nb_blocks > 1 :\n",
    "        pdf.set_xy(block_width + pdf.l_margin + block_spacing, y_blocks_top)\n",
    "    pdf.set_fill_color(234, 244, 239)\n",
    "    pdf.set_font('Arial', '', 8)\n",
    "    pdf.cell(block_width, 8, 'En {}'.format(latest_value_date_str), 0, 2, 'L', fill=True)\n",
    "    pdf.set_fill_color(244, 250, 247)\n",
    "    pdf.set_font('Arial', 'B', 20)\n",
    "    pdf.cell(block_width, 10, latest_value_str, 0, 2, 'L', fill=True)\n",
    "    pdf.set_font('Arial', '', 10)\n",
    "    pdf.cell(block_width, 3, kpi_unit, 0, 2, 'L', fill=True)\n",
    "    pdf.cell(block_width, 10, '', 0, 2, 'L', fill=True)\n",
    "    \n",
    "    #Target value block\n",
    "    if tar_block == True :\n",
    "        if nb_blocks == 2 :\n",
    "            pdf.set_xy(block_width + pdf.l_margin + block_spacing, y_blocks_top)\n",
    "        elif nb_blocks == 3 :\n",
    "            pdf.set_xy(2*block_width + pdf.l_margin + 2*block_spacing, y_blocks_top)\n",
    "            \n",
    "        pdf.set_fill_color(229, 229, 243)\n",
    "        pdf.set_font('Arial', '', 8)\n",
    "        pdf.cell(block_width, 8, 'Cible {}'.format(target_value_date_str), 0, 2, 'L', fill=True)\n",
    "        pdf.set_fill_color(242, 242, 248)\n",
    "        pdf.set_font('Arial', 'B', 20)\n",
    "        pdf.cell(block_width, 10, target_value_str, 0, 2, 'L', fill=True)\n",
    "        pdf.set_font('Arial', '', 10)\n",
    "        pdf.cell(block_width, 3, kpi_unit, 0, 2, 'L', fill=True)\n",
    "        \n",
    "        #Inserting bullet chart (prog %)\n",
    "        block_left_x = pdf.get_x()\n",
    "        block_bottom_y = pdf.get_y()\n",
    "        pdf.cell(block_width, 10, '', 0, 2, 'L', fill=True)\n",
    "        bullet_chart_width = 60\n",
    "        pdf.set_xy(block_left_x + block_width/2 - bullet_chart_width/2, block_bottom_y)\n",
    "        prog_img_path = join(img_dir_path, 'graphs', 'bullet_chart-synthese-target_percentage-{}-dep_{}.png'.format(id_indicateur, dep))\n",
    "        pdf.image(prog_img_path, w=bullet_chart_width)\n",
    "    \n",
    "    #CHART DISPLAY\n",
    "    try :\n",
    "        pdf.set_x(x_blocks_left)\n",
    "        chart_width = 120\n",
    "        chart_img_path = join(img_dir_path, 'graphs', 'graph-detail-{}-dep_{}.png'.format(id_indicateur, dep))\n",
    "        pdf.image(chart_img_path, w=chart_width, x=x_blocks_left + 190/2 - chart_width/2)\n",
    "\n",
    "        pdf.set_font('Arial', 'I', 8)\n",
    "        pdf.cell(190, 8, 'Unité : {}'.format(kpi_unit), 0, 2, 'C')\n",
    "    except :\n",
    "        print('No chart found for {}'.format(id_indicateur))\n",
    "\n",
    "    return pdf"
   ]
  },
  {
   "cell_type": "code",
   "execution_count": 50,
   "metadata": {},
   "outputs": [
    {
     "name": "stdout",
     "output_type": "stream",
     "text": [
      "No structure cible for OVQ-EAC\n",
      "No structure cible for OVQ-REL\n",
      "2021-01-13 18:46:42.164093 - 01 done.\n",
      "CPU times: user 23.4 s, sys: 8.07 s, total: 31.4 s\n",
      "Wall time: 31.5 s\n"
     ]
    }
   ],
   "source": [
    "%%time\n",
    "\n",
    "mkdir_ifnotexist(os.path.join(reports_dir_path, 'pdf'))\n",
    "\n",
    "for dep in ['01']:\n",
    "    \n",
    "    pdf = PDF()\n",
    "    pdf.alias_nb_pages()\n",
    "    pdf.add_page()\n",
    "\n",
    "    #Logos\n",
    "    pdf.image(os.path.join(img_dir_path, 'gouv.png'), 10, 8, 125)\n",
    "    \n",
    "    # Arial bold 15\n",
    "    pdf.set_font('Arial', 'B', 28)\n",
    "    # Move to the right\n",
    "    pdf.cell(50)\n",
    "    pdf.ln(100)\n",
    "    \n",
    "    # Title\n",
    "    pdf.cell(10)\n",
    "    pdf.cell(50, 10, 'BAROMÈTRE DES RÉSULTATS DE', 0, 1, 'A')\n",
    "    pdf.ln(10)\n",
    "    pdf.cell(10)\n",
    "    pdf.cell(50, 10, \"L'ACTION PUBLIQUE\", 0, 1, 'A')\n",
    "    pdf.ln(10)\n",
    "    pdf.cell(60)\n",
    "\n",
    "    pdf.set_font('Arial', 'I', 20)\n",
    "    pdf.ln(10)\n",
    "    pdf.cell(10)\n",
    "    pdf.cell(50, 10, 'Présentation des résultats pour le département :', 0, 1, 'A')\n",
    "    pdf.ln(10)\n",
    "    pdf.cell(10)\n",
    "    pdf.cell(50, 10, dep + ' - ' + get_dep_infos(dep)['dep_name'], 0, 1, 'A')\n",
    "    pdf.ln(70)\n",
    "\n",
    "    pdf.set_font('Arial', 'I', 8)\n",
    "\n",
    "    pdf.cell(10)\n",
    "    pdf.cell(50, 10, \"Données issues du baromètre des résultats consultable sur https://barometre-resultats.data.gouv.fr/\", 0, 1, 'A')\n",
    "    \n",
    "    #Indicateurs\n",
    "    \n",
    "    #subtitle_header = find_last_update('aides')\n",
    "    \n",
    "    for thematique_dict in structure_families_data :\n",
    "    \n",
    "        thematique = thematique_dict['nom_ovq']\n",
    "        title_header = thematique.upper()\n",
    "\n",
    "        id_ovq_list = thematique_dict['id_ovq']\n",
    "        for id_ovq in id_ovq_list :\n",
    "            try :\n",
    "                pdf.add_page()\n",
    "                ovq_dict = get_ovq_structure_cible(id_ovq, structure_cible_data)\n",
    "                nom_ovq = ovq_dict['nom_ovq'].replace('’', \"'\").replace('œ','oe')\n",
    "                pdf.set_font('Arial', 'B', 14)\n",
    "                pdf.multi_cell(190, 8, nom_ovq, align='L')\n",
    "                #Get Txt info OVQ\n",
    "\n",
    "                ovq_id_indicateur_list = [ind_dict['id_indicateur_fr'] for ind_dict in ovq_dict['indicateurs']]\n",
    "\n",
    "                add_page_for_ind = False\n",
    "                for id_indicateur in ovq_id_indicateur_list :\n",
    "                    if add_page_for_ind == True :\n",
    "                        pdf.add_page()\n",
    "                    ind_data = get_dep_indicateur_synthese_data(dep, id_indicateur, ovq_synthese_data)\n",
    "                    ind_struc = get_indicateur_structure_cible(id_indicateur, structure_cible_data)\n",
    "\n",
    "                    pdf = insert_indicateur(pdf, dep, ind_data, ind_struc)\n",
    "                    add_page_for_ind = True\n",
    "            except :\n",
    "                print('No structure cible for {}'.format(id_ovq))\n",
    "    \n",
    "    pdf.output(os.path.join(reports_dir_path, 'pdf', 'Baromètre_résultats_'+dep+'.pdf'), 'F')\n",
    "    \n",
    "    print(str(datetime.datetime.today()) + ' - ' + dep + ' done.')"
   ]
  }
 ],
 "metadata": {
  "kernelspec": {
   "display_name": "Python 3",
   "language": "python",
   "name": "python3"
  },
  "language_info": {
   "codemirror_mode": {
    "name": "ipython",
    "version": 3
   },
   "file_extension": ".py",
   "mimetype": "text/x-python",
   "name": "python",
   "nbconvert_exporter": "python",
   "pygments_lexer": "ipython3",
   "version": "3.8.7"
  }
 },
 "nbformat": 4,
 "nbformat_minor": 4
}
